{
 "cells": [
  {
   "cell_type": "code",
   "execution_count": 9,
   "id": "initial_id",
   "metadata": {
    "collapsed": true,
    "ExecuteTime": {
     "end_time": "2024-02-08T11:10:18.221159944Z",
     "start_time": "2024-02-08T11:10:18.179703748Z"
    }
   },
   "outputs": [],
   "source": [
    "import pandas as pd\n",
    "from sklearn.preprocessing import MaxAbsScaler, PolynomialFeatures\n",
    "\n",
    "# read datasets\n",
    "train_df = pd.read_csv('data/train.csv')\n",
    "test_df = pd.read_csv('data/test.csv')\n",
    "\n",
    "y1_name, y2_name, y3_name = \"dir_costs\", \"traffic_costs_s_r\", \"lost_trips_costs_s_r\"\n",
    "train_y1, train_y2, train_y3 = train_df[y1_name], train_df[y2_name], train_df[y3_name]\n",
    "test_y1, test_y2, test_y3 = test_df[y1_name], test_df[y2_name], test_df[y3_name]\n",
    "\n",
    "# scale features\n",
    "X_train = train_df.drop(columns=[y1_name, y2_name, y3_name])\n",
    "scaler = MaxAbsScaler()\n",
    "scaler.fit(X_train)\n",
    "X_train = scaler.transform(X_train)\n",
    "\n",
    "X_test = test_df.drop(columns=[y1_name, y2_name, y3_name])\n",
    "X_test = scaler.transform(X_test)\n",
    "\n",
    "poly = PolynomialFeatures(2)\n",
    "X_train = poly.fit_transform(X_train)\n",
    "X_test = poly.fit_transform(X_test)"
   ]
  },
  {
   "cell_type": "markdown",
   "source": [
    "<h2> Pick arbitrary sigma</h2>"
   ],
   "metadata": {
    "collapsed": false
   },
   "id": "e3769c0ee07ddac8"
  },
  {
   "cell_type": "code",
   "outputs": [
    {
     "name": "stdout",
     "output_type": "stream",
     "text": [
      "------ test metrics ------\n",
      "Mean Squared Error (MSE):              47066930776505.5078125000\n",
      "Root Mean Squared Error (RMSE):        6860534.2923496496\n",
      "Mean Absolute Error (MAE):             4595667.3633589875\n",
      "R-squared (R²):                        0.7554055734\n",
      "Mean Absolute Percentage Error (MAPE): 0.1151678102\n",
      "Max Error (ME):                        30258513.5044571832\n",
      "Median Absolute Error (MedAE):         3018097.9248453975\n"
     ]
    }
   ],
   "source": [
    "from GRNN import GRNN\n",
    "from metrics import print_metrics\n",
    "\n",
    "grnn_y1 = GRNN(sigma=0.1)\n",
    "grnn_y1.fit(X_train, train_y1)\n",
    "\n",
    "print(\"------ test metrics ------\")\n",
    "print_metrics(test_y1, grnn_y1.predict(X_test))"
   ],
   "metadata": {
    "collapsed": false,
    "ExecuteTime": {
     "end_time": "2024-02-08T11:10:23.766893353Z",
     "start_time": "2024-02-08T11:10:20.172747970Z"
    }
   },
   "id": "40fb70d7961c2ab7",
   "execution_count": 10
  },
  {
   "cell_type": "markdown",
   "source": [
    "<h2> Use differential evolution to pick optimal sigma <h2>"
   ],
   "metadata": {
    "collapsed": false
   },
   "id": "ac43833c45682e22"
  },
  {
   "cell_type": "code",
   "outputs": [],
   "source": [
    "from sklearn.metrics import r2_score\n",
    "from scipy.optimize import differential_evolution\n",
    "\n",
    "def objective_function(sigma, train_X, train_y, test_X, test_y):\n",
    "    grnn = GRNN(sigma=sigma[0])\n",
    "    grnn.fit(train_X, train_y)\n",
    "    pred_y = grnn.predict(test_X)\n",
    "    r2 = r2_score(test_y, pred_y)\n",
    "    return -r2"
   ],
   "metadata": {
    "collapsed": false,
    "ExecuteTime": {
     "end_time": "2024-02-08T11:10:31.383556286Z",
     "start_time": "2024-02-08T11:10:31.376662303Z"
    }
   },
   "id": "ea4457e1db7bcad3",
   "execution_count": 11
  },
  {
   "cell_type": "markdown",
   "source": [
    "<h1> Y1 </h1>"
   ],
   "metadata": {
    "collapsed": false
   },
   "id": "5054801f547d6703"
  },
  {
   "cell_type": "code",
   "outputs": [
    {
     "name": "stdout",
     "output_type": "stream",
     "text": [
      "differential_evolution step 1: f(x)= -0.785922\n",
      "differential_evolution step 2: f(x)= -0.785922\n",
      "differential_evolution step 3: f(x)= -0.785922\n",
      "differential_evolution step 4: f(x)= -0.785922\n",
      "differential_evolution step 5: f(x)= -0.785922\n",
      "differential_evolution step 6: f(x)= -0.785922\n",
      "differential_evolution step 7: f(x)= -0.785922\n",
      "differential_evolution step 8: f(x)= -0.785922\n",
      "differential_evolution step 9: f(x)= -0.785986\n",
      "differential_evolution step 10: f(x)= -0.785986\n",
      "differential_evolution step 11: f(x)= -0.786032\n",
      "differential_evolution step 12: f(x)= -0.786032\n",
      "differential_evolution step 13: f(x)= -0.786034\n",
      "differential_evolution step 14: f(x)= -0.786034\n",
      "differential_evolution step 15: f(x)= -0.786034\n",
      "differential_evolution step 16: f(x)= -0.786034\n",
      "differential_evolution step 17: f(x)= -0.786034\n",
      "differential_evolution step 18: f(x)= -0.786034\n",
      "differential_evolution step 19: f(x)= -0.786034\n",
      "Polishing solution with 'L-BFGS-B'\n",
      " message: Optimization terminated successfully.\n",
      " success: True\n",
      "     fun: -0.7860344830669863\n",
      "       x: [ 1.500e-01]\n",
      "     nit: 19\n",
      "    nfev: 306\n",
      "     jac: [ 1.110e-07]\n",
      "Optimal sigma_y1: 0.150015603\n"
     ]
    }
   ],
   "source": [
    "optimization_res = differential_evolution(func=objective_function, \n",
    "                                          bounds=[(0, 10)], \n",
    "                                          updating='deferred', \n",
    "                                          workers=10,\n",
    "                                          disp=True,\n",
    "                                          tol=0.0000001,\n",
    "                                          atol=0.0000001,\n",
    "                                          args=(X_train, train_y1, X_test, test_y1))\n",
    "print(optimization_res)\n",
    "print(\"Optimal sigma_y1: {:.{}f}\".format(optimization_res.x[0], 9))"
   ],
   "metadata": {
    "collapsed": false,
    "ExecuteTime": {
     "end_time": "2024-02-08T11:16:18.358738401Z",
     "start_time": "2024-02-08T11:10:47.898680261Z"
    }
   },
   "id": "8efeb40a90091da4",
   "execution_count": 13
  },
  {
   "cell_type": "code",
   "outputs": [
    {
     "name": "stdout",
     "output_type": "stream",
     "text": [
      "------ test metrics ------\n",
      "Mean Squared Error (MSE):              41173056622046.2421875000\n",
      "Root Mean Squared Error (RMSE):        6416623.4595810780\n",
      "Mean Absolute Error (MAE):             4303056.7980895601\n",
      "R-squared (R²):                        0.7860344831\n",
      "Mean Absolute Percentage Error (MAPE): 0.1100113465\n",
      "Max Error (ME):                        28623382.3479329757\n",
      "Median Absolute Error (MedAE):         2819187.6176807359\n"
     ]
    }
   ],
   "source": [
    "from GRNN import GRNN\n",
    "from metrics import print_metrics\n",
    "\n",
    "grnn_y1 = GRNN(sigma=0.150015599)\n",
    "grnn_y1.fit(X_train, train_y1)\n",
    "\n",
    "print(\"------ test metrics ------\")\n",
    "print_metrics(test_y1, grnn_y1.predict(X_test))"
   ],
   "metadata": {
    "collapsed": false,
    "ExecuteTime": {
     "end_time": "2024-02-08T11:10:39.820770325Z",
     "start_time": "2024-02-08T11:10:35.978589530Z"
    }
   },
   "id": "a0d8dcd2bbdcacc3",
   "execution_count": 12
  },
  {
   "cell_type": "markdown",
   "source": [
    "<h1> Y2 </h1>"
   ],
   "metadata": {
    "collapsed": false
   },
   "id": "b7cd105a25b87944"
  },
  {
   "cell_type": "code",
   "outputs": [
    {
     "name": "stdout",
     "output_type": "stream",
     "text": [
      "differential_evolution step 1: f(x)= -0.607447\n",
      "differential_evolution step 2: f(x)= -0.607447\n",
      "differential_evolution step 3: f(x)= -0.665792\n",
      "differential_evolution step 4: f(x)= -0.665792\n",
      "differential_evolution step 5: f(x)= -0.695125\n",
      "differential_evolution step 6: f(x)= -0.695125\n",
      "differential_evolution step 7: f(x)= -0.69875\n",
      "differential_evolution step 8: f(x)= -0.698834\n",
      "differential_evolution step 9: f(x)= -0.698835\n",
      "differential_evolution step 10: f(x)= -0.698835\n",
      "differential_evolution step 11: f(x)= -0.698835\n",
      "differential_evolution step 12: f(x)= -0.698836\n",
      "differential_evolution step 13: f(x)= -0.698836\n",
      "differential_evolution step 14: f(x)= -0.698836\n",
      "differential_evolution step 15: f(x)= -0.698836\n",
      "differential_evolution step 16: f(x)= -0.698836\n",
      "differential_evolution step 17: f(x)= -0.698836\n",
      "Polishing solution with 'L-BFGS-B'\n",
      " message: Optimization terminated successfully.\n",
      " success: True\n",
      "     fun: -0.6988358742197669\n",
      "       x: [ 1.430e-01]\n",
      "     nit: 17\n",
      "    nfev: 276\n",
      "     jac: [ 4.441e-08]\n",
      "Optimal sigma_y1: 0.143009114\n"
     ]
    }
   ],
   "source": [
    "optimization_res = differential_evolution(func=objective_function, \n",
    "                                          bounds=[(0, 10)], \n",
    "                                          updating='deferred', \n",
    "                                          workers=10,\n",
    "                                          disp=True,\n",
    "                                          tol=0.0000001,\n",
    "                                          atol=0.0000001,\n",
    "                                          args=(X_train, train_y2, X_test, test_y2))\n",
    "print(optimization_res)\n",
    "print(\"Optimal sigma_y1: {:.{}f}\".format(optimization_res.x[0], 9))"
   ],
   "metadata": {
    "collapsed": false,
    "ExecuteTime": {
     "end_time": "2024-02-08T11:23:50.923974038Z",
     "start_time": "2024-02-08T11:16:18.357756986Z"
    }
   },
   "id": "6aa26db5d75ee315",
   "execution_count": 14
  },
  {
   "cell_type": "code",
   "outputs": [
    {
     "name": "stdout",
     "output_type": "stream",
     "text": [
      "------ test metrics ------\n",
      "Mean Squared Error (MSE):              69317590701024.6953125000\n",
      "Root Mean Squared Error (RMSE):        8325718.6297054682\n",
      "Mean Absolute Error (MAE):             4477929.7778973533\n",
      "R-squared (R²):                        0.6988358742\n",
      "Mean Absolute Percentage Error (MAPE): 1.5812035759\n",
      "Max Error (ME):                        84574949.1043456942\n",
      "Median Absolute Error (MedAE):         2575372.8375505344\n"
     ]
    }
   ],
   "source": [
    "from GRNN import GRNN\n",
    "from metrics import print_metrics\n",
    "\n",
    "grnn_y2 = GRNN(sigma=0.143009114)\n",
    "grnn_y2.fit(X_train, train_y2)\n",
    "\n",
    "print(\"------ test metrics ------\")\n",
    "print_metrics(test_y2, grnn_y2.predict(X_test))"
   ],
   "metadata": {
    "collapsed": false,
    "ExecuteTime": {
     "end_time": "2024-02-08T11:24:12.038523878Z",
     "start_time": "2024-02-08T11:24:06.482656019Z"
    }
   },
   "id": "20ec543a0996a299",
   "execution_count": 15
  },
  {
   "cell_type": "markdown",
   "source": [
    "<h1> Y3 </h1>"
   ],
   "metadata": {
    "collapsed": false
   },
   "id": "6fd7d118853bf38f"
  },
  {
   "cell_type": "code",
   "outputs": [
    {
     "name": "stdout",
     "output_type": "stream",
     "text": [
      "differential_evolution step 1: f(x)= -0.381347\n",
      "differential_evolution step 2: f(x)= -0.381347\n",
      "differential_evolution step 3: f(x)= -0.492251\n",
      "differential_evolution step 4: f(x)= -0.492251\n",
      "differential_evolution step 5: f(x)= -0.520843\n",
      "differential_evolution step 6: f(x)= -0.520843\n",
      "differential_evolution step 7: f(x)= -0.520843\n",
      "differential_evolution step 8: f(x)= -0.520843\n",
      "differential_evolution step 9: f(x)= -0.520868\n",
      "differential_evolution step 10: f(x)= -0.520868\n",
      "differential_evolution step 11: f(x)= -0.520886\n",
      "differential_evolution step 12: f(x)= -0.520886\n",
      "differential_evolution step 13: f(x)= -0.520887\n",
      "differential_evolution step 14: f(x)= -0.520887\n",
      "differential_evolution step 15: f(x)= -0.520887\n",
      "differential_evolution step 16: f(x)= -0.520887\n",
      "differential_evolution step 17: f(x)= -0.520887\n",
      "differential_evolution step 18: f(x)= -0.520887\n",
      "differential_evolution step 19: f(x)= -0.520887\n",
      "differential_evolution step 20: f(x)= -0.520887\n",
      "Polishing solution with 'L-BFGS-B'\n",
      " message: Optimization terminated successfully.\n",
      " success: True\n",
      "     fun: -0.5208870666002994\n",
      "       x: [ 1.883e-01]\n",
      "     nit: 20\n",
      "    nfev: 321\n",
      "     jac: [-6.661e-08]\n",
      "Optimal sigma_y1: 0.188288640\n"
     ]
    }
   ],
   "source": [
    "optimization_res = differential_evolution(func=objective_function, \n",
    "                                          bounds=[(0, 10)], \n",
    "                                          updating='deferred', \n",
    "                                          workers=10,\n",
    "                                          disp=True,\n",
    "                                          tol=0.0000001,\n",
    "                                          atol=0.0000001,\n",
    "                                          args=(X_train, train_y3, X_test, test_y3))\n",
    "print(optimization_res)\n",
    "print(\"Optimal sigma_y1: {:.{}f}\".format(optimization_res.x[0], 9))"
   ],
   "metadata": {
    "collapsed": false,
    "ExecuteTime": {
     "end_time": "2024-02-08T11:32:52.160982599Z",
     "start_time": "2024-02-08T11:24:44.950651114Z"
    }
   },
   "id": "41272d2438d8cf27",
   "execution_count": 16
  },
  {
   "cell_type": "code",
   "outputs": [],
   "source": [
    "from GRNN import GRNN\n",
    "from metrics import print_metrics\n",
    "\n",
    "grnn_y3 = GRNN(sigma=0.150015599)\n",
    "grnn_y3.fit(X_train, train_y3)\n",
    "\n",
    "print(\"------ test metrics ------\")\n",
    "print_metrics(test_y3, grnn_y3.predict(X_test))"
   ],
   "metadata": {
    "collapsed": false
   },
   "id": "29818ada94daef11"
  }
 ],
 "metadata": {
  "kernelspec": {
   "display_name": "Python 3",
   "language": "python",
   "name": "python3"
  },
  "language_info": {
   "codemirror_mode": {
    "name": "ipython",
    "version": 2
   },
   "file_extension": ".py",
   "mimetype": "text/x-python",
   "name": "python",
   "nbconvert_exporter": "python",
   "pygments_lexer": "ipython2",
   "version": "2.7.6"
  }
 },
 "nbformat": 4,
 "nbformat_minor": 5
}
