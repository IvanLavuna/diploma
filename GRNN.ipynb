{
 "cells": [
  {
   "cell_type": "code",
   "outputs": [],
   "source": [
    "import pandas as pd\n",
    "from sklearn.preprocessing import MaxAbsScaler\n",
    "\n",
    "# read datasets\n",
    "train_df = pd.read_csv('data/train2.csv')\n",
    "test_df = pd.read_csv('data/test2.csv')\n",
    "\n",
    "y1_name, y2_name, y3_name = \"dir_costs\", \"traffic_costs_s_r\", \"lost_trips_costs_s_r\"\n",
    "train_y1, train_y2, train_y3 = train_df[y1_name], train_df[y2_name], train_df[y3_name]\n",
    "test_y1, test_y2, test_y3 = test_df[y1_name], test_df[y2_name], test_df[y3_name]\n",
    "\n",
    "# scale features\n",
    "X_train = train_df.drop(columns=[y1_name, y2_name, y3_name])\n",
    "scaler = MaxAbsScaler()\n",
    "scaler.fit(X_train)\n",
    "X_train_scaled = scaler.transform(X_train)\n",
    "\n",
    "X_test = test_df.drop(columns=[y1_name, y2_name, y3_name])\n",
    "X_test_scaled = scaler.transform(X_test)\n"
   ],
   "metadata": {
    "collapsed": false,
    "ExecuteTime": {
     "end_time": "2024-02-08T11:40:23.480440414Z",
     "start_time": "2024-02-08T11:40:22.865784145Z"
    }
   },
   "id": "fdd54f61bb2fdd4c",
   "execution_count": 1
  },
  {
   "cell_type": "markdown",
   "source": [
    "<h2> Pick arbitrary sigma</h2>"
   ],
   "metadata": {
    "collapsed": false
   },
   "id": "412183079f0f03a"
  },
  {
   "cell_type": "code",
   "outputs": [
    {
     "name": "stdout",
     "output_type": "stream",
     "text": [
      "------ test metrics ------\n",
      "Mean Squared Error (MSE):              63742646669581.4765625000\n",
      "Root Mean Squared Error (RMSE):        7983899.2146432735\n",
      "Mean Absolute Error (MAE):             5571384.4635659913\n",
      "R-squared (R²):                        0.6810155400\n",
      "Mean Absolute Percentage Error (MAPE): 0.1479991331\n",
      "Max Error (ME):                        35165377.4447595924\n",
      "Median Absolute Error (MedAE):         3873115.1668858230\n"
     ]
    }
   ],
   "source": [
    "from GRNN import GRNN\n",
    "from metrics import print_metrics\n",
    "\n",
    "grnn_y1 = GRNN(sigma=0.1)\n",
    "grnn_y1.fit(X_train_scaled, train_y1)\n",
    "\n",
    "print(\"------ test metrics ------\")\n",
    "print_metrics(test_y1, grnn_y1.predict(X_test_scaled))\n"
   ],
   "metadata": {
    "collapsed": false,
    "ExecuteTime": {
     "end_time": "2024-02-08T11:40:31.385831432Z",
     "start_time": "2024-02-08T11:40:28.943280803Z"
    }
   },
   "id": "b3a487958b7bc4d8",
   "execution_count": 2
  },
  {
   "cell_type": "markdown",
   "source": [
    "<h2> Use differential evolution to pick optimal sigma <h2>"
   ],
   "metadata": {
    "collapsed": false
   },
   "id": "6e1f8c6704452e2f"
  },
  {
   "cell_type": "code",
   "outputs": [],
   "source": [
    "from sklearn.metrics import r2_score\n",
    "from scipy.optimize import differential_evolution\n",
    "\n",
    "def objective_function(sigma, train_X, train_y, test_X, test_y):\n",
    "    grnn = GRNN(sigma=sigma[0])\n",
    "    grnn.fit(train_X, train_y)\n",
    "    pred_y = grnn.predict(test_X)\n",
    "    r2 = r2_score(test_y, pred_y)\n",
    "    return -r2"
   ],
   "metadata": {
    "collapsed": false,
    "ExecuteTime": {
     "end_time": "2024-02-08T11:40:36.779091812Z",
     "start_time": "2024-02-08T11:40:36.756333618Z"
    }
   },
   "id": "6f66bed2f39eca86",
   "execution_count": 3
  },
  {
   "cell_type": "markdown",
   "source": [
    "<h1> Y1 </h1>"
   ],
   "metadata": {
    "collapsed": false
   },
   "id": "d23bb57351e50a30"
  },
  {
   "cell_type": "code",
   "outputs": [
    {
     "name": "stdout",
     "output_type": "stream",
     "text": [
      "differential_evolution step 1: f(x)= -0.632792\n",
      "differential_evolution step 2: f(x)= -0.632792\n",
      "differential_evolution step 3: f(x)= -0.632792\n",
      "differential_evolution step 4: f(x)= -0.681187\n",
      "differential_evolution step 5: f(x)= -0.681187\n",
      "differential_evolution step 6: f(x)= -0.681187\n",
      "differential_evolution step 7: f(x)= -0.681187\n",
      "differential_evolution step 8: f(x)= -0.681187\n",
      "differential_evolution step 9: f(x)= -0.681187\n",
      "differential_evolution step 10: f(x)= -0.681187\n",
      "differential_evolution step 11: f(x)= -0.681187\n",
      "differential_evolution step 12: f(x)= -0.681187\n",
      "differential_evolution step 13: f(x)= -0.681187\n",
      "differential_evolution step 14: f(x)= -0.681187\n",
      "differential_evolution step 15: f(x)= -0.681188\n",
      "differential_evolution step 16: f(x)= -0.681188\n",
      "differential_evolution step 17: f(x)= -0.681188\n",
      "differential_evolution step 18: f(x)= -0.681188\n",
      "differential_evolution step 19: f(x)= -0.681188\n",
      "differential_evolution step 20: f(x)= -0.681188\n",
      "differential_evolution step 21: f(x)= -0.681188\n",
      "Polishing solution with 'L-BFGS-B'\n",
      " message: Optimization terminated successfully.\n",
      " success: True\n",
      "     fun: -0.6811879810396554\n",
      "       x: [ 9.718e-02]\n",
      "     nit: 21\n",
      "    nfev: 336\n",
      "     jac: [ 2.776e-07]\n",
      "Optimal sigma_y1: 0.097183859\n"
     ]
    }
   ],
   "source": [
    "optimization_res = differential_evolution(func=objective_function, \n",
    "                                          bounds=[(0, 10)], \n",
    "                                          updating='deferred', \n",
    "                                          workers=10,\n",
    "                                          disp=True,\n",
    "                                          tol=0.0000001,\n",
    "                                          atol=0.0000001,\n",
    "                                          args=(X_train_scaled, train_y1, X_test_scaled, test_y1))\n",
    "print(optimization_res)\n",
    "print(\"Optimal sigma_y1: {:.{}f}\".format(optimization_res.x[0], 9))"
   ],
   "metadata": {
    "collapsed": false,
    "ExecuteTime": {
     "end_time": "2024-02-08T11:45:07.564797002Z",
     "start_time": "2024-02-08T11:41:16.755754646Z"
    }
   },
   "id": "5f8f85572cf2dd5a",
   "execution_count": 5
  },
  {
   "cell_type": "code",
   "outputs": [
    {
     "name": "stdout",
     "output_type": "stream",
     "text": [
      "------ test metrics ------\n",
      "Mean Squared Error (MSE):              63708187790534.0781250000\n",
      "Root Mean Squared Error (RMSE):        7981740.8997369790\n",
      "Mean Absolute Error (MAE):             5549585.5889385771\n",
      "R-squared (R²):                        0.6811879810\n",
      "Mean Absolute Percentage Error (MAPE): 0.1470635573\n",
      "Max Error (ME):                        35498167.9150355011\n",
      "Median Absolute Error (MedAE):         3861312.4261567965\n"
     ]
    }
   ],
   "source": [
    "from GRNN import GRNN\n",
    "from metrics import print_metrics\n",
    "\n",
    "grnn_y1 = GRNN(sigma=0.097183859)\n",
    "grnn_y1.fit(X_train_scaled, train_y1)\n",
    "\n",
    "print(\"------ test metrics ------\")\n",
    "print_metrics(test_y1, grnn_y1.predict(X_test_scaled))"
   ],
   "metadata": {
    "collapsed": false,
    "ExecuteTime": {
     "end_time": "2024-02-08T11:46:20.213987365Z",
     "start_time": "2024-02-08T11:46:17.918383625Z"
    }
   },
   "id": "2b4171da2bb45e4d",
   "execution_count": 6
  },
  {
   "cell_type": "markdown",
   "source": [
    "<h1> Y2 </h1>"
   ],
   "metadata": {
    "collapsed": false
   },
   "id": "781116cbb586966b"
  },
  {
   "cell_type": "code",
   "outputs": [
    {
     "name": "stdout",
     "output_type": "stream",
     "text": [
      " message: Optimization terminated successfully.\n",
      " success: True\n",
      "     fun: -0.7023818942348741\n",
      "       x: [ 6.106e-02]\n",
      "     nit: 11\n",
      "    nfev: 190\n",
      "     jac: [-2.220e-08]\n",
      "Optimal sigma_y1: 0.061057788\n"
     ]
    }
   ],
   "source": [
    "optimization_res = differential_evolution(func=objective_function, \n",
    "                                          bounds=[(0, 10)], \n",
    "                                          updating='deferred', \n",
    "                                          workers=10,\n",
    "                                          disp=True,\n",
    "                                          tol=0.0000001,\n",
    "                                          atol=0.0000001,\n",
    "                                          args=(X_train_scaled, train_y2, X_test_scaled, test_y2))\n",
    "print(optimization_res)\n",
    "print(\"Optimal sigma_y2: {:.{}f}\".format(optimization_res.x[0], 9))"
   ],
   "metadata": {
    "collapsed": false,
    "ExecuteTime": {
     "end_time": "2024-02-07T13:11:14.253708100Z",
     "start_time": "2024-02-07T13:07:45.701817Z"
    }
   },
   "id": "ab882670dc0184a6",
   "execution_count": 89
  },
  {
   "cell_type": "code",
   "outputs": [
    {
     "name": "stdout",
     "output_type": "stream",
     "text": [
      "------ test metrics ------\n",
      "Mean Squared Error (MSE):              68501419241731.3984375000\n",
      "Root Mean Squared Error (RMSE):        8276558.4177078940\n",
      "Mean Absolute Error (MAE):             4388624.5701665469\n",
      "R-squared (R²):                        0.7023818942\n",
      "Mean Absolute Percentage Error (MAPE): 1.6495639019\n",
      "Max Error (ME):                        85655608.1953858286\n",
      "Median Absolute Error (MedAE):         2658237.9371098289\n",
      "------ train metrics ------\n",
      "Mean Squared Error (MSE):              3350194761325.9506835938\n",
      "Root Mean Squared Error (RMSE):        1830353.7257388122\n",
      "Mean Absolute Error (MAE):             1022780.9595428550\n",
      "R-squared (R²):                        0.9845427978\n",
      "Mean Absolute Percentage Error (MAPE): 0.4284010169\n",
      "Max Error (ME):                        24835440.3675847687\n",
      "Median Absolute Error (MedAE):         618150.4338244664\n"
     ]
    }
   ],
   "source": [
    "from GRNN import GRNN\n",
    "from metrics import print_metrics\n",
    "\n",
    "grnn_y2 = GRNN(sigma=0.061057788)\n",
    "grnn_y2.fit(X_train_scaled, train_y2)\n",
    "\n",
    "print(\"------ test metrics ------\")\n",
    "print_metrics(test_y2, grnn_y2.predict(X_test_scaled))\n"
   ],
   "metadata": {
    "collapsed": false,
    "ExecuteTime": {
     "end_time": "2024-02-07T13:12:45.004390664Z",
     "start_time": "2024-02-07T13:12:27.230630630Z"
    }
   },
   "id": "7ba7ff574306ee97",
   "execution_count": 90
  },
  {
   "cell_type": "markdown",
   "source": [
    "<h1> Y3</h1>"
   ],
   "metadata": {
    "collapsed": false
   },
   "id": "8055e6d83bf5781"
  },
  {
   "cell_type": "code",
   "outputs": [
    {
     "name": "stdout",
     "output_type": "stream",
     "text": [
      " message: Optimization terminated successfully.\n",
      " success: True\n",
      "     fun: -0.5353204368090128\n",
      "       x: [ 8.154e-02]\n",
      "     nit: 13\n",
      "    nfev: 218\n",
      "     jac: [ 9.104e-07]\n",
      "Optimal sigma_y2: 0.081542483\n"
     ]
    }
   ],
   "source": [
    "optimization_res = differential_evolution(func=objective_function, bounds=[(0, 10)], updating='deferred', workers=10,\n",
    "                                        args=(X_train_scaled, train_y3, X_test_scaled, test_y3))\n",
    "print(optimization_res)\n",
    "print(\"Optimal sigma_y3: {:.{}f}\".format(optimization_res.x[0], 9))"
   ],
   "metadata": {
    "collapsed": false,
    "ExecuteTime": {
     "end_time": "2024-02-07T13:17:25.600133533Z",
     "start_time": "2024-02-07T13:13:38.656911177Z"
    }
   },
   "id": "ea0c9e88aa3c6ec4",
   "execution_count": 91
  },
  {
   "cell_type": "code",
   "outputs": [
    {
     "name": "stdout",
     "output_type": "stream",
     "text": [
      "------ test metrics ------\n",
      "Mean Squared Error (MSE):              479167494670487.4375000000\n",
      "Root Mean Squared Error (RMSE):        21889894.8072047047\n",
      "Mean Absolute Error (MAE):             11919462.5806300901\n",
      "R-squared (R²):                        0.5353204368\n",
      "Mean Absolute Percentage Error (MAPE): 0.1719544801\n",
      "Max Error (ME):                        200235208.9786968231\n",
      "Median Absolute Error (MedAE):         6931585.6261113454\n",
      "------ train metrics ------\n",
      "Mean Squared Error (MSE):              172358645450598.6562500000\n",
      "Root Mean Squared Error (RMSE):        13128543.1579668671\n",
      "Mean Absolute Error (MAE):             7678646.3210368101\n",
      "R-squared (R²):                        0.8276829904\n",
      "Mean Absolute Percentage Error (MAPE): 0.1239887136\n",
      "Max Error (ME):                        90314658.3416012973\n",
      "Median Absolute Error (MedAE):         4924903.9227655530\n"
     ]
    }
   ],
   "source": [
    "from GRNN import GRNN\n",
    "from metrics import print_metrics\n",
    "\n",
    "grnn_y3 = GRNN(sigma=0.081542483)\n",
    "grnn_y3.fit(X_train_scaled, train_y3)\n",
    "\n",
    "print(\"------ test metrics ------\")\n",
    "print_metrics(test_y3, grnn_y3.predict(X_test_scaled))\n"
   ],
   "metadata": {
    "collapsed": false,
    "ExecuteTime": {
     "end_time": "2024-02-07T13:18:14.157169147Z",
     "start_time": "2024-02-07T13:17:56.559617584Z"
    }
   },
   "id": "edb4590d33074a73",
   "execution_count": 92
  },
  {
   "cell_type": "code",
   "outputs": [],
   "source": [],
   "metadata": {
    "collapsed": false
   },
   "id": "e776aac325117dd7"
  }
 ],
 "metadata": {
  "kernelspec": {
   "display_name": "Python 3",
   "language": "python",
   "name": "python3"
  },
  "language_info": {
   "codemirror_mode": {
    "name": "ipython",
    "version": 2
   },
   "file_extension": ".py",
   "mimetype": "text/x-python",
   "name": "python",
   "nbconvert_exporter": "python",
   "pygments_lexer": "ipython2",
   "version": "2.7.6"
  }
 },
 "nbformat": 4,
 "nbformat_minor": 5
}
