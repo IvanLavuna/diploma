{
 "cells": [
  {
   "cell_type": "markdown",
   "source": [
    "<p> Regression experiments on all dataset, where Environment is filtered </p>"
   ],
   "metadata": {
    "collapsed": false
   },
   "id": "66913e3a0c5d152b"
  },
  {
   "cell_type": "code",
   "execution_count": 87,
   "id": "initial_id",
   "metadata": {
    "collapsed": true,
    "ExecuteTime": {
     "end_time": "2023-11-20T13:11:47.598700401Z",
     "start_time": "2023-11-20T13:11:47.569883478Z"
    }
   },
   "outputs": [],
   "source": [
    "import keras\n",
    "import pandas as pd\n",
    "import numpy as np\n",
    "from sklearn.model_selection import train_test_split\n",
    "from sklearn.metrics import mean_squared_error, r2_score, mean_absolute_percentage_error, max_error, median_absolute_error, mean_absolute_error\n",
    "from sklearn.metrics import mean_squared_error\n",
    "import time\n"
   ]
  },
  {
   "cell_type": "code",
   "execution_count": 88,
   "outputs": [],
   "source": [
    "df = pd.read_csv('data/DRdata.csv').sample(frac=0.1, random_state=42)"
   ],
   "metadata": {
    "collapsed": false,
    "ExecuteTime": {
     "end_time": "2023-11-20T13:11:48.009461529Z",
     "start_time": "2023-11-20T13:11:47.854907417Z"
    }
   },
   "id": "7cfa4c49dd9d5e57"
  },
  {
   "cell_type": "code",
   "execution_count": 89,
   "outputs": [
    {
     "data": {
      "text/plain": "(11310, 16)"
     },
     "execution_count": 89,
     "metadata": {},
     "output_type": "execute_result"
    }
   ],
   "source": [
    "df.shape"
   ],
   "metadata": {
    "collapsed": false,
    "ExecuteTime": {
     "end_time": "2023-11-20T13:11:48.202439298Z",
     "start_time": "2023-11-20T13:11:48.186626448Z"
    }
   },
   "id": "6e62b45d6968e55a"
  },
  {
   "cell_type": "code",
   "execution_count": 90,
   "outputs": [
    {
     "data": {
      "text/plain": "       Unnamed: 0  Day   SC  Age Environment  Span_number  h_NoDamage  \\\n35275       35275   32  2.0  100      Benign           12    0.000000   \n8682         8682   84  0.0  100      Severe           15    0.587890   \n35730       35730   46  2.0   40    moderate           12    0.000000   \n651           651   40  0.0   40    moderate            1    0.733620   \n99817       99817   82  1.5    0    moderate            6    0.064919   \n\n        h_Minor  h_Moderate  h_Extensive  h_Severe  Res_Minor  Res_moderate  \\\n35275  0.012957    0.022235     0.023670   0.94114    0.94805       0.72571   \n8682   0.000000    0.000000     0.001454   0.41528    1.00000       0.87273   \n35730  0.000000    0.029953     0.020672   0.94938    0.99409       0.75856   \n651    0.000000    0.000000     0.000663   0.26991    1.00000       0.88011   \n99817  0.080404    0.083143     0.058675   0.71286    1.00000       0.91952   \n\n       Res_extensive  Res_Severe  Resilience  \n35275        0.44727     0.11011     0.14080  \n8682         0.72697     0.21252     0.64511  \n35730        0.52301     0.12875     0.13805  \n651          0.73929     0.21954     0.77136  \n99817        0.80610     0.26359     0.34898  ",
      "text/html": "<div>\n<style scoped>\n    .dataframe tbody tr th:only-of-type {\n        vertical-align: middle;\n    }\n\n    .dataframe tbody tr th {\n        vertical-align: top;\n    }\n\n    .dataframe thead th {\n        text-align: right;\n    }\n</style>\n<table border=\"1\" class=\"dataframe\">\n  <thead>\n    <tr style=\"text-align: right;\">\n      <th></th>\n      <th>Unnamed: 0</th>\n      <th>Day</th>\n      <th>SC</th>\n      <th>Age</th>\n      <th>Environment</th>\n      <th>Span_number</th>\n      <th>h_NoDamage</th>\n      <th>h_Minor</th>\n      <th>h_Moderate</th>\n      <th>h_Extensive</th>\n      <th>h_Severe</th>\n      <th>Res_Minor</th>\n      <th>Res_moderate</th>\n      <th>Res_extensive</th>\n      <th>Res_Severe</th>\n      <th>Resilience</th>\n    </tr>\n  </thead>\n  <tbody>\n    <tr>\n      <th>35275</th>\n      <td>35275</td>\n      <td>32</td>\n      <td>2.0</td>\n      <td>100</td>\n      <td>Benign</td>\n      <td>12</td>\n      <td>0.000000</td>\n      <td>0.012957</td>\n      <td>0.022235</td>\n      <td>0.023670</td>\n      <td>0.94114</td>\n      <td>0.94805</td>\n      <td>0.72571</td>\n      <td>0.44727</td>\n      <td>0.11011</td>\n      <td>0.14080</td>\n    </tr>\n    <tr>\n      <th>8682</th>\n      <td>8682</td>\n      <td>84</td>\n      <td>0.0</td>\n      <td>100</td>\n      <td>Severe</td>\n      <td>15</td>\n      <td>0.587890</td>\n      <td>0.000000</td>\n      <td>0.000000</td>\n      <td>0.001454</td>\n      <td>0.41528</td>\n      <td>1.00000</td>\n      <td>0.87273</td>\n      <td>0.72697</td>\n      <td>0.21252</td>\n      <td>0.64511</td>\n    </tr>\n    <tr>\n      <th>35730</th>\n      <td>35730</td>\n      <td>46</td>\n      <td>2.0</td>\n      <td>40</td>\n      <td>moderate</td>\n      <td>12</td>\n      <td>0.000000</td>\n      <td>0.000000</td>\n      <td>0.029953</td>\n      <td>0.020672</td>\n      <td>0.94938</td>\n      <td>0.99409</td>\n      <td>0.75856</td>\n      <td>0.52301</td>\n      <td>0.12875</td>\n      <td>0.13805</td>\n    </tr>\n    <tr>\n      <th>651</th>\n      <td>651</td>\n      <td>40</td>\n      <td>0.0</td>\n      <td>40</td>\n      <td>moderate</td>\n      <td>1</td>\n      <td>0.733620</td>\n      <td>0.000000</td>\n      <td>0.000000</td>\n      <td>0.000663</td>\n      <td>0.26991</td>\n      <td>1.00000</td>\n      <td>0.88011</td>\n      <td>0.73929</td>\n      <td>0.21954</td>\n      <td>0.77136</td>\n    </tr>\n    <tr>\n      <th>99817</th>\n      <td>99817</td>\n      <td>82</td>\n      <td>1.5</td>\n      <td>0</td>\n      <td>moderate</td>\n      <td>6</td>\n      <td>0.064919</td>\n      <td>0.080404</td>\n      <td>0.083143</td>\n      <td>0.058675</td>\n      <td>0.71286</td>\n      <td>1.00000</td>\n      <td>0.91952</td>\n      <td>0.80610</td>\n      <td>0.26359</td>\n      <td>0.34898</td>\n    </tr>\n  </tbody>\n</table>\n</div>"
     },
     "execution_count": 90,
     "metadata": {},
     "output_type": "execute_result"
    }
   ],
   "source": [
    "df.head()"
   ],
   "metadata": {
    "collapsed": false,
    "ExecuteTime": {
     "end_time": "2023-11-20T13:11:49.229547806Z",
     "start_time": "2023-11-20T13:11:49.185219614Z"
    }
   },
   "id": "8ca2f0cd3fcec329"
  },
  {
   "cell_type": "code",
   "execution_count": 91,
   "outputs": [],
   "source": [
    "def custom_mapping(class_name):\n",
    "    if class_name == 'Benign':\n",
    "        return 1\n",
    "    else:\n",
    "        return 0"
   ],
   "metadata": {
    "collapsed": false,
    "ExecuteTime": {
     "end_time": "2023-11-20T13:11:50.605189872Z",
     "start_time": "2023-11-20T13:11:50.585312008Z"
    }
   },
   "id": "e77fc96b42bc7656"
  },
  {
   "cell_type": "code",
   "execution_count": 92,
   "outputs": [],
   "source": [
    "df['Environment'] = df['Environment'].map(custom_mapping)"
   ],
   "metadata": {
    "collapsed": false,
    "ExecuteTime": {
     "end_time": "2023-11-20T13:11:51.074241779Z",
     "start_time": "2023-11-20T13:11:51.062169710Z"
    }
   },
   "id": "7bf8363b0dbced1a"
  },
  {
   "cell_type": "code",
   "execution_count": 93,
   "outputs": [
    {
     "data": {
      "text/plain": "       Unnamed: 0  Day   SC  Age  Environment  Span_number  h_NoDamage  \\\n35275       35275   32  2.0  100            1           12    0.000000   \n8682         8682   84  0.0  100            0           15    0.587890   \n35730       35730   46  2.0   40            0           12    0.000000   \n651           651   40  0.0   40            0            1    0.733620   \n99817       99817   82  1.5    0            0            6    0.064919   \n\n        h_Minor  h_Moderate  h_Extensive  h_Severe  Res_Minor  Res_moderate  \\\n35275  0.012957    0.022235     0.023670   0.94114    0.94805       0.72571   \n8682   0.000000    0.000000     0.001454   0.41528    1.00000       0.87273   \n35730  0.000000    0.029953     0.020672   0.94938    0.99409       0.75856   \n651    0.000000    0.000000     0.000663   0.26991    1.00000       0.88011   \n99817  0.080404    0.083143     0.058675   0.71286    1.00000       0.91952   \n\n       Res_extensive  Res_Severe  Resilience  \n35275        0.44727     0.11011     0.14080  \n8682         0.72697     0.21252     0.64511  \n35730        0.52301     0.12875     0.13805  \n651          0.73929     0.21954     0.77136  \n99817        0.80610     0.26359     0.34898  ",
      "text/html": "<div>\n<style scoped>\n    .dataframe tbody tr th:only-of-type {\n        vertical-align: middle;\n    }\n\n    .dataframe tbody tr th {\n        vertical-align: top;\n    }\n\n    .dataframe thead th {\n        text-align: right;\n    }\n</style>\n<table border=\"1\" class=\"dataframe\">\n  <thead>\n    <tr style=\"text-align: right;\">\n      <th></th>\n      <th>Unnamed: 0</th>\n      <th>Day</th>\n      <th>SC</th>\n      <th>Age</th>\n      <th>Environment</th>\n      <th>Span_number</th>\n      <th>h_NoDamage</th>\n      <th>h_Minor</th>\n      <th>h_Moderate</th>\n      <th>h_Extensive</th>\n      <th>h_Severe</th>\n      <th>Res_Minor</th>\n      <th>Res_moderate</th>\n      <th>Res_extensive</th>\n      <th>Res_Severe</th>\n      <th>Resilience</th>\n    </tr>\n  </thead>\n  <tbody>\n    <tr>\n      <th>35275</th>\n      <td>35275</td>\n      <td>32</td>\n      <td>2.0</td>\n      <td>100</td>\n      <td>1</td>\n      <td>12</td>\n      <td>0.000000</td>\n      <td>0.012957</td>\n      <td>0.022235</td>\n      <td>0.023670</td>\n      <td>0.94114</td>\n      <td>0.94805</td>\n      <td>0.72571</td>\n      <td>0.44727</td>\n      <td>0.11011</td>\n      <td>0.14080</td>\n    </tr>\n    <tr>\n      <th>8682</th>\n      <td>8682</td>\n      <td>84</td>\n      <td>0.0</td>\n      <td>100</td>\n      <td>0</td>\n      <td>15</td>\n      <td>0.587890</td>\n      <td>0.000000</td>\n      <td>0.000000</td>\n      <td>0.001454</td>\n      <td>0.41528</td>\n      <td>1.00000</td>\n      <td>0.87273</td>\n      <td>0.72697</td>\n      <td>0.21252</td>\n      <td>0.64511</td>\n    </tr>\n    <tr>\n      <th>35730</th>\n      <td>35730</td>\n      <td>46</td>\n      <td>2.0</td>\n      <td>40</td>\n      <td>0</td>\n      <td>12</td>\n      <td>0.000000</td>\n      <td>0.000000</td>\n      <td>0.029953</td>\n      <td>0.020672</td>\n      <td>0.94938</td>\n      <td>0.99409</td>\n      <td>0.75856</td>\n      <td>0.52301</td>\n      <td>0.12875</td>\n      <td>0.13805</td>\n    </tr>\n    <tr>\n      <th>651</th>\n      <td>651</td>\n      <td>40</td>\n      <td>0.0</td>\n      <td>40</td>\n      <td>0</td>\n      <td>1</td>\n      <td>0.733620</td>\n      <td>0.000000</td>\n      <td>0.000000</td>\n      <td>0.000663</td>\n      <td>0.26991</td>\n      <td>1.00000</td>\n      <td>0.88011</td>\n      <td>0.73929</td>\n      <td>0.21954</td>\n      <td>0.77136</td>\n    </tr>\n    <tr>\n      <th>99817</th>\n      <td>99817</td>\n      <td>82</td>\n      <td>1.5</td>\n      <td>0</td>\n      <td>0</td>\n      <td>6</td>\n      <td>0.064919</td>\n      <td>0.080404</td>\n      <td>0.083143</td>\n      <td>0.058675</td>\n      <td>0.71286</td>\n      <td>1.00000</td>\n      <td>0.91952</td>\n      <td>0.80610</td>\n      <td>0.26359</td>\n      <td>0.34898</td>\n    </tr>\n  </tbody>\n</table>\n</div>"
     },
     "execution_count": 93,
     "metadata": {},
     "output_type": "execute_result"
    }
   ],
   "source": [
    "df.head()"
   ],
   "metadata": {
    "collapsed": false,
    "ExecuteTime": {
     "end_time": "2023-11-20T13:11:51.630953976Z",
     "start_time": "2023-11-20T13:11:51.604627497Z"
    }
   },
   "id": "3134f5aa929e7a99"
  },
  {
   "cell_type": "code",
   "execution_count": 94,
   "outputs": [],
   "source": [
    "X = df.drop('Resilience', axis=1)\n",
    "y = df['Resilience']"
   ],
   "metadata": {
    "collapsed": false,
    "ExecuteTime": {
     "end_time": "2023-11-20T13:11:53.711121912Z",
     "start_time": "2023-11-20T13:11:53.686680150Z"
    }
   },
   "id": "96ec7b53f9dc27d0"
  },
  {
   "cell_type": "code",
   "execution_count": 95,
   "outputs": [],
   "source": [
    "X_train, X_test, y_train, y_test = train_test_split(X, y, test_size=0.2, random_state=42)"
   ],
   "metadata": {
    "collapsed": false,
    "ExecuteTime": {
     "end_time": "2023-11-20T13:11:54.108724875Z",
     "start_time": "2023-11-20T13:11:54.095370809Z"
    }
   },
   "id": "267f21abad240de3"
  },
  {
   "cell_type": "code",
   "execution_count": 96,
   "outputs": [],
   "source": [
    "from sklearn.preprocessing import MaxAbsScaler\n",
    "\n",
    "scaler = MaxAbsScaler()\n",
    "scaler.fit(X_train)\n",
    "X_train = scaler.transform(X_train)\n",
    "X_test = scaler.transform(X_test)"
   ],
   "metadata": {
    "collapsed": false,
    "ExecuteTime": {
     "end_time": "2023-11-20T13:11:54.582237505Z",
     "start_time": "2023-11-20T13:11:54.570335388Z"
    }
   },
   "id": "3006ac5e98f8dcbf"
  },
  {
   "cell_type": "code",
   "execution_count": 97,
   "outputs": [],
   "source": [
    "from sklearn.metrics import mean_absolute_error\n",
    "from numpy import sqrt\n",
    "\n",
    "def print_metrics(y_true, y_pred):\n",
    "    mse = mean_squared_error(y_true, y_pred)\n",
    "    print(f'Mean Squared Error (MSE):              {mse:.10f}')\n",
    "    \n",
    "    rmse = sqrt(mse)\n",
    "    print(f'Root Mean Squared Error (RMSE):        {rmse:.10f}')\n",
    "    \n",
    "    mae = mean_absolute_error(y_true, y_pred)\n",
    "    print(f'Mean Absolute Error (MAE):             {mae:.10f}')\n",
    "    \n",
    "    r2 = r2_score(y_true, y_pred)\n",
    "    print(f'R-squared (R²):                        {r2:.10f}')\n",
    "    \n",
    "    mape = mean_absolute_percentage_error(y_true, y_pred)\n",
    "    print(f'Mean Absolute Percentage Error (MAPE): {mape:.10f}')    \n",
    "    \n",
    "    me = max_error(y_true, y_pred)\n",
    "    print(f'Max Error (ME):                        {me:.10f}')    \n",
    "    \n",
    "    med_ae = median_absolute_error(y_true, y_pred)\n",
    "    print(f'Median Absolute Error (MedAE):         {med_ae:.10f}')    "
   ],
   "metadata": {
    "collapsed": false,
    "ExecuteTime": {
     "end_time": "2023-11-20T13:11:55.805275479Z",
     "start_time": "2023-11-20T13:11:55.785592505Z"
    }
   },
   "id": "290c382df940670a"
  },
  {
   "cell_type": "markdown",
   "source": [
    "<h2> Random Forest </h2>"
   ],
   "metadata": {
    "collapsed": false
   },
   "id": "60142cfffd09597e"
  },
  {
   "cell_type": "code",
   "execution_count": 98,
   "outputs": [
    {
     "name": "stdout",
     "output_type": "stream",
     "text": [
      "Training time: 0.2993 seconds\n"
     ]
    }
   ],
   "source": [
    "from sklearn.ensemble import RandomForestRegressor\n",
    "\n",
    "rf_model = RandomForestRegressor(n_estimators=5, random_state=0)\n",
    "start_time = time.time()\n",
    "rf_model.fit(X_train, y_train)\n",
    "print(f'Training time: {time.time() - start_time:.4f} seconds')"
   ],
   "metadata": {
    "collapsed": false,
    "ExecuteTime": {
     "end_time": "2023-11-20T13:11:57.567442159Z",
     "start_time": "2023-11-20T13:11:57.208669603Z"
    }
   },
   "id": "2aafeabe258e6137"
  },
  {
   "cell_type": "code",
   "execution_count": 99,
   "outputs": [
    {
     "name": "stdout",
     "output_type": "stream",
     "text": [
      "Random Forest: train\n",
      "Mean Squared Error (MSE):              0.0000026240\n",
      "Root Mean Squared Error (RMSE):        0.0016198684\n",
      "Mean Absolute Error (MAE):             0.0005342709\n",
      "R-squared (R²):                        0.9999446291\n",
      "Mean Absolute Percentage Error (MAPE): 0.0015970452\n",
      "Max Error (ME):                        0.0235580000\n",
      "Median Absolute Error (MedAE):         0.0000320000\n",
      "\n",
      "Random Forest: test\n",
      "Mean Squared Error (MSE):              0.0000103885\n",
      "Root Mean Squared Error (RMSE):        0.0032231182\n",
      "Mean Absolute Error (MAE):             0.0012196612\n",
      "R-squared (R²):                        0.9997775443\n",
      "Mean Absolute Percentage Error (MAPE): 0.0035833499\n",
      "Max Error (ME):                        0.0366060000\n",
      "Median Absolute Error (MedAE):         0.0002020000\n"
     ]
    }
   ],
   "source": [
    "print(\"Random Forest: train\")\n",
    "y_pred = rf_model.predict(X_train)\n",
    "print_metrics(y_train, y_pred)\n",
    "print()\n",
    "print(\"Random Forest: test\")\n",
    "y_pred = rf_model.predict(X_test)\n",
    "print_metrics(y_test, y_pred)"
   ],
   "metadata": {
    "collapsed": false,
    "ExecuteTime": {
     "end_time": "2023-11-20T13:11:59.441706441Z",
     "start_time": "2023-11-20T13:11:59.388688011Z"
    }
   },
   "id": "686cea723afd8319"
  },
  {
   "cell_type": "markdown",
   "source": [
    "<h2> Support vector regression </h2>"
   ],
   "metadata": {
    "collapsed": false
   },
   "id": "1f9600d2277295b1"
  },
  {
   "cell_type": "code",
   "execution_count": 100,
   "outputs": [
    {
     "name": "stdout",
     "output_type": "stream",
     "text": [
      "Training time: 2.4909 seconds\n"
     ]
    }
   ],
   "source": [
    "from sklearn.svm import SVR\n",
    "svr_model = SVR(kernel='rbf', gamma='auto', coef0=0.0, epsilon=0.001, max_iter=-1)\n",
    "start_time = time.time()\n",
    "svr_model.fit(X_train, y_train)\n",
    "print(f'Training time: {time.time() - start_time:.4f} seconds')"
   ],
   "metadata": {
    "collapsed": false,
    "ExecuteTime": {
     "end_time": "2023-11-20T13:12:11.028179859Z",
     "start_time": "2023-11-20T13:12:08.533247187Z"
    }
   },
   "id": "8d0e661b491435d6"
  },
  {
   "cell_type": "code",
   "execution_count": 101,
   "outputs": [
    {
     "name": "stdout",
     "output_type": "stream",
     "text": [
      "SVR: train\n",
      "Mean Squared Error (MSE):              0.0000054486\n",
      "Root Mean Squared Error (RMSE):        0.0023342207\n",
      "Mean Absolute Error (MAE):             0.0009968283\n",
      "R-squared (R²):                        0.9998850242\n",
      "Mean Absolute Percentage Error (MAPE): 0.0041495173\n",
      "Max Error (ME):                        0.0304985444\n",
      "Median Absolute Error (MedAE):         0.0006522442\n",
      "\n",
      "SVR: test\n",
      "Mean Squared Error (MSE):              0.0000074961\n",
      "Root Mean Squared Error (RMSE):        0.0027379088\n",
      "Mean Absolute Error (MAE):             0.0010827320\n",
      "R-squared (R²):                        0.9998394801\n",
      "Mean Absolute Percentage Error (MAPE): 0.0042746883\n",
      "Max Error (ME):                        0.0303051364\n",
      "Median Absolute Error (MedAE):         0.0006400807\n"
     ]
    }
   ],
   "source": [
    "print(\"SVR: train\")\n",
    "y_pred = svr_model.predict(X_train)\n",
    "print_metrics(y_train, y_pred)\n",
    "print()\n",
    "print(\"SVR: test\")\n",
    "y_pred = svr_model.predict(X_test)\n",
    "print_metrics(y_test, y_pred)"
   ],
   "metadata": {
    "collapsed": false,
    "ExecuteTime": {
     "end_time": "2023-11-20T13:12:13.649026725Z",
     "start_time": "2023-11-20T13:12:12.204362437Z"
    }
   },
   "id": "e15d916b6b99bda1"
  },
  {
   "cell_type": "markdown",
   "source": [
    "<h2> Ridge regression </h2>"
   ],
   "metadata": {
    "collapsed": false
   },
   "id": "4115f162b18ffdaa"
  },
  {
   "cell_type": "code",
   "execution_count": 102,
   "outputs": [
    {
     "name": "stdout",
     "output_type": "stream",
     "text": [
      "Training time: 0.0035 seconds\n"
     ]
    }
   ],
   "source": [
    "from sklearn.linear_model import Ridge, Lasso\n",
    "\n",
    "ridge_model = Ridge(alpha=1.0)  # alpha - regularization strength\n",
    "start_time = time.time()\n",
    "ridge_model.fit(X_train, y_train)\n",
    "print(f'Training time: {time.time() - start_time:.4f} seconds')\n"
   ],
   "metadata": {
    "collapsed": false,
    "ExecuteTime": {
     "end_time": "2023-11-20T13:12:18.729141027Z",
     "start_time": "2023-11-20T13:12:18.710629880Z"
    }
   },
   "id": "dd78d9fcc767349d"
  },
  {
   "cell_type": "code",
   "execution_count": 103,
   "outputs": [
    {
     "name": "stdout",
     "output_type": "stream",
     "text": [
      "Ridge regression: train\n",
      "Mean Squared Error (MSE):              0.0004466658\n",
      "Root Mean Squared Error (RMSE):        0.0211344697\n",
      "Mean Absolute Error (MAE):             0.0098897492\n",
      "R-squared (R²):                        0.9905744836\n",
      "Mean Absolute Percentage Error (MAPE): 0.0323074023\n",
      "Max Error (ME):                        0.2669310951\n",
      "Median Absolute Error (MedAE):         0.0051698017\n",
      "\n",
      "Ridge regression: test\n",
      "Mean Squared Error (MSE):              0.0004721930\n",
      "Root Mean Squared Error (RMSE):        0.0217300013\n",
      "Mean Absolute Error (MAE):             0.0103637328\n",
      "R-squared (R²):                        0.9898886184\n",
      "Mean Absolute Percentage Error (MAPE): 0.0332882013\n",
      "Max Error (ME):                        0.2372227035\n",
      "Median Absolute Error (MedAE):         0.0052927106\n"
     ]
    }
   ],
   "source": [
    "print(\"Ridge regression: train\")\n",
    "y_pred = ridge_model.predict(X_train)\n",
    "print_metrics(y_train, y_pred)\n",
    "print()\n",
    "print(\"Ridge regression: test\")\n",
    "y_pred = ridge_model.predict(X_test)\n",
    "print_metrics(y_test, y_pred)"
   ],
   "metadata": {
    "collapsed": false,
    "ExecuteTime": {
     "end_time": "2023-11-20T13:12:24.084853226Z",
     "start_time": "2023-11-20T13:12:24.045113379Z"
    }
   },
   "id": "1ce27ea9ecf61a0"
  },
  {
   "cell_type": "markdown",
   "source": [
    "<h2> Lasso regression </h2>"
   ],
   "metadata": {
    "collapsed": false
   },
   "id": "6b6e155eb4201f20"
  },
  {
   "cell_type": "code",
   "execution_count": 104,
   "outputs": [
    {
     "name": "stdout",
     "output_type": "stream",
     "text": [
      "Training time: 0.0161 seconds\n"
     ]
    }
   ],
   "source": [
    "# Ridge Regression\n",
    "lasso_model = Lasso(alpha=1.0)  # You can adjust the regularization strength (alpha) as needed\n",
    "start_time = time.time()\n",
    "lasso_model.fit(X_train, y_train)\n",
    "print(f'Training time: {time.time() - start_time:.4f} seconds')"
   ],
   "metadata": {
    "collapsed": false,
    "ExecuteTime": {
     "end_time": "2023-11-20T13:12:26.750693433Z",
     "start_time": "2023-11-20T13:12:26.714132212Z"
    }
   },
   "id": "2154504043fa76a8"
  },
  {
   "cell_type": "code",
   "execution_count": 105,
   "outputs": [
    {
     "name": "stdout",
     "output_type": "stream",
     "text": [
      "Lasso regression: train\n",
      "Mean Squared Error (MSE):              0.0473890015\n",
      "Root Mean Squared Error (RMSE):        0.2176901501\n",
      "Mean Absolute Error (MAE):             0.1744776613\n",
      "R-squared (R²):                        0.0000000000\n",
      "Mean Absolute Percentage Error (MAPE): 0.8105891208\n",
      "Max Error (ME):                        0.7017548660\n",
      "Median Absolute Error (MedAE):         0.1529651340\n",
      "\n",
      "Lasso regression: test\n",
      "Mean Squared Error (MSE):              0.0467013286\n",
      "Root Mean Squared Error (RMSE):        0.2161049018\n",
      "Mean Absolute Error (MAE):             0.1740210180\n",
      "R-squared (R²):                        -0.0000465832\n",
      "Mean Absolute Percentage Error (MAPE): 0.8061414055\n",
      "Max Error (ME):                        0.6955144290\n",
      "Median Absolute Error (MedAE):         0.1530151340\n"
     ]
    }
   ],
   "source": [
    "print(\"Lasso regression: train\")\n",
    "y_pred = lasso_model.predict(X_train)\n",
    "print_metrics(y_train, y_pred)\n",
    "print()\n",
    "print(\"Lasso regression: test\")\n",
    "y_pred = lasso_model.predict(X_test)\n",
    "print_metrics(y_test, y_pred)"
   ],
   "metadata": {
    "collapsed": false,
    "ExecuteTime": {
     "end_time": "2023-11-20T13:12:28.126427162Z",
     "start_time": "2023-11-20T13:12:28.063923007Z"
    }
   },
   "id": "6245abcf553868e5"
  },
  {
   "cell_type": "markdown",
   "source": [
    "<h2> GRNN </h2>"
   ],
   "metadata": {
    "collapsed": false
   },
   "id": "ce72d3755b265c62"
  },
  {
   "cell_type": "code",
   "execution_count": 106,
   "outputs": [],
   "source": [
    "import math\n",
    "from sklearn.base import BaseEstimator, ClassifierMixin\n",
    "\n",
    "\n",
    "class GRNN(BaseEstimator, ClassifierMixin):\n",
    "    def __init__(self, name = \"GRNN\", sigma = 0.1):\n",
    "        self.name = name\n",
    "        self.sigma = 2 * np.power(sigma, 2)\n",
    "        \n",
    "    def predict(self, instance_X, train_X, train_y):\n",
    "        gausian_distances = np.exp(-np.power(np.sqrt((np.square(train_X-instance_X).sum(axis=1))),2)\\\n",
    "                                   / self.sigma)\n",
    "        gausian_distances_sum = gausian_distances.sum()\n",
    "        if gausian_distances_sum < math.pow(10, -7): gausian_distances_sum = math.pow(10, -7)\n",
    "        result = np.multiply(gausian_distances, train_y).sum() / gausian_distances_sum\n",
    "        return result"
   ],
   "metadata": {
    "collapsed": false,
    "ExecuteTime": {
     "end_time": "2023-11-20T13:12:30.792504418Z",
     "start_time": "2023-11-20T13:12:30.774967284Z"
    }
   },
   "id": "c07ccfbb0f5064b5"
  },
  {
   "cell_type": "code",
   "execution_count": 107,
   "outputs": [
    {
     "name": "stdout",
     "output_type": "stream",
     "text": [
      "--- 2.3196401596069336 seconds ---\n",
      "Sigma: 0.1\n",
      "Mean Squared Error (MSE):              0.0003107221\n",
      "Root Mean Squared Error (RMSE):        0.0176273126\n",
      "Mean Absolute Error (MAE):             0.0071085497\n",
      "R-squared (R²):                        0.9933463002\n",
      "Mean Absolute Percentage Error (MAPE): 0.0232629310\n",
      "Max Error (ME):                        0.5745795542\n",
      "Median Absolute Error (MedAE):         0.0025670722\n",
      "--- 2.031716823577881 seconds ---\n",
      "Sigma: 0.2\n",
      "Mean Squared Error (MSE):              0.0004556848\n",
      "Root Mean Squared Error (RMSE):        0.0213467748\n",
      "Mean Absolute Error (MAE):             0.0133034745\n",
      "R-squared (R²):                        0.9902421187\n",
      "Mean Absolute Percentage Error (MAPE): 0.0444487598\n",
      "Max Error (ME):                        0.1211080664\n",
      "Median Absolute Error (MedAE):         0.0056820230\n",
      "--- 2.017279624938965 seconds ---\n",
      "Sigma: 0.30000000000000004\n",
      "Mean Squared Error (MSE):              0.0014353912\n",
      "Root Mean Squared Error (RMSE):        0.0378865575\n",
      "Mean Absolute Error (MAE):             0.0250051396\n",
      "R-squared (R²):                        0.9692630135\n",
      "Mean Absolute Percentage Error (MAPE): 0.0842140854\n",
      "Max Error (ME):                        0.1700959073\n",
      "Median Absolute Error (MedAE):         0.0112135970\n",
      "--- 2.0156667232513428 seconds ---\n",
      "Sigma: 0.4\n",
      "Mean Squared Error (MSE):              0.0035172646\n",
      "Root Mean Squared Error (RMSE):        0.0593065307\n",
      "Mean Absolute Error (MAE):             0.0404526714\n",
      "R-squared (R²):                        0.9246824763\n",
      "Mean Absolute Percentage Error (MAPE): 0.1337743015\n",
      "Max Error (ME):                        0.2340098135\n",
      "Median Absolute Error (MedAE):         0.0193761302\n",
      "--- 2.0116260051727295 seconds ---\n",
      "Sigma: 0.5\n",
      "Mean Squared Error (MSE):              0.0080774629\n",
      "Root Mean Squared Error (RMSE):        0.0898747066\n",
      "Mean Absolute Error (MAE):             0.0621230209\n",
      "R-squared (R²):                        0.8270319198\n",
      "Mean Absolute Percentage Error (MAPE): 0.2018217453\n",
      "Max Error (ME):                        0.2875120155\n",
      "Median Absolute Error (MedAE):         0.0309143419\n",
      "--- 2.0584444999694824 seconds ---\n",
      "Sigma: 0.6\n",
      "Mean Squared Error (MSE):              0.0144422435\n",
      "Root Mean Squared Error (RMSE):        0.1201758855\n",
      "Mean Absolute Error (MAE):             0.0828812606\n",
      "R-squared (R²):                        0.6907386438\n",
      "Mean Absolute Percentage Error (MAPE): 0.2772230028\n",
      "Max Error (ME):                        0.3811008764\n",
      "Median Absolute Error (MedAE):         0.0440437108\n",
      "--- 2.2029337882995605 seconds ---\n",
      "Sigma: 0.7000000000000001\n",
      "Mean Squared Error (MSE):              0.0205484437\n",
      "Root Mean Squared Error (RMSE):        0.1433472837\n",
      "Mean Absolute Error (MAE):             0.0997733534\n",
      "R-squared (R²):                        0.5599825196\n",
      "Mean Absolute Percentage Error (MAPE): 0.3497210150\n",
      "Max Error (ME):                        0.4436171468\n",
      "Median Absolute Error (MedAE):         0.0572949869\n",
      "--- 2.2662477493286133 seconds ---\n",
      "Sigma: 0.8\n",
      "Mean Squared Error (MSE):              0.0254447663\n",
      "Root Mean Squared Error (RMSE):        0.1595141570\n",
      "Mean Absolute Error (MAE):             0.1130359528\n",
      "R-squared (R²):                        0.4551343108\n",
      "Mean Absolute Percentage Error (MAPE): 0.4152430534\n",
      "Max Error (ME):                        0.5090951808\n",
      "Median Absolute Error (MedAE):         0.0695588752\n",
      "--- 2.0282886028289795 seconds ---\n",
      "Sigma: 0.9\n",
      "Mean Squared Error (MSE):              0.0291656550\n",
      "Root Mean Squared Error (RMSE):        0.1707795508\n",
      "Mean Absolute Error (MAE):             0.1233431635\n",
      "R-squared (R²):                        0.3754564488\n",
      "Mean Absolute Percentage Error (MAPE): 0.4715714482\n",
      "Max Error (ME):                        0.5548370115\n",
      "Median Absolute Error (MedAE):         0.0812000258\n",
      "--- 2.0446581840515137 seconds ---\n",
      "Sigma: 1.0\n",
      "Mean Squared Error (MSE):              0.0320005445\n",
      "Root Mean Squared Error (RMSE):        0.1788869600\n",
      "Mean Absolute Error (MAE):             0.1314166766\n",
      "R-squared (R²):                        0.3147510763\n",
      "Mean Absolute Percentage Error (MAPE): 0.5188810639\n",
      "Max Error (ME):                        0.5916386871\n",
      "Median Absolute Error (MedAE):         0.0915061951\n",
      "--- 2.181370258331299 seconds ---\n",
      "Sigma: 1.1\n",
      "Mean Squared Error (MSE):              0.0342014811\n",
      "Root Mean Squared Error (RMSE):        0.1849364244\n",
      "Mean Absolute Error (MAE):             0.1377961486\n",
      "R-squared (R²):                        0.2676209582\n",
      "Mean Absolute Percentage Error (MAPE): 0.5581592750\n",
      "Max Error (ME):                        0.6158383918\n",
      "Median Absolute Error (MedAE):         0.1003249001\n",
      "--- 1.7507498264312744 seconds ---\n",
      "Sigma: 1.2000000000000002\n",
      "Mean Squared Error (MSE):              0.0359451559\n",
      "Root Mean Squared Error (RMSE):        0.1895920776\n",
      "Mean Absolute Error (MAE):             0.1428999478\n",
      "R-squared (R²):                        0.2302824910\n",
      "Mean Absolute Percentage Error (MAPE): 0.5907140779\n",
      "Max Error (ME):                        0.6323785460\n",
      "Median Absolute Error (MedAE):         0.1079254087\n",
      "--- 2.095125436782837 seconds ---\n",
      "Sigma: 1.3000000000000003\n",
      "Mean Squared Error (MSE):              0.0373513180\n",
      "Root Mean Squared Error (RMSE):        0.1932648906\n",
      "Mean Absolute Error (MAE):             0.1470260246\n",
      "R-squared (R²):                        0.2001714080\n",
      "Mean Absolute Percentage Error (MAPE): 0.6177304992\n",
      "Max Error (ME):                        0.6441077186\n",
      "Median Absolute Error (MedAE):         0.1142348237\n",
      "--- 2.0649290084838867 seconds ---\n",
      "Sigma: 1.4000000000000001\n",
      "Mean Squared Error (MSE):              0.0385023726\n",
      "Root Mean Squared Error (RMSE):        0.1962202145\n",
      "Mean Absolute Error (MAE):             0.1504043755\n",
      "R-squared (R²):                        0.1755231105\n",
      "Mean Absolute Percentage Error (MAPE): 0.6402773863\n",
      "Max Error (ME):                        0.6527010184\n",
      "Median Absolute Error (MedAE):         0.1194652836\n",
      "--- 2.04762601852417 seconds ---\n",
      "Sigma: 1.5000000000000002\n",
      "Mean Squared Error (MSE):              0.0394565726\n",
      "Root Mean Squared Error (RMSE):        0.1986367855\n",
      "Mean Absolute Error (MAE):             0.1532003728\n",
      "R-squared (R²):                        0.1550901921\n",
      "Mean Absolute Percentage Error (MAPE): 0.6592098060\n",
      "Max Error (ME):                        0.6591767740\n",
      "Median Absolute Error (MedAE):         0.1235605249\n",
      "--- 2.1098852157592773 seconds ---\n",
      "Sigma: 1.6\n",
      "Mean Squared Error (MSE):              0.0402562072\n",
      "Root Mean Squared Error (RMSE):        0.2006394955\n",
      "Mean Absolute Error (MAE):             0.1555401509\n",
      "R-squared (R²):                        0.1379670850\n",
      "Mean Absolute Percentage Error (MAPE): 0.6752224948\n",
      "Max Error (ME):                        0.6641762808\n",
      "Median Absolute Error (MedAE):         0.1269733728\n",
      "--- 2.0217387676239014 seconds ---\n",
      "Sigma: 1.7000000000000002\n",
      "Mean Squared Error (MSE):              0.0409326944\n",
      "Root Mean Squared Error (RMSE):        0.2023182998\n",
      "Mean Absolute Error (MAE):             0.1575164294\n",
      "R-squared (R²):                        0.1234810141\n",
      "Mean Absolute Percentage Error (MAPE): 0.6888580838\n",
      "Max Error (ME):                        0.6681171708\n",
      "Median Absolute Error (MedAE):         0.1297477226\n",
      "--- 1.8240962028503418 seconds ---\n",
      "Sigma: 1.8000000000000003\n",
      "Mean Squared Error (MSE):              0.0415098329\n",
      "Root Mean Squared Error (RMSE):        0.2037396204\n",
      "Mean Absolute Error (MAE):             0.1591962730\n",
      "R-squared (R²):                        0.1111223639\n",
      "Mean Absolute Percentage Error (MAPE): 0.7005322628\n",
      "Max Error (ME):                        0.6712798730\n",
      "Median Absolute Error (MedAE):         0.1321853262\n",
      "--- 1.806532382965088 seconds ---\n",
      "Sigma: 1.9000000000000001\n",
      "Mean Squared Error (MSE):              0.0420059457\n",
      "Root Mean Squared Error (RMSE):        0.2049535209\n",
      "Mean Absolute Error (MAE):             0.1606342749\n",
      "R-squared (R²):                        0.1004987707\n",
      "Mean Absolute Percentage Error (MAPE): 0.7105870246\n",
      "Max Error (ME):                        0.6738579351\n",
      "Median Absolute Error (MedAE):         0.1341122510\n",
      "--- 1.81312894821167 seconds ---\n",
      "Sigma: 2.0\n",
      "Mean Squared Error (MSE):              0.0424353373\n",
      "Root Mean Squared Error (RMSE):        0.2059983914\n",
      "Mean Absolute Error (MAE):             0.1618733417\n",
      "R-squared (R²):                        0.0913039240\n",
      "Mean Absolute Percentage Error (MAPE): 0.7192970927\n",
      "Max Error (ME):                        0.6759882606\n",
      "Median Absolute Error (MedAE):         0.1358504804\n",
      "--- 1.8244976997375488 seconds ---\n",
      "Sigma: 2.1\n",
      "Mean Squared Error (MSE):              0.0428093099\n",
      "Root Mean Squared Error (RMSE):        0.2069041080\n",
      "Mean Absolute Error (MAE):             0.1629530116\n",
      "R-squared (R²):                        0.0832957993\n",
      "Mean Absolute Percentage Error (MAPE): 0.7269048848\n",
      "Max Error (ME):                        0.6777698304\n",
      "Median Absolute Error (MedAE):         0.1373282284\n",
      "--- 1.81166410446167 seconds ---\n",
      "Sigma: 2.2\n",
      "Mean Squared Error (MSE):              0.0431368893\n",
      "Root Mean Squared Error (RMSE):        0.2076942206\n",
      "Mean Absolute Error (MAE):             0.1638974173\n",
      "R-squared (R²):                        0.0762811251\n",
      "Mean Absolute Percentage Error (MAPE): 0.7335775403\n",
      "Max Error (ME):                        0.6793827331\n",
      "Median Absolute Error (MedAE):         0.1387730139\n"
     ]
    },
    {
     "ename": "KeyboardInterrupt",
     "evalue": "",
     "output_type": "error",
     "traceback": [
      "\u001B[0;31m---------------------------------------------------------------------------\u001B[0m",
      "\u001B[0;31mKeyboardInterrupt\u001B[0m                         Traceback (most recent call last)",
      "Cell \u001B[0;32mIn[107], line 4\u001B[0m\n\u001B[1;32m      2\u001B[0m grnn \u001B[38;5;241m=\u001B[39m GRNN(sigma\u001B[38;5;241m=\u001B[39ms)\n\u001B[1;32m      3\u001B[0m start_time \u001B[38;5;241m=\u001B[39m time\u001B[38;5;241m.\u001B[39mtime()\n\u001B[0;32m----> 4\u001B[0m predictions \u001B[38;5;241m=\u001B[39m \u001B[43mnp\u001B[49m\u001B[38;5;241;43m.\u001B[39;49m\u001B[43mapply_along_axis\u001B[49m\u001B[43m(\u001B[49m\u001B[38;5;28;43;01mlambda\u001B[39;49;00m\u001B[43m \u001B[49m\u001B[43mi\u001B[49m\u001B[43m:\u001B[49m\u001B[43m \u001B[49m\u001B[43mgrnn\u001B[49m\u001B[38;5;241;43m.\u001B[39;49m\u001B[43mpredict\u001B[49m\u001B[43m(\u001B[49m\u001B[43mi\u001B[49m\u001B[43m,\u001B[49m\u001B[43m \u001B[49m\u001B[43mX_train\u001B[49m\u001B[43m,\u001B[49m\u001B[43m \u001B[49m\u001B[43my_train\u001B[49m\u001B[43m)\u001B[49m\u001B[43m,\u001B[49m\u001B[43m \u001B[49m\u001B[43maxis\u001B[49m\u001B[38;5;241;43m=\u001B[39;49m\u001B[38;5;241;43m1\u001B[39;49m\u001B[43m,\u001B[49m\u001B[43m \u001B[49m\u001B[43marr\u001B[49m\u001B[38;5;241;43m=\u001B[39;49m\u001B[43mX_test\u001B[49m\u001B[43m)\u001B[49m\n\u001B[1;32m      5\u001B[0m \u001B[38;5;28mprint\u001B[39m(\u001B[38;5;124m\"\u001B[39m\u001B[38;5;124m--- \u001B[39m\u001B[38;5;132;01m%s\u001B[39;00m\u001B[38;5;124m seconds ---\u001B[39m\u001B[38;5;124m\"\u001B[39m \u001B[38;5;241m%\u001B[39m (time\u001B[38;5;241m.\u001B[39mtime() \u001B[38;5;241m-\u001B[39m start_time))\n\u001B[1;32m      6\u001B[0m \u001B[38;5;28mprint\u001B[39m(\u001B[38;5;124m\"\u001B[39m\u001B[38;5;124mSigma: \u001B[39m\u001B[38;5;124m\"\u001B[39m \u001B[38;5;241m+\u001B[39m \u001B[38;5;28mstr\u001B[39m(s))\n",
      "File \u001B[0;32m~/Projects/Diploma/venv/lib64/python3.10/site-packages/numpy/lib/shape_base.py:402\u001B[0m, in \u001B[0;36mapply_along_axis\u001B[0;34m(func1d, axis, arr, *args, **kwargs)\u001B[0m\n\u001B[1;32m    400\u001B[0m buff[ind0] \u001B[38;5;241m=\u001B[39m res\n\u001B[1;32m    401\u001B[0m \u001B[38;5;28;01mfor\u001B[39;00m ind \u001B[38;5;129;01min\u001B[39;00m inds:\n\u001B[0;32m--> 402\u001B[0m     buff[ind] \u001B[38;5;241m=\u001B[39m asanyarray(\u001B[43mfunc1d\u001B[49m\u001B[43m(\u001B[49m\u001B[43minarr_view\u001B[49m\u001B[43m[\u001B[49m\u001B[43mind\u001B[49m\u001B[43m]\u001B[49m\u001B[43m,\u001B[49m\u001B[43m \u001B[49m\u001B[38;5;241;43m*\u001B[39;49m\u001B[43margs\u001B[49m\u001B[43m,\u001B[49m\u001B[43m \u001B[49m\u001B[38;5;241;43m*\u001B[39;49m\u001B[38;5;241;43m*\u001B[39;49m\u001B[43mkwargs\u001B[49m\u001B[43m)\u001B[49m)\n\u001B[1;32m    404\u001B[0m \u001B[38;5;28;01mif\u001B[39;00m \u001B[38;5;129;01mnot\u001B[39;00m \u001B[38;5;28misinstance\u001B[39m(res, matrix):\n\u001B[1;32m    405\u001B[0m     \u001B[38;5;66;03m# wrap the array, to preserve subclasses\u001B[39;00m\n\u001B[1;32m    406\u001B[0m     buff \u001B[38;5;241m=\u001B[39m res\u001B[38;5;241m.\u001B[39m__array_wrap__(buff)\n",
      "Cell \u001B[0;32mIn[107], line 4\u001B[0m, in \u001B[0;36m<lambda>\u001B[0;34m(i)\u001B[0m\n\u001B[1;32m      2\u001B[0m grnn \u001B[38;5;241m=\u001B[39m GRNN(sigma\u001B[38;5;241m=\u001B[39ms)\n\u001B[1;32m      3\u001B[0m start_time \u001B[38;5;241m=\u001B[39m time\u001B[38;5;241m.\u001B[39mtime()\n\u001B[0;32m----> 4\u001B[0m predictions \u001B[38;5;241m=\u001B[39m np\u001B[38;5;241m.\u001B[39mapply_along_axis(\u001B[38;5;28;01mlambda\u001B[39;00m i: \u001B[43mgrnn\u001B[49m\u001B[38;5;241;43m.\u001B[39;49m\u001B[43mpredict\u001B[49m\u001B[43m(\u001B[49m\u001B[43mi\u001B[49m\u001B[43m,\u001B[49m\u001B[43m \u001B[49m\u001B[43mX_train\u001B[49m\u001B[43m,\u001B[49m\u001B[43m \u001B[49m\u001B[43my_train\u001B[49m\u001B[43m)\u001B[49m, axis\u001B[38;5;241m=\u001B[39m\u001B[38;5;241m1\u001B[39m, arr\u001B[38;5;241m=\u001B[39mX_test)\n\u001B[1;32m      5\u001B[0m \u001B[38;5;28mprint\u001B[39m(\u001B[38;5;124m\"\u001B[39m\u001B[38;5;124m--- \u001B[39m\u001B[38;5;132;01m%s\u001B[39;00m\u001B[38;5;124m seconds ---\u001B[39m\u001B[38;5;124m\"\u001B[39m \u001B[38;5;241m%\u001B[39m (time\u001B[38;5;241m.\u001B[39mtime() \u001B[38;5;241m-\u001B[39m start_time))\n\u001B[1;32m      6\u001B[0m \u001B[38;5;28mprint\u001B[39m(\u001B[38;5;124m\"\u001B[39m\u001B[38;5;124mSigma: \u001B[39m\u001B[38;5;124m\"\u001B[39m \u001B[38;5;241m+\u001B[39m \u001B[38;5;28mstr\u001B[39m(s))\n",
      "Cell \u001B[0;32mIn[106], line 15\u001B[0m, in \u001B[0;36mGRNN.predict\u001B[0;34m(self, instance_X, train_X, train_y)\u001B[0m\n\u001B[1;32m     13\u001B[0m gausian_distances_sum \u001B[38;5;241m=\u001B[39m gausian_distances\u001B[38;5;241m.\u001B[39msum()\n\u001B[1;32m     14\u001B[0m \u001B[38;5;28;01mif\u001B[39;00m gausian_distances_sum \u001B[38;5;241m<\u001B[39m math\u001B[38;5;241m.\u001B[39mpow(\u001B[38;5;241m10\u001B[39m, \u001B[38;5;241m-\u001B[39m\u001B[38;5;241m7\u001B[39m): gausian_distances_sum \u001B[38;5;241m=\u001B[39m math\u001B[38;5;241m.\u001B[39mpow(\u001B[38;5;241m10\u001B[39m, \u001B[38;5;241m-\u001B[39m\u001B[38;5;241m7\u001B[39m)\n\u001B[0;32m---> 15\u001B[0m result \u001B[38;5;241m=\u001B[39m \u001B[43mnp\u001B[49m\u001B[38;5;241;43m.\u001B[39;49m\u001B[43mmultiply\u001B[49m\u001B[43m(\u001B[49m\u001B[43mgausian_distances\u001B[49m\u001B[43m,\u001B[49m\u001B[43m \u001B[49m\u001B[43mtrain_y\u001B[49m\u001B[43m)\u001B[49m\u001B[38;5;241m.\u001B[39msum() \u001B[38;5;241m/\u001B[39m gausian_distances_sum\n\u001B[1;32m     16\u001B[0m \u001B[38;5;28;01mreturn\u001B[39;00m result\n",
      "File \u001B[0;32m~/Projects/Diploma/venv/lib64/python3.10/site-packages/pandas/core/generic.py:2102\u001B[0m, in \u001B[0;36mNDFrame.__array_ufunc__\u001B[0;34m(self, ufunc, method, *inputs, **kwargs)\u001B[0m\n\u001B[1;32m   2098\u001B[0m \u001B[38;5;129m@final\u001B[39m\n\u001B[1;32m   2099\u001B[0m \u001B[38;5;28;01mdef\u001B[39;00m \u001B[38;5;21m__array_ufunc__\u001B[39m(\n\u001B[1;32m   2100\u001B[0m     \u001B[38;5;28mself\u001B[39m, ufunc: np\u001B[38;5;241m.\u001B[39mufunc, method: \u001B[38;5;28mstr\u001B[39m, \u001B[38;5;241m*\u001B[39minputs: Any, \u001B[38;5;241m*\u001B[39m\u001B[38;5;241m*\u001B[39mkwargs: Any\n\u001B[1;32m   2101\u001B[0m ):\n\u001B[0;32m-> 2102\u001B[0m     \u001B[38;5;28;01mreturn\u001B[39;00m \u001B[43marraylike\u001B[49m\u001B[38;5;241;43m.\u001B[39;49m\u001B[43marray_ufunc\u001B[49m\u001B[43m(\u001B[49m\u001B[38;5;28;43mself\u001B[39;49m\u001B[43m,\u001B[49m\u001B[43m \u001B[49m\u001B[43mufunc\u001B[49m\u001B[43m,\u001B[49m\u001B[43m \u001B[49m\u001B[43mmethod\u001B[49m\u001B[43m,\u001B[49m\u001B[43m \u001B[49m\u001B[38;5;241;43m*\u001B[39;49m\u001B[43minputs\u001B[49m\u001B[43m,\u001B[49m\u001B[43m \u001B[49m\u001B[38;5;241;43m*\u001B[39;49m\u001B[38;5;241;43m*\u001B[39;49m\u001B[43mkwargs\u001B[49m\u001B[43m)\u001B[49m\n",
      "File \u001B[0;32m~/Projects/Diploma/venv/lib64/python3.10/site-packages/pandas/core/arraylike.py:273\u001B[0m, in \u001B[0;36marray_ufunc\u001B[0;34m(self, ufunc, method, *inputs, **kwargs)\u001B[0m\n\u001B[1;32m    270\u001B[0m kwargs \u001B[38;5;241m=\u001B[39m _standardize_out_kwarg(\u001B[38;5;241m*\u001B[39m\u001B[38;5;241m*\u001B[39mkwargs)\n\u001B[1;32m    272\u001B[0m \u001B[38;5;66;03m# for binary ops, use our custom dunder methods\u001B[39;00m\n\u001B[0;32m--> 273\u001B[0m result \u001B[38;5;241m=\u001B[39m \u001B[43mmaybe_dispatch_ufunc_to_dunder_op\u001B[49m\u001B[43m(\u001B[49m\u001B[38;5;28;43mself\u001B[39;49m\u001B[43m,\u001B[49m\u001B[43m \u001B[49m\u001B[43mufunc\u001B[49m\u001B[43m,\u001B[49m\u001B[43m \u001B[49m\u001B[43mmethod\u001B[49m\u001B[43m,\u001B[49m\u001B[43m \u001B[49m\u001B[38;5;241;43m*\u001B[39;49m\u001B[43minputs\u001B[49m\u001B[43m,\u001B[49m\u001B[43m \u001B[49m\u001B[38;5;241;43m*\u001B[39;49m\u001B[38;5;241;43m*\u001B[39;49m\u001B[43mkwargs\u001B[49m\u001B[43m)\u001B[49m\n\u001B[1;32m    274\u001B[0m \u001B[38;5;28;01mif\u001B[39;00m result \u001B[38;5;129;01mis\u001B[39;00m \u001B[38;5;129;01mnot\u001B[39;00m \u001B[38;5;28mNotImplemented\u001B[39m:\n\u001B[1;32m    275\u001B[0m     \u001B[38;5;28;01mreturn\u001B[39;00m result\n",
      "File \u001B[0;32mops_dispatch.pyx:113\u001B[0m, in \u001B[0;36mpandas._libs.ops_dispatch.maybe_dispatch_ufunc_to_dunder_op\u001B[0;34m()\u001B[0m\n",
      "File \u001B[0;32m~/Projects/Diploma/venv/lib64/python3.10/site-packages/pandas/core/ops/common.py:76\u001B[0m, in \u001B[0;36m_unpack_zerodim_and_defer.<locals>.new_method\u001B[0;34m(self, other)\u001B[0m\n\u001B[1;32m     72\u001B[0m             \u001B[38;5;28;01mreturn\u001B[39;00m \u001B[38;5;28mNotImplemented\u001B[39m\n\u001B[1;32m     74\u001B[0m other \u001B[38;5;241m=\u001B[39m item_from_zerodim(other)\n\u001B[0;32m---> 76\u001B[0m \u001B[38;5;28;01mreturn\u001B[39;00m \u001B[43mmethod\u001B[49m\u001B[43m(\u001B[49m\u001B[38;5;28;43mself\u001B[39;49m\u001B[43m,\u001B[49m\u001B[43m \u001B[49m\u001B[43mother\u001B[49m\u001B[43m)\u001B[49m\n",
      "File \u001B[0;32m~/Projects/Diploma/venv/lib64/python3.10/site-packages/pandas/core/arraylike.py:206\u001B[0m, in \u001B[0;36mOpsMixin.__rmul__\u001B[0;34m(self, other)\u001B[0m\n\u001B[1;32m    204\u001B[0m \u001B[38;5;129m@unpack_zerodim_and_defer\u001B[39m(\u001B[38;5;124m\"\u001B[39m\u001B[38;5;124m__rmul__\u001B[39m\u001B[38;5;124m\"\u001B[39m)\n\u001B[1;32m    205\u001B[0m \u001B[38;5;28;01mdef\u001B[39;00m \u001B[38;5;21m__rmul__\u001B[39m(\u001B[38;5;28mself\u001B[39m, other):\n\u001B[0;32m--> 206\u001B[0m     \u001B[38;5;28;01mreturn\u001B[39;00m \u001B[38;5;28;43mself\u001B[39;49m\u001B[38;5;241;43m.\u001B[39;49m\u001B[43m_arith_method\u001B[49m\u001B[43m(\u001B[49m\u001B[43mother\u001B[49m\u001B[43m,\u001B[49m\u001B[43m \u001B[49m\u001B[43mroperator\u001B[49m\u001B[38;5;241;43m.\u001B[39;49m\u001B[43mrmul\u001B[49m\u001B[43m)\u001B[49m\n",
      "File \u001B[0;32m~/Projects/Diploma/venv/lib64/python3.10/site-packages/pandas/core/series.py:5815\u001B[0m, in \u001B[0;36mSeries._arith_method\u001B[0;34m(self, other, op)\u001B[0m\n\u001B[1;32m   5813\u001B[0m \u001B[38;5;28;01mdef\u001B[39;00m \u001B[38;5;21m_arith_method\u001B[39m(\u001B[38;5;28mself\u001B[39m, other, op):\n\u001B[1;32m   5814\u001B[0m     \u001B[38;5;28mself\u001B[39m, other \u001B[38;5;241m=\u001B[39m \u001B[38;5;28mself\u001B[39m\u001B[38;5;241m.\u001B[39m_align_for_op(other)\n\u001B[0;32m-> 5815\u001B[0m     \u001B[38;5;28;01mreturn\u001B[39;00m \u001B[43mbase\u001B[49m\u001B[38;5;241;43m.\u001B[39;49m\u001B[43mIndexOpsMixin\u001B[49m\u001B[38;5;241;43m.\u001B[39;49m\u001B[43m_arith_method\u001B[49m\u001B[43m(\u001B[49m\u001B[38;5;28;43mself\u001B[39;49m\u001B[43m,\u001B[49m\u001B[43m \u001B[49m\u001B[43mother\u001B[49m\u001B[43m,\u001B[49m\u001B[43m \u001B[49m\u001B[43mop\u001B[49m\u001B[43m)\u001B[49m\n",
      "File \u001B[0;32m~/Projects/Diploma/venv/lib64/python3.10/site-packages/pandas/core/base.py:1375\u001B[0m, in \u001B[0;36mIndexOpsMixin._arith_method\u001B[0;34m(self, other, op)\u001B[0m\n\u001B[1;32m   1373\u001B[0m lvalues \u001B[38;5;241m=\u001B[39m \u001B[38;5;28mself\u001B[39m\u001B[38;5;241m.\u001B[39m_values\n\u001B[1;32m   1374\u001B[0m rvalues \u001B[38;5;241m=\u001B[39m extract_array(other, extract_numpy\u001B[38;5;241m=\u001B[39m\u001B[38;5;28;01mTrue\u001B[39;00m, extract_range\u001B[38;5;241m=\u001B[39m\u001B[38;5;28;01mTrue\u001B[39;00m)\n\u001B[0;32m-> 1375\u001B[0m rvalues \u001B[38;5;241m=\u001B[39m \u001B[43mops\u001B[49m\u001B[38;5;241;43m.\u001B[39;49m\u001B[43mmaybe_prepare_scalar_for_op\u001B[49m\u001B[43m(\u001B[49m\u001B[43mrvalues\u001B[49m\u001B[43m,\u001B[49m\u001B[43m \u001B[49m\u001B[43mlvalues\u001B[49m\u001B[38;5;241;43m.\u001B[39;49m\u001B[43mshape\u001B[49m\u001B[43m)\u001B[49m\n\u001B[1;32m   1376\u001B[0m rvalues \u001B[38;5;241m=\u001B[39m ensure_wrapped_if_datetimelike(rvalues)\n\u001B[1;32m   1377\u001B[0m \u001B[38;5;28;01mif\u001B[39;00m \u001B[38;5;28misinstance\u001B[39m(rvalues, \u001B[38;5;28mrange\u001B[39m):\n",
      "File \u001B[0;32m~/Projects/Diploma/venv/lib64/python3.10/site-packages/pandas/core/ops/array_ops.py:533\u001B[0m, in \u001B[0;36mmaybe_prepare_scalar_for_op\u001B[0;34m(obj, shape)\u001B[0m\n\u001B[1;32m    528\u001B[0m \u001B[38;5;28;01mif\u001B[39;00m \u001B[38;5;28mtype\u001B[39m(obj) \u001B[38;5;129;01mis\u001B[39;00m datetime\u001B[38;5;241m.\u001B[39mtimedelta:\n\u001B[1;32m    529\u001B[0m     \u001B[38;5;66;03m# GH#22390  cast up to Timedelta to rely on Timedelta\u001B[39;00m\n\u001B[1;32m    530\u001B[0m     \u001B[38;5;66;03m# implementation; otherwise operation against numeric-dtype\u001B[39;00m\n\u001B[1;32m    531\u001B[0m     \u001B[38;5;66;03m# raises TypeError\u001B[39;00m\n\u001B[1;32m    532\u001B[0m     \u001B[38;5;28;01mreturn\u001B[39;00m Timedelta(obj)\n\u001B[0;32m--> 533\u001B[0m \u001B[38;5;28;01melif\u001B[39;00m \u001B[38;5;28mtype\u001B[39m(obj) \u001B[38;5;129;01mis\u001B[39;00m datetime\u001B[38;5;241m.\u001B[39mdatetime:\n\u001B[1;32m    534\u001B[0m     \u001B[38;5;66;03m# cast up to Timestamp to rely on Timestamp implementation, see Timedelta above\u001B[39;00m\n\u001B[1;32m    535\u001B[0m     \u001B[38;5;28;01mreturn\u001B[39;00m Timestamp(obj)\n\u001B[1;32m    536\u001B[0m \u001B[38;5;28;01melif\u001B[39;00m \u001B[38;5;28misinstance\u001B[39m(obj, np\u001B[38;5;241m.\u001B[39mdatetime64):\n\u001B[1;32m    537\u001B[0m     \u001B[38;5;66;03m# GH#28080 numpy casts integer-dtype to datetime64 when doing\u001B[39;00m\n\u001B[1;32m    538\u001B[0m     \u001B[38;5;66;03m#  array[int] + datetime64, which we do not allow\u001B[39;00m\n",
      "\u001B[0;31mKeyboardInterrupt\u001B[0m: "
     ]
    }
   ],
   "source": [
    "for s in np.arange(0.1, 1, 0.1):\n",
    "    grnn = GRNN(sigma=s)\n",
    "    start_time = time.time()\n",
    "    predictions = np.apply_along_axis(lambda i: grnn.predict(i, X_train, y_train), axis=1, arr=X_test)\n",
    "    print(\"--- %s seconds ---\" % (time.time() - start_time))\n",
    "    print(\"Sigma: \" + str(s))\n",
    "    print_metrics(y_test, predictions)\n"
   ],
   "metadata": {
    "collapsed": false,
    "ExecuteTime": {
     "end_time": "2023-11-20T13:13:17.930140198Z",
     "start_time": "2023-11-20T13:12:31.282098166Z"
    }
   },
   "id": "a09435d09cb850a1"
  },
  {
   "cell_type": "markdown",
   "source": [
    "<h3> Stochastic Gradient Descent Regressor </h3>"
   ],
   "metadata": {
    "collapsed": false
   },
   "id": "3c769544255aad8a"
  },
  {
   "cell_type": "code",
   "execution_count": 108,
   "outputs": [
    {
     "name": "stdout",
     "output_type": "stream",
     "text": [
      "Training time: 0.0113 seconds\n"
     ]
    }
   ],
   "source": [
    "from sklearn.linear_model import SGDRegressor\n",
    "sgd_model = SGDRegressor(loss = 'squared_epsilon_insensitive', alpha=0.0001)\n",
    "\n",
    "start_time = time.time()\n",
    "sgd_model.fit(X_train, y_train)\n",
    "print(f'Training time: {time.time() - start_time:.4f} seconds')"
   ],
   "metadata": {
    "collapsed": false,
    "ExecuteTime": {
     "end_time": "2023-11-20T13:13:21.157058996Z",
     "start_time": "2023-11-20T13:13:21.126259400Z"
    }
   },
   "id": "a05171a70a52063c"
  },
  {
   "cell_type": "code",
   "execution_count": 109,
   "outputs": [
    {
     "name": "stdout",
     "output_type": "stream",
     "text": [
      "SGD Regressor: train\n",
      "Mean Squared Error (MSE):              0.0044152600\n",
      "Root Mean Squared Error (RMSE):        0.0664474231\n",
      "Mean Absolute Error (MAE):             0.0571223633\n",
      "R-squared (R²):                        0.9068294352\n",
      "Mean Absolute Percentage Error (MAPE): 0.3092730360\n",
      "Max Error (ME):                        0.2023566039\n",
      "Median Absolute Error (MedAE):         0.0538872808\n",
      "\n",
      "SGD Regressor: test\n",
      "Mean Squared Error (MSE):              0.0043610400\n",
      "Root Mean Squared Error (RMSE):        0.0660381710\n",
      "Mean Absolute Error (MAE):             0.0565616184\n",
      "R-squared (R²):                        0.9066141518\n",
      "Mean Absolute Percentage Error (MAPE): 0.3043891015\n",
      "Max Error (ME):                        0.1889463768\n",
      "Median Absolute Error (MedAE):         0.0534504494\n"
     ]
    }
   ],
   "source": [
    "print(\"SGD Regressor: train\")\n",
    "y_pred = sgd_model.predict(X_train)\n",
    "print_metrics(y_train, y_pred)\n",
    "print()\n",
    "print(\"SGD Regressor: test\")\n",
    "y_pred = sgd_model.predict(X_test)\n",
    "print_metrics(y_test, y_pred)"
   ],
   "metadata": {
    "collapsed": false,
    "ExecuteTime": {
     "end_time": "2023-11-20T13:13:22.607123865Z",
     "start_time": "2023-11-20T13:13:22.495766574Z"
    }
   },
   "id": "44e24783b6460104"
  },
  {
   "cell_type": "markdown",
   "source": [
    "<h2> ADA Boost regressor </h2>"
   ],
   "metadata": {
    "collapsed": false
   },
   "id": "db5c4f4c65c681f0"
  },
  {
   "cell_type": "code",
   "execution_count": 110,
   "outputs": [
    {
     "name": "stdout",
     "output_type": "stream",
     "text": [
      "Training time: 4.6066 seconds\n"
     ]
    }
   ],
   "source": [
    "from sklearn.tree import DecisionTreeRegressor\n",
    "from sklearn.ensemble import AdaBoostRegressor\n",
    "\n",
    "adaboost_model = AdaBoostRegressor(DecisionTreeRegressor(max_depth=4), n_estimators=300)\n",
    "\n",
    "start_time = time.time()\n",
    "adaboost_model.fit(X_train, y_train)\n",
    "print(f'Training time: {time.time() - start_time:.4f} seconds')"
   ],
   "metadata": {
    "collapsed": false,
    "ExecuteTime": {
     "end_time": "2023-11-20T13:13:33.918530872Z",
     "start_time": "2023-11-20T13:13:29.304914483Z"
    }
   },
   "id": "4d532a1047207c50"
  },
  {
   "cell_type": "code",
   "execution_count": 111,
   "outputs": [
    {
     "name": "stdout",
     "output_type": "stream",
     "text": [
      "ADA boost Regressor: train\n",
      "Mean Squared Error (MSE):              0.0008088963\n",
      "Root Mean Squared Error (RMSE):        0.0284411021\n",
      "Mean Absolute Error (MAE):             0.0251917625\n",
      "R-squared (R²):                        0.9829307168\n",
      "Mean Absolute Percentage Error (MAPE): 0.1637761749\n",
      "Max Error (ME):                        0.0445371778\n",
      "Median Absolute Error (MedAE):         0.0260307017\n",
      "\n",
      "ADA boost Regressor: test\n",
      "Mean Squared Error (MSE):              0.0008044789\n",
      "Root Mean Squared Error (RMSE):        0.0283633369\n",
      "Mean Absolute Error (MAE):             0.0251204182\n",
      "R-squared (R²):                        0.9827731592\n",
      "Mean Absolute Percentage Error (MAPE): 0.1620778304\n",
      "Max Error (ME):                        0.0652790741\n",
      "Median Absolute Error (MedAE):         0.0259350423\n"
     ]
    }
   ],
   "source": [
    "print(\"ADA boost Regressor: train\")\n",
    "y_pred = adaboost_model.predict(X_train)\n",
    "print_metrics(y_train, y_pred)\n",
    "print()\n",
    "print(\"ADA boost Regressor: test\")\n",
    "y_pred = adaboost_model.predict(X_test)\n",
    "print_metrics(y_test, y_pred)"
   ],
   "metadata": {
    "collapsed": false,
    "ExecuteTime": {
     "end_time": "2023-11-20T13:13:35.381934748Z",
     "start_time": "2023-11-20T13:13:35.077208157Z"
    }
   },
   "id": "90da06996e0c4dd4"
  },
  {
   "cell_type": "markdown",
   "source": [
    "<h2> Multi-layer Perceptron regressor </h2>"
   ],
   "metadata": {
    "collapsed": false
   },
   "id": "7a972510760f1397"
  },
  {
   "cell_type": "code",
   "execution_count": 112,
   "outputs": [
    {
     "name": "stdout",
     "output_type": "stream",
     "text": [
      "Training time: 1.6850 seconds\n"
     ]
    }
   ],
   "source": [
    "from sklearn.neural_network import MLPRegressor\n",
    "mlp_model = MLPRegressor(hidden_layer_sizes=(100, 40, 20), activation='relu', solver='adam', alpha=0.0001, batch_size='auto', max_iter=200)\n",
    "\n",
    "start_time = time.time()\n",
    "mlp_model.fit(X_train, y_train)\n",
    "print(f'Training time: {time.time() - start_time:.4f} seconds')"
   ],
   "metadata": {
    "collapsed": false,
    "ExecuteTime": {
     "end_time": "2023-11-20T13:13:42.392713804Z",
     "start_time": "2023-11-20T13:13:40.693494097Z"
    }
   },
   "id": "b876b0e0276dd7c5"
  },
  {
   "cell_type": "code",
   "execution_count": 113,
   "outputs": [
    {
     "name": "stdout",
     "output_type": "stream",
     "text": [
      "MLP Regressor: train\n",
      "Mean Squared Error (MSE):              0.0000210544\n",
      "Root Mean Squared Error (RMSE):        0.0045885110\n",
      "Mean Absolute Error (MAE):             0.0034149967\n",
      "R-squared (R²):                        0.9995557106\n",
      "Mean Absolute Percentage Error (MAPE): 0.0168178561\n",
      "Max Error (ME):                        0.0316441573\n",
      "Median Absolute Error (MedAE):         0.0026559623\n",
      "\n",
      "MLP Regressor: test\n",
      "Mean Squared Error (MSE):              0.0000242934\n",
      "Root Mean Squared Error (RMSE):        0.0049288363\n",
      "Mean Absolute Error (MAE):             0.0035863718\n",
      "R-squared (R²):                        0.9994797887\n",
      "Mean Absolute Percentage Error (MAPE): 0.0170129484\n",
      "Max Error (ME):                        0.0329437845\n",
      "Median Absolute Error (MedAE):         0.0027386079\n"
     ]
    }
   ],
   "source": [
    "print(\"MLP Regressor: train\")\n",
    "y_pred = mlp_model.predict(X_train)\n",
    "print_metrics(y_train, y_pred)\n",
    "print()\n",
    "print(\"MLP Regressor: test\")\n",
    "y_pred = mlp_model.predict(X_test)\n",
    "print_metrics(y_test, y_pred)"
   ],
   "metadata": {
    "collapsed": false,
    "ExecuteTime": {
     "end_time": "2023-11-20T13:13:44.141928192Z",
     "start_time": "2023-11-20T13:13:44.113516201Z"
    }
   },
   "id": "add4c3e77be0f392"
  },
  {
   "cell_type": "code",
   "execution_count": null,
   "outputs": [],
   "source": [],
   "metadata": {
    "collapsed": false
   },
   "id": "5dccd79cdf87ed66"
  }
 ],
 "metadata": {
  "kernelspec": {
   "display_name": "Python 3",
   "language": "python",
   "name": "python3"
  },
  "language_info": {
   "codemirror_mode": {
    "name": "ipython",
    "version": 2
   },
   "file_extension": ".py",
   "mimetype": "text/x-python",
   "name": "python",
   "nbconvert_exporter": "python",
   "pygments_lexer": "ipython2",
   "version": "2.7.6"
  }
 },
 "nbformat": 4,
 "nbformat_minor": 5
}
