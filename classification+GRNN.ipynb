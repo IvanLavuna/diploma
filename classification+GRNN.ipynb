{
 "cells": [
  {
   "cell_type": "code",
   "execution_count": 32,
   "id": "initial_id",
   "metadata": {
    "collapsed": true,
    "ExecuteTime": {
     "end_time": "2024-02-07T11:25:01.665415737Z",
     "start_time": "2024-02-07T11:25:01.625043573Z"
    }
   },
   "outputs": [],
   "source": [
    "import pandas as pd\n",
    "from sklearn.preprocessing import MaxAbsScaler\n",
    "\n",
    "# read datasets\n",
    "train_df = pd.read_csv('data/train.csv')\n",
    "test_df = pd.read_csv('data/test.csv')\n",
    "\n",
    "y1_name, y2_name, y3_name = \"dir_costs\", \"traffic_costs_s_r\", \"lost_trips_costs_s_r\"\n",
    "train_y1, train_y2, train_y3 = train_df[y1_name], train_df[y2_name], train_df[y3_name]\n",
    "test_y1, test_y2, test_y3 = test_df[y1_name], test_df[y2_name], test_df[y3_name]\n",
    "\n",
    "# scale features\n",
    "X_train = train_df.drop(columns=[y1_name, y2_name, y3_name])\n",
    "scaler = MaxAbsScaler()\n",
    "scaler.fit(X_train)\n",
    "X_train_scaled = scaler.transform(X_train)\n",
    "# X_train_scaled_df = pd.DataFrame(X_train_scaled, columns=X_train.columns)\n",
    "\n",
    "X_test = test_df.drop(columns=[y1_name, y2_name, y3_name])\n",
    "X_test_scaled = scaler.transform(X_test)\n",
    "# X_test_scaled_df = pd.DataFrame(X_test_scaled, columns=X_test.columns)\n"
   ]
  },
  {
   "cell_type": "markdown",
   "source": [
    "<h2> Figure out optimal number of clusters </h2>"
   ],
   "metadata": {
    "collapsed": false
   },
   "id": "34ff0729fc22586f"
  },
  {
   "cell_type": "markdown",
   "source": [
    "<h3> Elbow method </h3>"
   ],
   "metadata": {
    "collapsed": false
   },
   "id": "a77e151137707130"
  },
  {
   "cell_type": "code",
   "outputs": [
    {
     "name": "stderr",
     "output_type": "stream",
     "text": [
      "/home/lavuna47/Projects/Diploma/venv/lib64/python3.10/site-packages/sklearn/cluster/_kmeans.py:1416: FutureWarning: The default value of `n_init` will change from 10 to 'auto' in 1.4. Set the value of `n_init` explicitly to suppress the warning\n",
      "  super()._check_params_vs_input(X, default_n_init=10)\n",
      "/home/lavuna47/Projects/Diploma/venv/lib64/python3.10/site-packages/sklearn/cluster/_kmeans.py:1416: FutureWarning: The default value of `n_init` will change from 10 to 'auto' in 1.4. Set the value of `n_init` explicitly to suppress the warning\n",
      "  super()._check_params_vs_input(X, default_n_init=10)\n",
      "/home/lavuna47/Projects/Diploma/venv/lib64/python3.10/site-packages/sklearn/cluster/_kmeans.py:1416: FutureWarning: The default value of `n_init` will change from 10 to 'auto' in 1.4. Set the value of `n_init` explicitly to suppress the warning\n",
      "  super()._check_params_vs_input(X, default_n_init=10)\n",
      "/home/lavuna47/Projects/Diploma/venv/lib64/python3.10/site-packages/sklearn/cluster/_kmeans.py:1416: FutureWarning: The default value of `n_init` will change from 10 to 'auto' in 1.4. Set the value of `n_init` explicitly to suppress the warning\n",
      "  super()._check_params_vs_input(X, default_n_init=10)\n",
      "/home/lavuna47/Projects/Diploma/venv/lib64/python3.10/site-packages/sklearn/cluster/_kmeans.py:1416: FutureWarning: The default value of `n_init` will change from 10 to 'auto' in 1.4. Set the value of `n_init` explicitly to suppress the warning\n",
      "  super()._check_params_vs_input(X, default_n_init=10)\n",
      "/home/lavuna47/Projects/Diploma/venv/lib64/python3.10/site-packages/sklearn/cluster/_kmeans.py:1416: FutureWarning: The default value of `n_init` will change from 10 to 'auto' in 1.4. Set the value of `n_init` explicitly to suppress the warning\n",
      "  super()._check_params_vs_input(X, default_n_init=10)\n",
      "/home/lavuna47/Projects/Diploma/venv/lib64/python3.10/site-packages/sklearn/cluster/_kmeans.py:1416: FutureWarning: The default value of `n_init` will change from 10 to 'auto' in 1.4. Set the value of `n_init` explicitly to suppress the warning\n",
      "  super()._check_params_vs_input(X, default_n_init=10)\n",
      "/home/lavuna47/Projects/Diploma/venv/lib64/python3.10/site-packages/sklearn/cluster/_kmeans.py:1416: FutureWarning: The default value of `n_init` will change from 10 to 'auto' in 1.4. Set the value of `n_init` explicitly to suppress the warning\n",
      "  super()._check_params_vs_input(X, default_n_init=10)\n",
      "/home/lavuna47/Projects/Diploma/venv/lib64/python3.10/site-packages/sklearn/cluster/_kmeans.py:1416: FutureWarning: The default value of `n_init` will change from 10 to 'auto' in 1.4. Set the value of `n_init` explicitly to suppress the warning\n",
      "  super()._check_params_vs_input(X, default_n_init=10)\n",
      "/home/lavuna47/Projects/Diploma/venv/lib64/python3.10/site-packages/sklearn/cluster/_kmeans.py:1416: FutureWarning: The default value of `n_init` will change from 10 to 'auto' in 1.4. Set the value of `n_init` explicitly to suppress the warning\n",
      "  super()._check_params_vs_input(X, default_n_init=10)\n",
      "/home/lavuna47/Projects/Diploma/venv/lib64/python3.10/site-packages/sklearn/cluster/_kmeans.py:1416: FutureWarning: The default value of `n_init` will change from 10 to 'auto' in 1.4. Set the value of `n_init` explicitly to suppress the warning\n",
      "  super()._check_params_vs_input(X, default_n_init=10)\n",
      "/home/lavuna47/Projects/Diploma/venv/lib64/python3.10/site-packages/sklearn/cluster/_kmeans.py:1416: FutureWarning: The default value of `n_init` will change from 10 to 'auto' in 1.4. Set the value of `n_init` explicitly to suppress the warning\n",
      "  super()._check_params_vs_input(X, default_n_init=10)\n",
      "/home/lavuna47/Projects/Diploma/venv/lib64/python3.10/site-packages/sklearn/cluster/_kmeans.py:1416: FutureWarning: The default value of `n_init` will change from 10 to 'auto' in 1.4. Set the value of `n_init` explicitly to suppress the warning\n",
      "  super()._check_params_vs_input(X, default_n_init=10)\n",
      "/home/lavuna47/Projects/Diploma/venv/lib64/python3.10/site-packages/sklearn/cluster/_kmeans.py:1416: FutureWarning: The default value of `n_init` will change from 10 to 'auto' in 1.4. Set the value of `n_init` explicitly to suppress the warning\n",
      "  super()._check_params_vs_input(X, default_n_init=10)\n",
      "/home/lavuna47/Projects/Diploma/venv/lib64/python3.10/site-packages/sklearn/cluster/_kmeans.py:1416: FutureWarning: The default value of `n_init` will change from 10 to 'auto' in 1.4. Set the value of `n_init` explicitly to suppress the warning\n",
      "  super()._check_params_vs_input(X, default_n_init=10)\n",
      "/home/lavuna47/Projects/Diploma/venv/lib64/python3.10/site-packages/sklearn/cluster/_kmeans.py:1416: FutureWarning: The default value of `n_init` will change from 10 to 'auto' in 1.4. Set the value of `n_init` explicitly to suppress the warning\n",
      "  super()._check_params_vs_input(X, default_n_init=10)\n",
      "/home/lavuna47/Projects/Diploma/venv/lib64/python3.10/site-packages/sklearn/cluster/_kmeans.py:1416: FutureWarning: The default value of `n_init` will change from 10 to 'auto' in 1.4. Set the value of `n_init` explicitly to suppress the warning\n",
      "  super()._check_params_vs_input(X, default_n_init=10)\n",
      "/home/lavuna47/Projects/Diploma/venv/lib64/python3.10/site-packages/sklearn/cluster/_kmeans.py:1416: FutureWarning: The default value of `n_init` will change from 10 to 'auto' in 1.4. Set the value of `n_init` explicitly to suppress the warning\n",
      "  super()._check_params_vs_input(X, default_n_init=10)\n",
      "/home/lavuna47/Projects/Diploma/venv/lib64/python3.10/site-packages/sklearn/cluster/_kmeans.py:1416: FutureWarning: The default value of `n_init` will change from 10 to 'auto' in 1.4. Set the value of `n_init` explicitly to suppress the warning\n",
      "  super()._check_params_vs_input(X, default_n_init=10)\n",
      "/home/lavuna47/Projects/Diploma/venv/lib64/python3.10/site-packages/sklearn/cluster/_kmeans.py:1416: FutureWarning: The default value of `n_init` will change from 10 to 'auto' in 1.4. Set the value of `n_init` explicitly to suppress the warning\n",
      "  super()._check_params_vs_input(X, default_n_init=10)\n",
      "/home/lavuna47/Projects/Diploma/venv/lib64/python3.10/site-packages/sklearn/cluster/_kmeans.py:1416: FutureWarning: The default value of `n_init` will change from 10 to 'auto' in 1.4. Set the value of `n_init` explicitly to suppress the warning\n",
      "  super()._check_params_vs_input(X, default_n_init=10)\n",
      "/home/lavuna47/Projects/Diploma/venv/lib64/python3.10/site-packages/sklearn/cluster/_kmeans.py:1416: FutureWarning: The default value of `n_init` will change from 10 to 'auto' in 1.4. Set the value of `n_init` explicitly to suppress the warning\n",
      "  super()._check_params_vs_input(X, default_n_init=10)\n",
      "/home/lavuna47/Projects/Diploma/venv/lib64/python3.10/site-packages/sklearn/cluster/_kmeans.py:1416: FutureWarning: The default value of `n_init` will change from 10 to 'auto' in 1.4. Set the value of `n_init` explicitly to suppress the warning\n",
      "  super()._check_params_vs_input(X, default_n_init=10)\n",
      "/home/lavuna47/Projects/Diploma/venv/lib64/python3.10/site-packages/sklearn/cluster/_kmeans.py:1416: FutureWarning: The default value of `n_init` will change from 10 to 'auto' in 1.4. Set the value of `n_init` explicitly to suppress the warning\n",
      "  super()._check_params_vs_input(X, default_n_init=10)\n",
      "/home/lavuna47/Projects/Diploma/venv/lib64/python3.10/site-packages/sklearn/cluster/_kmeans.py:1416: FutureWarning: The default value of `n_init` will change from 10 to 'auto' in 1.4. Set the value of `n_init` explicitly to suppress the warning\n",
      "  super()._check_params_vs_input(X, default_n_init=10)\n",
      "/home/lavuna47/Projects/Diploma/venv/lib64/python3.10/site-packages/sklearn/cluster/_kmeans.py:1416: FutureWarning: The default value of `n_init` will change from 10 to 'auto' in 1.4. Set the value of `n_init` explicitly to suppress the warning\n",
      "  super()._check_params_vs_input(X, default_n_init=10)\n",
      "/home/lavuna47/Projects/Diploma/venv/lib64/python3.10/site-packages/sklearn/cluster/_kmeans.py:1416: FutureWarning: The default value of `n_init` will change from 10 to 'auto' in 1.4. Set the value of `n_init` explicitly to suppress the warning\n",
      "  super()._check_params_vs_input(X, default_n_init=10)\n",
      "/home/lavuna47/Projects/Diploma/venv/lib64/python3.10/site-packages/sklearn/cluster/_kmeans.py:1416: FutureWarning: The default value of `n_init` will change from 10 to 'auto' in 1.4. Set the value of `n_init` explicitly to suppress the warning\n",
      "  super()._check_params_vs_input(X, default_n_init=10)\n",
      "/home/lavuna47/Projects/Diploma/venv/lib64/python3.10/site-packages/sklearn/cluster/_kmeans.py:1416: FutureWarning: The default value of `n_init` will change from 10 to 'auto' in 1.4. Set the value of `n_init` explicitly to suppress the warning\n",
      "  super()._check_params_vs_input(X, default_n_init=10)\n"
     ]
    },
    {
     "data": {
      "text/plain": "<Figure size 640x480 with 1 Axes>",
      "image/png": "[encoded data removed]"
     },
     "metadata": {},
     "output_type": "display_data"
    }
   ],
   "source": [
    "from sklearn.cluster import KMeans\n",
    "import matplotlib.pyplot as plt\n",
    "\n",
    "# Define a range of cluster numbers\n",
    "cluster_range = range(1, 30)\n",
    "wcss = []\n",
    "\n",
    "# Calculate WCSS for each cluster number\n",
    "for n_clusters in cluster_range:\n",
    "    kmeans = KMeans(n_clusters=n_clusters, random_state=42)\n",
    "    kmeans.fit(X_train_scaled)\n",
    "    wcss.append(kmeans.inertia_)\n",
    "\n",
    "# Plot the elbow method graph\n",
    "plt.plot(cluster_range, wcss, marker='o')\n",
    "plt.xlabel('Number of Clusters')\n",
    "plt.ylabel('WCSS')\n",
    "plt.title('Elbow Method')\n",
    "plt.show()"
   ],
   "metadata": {
    "collapsed": false,
    "ExecuteTime": {
     "end_time": "2024-02-07T11:25:49.097561001Z",
     "start_time": "2024-02-07T11:25:10.683262341Z"
    }
   },
   "id": "e9ea6daf4cc52eef",
   "execution_count": 33
  },
  {
   "cell_type": "markdown",
   "source": [
    "<h3> Silhouette Method </h3>"
   ],
   "metadata": {
    "collapsed": false
   },
   "id": "f4f958225426fbd8"
  },
  {
   "cell_type": "code",
   "outputs": [],
   "source": [
    "# TODO: "
   ],
   "metadata": {
    "collapsed": false
   },
   "id": "3f4cb822b7e2f8cf"
  },
  {
   "cell_type": "code",
   "outputs": [
    {
     "name": "stderr",
     "output_type": "stream",
     "text": [
      "/home/lavuna47/Projects/Diploma/venv/lib64/python3.10/site-packages/sklearn/cluster/_kmeans.py:1416: FutureWarning: The default value of `n_init` will change from 10 to 'auto' in 1.4. Set the value of `n_init` explicitly to suppress the warning\n",
      "  super()._check_params_vs_input(X, default_n_init=10)\n"
     ]
    },
    {
     "data": {
      "text/plain": "KMeans(n_clusters=5, random_state=42)",
      "text/html": "<style>#sk-container-id-10 {color: black;}#sk-container-id-10 pre{padding: 0;}#sk-container-id-10 div.sk-toggleable {background-color: white;}#sk-container-id-10 label.sk-toggleable__label {cursor: pointer;display: block;width: 100%;margin-bottom: 0;padding: 0.3em;box-sizing: border-box;text-align: center;}#sk-container-id-10 label.sk-toggleable__label-arrow:before {content: \"▸\";float: left;margin-right: 0.25em;color: #696969;}#sk-container-id-10 label.sk-toggleable__label-arrow:hover:before {color: black;}#sk-container-id-10 div.sk-estimator:hover label.sk-toggleable__label-arrow:before {color: black;}#sk-container-id-10 div.sk-toggleable__content {max-height: 0;max-width: 0;overflow: hidden;text-align: left;background-color: #f0f8ff;}#sk-container-id-10 div.sk-toggleable__content pre {margin: 0.2em;color: black;border-radius: 0.25em;background-color: #f0f8ff;}#sk-container-id-10 input.sk-toggleable__control:checked~div.sk-toggleable__content {max-height: 200px;max-width: 100%;overflow: auto;}#sk-container-id-10 input.sk-toggleable__control:checked~label.sk-toggleable__label-arrow:before {content: \"▾\";}#sk-container-id-10 div.sk-estimator input.sk-toggleable__control:checked~label.sk-toggleable__label {background-color: #d4ebff;}#sk-container-id-10 div.sk-label input.sk-toggleable__control:checked~label.sk-toggleable__label {background-color: #d4ebff;}#sk-container-id-10 input.sk-hidden--visually {border: 0;clip: rect(1px 1px 1px 1px);clip: rect(1px, 1px, 1px, 1px);height: 1px;margin: -1px;overflow: hidden;padding: 0;position: absolute;width: 1px;}#sk-container-id-10 div.sk-estimator {font-family: monospace;background-color: #f0f8ff;border: 1px dotted black;border-radius: 0.25em;box-sizing: border-box;margin-bottom: 0.5em;}#sk-container-id-10 div.sk-estimator:hover {background-color: #d4ebff;}#sk-container-id-10 div.sk-parallel-item::after {content: \"\";width: 100%;border-bottom: 1px solid gray;flex-grow: 1;}#sk-container-id-10 div.sk-label:hover label.sk-toggleable__label {background-color: #d4ebff;}#sk-container-id-10 div.sk-serial::before {content: \"\";position: absolute;border-left: 1px solid gray;box-sizing: border-box;top: 0;bottom: 0;left: 50%;z-index: 0;}#sk-container-id-10 div.sk-serial {display: flex;flex-direction: column;align-items: center;background-color: white;padding-right: 0.2em;padding-left: 0.2em;position: relative;}#sk-container-id-10 div.sk-item {position: relative;z-index: 1;}#sk-container-id-10 div.sk-parallel {display: flex;align-items: stretch;justify-content: center;background-color: white;position: relative;}#sk-container-id-10 div.sk-item::before, #sk-container-id-10 div.sk-parallel-item::before {content: \"\";position: absolute;border-left: 1px solid gray;box-sizing: border-box;top: 0;bottom: 0;left: 50%;z-index: -1;}#sk-container-id-10 div.sk-parallel-item {display: flex;flex-direction: column;z-index: 1;position: relative;background-color: white;}#sk-container-id-10 div.sk-parallel-item:first-child::after {align-self: flex-end;width: 50%;}#sk-container-id-10 div.sk-parallel-item:last-child::after {align-self: flex-start;width: 50%;}#sk-container-id-10 div.sk-parallel-item:only-child::after {width: 0;}#sk-container-id-10 div.sk-dashed-wrapped {border: 1px dashed gray;margin: 0 0.4em 0.5em 0.4em;box-sizing: border-box;padding-bottom: 0.4em;background-color: white;}#sk-container-id-10 div.sk-label label {font-family: monospace;font-weight: bold;display: inline-block;line-height: 1.2em;}#sk-container-id-10 div.sk-label-container {text-align: center;}#sk-container-id-10 div.sk-container {/* jupyter's `normalize.less` sets `[hidden] { display: none; }` but bootstrap.min.css set `[hidden] { display: none !important; }` so we also need the `!important` here to be able to override the default hidden behavior on the sphinx rendered scikit-learn.org. See: https://github.com/scikit-learn/scikit-learn/issues/21755 */display: inline-block !important;position: relative;}#sk-container-id-10 div.sk-text-repr-fallback {display: none;}</style><div id=\"sk-container-id-10\" class=\"sk-top-container\"><div class=\"sk-text-repr-fallback\"><pre>KMeans(n_clusters=5, random_state=42)</pre><b>In a Jupyter environment, please rerun this cell to show the HTML representation or trust the notebook. <br />On GitHub, the HTML representation is unable to render, please try loading this page with nbviewer.org.</b></div><div class=\"sk-container\" hidden><div class=\"sk-item\"><div class=\"sk-estimator sk-toggleable\"><input class=\"sk-toggleable__control sk-hidden--visually\" id=\"sk-estimator-id-10\" type=\"checkbox\" checked><label for=\"sk-estimator-id-10\" class=\"sk-toggleable__label sk-toggleable__label-arrow\">KMeans</label><div class=\"sk-toggleable__content\"><pre>KMeans(n_clusters=5, random_state=42)</pre></div></div></div></div></div>"
     },
     "execution_count": 73,
     "metadata": {},
     "output_type": "execute_result"
    }
   ],
   "source": [
    "clusters_num = 5\n",
    "kmeans = KMeans(n_clusters=clusters_num, random_state=42)\n",
    "kmeans.fit(X_train_scaled)"
   ],
   "metadata": {
    "collapsed": false,
    "ExecuteTime": {
     "end_time": "2024-02-07T12:17:17.676268447Z",
     "start_time": "2024-02-07T12:17:16.261692984Z"
    }
   },
   "id": "30be7b1b6f182f03",
   "execution_count": 73
  },
  {
   "cell_type": "code",
   "outputs": [],
   "source": [
    "import numpy as np\n",
    "def transform_to_clustered_dataset(X: pd.DataFrame, cluster_predictor):\n",
    "    clusters = cluster_predictor.predict(X)\n",
    "    dummy_columns = pd.get_dummies(clusters, prefix='class').astype(float)\n",
    "    return np.concatenate((X, dummy_columns), axis=1)"
   ],
   "metadata": {
    "collapsed": false,
    "ExecuteTime": {
     "end_time": "2024-02-07T12:17:18.451450511Z",
     "start_time": "2024-02-07T12:17:18.447058344Z"
    }
   },
   "id": "d4cd2330e06973fa",
   "execution_count": 74
  },
  {
   "cell_type": "code",
   "outputs": [],
   "source": [
    "X_train_scaled_clustered = transform_to_clustered_dataset(X_train_scaled, kmeans)\n",
    "X_test_scaled_clustered = transform_to_clustered_dataset(X_test_scaled, kmeans)"
   ],
   "metadata": {
    "collapsed": false,
    "ExecuteTime": {
     "end_time": "2024-02-07T12:17:18.937360115Z",
     "start_time": "2024-02-07T12:17:18.932969911Z"
    }
   },
   "id": "44776fea2d1cd709",
   "execution_count": 75
  },
  {
   "cell_type": "markdown",
   "source": [
    "<h2> Pick sigma from unclustered dataset <h2>\n"
   ],
   "metadata": {
    "collapsed": false
   },
   "id": "8f0351bb596043d0"
  },
  {
   "cell_type": "code",
   "outputs": [
    {
     "name": "stdout",
     "output_type": "stream",
     "text": [
      "------ test metrics ------\n",
      "Mean Squared Error (MSE):              42487957917041.1093750000\n",
      "Root Mean Squared Error (RMSE):        6518278.7541682431\n",
      "Mean Absolute Error (MAE):             4404426.1046991227\n",
      "R-squared (R²):                        0.7792012878\n",
      "Mean Absolute Percentage Error (MAPE): 0.1126095933\n",
      "Max Error (ME):                        27567155.8301407397\n",
      "Median Absolute Error (MedAE):         2981575.9186533988\n",
      "------ train metrics ------\n",
      "Mean Squared Error (MSE):              9898471755869.2148437500\n",
      "Root Mean Squared Error (RMSE):        3146183.6812031833\n",
      "Mean Absolute Error (MAE):             1782321.6094198860\n",
      "R-squared (R²):                        0.9588310232\n",
      "Mean Absolute Percentage Error (MAPE): 0.0491281209\n",
      "Max Error (ME):                        23145806.6253847405\n",
      "Median Absolute Error (MedAE):         880466.6676816512\n"
     ]
    }
   ],
   "source": [
    "from GRNN import GRNN\n",
    "from metrics import print_metrics\n",
    "\n",
    "grnn_y1 = GRNN(sigma=0.065982729)\n",
    "grnn_y1.fit(X_train_scaled_clustered, train_y1)\n",
    "\n",
    "print(\"------ test metrics ------\")\n",
    "print_metrics(test_y1, grnn_y1.predict(X_test_scaled_clustered))\n",
    "print(\"------ train metrics ------\")\n",
    "print_metrics(train_y1, grnn_y1.predict(X_train_scaled_clustered))"
   ],
   "metadata": {
    "collapsed": false,
    "ExecuteTime": {
     "end_time": "2024-02-07T12:17:38.352452969Z",
     "start_time": "2024-02-07T12:17:20.943206289Z"
    }
   },
   "id": "6ced72f3c0517577",
   "execution_count": 76
  },
  {
   "cell_type": "markdown",
   "source": [
    "<h2> Optimize sigma with differential evolution<h2>"
   ],
   "metadata": {
    "collapsed": false
   },
   "id": "e696e8e8c74350b2"
  },
  {
   "cell_type": "code",
   "outputs": [],
   "source": [
    "from sklearn.metrics import r2_score\n",
    "from scipy.optimize import differential_evolution\n",
    "\n",
    "def objective_function(sigma):\n",
    "    grnn_y1 = GRNN(sigma=sigma[0])\n",
    "    grnn_y1.fit(X_train_scaled_clustered, train_y1)\n",
    "    pred_y1 = grnn_y1.predict(X_test_scaled_clustered)\n",
    "    r2 = r2_score(test_y1, pred_y1)\n",
    "    return -r2\n",
    "\n",
    "# differential evolution method tries to minimize objective function\n",
    "def pick_optimal_sigma():\n",
    "    best_sigma = differential_evolution(func=objective_function, bounds=[(0, 10)], workers=10)\n",
    "    return best_sigma"
   ],
   "metadata": {
    "collapsed": false,
    "ExecuteTime": {
     "end_time": "2024-02-07T12:17:44.709960275Z",
     "start_time": "2024-02-07T12:17:44.689977056Z"
    }
   },
   "id": "9730ae1a0de7b838",
   "execution_count": 77
  },
  {
   "cell_type": "code",
   "outputs": [
    {
     "name": "stderr",
     "output_type": "stream",
     "text": [
      "/home/lavuna47/Projects/Diploma/venv/lib64/python3.10/site-packages/scipy/optimize/_differentialevolution.py:387: UserWarning: differential_evolution: the 'workers' keyword has overridden updating='immediate' to updating='deferred'\n",
      "  with DifferentialEvolutionSolver(func, bounds, args=args,\n"
     ]
    },
    {
     "name": "stdout",
     "output_type": "stream",
     "text": [
      " message: Optimization terminated successfully.\n",
      " success: True\n",
      "     fun: -0.7792185690879269\n",
      "       x: [ 6.544e-02]\n",
      "     nit: 14\n",
      "    nfev: 233\n",
      "     jac: [-1.110e-08]\n",
      "Optimal sigma_y1: 0.065440175\n"
     ]
    }
   ],
   "source": [
    "optimization_res = pick_optimal_sigma()\n",
    "print(optimization_res)\n",
    "print(\"Optimal sigma_y1: {:.{}f}\".format(optimization_res.x[0], 9))"
   ],
   "metadata": {
    "collapsed": false,
    "ExecuteTime": {
     "end_time": "2024-02-07T12:21:50.400601764Z",
     "start_time": "2024-02-07T12:17:45.095714783Z"
    }
   },
   "id": "f63654757b474767",
   "execution_count": 78
  },
  {
   "cell_type": "code",
   "outputs": [
    {
     "name": "stdout",
     "output_type": "stream",
     "text": [
      "------ test metrics ------\n",
      "Mean Squared Error (MSE):              42484632506858.8437500000\n",
      "Root Mean Squared Error (RMSE):        6518023.6657179175\n",
      "Mean Absolute Error (MAE):             4401625.0189357614\n",
      "R-squared (R²):                        0.7792185691\n",
      "Mean Absolute Percentage Error (MAPE): 0.1124559028\n",
      "Max Error (ME):                        27628779.4712469727\n",
      "Median Absolute Error (MedAE):         2964690.3485822249\n",
      "------ train metrics ------\n",
      "Mean Squared Error (MSE):              9598204465154.7714843750\n",
      "Root Mean Squared Error (RMSE):        3098096.9102264652\n",
      "Mean Absolute Error (MAE):             1744633.9820755445\n",
      "R-squared (R²):                        0.9600798722\n",
      "Mean Absolute Percentage Error (MAPE): 0.0480451808\n",
      "Max Error (ME):                        22949139.9491845220\n",
      "Median Absolute Error (MedAE):         846677.4892855510\n"
     ]
    }
   ],
   "source": [
    "from GRNN import GRNN\n",
    "from metrics import print_metrics\n",
    "\n",
    "grnn_y1 = GRNN(sigma=0.065440175)\n",
    "grnn_y1.fit(X_train_scaled_clustered, train_y1)\n",
    "\n",
    "print(\"------ test metrics ------\")\n",
    "print_metrics(test_y1, grnn_y1.predict(X_test_scaled_clustered))\n",
    "print(\"------ train metrics ------\")\n",
    "print_metrics(train_y1, grnn_y1.predict(X_train_scaled_clustered))"
   ],
   "metadata": {
    "collapsed": false,
    "ExecuteTime": {
     "end_time": "2024-02-07T12:23:08.578211942Z",
     "start_time": "2024-02-07T12:22:50.730838937Z"
    }
   },
   "id": "aedb473d7d94096b",
   "execution_count": 79
  },
  {
   "cell_type": "code",
   "outputs": [],
   "source": [],
   "metadata": {
    "collapsed": false
   },
   "id": "a15a6070bb4e8d94"
  }
 ],
 "metadata": {
  "kernelspec": {
   "display_name": "Python 3",
   "language": "python",
   "name": "python3"
  },
  "language_info": {
   "codemirror_mode": {
    "name": "ipython",
    "version": 2
   },
   "file_extension": ".py",
   "mimetype": "text/x-python",
   "name": "python",
   "nbconvert_exporter": "python",
   "pygments_lexer": "ipython2",
   "version": "2.7.6"
  }
 },
 "nbformat": 4,
 "nbformat_minor": 5
}
