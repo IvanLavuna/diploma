{
 "cells": [
  {
   "cell_type": "code",
   "execution_count": 21,
   "id": "initial_id",
   "metadata": {
    "collapsed": true,
    "ExecuteTime": {
     "end_time": "2024-02-07T13:19:04.290533816Z",
     "start_time": "2024-02-07T13:19:04.249695994Z"
    }
   },
   "outputs": [],
   "source": [
    "import numpy as np\n",
    "import pandas as pd\n",
    "from sklearn.preprocessing import MaxAbsScaler\n",
    "\n",
    "# read datasets\n",
    "train_df = pd.read_csv('data/train.csv')\n",
    "test_df = pd.read_csv('data/test.csv')\n",
    "\n",
    "y1_name, y2_name, y3_name = \"dir_costs\", \"traffic_costs_s_r\", \"lost_trips_costs_s_r\"\n",
    "train_y1, train_y2, train_y3 = train_df[y1_name], train_df[y2_name], train_df[y3_name]\n",
    "test_y1, test_y2, test_y3 = test_df[y1_name], test_df[y2_name], test_df[y3_name]\n",
    "\n",
    "# scale features\n",
    "X_train = train_df.drop(columns=[y1_name, y2_name, y3_name])\n",
    "scaler = MaxAbsScaler()\n",
    "scaler.fit(X_train)\n",
    "X_train_scaled = scaler.transform(X_train)\n",
    "\n",
    "X_test = test_df.drop(columns=[y1_name, y2_name, y3_name])\n",
    "X_test_scaled = scaler.transform(X_test)"
   ]
  },
  {
   "cell_type": "markdown",
   "source": [
    "<h2> Catch dependance of y1, y2, y3. Pick sigma from prev optimization </h2>"
   ],
   "metadata": {
    "collapsed": false
   },
   "id": "836a75d2fede9980"
  },
  {
   "cell_type": "code",
   "outputs": [],
   "source": [
    "from GRNN import GRNN\n",
    "dep_grnn_y1 = GRNN(sigma=0.065982727)\n",
    "dep_grnn_y1.fit(X_train_scaled, train_y1)\n",
    "dep_y1_train_pred = dep_grnn_y1.predict(X_train_scaled)\n",
    "dep_y1_test_pred = dep_grnn_y1.predict(X_test_scaled)\n",
    "\n",
    "dep_grnn_y2 = GRNN(sigma=0.061057788)\n",
    "dep_grnn_y2.fit(X_train_scaled, train_y2)\n",
    "dep_y2_train_pred = dep_grnn_y2.predict(X_train_scaled)\n",
    "dep_y2_test_pred = dep_grnn_y2.predict(X_test_scaled)\n",
    "\n",
    "dep_grnn_y3 = GRNN(sigma=0.081542483)\n",
    "dep_grnn_y3.fit(X_train_scaled, train_y3)\n",
    "dep_y3_train_pred = dep_grnn_y3.predict(X_train_scaled)\n",
    "dep_y3_test_pred = dep_grnn_y3.predict(X_test_scaled)\n"
   ],
   "metadata": {
    "collapsed": false,
    "ExecuteTime": {
     "end_time": "2024-02-07T13:20:31.119899969Z",
     "start_time": "2024-02-07T13:19:38.406059411Z"
    }
   },
   "id": "63513cc7c736ee47",
   "execution_count": 22
  },
  {
   "cell_type": "code",
   "outputs": [],
   "source": [
    "X_train_scaled_dep = np.concatenate((X_train_scaled, dep_y1_train_pred[:, None], dep_y2_train_pred[:, None], dep_y3_train_pred[:, None]), axis=1)\n",
    "\n",
    "X_test_scaled_dep = np.concatenate((X_test_scaled, dep_y1_test_pred[:, None], dep_y2_test_pred[:, None], dep_y3_test_pred[:, None]), axis=1)"
   ],
   "metadata": {
    "collapsed": false,
    "ExecuteTime": {
     "end_time": "2024-02-07T13:21:05.361662200Z",
     "start_time": "2024-02-07T13:21:05.317985985Z"
    }
   },
   "id": "9b5daa00c70ec4ee",
   "execution_count": 23
  },
  {
   "cell_type": "code",
   "outputs": [],
   "source": [
    "# scale again\n",
    "scaler2 = MaxAbsScaler()\n",
    "scaler2.fit(X_train_scaled_dep)\n",
    "X_train_scaled_dep_scaled = scaler2.transform(X_train_scaled_dep)\n",
    "X_test_scaled_dep_scaled = scaler2.transform(X_test_scaled_dep)"
   ],
   "metadata": {
    "collapsed": false,
    "ExecuteTime": {
     "end_time": "2024-02-07T13:24:56.450247863Z",
     "start_time": "2024-02-07T13:24:56.429047543Z"
    }
   },
   "id": "7af00ddf4f032b55",
   "execution_count": 27
  },
  {
   "cell_type": "markdown",
   "source": [
    "<h2> Optimize final sigma using differential evolution </h2>"
   ],
   "metadata": {
    "collapsed": false
   },
   "id": "dcfdb79d7f30c83"
  },
  {
   "cell_type": "code",
   "outputs": [],
   "source": [
    "from sklearn.metrics import r2_score\n",
    "from scipy.optimize import differential_evolution\n",
    "\n",
    "def objective_function(sigma, train_X, train_y, test_X, test_y):\n",
    "    grnn = GRNN(sigma=sigma[0])\n",
    "    grnn.fit(train_X, train_y)\n",
    "    pred_y = grnn.predict(test_X)\n",
    "    r2 = r2_score(test_y, pred_y)\n",
    "    return -r2"
   ],
   "metadata": {
    "collapsed": false,
    "ExecuteTime": {
     "end_time": "2024-02-07T13:25:02.318933643Z",
     "start_time": "2024-02-07T13:25:02.311577661Z"
    }
   },
   "id": "a3b95ccd7b48ca21",
   "execution_count": 28
  },
  {
   "cell_type": "markdown",
   "source": [
    "<h1> Y1<h1>"
   ],
   "metadata": {
    "collapsed": false
   },
   "id": "a409dc10bd53687b"
  },
  {
   "cell_type": "code",
   "outputs": [],
   "source": [
    "optimization_res = differential_evolution(func=objective_function, bounds=[(0, 10)], updating='deferred', workers=10, args=(X_train_scaled_dep_scaled, train_y1, X_test_scaled_dep_scaled, test_y1))\n",
    "\n",
    "print(optimization_res)\n",
    "print(\"Optimal sigma_y1: {:.{}f}\".format(optimization_res.x[0], 9))"
   ],
   "metadata": {
    "collapsed": false,
    "is_executing": true,
    "ExecuteTime": {
     "start_time": "2024-02-07T13:25:47.953929797Z"
    }
   },
   "id": "502376f47bf5fead",
   "execution_count": null
  },
  {
   "cell_type": "code",
   "outputs": [
    {
     "name": "stdout",
     "output_type": "stream",
     "text": [
      "------ test metrics ------\n",
      "Mean Squared Error (MSE):              1594091900756622.5000000000\n",
      "Root Mean Squared Error (RMSE):        39926080.4582245797\n",
      "Mean Absolute Error (MAE):             37438795.8244600520\n",
      "R-squared (R²):                        -7.2840752076\n",
      "Mean Absolute Percentage Error (MAPE): 1.0000000000\n",
      "Max Error (ME):                        112812501.9430129975\n",
      "Median Absolute Error (MedAE):         35028221.3546233028\n",
      "------ train metrics ------\n",
      "Mean Squared Error (MSE):              0.0000000000\n",
      "Root Mean Squared Error (RMSE):        0.0000000000\n",
      "Mean Absolute Error (MAE):             0.0000000000\n",
      "R-squared (R²):                        1.0000000000\n",
      "Mean Absolute Percentage Error (MAPE): 0.0000000000\n",
      "Max Error (ME):                        0.0000000000\n",
      "Median Absolute Error (MedAE):         0.0000000000\n"
     ]
    }
   ],
   "source": [
    "from GRNN import GRNN\n",
    "from metrics import print_metrics\n",
    "\n",
    "grnn_y1 = GRNN(sigma=0.907297525)\n",
    "grnn_y1.fit(X_train_scaled_dep, train_y1)\n",
    "\n",
    "print(\"------ test metrics ------\")\n",
    "print_metrics(test_y1, grnn_y1.predict(X_test_scaled_dep))\n",
    "print(\"------ train metrics ------\")\n",
    "print_metrics(train_y1, grnn_y1.predict(X_train_scaled_dep))"
   ],
   "metadata": {
    "collapsed": false,
    "ExecuteTime": {
     "end_time": "2024-02-07T12:52:12.455308899Z",
     "start_time": "2024-02-07T12:51:54.397348180Z"
    }
   },
   "id": "bd02c791295417b6",
   "execution_count": 20
  },
  {
   "cell_type": "code",
   "outputs": [],
   "source": [],
   "metadata": {
    "collapsed": false
   },
   "id": "d2c9475acaf3979d"
  }
 ],
 "metadata": {
  "kernelspec": {
   "display_name": "Python 3",
   "language": "python",
   "name": "python3"
  },
  "language_info": {
   "codemirror_mode": {
    "name": "ipython",
    "version": 2
   },
   "file_extension": ".py",
   "mimetype": "text/x-python",
   "name": "python",
   "nbconvert_exporter": "python",
   "pygments_lexer": "ipython2",
   "version": "2.7.6"
  }
 },
 "nbformat": 4,
 "nbformat_minor": 5
}
