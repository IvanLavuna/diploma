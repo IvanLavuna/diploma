{
 "cells": [
  {
   "cell_type": "code",
   "execution_count": 21,
   "id": "initial_id",
   "metadata": {
    "collapsed": true,
    "ExecuteTime": {
     "end_time": "2024-02-07T13:19:04.290533816Z",
     "start_time": "2024-02-07T13:19:04.249695994Z"
    }
   },
   "outputs": [],
   "source": [
    "import numpy as np\n",
    "import pandas as pd\n",
    "from sklearn.preprocessing import MaxAbsScaler\n",
    "\n",
    "# read datasets\n",
    "train_df = pd.read_csv('data/train.csv')\n",
    "test_df = pd.read_csv('data/test.csv')\n",
    "\n",
    "y1_name, y2_name, y3_name = \"dir_costs\", \"traffic_costs_s_r\", \"lost_trips_costs_s_r\"\n",
    "train_y1, train_y2, train_y3 = train_df[y1_name], train_df[y2_name], train_df[y3_name]\n",
    "test_y1, test_y2, test_y3 = test_df[y1_name], test_df[y2_name], test_df[y3_name]\n",
    "\n",
    "# scale features\n",
    "X_train = train_df.drop(columns=[y1_name, y2_name, y3_name])\n",
    "scaler = MaxAbsScaler()\n",
    "scaler.fit(X_train)\n",
    "X_train_scaled = scaler.transform(X_train)\n",
    "\n",
    "X_test = test_df.drop(columns=[y1_name, y2_name, y3_name])\n",
    "X_test_scaled = scaler.transform(X_test)"
   ]
  },
  {
   "cell_type": "markdown",
   "source": [
    "<h2> Catch dependance of y1, y2, y3. Pick sigma from prev optimization </h2>"
   ],
   "metadata": {
    "collapsed": false
   },
   "id": "836a75d2fede9980"
  },
  {
   "cell_type": "code",
   "outputs": [],
   "source": [
    "from GRNN import GRNN\n",
    "dep_grnn_y1 = GRNN(sigma=0.065982727)\n",
    "dep_grnn_y1.fit(X_train_scaled, train_y1)\n",
    "dep_y1_train_pred = dep_grnn_y1.predict(X_train_scaled)\n",
    "dep_y1_test_pred = dep_grnn_y1.predict(X_test_scaled)\n",
    "\n",
    "dep_grnn_y2 = GRNN(sigma=0.061057788)\n",
    "dep_grnn_y2.fit(X_train_scaled, train_y2)\n",
    "dep_y2_train_pred = dep_grnn_y2.predict(X_train_scaled)\n",
    "dep_y2_test_pred = dep_grnn_y2.predict(X_test_scaled)\n",
    "\n",
    "dep_grnn_y3 = GRNN(sigma=0.081542483)\n",
    "dep_grnn_y3.fit(X_train_scaled, train_y3)\n",
    "dep_y3_train_pred = dep_grnn_y3.predict(X_train_scaled)\n",
    "dep_y3_test_pred = dep_grnn_y3.predict(X_test_scaled)\n"
   ],
   "metadata": {
    "collapsed": false,
    "ExecuteTime": {
     "end_time": "2024-02-07T13:20:31.119899969Z",
     "start_time": "2024-02-07T13:19:38.406059411Z"
    }
   },
   "id": "63513cc7c736ee47",
   "execution_count": 22
  },
  {
   "cell_type": "code",
   "outputs": [],
   "source": [
    "X_train_scaled_dep = np.concatenate((X_train_scaled, dep_y1_train_pred[:, None], dep_y2_train_pred[:, None], dep_y3_train_pred[:, None]), axis=1)\n",
    "\n",
    "X_test_scaled_dep = np.concatenate((X_test_scaled, dep_y1_test_pred[:, None], dep_y2_test_pred[:, None], dep_y3_test_pred[:, None]), axis=1)"
   ],
   "metadata": {
    "collapsed": false,
    "ExecuteTime": {
     "end_time": "2024-02-07T13:21:05.361662200Z",
     "start_time": "2024-02-07T13:21:05.317985985Z"
    }
   },
   "id": "9b5daa00c70ec4ee",
   "execution_count": 23
  },
  {
   "cell_type": "code",
   "outputs": [],
   "source": [
    "# scale again\n",
    "scaler2 = MaxAbsScaler()\n",
    "scaler2.fit(X_train_scaled_dep)\n",
    "X_train_scaled_dep_scaled = scaler2.transform(X_train_scaled_dep)\n",
    "X_test_scaled_dep_scaled = scaler2.transform(X_test_scaled_dep)"
   ],
   "metadata": {
    "collapsed": false,
    "ExecuteTime": {
     "end_time": "2024-02-07T13:24:56.450247863Z",
     "start_time": "2024-02-07T13:24:56.429047543Z"
    }
   },
   "id": "7af00ddf4f032b55",
   "execution_count": 27
  },
  {
   "cell_type": "markdown",
   "source": [
    "<h2> Optimize final sigma using differential evolution </h2>"
   ],
   "metadata": {
    "collapsed": false
   },
   "id": "dcfdb79d7f30c83"
  },
  {
   "cell_type": "code",
   "outputs": [],
   "source": [
    "from sklearn.metrics import r2_score\n",
    "from scipy.optimize import differential_evolution\n",
    "\n",
    "def objective_function(sigma, train_X, train_y, test_X, test_y):\n",
    "    grnn = GRNN(sigma=sigma[0])\n",
    "    grnn.fit(train_X, train_y)\n",
    "    pred_y = grnn.predict(test_X)\n",
    "    r2 = r2_score(test_y, pred_y)\n",
    "    return -r2"
   ],
   "metadata": {
    "collapsed": false,
    "ExecuteTime": {
     "end_time": "2024-02-07T13:25:02.318933643Z",
     "start_time": "2024-02-07T13:25:02.311577661Z"
    }
   },
   "id": "a3b95ccd7b48ca21",
   "execution_count": 28
  },
  {
   "cell_type": "markdown",
   "source": [
    "<h1> Y1<h1>"
   ],
   "metadata": {
    "collapsed": false
   },
   "id": "a409dc10bd53687b"
  },
  {
   "cell_type": "code",
   "outputs": [
    {
     "name": "stdout",
     "output_type": "stream",
     "text": [
      " message: Optimization terminated successfully.\n",
      " success: True\n",
      "     fun: -0.7848448816746552\n",
      "       x: [ 7.224e-02]\n",
      "     nit: 10\n",
      "    nfev: 177\n",
      "     jac: [ 4.441e-08]\n",
      "Optimal sigma_y1: 0.072244104\n"
     ]
    }
   ],
   "source": [
    "optimization_res = differential_evolution(func=objective_function, bounds=[(0, 10)], updating='deferred', workers=10, args=(X_train_scaled_dep_scaled, train_y1, X_test_scaled_dep_scaled, test_y1))\n",
    "\n",
    "print(optimization_res)\n",
    "print(\"Optimal sigma_y1: {:.{}f}\".format(optimization_res.x[0], 9))"
   ],
   "metadata": {
    "collapsed": false,
    "ExecuteTime": {
     "end_time": "2024-02-07T13:28:53.445006975Z",
     "start_time": "2024-02-07T13:25:47.953929797Z"
    }
   },
   "id": "502376f47bf5fead",
   "execution_count": 31
  },
  {
   "cell_type": "code",
   "outputs": [
    {
     "name": "stdout",
     "output_type": "stream",
     "text": [
      "------ test metrics ------\n",
      "Mean Squared Error (MSE):              41401969795468.7109375000\n",
      "Root Mean Squared Error (RMSE):        6434436.2453496037\n",
      "Mean Absolute Error (MAE):             4236768.4919447722\n",
      "R-squared (R²):                        0.7848448817\n",
      "Mean Absolute Percentage Error (MAPE): 0.1071790498\n",
      "Max Error (ME):                        28885122.2729864791\n",
      "Median Absolute Error (MedAE):         2481914.5252101943\n",
      "------ train metrics ------\n",
      "Mean Squared Error (MSE):              9453914137032.9511718750\n",
      "Root Mean Squared Error (RMSE):        3074721.7983149225\n",
      "Mean Absolute Error (MAE):             1708582.2954284349\n",
      "R-squared (R²):                        0.9606799937\n",
      "Mean Absolute Percentage Error (MAPE): 0.0478930442\n",
      "Max Error (ME):                        23431456.6301187575\n",
      "Median Absolute Error (MedAE):         855273.3424295746\n"
     ]
    }
   ],
   "source": [
    "from GRNN import GRNN\n",
    "from metrics import print_metrics\n",
    "\n",
    "grnn_y1 = GRNN(sigma=0.072244104)\n",
    "grnn_y1.fit(X_train_scaled_dep_scaled, train_y1)\n",
    "\n",
    "print(\"------ test metrics ------\")\n",
    "print_metrics(test_y1, grnn_y1.predict(X_test_scaled_dep_scaled))\n",
    "print(\"------ train metrics ------\")\n",
    "print_metrics(train_y1, grnn_y1.predict(X_train_scaled_dep_scaled))"
   ],
   "metadata": {
    "collapsed": false,
    "ExecuteTime": {
     "end_time": "2024-02-07T13:30:58.046911886Z",
     "start_time": "2024-02-07T13:30:40.618394520Z"
    }
   },
   "id": "bd02c791295417b6",
   "execution_count": 33
  },
  {
   "cell_type": "markdown",
   "source": [
    "<h1> Y2 </h1>"
   ],
   "metadata": {
    "collapsed": false
   },
   "id": "e9fb39fbde41db6c"
  },
  {
   "cell_type": "code",
   "outputs": [
    {
     "name": "stdout",
     "output_type": "stream",
     "text": [
      " message: Optimization terminated successfully.\n",
      " success: True\n",
      "     fun: -0.7012675275927482\n",
      "       x: [ 6.714e-02]\n",
      "     nit: 13\n",
      "    nfev: 220\n",
      "     jac: [-1.776e-07]\n",
      "Optimal sigma_y2: 0.067135529\n"
     ]
    }
   ],
   "source": [
    "optimization_res = differential_evolution(func=objective_function, bounds=[(0, 10)], updating='deferred', workers=10, args=(X_train_scaled_dep_scaled, train_y2, X_test_scaled_dep_scaled, test_y2))\n",
    "\n",
    "print(optimization_res)\n",
    "print(\"Optimal sigma_y2: {:.{}f}\".format(optimization_res.x[0], 9))"
   ],
   "metadata": {
    "collapsed": false,
    "ExecuteTime": {
     "end_time": "2024-02-07T13:35:33.954724363Z",
     "start_time": "2024-02-07T13:31:41.797871377Z"
    }
   },
   "id": "7d5306b4151f6d23",
   "execution_count": 34
  },
  {
   "cell_type": "code",
   "outputs": [
    {
     "name": "stdout",
     "output_type": "stream",
     "text": [
      "------ test metrics ------\n",
      "Mean Squared Error (MSE):              68757907993801.7656250000\n",
      "Root Mean Squared Error (RMSE):        8292038.8321450697\n",
      "Mean Absolute Error (MAE):             4467847.7385427710\n",
      "R-squared (R²):                        0.7012675276\n",
      "Mean Absolute Percentage Error (MAPE): 1.5948290265\n",
      "Max Error (ME):                        81669821.2950690389\n",
      "Median Absolute Error (MedAE):         2611803.4048670521\n",
      "------ train metrics ------\n",
      "Mean Squared Error (MSE):              2319202637989.1362304688\n",
      "Root Mean Squared Error (RMSE):        1522892.8517755726\n",
      "Mean Absolute Error (MAE):             913188.8965885671\n",
      "R-squared (R²):                        0.9892996119\n",
      "Mean Absolute Percentage Error (MAPE): 0.3733631987\n",
      "Max Error (ME):                        20094517.1908298805\n",
      "Median Absolute Error (MedAE):         565885.4639296018\n"
     ]
    }
   ],
   "source": [
    "from GRNN import GRNN\n",
    "from metrics import print_metrics\n",
    "\n",
    "grnn_y2 = GRNN(sigma=0.067135529)\n",
    "grnn_y2.fit(X_train_scaled_dep_scaled, train_y2)\n",
    "\n",
    "print(\"------ test metrics ------\")\n",
    "print_metrics(test_y2, grnn_y2.predict(X_test_scaled_dep_scaled))\n",
    "print(\"------ train metrics ------\")\n",
    "print_metrics(train_y2, grnn_y2.predict(X_train_scaled_dep_scaled))"
   ],
   "metadata": {
    "collapsed": false,
    "ExecuteTime": {
     "end_time": "2024-02-07T13:37:05.609994817Z",
     "start_time": "2024-02-07T13:36:47.978607729Z"
    }
   },
   "id": "ab3429669e29e44f",
   "execution_count": 35
  },
  {
   "cell_type": "markdown",
   "source": [
    "<h1> Y3 </h1>"
   ],
   "metadata": {
    "collapsed": false
   },
   "id": "60f0666b559c0312"
  },
  {
   "cell_type": "code",
   "outputs": [
    {
     "name": "stdout",
     "output_type": "stream",
     "text": [
      " message: Optimization terminated successfully.\n",
      " success: True\n",
      "     fun: -0.5194998274262453\n",
      "       x: [ 9.278e-02]\n",
      "     nit: 12\n",
      "    nfev: 203\n",
      "     jac: [-1.910e-06]\n",
      "Optimal sigma_y3: 0.092775171\n"
     ]
    }
   ],
   "source": [
    "optimization_res = differential_evolution(func=objective_function, bounds=[(0, 10)], updating='deferred', workers=10, args=(X_train_scaled_dep_scaled, train_y3, X_test_scaled_dep_scaled, test_y3))\n",
    "\n",
    "print(optimization_res)\n",
    "print(\"Optimal sigma_y3: {:.{}f}\".format(optimization_res.x[0], 9))"
   ],
   "metadata": {
    "collapsed": false,
    "ExecuteTime": {
     "end_time": "2024-02-07T13:41:10.620114525Z",
     "start_time": "2024-02-07T13:37:41.850401114Z"
    }
   },
   "id": "e4d30d8b24116b5",
   "execution_count": 36
  },
  {
   "cell_type": "code",
   "outputs": [
    {
     "name": "stdout",
     "output_type": "stream",
     "text": [
      "------ test metrics ------\n",
      "Mean Squared Error (MSE):              495481364189611.5625000000\n",
      "Root Mean Squared Error (RMSE):        22259410.6882821955\n",
      "Mean Absolute Error (MAE):             11979424.2989736013\n",
      "R-squared (R²):                        0.5194998274\n",
      "Mean Absolute Percentage Error (MAPE): 0.1685334735\n",
      "Max Error (ME):                        206564719.9991375804\n",
      "Median Absolute Error (MedAE):         6494627.9019230232\n",
      "------ train metrics ------\n",
      "Mean Squared Error (MSE):              138891414340720.2031250000\n",
      "Root Mean Squared Error (RMSE):        11785220.1651356611\n",
      "Mean Absolute Error (MAE):             6781348.9117446886\n",
      "R-squared (R²):                        0.8611421370\n",
      "Mean Absolute Percentage Error (MAPE): 0.1132210091\n",
      "Max Error (ME):                        81790609.1853025109\n",
      "Median Absolute Error (MedAE):         4305304.9733991474\n"
     ]
    }
   ],
   "source": [
    "from GRNN import GRNN\n",
    "from metrics import print_metrics\n",
    "\n",
    "grnn_y3 = GRNN(sigma=0.092775171)\n",
    "grnn_y3.fit(X_train_scaled_dep_scaled, train_y3)\n",
    "\n",
    "print(\"------ test metrics ------\")\n",
    "print_metrics(test_y3, grnn_y3.predict(X_test_scaled_dep_scaled))\n",
    "print(\"------ train metrics ------\")\n",
    "print_metrics(train_y3, grnn_y3.predict(X_train_scaled_dep_scaled))"
   ],
   "metadata": {
    "collapsed": false,
    "ExecuteTime": {
     "end_time": "2024-02-07T13:42:49.008306122Z",
     "start_time": "2024-02-07T13:42:31.716739336Z"
    }
   },
   "id": "f91978d63d0b07a0",
   "execution_count": 38
  },
  {
   "cell_type": "code",
   "outputs": [],
   "source": [],
   "metadata": {
    "collapsed": false
   },
   "id": "5d664ae485bc6c92"
  }
 ],
 "metadata": {
  "kernelspec": {
   "display_name": "Python 3",
   "language": "python",
   "name": "python3"
  },
  "language_info": {
   "codemirror_mode": {
    "name": "ipython",
    "version": 2
   },
   "file_extension": ".py",
   "mimetype": "text/x-python",
   "name": "python",
   "nbconvert_exporter": "python",
   "pygments_lexer": "ipython2",
   "version": "2.7.6"
  }
 },
 "nbformat": 4,
 "nbformat_minor": 5
}
