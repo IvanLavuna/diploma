{
 "cells": [
  {
   "cell_type": "code",
   "execution_count": 1,
   "id": "initial_id",
   "metadata": {
    "collapsed": true,
    "ExecuteTime": {
     "end_time": "2024-02-28T12:20:38.836310Z",
     "start_time": "2024-02-28T12:20:38.254123Z"
    }
   },
   "outputs": [],
   "source": [
    "import pandas as pd\n",
    "from sklearn.preprocessing import MaxAbsScaler\n",
    "\n",
    "# read datasets\n",
    "train_df = pd.read_csv('data/train2.csv')\n",
    "test_df = pd.read_csv('data/test2.csv')\n",
    "\n",
    "y1_name, y2_name, y3_name = \"dir_costs\", \"traffic_costs_s_r\", \"lost_trips_costs_s_r\"\n",
    "train_y1, train_y2, train_y3 = train_df[y1_name], train_df[y2_name], train_df[y3_name]\n",
    "test_y1, test_y2, test_y3 = test_df[y1_name], test_df[y2_name], test_df[y3_name]\n",
    "\n",
    "# scale features\n",
    "X_train = train_df.drop(columns=[y1_name, y2_name, y3_name])\n",
    "scaler = MaxAbsScaler()\n",
    "scaler.fit(X_train)\n",
    "X_train = scaler.transform(X_train)\n",
    "\n",
    "X_test = test_df.drop(columns=[y1_name, y2_name, y3_name])\n",
    "X_test = scaler.transform(X_test)\n"
   ]
  },
  {
   "cell_type": "markdown",
   "source": [
    "<h2> Figure out optimal number of clusters </h2>\n"
   ],
   "metadata": {
    "collapsed": false
   },
   "id": "1c68ad41aab56f67"
  },
  {
   "cell_type": "markdown",
   "source": [
    "<h2> Elbow method </h2>"
   ],
   "metadata": {
    "collapsed": false
   },
   "id": "c822e2aa8d89f490"
  },
  {
   "cell_type": "code",
   "outputs": [
    {
     "data": {
      "text/plain": "<Figure size 640x480 with 1 Axes>",
      "image/png": "[encoded data removed]"
     },
     "metadata": {},
     "output_type": "display_data"
    }
   ],
   "source": [
    "from sklearn.cluster import KMeans\n",
    "import matplotlib.pyplot as plt\n",
    "\n",
    "# Define a range of cluster numbers\n",
    "cluster_range = range(1, 30)\n",
    "wcss = []\n",
    "\n",
    "# Calculate WCSS for each cluster number\n",
    "for n_clusters in cluster_range:\n",
    "    kmeans = KMeans(n_clusters=n_clusters, random_state=42, n_init=10)\n",
    "    kmeans.fit(X_train)\n",
    "    wcss.append(kmeans.inertia_)\n",
    "\n",
    "# Plot the elbow method graph\n",
    "plt.plot(cluster_range, wcss, marker='o')\n",
    "plt.xlabel('Number of Clusters')\n",
    "plt.ylabel('WCSS')\n",
    "plt.title('Elbow Method')\n",
    "plt.show()"
   ],
   "metadata": {
    "collapsed": false,
    "ExecuteTime": {
     "end_time": "2024-02-28T10:59:40.836205Z",
     "start_time": "2024-02-28T10:59:07.332827Z"
    }
   },
   "id": "609e95ac5c5b5d70",
   "execution_count": 2
  },
  {
   "cell_type": "code",
   "outputs": [
    {
     "data": {
      "text/plain": "KMeans(n_clusters=4, n_init=10, random_state=42)",
      "text/html": "<style>#sk-container-id-1 {color: black;}#sk-container-id-1 pre{padding: 0;}#sk-container-id-1 div.sk-toggleable {background-color: white;}#sk-container-id-1 label.sk-toggleable__label {cursor: pointer;display: block;width: 100%;margin-bottom: 0;padding: 0.3em;box-sizing: border-box;text-align: center;}#sk-container-id-1 label.sk-toggleable__label-arrow:before {content: \"▸\";float: left;margin-right: 0.25em;color: #696969;}#sk-container-id-1 label.sk-toggleable__label-arrow:hover:before {color: black;}#sk-container-id-1 div.sk-estimator:hover label.sk-toggleable__label-arrow:before {color: black;}#sk-container-id-1 div.sk-toggleable__content {max-height: 0;max-width: 0;overflow: hidden;text-align: left;background-color: #f0f8ff;}#sk-container-id-1 div.sk-toggleable__content pre {margin: 0.2em;color: black;border-radius: 0.25em;background-color: #f0f8ff;}#sk-container-id-1 input.sk-toggleable__control:checked~div.sk-toggleable__content {max-height: 200px;max-width: 100%;overflow: auto;}#sk-container-id-1 input.sk-toggleable__control:checked~label.sk-toggleable__label-arrow:before {content: \"▾\";}#sk-container-id-1 div.sk-estimator input.sk-toggleable__control:checked~label.sk-toggleable__label {background-color: #d4ebff;}#sk-container-id-1 div.sk-label input.sk-toggleable__control:checked~label.sk-toggleable__label {background-color: #d4ebff;}#sk-container-id-1 input.sk-hidden--visually {border: 0;clip: rect(1px 1px 1px 1px);clip: rect(1px, 1px, 1px, 1px);height: 1px;margin: -1px;overflow: hidden;padding: 0;position: absolute;width: 1px;}#sk-container-id-1 div.sk-estimator {font-family: monospace;background-color: #f0f8ff;border: 1px dotted black;border-radius: 0.25em;box-sizing: border-box;margin-bottom: 0.5em;}#sk-container-id-1 div.sk-estimator:hover {background-color: #d4ebff;}#sk-container-id-1 div.sk-parallel-item::after {content: \"\";width: 100%;border-bottom: 1px solid gray;flex-grow: 1;}#sk-container-id-1 div.sk-label:hover label.sk-toggleable__label {background-color: #d4ebff;}#sk-container-id-1 div.sk-serial::before {content: \"\";position: absolute;border-left: 1px solid gray;box-sizing: border-box;top: 0;bottom: 0;left: 50%;z-index: 0;}#sk-container-id-1 div.sk-serial {display: flex;flex-direction: column;align-items: center;background-color: white;padding-right: 0.2em;padding-left: 0.2em;position: relative;}#sk-container-id-1 div.sk-item {position: relative;z-index: 1;}#sk-container-id-1 div.sk-parallel {display: flex;align-items: stretch;justify-content: center;background-color: white;position: relative;}#sk-container-id-1 div.sk-item::before, #sk-container-id-1 div.sk-parallel-item::before {content: \"\";position: absolute;border-left: 1px solid gray;box-sizing: border-box;top: 0;bottom: 0;left: 50%;z-index: -1;}#sk-container-id-1 div.sk-parallel-item {display: flex;flex-direction: column;z-index: 1;position: relative;background-color: white;}#sk-container-id-1 div.sk-parallel-item:first-child::after {align-self: flex-end;width: 50%;}#sk-container-id-1 div.sk-parallel-item:last-child::after {align-self: flex-start;width: 50%;}#sk-container-id-1 div.sk-parallel-item:only-child::after {width: 0;}#sk-container-id-1 div.sk-dashed-wrapped {border: 1px dashed gray;margin: 0 0.4em 0.5em 0.4em;box-sizing: border-box;padding-bottom: 0.4em;background-color: white;}#sk-container-id-1 div.sk-label label {font-family: monospace;font-weight: bold;display: inline-block;line-height: 1.2em;}#sk-container-id-1 div.sk-label-container {text-align: center;}#sk-container-id-1 div.sk-container {/* jupyter's `normalize.less` sets `[hidden] { display: none; }` but bootstrap.min.css set `[hidden] { display: none !important; }` so we also need the `!important` here to be able to override the default hidden behavior on the sphinx rendered scikit-learn.org. See: https://github.com/scikit-learn/scikit-learn/issues/21755 */display: inline-block !important;position: relative;}#sk-container-id-1 div.sk-text-repr-fallback {display: none;}</style><div id=\"sk-container-id-1\" class=\"sk-top-container\"><div class=\"sk-text-repr-fallback\"><pre>KMeans(n_clusters=4, n_init=10, random_state=42)</pre><b>In a Jupyter environment, please rerun this cell to show the HTML representation or trust the notebook. <br />On GitHub, the HTML representation is unable to render, please try loading this page with nbviewer.org.</b></div><div class=\"sk-container\" hidden><div class=\"sk-item\"><div class=\"sk-estimator sk-toggleable\"><input class=\"sk-toggleable__control sk-hidden--visually\" id=\"sk-estimator-id-1\" type=\"checkbox\" checked><label for=\"sk-estimator-id-1\" class=\"sk-toggleable__label sk-toggleable__label-arrow\">KMeans</label><div class=\"sk-toggleable__content\"><pre>KMeans(n_clusters=4, n_init=10, random_state=42)</pre></div></div></div></div></div>"
     },
     "execution_count": 2,
     "metadata": {},
     "output_type": "execute_result"
    }
   ],
   "source": [
    "from sklearn.cluster import KMeans\n",
    "\n",
    "clusters_num = 4\n",
    "kmeans = KMeans(n_clusters=clusters_num, random_state=42, n_init=10)\n",
    "kmeans.fit(X_train)"
   ],
   "metadata": {
    "collapsed": false,
    "ExecuteTime": {
     "end_time": "2024-02-28T12:20:47.447938Z",
     "start_time": "2024-02-28T12:20:45.843586Z"
    }
   },
   "id": "e39bb2125282a679",
   "execution_count": 2
  },
  {
   "cell_type": "code",
   "outputs": [],
   "source": [
    "import numpy as np\n",
    "# transforms X into clustered dataset with. k - number of clusters in the range [0, k-1]\n",
    "def transform_to_clustered_dataset(X: np.ndarray, cluster_predictor, k: int):\n",
    "    clusters = cluster_predictor.predict(X)\n",
    "    zero_columns = pd.DataFrame(np.zeros((X.shape[0], k)), columns=[f'class_{i}' for i in range(k)])\n",
    "    res = np.concatenate((X, zero_columns), axis=1)\n",
    "    for i in range(res.shape[0]):\n",
    "        cluster = clusters[i]\n",
    "        res[i, X.shape[1] + cluster] = 1.0 \n",
    "    return res"
   ],
   "metadata": {
    "collapsed": false,
    "ExecuteTime": {
     "end_time": "2024-02-28T12:20:48.322171Z",
     "start_time": "2024-02-28T12:20:48.317089Z"
    }
   },
   "id": "1eee83db18a2baba",
   "execution_count": 3
  },
  {
   "cell_type": "code",
   "outputs": [],
   "source": [
    "X_train_clustered = transform_to_clustered_dataset(X_train, kmeans, clusters_num)\n",
    "X_test_clustered = transform_to_clustered_dataset(X_test, kmeans, clusters_num)"
   ],
   "metadata": {
    "collapsed": false,
    "ExecuteTime": {
     "end_time": "2024-02-28T12:20:50.477025Z",
     "start_time": "2024-02-28T12:20:50.463456Z"
    }
   },
   "id": "47e0424f548d6a1b",
   "execution_count": 4
  },
  {
   "cell_type": "markdown",
   "source": [
    "<h1> GBR with arbitrary hyperparameters </h1>"
   ],
   "metadata": {
    "collapsed": false
   },
   "id": "ac86139aa6cd961e"
  },
  {
   "cell_type": "code",
   "outputs": [
    {
     "name": "stdout",
     "output_type": "stream",
     "text": [
      "------ test metrics ------\n",
      "Mean Squared Error (MSE):              786486779502931.8750000000\n",
      "Root Mean Squared Error (RMSE):        28044371.6189707480\n",
      "Mean Absolute Error (MAE):             14532235.0527576413\n",
      "R-squared (R²):                        0.6879598345\n",
      "Mean Absolute Percentage Error (MAPE): 0.1518554637\n",
      "Max Error (ME):                        230249165.1644266248\n",
      "Median Absolute Error (MedAE):         5960388.9501196146\n",
      "------ train metrics ------\n",
      "Mean Squared Error (MSE):              271421463067814.5000000000\n",
      "Root Mean Squared Error (RMSE):        16474873.6889790595\n",
      "Mean Absolute Error (MAE):             9833697.1238999143\n",
      "R-squared (R²):                        0.8993216558\n",
      "Mean Absolute Percentage Error (MAPE): 0.1177585550\n",
      "Max Error (ME):                        112625487.0683588088\n",
      "Median Absolute Error (MedAE):         5577094.9222848881\n"
     ]
    }
   ],
   "source": [
    "from metrics import print_metrics\n",
    "from sklearn.ensemble import GradientBoostingRegressor\n",
    "\n",
    "# Create an instance of GradientBoostingRegressor\n",
    "gb_regressor = GradientBoostingRegressor(n_estimators=100, learning_rate=0.1, max_depth=3, random_state=42)\n",
    "\n",
    "# Fit the regressor to the training data\n",
    "gb_regressor.fit(X_train_clustered, train_y3)\n",
    "\n",
    "print(\"------ test metrics ------\")\n",
    "print_metrics(test_y3, gb_regressor.predict(X_test_clustered))\n",
    "\n",
    "print(\"------ train metrics ------\")\n",
    "print_metrics(train_y3, gb_regressor.predict(X_train_clustered))"
   ],
   "metadata": {
    "collapsed": false,
    "ExecuteTime": {
     "end_time": "2024-02-28T12:20:59.214294Z",
     "start_time": "2024-02-28T12:20:58.698853Z"
    }
   },
   "id": "439a02da95358ed7",
   "execution_count": 5
  },
  {
   "cell_type": "markdown",
   "source": [
    "<h1> Optimize Gradient boost parameters using Differential evolution</h1>"
   ],
   "metadata": {
    "collapsed": false
   },
   "id": "4e81fb4bcd23743e"
  },
  {
   "cell_type": "code",
   "outputs": [],
   "source": [
    "from sklearn.metrics import r2_score\n",
    "from scipy.optimize import differential_evolution\n",
    "\n",
    "# define objective function\n",
    "def objective_function(params, train_X, train_y, test_X, test_y):\n",
    "    regressor = GradientBoostingRegressor(n_estimators=int(params[0]), learning_rate=params[1], max_depth=int(params[2]), random_state=42)\n",
    "    regressor.fit(train_X, train_y)\n",
    "    pred_y = regressor.predict(test_X)\n",
    "    r2 = r2_score(test_y, pred_y)\n",
    "    return -r2"
   ],
   "metadata": {
    "collapsed": false,
    "ExecuteTime": {
     "end_time": "2024-02-28T12:21:06.112776Z",
     "start_time": "2024-02-28T12:21:06.108139Z"
    }
   },
   "id": "e3b4ae81de15aca0",
   "execution_count": 6
  },
  {
   "cell_type": "code",
   "outputs": [
    {
     "name": "stdout",
     "output_type": "stream",
     "text": [
      "differential_evolution step 1: f(x)= -0.685604\n",
      "differential_evolution step 2: f(x)= -0.698017\n",
      "differential_evolution step 3: f(x)= -0.70293\n",
      "differential_evolution step 4: f(x)= -0.70293\n",
      "differential_evolution step 5: f(x)= -0.70293\n",
      "differential_evolution step 6: f(x)= -0.70293\n",
      "differential_evolution step 7: f(x)= -0.70306\n",
      "differential_evolution step 8: f(x)= -0.70306\n",
      "differential_evolution step 9: f(x)= -0.70306\n",
      "differential_evolution step 10: f(x)= -0.70306\n",
      "differential_evolution step 11: f(x)= -0.70306\n",
      "differential_evolution step 12: f(x)= -0.710306\n",
      "differential_evolution step 13: f(x)= -0.710306\n",
      "differential_evolution step 14: f(x)= -0.710306\n",
      "differential_evolution step 15: f(x)= -0.710306\n",
      "differential_evolution step 16: f(x)= -0.710306\n",
      "differential_evolution step 17: f(x)= -0.710306\n",
      "differential_evolution step 18: f(x)= -0.710306\n",
      "differential_evolution step 19: f(x)= -0.710306\n",
      "differential_evolution step 20: f(x)= -0.710306\n",
      "differential_evolution step 21: f(x)= -0.710306\n",
      "differential_evolution step 22: f(x)= -0.710306\n",
      "differential_evolution step 23: f(x)= -0.710306\n",
      "differential_evolution step 24: f(x)= -0.7124\n",
      "differential_evolution step 25: f(x)= -0.7124\n",
      "differential_evolution step 26: f(x)= -0.7124\n",
      "differential_evolution step 27: f(x)= -0.7124\n",
      "differential_evolution step 28: f(x)= -0.7124\n",
      "differential_evolution step 29: f(x)= -0.7124\n",
      "differential_evolution step 30: f(x)= -0.7124\n",
      "differential_evolution step 31: f(x)= -0.7124\n",
      "differential_evolution step 32: f(x)= -0.7124\n",
      "differential_evolution step 33: f(x)= -0.7124\n",
      "differential_evolution step 34: f(x)= -0.7124\n",
      "differential_evolution step 35: f(x)= -0.7124\n",
      "differential_evolution step 36: f(x)= -0.712725\n",
      "differential_evolution step 37: f(x)= -0.712725\n",
      "differential_evolution step 38: f(x)= -0.712978\n",
      "differential_evolution step 39: f(x)= -0.715075\n",
      "differential_evolution step 40: f(x)= -0.715075\n",
      "differential_evolution step 41: f(x)= -0.715075\n",
      "differential_evolution step 42: f(x)= -0.715075\n",
      "differential_evolution step 43: f(x)= -0.715075\n",
      "differential_evolution step 44: f(x)= -0.715075\n",
      "differential_evolution step 45: f(x)= -0.715075\n",
      "differential_evolution step 46: f(x)= -0.71508\n",
      "differential_evolution step 47: f(x)= -0.715692\n",
      "differential_evolution step 48: f(x)= -0.716483\n",
      "differential_evolution step 49: f(x)= -0.716483\n",
      "differential_evolution step 50: f(x)= -0.716483\n",
      "differential_evolution step 51: f(x)= -0.716483\n",
      "differential_evolution step 52: f(x)= -0.716483\n",
      "differential_evolution step 53: f(x)= -0.716483\n",
      "differential_evolution step 54: f(x)= -0.716483\n",
      "differential_evolution step 55: f(x)= -0.716483\n",
      "differential_evolution step 56: f(x)= -0.716483\n",
      "differential_evolution step 57: f(x)= -0.716678\n",
      "differential_evolution step 58: f(x)= -0.716678\n",
      "differential_evolution step 59: f(x)= -0.716678\n",
      "differential_evolution step 60: f(x)= -0.716678\n",
      "Polishing solution with 'L-BFGS-B'\n",
      " message: Maximum number of iterations has been exceeded.\n",
      " success: False\n",
      "     fun: -0.7167005308421123\n",
      "       x: [ 1.746e+02  1.519e-01  2.793e+00]\n",
      "     nit: 60\n",
      "    nfev: 2829\n",
      "     jac: [ 0.000e+00  1.274e+05  0.000e+00]\n"
     ]
    }
   ],
   "source": [
    "optimization_res = differential_evolution(func=objective_function, \n",
    "                                          bounds=[(2, 300), (0.0001, 0.5), (2, 10)], \n",
    "                                          updating='deferred',\n",
    "                                          workers=10, \n",
    "                                          disp=True,\n",
    "                                          tol=0.00001,\n",
    "                                          atol=0.00001,\n",
    "                                          maxiter=60,\n",
    "                                          args=(X_train_clustered, train_y3, X_test_clustered, test_y3))\n",
    "print(optimization_res)"
   ],
   "metadata": {
    "collapsed": false,
    "ExecuteTime": {
     "end_time": "2024-02-28T12:27:16.292995Z",
     "start_time": "2024-02-28T12:21:09.822424Z"
    }
   },
   "id": "b514ea7c11613068",
   "execution_count": 7
  },
  {
   "cell_type": "code",
   "outputs": [
    {
     "data": {
      "text/plain": "array([1.74573428e+02, 1.51888700e-01, 2.79251442e+00])"
     },
     "execution_count": 8,
     "metadata": {},
     "output_type": "execute_result"
    }
   ],
   "source": [
    "optimization_res.x"
   ],
   "metadata": {
    "collapsed": false,
    "ExecuteTime": {
     "end_time": "2024-02-28T12:27:16.298696Z",
     "start_time": "2024-02-28T12:27:16.294718Z"
    }
   },
   "id": "af70d2cec6fa7431",
   "execution_count": 8
  },
  {
   "cell_type": "code",
   "outputs": [
    {
     "name": "stdout",
     "output_type": "stream",
     "text": [
      "------ test metrics ------\n",
      "Mean Squared Error (MSE):              714046817624024.1250000000\n",
      "Root Mean Squared Error (RMSE):        26721654.4701862372\n",
      "Mean Absolute Error (MAE):             14477531.2558780108\n",
      "R-squared (R²):                        0.7167005308\n",
      "Mean Absolute Percentage Error (MAPE): 0.1699060290\n",
      "Max Error (ME):                        235903475.3310697973\n",
      "Median Absolute Error (MedAE):         8075610.5907016695\n",
      "------ train metrics ------\n",
      "Mean Squared Error (MSE):              303703215187378.3125000000\n",
      "Root Mean Squared Error (RMSE):        17427082.8077271245\n",
      "Mean Absolute Error (MAE):             10843233.5405764822\n",
      "R-squared (R²):                        0.8873473878\n",
      "Mean Absolute Percentage Error (MAPE): 0.1361571977\n",
      "Max Error (ME):                        130494726.2480802834\n",
      "Median Absolute Error (MedAE):         6811947.8928628489\n"
     ]
    }
   ],
   "source": [
    "from metrics import print_metrics\n",
    "from sklearn.ensemble import GradientBoostingRegressor\n",
    "\n",
    "# Create an instance of GradientBoostingRegressor\n",
    "gb_regressor = GradientBoostingRegressor(n_estimators=int(optimization_res.x[0]), learning_rate=optimization_res.x[1], max_depth=int(optimization_res.x[2]), random_state=42)\n",
    "\n",
    "# Fit the regressor to the training data\n",
    "gb_regressor.fit(X_train_clustered, train_y3)\n",
    "\n",
    "print(\"------ test metrics ------\")\n",
    "print_metrics(test_y3, gb_regressor.predict(X_test_clustered))\n",
    "\n",
    "print(\"------ train metrics ------\")\n",
    "print_metrics(train_y3, gb_regressor.predict(X_train_clustered))"
   ],
   "metadata": {
    "collapsed": false,
    "ExecuteTime": {
     "end_time": "2024-02-28T12:27:16.823066Z",
     "start_time": "2024-02-28T12:27:16.299999Z"
    }
   },
   "id": "5be0dc434ea26fba",
   "execution_count": 9
  },
  {
   "cell_type": "code",
   "outputs": [],
   "source": [],
   "metadata": {
    "collapsed": false
   },
   "id": "37904cc836f6a4eb"
  }
 ],
 "metadata": {
  "kernelspec": {
   "display_name": "Python 3",
   "language": "python",
   "name": "python3"
  },
  "language_info": {
   "codemirror_mode": {
    "name": "ipython",
    "version": 2
   },
   "file_extension": ".py",
   "mimetype": "text/x-python",
   "name": "python",
   "nbconvert_exporter": "python",
   "pygments_lexer": "ipython2",
   "version": "2.7.6"
  }
 },
 "nbformat": 4,
 "nbformat_minor": 5
}
