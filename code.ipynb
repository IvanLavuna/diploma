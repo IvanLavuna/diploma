{
 "cells": [
  {
   "cell_type": "markdown",
   "source": [
    "<h4> 1. Import data </h4>"
   ],
   "metadata": {
    "collapsed": false
   },
   "id": "2c96539f6cedc57e"
  },
  {
   "cell_type": "code",
   "execution_count": 3,
   "id": "initial_id",
   "metadata": {
    "collapsed": true,
    "ExecuteTime": {
     "end_time": "2024-01-15T12:49:03.202595808Z",
     "start_time": "2024-01-15T12:49:03.182886147Z"
    }
   },
   "outputs": [],
   "source": [
    "import pandas as pd"
   ]
  },
  {
   "cell_type": "code",
   "outputs": [],
   "source": [
    "df = pd.read_csv('data/train.csv')"
   ],
   "metadata": {
    "collapsed": false,
    "ExecuteTime": {
     "end_time": "2024-01-15T12:49:04.448758130Z",
     "start_time": "2024-01-15T12:49:04.424934235Z"
    }
   },
   "id": "b42c7390950dd516",
   "execution_count": 4
  },
  {
   "cell_type": "code",
   "outputs": [
    {
     "data": {
      "text/plain": "   max_discharge_sum_r1  max_discharge_sum_r2_1  max_discharge_sum_r2_2  \\\n0            585.669565             1626.362646             1917.919430   \n1            577.557845             1643.059879             1887.656759   \n2            772.575113             1672.017477             1803.841771   \n3            522.083261             1653.122228             3326.489392   \n4            614.144564             1644.183921             2485.551499   \n5            813.288970             1669.059934             1877.527825   \n6            663.211125             1666.035202             2230.319808   \n7            501.752017             1726.178830             2023.484977   \n8            581.130243             1669.379831             1976.993224   \n9            622.458211             1636.290754             2176.796189   \n\n   max_discharge_sum_r3  flood_sum_r1  flood_sum_r2_1  flood_sum_r2_2  \\\n0            638.858438   8411.140723    31506.112765    22090.545196   \n1            821.350990   8428.714304    31464.769187    21934.204673   \n2            494.527298   9338.140945    31334.393859    21498.213911   \n3            460.208237   8055.620780    40539.300119    32937.770259   \n4            595.062726   8529.557570    34186.482882    28422.797907   \n5            680.463375   9701.224093    31193.165234    22297.853693   \n6            671.192423   8806.258837    32504.615705    26343.616164   \n7            993.980349   8031.132240    32844.961063    22531.504746   \n8           1105.226828   8297.437471    32213.132745    22180.596511   \n9            457.469364   8532.337554    32557.583545    24402.157344   \n\n   flood_sum_r3  HW_inund_uncertainty  bridge_scour_uncertainty  \\\n0  15338.736641              1.028415                  1.140250   \n1  17058.632353              1.028008                  0.908724   \n2  13903.405134              1.081371                  0.949278   \n3  13073.489518              1.051976                  1.264463   \n4  14950.683896              0.786564                  0.703410   \n5  15652.704965              0.783139                  1.379349   \n6  15618.296388              0.879739                  0.739705   \n7  18555.229803              0.639638                  0.353749   \n8  19413.062434              0.974252                  0.517781   \n9  13253.838280              0.860631                  1.257677   \n\n   travel_demand_uncertainty  restoration_capacity_uncertainty     dir_costs  \\\n0                   0.763417                                 6  3.340766e+07   \n1                   1.138794                                 5  2.622206e+07   \n2                   1.057013                                 3  2.526532e+07   \n3                   0.979334                                 3  5.486000e+07   \n4                   1.233351                                 4  3.921215e+07   \n5                   0.876307                                 6  3.225823e+07   \n6                   0.639232                                 6  3.501944e+07   \n7                   1.191593                                 5  2.881552e+07   \n8                   0.941533                                 6  3.182847e+07   \n9                   1.158570                                 4  4.565669e+07   \n\n   lost_trips_costs_s_r  traffic_costs_s_r  \n0          6.390603e+07      -1.387608e+07  \n1          5.535979e+07       9.384497e+06  \n2          5.933291e+07       5.139631e+06  \n3          9.421211e+07       2.127731e+06  \n4          7.632145e+07       2.113208e+07  \n5          7.616296e+07      -6.506723e+06  \n6          3.283001e+07      -1.755404e+07  \n7          7.138991e+07       1.742383e+07  \n8          5.681803e+07      -2.533089e+06  \n9          6.153274e+07       1.404378e+07  ",
      "text/html": "<div>\n<style scoped>\n    .dataframe tbody tr th:only-of-type {\n        vertical-align: middle;\n    }\n\n    .dataframe tbody tr th {\n        vertical-align: top;\n    }\n\n    .dataframe thead th {\n        text-align: right;\n    }\n</style>\n<table border=\"1\" class=\"dataframe\">\n  <thead>\n    <tr style=\"text-align: right;\">\n      <th></th>\n      <th>max_discharge_sum_r1</th>\n      <th>max_discharge_sum_r2_1</th>\n      <th>max_discharge_sum_r2_2</th>\n      <th>max_discharge_sum_r3</th>\n      <th>flood_sum_r1</th>\n      <th>flood_sum_r2_1</th>\n      <th>flood_sum_r2_2</th>\n      <th>flood_sum_r3</th>\n      <th>HW_inund_uncertainty</th>\n      <th>bridge_scour_uncertainty</th>\n      <th>travel_demand_uncertainty</th>\n      <th>restoration_capacity_uncertainty</th>\n      <th>dir_costs</th>\n      <th>lost_trips_costs_s_r</th>\n      <th>traffic_costs_s_r</th>\n    </tr>\n  </thead>\n  <tbody>\n    <tr>\n      <th>0</th>\n      <td>585.669565</td>\n      <td>1626.362646</td>\n      <td>1917.919430</td>\n      <td>638.858438</td>\n      <td>8411.140723</td>\n      <td>31506.112765</td>\n      <td>22090.545196</td>\n      <td>15338.736641</td>\n      <td>1.028415</td>\n      <td>1.140250</td>\n      <td>0.763417</td>\n      <td>6</td>\n      <td>3.340766e+07</td>\n      <td>6.390603e+07</td>\n      <td>-1.387608e+07</td>\n    </tr>\n    <tr>\n      <th>1</th>\n      <td>577.557845</td>\n      <td>1643.059879</td>\n      <td>1887.656759</td>\n      <td>821.350990</td>\n      <td>8428.714304</td>\n      <td>31464.769187</td>\n      <td>21934.204673</td>\n      <td>17058.632353</td>\n      <td>1.028008</td>\n      <td>0.908724</td>\n      <td>1.138794</td>\n      <td>5</td>\n      <td>2.622206e+07</td>\n      <td>5.535979e+07</td>\n      <td>9.384497e+06</td>\n    </tr>\n    <tr>\n      <th>2</th>\n      <td>772.575113</td>\n      <td>1672.017477</td>\n      <td>1803.841771</td>\n      <td>494.527298</td>\n      <td>9338.140945</td>\n      <td>31334.393859</td>\n      <td>21498.213911</td>\n      <td>13903.405134</td>\n      <td>1.081371</td>\n      <td>0.949278</td>\n      <td>1.057013</td>\n      <td>3</td>\n      <td>2.526532e+07</td>\n      <td>5.933291e+07</td>\n      <td>5.139631e+06</td>\n    </tr>\n    <tr>\n      <th>3</th>\n      <td>522.083261</td>\n      <td>1653.122228</td>\n      <td>3326.489392</td>\n      <td>460.208237</td>\n      <td>8055.620780</td>\n      <td>40539.300119</td>\n      <td>32937.770259</td>\n      <td>13073.489518</td>\n      <td>1.051976</td>\n      <td>1.264463</td>\n      <td>0.979334</td>\n      <td>3</td>\n      <td>5.486000e+07</td>\n      <td>9.421211e+07</td>\n      <td>2.127731e+06</td>\n    </tr>\n    <tr>\n      <th>4</th>\n      <td>614.144564</td>\n      <td>1644.183921</td>\n      <td>2485.551499</td>\n      <td>595.062726</td>\n      <td>8529.557570</td>\n      <td>34186.482882</td>\n      <td>28422.797907</td>\n      <td>14950.683896</td>\n      <td>0.786564</td>\n      <td>0.703410</td>\n      <td>1.233351</td>\n      <td>4</td>\n      <td>3.921215e+07</td>\n      <td>7.632145e+07</td>\n      <td>2.113208e+07</td>\n    </tr>\n    <tr>\n      <th>5</th>\n      <td>813.288970</td>\n      <td>1669.059934</td>\n      <td>1877.527825</td>\n      <td>680.463375</td>\n      <td>9701.224093</td>\n      <td>31193.165234</td>\n      <td>22297.853693</td>\n      <td>15652.704965</td>\n      <td>0.783139</td>\n      <td>1.379349</td>\n      <td>0.876307</td>\n      <td>6</td>\n      <td>3.225823e+07</td>\n      <td>7.616296e+07</td>\n      <td>-6.506723e+06</td>\n    </tr>\n    <tr>\n      <th>6</th>\n      <td>663.211125</td>\n      <td>1666.035202</td>\n      <td>2230.319808</td>\n      <td>671.192423</td>\n      <td>8806.258837</td>\n      <td>32504.615705</td>\n      <td>26343.616164</td>\n      <td>15618.296388</td>\n      <td>0.879739</td>\n      <td>0.739705</td>\n      <td>0.639232</td>\n      <td>6</td>\n      <td>3.501944e+07</td>\n      <td>3.283001e+07</td>\n      <td>-1.755404e+07</td>\n    </tr>\n    <tr>\n      <th>7</th>\n      <td>501.752017</td>\n      <td>1726.178830</td>\n      <td>2023.484977</td>\n      <td>993.980349</td>\n      <td>8031.132240</td>\n      <td>32844.961063</td>\n      <td>22531.504746</td>\n      <td>18555.229803</td>\n      <td>0.639638</td>\n      <td>0.353749</td>\n      <td>1.191593</td>\n      <td>5</td>\n      <td>2.881552e+07</td>\n      <td>7.138991e+07</td>\n      <td>1.742383e+07</td>\n    </tr>\n    <tr>\n      <th>8</th>\n      <td>581.130243</td>\n      <td>1669.379831</td>\n      <td>1976.993224</td>\n      <td>1105.226828</td>\n      <td>8297.437471</td>\n      <td>32213.132745</td>\n      <td>22180.596511</td>\n      <td>19413.062434</td>\n      <td>0.974252</td>\n      <td>0.517781</td>\n      <td>0.941533</td>\n      <td>6</td>\n      <td>3.182847e+07</td>\n      <td>5.681803e+07</td>\n      <td>-2.533089e+06</td>\n    </tr>\n    <tr>\n      <th>9</th>\n      <td>622.458211</td>\n      <td>1636.290754</td>\n      <td>2176.796189</td>\n      <td>457.469364</td>\n      <td>8532.337554</td>\n      <td>32557.583545</td>\n      <td>24402.157344</td>\n      <td>13253.838280</td>\n      <td>0.860631</td>\n      <td>1.257677</td>\n      <td>1.158570</td>\n      <td>4</td>\n      <td>4.565669e+07</td>\n      <td>6.153274e+07</td>\n      <td>1.404378e+07</td>\n    </tr>\n  </tbody>\n</table>\n</div>"
     },
     "execution_count": 5,
     "metadata": {},
     "output_type": "execute_result"
    }
   ],
   "source": [
    "df.head(10)"
   ],
   "metadata": {
    "collapsed": false,
    "ExecuteTime": {
     "end_time": "2024-01-15T12:49:04.945304769Z",
     "start_time": "2024-01-15T12:49:04.886817418Z"
    }
   },
   "id": "7e3b0a6f8fff86c2",
   "execution_count": 5
  },
  {
   "cell_type": "code",
   "outputs": [
    {
     "data": {
      "text/plain": "(1616, 15)"
     },
     "execution_count": 6,
     "metadata": {},
     "output_type": "execute_result"
    }
   ],
   "source": [
    "df.shape"
   ],
   "metadata": {
    "collapsed": false,
    "ExecuteTime": {
     "end_time": "2024-01-15T12:49:05.960538113Z",
     "start_time": "2024-01-15T12:49:05.879781324Z"
    }
   },
   "id": "9f1f8161c7c3f50",
   "execution_count": 6
  },
  {
   "cell_type": "markdown",
   "source": [
    "<h4> 2. Clustering </h4>"
   ],
   "metadata": {
    "collapsed": false
   },
   "id": "d52b91a20f14374"
  },
  {
   "cell_type": "code",
   "outputs": [
    {
     "name": "stderr",
     "output_type": "stream",
     "text": [
      "/home/lavuna47/Projects/Diploma/venv/lib64/python3.10/site-packages/sklearn/cluster/_kmeans.py:1416: FutureWarning: The default value of `n_init` will change from 10 to 'auto' in 1.4. Set the value of `n_init` explicitly to suppress the warning\n",
      "  super()._check_params_vs_input(X, default_n_init=10)\n"
     ]
    }
   ],
   "source": [
    "from sklearn.cluster import KMeans\n",
    "# Specify the number of clusters (k)\n",
    "k = 10\n",
    "\n",
    "# Initialize the KMeans model\n",
    "kmeans = KMeans(n_clusters=k, random_state=42)\n",
    "\n",
    "# Fit the model to the data. Drop y1, y2, y3\n",
    "kmeans.fit(df.drop(columns=[\"dir_costs\", \"lost_trips_costs_s_r\", \"traffic_costs_s_r\"]))\n",
    "\n",
    "# Get the cluster labels for each data point\n",
    "labels = kmeans.labels_\n",
    "\n",
    "# Add the cluster labels to the DataFrame\n",
    "df['Cluster'] = labels\n"
   ],
   "metadata": {
    "collapsed": false,
    "ExecuteTime": {
     "end_time": "2024-01-15T12:49:14.270112300Z",
     "start_time": "2024-01-15T12:49:12.170689471Z"
    }
   },
   "id": "81796403bac35fd3",
   "execution_count": 7
  },
  {
   "cell_type": "code",
   "outputs": [
    {
     "data": {
      "text/plain": "   max_discharge_sum_r1  max_discharge_sum_r2_1  max_discharge_sum_r2_2  \\\n0            585.669565             1626.362646             1917.919430   \n1            577.557845             1643.059879             1887.656759   \n2            772.575113             1672.017477             1803.841771   \n3            522.083261             1653.122228             3326.489392   \n4            614.144564             1644.183921             2485.551499   \n\n   max_discharge_sum_r3  flood_sum_r1  flood_sum_r2_1  flood_sum_r2_2  \\\n0            638.858438   8411.140723    31506.112765    22090.545196   \n1            821.350990   8428.714304    31464.769187    21934.204673   \n2            494.527298   9338.140945    31334.393859    21498.213911   \n3            460.208237   8055.620780    40539.300119    32937.770259   \n4            595.062726   8529.557570    34186.482882    28422.797907   \n\n   flood_sum_r3  HW_inund_uncertainty  bridge_scour_uncertainty  \\\n0  15338.736641              1.028415                  1.140250   \n1  17058.632353              1.028008                  0.908724   \n2  13903.405134              1.081371                  0.949278   \n3  13073.489518              1.051976                  1.264463   \n4  14950.683896              0.786564                  0.703410   \n\n   travel_demand_uncertainty  restoration_capacity_uncertainty     dir_costs  \\\n0                   0.763417                                 6  3.340766e+07   \n1                   1.138794                                 5  2.622206e+07   \n2                   1.057013                                 3  2.526532e+07   \n3                   0.979334                                 3  5.486000e+07   \n4                   1.233351                                 4  3.921215e+07   \n\n   lost_trips_costs_s_r  traffic_costs_s_r  Cluster  \n0          6.390603e+07      -1.387608e+07        2  \n1          5.535979e+07       9.384497e+06        9  \n2          5.933291e+07       5.139631e+06        6  \n3          9.421211e+07       2.127731e+06        1  \n4          7.632145e+07       2.113208e+07        4  ",
      "text/html": "<div>\n<style scoped>\n    .dataframe tbody tr th:only-of-type {\n        vertical-align: middle;\n    }\n\n    .dataframe tbody tr th {\n        vertical-align: top;\n    }\n\n    .dataframe thead th {\n        text-align: right;\n    }\n</style>\n<table border=\"1\" class=\"dataframe\">\n  <thead>\n    <tr style=\"text-align: right;\">\n      <th></th>\n      <th>max_discharge_sum_r1</th>\n      <th>max_discharge_sum_r2_1</th>\n      <th>max_discharge_sum_r2_2</th>\n      <th>max_discharge_sum_r3</th>\n      <th>flood_sum_r1</th>\n      <th>flood_sum_r2_1</th>\n      <th>flood_sum_r2_2</th>\n      <th>flood_sum_r3</th>\n      <th>HW_inund_uncertainty</th>\n      <th>bridge_scour_uncertainty</th>\n      <th>travel_demand_uncertainty</th>\n      <th>restoration_capacity_uncertainty</th>\n      <th>dir_costs</th>\n      <th>lost_trips_costs_s_r</th>\n      <th>traffic_costs_s_r</th>\n      <th>Cluster</th>\n    </tr>\n  </thead>\n  <tbody>\n    <tr>\n      <th>0</th>\n      <td>585.669565</td>\n      <td>1626.362646</td>\n      <td>1917.919430</td>\n      <td>638.858438</td>\n      <td>8411.140723</td>\n      <td>31506.112765</td>\n      <td>22090.545196</td>\n      <td>15338.736641</td>\n      <td>1.028415</td>\n      <td>1.140250</td>\n      <td>0.763417</td>\n      <td>6</td>\n      <td>3.340766e+07</td>\n      <td>6.390603e+07</td>\n      <td>-1.387608e+07</td>\n      <td>2</td>\n    </tr>\n    <tr>\n      <th>1</th>\n      <td>577.557845</td>\n      <td>1643.059879</td>\n      <td>1887.656759</td>\n      <td>821.350990</td>\n      <td>8428.714304</td>\n      <td>31464.769187</td>\n      <td>21934.204673</td>\n      <td>17058.632353</td>\n      <td>1.028008</td>\n      <td>0.908724</td>\n      <td>1.138794</td>\n      <td>5</td>\n      <td>2.622206e+07</td>\n      <td>5.535979e+07</td>\n      <td>9.384497e+06</td>\n      <td>9</td>\n    </tr>\n    <tr>\n      <th>2</th>\n      <td>772.575113</td>\n      <td>1672.017477</td>\n      <td>1803.841771</td>\n      <td>494.527298</td>\n      <td>9338.140945</td>\n      <td>31334.393859</td>\n      <td>21498.213911</td>\n      <td>13903.405134</td>\n      <td>1.081371</td>\n      <td>0.949278</td>\n      <td>1.057013</td>\n      <td>3</td>\n      <td>2.526532e+07</td>\n      <td>5.933291e+07</td>\n      <td>5.139631e+06</td>\n      <td>6</td>\n    </tr>\n    <tr>\n      <th>3</th>\n      <td>522.083261</td>\n      <td>1653.122228</td>\n      <td>3326.489392</td>\n      <td>460.208237</td>\n      <td>8055.620780</td>\n      <td>40539.300119</td>\n      <td>32937.770259</td>\n      <td>13073.489518</td>\n      <td>1.051976</td>\n      <td>1.264463</td>\n      <td>0.979334</td>\n      <td>3</td>\n      <td>5.486000e+07</td>\n      <td>9.421211e+07</td>\n      <td>2.127731e+06</td>\n      <td>1</td>\n    </tr>\n    <tr>\n      <th>4</th>\n      <td>614.144564</td>\n      <td>1644.183921</td>\n      <td>2485.551499</td>\n      <td>595.062726</td>\n      <td>8529.557570</td>\n      <td>34186.482882</td>\n      <td>28422.797907</td>\n      <td>14950.683896</td>\n      <td>0.786564</td>\n      <td>0.703410</td>\n      <td>1.233351</td>\n      <td>4</td>\n      <td>3.921215e+07</td>\n      <td>7.632145e+07</td>\n      <td>2.113208e+07</td>\n      <td>4</td>\n    </tr>\n  </tbody>\n</table>\n</div>"
     },
     "execution_count": 8,
     "metadata": {},
     "output_type": "execute_result"
    }
   ],
   "source": [
    "df.head()"
   ],
   "metadata": {
    "collapsed": false,
    "ExecuteTime": {
     "end_time": "2024-01-15T12:49:17.033756817Z",
     "start_time": "2024-01-15T12:49:17.007216289Z"
    }
   },
   "id": "d1ac809e68e883e7",
   "execution_count": 8
  },
  {
   "cell_type": "code",
   "outputs": [
    {
     "data": {
      "text/plain": "Cluster\n0    323\n2    312\n6    297\n4    248\n9    233\n1     98\n7     44\n3     38\n5     21\n8      2\nName: count, dtype: int64"
     },
     "execution_count": 9,
     "metadata": {},
     "output_type": "execute_result"
    }
   ],
   "source": [
    "df[\"Cluster\"].value_counts()"
   ],
   "metadata": {
    "collapsed": false,
    "ExecuteTime": {
     "end_time": "2024-01-15T12:49:18.546730374Z",
     "start_time": "2024-01-15T12:49:18.504470284Z"
    }
   },
   "id": "da6c117d72ef0453",
   "execution_count": 9
  },
  {
   "cell_type": "code",
   "outputs": [
    {
     "data": {
      "text/plain": "      class_0  class_1  class_2  class_3  class_4  class_5  class_6  class_7  \\\n0       False    False     True    False    False    False    False    False   \n1       False    False    False    False    False    False    False    False   \n2       False    False    False    False    False    False     True    False   \n3       False     True    False    False    False    False    False    False   \n4       False    False    False    False     True    False    False    False   \n...       ...      ...      ...      ...      ...      ...      ...      ...   \n1611    False    False    False    False     True    False    False    False   \n1612    False    False     True    False    False    False    False    False   \n1613    False    False    False    False    False    False    False     True   \n1614    False    False    False    False    False    False     True    False   \n1615    False    False     True    False    False    False    False    False   \n\n      class_8  class_9  \n0       False    False  \n1       False     True  \n2       False    False  \n3       False    False  \n4       False    False  \n...       ...      ...  \n1611    False    False  \n1612    False    False  \n1613    False    False  \n1614    False    False  \n1615    False    False  \n\n[1616 rows x 10 columns]",
      "text/html": "<div>\n<style scoped>\n    .dataframe tbody tr th:only-of-type {\n        vertical-align: middle;\n    }\n\n    .dataframe tbody tr th {\n        vertical-align: top;\n    }\n\n    .dataframe thead th {\n        text-align: right;\n    }\n</style>\n<table border=\"1\" class=\"dataframe\">\n  <thead>\n    <tr style=\"text-align: right;\">\n      <th></th>\n      <th>class_0</th>\n      <th>class_1</th>\n      <th>class_2</th>\n      <th>class_3</th>\n      <th>class_4</th>\n      <th>class_5</th>\n      <th>class_6</th>\n      <th>class_7</th>\n      <th>class_8</th>\n      <th>class_9</th>\n    </tr>\n  </thead>\n  <tbody>\n    <tr>\n      <th>0</th>\n      <td>False</td>\n      <td>False</td>\n      <td>True</td>\n      <td>False</td>\n      <td>False</td>\n      <td>False</td>\n      <td>False</td>\n      <td>False</td>\n      <td>False</td>\n      <td>False</td>\n    </tr>\n    <tr>\n      <th>1</th>\n      <td>False</td>\n      <td>False</td>\n      <td>False</td>\n      <td>False</td>\n      <td>False</td>\n      <td>False</td>\n      <td>False</td>\n      <td>False</td>\n      <td>False</td>\n      <td>True</td>\n    </tr>\n    <tr>\n      <th>2</th>\n      <td>False</td>\n      <td>False</td>\n      <td>False</td>\n      <td>False</td>\n      <td>False</td>\n      <td>False</td>\n      <td>True</td>\n      <td>False</td>\n      <td>False</td>\n      <td>False</td>\n    </tr>\n    <tr>\n      <th>3</th>\n      <td>False</td>\n      <td>True</td>\n      <td>False</td>\n      <td>False</td>\n      <td>False</td>\n      <td>False</td>\n      <td>False</td>\n      <td>False</td>\n      <td>False</td>\n      <td>False</td>\n    </tr>\n    <tr>\n      <th>4</th>\n      <td>False</td>\n      <td>False</td>\n      <td>False</td>\n      <td>False</td>\n      <td>True</td>\n      <td>False</td>\n      <td>False</td>\n      <td>False</td>\n      <td>False</td>\n      <td>False</td>\n    </tr>\n    <tr>\n      <th>...</th>\n      <td>...</td>\n      <td>...</td>\n      <td>...</td>\n      <td>...</td>\n      <td>...</td>\n      <td>...</td>\n      <td>...</td>\n      <td>...</td>\n      <td>...</td>\n      <td>...</td>\n    </tr>\n    <tr>\n      <th>1611</th>\n      <td>False</td>\n      <td>False</td>\n      <td>False</td>\n      <td>False</td>\n      <td>True</td>\n      <td>False</td>\n      <td>False</td>\n      <td>False</td>\n      <td>False</td>\n      <td>False</td>\n    </tr>\n    <tr>\n      <th>1612</th>\n      <td>False</td>\n      <td>False</td>\n      <td>True</td>\n      <td>False</td>\n      <td>False</td>\n      <td>False</td>\n      <td>False</td>\n      <td>False</td>\n      <td>False</td>\n      <td>False</td>\n    </tr>\n    <tr>\n      <th>1613</th>\n      <td>False</td>\n      <td>False</td>\n      <td>False</td>\n      <td>False</td>\n      <td>False</td>\n      <td>False</td>\n      <td>False</td>\n      <td>True</td>\n      <td>False</td>\n      <td>False</td>\n    </tr>\n    <tr>\n      <th>1614</th>\n      <td>False</td>\n      <td>False</td>\n      <td>False</td>\n      <td>False</td>\n      <td>False</td>\n      <td>False</td>\n      <td>True</td>\n      <td>False</td>\n      <td>False</td>\n      <td>False</td>\n    </tr>\n    <tr>\n      <th>1615</th>\n      <td>False</td>\n      <td>False</td>\n      <td>True</td>\n      <td>False</td>\n      <td>False</td>\n      <td>False</td>\n      <td>False</td>\n      <td>False</td>\n      <td>False</td>\n      <td>False</td>\n    </tr>\n  </tbody>\n</table>\n<p>1616 rows × 10 columns</p>\n</div>"
     },
     "execution_count": 10,
     "metadata": {},
     "output_type": "execute_result"
    }
   ],
   "source": [
    "dummy_columns = pd.get_dummies(df['Cluster'], prefix='class')\n",
    "dummy_columns"
   ],
   "metadata": {
    "collapsed": false,
    "ExecuteTime": {
     "end_time": "2024-01-15T12:49:21.664450065Z",
     "start_time": "2024-01-15T12:49:21.644344907Z"
    }
   },
   "id": "22cbd1776083fa6f",
   "execution_count": 10
  },
  {
   "cell_type": "code",
   "outputs": [
    {
     "data": {
      "text/plain": "   max_discharge_sum_r1  max_discharge_sum_r2_1  max_discharge_sum_r2_2  \\\n0            585.669565             1626.362646             1917.919430   \n1            577.557845             1643.059879             1887.656759   \n2            772.575113             1672.017477             1803.841771   \n3            522.083261             1653.122228             3326.489392   \n4            614.144564             1644.183921             2485.551499   \n\n   max_discharge_sum_r3  flood_sum_r1  flood_sum_r2_1  flood_sum_r2_2  \\\n0            638.858438   8411.140723    31506.112765    22090.545196   \n1            821.350990   8428.714304    31464.769187    21934.204673   \n2            494.527298   9338.140945    31334.393859    21498.213911   \n3            460.208237   8055.620780    40539.300119    32937.770259   \n4            595.062726   8529.557570    34186.482882    28422.797907   \n\n   flood_sum_r3  HW_inund_uncertainty  bridge_scour_uncertainty  ...  class_0  \\\n0  15338.736641              1.028415                  1.140250  ...    False   \n1  17058.632353              1.028008                  0.908724  ...    False   \n2  13903.405134              1.081371                  0.949278  ...    False   \n3  13073.489518              1.051976                  1.264463  ...    False   \n4  14950.683896              0.786564                  0.703410  ...    False   \n\n   class_1  class_2  class_3  class_4  class_5  class_6  class_7  class_8  \\\n0    False     True    False    False    False    False    False    False   \n1    False    False    False    False    False    False    False    False   \n2    False    False    False    False    False     True    False    False   \n3     True    False    False    False    False    False    False    False   \n4    False    False    False     True    False    False    False    False   \n\n   class_9  \n0    False  \n1     True  \n2    False  \n3    False  \n4    False  \n\n[5 rows x 26 columns]",
      "text/html": "<div>\n<style scoped>\n    .dataframe tbody tr th:only-of-type {\n        vertical-align: middle;\n    }\n\n    .dataframe tbody tr th {\n        vertical-align: top;\n    }\n\n    .dataframe thead th {\n        text-align: right;\n    }\n</style>\n<table border=\"1\" class=\"dataframe\">\n  <thead>\n    <tr style=\"text-align: right;\">\n      <th></th>\n      <th>max_discharge_sum_r1</th>\n      <th>max_discharge_sum_r2_1</th>\n      <th>max_discharge_sum_r2_2</th>\n      <th>max_discharge_sum_r3</th>\n      <th>flood_sum_r1</th>\n      <th>flood_sum_r2_1</th>\n      <th>flood_sum_r2_2</th>\n      <th>flood_sum_r3</th>\n      <th>HW_inund_uncertainty</th>\n      <th>bridge_scour_uncertainty</th>\n      <th>...</th>\n      <th>class_0</th>\n      <th>class_1</th>\n      <th>class_2</th>\n      <th>class_3</th>\n      <th>class_4</th>\n      <th>class_5</th>\n      <th>class_6</th>\n      <th>class_7</th>\n      <th>class_8</th>\n      <th>class_9</th>\n    </tr>\n  </thead>\n  <tbody>\n    <tr>\n      <th>0</th>\n      <td>585.669565</td>\n      <td>1626.362646</td>\n      <td>1917.919430</td>\n      <td>638.858438</td>\n      <td>8411.140723</td>\n      <td>31506.112765</td>\n      <td>22090.545196</td>\n      <td>15338.736641</td>\n      <td>1.028415</td>\n      <td>1.140250</td>\n      <td>...</td>\n      <td>False</td>\n      <td>False</td>\n      <td>True</td>\n      <td>False</td>\n      <td>False</td>\n      <td>False</td>\n      <td>False</td>\n      <td>False</td>\n      <td>False</td>\n      <td>False</td>\n    </tr>\n    <tr>\n      <th>1</th>\n      <td>577.557845</td>\n      <td>1643.059879</td>\n      <td>1887.656759</td>\n      <td>821.350990</td>\n      <td>8428.714304</td>\n      <td>31464.769187</td>\n      <td>21934.204673</td>\n      <td>17058.632353</td>\n      <td>1.028008</td>\n      <td>0.908724</td>\n      <td>...</td>\n      <td>False</td>\n      <td>False</td>\n      <td>False</td>\n      <td>False</td>\n      <td>False</td>\n      <td>False</td>\n      <td>False</td>\n      <td>False</td>\n      <td>False</td>\n      <td>True</td>\n    </tr>\n    <tr>\n      <th>2</th>\n      <td>772.575113</td>\n      <td>1672.017477</td>\n      <td>1803.841771</td>\n      <td>494.527298</td>\n      <td>9338.140945</td>\n      <td>31334.393859</td>\n      <td>21498.213911</td>\n      <td>13903.405134</td>\n      <td>1.081371</td>\n      <td>0.949278</td>\n      <td>...</td>\n      <td>False</td>\n      <td>False</td>\n      <td>False</td>\n      <td>False</td>\n      <td>False</td>\n      <td>False</td>\n      <td>True</td>\n      <td>False</td>\n      <td>False</td>\n      <td>False</td>\n    </tr>\n    <tr>\n      <th>3</th>\n      <td>522.083261</td>\n      <td>1653.122228</td>\n      <td>3326.489392</td>\n      <td>460.208237</td>\n      <td>8055.620780</td>\n      <td>40539.300119</td>\n      <td>32937.770259</td>\n      <td>13073.489518</td>\n      <td>1.051976</td>\n      <td>1.264463</td>\n      <td>...</td>\n      <td>False</td>\n      <td>True</td>\n      <td>False</td>\n      <td>False</td>\n      <td>False</td>\n      <td>False</td>\n      <td>False</td>\n      <td>False</td>\n      <td>False</td>\n      <td>False</td>\n    </tr>\n    <tr>\n      <th>4</th>\n      <td>614.144564</td>\n      <td>1644.183921</td>\n      <td>2485.551499</td>\n      <td>595.062726</td>\n      <td>8529.557570</td>\n      <td>34186.482882</td>\n      <td>28422.797907</td>\n      <td>14950.683896</td>\n      <td>0.786564</td>\n      <td>0.703410</td>\n      <td>...</td>\n      <td>False</td>\n      <td>False</td>\n      <td>False</td>\n      <td>False</td>\n      <td>True</td>\n      <td>False</td>\n      <td>False</td>\n      <td>False</td>\n      <td>False</td>\n      <td>False</td>\n    </tr>\n  </tbody>\n</table>\n<p>5 rows × 26 columns</p>\n</div>"
     },
     "execution_count": 11,
     "metadata": {},
     "output_type": "execute_result"
    }
   ],
   "source": [
    "df = pd.concat([df, dummy_columns], axis=1)\n",
    "df.head()"
   ],
   "metadata": {
    "collapsed": false,
    "ExecuteTime": {
     "end_time": "2024-01-15T12:49:24.096601151Z",
     "start_time": "2024-01-15T12:49:24.049107983Z"
    }
   },
   "id": "36a8b2edd89d6a62",
   "execution_count": 11
  },
  {
   "cell_type": "code",
   "outputs": [],
   "source": [
    "df = df.drop(\"Cluster\", axis=1)"
   ],
   "metadata": {
    "collapsed": false,
    "ExecuteTime": {
     "end_time": "2024-01-15T12:49:25.305998102Z",
     "start_time": "2024-01-15T12:49:25.261346323Z"
    }
   },
   "id": "60b0f9e365efbce5",
   "execution_count": 12
  },
  {
   "cell_type": "code",
   "outputs": [
    {
     "data": {
      "text/plain": "   max_discharge_sum_r1  max_discharge_sum_r2_1  max_discharge_sum_r2_2  \\\n0            585.669565             1626.362646             1917.919430   \n1            577.557845             1643.059879             1887.656759   \n2            772.575113             1672.017477             1803.841771   \n3            522.083261             1653.122228             3326.489392   \n4            614.144564             1644.183921             2485.551499   \n\n   max_discharge_sum_r3  flood_sum_r1  flood_sum_r2_1  flood_sum_r2_2  \\\n0            638.858438   8411.140723    31506.112765    22090.545196   \n1            821.350990   8428.714304    31464.769187    21934.204673   \n2            494.527298   9338.140945    31334.393859    21498.213911   \n3            460.208237   8055.620780    40539.300119    32937.770259   \n4            595.062726   8529.557570    34186.482882    28422.797907   \n\n   flood_sum_r3  HW_inund_uncertainty  bridge_scour_uncertainty  ...  class_0  \\\n0  15338.736641              1.028415                  1.140250  ...    False   \n1  17058.632353              1.028008                  0.908724  ...    False   \n2  13903.405134              1.081371                  0.949278  ...    False   \n3  13073.489518              1.051976                  1.264463  ...    False   \n4  14950.683896              0.786564                  0.703410  ...    False   \n\n   class_1  class_2  class_3  class_4  class_5  class_6  class_7  class_8  \\\n0    False     True    False    False    False    False    False    False   \n1    False    False    False    False    False    False    False    False   \n2    False    False    False    False    False     True    False    False   \n3     True    False    False    False    False    False    False    False   \n4    False    False    False     True    False    False    False    False   \n\n   class_9  \n0    False  \n1     True  \n2    False  \n3    False  \n4    False  \n\n[5 rows x 25 columns]",
      "text/html": "<div>\n<style scoped>\n    .dataframe tbody tr th:only-of-type {\n        vertical-align: middle;\n    }\n\n    .dataframe tbody tr th {\n        vertical-align: top;\n    }\n\n    .dataframe thead th {\n        text-align: right;\n    }\n</style>\n<table border=\"1\" class=\"dataframe\">\n  <thead>\n    <tr style=\"text-align: right;\">\n      <th></th>\n      <th>max_discharge_sum_r1</th>\n      <th>max_discharge_sum_r2_1</th>\n      <th>max_discharge_sum_r2_2</th>\n      <th>max_discharge_sum_r3</th>\n      <th>flood_sum_r1</th>\n      <th>flood_sum_r2_1</th>\n      <th>flood_sum_r2_2</th>\n      <th>flood_sum_r3</th>\n      <th>HW_inund_uncertainty</th>\n      <th>bridge_scour_uncertainty</th>\n      <th>...</th>\n      <th>class_0</th>\n      <th>class_1</th>\n      <th>class_2</th>\n      <th>class_3</th>\n      <th>class_4</th>\n      <th>class_5</th>\n      <th>class_6</th>\n      <th>class_7</th>\n      <th>class_8</th>\n      <th>class_9</th>\n    </tr>\n  </thead>\n  <tbody>\n    <tr>\n      <th>0</th>\n      <td>585.669565</td>\n      <td>1626.362646</td>\n      <td>1917.919430</td>\n      <td>638.858438</td>\n      <td>8411.140723</td>\n      <td>31506.112765</td>\n      <td>22090.545196</td>\n      <td>15338.736641</td>\n      <td>1.028415</td>\n      <td>1.140250</td>\n      <td>...</td>\n      <td>False</td>\n      <td>False</td>\n      <td>True</td>\n      <td>False</td>\n      <td>False</td>\n      <td>False</td>\n      <td>False</td>\n      <td>False</td>\n      <td>False</td>\n      <td>False</td>\n    </tr>\n    <tr>\n      <th>1</th>\n      <td>577.557845</td>\n      <td>1643.059879</td>\n      <td>1887.656759</td>\n      <td>821.350990</td>\n      <td>8428.714304</td>\n      <td>31464.769187</td>\n      <td>21934.204673</td>\n      <td>17058.632353</td>\n      <td>1.028008</td>\n      <td>0.908724</td>\n      <td>...</td>\n      <td>False</td>\n      <td>False</td>\n      <td>False</td>\n      <td>False</td>\n      <td>False</td>\n      <td>False</td>\n      <td>False</td>\n      <td>False</td>\n      <td>False</td>\n      <td>True</td>\n    </tr>\n    <tr>\n      <th>2</th>\n      <td>772.575113</td>\n      <td>1672.017477</td>\n      <td>1803.841771</td>\n      <td>494.527298</td>\n      <td>9338.140945</td>\n      <td>31334.393859</td>\n      <td>21498.213911</td>\n      <td>13903.405134</td>\n      <td>1.081371</td>\n      <td>0.949278</td>\n      <td>...</td>\n      <td>False</td>\n      <td>False</td>\n      <td>False</td>\n      <td>False</td>\n      <td>False</td>\n      <td>False</td>\n      <td>True</td>\n      <td>False</td>\n      <td>False</td>\n      <td>False</td>\n    </tr>\n    <tr>\n      <th>3</th>\n      <td>522.083261</td>\n      <td>1653.122228</td>\n      <td>3326.489392</td>\n      <td>460.208237</td>\n      <td>8055.620780</td>\n      <td>40539.300119</td>\n      <td>32937.770259</td>\n      <td>13073.489518</td>\n      <td>1.051976</td>\n      <td>1.264463</td>\n      <td>...</td>\n      <td>False</td>\n      <td>True</td>\n      <td>False</td>\n      <td>False</td>\n      <td>False</td>\n      <td>False</td>\n      <td>False</td>\n      <td>False</td>\n      <td>False</td>\n      <td>False</td>\n    </tr>\n    <tr>\n      <th>4</th>\n      <td>614.144564</td>\n      <td>1644.183921</td>\n      <td>2485.551499</td>\n      <td>595.062726</td>\n      <td>8529.557570</td>\n      <td>34186.482882</td>\n      <td>28422.797907</td>\n      <td>14950.683896</td>\n      <td>0.786564</td>\n      <td>0.703410</td>\n      <td>...</td>\n      <td>False</td>\n      <td>False</td>\n      <td>False</td>\n      <td>False</td>\n      <td>True</td>\n      <td>False</td>\n      <td>False</td>\n      <td>False</td>\n      <td>False</td>\n      <td>False</td>\n    </tr>\n  </tbody>\n</table>\n<p>5 rows × 25 columns</p>\n</div>"
     },
     "execution_count": 13,
     "metadata": {},
     "output_type": "execute_result"
    }
   ],
   "source": [
    "df.head()"
   ],
   "metadata": {
    "collapsed": false,
    "ExecuteTime": {
     "end_time": "2024-01-15T12:49:25.662264394Z",
     "start_time": "2024-01-15T12:49:25.653516064Z"
    }
   },
   "id": "b64acfb90d3fa89e",
   "execution_count": 13
  },
  {
   "cell_type": "markdown",
   "source": [
    "<h4> 3. Make 3 separate datasets based on 3 output variables: y1, y2, y3</h4>"
   ],
   "metadata": {
    "collapsed": false
   },
   "id": "8331eae48a324890"
  },
  {
   "cell_type": "code",
   "outputs": [],
   "source": [
    "df1 = df.drop(columns=[\"lost_trips_costs_s_r\", \"traffic_costs_s_r\"])\n",
    "df2 = df.drop(columns=[\"dir_costs\", \"traffic_costs_s_r\"])\n",
    "df3 = df.drop(columns=[\"dir_costs\", \"lost_trips_costs_s_r\"])"
   ],
   "metadata": {
    "collapsed": false,
    "ExecuteTime": {
     "end_time": "2024-01-10T11:46:05.037930751Z",
     "start_time": "2024-01-10T11:46:05.002466074Z"
    }
   },
   "id": "500dc551129d654c",
   "execution_count": 117
  },
  {
   "cell_type": "code",
   "outputs": [
    {
     "data": {
      "text/plain": "   max_discharge_sum_r1  max_discharge_sum_r2_1  max_discharge_sum_r2_2  \\\n0            585.669565             1626.362646             1917.919430   \n1            577.557845             1643.059879             1887.656759   \n2            772.575113             1672.017477             1803.841771   \n3            522.083261             1653.122228             3326.489392   \n4            614.144564             1644.183921             2485.551499   \n\n   max_discharge_sum_r3  flood_sum_r1  flood_sum_r2_1  flood_sum_r2_2  \\\n0            638.858438   8411.140723    31506.112765    22090.545196   \n1            821.350990   8428.714304    31464.769187    21934.204673   \n2            494.527298   9338.140945    31334.393859    21498.213911   \n3            460.208237   8055.620780    40539.300119    32937.770259   \n4            595.062726   8529.557570    34186.482882    28422.797907   \n\n   flood_sum_r3  HW_inund_uncertainty  bridge_scour_uncertainty  ...  class_0  \\\n0  15338.736641              1.028415                  1.140250  ...    False   \n1  17058.632353              1.028008                  0.908724  ...    False   \n2  13903.405134              1.081371                  0.949278  ...    False   \n3  13073.489518              1.051976                  1.264463  ...    False   \n4  14950.683896              0.786564                  0.703410  ...    False   \n\n   class_1  class_2  class_3  class_4  class_5  class_6  class_7  class_8  \\\n0    False     True    False    False    False    False    False    False   \n1    False    False    False    False    False    False    False    False   \n2    False    False    False    False    False     True    False    False   \n3     True    False    False    False    False    False    False    False   \n4    False    False    False     True    False    False    False    False   \n\n   class_9  \n0    False  \n1     True  \n2    False  \n3    False  \n4    False  \n\n[5 rows x 23 columns]",
      "text/html": "<div>\n<style scoped>\n    .dataframe tbody tr th:only-of-type {\n        vertical-align: middle;\n    }\n\n    .dataframe tbody tr th {\n        vertical-align: top;\n    }\n\n    .dataframe thead th {\n        text-align: right;\n    }\n</style>\n<table border=\"1\" class=\"dataframe\">\n  <thead>\n    <tr style=\"text-align: right;\">\n      <th></th>\n      <th>max_discharge_sum_r1</th>\n      <th>max_discharge_sum_r2_1</th>\n      <th>max_discharge_sum_r2_2</th>\n      <th>max_discharge_sum_r3</th>\n      <th>flood_sum_r1</th>\n      <th>flood_sum_r2_1</th>\n      <th>flood_sum_r2_2</th>\n      <th>flood_sum_r3</th>\n      <th>HW_inund_uncertainty</th>\n      <th>bridge_scour_uncertainty</th>\n      <th>...</th>\n      <th>class_0</th>\n      <th>class_1</th>\n      <th>class_2</th>\n      <th>class_3</th>\n      <th>class_4</th>\n      <th>class_5</th>\n      <th>class_6</th>\n      <th>class_7</th>\n      <th>class_8</th>\n      <th>class_9</th>\n    </tr>\n  </thead>\n  <tbody>\n    <tr>\n      <th>0</th>\n      <td>585.669565</td>\n      <td>1626.362646</td>\n      <td>1917.919430</td>\n      <td>638.858438</td>\n      <td>8411.140723</td>\n      <td>31506.112765</td>\n      <td>22090.545196</td>\n      <td>15338.736641</td>\n      <td>1.028415</td>\n      <td>1.140250</td>\n      <td>...</td>\n      <td>False</td>\n      <td>False</td>\n      <td>True</td>\n      <td>False</td>\n      <td>False</td>\n      <td>False</td>\n      <td>False</td>\n      <td>False</td>\n      <td>False</td>\n      <td>False</td>\n    </tr>\n    <tr>\n      <th>1</th>\n      <td>577.557845</td>\n      <td>1643.059879</td>\n      <td>1887.656759</td>\n      <td>821.350990</td>\n      <td>8428.714304</td>\n      <td>31464.769187</td>\n      <td>21934.204673</td>\n      <td>17058.632353</td>\n      <td>1.028008</td>\n      <td>0.908724</td>\n      <td>...</td>\n      <td>False</td>\n      <td>False</td>\n      <td>False</td>\n      <td>False</td>\n      <td>False</td>\n      <td>False</td>\n      <td>False</td>\n      <td>False</td>\n      <td>False</td>\n      <td>True</td>\n    </tr>\n    <tr>\n      <th>2</th>\n      <td>772.575113</td>\n      <td>1672.017477</td>\n      <td>1803.841771</td>\n      <td>494.527298</td>\n      <td>9338.140945</td>\n      <td>31334.393859</td>\n      <td>21498.213911</td>\n      <td>13903.405134</td>\n      <td>1.081371</td>\n      <td>0.949278</td>\n      <td>...</td>\n      <td>False</td>\n      <td>False</td>\n      <td>False</td>\n      <td>False</td>\n      <td>False</td>\n      <td>False</td>\n      <td>True</td>\n      <td>False</td>\n      <td>False</td>\n      <td>False</td>\n    </tr>\n    <tr>\n      <th>3</th>\n      <td>522.083261</td>\n      <td>1653.122228</td>\n      <td>3326.489392</td>\n      <td>460.208237</td>\n      <td>8055.620780</td>\n      <td>40539.300119</td>\n      <td>32937.770259</td>\n      <td>13073.489518</td>\n      <td>1.051976</td>\n      <td>1.264463</td>\n      <td>...</td>\n      <td>False</td>\n      <td>True</td>\n      <td>False</td>\n      <td>False</td>\n      <td>False</td>\n      <td>False</td>\n      <td>False</td>\n      <td>False</td>\n      <td>False</td>\n      <td>False</td>\n    </tr>\n    <tr>\n      <th>4</th>\n      <td>614.144564</td>\n      <td>1644.183921</td>\n      <td>2485.551499</td>\n      <td>595.062726</td>\n      <td>8529.557570</td>\n      <td>34186.482882</td>\n      <td>28422.797907</td>\n      <td>14950.683896</td>\n      <td>0.786564</td>\n      <td>0.703410</td>\n      <td>...</td>\n      <td>False</td>\n      <td>False</td>\n      <td>False</td>\n      <td>False</td>\n      <td>True</td>\n      <td>False</td>\n      <td>False</td>\n      <td>False</td>\n      <td>False</td>\n      <td>False</td>\n    </tr>\n  </tbody>\n</table>\n<p>5 rows × 23 columns</p>\n</div>"
     },
     "execution_count": 118,
     "metadata": {},
     "output_type": "execute_result"
    }
   ],
   "source": [
    "df3.head()"
   ],
   "metadata": {
    "collapsed": false,
    "ExecuteTime": {
     "end_time": "2024-01-10T11:46:07.364793277Z",
     "start_time": "2024-01-10T11:46:07.332953859Z"
    }
   },
   "id": "c0a966d4b1107bc7",
   "execution_count": 118
  },
  {
   "cell_type": "code",
   "outputs": [],
   "source": [
    "X_train1 = df.drop(columns=[\"dir_costs\"])\n",
    "y_train1 = df['dir_costs']\n",
    "\n",
    "X_train2 = df.drop(columns=[\"lost_trips_costs_s_r\"])\n",
    "y_train2 = df['lost_trips_costs_s_r']\n",
    "\n",
    "X_train3 = df.drop(columns=[\"traffic_costs_s_r\"])\n",
    "y_train3 = df['traffic_costs_s_r']"
   ],
   "metadata": {
    "collapsed": false,
    "ExecuteTime": {
     "end_time": "2024-01-10T11:46:10.541678331Z",
     "start_time": "2024-01-10T11:46:10.534351079Z"
    }
   },
   "id": "25541b46c023fde5",
   "execution_count": 119
  },
  {
   "cell_type": "markdown",
   "source": [
    "<h4> 4. Prediction of each y, using  GRNN <h4>"
   ],
   "metadata": {
    "collapsed": false
   },
   "id": "dc06fc731581b294"
  },
  {
   "cell_type": "code",
   "outputs": [
    {
     "name": "stdout",
     "output_type": "stream",
     "text": [
      "Executing warm start...\n",
      "Warm start concluded. The optimum isotropic sigma is [0.47]\n",
      "Gradient search concluded. The optimum sigma is [0.47 0.47 0.47 0.47 0.47 0.47 0.47 0.47 0.47 0.47 0.47 0.47 0.47 0.47\n",
      " 0.47 0.47 0.47 0.47 0.47 0.47 0.47 0.47 0.47 0.47]\n",
      "Executing warm start...\n",
      "Warm start concluded. The optimum isotropic sigma is [0.47]\n",
      "Gradient search concluded. The optimum sigma is [0.47 0.47 0.47 0.47 0.47 0.47 0.47 0.47 0.47 0.47 0.47 0.47 0.47 0.47\n",
      " 0.47 0.47 0.47 0.47 0.47 0.47 0.47 0.47 0.47 0.47]\n",
      "Executing warm start...\n",
      "Warm start concluded. The optimum isotropic sigma is [0.47]\n",
      "Gradient search concluded. The optimum sigma is [0.47 0.47 0.47 0.47 0.47 0.47 0.47 0.47 0.47 0.47 0.47 0.47 0.47 0.47\n",
      " 0.47 0.47 0.47 0.47 0.47 0.47 0.47 0.47 0.47 0.47]\n"
     ]
    }
   ],
   "source": [
    "from pyGRNN import GRNN\n",
    "\n",
    "grnn1 = GRNN(sigma=0.47)\n",
    "grnn1.fit(X_train1, y_train1)\n",
    "y_pred1 = grnn1.predict(X_train1)\n",
    "\n",
    "grnn2 = GRNN(sigma=0.47)\n",
    "grnn2.fit(X_train2, y_train2)\n",
    "y_pred2 = grnn2.predict(X_train2)\n",
    "\n",
    "grnn3 = GRNN(sigma=0.47)\n",
    "grnn3.fit(X_train3, y_train3)\n",
    "y_pred3 = grnn3.predict(X_train3)\n",
    "\n",
    "df3[\"GRNN1\"] = df2[\"GRNN1\"] = df1[\"GRNN1\"] = y_pred1\n",
    "df3[\"GRNN2\"] = df2[\"GRNN2\"] = df1[\"GRNN2\"] = y_pred2\n",
    "df3[\"GRNN3\"] = df2[\"GRNN3\"] = df1[\"GRNN3\"] = y_pred3\n"
   ],
   "metadata": {
    "collapsed": false,
    "ExecuteTime": {
     "end_time": "2024-01-10T11:46:22.635394905Z",
     "start_time": "2024-01-10T11:46:14.606031222Z"
    }
   },
   "id": "41e8010097d98287",
   "execution_count": 120
  },
  {
   "cell_type": "code",
   "outputs": [
    {
     "data": {
      "text/plain": "   max_discharge_sum_r1  max_discharge_sum_r2_1  max_discharge_sum_r2_2  \\\n0            585.669565             1626.362646             1917.919430   \n1            577.557845             1643.059879             1887.656759   \n2            772.575113             1672.017477             1803.841771   \n3            522.083261             1653.122228             3326.489392   \n4            614.144564             1644.183921             2485.551499   \n\n   max_discharge_sum_r3  flood_sum_r1  flood_sum_r2_1  flood_sum_r2_2  \\\n0            638.858438   8411.140723    31506.112765    22090.545196   \n1            821.350990   8428.714304    31464.769187    21934.204673   \n2            494.527298   9338.140945    31334.393859    21498.213911   \n3            460.208237   8055.620780    40539.300119    32937.770259   \n4            595.062726   8529.557570    34186.482882    28422.797907   \n\n   flood_sum_r3  HW_inund_uncertainty  bridge_scour_uncertainty  ...  class_0  \\\n0  15338.736641              1.028415                  1.140250  ...    False   \n1  17058.632353              1.028008                  0.908724  ...    False   \n2  13903.405134              1.081371                  0.949278  ...    False   \n3  13073.489518              1.051976                  1.264463  ...    False   \n4  14950.683896              0.786564                  0.703410  ...    False   \n\n   class_1  class_2  class_3  class_4  class_5  class_6  class_7  class_8  \\\n0    False     True    False    False    False    False    False    False   \n1    False    False    False    False    False    False    False    False   \n2    False    False    False    False    False     True    False    False   \n3     True    False    False    False    False    False    False    False   \n4    False    False    False     True    False    False    False    False   \n\n   class_9  \n0    False  \n1     True  \n2    False  \n3    False  \n4    False  \n\n[5 rows x 24 columns]",
      "text/html": "<div>\n<style scoped>\n    .dataframe tbody tr th:only-of-type {\n        vertical-align: middle;\n    }\n\n    .dataframe tbody tr th {\n        vertical-align: top;\n    }\n\n    .dataframe thead th {\n        text-align: right;\n    }\n</style>\n<table border=\"1\" class=\"dataframe\">\n  <thead>\n    <tr style=\"text-align: right;\">\n      <th></th>\n      <th>max_discharge_sum_r1</th>\n      <th>max_discharge_sum_r2_1</th>\n      <th>max_discharge_sum_r2_2</th>\n      <th>max_discharge_sum_r3</th>\n      <th>flood_sum_r1</th>\n      <th>flood_sum_r2_1</th>\n      <th>flood_sum_r2_2</th>\n      <th>flood_sum_r3</th>\n      <th>HW_inund_uncertainty</th>\n      <th>bridge_scour_uncertainty</th>\n      <th>...</th>\n      <th>class_0</th>\n      <th>class_1</th>\n      <th>class_2</th>\n      <th>class_3</th>\n      <th>class_4</th>\n      <th>class_5</th>\n      <th>class_6</th>\n      <th>class_7</th>\n      <th>class_8</th>\n      <th>class_9</th>\n    </tr>\n  </thead>\n  <tbody>\n    <tr>\n      <th>0</th>\n      <td>585.669565</td>\n      <td>1626.362646</td>\n      <td>1917.919430</td>\n      <td>638.858438</td>\n      <td>8411.140723</td>\n      <td>31506.112765</td>\n      <td>22090.545196</td>\n      <td>15338.736641</td>\n      <td>1.028415</td>\n      <td>1.140250</td>\n      <td>...</td>\n      <td>False</td>\n      <td>False</td>\n      <td>True</td>\n      <td>False</td>\n      <td>False</td>\n      <td>False</td>\n      <td>False</td>\n      <td>False</td>\n      <td>False</td>\n      <td>False</td>\n    </tr>\n    <tr>\n      <th>1</th>\n      <td>577.557845</td>\n      <td>1643.059879</td>\n      <td>1887.656759</td>\n      <td>821.350990</td>\n      <td>8428.714304</td>\n      <td>31464.769187</td>\n      <td>21934.204673</td>\n      <td>17058.632353</td>\n      <td>1.028008</td>\n      <td>0.908724</td>\n      <td>...</td>\n      <td>False</td>\n      <td>False</td>\n      <td>False</td>\n      <td>False</td>\n      <td>False</td>\n      <td>False</td>\n      <td>False</td>\n      <td>False</td>\n      <td>False</td>\n      <td>True</td>\n    </tr>\n    <tr>\n      <th>2</th>\n      <td>772.575113</td>\n      <td>1672.017477</td>\n      <td>1803.841771</td>\n      <td>494.527298</td>\n      <td>9338.140945</td>\n      <td>31334.393859</td>\n      <td>21498.213911</td>\n      <td>13903.405134</td>\n      <td>1.081371</td>\n      <td>0.949278</td>\n      <td>...</td>\n      <td>False</td>\n      <td>False</td>\n      <td>False</td>\n      <td>False</td>\n      <td>False</td>\n      <td>False</td>\n      <td>True</td>\n      <td>False</td>\n      <td>False</td>\n      <td>False</td>\n    </tr>\n    <tr>\n      <th>3</th>\n      <td>522.083261</td>\n      <td>1653.122228</td>\n      <td>3326.489392</td>\n      <td>460.208237</td>\n      <td>8055.620780</td>\n      <td>40539.300119</td>\n      <td>32937.770259</td>\n      <td>13073.489518</td>\n      <td>1.051976</td>\n      <td>1.264463</td>\n      <td>...</td>\n      <td>False</td>\n      <td>True</td>\n      <td>False</td>\n      <td>False</td>\n      <td>False</td>\n      <td>False</td>\n      <td>False</td>\n      <td>False</td>\n      <td>False</td>\n      <td>False</td>\n    </tr>\n    <tr>\n      <th>4</th>\n      <td>614.144564</td>\n      <td>1644.183921</td>\n      <td>2485.551499</td>\n      <td>595.062726</td>\n      <td>8529.557570</td>\n      <td>34186.482882</td>\n      <td>28422.797907</td>\n      <td>14950.683896</td>\n      <td>0.786564</td>\n      <td>0.703410</td>\n      <td>...</td>\n      <td>False</td>\n      <td>False</td>\n      <td>False</td>\n      <td>False</td>\n      <td>True</td>\n      <td>False</td>\n      <td>False</td>\n      <td>False</td>\n      <td>False</td>\n      <td>False</td>\n    </tr>\n  </tbody>\n</table>\n<p>5 rows × 24 columns</p>\n</div>"
     },
     "execution_count": 149,
     "metadata": {},
     "output_type": "execute_result"
    }
   ],
   "source": [
    "X_train1.head()"
   ],
   "metadata": {
    "collapsed": false,
    "ExecuteTime": {
     "end_time": "2024-01-10T11:48:33.607305676Z",
     "start_time": "2024-01-10T11:48:33.566070247Z"
    }
   },
   "id": "95402781a33ebdb7",
   "execution_count": 149
  },
  {
   "cell_type": "code",
   "outputs": [
    {
     "data": {
      "text/plain": "   max_discharge_sum_r1  max_discharge_sum_r2_1  max_discharge_sum_r2_2  \\\n0            585.669565             1626.362646             1917.919430   \n1            577.557845             1643.059879             1887.656759   \n2            772.575113             1672.017477             1803.841771   \n3            522.083261             1653.122228             3326.489392   \n4            614.144564             1644.183921             2485.551499   \n\n   max_discharge_sum_r3  flood_sum_r1  flood_sum_r2_1  flood_sum_r2_2  \\\n0            638.858438   8411.140723    31506.112765    22090.545196   \n1            821.350990   8428.714304    31464.769187    21934.204673   \n2            494.527298   9338.140945    31334.393859    21498.213911   \n3            460.208237   8055.620780    40539.300119    32937.770259   \n4            595.062726   8529.557570    34186.482882    28422.797907   \n\n   flood_sum_r3  HW_inund_uncertainty  bridge_scour_uncertainty  ...  class_3  \\\n0  15338.736641              1.028415                  1.140250  ...    False   \n1  17058.632353              1.028008                  0.908724  ...    False   \n2  13903.405134              1.081371                  0.949278  ...    False   \n3  13073.489518              1.051976                  1.264463  ...    False   \n4  14950.683896              0.786564                  0.703410  ...    False   \n\n   class_4  class_5  class_6  class_7  class_8  class_9         GRNN1  \\\n0    False    False    False    False    False    False  3.340766e+07   \n1    False    False    False    False    False     True  2.622206e+07   \n2    False    False     True    False    False    False  2.526532e+07   \n3    False    False    False    False    False    False  5.486000e+07   \n4     True    False    False    False    False    False  3.921215e+07   \n\n          GRNN2         GRNN3  \n0  6.390603e+07 -1.387608e+07  \n1  5.535979e+07  9.384497e+06  \n2  5.933291e+07  5.139631e+06  \n3  9.421211e+07  2.127731e+06  \n4  7.632145e+07  2.113208e+07  \n\n[5 rows x 26 columns]",
      "text/html": "<div>\n<style scoped>\n    .dataframe tbody tr th:only-of-type {\n        vertical-align: middle;\n    }\n\n    .dataframe tbody tr th {\n        vertical-align: top;\n    }\n\n    .dataframe thead th {\n        text-align: right;\n    }\n</style>\n<table border=\"1\" class=\"dataframe\">\n  <thead>\n    <tr style=\"text-align: right;\">\n      <th></th>\n      <th>max_discharge_sum_r1</th>\n      <th>max_discharge_sum_r2_1</th>\n      <th>max_discharge_sum_r2_2</th>\n      <th>max_discharge_sum_r3</th>\n      <th>flood_sum_r1</th>\n      <th>flood_sum_r2_1</th>\n      <th>flood_sum_r2_2</th>\n      <th>flood_sum_r3</th>\n      <th>HW_inund_uncertainty</th>\n      <th>bridge_scour_uncertainty</th>\n      <th>...</th>\n      <th>class_3</th>\n      <th>class_4</th>\n      <th>class_5</th>\n      <th>class_6</th>\n      <th>class_7</th>\n      <th>class_8</th>\n      <th>class_9</th>\n      <th>GRNN1</th>\n      <th>GRNN2</th>\n      <th>GRNN3</th>\n    </tr>\n  </thead>\n  <tbody>\n    <tr>\n      <th>0</th>\n      <td>585.669565</td>\n      <td>1626.362646</td>\n      <td>1917.919430</td>\n      <td>638.858438</td>\n      <td>8411.140723</td>\n      <td>31506.112765</td>\n      <td>22090.545196</td>\n      <td>15338.736641</td>\n      <td>1.028415</td>\n      <td>1.140250</td>\n      <td>...</td>\n      <td>False</td>\n      <td>False</td>\n      <td>False</td>\n      <td>False</td>\n      <td>False</td>\n      <td>False</td>\n      <td>False</td>\n      <td>3.340766e+07</td>\n      <td>6.390603e+07</td>\n      <td>-1.387608e+07</td>\n    </tr>\n    <tr>\n      <th>1</th>\n      <td>577.557845</td>\n      <td>1643.059879</td>\n      <td>1887.656759</td>\n      <td>821.350990</td>\n      <td>8428.714304</td>\n      <td>31464.769187</td>\n      <td>21934.204673</td>\n      <td>17058.632353</td>\n      <td>1.028008</td>\n      <td>0.908724</td>\n      <td>...</td>\n      <td>False</td>\n      <td>False</td>\n      <td>False</td>\n      <td>False</td>\n      <td>False</td>\n      <td>False</td>\n      <td>True</td>\n      <td>2.622206e+07</td>\n      <td>5.535979e+07</td>\n      <td>9.384497e+06</td>\n    </tr>\n    <tr>\n      <th>2</th>\n      <td>772.575113</td>\n      <td>1672.017477</td>\n      <td>1803.841771</td>\n      <td>494.527298</td>\n      <td>9338.140945</td>\n      <td>31334.393859</td>\n      <td>21498.213911</td>\n      <td>13903.405134</td>\n      <td>1.081371</td>\n      <td>0.949278</td>\n      <td>...</td>\n      <td>False</td>\n      <td>False</td>\n      <td>False</td>\n      <td>True</td>\n      <td>False</td>\n      <td>False</td>\n      <td>False</td>\n      <td>2.526532e+07</td>\n      <td>5.933291e+07</td>\n      <td>5.139631e+06</td>\n    </tr>\n    <tr>\n      <th>3</th>\n      <td>522.083261</td>\n      <td>1653.122228</td>\n      <td>3326.489392</td>\n      <td>460.208237</td>\n      <td>8055.620780</td>\n      <td>40539.300119</td>\n      <td>32937.770259</td>\n      <td>13073.489518</td>\n      <td>1.051976</td>\n      <td>1.264463</td>\n      <td>...</td>\n      <td>False</td>\n      <td>False</td>\n      <td>False</td>\n      <td>False</td>\n      <td>False</td>\n      <td>False</td>\n      <td>False</td>\n      <td>5.486000e+07</td>\n      <td>9.421211e+07</td>\n      <td>2.127731e+06</td>\n    </tr>\n    <tr>\n      <th>4</th>\n      <td>614.144564</td>\n      <td>1644.183921</td>\n      <td>2485.551499</td>\n      <td>595.062726</td>\n      <td>8529.557570</td>\n      <td>34186.482882</td>\n      <td>28422.797907</td>\n      <td>14950.683896</td>\n      <td>0.786564</td>\n      <td>0.703410</td>\n      <td>...</td>\n      <td>False</td>\n      <td>True</td>\n      <td>False</td>\n      <td>False</td>\n      <td>False</td>\n      <td>False</td>\n      <td>False</td>\n      <td>3.921215e+07</td>\n      <td>7.632145e+07</td>\n      <td>2.113208e+07</td>\n    </tr>\n  </tbody>\n</table>\n<p>5 rows × 26 columns</p>\n</div>"
     },
     "execution_count": 121,
     "metadata": {},
     "output_type": "execute_result"
    }
   ],
   "source": [
    "df1.head()"
   ],
   "metadata": {
    "collapsed": false,
    "ExecuteTime": {
     "end_time": "2024-01-10T11:46:26.423003945Z",
     "start_time": "2024-01-10T11:46:26.384927705Z"
    }
   },
   "id": "1406cfc0f2f97135",
   "execution_count": 121
  },
  {
   "cell_type": "code",
   "outputs": [
    {
     "data": {
      "text/plain": "   max_discharge_sum_r1  max_discharge_sum_r2_1  max_discharge_sum_r2_2  \\\n0            585.669565             1626.362646             1917.919430   \n1            577.557845             1643.059879             1887.656759   \n2            772.575113             1672.017477             1803.841771   \n3            522.083261             1653.122228             3326.489392   \n4            614.144564             1644.183921             2485.551499   \n\n   max_discharge_sum_r3  flood_sum_r1  flood_sum_r2_1  flood_sum_r2_2  \\\n0            638.858438   8411.140723    31506.112765    22090.545196   \n1            821.350990   8428.714304    31464.769187    21934.204673   \n2            494.527298   9338.140945    31334.393859    21498.213911   \n3            460.208237   8055.620780    40539.300119    32937.770259   \n4            595.062726   8529.557570    34186.482882    28422.797907   \n\n   flood_sum_r3  HW_inund_uncertainty  bridge_scour_uncertainty  ...  class_3  \\\n0  15338.736641              1.028415                  1.140250  ...    False   \n1  17058.632353              1.028008                  0.908724  ...    False   \n2  13903.405134              1.081371                  0.949278  ...    False   \n3  13073.489518              1.051976                  1.264463  ...    False   \n4  14950.683896              0.786564                  0.703410  ...    False   \n\n   class_4  class_5  class_6  class_7  class_8  class_9         GRNN1  \\\n0    False    False    False    False    False    False  3.340766e+07   \n1    False    False    False    False    False     True  2.622206e+07   \n2    False    False     True    False    False    False  2.526532e+07   \n3    False    False    False    False    False    False  5.486000e+07   \n4     True    False    False    False    False    False  3.921215e+07   \n\n          GRNN2         GRNN3  \n0  6.390603e+07 -1.387608e+07  \n1  5.535979e+07  9.384497e+06  \n2  5.933291e+07  5.139631e+06  \n3  9.421211e+07  2.127731e+06  \n4  7.632145e+07  2.113208e+07  \n\n[5 rows x 26 columns]",
      "text/html": "<div>\n<style scoped>\n    .dataframe tbody tr th:only-of-type {\n        vertical-align: middle;\n    }\n\n    .dataframe tbody tr th {\n        vertical-align: top;\n    }\n\n    .dataframe thead th {\n        text-align: right;\n    }\n</style>\n<table border=\"1\" class=\"dataframe\">\n  <thead>\n    <tr style=\"text-align: right;\">\n      <th></th>\n      <th>max_discharge_sum_r1</th>\n      <th>max_discharge_sum_r2_1</th>\n      <th>max_discharge_sum_r2_2</th>\n      <th>max_discharge_sum_r3</th>\n      <th>flood_sum_r1</th>\n      <th>flood_sum_r2_1</th>\n      <th>flood_sum_r2_2</th>\n      <th>flood_sum_r3</th>\n      <th>HW_inund_uncertainty</th>\n      <th>bridge_scour_uncertainty</th>\n      <th>...</th>\n      <th>class_3</th>\n      <th>class_4</th>\n      <th>class_5</th>\n      <th>class_6</th>\n      <th>class_7</th>\n      <th>class_8</th>\n      <th>class_9</th>\n      <th>GRNN1</th>\n      <th>GRNN2</th>\n      <th>GRNN3</th>\n    </tr>\n  </thead>\n  <tbody>\n    <tr>\n      <th>0</th>\n      <td>585.669565</td>\n      <td>1626.362646</td>\n      <td>1917.919430</td>\n      <td>638.858438</td>\n      <td>8411.140723</td>\n      <td>31506.112765</td>\n      <td>22090.545196</td>\n      <td>15338.736641</td>\n      <td>1.028415</td>\n      <td>1.140250</td>\n      <td>...</td>\n      <td>False</td>\n      <td>False</td>\n      <td>False</td>\n      <td>False</td>\n      <td>False</td>\n      <td>False</td>\n      <td>False</td>\n      <td>3.340766e+07</td>\n      <td>6.390603e+07</td>\n      <td>-1.387608e+07</td>\n    </tr>\n    <tr>\n      <th>1</th>\n      <td>577.557845</td>\n      <td>1643.059879</td>\n      <td>1887.656759</td>\n      <td>821.350990</td>\n      <td>8428.714304</td>\n      <td>31464.769187</td>\n      <td>21934.204673</td>\n      <td>17058.632353</td>\n      <td>1.028008</td>\n      <td>0.908724</td>\n      <td>...</td>\n      <td>False</td>\n      <td>False</td>\n      <td>False</td>\n      <td>False</td>\n      <td>False</td>\n      <td>False</td>\n      <td>True</td>\n      <td>2.622206e+07</td>\n      <td>5.535979e+07</td>\n      <td>9.384497e+06</td>\n    </tr>\n    <tr>\n      <th>2</th>\n      <td>772.575113</td>\n      <td>1672.017477</td>\n      <td>1803.841771</td>\n      <td>494.527298</td>\n      <td>9338.140945</td>\n      <td>31334.393859</td>\n      <td>21498.213911</td>\n      <td>13903.405134</td>\n      <td>1.081371</td>\n      <td>0.949278</td>\n      <td>...</td>\n      <td>False</td>\n      <td>False</td>\n      <td>False</td>\n      <td>True</td>\n      <td>False</td>\n      <td>False</td>\n      <td>False</td>\n      <td>2.526532e+07</td>\n      <td>5.933291e+07</td>\n      <td>5.139631e+06</td>\n    </tr>\n    <tr>\n      <th>3</th>\n      <td>522.083261</td>\n      <td>1653.122228</td>\n      <td>3326.489392</td>\n      <td>460.208237</td>\n      <td>8055.620780</td>\n      <td>40539.300119</td>\n      <td>32937.770259</td>\n      <td>13073.489518</td>\n      <td>1.051976</td>\n      <td>1.264463</td>\n      <td>...</td>\n      <td>False</td>\n      <td>False</td>\n      <td>False</td>\n      <td>False</td>\n      <td>False</td>\n      <td>False</td>\n      <td>False</td>\n      <td>5.486000e+07</td>\n      <td>9.421211e+07</td>\n      <td>2.127731e+06</td>\n    </tr>\n    <tr>\n      <th>4</th>\n      <td>614.144564</td>\n      <td>1644.183921</td>\n      <td>2485.551499</td>\n      <td>595.062726</td>\n      <td>8529.557570</td>\n      <td>34186.482882</td>\n      <td>28422.797907</td>\n      <td>14950.683896</td>\n      <td>0.786564</td>\n      <td>0.703410</td>\n      <td>...</td>\n      <td>False</td>\n      <td>True</td>\n      <td>False</td>\n      <td>False</td>\n      <td>False</td>\n      <td>False</td>\n      <td>False</td>\n      <td>3.921215e+07</td>\n      <td>7.632145e+07</td>\n      <td>2.113208e+07</td>\n    </tr>\n  </tbody>\n</table>\n<p>5 rows × 26 columns</p>\n</div>"
     },
     "execution_count": 122,
     "metadata": {},
     "output_type": "execute_result"
    }
   ],
   "source": [
    "df2.head()\n"
   ],
   "metadata": {
    "collapsed": false,
    "ExecuteTime": {
     "end_time": "2024-01-10T11:46:29.653871048Z",
     "start_time": "2024-01-10T11:46:29.645238300Z"
    }
   },
   "id": "c8d76a16074f1591",
   "execution_count": 122
  },
  {
   "cell_type": "markdown",
   "source": [
    "<h4> 5. Train each model using some regression method </h4>"
   ],
   "metadata": {
    "collapsed": false
   },
   "id": "b7002b2c612554f7"
  },
  {
   "cell_type": "code",
   "outputs": [
    {
     "data": {
      "text/plain": "RandomForestRegressor(random_state=42)",
      "text/html": "<style>#sk-container-id-2 {color: black;}#sk-container-id-2 pre{padding: 0;}#sk-container-id-2 div.sk-toggleable {background-color: white;}#sk-container-id-2 label.sk-toggleable__label {cursor: pointer;display: block;width: 100%;margin-bottom: 0;padding: 0.3em;box-sizing: border-box;text-align: center;}#sk-container-id-2 label.sk-toggleable__label-arrow:before {content: \"▸\";float: left;margin-right: 0.25em;color: #696969;}#sk-container-id-2 label.sk-toggleable__label-arrow:hover:before {color: black;}#sk-container-id-2 div.sk-estimator:hover label.sk-toggleable__label-arrow:before {color: black;}#sk-container-id-2 div.sk-toggleable__content {max-height: 0;max-width: 0;overflow: hidden;text-align: left;background-color: #f0f8ff;}#sk-container-id-2 div.sk-toggleable__content pre {margin: 0.2em;color: black;border-radius: 0.25em;background-color: #f0f8ff;}#sk-container-id-2 input.sk-toggleable__control:checked~div.sk-toggleable__content {max-height: 200px;max-width: 100%;overflow: auto;}#sk-container-id-2 input.sk-toggleable__control:checked~label.sk-toggleable__label-arrow:before {content: \"▾\";}#sk-container-id-2 div.sk-estimator input.sk-toggleable__control:checked~label.sk-toggleable__label {background-color: #d4ebff;}#sk-container-id-2 div.sk-label input.sk-toggleable__control:checked~label.sk-toggleable__label {background-color: #d4ebff;}#sk-container-id-2 input.sk-hidden--visually {border: 0;clip: rect(1px 1px 1px 1px);clip: rect(1px, 1px, 1px, 1px);height: 1px;margin: -1px;overflow: hidden;padding: 0;position: absolute;width: 1px;}#sk-container-id-2 div.sk-estimator {font-family: monospace;background-color: #f0f8ff;border: 1px dotted black;border-radius: 0.25em;box-sizing: border-box;margin-bottom: 0.5em;}#sk-container-id-2 div.sk-estimator:hover {background-color: #d4ebff;}#sk-container-id-2 div.sk-parallel-item::after {content: \"\";width: 100%;border-bottom: 1px solid gray;flex-grow: 1;}#sk-container-id-2 div.sk-label:hover label.sk-toggleable__label {background-color: #d4ebff;}#sk-container-id-2 div.sk-serial::before {content: \"\";position: absolute;border-left: 1px solid gray;box-sizing: border-box;top: 0;bottom: 0;left: 50%;z-index: 0;}#sk-container-id-2 div.sk-serial {display: flex;flex-direction: column;align-items: center;background-color: white;padding-right: 0.2em;padding-left: 0.2em;position: relative;}#sk-container-id-2 div.sk-item {position: relative;z-index: 1;}#sk-container-id-2 div.sk-parallel {display: flex;align-items: stretch;justify-content: center;background-color: white;position: relative;}#sk-container-id-2 div.sk-item::before, #sk-container-id-2 div.sk-parallel-item::before {content: \"\";position: absolute;border-left: 1px solid gray;box-sizing: border-box;top: 0;bottom: 0;left: 50%;z-index: -1;}#sk-container-id-2 div.sk-parallel-item {display: flex;flex-direction: column;z-index: 1;position: relative;background-color: white;}#sk-container-id-2 div.sk-parallel-item:first-child::after {align-self: flex-end;width: 50%;}#sk-container-id-2 div.sk-parallel-item:last-child::after {align-self: flex-start;width: 50%;}#sk-container-id-2 div.sk-parallel-item:only-child::after {width: 0;}#sk-container-id-2 div.sk-dashed-wrapped {border: 1px dashed gray;margin: 0 0.4em 0.5em 0.4em;box-sizing: border-box;padding-bottom: 0.4em;background-color: white;}#sk-container-id-2 div.sk-label label {font-family: monospace;font-weight: bold;display: inline-block;line-height: 1.2em;}#sk-container-id-2 div.sk-label-container {text-align: center;}#sk-container-id-2 div.sk-container {/* jupyter's `normalize.less` sets `[hidden] { display: none; }` but bootstrap.min.css set `[hidden] { display: none !important; }` so we also need the `!important` here to be able to override the default hidden behavior on the sphinx rendered scikit-learn.org. See: https://github.com/scikit-learn/scikit-learn/issues/21755 */display: inline-block !important;position: relative;}#sk-container-id-2 div.sk-text-repr-fallback {display: none;}</style><div id=\"sk-container-id-2\" class=\"sk-top-container\"><div class=\"sk-text-repr-fallback\"><pre>RandomForestRegressor(random_state=42)</pre><b>In a Jupyter environment, please rerun this cell to show the HTML representation or trust the notebook. <br />On GitHub, the HTML representation is unable to render, please try loading this page with nbviewer.org.</b></div><div class=\"sk-container\" hidden><div class=\"sk-item\"><div class=\"sk-estimator sk-toggleable\"><input class=\"sk-toggleable__control sk-hidden--visually\" id=\"sk-estimator-id-2\" type=\"checkbox\" checked><label for=\"sk-estimator-id-2\" class=\"sk-toggleable__label sk-toggleable__label-arrow\">RandomForestRegressor</label><div class=\"sk-toggleable__content\"><pre>RandomForestRegressor(random_state=42)</pre></div></div></div></div></div>"
     },
     "execution_count": 123,
     "metadata": {},
     "output_type": "execute_result"
    }
   ],
   "source": [
    "import time\n",
    "from sklearn.ensemble import RandomForestRegressor\n",
    "\n",
    "rf_model1 = RandomForestRegressor(n_estimators=100, random_state=42)\n",
    "rf_model1.fit(X_train1, y_train1)\n",
    "\n",
    "rf_model2 = RandomForestRegressor(n_estimators=100, random_state=42)\n",
    "rf_model2.fit(X_train2, y_train2)\n",
    "\n",
    "rf_model3 = RandomForestRegressor(n_estimators=100, random_state=42)\n",
    "rf_model3.fit(X_train3, y_train3)\n",
    "\n"
   ],
   "metadata": {
    "collapsed": false,
    "ExecuteTime": {
     "end_time": "2024-01-10T11:46:36.819701468Z",
     "start_time": "2024-01-10T11:46:32.783608013Z"
    }
   },
   "id": "b79b1a3bb71508e9",
   "execution_count": 123
  },
  {
   "cell_type": "markdown",
   "source": [
    "<h4> 6. Test & print evaluation metrics </h4>"
   ],
   "metadata": {
    "collapsed": false
   },
   "id": "1eabf7a3bc03136f"
  },
  {
   "cell_type": "code",
   "outputs": [],
   "source": [
    "test_df = pd.read_csv('data/test.csv')"
   ],
   "metadata": {
    "collapsed": false,
    "ExecuteTime": {
     "end_time": "2024-01-10T11:47:18.648032518Z",
     "start_time": "2024-01-10T11:47:18.592180788Z"
    }
   },
   "id": "40593517934001f8",
   "execution_count": 136
  },
  {
   "cell_type": "code",
   "outputs": [
    {
     "data": {
      "text/plain": "(404, 15)"
     },
     "execution_count": 137,
     "metadata": {},
     "output_type": "execute_result"
    }
   ],
   "source": [
    "test_df.shape"
   ],
   "metadata": {
    "collapsed": false,
    "ExecuteTime": {
     "end_time": "2024-01-10T11:47:18.949600213Z",
     "start_time": "2024-01-10T11:47:18.890478385Z"
    }
   },
   "id": "891af534c0e3241e",
   "execution_count": 137
  },
  {
   "cell_type": "code",
   "outputs": [],
   "source": [
    "test_clusters = kmeans.predict(test_df.drop(columns=[\"dir_costs\", \"lost_trips_costs_s_r\", \"traffic_costs_s_r\"]) )"
   ],
   "metadata": {
    "collapsed": false,
    "ExecuteTime": {
     "end_time": "2024-01-10T11:47:19.863374175Z",
     "start_time": "2024-01-10T11:47:19.840939113Z"
    }
   },
   "id": "bce11ba0bdaa495e",
   "execution_count": 138
  },
  {
   "cell_type": "code",
   "outputs": [],
   "source": [
    "test_df[\"Cluster\"] = test_clusters"
   ],
   "metadata": {
    "collapsed": false,
    "ExecuteTime": {
     "end_time": "2024-01-10T11:47:20.505196189Z",
     "start_time": "2024-01-10T11:47:20.499179583Z"
    }
   },
   "id": "33e78794c71975e0",
   "execution_count": 139
  },
  {
   "cell_type": "code",
   "outputs": [
    {
     "data": {
      "text/plain": "     max_discharge_sum_r1  max_discharge_sum_r2_1  max_discharge_sum_r2_2  \\\n0             1041.910022             1682.269960             2618.785501   \n1              568.211437             1676.755106             1698.087521   \n2              825.094557             1654.635147             1665.846538   \n3              529.013626             1666.475342             2927.662888   \n4              670.411867             1650.028160             1837.452783   \n..                    ...                     ...                     ...   \n399            667.577509             1708.374881             2254.257607   \n400            536.300728             1689.573950             2339.160480   \n401            643.419471             1689.350137             2084.110831   \n402            632.986703             1673.601452             2460.836153   \n403            617.998171             1611.668609             2252.665618   \n\n     max_discharge_sum_r3  flood_sum_r1  flood_sum_r2_1  flood_sum_r2_2  \\\n0              403.177612  10635.749574    32961.640511    30796.932632   \n1              901.152698   8403.564241    31230.373948    19869.508771   \n2              486.662449   9625.439001    31026.832398    19563.420522   \n3              376.569968   8054.994635    31827.840306    33712.432616   \n4              566.843472   8867.723330    31533.409501    20878.115588   \n..                    ...           ...             ...             ...   \n399            631.650022   8718.665810    33418.628423    24909.298342   \n400            805.779031   8200.614208    31639.246503    28268.057208   \n401            663.639601   8730.092349    32410.795774    23524.708319   \n402            573.444942   8661.400911    34149.262775    27783.613834   \n403            514.475550   8556.301618    32251.584883    26418.345184   \n\n     flood_sum_r3  HW_inund_uncertainty  bridge_scour_uncertainty  \\\n0    12572.132098              0.777534                  0.887391   \n1    17844.850146              1.191581                  0.904204   \n2    13716.964098              0.707860                  1.232122   \n3    12107.491665              1.036260                  0.839889   \n4    14646.351934              0.970798                  1.238293   \n..            ...                   ...                       ...   \n399  15286.472833              1.140398                  0.771452   \n400  17143.483894              0.668606                  1.338408   \n401  15557.541140              0.740226                  0.982565   \n402  14724.822061              1.020478                  0.875726   \n403  14093.435142              0.713416                  1.129528   \n\n     travel_demand_uncertainty  restoration_capacity_uncertainty  \\\n0                     1.146891                                 5   \n1                     0.388062                                 4   \n2                     1.010656                                 5   \n3                     1.197014                                 3   \n4                     1.222012                                 6   \n..                         ...                               ...   \n399                   0.685503                                 5   \n400                   0.916916                                 4   \n401                   1.341429                                 4   \n402                   0.898231                                 3   \n403                   1.010970                                 5   \n\n        dir_costs  lost_trips_costs_s_r  traffic_costs_s_r  Cluster  \n0    3.958513e+07          6.176438e+07       8.331453e+06        4  \n1    2.496745e+07          1.970961e+07      -3.388755e+07        9  \n2    2.264145e+07          4.214872e+07       2.191359e+06        6  \n3    6.355152e+07          1.538514e+08       3.755425e+07        1  \n4    2.500712e+07          4.902112e+07       1.230080e+07        6  \n..            ...                   ...                ...      ...  \n399  3.293892e+07          3.926928e+07      -1.876339e+07        2  \n400  4.244701e+07          1.130557e+08      -7.524209e+06        0  \n401  5.176733e+07          1.636258e+08       5.950160e+07        2  \n402  3.924589e+07          7.313832e+07      -6.627626e+06        4  \n403  3.500028e+07          5.545214e+07       2.086568e+06        0  \n\n[404 rows x 16 columns]",
      "text/html": "<div>\n<style scoped>\n    .dataframe tbody tr th:only-of-type {\n        vertical-align: middle;\n    }\n\n    .dataframe tbody tr th {\n        vertical-align: top;\n    }\n\n    .dataframe thead th {\n        text-align: right;\n    }\n</style>\n<table border=\"1\" class=\"dataframe\">\n  <thead>\n    <tr style=\"text-align: right;\">\n      <th></th>\n      <th>max_discharge_sum_r1</th>\n      <th>max_discharge_sum_r2_1</th>\n      <th>max_discharge_sum_r2_2</th>\n      <th>max_discharge_sum_r3</th>\n      <th>flood_sum_r1</th>\n      <th>flood_sum_r2_1</th>\n      <th>flood_sum_r2_2</th>\n      <th>flood_sum_r3</th>\n      <th>HW_inund_uncertainty</th>\n      <th>bridge_scour_uncertainty</th>\n      <th>travel_demand_uncertainty</th>\n      <th>restoration_capacity_uncertainty</th>\n      <th>dir_costs</th>\n      <th>lost_trips_costs_s_r</th>\n      <th>traffic_costs_s_r</th>\n      <th>Cluster</th>\n    </tr>\n  </thead>\n  <tbody>\n    <tr>\n      <th>0</th>\n      <td>1041.910022</td>\n      <td>1682.269960</td>\n      <td>2618.785501</td>\n      <td>403.177612</td>\n      <td>10635.749574</td>\n      <td>32961.640511</td>\n      <td>30796.932632</td>\n      <td>12572.132098</td>\n      <td>0.777534</td>\n      <td>0.887391</td>\n      <td>1.146891</td>\n      <td>5</td>\n      <td>3.958513e+07</td>\n      <td>6.176438e+07</td>\n      <td>8.331453e+06</td>\n      <td>4</td>\n    </tr>\n    <tr>\n      <th>1</th>\n      <td>568.211437</td>\n      <td>1676.755106</td>\n      <td>1698.087521</td>\n      <td>901.152698</td>\n      <td>8403.564241</td>\n      <td>31230.373948</td>\n      <td>19869.508771</td>\n      <td>17844.850146</td>\n      <td>1.191581</td>\n      <td>0.904204</td>\n      <td>0.388062</td>\n      <td>4</td>\n      <td>2.496745e+07</td>\n      <td>1.970961e+07</td>\n      <td>-3.388755e+07</td>\n      <td>9</td>\n    </tr>\n    <tr>\n      <th>2</th>\n      <td>825.094557</td>\n      <td>1654.635147</td>\n      <td>1665.846538</td>\n      <td>486.662449</td>\n      <td>9625.439001</td>\n      <td>31026.832398</td>\n      <td>19563.420522</td>\n      <td>13716.964098</td>\n      <td>0.707860</td>\n      <td>1.232122</td>\n      <td>1.010656</td>\n      <td>5</td>\n      <td>2.264145e+07</td>\n      <td>4.214872e+07</td>\n      <td>2.191359e+06</td>\n      <td>6</td>\n    </tr>\n    <tr>\n      <th>3</th>\n      <td>529.013626</td>\n      <td>1666.475342</td>\n      <td>2927.662888</td>\n      <td>376.569968</td>\n      <td>8054.994635</td>\n      <td>31827.840306</td>\n      <td>33712.432616</td>\n      <td>12107.491665</td>\n      <td>1.036260</td>\n      <td>0.839889</td>\n      <td>1.197014</td>\n      <td>3</td>\n      <td>6.355152e+07</td>\n      <td>1.538514e+08</td>\n      <td>3.755425e+07</td>\n      <td>1</td>\n    </tr>\n    <tr>\n      <th>4</th>\n      <td>670.411867</td>\n      <td>1650.028160</td>\n      <td>1837.452783</td>\n      <td>566.843472</td>\n      <td>8867.723330</td>\n      <td>31533.409501</td>\n      <td>20878.115588</td>\n      <td>14646.351934</td>\n      <td>0.970798</td>\n      <td>1.238293</td>\n      <td>1.222012</td>\n      <td>6</td>\n      <td>2.500712e+07</td>\n      <td>4.902112e+07</td>\n      <td>1.230080e+07</td>\n      <td>6</td>\n    </tr>\n    <tr>\n      <th>...</th>\n      <td>...</td>\n      <td>...</td>\n      <td>...</td>\n      <td>...</td>\n      <td>...</td>\n      <td>...</td>\n      <td>...</td>\n      <td>...</td>\n      <td>...</td>\n      <td>...</td>\n      <td>...</td>\n      <td>...</td>\n      <td>...</td>\n      <td>...</td>\n      <td>...</td>\n      <td>...</td>\n    </tr>\n    <tr>\n      <th>399</th>\n      <td>667.577509</td>\n      <td>1708.374881</td>\n      <td>2254.257607</td>\n      <td>631.650022</td>\n      <td>8718.665810</td>\n      <td>33418.628423</td>\n      <td>24909.298342</td>\n      <td>15286.472833</td>\n      <td>1.140398</td>\n      <td>0.771452</td>\n      <td>0.685503</td>\n      <td>5</td>\n      <td>3.293892e+07</td>\n      <td>3.926928e+07</td>\n      <td>-1.876339e+07</td>\n      <td>2</td>\n    </tr>\n    <tr>\n      <th>400</th>\n      <td>536.300728</td>\n      <td>1689.573950</td>\n      <td>2339.160480</td>\n      <td>805.779031</td>\n      <td>8200.614208</td>\n      <td>31639.246503</td>\n      <td>28268.057208</td>\n      <td>17143.483894</td>\n      <td>0.668606</td>\n      <td>1.338408</td>\n      <td>0.916916</td>\n      <td>4</td>\n      <td>4.244701e+07</td>\n      <td>1.130557e+08</td>\n      <td>-7.524209e+06</td>\n      <td>0</td>\n    </tr>\n    <tr>\n      <th>401</th>\n      <td>643.419471</td>\n      <td>1689.350137</td>\n      <td>2084.110831</td>\n      <td>663.639601</td>\n      <td>8730.092349</td>\n      <td>32410.795774</td>\n      <td>23524.708319</td>\n      <td>15557.541140</td>\n      <td>0.740226</td>\n      <td>0.982565</td>\n      <td>1.341429</td>\n      <td>4</td>\n      <td>5.176733e+07</td>\n      <td>1.636258e+08</td>\n      <td>5.950160e+07</td>\n      <td>2</td>\n    </tr>\n    <tr>\n      <th>402</th>\n      <td>632.986703</td>\n      <td>1673.601452</td>\n      <td>2460.836153</td>\n      <td>573.444942</td>\n      <td>8661.400911</td>\n      <td>34149.262775</td>\n      <td>27783.613834</td>\n      <td>14724.822061</td>\n      <td>1.020478</td>\n      <td>0.875726</td>\n      <td>0.898231</td>\n      <td>3</td>\n      <td>3.924589e+07</td>\n      <td>7.313832e+07</td>\n      <td>-6.627626e+06</td>\n      <td>4</td>\n    </tr>\n    <tr>\n      <th>403</th>\n      <td>617.998171</td>\n      <td>1611.668609</td>\n      <td>2252.665618</td>\n      <td>514.475550</td>\n      <td>8556.301618</td>\n      <td>32251.584883</td>\n      <td>26418.345184</td>\n      <td>14093.435142</td>\n      <td>0.713416</td>\n      <td>1.129528</td>\n      <td>1.010970</td>\n      <td>5</td>\n      <td>3.500028e+07</td>\n      <td>5.545214e+07</td>\n      <td>2.086568e+06</td>\n      <td>0</td>\n    </tr>\n  </tbody>\n</table>\n<p>404 rows × 16 columns</p>\n</div>"
     },
     "execution_count": 140,
     "metadata": {},
     "output_type": "execute_result"
    }
   ],
   "source": [
    "test_df"
   ],
   "metadata": {
    "collapsed": false,
    "ExecuteTime": {
     "end_time": "2024-01-10T11:47:21.418088165Z",
     "start_time": "2024-01-10T11:47:21.367108258Z"
    }
   },
   "id": "eba842e65529b328",
   "execution_count": 140
  },
  {
   "cell_type": "code",
   "outputs": [
    {
     "data": {
      "text/plain": "     class_0  class_1  class_2  class_3  class_4  class_5  class_6  class_7  \\\n0      False    False    False    False     True    False    False    False   \n1      False    False    False    False    False    False    False    False   \n2      False    False    False    False    False    False     True    False   \n3      False     True    False    False    False    False    False    False   \n4      False    False    False    False    False    False     True    False   \n..       ...      ...      ...      ...      ...      ...      ...      ...   \n399    False    False     True    False    False    False    False    False   \n400     True    False    False    False    False    False    False    False   \n401    False    False     True    False    False    False    False    False   \n402    False    False    False    False     True    False    False    False   \n403     True    False    False    False    False    False    False    False   \n\n     class_9  \n0      False  \n1       True  \n2      False  \n3      False  \n4      False  \n..       ...  \n399    False  \n400    False  \n401    False  \n402    False  \n403    False  \n\n[404 rows x 9 columns]",
      "text/html": "<div>\n<style scoped>\n    .dataframe tbody tr th:only-of-type {\n        vertical-align: middle;\n    }\n\n    .dataframe tbody tr th {\n        vertical-align: top;\n    }\n\n    .dataframe thead th {\n        text-align: right;\n    }\n</style>\n<table border=\"1\" class=\"dataframe\">\n  <thead>\n    <tr style=\"text-align: right;\">\n      <th></th>\n      <th>class_0</th>\n      <th>class_1</th>\n      <th>class_2</th>\n      <th>class_3</th>\n      <th>class_4</th>\n      <th>class_5</th>\n      <th>class_6</th>\n      <th>class_7</th>\n      <th>class_9</th>\n    </tr>\n  </thead>\n  <tbody>\n    <tr>\n      <th>0</th>\n      <td>False</td>\n      <td>False</td>\n      <td>False</td>\n      <td>False</td>\n      <td>True</td>\n      <td>False</td>\n      <td>False</td>\n      <td>False</td>\n      <td>False</td>\n    </tr>\n    <tr>\n      <th>1</th>\n      <td>False</td>\n      <td>False</td>\n      <td>False</td>\n      <td>False</td>\n      <td>False</td>\n      <td>False</td>\n      <td>False</td>\n      <td>False</td>\n      <td>True</td>\n    </tr>\n    <tr>\n      <th>2</th>\n      <td>False</td>\n      <td>False</td>\n      <td>False</td>\n      <td>False</td>\n      <td>False</td>\n      <td>False</td>\n      <td>True</td>\n      <td>False</td>\n      <td>False</td>\n    </tr>\n    <tr>\n      <th>3</th>\n      <td>False</td>\n      <td>True</td>\n      <td>False</td>\n      <td>False</td>\n      <td>False</td>\n      <td>False</td>\n      <td>False</td>\n      <td>False</td>\n      <td>False</td>\n    </tr>\n    <tr>\n      <th>4</th>\n      <td>False</td>\n      <td>False</td>\n      <td>False</td>\n      <td>False</td>\n      <td>False</td>\n      <td>False</td>\n      <td>True</td>\n      <td>False</td>\n      <td>False</td>\n    </tr>\n    <tr>\n      <th>...</th>\n      <td>...</td>\n      <td>...</td>\n      <td>...</td>\n      <td>...</td>\n      <td>...</td>\n      <td>...</td>\n      <td>...</td>\n      <td>...</td>\n      <td>...</td>\n    </tr>\n    <tr>\n      <th>399</th>\n      <td>False</td>\n      <td>False</td>\n      <td>True</td>\n      <td>False</td>\n      <td>False</td>\n      <td>False</td>\n      <td>False</td>\n      <td>False</td>\n      <td>False</td>\n    </tr>\n    <tr>\n      <th>400</th>\n      <td>True</td>\n      <td>False</td>\n      <td>False</td>\n      <td>False</td>\n      <td>False</td>\n      <td>False</td>\n      <td>False</td>\n      <td>False</td>\n      <td>False</td>\n    </tr>\n    <tr>\n      <th>401</th>\n      <td>False</td>\n      <td>False</td>\n      <td>True</td>\n      <td>False</td>\n      <td>False</td>\n      <td>False</td>\n      <td>False</td>\n      <td>False</td>\n      <td>False</td>\n    </tr>\n    <tr>\n      <th>402</th>\n      <td>False</td>\n      <td>False</td>\n      <td>False</td>\n      <td>False</td>\n      <td>True</td>\n      <td>False</td>\n      <td>False</td>\n      <td>False</td>\n      <td>False</td>\n    </tr>\n    <tr>\n      <th>403</th>\n      <td>True</td>\n      <td>False</td>\n      <td>False</td>\n      <td>False</td>\n      <td>False</td>\n      <td>False</td>\n      <td>False</td>\n      <td>False</td>\n      <td>False</td>\n    </tr>\n  </tbody>\n</table>\n<p>404 rows × 9 columns</p>\n</div>"
     },
     "execution_count": 141,
     "metadata": {},
     "output_type": "execute_result"
    }
   ],
   "source": [
    "dummy_columns = pd.get_dummies(test_df['Cluster'], prefix='class')\n",
    "dummy_columns"
   ],
   "metadata": {
    "collapsed": false,
    "ExecuteTime": {
     "end_time": "2024-01-10T11:47:23.902875819Z",
     "start_time": "2024-01-10T11:47:23.876754212Z"
    }
   },
   "id": "33f50e7bf75ac736",
   "execution_count": 141
  },
  {
   "cell_type": "code",
   "outputs": [
    {
     "data": {
      "text/plain": "   max_discharge_sum_r1  max_discharge_sum_r2_1  max_discharge_sum_r2_2  \\\n0           1041.910022             1682.269960             2618.785501   \n1            568.211437             1676.755106             1698.087521   \n2            825.094557             1654.635147             1665.846538   \n3            529.013626             1666.475342             2927.662888   \n4            670.411867             1650.028160             1837.452783   \n\n   max_discharge_sum_r3  flood_sum_r1  flood_sum_r2_1  flood_sum_r2_2  \\\n0            403.177612  10635.749574    32961.640511    30796.932632   \n1            901.152698   8403.564241    31230.373948    19869.508771   \n2            486.662449   9625.439001    31026.832398    19563.420522   \n3            376.569968   8054.994635    31827.840306    33712.432616   \n4            566.843472   8867.723330    31533.409501    20878.115588   \n\n   flood_sum_r3  HW_inund_uncertainty  bridge_scour_uncertainty  ...  Cluster  \\\n0  12572.132098              0.777534                  0.887391  ...        4   \n1  17844.850146              1.191581                  0.904204  ...        9   \n2  13716.964098              0.707860                  1.232122  ...        6   \n3  12107.491665              1.036260                  0.839889  ...        1   \n4  14646.351934              0.970798                  1.238293  ...        6   \n\n   class_0  class_1  class_2  class_3  class_4  class_5  class_6  class_7  \\\n0    False    False    False    False     True    False    False    False   \n1    False    False    False    False    False    False    False    False   \n2    False    False    False    False    False    False     True    False   \n3    False     True    False    False    False    False    False    False   \n4    False    False    False    False    False    False     True    False   \n\n   class_9  \n0    False  \n1     True  \n2    False  \n3    False  \n4    False  \n\n[5 rows x 25 columns]",
      "text/html": "<div>\n<style scoped>\n    .dataframe tbody tr th:only-of-type {\n        vertical-align: middle;\n    }\n\n    .dataframe tbody tr th {\n        vertical-align: top;\n    }\n\n    .dataframe thead th {\n        text-align: right;\n    }\n</style>\n<table border=\"1\" class=\"dataframe\">\n  <thead>\n    <tr style=\"text-align: right;\">\n      <th></th>\n      <th>max_discharge_sum_r1</th>\n      <th>max_discharge_sum_r2_1</th>\n      <th>max_discharge_sum_r2_2</th>\n      <th>max_discharge_sum_r3</th>\n      <th>flood_sum_r1</th>\n      <th>flood_sum_r2_1</th>\n      <th>flood_sum_r2_2</th>\n      <th>flood_sum_r3</th>\n      <th>HW_inund_uncertainty</th>\n      <th>bridge_scour_uncertainty</th>\n      <th>...</th>\n      <th>Cluster</th>\n      <th>class_0</th>\n      <th>class_1</th>\n      <th>class_2</th>\n      <th>class_3</th>\n      <th>class_4</th>\n      <th>class_5</th>\n      <th>class_6</th>\n      <th>class_7</th>\n      <th>class_9</th>\n    </tr>\n  </thead>\n  <tbody>\n    <tr>\n      <th>0</th>\n      <td>1041.910022</td>\n      <td>1682.269960</td>\n      <td>2618.785501</td>\n      <td>403.177612</td>\n      <td>10635.749574</td>\n      <td>32961.640511</td>\n      <td>30796.932632</td>\n      <td>12572.132098</td>\n      <td>0.777534</td>\n      <td>0.887391</td>\n      <td>...</td>\n      <td>4</td>\n      <td>False</td>\n      <td>False</td>\n      <td>False</td>\n      <td>False</td>\n      <td>True</td>\n      <td>False</td>\n      <td>False</td>\n      <td>False</td>\n      <td>False</td>\n    </tr>\n    <tr>\n      <th>1</th>\n      <td>568.211437</td>\n      <td>1676.755106</td>\n      <td>1698.087521</td>\n      <td>901.152698</td>\n      <td>8403.564241</td>\n      <td>31230.373948</td>\n      <td>19869.508771</td>\n      <td>17844.850146</td>\n      <td>1.191581</td>\n      <td>0.904204</td>\n      <td>...</td>\n      <td>9</td>\n      <td>False</td>\n      <td>False</td>\n      <td>False</td>\n      <td>False</td>\n      <td>False</td>\n      <td>False</td>\n      <td>False</td>\n      <td>False</td>\n      <td>True</td>\n    </tr>\n    <tr>\n      <th>2</th>\n      <td>825.094557</td>\n      <td>1654.635147</td>\n      <td>1665.846538</td>\n      <td>486.662449</td>\n      <td>9625.439001</td>\n      <td>31026.832398</td>\n      <td>19563.420522</td>\n      <td>13716.964098</td>\n      <td>0.707860</td>\n      <td>1.232122</td>\n      <td>...</td>\n      <td>6</td>\n      <td>False</td>\n      <td>False</td>\n      <td>False</td>\n      <td>False</td>\n      <td>False</td>\n      <td>False</td>\n      <td>True</td>\n      <td>False</td>\n      <td>False</td>\n    </tr>\n    <tr>\n      <th>3</th>\n      <td>529.013626</td>\n      <td>1666.475342</td>\n      <td>2927.662888</td>\n      <td>376.569968</td>\n      <td>8054.994635</td>\n      <td>31827.840306</td>\n      <td>33712.432616</td>\n      <td>12107.491665</td>\n      <td>1.036260</td>\n      <td>0.839889</td>\n      <td>...</td>\n      <td>1</td>\n      <td>False</td>\n      <td>True</td>\n      <td>False</td>\n      <td>False</td>\n      <td>False</td>\n      <td>False</td>\n      <td>False</td>\n      <td>False</td>\n      <td>False</td>\n    </tr>\n    <tr>\n      <th>4</th>\n      <td>670.411867</td>\n      <td>1650.028160</td>\n      <td>1837.452783</td>\n      <td>566.843472</td>\n      <td>8867.723330</td>\n      <td>31533.409501</td>\n      <td>20878.115588</td>\n      <td>14646.351934</td>\n      <td>0.970798</td>\n      <td>1.238293</td>\n      <td>...</td>\n      <td>6</td>\n      <td>False</td>\n      <td>False</td>\n      <td>False</td>\n      <td>False</td>\n      <td>False</td>\n      <td>False</td>\n      <td>True</td>\n      <td>False</td>\n      <td>False</td>\n    </tr>\n  </tbody>\n</table>\n<p>5 rows × 25 columns</p>\n</div>"
     },
     "execution_count": 142,
     "metadata": {},
     "output_type": "execute_result"
    }
   ],
   "source": [
    "test_df = pd.concat([test_df, dummy_columns], axis=1)\n",
    "test_df.head()"
   ],
   "metadata": {
    "collapsed": false,
    "ExecuteTime": {
     "end_time": "2024-01-10T11:47:24.395280838Z",
     "start_time": "2024-01-10T11:47:24.391463366Z"
    }
   },
   "id": "f31df4940f4bd3f0",
   "execution_count": 142
  },
  {
   "cell_type": "code",
   "outputs": [],
   "source": [
    "test_df = test_df.drop(columns=['Cluster'])"
   ],
   "metadata": {
    "collapsed": false,
    "ExecuteTime": {
     "end_time": "2024-01-10T11:47:31.329510135Z",
     "start_time": "2024-01-10T11:47:31.274358538Z"
    }
   },
   "id": "f56534df84edbab0",
   "execution_count": 143
  },
  {
   "cell_type": "code",
   "outputs": [
    {
     "data": {
      "text/plain": "   max_discharge_sum_r1  max_discharge_sum_r2_1  max_discharge_sum_r2_2  \\\n0           1041.910022             1682.269960             2618.785501   \n1            568.211437             1676.755106             1698.087521   \n2            825.094557             1654.635147             1665.846538   \n3            529.013626             1666.475342             2927.662888   \n4            670.411867             1650.028160             1837.452783   \n\n   max_discharge_sum_r3  flood_sum_r1  flood_sum_r2_1  flood_sum_r2_2  \\\n0            403.177612  10635.749574    32961.640511    30796.932632   \n1            901.152698   8403.564241    31230.373948    19869.508771   \n2            486.662449   9625.439001    31026.832398    19563.420522   \n3            376.569968   8054.994635    31827.840306    33712.432616   \n4            566.843472   8867.723330    31533.409501    20878.115588   \n\n   flood_sum_r3  HW_inund_uncertainty  bridge_scour_uncertainty  ...  \\\n0  12572.132098              0.777534                  0.887391  ...   \n1  17844.850146              1.191581                  0.904204  ...   \n2  13716.964098              0.707860                  1.232122  ...   \n3  12107.491665              1.036260                  0.839889  ...   \n4  14646.351934              0.970798                  1.238293  ...   \n\n   traffic_costs_s_r  class_0  class_1  class_2  class_3  class_4  class_5  \\\n0       8.331453e+06    False    False    False    False     True    False   \n1      -3.388755e+07    False    False    False    False    False    False   \n2       2.191359e+06    False    False    False    False    False    False   \n3       3.755425e+07    False     True    False    False    False    False   \n4       1.230080e+07    False    False    False    False    False    False   \n\n   class_6  class_7  class_9  \n0    False    False    False  \n1    False    False     True  \n2     True    False    False  \n3    False    False    False  \n4     True    False    False  \n\n[5 rows x 24 columns]",
      "text/html": "<div>\n<style scoped>\n    .dataframe tbody tr th:only-of-type {\n        vertical-align: middle;\n    }\n\n    .dataframe tbody tr th {\n        vertical-align: top;\n    }\n\n    .dataframe thead th {\n        text-align: right;\n    }\n</style>\n<table border=\"1\" class=\"dataframe\">\n  <thead>\n    <tr style=\"text-align: right;\">\n      <th></th>\n      <th>max_discharge_sum_r1</th>\n      <th>max_discharge_sum_r2_1</th>\n      <th>max_discharge_sum_r2_2</th>\n      <th>max_discharge_sum_r3</th>\n      <th>flood_sum_r1</th>\n      <th>flood_sum_r2_1</th>\n      <th>flood_sum_r2_2</th>\n      <th>flood_sum_r3</th>\n      <th>HW_inund_uncertainty</th>\n      <th>bridge_scour_uncertainty</th>\n      <th>...</th>\n      <th>traffic_costs_s_r</th>\n      <th>class_0</th>\n      <th>class_1</th>\n      <th>class_2</th>\n      <th>class_3</th>\n      <th>class_4</th>\n      <th>class_5</th>\n      <th>class_6</th>\n      <th>class_7</th>\n      <th>class_9</th>\n    </tr>\n  </thead>\n  <tbody>\n    <tr>\n      <th>0</th>\n      <td>1041.910022</td>\n      <td>1682.269960</td>\n      <td>2618.785501</td>\n      <td>403.177612</td>\n      <td>10635.749574</td>\n      <td>32961.640511</td>\n      <td>30796.932632</td>\n      <td>12572.132098</td>\n      <td>0.777534</td>\n      <td>0.887391</td>\n      <td>...</td>\n      <td>8.331453e+06</td>\n      <td>False</td>\n      <td>False</td>\n      <td>False</td>\n      <td>False</td>\n      <td>True</td>\n      <td>False</td>\n      <td>False</td>\n      <td>False</td>\n      <td>False</td>\n    </tr>\n    <tr>\n      <th>1</th>\n      <td>568.211437</td>\n      <td>1676.755106</td>\n      <td>1698.087521</td>\n      <td>901.152698</td>\n      <td>8403.564241</td>\n      <td>31230.373948</td>\n      <td>19869.508771</td>\n      <td>17844.850146</td>\n      <td>1.191581</td>\n      <td>0.904204</td>\n      <td>...</td>\n      <td>-3.388755e+07</td>\n      <td>False</td>\n      <td>False</td>\n      <td>False</td>\n      <td>False</td>\n      <td>False</td>\n      <td>False</td>\n      <td>False</td>\n      <td>False</td>\n      <td>True</td>\n    </tr>\n    <tr>\n      <th>2</th>\n      <td>825.094557</td>\n      <td>1654.635147</td>\n      <td>1665.846538</td>\n      <td>486.662449</td>\n      <td>9625.439001</td>\n      <td>31026.832398</td>\n      <td>19563.420522</td>\n      <td>13716.964098</td>\n      <td>0.707860</td>\n      <td>1.232122</td>\n      <td>...</td>\n      <td>2.191359e+06</td>\n      <td>False</td>\n      <td>False</td>\n      <td>False</td>\n      <td>False</td>\n      <td>False</td>\n      <td>False</td>\n      <td>True</td>\n      <td>False</td>\n      <td>False</td>\n    </tr>\n    <tr>\n      <th>3</th>\n      <td>529.013626</td>\n      <td>1666.475342</td>\n      <td>2927.662888</td>\n      <td>376.569968</td>\n      <td>8054.994635</td>\n      <td>31827.840306</td>\n      <td>33712.432616</td>\n      <td>12107.491665</td>\n      <td>1.036260</td>\n      <td>0.839889</td>\n      <td>...</td>\n      <td>3.755425e+07</td>\n      <td>False</td>\n      <td>True</td>\n      <td>False</td>\n      <td>False</td>\n      <td>False</td>\n      <td>False</td>\n      <td>False</td>\n      <td>False</td>\n      <td>False</td>\n    </tr>\n    <tr>\n      <th>4</th>\n      <td>670.411867</td>\n      <td>1650.028160</td>\n      <td>1837.452783</td>\n      <td>566.843472</td>\n      <td>8867.723330</td>\n      <td>31533.409501</td>\n      <td>20878.115588</td>\n      <td>14646.351934</td>\n      <td>0.970798</td>\n      <td>1.238293</td>\n      <td>...</td>\n      <td>1.230080e+07</td>\n      <td>False</td>\n      <td>False</td>\n      <td>False</td>\n      <td>False</td>\n      <td>False</td>\n      <td>False</td>\n      <td>True</td>\n      <td>False</td>\n      <td>False</td>\n    </tr>\n  </tbody>\n</table>\n<p>5 rows × 24 columns</p>\n</div>"
     },
     "execution_count": 144,
     "metadata": {},
     "output_type": "execute_result"
    }
   ],
   "source": [
    "test_df.head()"
   ],
   "metadata": {
    "collapsed": false,
    "ExecuteTime": {
     "end_time": "2024-01-10T11:47:31.722390010Z",
     "start_time": "2024-01-10T11:47:31.710060137Z"
    }
   },
   "id": "d4893ae9c5221ec8",
   "execution_count": 144
  },
  {
   "cell_type": "code",
   "outputs": [],
   "source": [
    "test_df1 = test_df.drop(columns=[\"lost_trips_costs_s_r\", \"traffic_costs_s_r\"])\n",
    "test_df2 = test_df.drop(columns=[\"dir_costs\", \"traffic_costs_s_r\"])\n",
    "test_df3 = test_df.drop(columns=[\"dir_costs\", \"lost_trips_costs_s_r\"])"
   ],
   "metadata": {
    "collapsed": false,
    "ExecuteTime": {
     "end_time": "2024-01-10T11:47:45.607207166Z",
     "start_time": "2024-01-10T11:47:45.579123723Z"
    }
   },
   "id": "74c8bda57c55972d",
   "execution_count": 145
  },
  {
   "cell_type": "code",
   "outputs": [],
   "source": [
    "X_test1 = test_df.drop(columns=[\"dir_costs\"])\n",
    "y_test1 = test_df['dir_costs']\n",
    " \n",
    "X_test2 = test_df.drop(columns=[\"lost_trips_costs_s_r\"])\n",
    "y_test2 = test_df['lost_trips_costs_s_r']\n",
    " \n",
    "X_test3 = test_df.drop(columns=[\"traffic_costs_s_r\"])\n",
    "y_test3 = test_df['traffic_costs_s_r']"
   ],
   "metadata": {
    "collapsed": false,
    "ExecuteTime": {
     "end_time": "2024-01-10T11:47:46.138563338Z",
     "start_time": "2024-01-10T11:47:46.119540552Z"
    }
   },
   "id": "f38fb95b4b6e3a50",
   "execution_count": 146
  },
  {
   "cell_type": "code",
   "outputs": [
    {
     "ename": "ValueError",
     "evalue": "operands could not be broadcast together with shapes (404,23) (24,) ",
     "output_type": "error",
     "traceback": [
      "\u001B[0;31m---------------------------------------------------------------------------\u001B[0m",
      "\u001B[0;31mValueError\u001B[0m                                Traceback (most recent call last)",
      "Cell \u001B[0;32mIn[148], line 1\u001B[0m\n\u001B[0;32m----> 1\u001B[0m y_pred1 \u001B[38;5;241m=\u001B[39m \u001B[43mgrnn1\u001B[49m\u001B[38;5;241;43m.\u001B[39;49m\u001B[43mpredict\u001B[49m\u001B[43m(\u001B[49m\u001B[43mX_test1\u001B[49m\u001B[43m)\u001B[49m\n\u001B[1;32m      2\u001B[0m y_pred2 \u001B[38;5;241m=\u001B[39m grnn2\u001B[38;5;241m.\u001B[39mpredict(X_test2)\n\u001B[1;32m      3\u001B[0m y_pred3 \u001B[38;5;241m=\u001B[39m grnn3\u001B[38;5;241m.\u001B[39mpredict(X_test3)\n",
      "File \u001B[0;32m~/Projects/Diploma/venv/lib/python3.10/site-packages/pyGRNN/GRNN.py:262\u001B[0m, in \u001B[0;36mGRNN.predict\u001B[0;34m(self, X)\u001B[0m\n\u001B[1;32m    259\u001B[0m X \u001B[38;5;241m=\u001B[39m check_array(X)\n\u001B[1;32m    261\u001B[0m Kernel_def\u001B[38;5;241m=\u001B[39m \u001B[38;5;28mgetattr\u001B[39m(kernels, \u001B[38;5;28mself\u001B[39m\u001B[38;5;241m.\u001B[39mkernel)(length_scale\u001B[38;5;241m=\u001B[39m\u001B[38;5;28mself\u001B[39m\u001B[38;5;241m.\u001B[39msigma)\n\u001B[0;32m--> 262\u001B[0m K \u001B[38;5;241m=\u001B[39m \u001B[43mKernel_def\u001B[49m\u001B[43m(\u001B[49m\u001B[38;5;28;43mself\u001B[39;49m\u001B[38;5;241;43m.\u001B[39;49m\u001B[43mX_\u001B[49m\u001B[43m,\u001B[49m\u001B[43m \u001B[49m\u001B[43mX\u001B[49m\u001B[43m)\u001B[49m\n\u001B[1;32m    263\u001B[0m \u001B[38;5;66;03m# If the distances are very high/low, zero-densities must be prevented:\u001B[39;00m\n\u001B[1;32m    264\u001B[0m K \u001B[38;5;241m=\u001B[39m np\u001B[38;5;241m.\u001B[39mnan_to_num(K)\n",
      "File \u001B[0;32m~/Projects/Diploma/venv/lib64/python3.10/site-packages/sklearn/gaussian_process/kernels.py:1543\u001B[0m, in \u001B[0;36mRBF.__call__\u001B[0;34m(self, X, Y, eval_gradient)\u001B[0m\n\u001B[1;32m   1541\u001B[0m     \u001B[38;5;28;01mif\u001B[39;00m eval_gradient:\n\u001B[1;32m   1542\u001B[0m         \u001B[38;5;28;01mraise\u001B[39;00m \u001B[38;5;167;01mValueError\u001B[39;00m(\u001B[38;5;124m\"\u001B[39m\u001B[38;5;124mGradient can only be evaluated when Y is None.\u001B[39m\u001B[38;5;124m\"\u001B[39m)\n\u001B[0;32m-> 1543\u001B[0m     dists \u001B[38;5;241m=\u001B[39m cdist(X \u001B[38;5;241m/\u001B[39m length_scale, \u001B[43mY\u001B[49m\u001B[43m \u001B[49m\u001B[38;5;241;43m/\u001B[39;49m\u001B[43m \u001B[49m\u001B[43mlength_scale\u001B[49m, metric\u001B[38;5;241m=\u001B[39m\u001B[38;5;124m\"\u001B[39m\u001B[38;5;124msqeuclidean\u001B[39m\u001B[38;5;124m\"\u001B[39m)\n\u001B[1;32m   1544\u001B[0m     K \u001B[38;5;241m=\u001B[39m np\u001B[38;5;241m.\u001B[39mexp(\u001B[38;5;241m-\u001B[39m\u001B[38;5;241m0.5\u001B[39m \u001B[38;5;241m*\u001B[39m dists)\n\u001B[1;32m   1546\u001B[0m \u001B[38;5;28;01mif\u001B[39;00m eval_gradient:\n",
      "\u001B[0;31mValueError\u001B[0m: operands could not be broadcast together with shapes (404,23) (24,) "
     ]
    }
   ],
   "source": [
    "y_pred1 = grnn1.predict(X_test1)\n",
    "y_pred2 = grnn2.predict(X_test2)\n",
    "y_pred3 = grnn3.predict(X_test3)\n",
    "\n",
    "test_df1[\"GRNN1\"] = test_df2[\"GRNN1\"] = test_df3[\"GRNN1\"] = y_pred1\n",
    "test_df1[\"GRNN2\"] = test_df2[\"GRNN2\"] = test_df3[\"GRNN2\"] = y_pred2\n",
    "test_df1[\"GRNN3\"] = test_df2[\"GRNN3\"] = test_df3[\"GRNN3\"] = y_pred3"
   ],
   "metadata": {
    "collapsed": false,
    "ExecuteTime": {
     "end_time": "2024-01-10T11:48:00.507728144Z",
     "start_time": "2024-01-10T11:48:00.444688555Z"
    }
   },
   "id": "c5a91fd32f2fdd87",
   "execution_count": 148
  },
  {
   "cell_type": "code",
   "outputs": [],
   "source": [
    "predictions1 = rf_model1.predict(X_test1)\n",
    "predictions2 = rf_model2.predict(X_test2)\n",
    "predictions3 = rf_model3.predict(X_test3)\n"
   ],
   "metadata": {
    "collapsed": false,
    "ExecuteTime": {
     "end_time": "2024-01-10T11:39:44.180704916Z",
     "start_time": "2024-01-10T11:39:44.140010371Z"
    }
   },
   "id": "1b8c1256a967daee",
   "execution_count": 97
  },
  {
   "cell_type": "code",
   "outputs": [],
   "source": [
    "from sklearn.metrics import mean_absolute_error\n",
    "from numpy import sqrt\n",
    "from sklearn.metrics import mean_squared_error, r2_score, mean_absolute_percentage_error, max_error, median_absolute_error, mean_absolute_error\n",
    "\n",
    "def print_metrics(y_true, y_pred):\n",
    "    mse = mean_squared_error(y_true, y_pred)\n",
    "    print(f'Mean Squared Error (MSE):              {mse:.10f}')\n",
    "    \n",
    "    rmse = sqrt(mse)\n",
    "    print(f'Root Mean Squared Error (RMSE):        {rmse:.10f}')\n",
    "    \n",
    "    mae = mean_absolute_error(y_true, y_pred)\n",
    "    print(f'Mean Absolute Error (MAE):             {mae:.10f}')\n",
    "    \n",
    "    r2 = r2_score(y_true, y_pred)\n",
    "    print(f'R-squared (R²):                        {r2:.10f}')\n",
    "    \n",
    "    mape = mean_absolute_percentage_error(y_true, y_pred)\n",
    "    print(f'Mean Absolute Percentage Error (MAPE): {mape:.10f}')    \n",
    "    \n",
    "    me = max_error(y_true, y_pred)\n",
    "    print(f'Max Error (ME):                        {me:.10f}')    \n",
    "    \n",
    "    med_ae = median_absolute_error(y_true, y_pred)\n",
    "    print(f'Median Absolute Error (MedAE):         {med_ae:.10f}')    "
   ],
   "metadata": {
    "collapsed": false,
    "ExecuteTime": {
     "end_time": "2024-01-10T11:40:12.837721531Z",
     "start_time": "2024-01-10T11:40:12.790330607Z"
    }
   },
   "id": "8817f24f0a7dd093",
   "execution_count": 98
  },
  {
   "cell_type": "code",
   "outputs": [
    {
     "name": "stdout",
     "output_type": "stream",
     "text": [
      "Mean Squared Error (MSE):              17403463215757.5683593750\n",
      "Root Mean Squared Error (RMSE):        4171745.8234841642\n",
      "Mean Absolute Error (MAE):             2272712.8915420519\n",
      "R-squared (R²):                        0.9095587914\n",
      "Mean Absolute Percentage Error (MAPE): 0.0522113286\n",
      "Max Error (ME):                        18906979.4463154823\n",
      "Median Absolute Error (MedAE):         849614.2306820676\n"
     ]
    }
   ],
   "source": [
    "print_metrics(y_test1, predictions1)"
   ],
   "metadata": {
    "collapsed": false,
    "ExecuteTime": {
     "end_time": "2024-01-10T11:40:48.999636099Z",
     "start_time": "2024-01-10T11:40:48.955743513Z"
    }
   },
   "id": "6a6d9951df1b7cea",
   "execution_count": 99
  },
  {
   "cell_type": "code",
   "outputs": [
    {
     "name": "stdout",
     "output_type": "stream",
     "text": [
      "Mean Squared Error (MSE):              217034632479769.6562500000\n",
      "Root Mean Squared Error (RMSE):        14732095.3187172133\n",
      "Mean Absolute Error (MAE):             7698309.6621062746\n",
      "R-squared (R²):                        0.7895275465\n",
      "Mean Absolute Percentage Error (MAPE): 0.1011590964\n",
      "Max Error (ME):                        139941419.6274482608\n",
      "Median Absolute Error (MedAE):         3483001.5948535502\n"
     ]
    }
   ],
   "source": [
    "print_metrics(y_test2, predictions2)"
   ],
   "metadata": {
    "collapsed": false,
    "ExecuteTime": {
     "end_time": "2024-01-10T11:41:02.272461732Z",
     "start_time": "2024-01-10T11:41:02.251151866Z"
    }
   },
   "id": "66bbc581c1706fe1",
   "execution_count": 100
  },
  {
   "cell_type": "code",
   "outputs": [
    {
     "name": "stdout",
     "output_type": "stream",
     "text": [
      "Mean Squared Error (MSE):              31635942689751.0156250000\n",
      "Root Mean Squared Error (RMSE):        5624583.7792454492\n",
      "Mean Absolute Error (MAE):             2319080.2937903157\n",
      "R-squared (R²):                        0.8625513246\n",
      "Mean Absolute Percentage Error (MAPE): 0.6593677528\n",
      "Max Error (ME):                        77718557.2667000145\n",
      "Median Absolute Error (MedAE):         1058824.4164987497\n"
     ]
    }
   ],
   "source": [
    "print_metrics(y_test3, predictions3)\n"
   ],
   "metadata": {
    "collapsed": false,
    "ExecuteTime": {
     "end_time": "2024-01-10T11:42:04.469091201Z",
     "start_time": "2024-01-10T11:42:04.426861787Z"
    }
   },
   "id": "2aa44b5dba45a19f",
   "execution_count": 103
  },
  {
   "cell_type": "code",
   "outputs": [],
   "source": [],
   "metadata": {
    "collapsed": false
   },
   "id": "97bae3ae40874daa"
  }
 ],
 "metadata": {
  "kernelspec": {
   "display_name": "Python 3",
   "language": "python",
   "name": "python3"
  },
  "language_info": {
   "codemirror_mode": {
    "name": "ipython",
    "version": 2
   },
   "file_extension": ".py",
   "mimetype": "text/x-python",
   "name": "python",
   "nbconvert_exporter": "python",
   "pygments_lexer": "ipython2",
   "version": "2.7.6"
  }
 },
 "nbformat": 4,
 "nbformat_minor": 5
}
