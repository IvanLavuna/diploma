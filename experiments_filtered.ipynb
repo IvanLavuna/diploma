{
 "cells": [
  {
   "cell_type": "markdown",
   "source": [
    "<p> Regression experiments on filtered dataset: (Span_number = 3) </p>"
   ],
   "metadata": {
    "collapsed": false
   },
   "id": "66913e3a0c5d152b"
  },
  {
   "cell_type": "code",
   "execution_count": 56,
   "id": "initial_id",
   "metadata": {
    "collapsed": true,
    "ExecuteTime": {
     "end_time": "2023-11-20T13:51:00.746023676Z",
     "start_time": "2023-11-20T13:51:00.728178504Z"
    }
   },
   "outputs": [],
   "source": [
    "import keras\n",
    "import pandas as pd\n",
    "import numpy as np\n",
    "from sklearn.model_selection import train_test_split\n",
    "from sklearn.metrics import mean_squared_error, r2_score, mean_absolute_percentage_error, max_error, median_absolute_error, mean_absolute_error\n",
    "from sklearn.metrics import mean_squared_error\n",
    "import time\n"
   ]
  },
  {
   "cell_type": "code",
   "execution_count": 57,
   "outputs": [],
   "source": [
    "df = pd.read_csv('data/DRdata.csv')"
   ],
   "metadata": {
    "collapsed": false,
    "ExecuteTime": {
     "end_time": "2023-11-20T13:51:01.204470258Z",
     "start_time": "2023-11-20T13:51:01.066033175Z"
    }
   },
   "id": "7cfa4c49dd9d5e57"
  },
  {
   "cell_type": "code",
   "execution_count": 58,
   "outputs": [
    {
     "data": {
      "text/plain": "(113100, 16)"
     },
     "execution_count": 58,
     "metadata": {},
     "output_type": "execute_result"
    }
   ],
   "source": [
    "df.shape"
   ],
   "metadata": {
    "collapsed": false,
    "ExecuteTime": {
     "end_time": "2023-11-20T13:51:01.398213367Z",
     "start_time": "2023-11-20T13:51:01.373855740Z"
    }
   },
   "id": "6e62b45d6968e55a"
  },
  {
   "cell_type": "code",
   "execution_count": 59,
   "outputs": [
    {
     "data": {
      "text/plain": "   Unnamed: 0  Day   SC  Age Environment  Span_number  h_NoDamage   h_Minor  \\\n0           0    1  0.0   20      Benign            1     0.96478  0.002324   \n1           1    2  0.0   20      Benign            1     0.96478  0.002324   \n2           2    3  0.0   20      Benign            1     0.96478  0.002324   \n3           3    4  0.0   20      Benign            1     0.96478  0.002324   \n4           4    5  0.0   20      Benign            1     0.96478  0.002324   \n\n   h_Moderate  h_Extensive  h_Severe  Res_Minor  Res_moderate  Res_extensive  \\\n0    0.003064     0.003209  0.026623    0.90173        0.7126        0.39687   \n1    0.003064     0.003209  0.026623    0.90173        0.7126        0.39687   \n2    0.003064     0.003209  0.026623    0.90173        0.7126        0.39687   \n3    0.003064     0.003209  0.026623    0.90173        0.7126        0.39687   \n4    0.003064     0.003209  0.026623    0.90173        0.7126        0.39687   \n\n   Res_Severe  Resilience  \n0     0.11078     0.97344  \n1     0.11078     0.97340  \n2     0.11078     0.97337  \n3     0.11078     0.97334  \n4     0.11078     0.97332  ",
      "text/html": "<div>\n<style scoped>\n    .dataframe tbody tr th:only-of-type {\n        vertical-align: middle;\n    }\n\n    .dataframe tbody tr th {\n        vertical-align: top;\n    }\n\n    .dataframe thead th {\n        text-align: right;\n    }\n</style>\n<table border=\"1\" class=\"dataframe\">\n  <thead>\n    <tr style=\"text-align: right;\">\n      <th></th>\n      <th>Unnamed: 0</th>\n      <th>Day</th>\n      <th>SC</th>\n      <th>Age</th>\n      <th>Environment</th>\n      <th>Span_number</th>\n      <th>h_NoDamage</th>\n      <th>h_Minor</th>\n      <th>h_Moderate</th>\n      <th>h_Extensive</th>\n      <th>h_Severe</th>\n      <th>Res_Minor</th>\n      <th>Res_moderate</th>\n      <th>Res_extensive</th>\n      <th>Res_Severe</th>\n      <th>Resilience</th>\n    </tr>\n  </thead>\n  <tbody>\n    <tr>\n      <th>0</th>\n      <td>0</td>\n      <td>1</td>\n      <td>0.0</td>\n      <td>20</td>\n      <td>Benign</td>\n      <td>1</td>\n      <td>0.96478</td>\n      <td>0.002324</td>\n      <td>0.003064</td>\n      <td>0.003209</td>\n      <td>0.026623</td>\n      <td>0.90173</td>\n      <td>0.7126</td>\n      <td>0.39687</td>\n      <td>0.11078</td>\n      <td>0.97344</td>\n    </tr>\n    <tr>\n      <th>1</th>\n      <td>1</td>\n      <td>2</td>\n      <td>0.0</td>\n      <td>20</td>\n      <td>Benign</td>\n      <td>1</td>\n      <td>0.96478</td>\n      <td>0.002324</td>\n      <td>0.003064</td>\n      <td>0.003209</td>\n      <td>0.026623</td>\n      <td>0.90173</td>\n      <td>0.7126</td>\n      <td>0.39687</td>\n      <td>0.11078</td>\n      <td>0.97340</td>\n    </tr>\n    <tr>\n      <th>2</th>\n      <td>2</td>\n      <td>3</td>\n      <td>0.0</td>\n      <td>20</td>\n      <td>Benign</td>\n      <td>1</td>\n      <td>0.96478</td>\n      <td>0.002324</td>\n      <td>0.003064</td>\n      <td>0.003209</td>\n      <td>0.026623</td>\n      <td>0.90173</td>\n      <td>0.7126</td>\n      <td>0.39687</td>\n      <td>0.11078</td>\n      <td>0.97337</td>\n    </tr>\n    <tr>\n      <th>3</th>\n      <td>3</td>\n      <td>4</td>\n      <td>0.0</td>\n      <td>20</td>\n      <td>Benign</td>\n      <td>1</td>\n      <td>0.96478</td>\n      <td>0.002324</td>\n      <td>0.003064</td>\n      <td>0.003209</td>\n      <td>0.026623</td>\n      <td>0.90173</td>\n      <td>0.7126</td>\n      <td>0.39687</td>\n      <td>0.11078</td>\n      <td>0.97334</td>\n    </tr>\n    <tr>\n      <th>4</th>\n      <td>4</td>\n      <td>5</td>\n      <td>0.0</td>\n      <td>20</td>\n      <td>Benign</td>\n      <td>1</td>\n      <td>0.96478</td>\n      <td>0.002324</td>\n      <td>0.003064</td>\n      <td>0.003209</td>\n      <td>0.026623</td>\n      <td>0.90173</td>\n      <td>0.7126</td>\n      <td>0.39687</td>\n      <td>0.11078</td>\n      <td>0.97332</td>\n    </tr>\n  </tbody>\n</table>\n</div>"
     },
     "execution_count": 59,
     "metadata": {},
     "output_type": "execute_result"
    }
   ],
   "source": [
    "df.head()"
   ],
   "metadata": {
    "collapsed": false,
    "ExecuteTime": {
     "end_time": "2023-11-20T13:51:01.931861057Z",
     "start_time": "2023-11-20T13:51:01.924769486Z"
    }
   },
   "id": "8ca2f0cd3fcec329"
  },
  {
   "cell_type": "code",
   "execution_count": 60,
   "outputs": [],
   "source": [
    "dummy_columns = pd.get_dummies(df['Environment'], prefix='class')\n",
    "df = pd.concat([df, dummy_columns], axis=1)\n",
    "df = df.drop(\"Environment\", axis=1)"
   ],
   "metadata": {
    "collapsed": false,
    "ExecuteTime": {
     "end_time": "2023-11-20T13:51:03.415355846Z",
     "start_time": "2023-11-20T13:51:03.379307835Z"
    }
   },
   "id": "d2bc149e13cb4a80"
  },
  {
   "cell_type": "code",
   "execution_count": 61,
   "outputs": [
    {
     "data": {
      "text/plain": "   Unnamed: 0  Day   SC  Age  Span_number  h_NoDamage   h_Minor  h_Moderate  \\\n0           0    1  0.0   20            1     0.96478  0.002324    0.003064   \n1           1    2  0.0   20            1     0.96478  0.002324    0.003064   \n2           2    3  0.0   20            1     0.96478  0.002324    0.003064   \n3           3    4  0.0   20            1     0.96478  0.002324    0.003064   \n4           4    5  0.0   20            1     0.96478  0.002324    0.003064   \n\n   h_Extensive  h_Severe  Res_Minor  Res_moderate  Res_extensive  Res_Severe  \\\n0     0.003209  0.026623    0.90173        0.7126        0.39687     0.11078   \n1     0.003209  0.026623    0.90173        0.7126        0.39687     0.11078   \n2     0.003209  0.026623    0.90173        0.7126        0.39687     0.11078   \n3     0.003209  0.026623    0.90173        0.7126        0.39687     0.11078   \n4     0.003209  0.026623    0.90173        0.7126        0.39687     0.11078   \n\n   Resilience  class_Benign  class_Low  class_Severe  class_moderate  \n0     0.97344          True      False         False           False  \n1     0.97340          True      False         False           False  \n2     0.97337          True      False         False           False  \n3     0.97334          True      False         False           False  \n4     0.97332          True      False         False           False  ",
      "text/html": "<div>\n<style scoped>\n    .dataframe tbody tr th:only-of-type {\n        vertical-align: middle;\n    }\n\n    .dataframe tbody tr th {\n        vertical-align: top;\n    }\n\n    .dataframe thead th {\n        text-align: right;\n    }\n</style>\n<table border=\"1\" class=\"dataframe\">\n  <thead>\n    <tr style=\"text-align: right;\">\n      <th></th>\n      <th>Unnamed: 0</th>\n      <th>Day</th>\n      <th>SC</th>\n      <th>Age</th>\n      <th>Span_number</th>\n      <th>h_NoDamage</th>\n      <th>h_Minor</th>\n      <th>h_Moderate</th>\n      <th>h_Extensive</th>\n      <th>h_Severe</th>\n      <th>Res_Minor</th>\n      <th>Res_moderate</th>\n      <th>Res_extensive</th>\n      <th>Res_Severe</th>\n      <th>Resilience</th>\n      <th>class_Benign</th>\n      <th>class_Low</th>\n      <th>class_Severe</th>\n      <th>class_moderate</th>\n    </tr>\n  </thead>\n  <tbody>\n    <tr>\n      <th>0</th>\n      <td>0</td>\n      <td>1</td>\n      <td>0.0</td>\n      <td>20</td>\n      <td>1</td>\n      <td>0.96478</td>\n      <td>0.002324</td>\n      <td>0.003064</td>\n      <td>0.003209</td>\n      <td>0.026623</td>\n      <td>0.90173</td>\n      <td>0.7126</td>\n      <td>0.39687</td>\n      <td>0.11078</td>\n      <td>0.97344</td>\n      <td>True</td>\n      <td>False</td>\n      <td>False</td>\n      <td>False</td>\n    </tr>\n    <tr>\n      <th>1</th>\n      <td>1</td>\n      <td>2</td>\n      <td>0.0</td>\n      <td>20</td>\n      <td>1</td>\n      <td>0.96478</td>\n      <td>0.002324</td>\n      <td>0.003064</td>\n      <td>0.003209</td>\n      <td>0.026623</td>\n      <td>0.90173</td>\n      <td>0.7126</td>\n      <td>0.39687</td>\n      <td>0.11078</td>\n      <td>0.97340</td>\n      <td>True</td>\n      <td>False</td>\n      <td>False</td>\n      <td>False</td>\n    </tr>\n    <tr>\n      <th>2</th>\n      <td>2</td>\n      <td>3</td>\n      <td>0.0</td>\n      <td>20</td>\n      <td>1</td>\n      <td>0.96478</td>\n      <td>0.002324</td>\n      <td>0.003064</td>\n      <td>0.003209</td>\n      <td>0.026623</td>\n      <td>0.90173</td>\n      <td>0.7126</td>\n      <td>0.39687</td>\n      <td>0.11078</td>\n      <td>0.97337</td>\n      <td>True</td>\n      <td>False</td>\n      <td>False</td>\n      <td>False</td>\n    </tr>\n    <tr>\n      <th>3</th>\n      <td>3</td>\n      <td>4</td>\n      <td>0.0</td>\n      <td>20</td>\n      <td>1</td>\n      <td>0.96478</td>\n      <td>0.002324</td>\n      <td>0.003064</td>\n      <td>0.003209</td>\n      <td>0.026623</td>\n      <td>0.90173</td>\n      <td>0.7126</td>\n      <td>0.39687</td>\n      <td>0.11078</td>\n      <td>0.97334</td>\n      <td>True</td>\n      <td>False</td>\n      <td>False</td>\n      <td>False</td>\n    </tr>\n    <tr>\n      <th>4</th>\n      <td>4</td>\n      <td>5</td>\n      <td>0.0</td>\n      <td>20</td>\n      <td>1</td>\n      <td>0.96478</td>\n      <td>0.002324</td>\n      <td>0.003064</td>\n      <td>0.003209</td>\n      <td>0.026623</td>\n      <td>0.90173</td>\n      <td>0.7126</td>\n      <td>0.39687</td>\n      <td>0.11078</td>\n      <td>0.97332</td>\n      <td>True</td>\n      <td>False</td>\n      <td>False</td>\n      <td>False</td>\n    </tr>\n  </tbody>\n</table>\n</div>"
     },
     "execution_count": 61,
     "metadata": {},
     "output_type": "execute_result"
    }
   ],
   "source": [
    "df.head()"
   ],
   "metadata": {
    "collapsed": false,
    "ExecuteTime": {
     "end_time": "2023-11-20T13:51:04.433124137Z",
     "start_time": "2023-11-20T13:51:04.387364096Z"
    }
   },
   "id": "3134f5aa929e7a99"
  },
  {
   "cell_type": "code",
   "execution_count": 62,
   "outputs": [],
   "source": [
    "# filter by Span_number\n",
    "df = df[df[\"Span_number\"] == 3]"
   ],
   "metadata": {
    "collapsed": false,
    "ExecuteTime": {
     "end_time": "2023-11-20T13:51:06.989812709Z",
     "start_time": "2023-11-20T13:51:06.957853686Z"
    }
   },
   "id": "deef67fcd360f678"
  },
  {
   "cell_type": "code",
   "execution_count": 63,
   "outputs": [
    {
     "data": {
      "text/plain": "     Unnamed: 0  Day   SC  Age  Span_number  h_NoDamage   h_Minor  h_Moderate  \\\n969         969    1  0.0   20            3     0.96478  0.002324    0.003064   \n970         970    2  0.0   20            3     0.96478  0.002324    0.003064   \n971         971    3  0.0   20            3     0.96478  0.002324    0.003064   \n972         972    4  0.0   20            3     0.96478  0.002324    0.003064   \n973         973    5  0.0   20            3     0.96478  0.002324    0.003064   \n\n     h_Extensive  h_Severe  Res_Minor  Res_moderate  Res_extensive  \\\n969     0.003209  0.026623    0.90179       0.71217        0.39687   \n970     0.003209  0.026623    0.90179       0.71217        0.39687   \n971     0.003209  0.026623    0.90179       0.71217        0.39687   \n972     0.003209  0.026623    0.90179       0.71217        0.39687   \n973     0.003209  0.026623    0.90179       0.71217        0.39687   \n\n     Res_Severe  Resilience  class_Benign  class_Low  class_Severe  \\\n969     0.11078     0.97343          True      False         False   \n970     0.11078     0.97341          True      False         False   \n971     0.11078     0.97338          True      False         False   \n972     0.11078     0.97336          True      False         False   \n973     0.11078     0.97334          True      False         False   \n\n     class_moderate  \n969           False  \n970           False  \n971           False  \n972           False  \n973           False  ",
      "text/html": "<div>\n<style scoped>\n    .dataframe tbody tr th:only-of-type {\n        vertical-align: middle;\n    }\n\n    .dataframe tbody tr th {\n        vertical-align: top;\n    }\n\n    .dataframe thead th {\n        text-align: right;\n    }\n</style>\n<table border=\"1\" class=\"dataframe\">\n  <thead>\n    <tr style=\"text-align: right;\">\n      <th></th>\n      <th>Unnamed: 0</th>\n      <th>Day</th>\n      <th>SC</th>\n      <th>Age</th>\n      <th>Span_number</th>\n      <th>h_NoDamage</th>\n      <th>h_Minor</th>\n      <th>h_Moderate</th>\n      <th>h_Extensive</th>\n      <th>h_Severe</th>\n      <th>Res_Minor</th>\n      <th>Res_moderate</th>\n      <th>Res_extensive</th>\n      <th>Res_Severe</th>\n      <th>Resilience</th>\n      <th>class_Benign</th>\n      <th>class_Low</th>\n      <th>class_Severe</th>\n      <th>class_moderate</th>\n    </tr>\n  </thead>\n  <tbody>\n    <tr>\n      <th>969</th>\n      <td>969</td>\n      <td>1</td>\n      <td>0.0</td>\n      <td>20</td>\n      <td>3</td>\n      <td>0.96478</td>\n      <td>0.002324</td>\n      <td>0.003064</td>\n      <td>0.003209</td>\n      <td>0.026623</td>\n      <td>0.90179</td>\n      <td>0.71217</td>\n      <td>0.39687</td>\n      <td>0.11078</td>\n      <td>0.97343</td>\n      <td>True</td>\n      <td>False</td>\n      <td>False</td>\n      <td>False</td>\n    </tr>\n    <tr>\n      <th>970</th>\n      <td>970</td>\n      <td>2</td>\n      <td>0.0</td>\n      <td>20</td>\n      <td>3</td>\n      <td>0.96478</td>\n      <td>0.002324</td>\n      <td>0.003064</td>\n      <td>0.003209</td>\n      <td>0.026623</td>\n      <td>0.90179</td>\n      <td>0.71217</td>\n      <td>0.39687</td>\n      <td>0.11078</td>\n      <td>0.97341</td>\n      <td>True</td>\n      <td>False</td>\n      <td>False</td>\n      <td>False</td>\n    </tr>\n    <tr>\n      <th>971</th>\n      <td>971</td>\n      <td>3</td>\n      <td>0.0</td>\n      <td>20</td>\n      <td>3</td>\n      <td>0.96478</td>\n      <td>0.002324</td>\n      <td>0.003064</td>\n      <td>0.003209</td>\n      <td>0.026623</td>\n      <td>0.90179</td>\n      <td>0.71217</td>\n      <td>0.39687</td>\n      <td>0.11078</td>\n      <td>0.97338</td>\n      <td>True</td>\n      <td>False</td>\n      <td>False</td>\n      <td>False</td>\n    </tr>\n    <tr>\n      <th>972</th>\n      <td>972</td>\n      <td>4</td>\n      <td>0.0</td>\n      <td>20</td>\n      <td>3</td>\n      <td>0.96478</td>\n      <td>0.002324</td>\n      <td>0.003064</td>\n      <td>0.003209</td>\n      <td>0.026623</td>\n      <td>0.90179</td>\n      <td>0.71217</td>\n      <td>0.39687</td>\n      <td>0.11078</td>\n      <td>0.97336</td>\n      <td>True</td>\n      <td>False</td>\n      <td>False</td>\n      <td>False</td>\n    </tr>\n    <tr>\n      <th>973</th>\n      <td>973</td>\n      <td>5</td>\n      <td>0.0</td>\n      <td>20</td>\n      <td>3</td>\n      <td>0.96478</td>\n      <td>0.002324</td>\n      <td>0.003064</td>\n      <td>0.003209</td>\n      <td>0.026623</td>\n      <td>0.90179</td>\n      <td>0.71217</td>\n      <td>0.39687</td>\n      <td>0.11078</td>\n      <td>0.97334</td>\n      <td>True</td>\n      <td>False</td>\n      <td>False</td>\n      <td>False</td>\n    </tr>\n  </tbody>\n</table>\n</div>"
     },
     "execution_count": 63,
     "metadata": {},
     "output_type": "execute_result"
    }
   ],
   "source": [
    "df.head()"
   ],
   "metadata": {
    "collapsed": false,
    "ExecuteTime": {
     "end_time": "2023-11-20T13:51:09.956377243Z",
     "start_time": "2023-11-20T13:51:09.932974724Z"
    }
   },
   "id": "bee44f4ad0bfff97"
  },
  {
   "cell_type": "code",
   "execution_count": 64,
   "outputs": [
    {
     "data": {
      "text/plain": "(15600, 19)"
     },
     "execution_count": 64,
     "metadata": {},
     "output_type": "execute_result"
    }
   ],
   "source": [
    "df.shape"
   ],
   "metadata": {
    "collapsed": false,
    "ExecuteTime": {
     "end_time": "2023-11-20T13:51:11.771585371Z",
     "start_time": "2023-11-20T13:51:11.754159703Z"
    }
   },
   "id": "63fc1579633787d9"
  },
  {
   "cell_type": "code",
   "execution_count": 65,
   "outputs": [],
   "source": [
    "X = df.drop('Resilience', axis=1)\n",
    "y = df['Resilience']"
   ],
   "metadata": {
    "collapsed": false,
    "ExecuteTime": {
     "end_time": "2023-11-20T13:51:12.652519632Z",
     "start_time": "2023-11-20T13:51:12.614949430Z"
    }
   },
   "id": "96ec7b53f9dc27d0"
  },
  {
   "cell_type": "code",
   "execution_count": 66,
   "outputs": [],
   "source": [
    "X_train, X_test, y_train, y_test = train_test_split(X, y, test_size=0.2, random_state=42)"
   ],
   "metadata": {
    "collapsed": false,
    "ExecuteTime": {
     "end_time": "2023-11-20T13:51:13.924750473Z",
     "start_time": "2023-11-20T13:51:13.909150911Z"
    }
   },
   "id": "267f21abad240de3"
  },
  {
   "cell_type": "code",
   "execution_count": 67,
   "outputs": [],
   "source": [
    "from sklearn.preprocessing import MaxAbsScaler\n",
    "\n",
    "scaler = MaxAbsScaler()\n",
    "scaler.fit(X_train)\n",
    "X_train = scaler.transform(X_train)\n",
    "X_test = scaler.transform(X_test)"
   ],
   "metadata": {
    "collapsed": false,
    "ExecuteTime": {
     "end_time": "2023-11-20T13:51:14.828351431Z",
     "start_time": "2023-11-20T13:51:14.778443310Z"
    }
   },
   "id": "3006ac5e98f8dcbf"
  },
  {
   "cell_type": "code",
   "execution_count": 68,
   "outputs": [],
   "source": [
    "from sklearn.metrics import mean_absolute_error\n",
    "from numpy import sqrt\n",
    "\n",
    "def print_metrics(y_true, y_pred):\n",
    "    mse = mean_squared_error(y_true, y_pred)\n",
    "    print(f'Mean Squared Error (MSE):              {mse:.10f}')\n",
    "    \n",
    "    rmse = sqrt(mse)\n",
    "    print(f'Root Mean Squared Error (RMSE):        {rmse:.10f}')\n",
    "    \n",
    "    mae = mean_absolute_error(y_true, y_pred)\n",
    "    print(f'Mean Absolute Error (MAE):             {mae:.10f}')\n",
    "    \n",
    "    r2 = r2_score(y_true, y_pred)\n",
    "    print(f'R-squared (R²):                        {r2:.10f}')\n",
    "    \n",
    "    mape = mean_absolute_percentage_error(y_true, y_pred)\n",
    "    print(f'Mean Absolute Percentage Error (MAPE): {mape:.10f}')    \n",
    "    \n",
    "    me = max_error(y_true, y_pred)\n",
    "    print(f'Max Error (ME):                        {me:.10f}')    \n",
    "    \n",
    "    med_ae = median_absolute_error(y_true, y_pred)\n",
    "    print(f'Median Absolute Error (MedAE):         {med_ae:.10f}')    "
   ],
   "metadata": {
    "collapsed": false,
    "ExecuteTime": {
     "end_time": "2023-11-20T13:51:15.706141082Z",
     "start_time": "2023-11-20T13:51:15.667225293Z"
    }
   },
   "id": "290c382df940670a"
  },
  {
   "cell_type": "markdown",
   "source": [
    "<h2> Random Forest </h2>"
   ],
   "metadata": {
    "collapsed": false
   },
   "id": "60142cfffd09597e"
  },
  {
   "cell_type": "code",
   "execution_count": 69,
   "outputs": [
    {
     "name": "stdout",
     "output_type": "stream",
     "text": [
      "Training time: 0.2202 seconds\n"
     ]
    }
   ],
   "source": [
    "from sklearn.ensemble import RandomForestRegressor\n",
    "\n",
    "rf_model = RandomForestRegressor(n_estimators=5, random_state=0)\n",
    "start_time = time.time()\n",
    "rf_model.fit(X_train, y_train)\n",
    "print(f'Training time: {time.time() - start_time:.4f} seconds')"
   ],
   "metadata": {
    "collapsed": false,
    "ExecuteTime": {
     "end_time": "2023-11-20T13:51:16.989244439Z",
     "start_time": "2023-11-20T13:51:16.764251319Z"
    }
   },
   "id": "2aafeabe258e6137"
  },
  {
   "cell_type": "code",
   "execution_count": 70,
   "outputs": [
    {
     "name": "stdout",
     "output_type": "stream",
     "text": [
      "Random Forest: train\n",
      "Mean Squared Error (MSE):              0.0000010043\n",
      "Root Mean Squared Error (RMSE):        0.0010021646\n",
      "Mean Absolute Error (MAE):             0.0003053804\n",
      "R-squared (R²):                        0.9999779216\n",
      "Mean Absolute Percentage Error (MAPE): 0.0009445327\n",
      "Max Error (ME):                        0.0247300000\n",
      "Median Absolute Error (MedAE):         0.0000000000\n",
      "\n",
      "Random Forest: test\n",
      "Mean Squared Error (MSE):              0.0000040511\n",
      "Root Mean Squared Error (RMSE):        0.0020127279\n",
      "Mean Absolute Error (MAE):             0.0006524756\n",
      "R-squared (R²):                        0.9999113548\n",
      "Mean Absolute Percentage Error (MAPE): 0.0019728027\n",
      "Max Error (ME):                        0.0322140000\n",
      "Median Absolute Error (MedAE):         0.0000500000\n"
     ]
    }
   ],
   "source": [
    "print(\"Random Forest: train\")\n",
    "y_pred = rf_model.predict(X_train)\n",
    "print_metrics(y_train, y_pred)\n",
    "print()\n",
    "print(\"Random Forest: test\")\n",
    "y_pred = rf_model.predict(X_test)\n",
    "print_metrics(y_test, y_pred)"
   ],
   "metadata": {
    "collapsed": false,
    "ExecuteTime": {
     "end_time": "2023-11-20T13:51:17.953269921Z",
     "start_time": "2023-11-20T13:51:17.918024118Z"
    }
   },
   "id": "686cea723afd8319"
  },
  {
   "cell_type": "markdown",
   "source": [
    "<h2> Support vector regression </h2>"
   ],
   "metadata": {
    "collapsed": false
   },
   "id": "1f9600d2277295b1"
  },
  {
   "cell_type": "code",
   "execution_count": 71,
   "outputs": [
    {
     "name": "stdout",
     "output_type": "stream",
     "text": [
      "Training time: 2.8917 seconds\n"
     ]
    }
   ],
   "source": [
    "from sklearn.svm import SVR\n",
    "svr_model = SVR(kernel='rbf', gamma='auto', coef0=0.0, epsilon=0.001, max_iter=-1)\n",
    "start_time = time.time()\n",
    "svr_model.fit(X_train, y_train)\n",
    "print(f'Training time: {time.time() - start_time:.4f} seconds')"
   ],
   "metadata": {
    "collapsed": false,
    "ExecuteTime": {
     "end_time": "2023-11-20T13:51:23.841320057Z",
     "start_time": "2023-11-20T13:51:20.946794948Z"
    }
   },
   "id": "8d0e661b491435d6"
  },
  {
   "cell_type": "code",
   "execution_count": 72,
   "outputs": [
    {
     "name": "stdout",
     "output_type": "stream",
     "text": [
      "SVR: train\n",
      "Mean Squared Error (MSE):              0.0000008566\n",
      "Root Mean Squared Error (RMSE):        0.0009255421\n",
      "Mean Absolute Error (MAE):             0.0006547746\n",
      "R-squared (R²):                        0.9999811686\n",
      "Mean Absolute Percentage Error (MAPE): 0.0030868033\n",
      "Max Error (ME):                        0.0139570040\n",
      "Median Absolute Error (MedAE):         0.0005266136\n",
      "\n",
      "SVR: test\n",
      "Mean Squared Error (MSE):              0.0000011681\n",
      "Root Mean Squared Error (RMSE):        0.0010807784\n",
      "Mean Absolute Error (MAE):             0.0006978751\n",
      "R-squared (R²):                        0.9999744401\n",
      "Mean Absolute Percentage Error (MAPE): 0.0032640628\n",
      "Max Error (ME):                        0.0156052015\n",
      "Median Absolute Error (MedAE):         0.0005348304\n"
     ]
    }
   ],
   "source": [
    "print(\"SVR: train\")\n",
    "y_pred = svr_model.predict(X_train)\n",
    "print_metrics(y_train, y_pred)\n",
    "print()\n",
    "print(\"SVR: test\")\n",
    "y_pred = svr_model.predict(X_test)\n",
    "print_metrics(y_test, y_pred)"
   ],
   "metadata": {
    "collapsed": false,
    "ExecuteTime": {
     "end_time": "2023-11-20T13:51:25.084938329Z",
     "start_time": "2023-11-20T13:51:23.843961085Z"
    }
   },
   "id": "e15d916b6b99bda1"
  },
  {
   "cell_type": "markdown",
   "source": [
    "<h2> Ridge regression </h2>"
   ],
   "metadata": {
    "collapsed": false
   },
   "id": "4115f162b18ffdaa"
  },
  {
   "cell_type": "code",
   "execution_count": 73,
   "outputs": [
    {
     "name": "stdout",
     "output_type": "stream",
     "text": [
      "Training time: 0.0033 seconds\n"
     ]
    }
   ],
   "source": [
    "from sklearn.linear_model import Ridge, Lasso\n",
    "\n",
    "ridge_model = Ridge(alpha=1.0)  # alpha - regularization strength\n",
    "start_time = time.time()\n",
    "ridge_model.fit(X_train, y_train)\n",
    "print(f'Training time: {time.time() - start_time:.4f} seconds')\n"
   ],
   "metadata": {
    "collapsed": false,
    "ExecuteTime": {
     "end_time": "2023-11-20T13:51:25.119858185Z",
     "start_time": "2023-11-20T13:51:25.085220263Z"
    }
   },
   "id": "dd78d9fcc767349d"
  },
  {
   "cell_type": "code",
   "execution_count": 74,
   "outputs": [
    {
     "name": "stdout",
     "output_type": "stream",
     "text": [
      "Ridge regression: train\n",
      "Mean Squared Error (MSE):              0.0003630594\n",
      "Root Mean Squared Error (RMSE):        0.0190541182\n",
      "Mean Absolute Error (MAE):             0.0089358156\n",
      "R-squared (R²):                        0.9920188047\n",
      "Mean Absolute Percentage Error (MAPE): 0.0305281331\n",
      "Max Error (ME):                        0.2856489361\n",
      "Median Absolute Error (MedAE):         0.0046911943\n",
      "\n",
      "Ridge regression: test\n",
      "Mean Squared Error (MSE):              0.0003902655\n",
      "Root Mean Squared Error (RMSE):        0.0197551390\n",
      "Mean Absolute Error (MAE):             0.0091966025\n",
      "R-squared (R²):                        0.9914602486\n",
      "Mean Absolute Percentage Error (MAPE): 0.0316967006\n",
      "Max Error (ME):                        0.2732215354\n",
      "Median Absolute Error (MedAE):         0.0047557552\n"
     ]
    }
   ],
   "source": [
    "print(\"Ridge regression: train\")\n",
    "y_pred = ridge_model.predict(X_train)\n",
    "print_metrics(y_train, y_pred)\n",
    "print()\n",
    "print(\"Ridge regression: test\")\n",
    "y_pred = ridge_model.predict(X_test)\n",
    "print_metrics(y_test, y_pred)"
   ],
   "metadata": {
    "collapsed": false,
    "ExecuteTime": {
     "end_time": "2023-11-20T13:51:25.209869191Z",
     "start_time": "2023-11-20T13:51:25.100296564Z"
    }
   },
   "id": "1ce27ea9ecf61a0"
  },
  {
   "cell_type": "markdown",
   "source": [
    "<h2> Lasso regression </h2>"
   ],
   "metadata": {
    "collapsed": false
   },
   "id": "6b6e155eb4201f20"
  },
  {
   "cell_type": "code",
   "execution_count": 75,
   "outputs": [
    {
     "name": "stdout",
     "output_type": "stream",
     "text": [
      "Training time: 0.0070 seconds\n"
     ]
    }
   ],
   "source": [
    "# Ridge Regression\n",
    "lasso_model = Lasso(alpha=1.0)  # You can adjust the regularization strength (alpha) as needed\n",
    "start_time = time.time()\n",
    "lasso_model.fit(X_train, y_train)\n",
    "print(f'Training time: {time.time() - start_time:.4f} seconds')"
   ],
   "metadata": {
    "collapsed": false,
    "ExecuteTime": {
     "end_time": "2023-11-20T13:51:25.211991037Z",
     "start_time": "2023-11-20T13:51:25.111010390Z"
    }
   },
   "id": "2154504043fa76a8"
  },
  {
   "cell_type": "code",
   "execution_count": 76,
   "outputs": [
    {
     "name": "stdout",
     "output_type": "stream",
     "text": [
      "Lasso regression: train\n",
      "Mean Squared Error (MSE):              0.0454893539\n",
      "Root Mean Squared Error (RMSE):        0.2132823338\n",
      "Mean Absolute Error (MAE):             0.1693363176\n",
      "R-squared (R²):                        0.0000000000\n",
      "Mean Absolute Percentage Error (MAPE): 0.7647992642\n",
      "Max Error (ME):                        0.7048327083\n",
      "Median Absolute Error (MedAE):         0.1475222917\n",
      "\n",
      "Lasso regression: test\n",
      "Mean Squared Error (MSE):              0.0457125008\n",
      "Root Mean Squared Error (RMSE):        0.2138048194\n",
      "Mean Absolute Error (MAE):             0.1703853492\n",
      "R-squared (R²):                        -0.0002764119\n",
      "Mean Absolute Percentage Error (MAPE): 0.7867527808\n",
      "Max Error (ME):                        0.6953127083\n",
      "Median Absolute Error (MedAE):         0.1503550000\n"
     ]
    }
   ],
   "source": [
    "print(\"Lasso regression: train\")\n",
    "y_pred = lasso_model.predict(X_train)\n",
    "print_metrics(y_train, y_pred)\n",
    "print()\n",
    "print(\"Lasso regression: test\")\n",
    "y_pred = lasso_model.predict(X_test)\n",
    "print_metrics(y_test, y_pred)"
   ],
   "metadata": {
    "collapsed": false,
    "ExecuteTime": {
     "end_time": "2023-11-20T13:51:25.213845697Z",
     "start_time": "2023-11-20T13:51:25.130881226Z"
    }
   },
   "id": "6245abcf553868e5"
  },
  {
   "cell_type": "markdown",
   "source": [
    "<h2> GRNN </h2>"
   ],
   "metadata": {
    "collapsed": false
   },
   "id": "ce72d3755b265c62"
  },
  {
   "cell_type": "code",
   "execution_count": 77,
   "outputs": [],
   "source": [
    "import math\n",
    "from sklearn.base import BaseEstimator, ClassifierMixin\n",
    "\n",
    "\n",
    "class GRNN(BaseEstimator, ClassifierMixin):\n",
    "    def __init__(self, name = \"GRNN\", sigma = 0.1):\n",
    "        self.name = name\n",
    "        self.sigma = 2 * np.power(sigma, 2)\n",
    "        \n",
    "    def predict(self, instance_X, train_X, train_y):\n",
    "        gausian_distances = np.exp(-np.power(np.sqrt((np.square(train_X-instance_X).sum(axis=1))),2)\\\n",
    "                                   / self.sigma)\n",
    "        gausian_distances_sum = gausian_distances.sum()\n",
    "        if gausian_distances_sum < math.pow(10, -7): gausian_distances_sum = math.pow(10, -7)\n",
    "        result = np.multiply(gausian_distances, train_y).sum() / gausian_distances_sum\n",
    "        return result"
   ],
   "metadata": {
    "collapsed": false,
    "ExecuteTime": {
     "end_time": "2023-11-20T13:51:25.407163411Z",
     "start_time": "2023-11-20T13:51:25.349726101Z"
    }
   },
   "id": "c07ccfbb0f5064b5"
  },
  {
   "cell_type": "code",
   "execution_count": 78,
   "outputs": [
    {
     "name": "stdout",
     "output_type": "stream",
     "text": [
      "--- 4.353600263595581 seconds ---\n",
      "Sigma: 0.1\n",
      "Mean Squared Error (MSE):              0.0000688275\n",
      "Root Mean Squared Error (RMSE):        0.0082962352\n",
      "Mean Absolute Error (MAE):             0.0041510976\n",
      "R-squared (R²):                        0.9984939231\n",
      "Mean Absolute Percentage Error (MAPE): 0.0166406006\n",
      "Max Error (ME):                        0.1051210895\n",
      "Median Absolute Error (MedAE):         0.0020376034\n",
      "--- 3.784694194793701 seconds ---\n",
      "Sigma: 0.2\n",
      "Mean Squared Error (MSE):              0.0003356887\n",
      "Root Mean Squared Error (RMSE):        0.0183218093\n",
      "Mean Absolute Error (MAE):             0.0123167520\n",
      "R-squared (R²):                        0.9926544932\n",
      "Mean Absolute Percentage Error (MAPE): 0.0461827456\n",
      "Max Error (ME):                        0.1110600464\n",
      "Median Absolute Error (MedAE):         0.0062216777\n",
      "--- 3.808619976043701 seconds ---\n",
      "Sigma: 0.30000000000000004\n",
      "Mean Squared Error (MSE):              0.0012510163\n",
      "Root Mean Squared Error (RMSE):        0.0353697089\n",
      "Mean Absolute Error (MAE):             0.0246581011\n",
      "R-squared (R²):                        0.9726253851\n",
      "Mean Absolute Percentage Error (MAPE): 0.0903369452\n",
      "Max Error (ME):                        0.1249112441\n",
      "Median Absolute Error (MedAE):         0.0128117930\n",
      "--- 3.778113603591919 seconds ---\n",
      "Sigma: 0.4\n",
      "Mean Squared Error (MSE):              0.0031990438\n",
      "Root Mean Squared Error (RMSE):        0.0565600897\n",
      "Mean Absolute Error (MAE):             0.0391710555\n",
      "R-squared (R²):                        0.9299988416\n",
      "Mean Absolute Percentage Error (MAPE): 0.1400096084\n",
      "Max Error (ME):                        0.2050611625\n",
      "Median Absolute Error (MedAE):         0.0216026144\n",
      "--- 3.5739524364471436 seconds ---\n",
      "Sigma: 0.5\n",
      "Mean Squared Error (MSE):              0.0071587444\n",
      "Root Mean Squared Error (RMSE):        0.0846093635\n",
      "Mean Absolute Error (MAE):             0.0581715636\n",
      "R-squared (R²):                        0.8433530645\n",
      "Mean Absolute Percentage Error (MAPE): 0.2001363862\n",
      "Max Error (ME):                        0.3190059742\n",
      "Median Absolute Error (MedAE):         0.0314947966\n",
      "--- 3.655845880508423 seconds ---\n",
      "Sigma: 0.6\n",
      "Mean Squared Error (MSE):              0.0129474807\n",
      "Root Mean Squared Error (RMSE):        0.1137869969\n",
      "Mean Absolute Error (MAE):             0.0771541689\n",
      "R-squared (R²):                        0.7166845113\n",
      "Mean Absolute Percentage Error (MAPE): 0.2665964841\n",
      "Max Error (ME):                        0.4114333039\n",
      "Median Absolute Error (MedAE):         0.0435776487\n",
      "--- 3.939037561416626 seconds ---\n",
      "Sigma: 0.7000000000000001\n",
      "Mean Squared Error (MSE):              0.0189046793\n",
      "Root Mean Squared Error (RMSE):        0.1374942883\n",
      "Mean Absolute Error (MAE):             0.0933502640\n",
      "R-squared (R²):                        0.5863296805\n",
      "Mean Absolute Percentage Error (MAPE): 0.3333385644\n",
      "Max Error (ME):                        0.4667866693\n",
      "Median Absolute Error (MedAE):         0.0565062395\n",
      "--- 3.8085341453552246 seconds ---\n",
      "Sigma: 0.8\n",
      "Mean Squared Error (MSE):              0.0238870172\n",
      "Root Mean Squared Error (RMSE):        0.1545542531\n",
      "Mean Absolute Error (MAE):             0.1064856732\n",
      "R-squared (R²):                        0.4773066577\n",
      "Mean Absolute Percentage Error (MAPE): 0.3957539547\n",
      "Max Error (ME):                        0.5013674995\n",
      "Median Absolute Error (MedAE):         0.0690107321\n",
      "--- 3.856097459793091 seconds ---\n",
      "Sigma: 0.9\n",
      "Mean Squared Error (MSE):              0.0277323965\n",
      "Root Mean Squared Error (RMSE):        0.1665304671\n",
      "Mean Absolute Error (MAE):             0.1170525489\n",
      "R-squared (R²):                        0.3931624488\n",
      "Mean Absolute Percentage Error (MAPE): 0.4512303490\n",
      "Max Error (ME):                        0.5422145570\n",
      "Median Absolute Error (MedAE):         0.0805893547\n"
     ]
    }
   ],
   "source": [
    "for s in np.arange(0.1, 1, 0.1):\n",
    "    grnn = GRNN(sigma=s)\n",
    "    start_time = time.time()\n",
    "    predictions = np.apply_along_axis(lambda i: grnn.predict(i, X_train, y_train), axis=1, arr=X_test)\n",
    "    print(\"--- %s seconds ---\" % (time.time() - start_time))\n",
    "    print(\"Sigma: \" + str(s))\n",
    "    print_metrics(y_test, predictions)\n"
   ],
   "metadata": {
    "collapsed": false,
    "ExecuteTime": {
     "end_time": "2023-11-20T13:52:00.295028060Z",
     "start_time": "2023-11-20T13:51:25.713212119Z"
    }
   },
   "id": "a09435d09cb850a1"
  },
  {
   "cell_type": "markdown",
   "source": [
    "<h3> Stochastic Gradient Descent Regressor </h3>"
   ],
   "metadata": {
    "collapsed": false
   },
   "id": "3c769544255aad8a"
  },
  {
   "cell_type": "code",
   "execution_count": 79,
   "outputs": [
    {
     "name": "stdout",
     "output_type": "stream",
     "text": [
      "Training time: 0.0086 seconds\n"
     ]
    }
   ],
   "source": [
    "from sklearn.linear_model import SGDRegressor\n",
    "sgd_model = SGDRegressor(loss = 'squared_epsilon_insensitive', alpha=0.0001)\n",
    "\n",
    "start_time = time.time()\n",
    "sgd_model.fit(X_train, y_train)\n",
    "print(f'Training time: {time.time() - start_time:.4f} seconds')"
   ],
   "metadata": {
    "collapsed": false,
    "ExecuteTime": {
     "end_time": "2023-11-20T13:52:00.308214566Z",
     "start_time": "2023-11-20T13:52:00.296820713Z"
    }
   },
   "id": "a05171a70a52063c"
  },
  {
   "cell_type": "code",
   "execution_count": 80,
   "outputs": [
    {
     "name": "stdout",
     "output_type": "stream",
     "text": [
      "SGD Regressor: train\n",
      "Mean Squared Error (MSE):              0.0045745188\n",
      "Root Mean Squared Error (RMSE):        0.0676351888\n",
      "Mean Absolute Error (MAE):             0.0595443474\n",
      "R-squared (R²):                        0.8994375964\n",
      "Mean Absolute Percentage Error (MAPE): 0.3190358009\n",
      "Max Error (ME):                        0.1830923496\n",
      "Median Absolute Error (MedAE):         0.0589775364\n",
      "\n",
      "SGD Regressor: test\n",
      "Mean Squared Error (MSE):              0.0046043856\n",
      "Root Mean Squared Error (RMSE):        0.0678556231\n",
      "Mean Absolute Error (MAE):             0.0597826795\n",
      "R-squared (R²):                        0.8992472908\n",
      "Mean Absolute Percentage Error (MAPE): 0.3220486604\n",
      "Max Error (ME):                        0.1877641330\n",
      "Median Absolute Error (MedAE):         0.0578589639\n"
     ]
    }
   ],
   "source": [
    "print(\"SGD Regressor: train\")\n",
    "y_pred = sgd_model.predict(X_train)\n",
    "print_metrics(y_train, y_pred)\n",
    "print()\n",
    "print(\"SGD Regressor: test\")\n",
    "y_pred = sgd_model.predict(X_test)\n",
    "print_metrics(y_test, y_pred)"
   ],
   "metadata": {
    "collapsed": false,
    "ExecuteTime": {
     "end_time": "2023-11-20T13:52:00.332421507Z",
     "start_time": "2023-11-20T13:52:00.309653228Z"
    }
   },
   "id": "44e24783b6460104"
  },
  {
   "cell_type": "markdown",
   "source": [
    "<h2> ADA Boost regressor </h2>"
   ],
   "metadata": {
    "collapsed": false
   },
   "id": "db5c4f4c65c681f0"
  },
  {
   "cell_type": "code",
   "execution_count": 81,
   "outputs": [
    {
     "name": "stdout",
     "output_type": "stream",
     "text": [
      "Training time: 4.9406 seconds\n"
     ]
    }
   ],
   "source": [
    "from sklearn.tree import DecisionTreeRegressor\n",
    "from sklearn.ensemble import AdaBoostRegressor\n",
    "\n",
    "adaboost_model = AdaBoostRegressor(DecisionTreeRegressor(max_depth=4), n_estimators=300)\n",
    "\n",
    "start_time = time.time()\n",
    "adaboost_model.fit(X_train, y_train)\n",
    "print(f'Training time: {time.time() - start_time:.4f} seconds')"
   ],
   "metadata": {
    "collapsed": false,
    "ExecuteTime": {
     "end_time": "2023-11-20T13:52:05.304912815Z",
     "start_time": "2023-11-20T13:52:00.324092695Z"
    }
   },
   "id": "4d532a1047207c50"
  },
  {
   "cell_type": "code",
   "execution_count": 82,
   "outputs": [
    {
     "name": "stdout",
     "output_type": "stream",
     "text": [
      "ADA boost Regressor: train\n",
      "Mean Squared Error (MSE):              0.0007580047\n",
      "Root Mean Squared Error (RMSE):        0.0275318858\n",
      "Mean Absolute Error (MAE):             0.0238363461\n",
      "R-squared (R²):                        0.9833366563\n",
      "Mean Absolute Percentage Error (MAPE): 0.1513219601\n",
      "Max Error (ME):                        0.0502770732\n",
      "Median Absolute Error (MedAE):         0.0226665910\n",
      "\n",
      "ADA boost Regressor: test\n",
      "Mean Squared Error (MSE):              0.0007944684\n",
      "Root Mean Squared Error (RMSE):        0.0281863156\n",
      "Mean Absolute Error (MAE):             0.0244685568\n",
      "R-squared (R²):                        0.9826155215\n",
      "Mean Absolute Percentage Error (MAPE): 0.1577003441\n",
      "Max Error (ME):                        0.0543039848\n",
      "Median Absolute Error (MedAE):         0.0231576124\n"
     ]
    }
   ],
   "source": [
    "print(\"ADA boost Regressor: train\")\n",
    "y_pred = adaboost_model.predict(X_train)\n",
    "print_metrics(y_train, y_pred)\n",
    "print()\n",
    "print(\"ADA boost Regressor: test\")\n",
    "y_pred = adaboost_model.predict(X_test)\n",
    "print_metrics(y_test, y_pred)"
   ],
   "metadata": {
    "collapsed": false,
    "ExecuteTime": {
     "end_time": "2023-11-20T13:52:05.695859623Z",
     "start_time": "2023-11-20T13:52:05.304683250Z"
    }
   },
   "id": "90da06996e0c4dd4"
  },
  {
   "cell_type": "markdown",
   "source": [
    "<h2> Multi-layer Perceptron regressor </h2>"
   ],
   "metadata": {
    "collapsed": false
   },
   "id": "7a972510760f1397"
  },
  {
   "cell_type": "code",
   "execution_count": 83,
   "outputs": [
    {
     "name": "stdout",
     "output_type": "stream",
     "text": [
      "Training time: 1.4079 seconds\n"
     ]
    }
   ],
   "source": [
    "from sklearn.neural_network import MLPRegressor\n",
    "mlp_model = MLPRegressor(hidden_layer_sizes=(100, 40, 20), activation='relu', solver='adam', alpha=0.0001, batch_size='auto', max_iter=200)\n",
    "\n",
    "start_time = time.time()\n",
    "mlp_model.fit(X_train, y_train)\n",
    "print(f'Training time: {time.time() - start_time:.4f} seconds')"
   ],
   "metadata": {
    "collapsed": false,
    "ExecuteTime": {
     "end_time": "2023-11-20T13:52:07.140073734Z",
     "start_time": "2023-11-20T13:52:05.698177249Z"
    }
   },
   "id": "b876b0e0276dd7c5"
  },
  {
   "cell_type": "code",
   "execution_count": 84,
   "outputs": [
    {
     "name": "stdout",
     "output_type": "stream",
     "text": [
      "MLP Regressor: train\n",
      "Mean Squared Error (MSE):              0.0000128093\n",
      "Root Mean Squared Error (RMSE):        0.0035790151\n",
      "Mean Absolute Error (MAE):             0.0026742971\n",
      "R-squared (R²):                        0.9997184100\n",
      "Mean Absolute Percentage Error (MAPE): 0.0129071662\n",
      "Max Error (ME):                        0.0286957784\n",
      "Median Absolute Error (MedAE):         0.0020870920\n",
      "\n",
      "MLP Regressor: test\n",
      "Mean Squared Error (MSE):              0.0000152283\n",
      "Root Mean Squared Error (RMSE):        0.0039023456\n",
      "Mean Absolute Error (MAE):             0.0028519590\n",
      "R-squared (R²):                        0.9996667758\n",
      "Mean Absolute Percentage Error (MAPE): 0.0137751004\n",
      "Max Error (ME):                        0.0265494828\n",
      "Median Absolute Error (MedAE):         0.0021377467\n"
     ]
    }
   ],
   "source": [
    "print(\"MLP Regressor: train\")\n",
    "y_pred = mlp_model.predict(X_train)\n",
    "print_metrics(y_train, y_pred)\n",
    "print()\n",
    "print(\"MLP Regressor: test\")\n",
    "y_pred = mlp_model.predict(X_test)\n",
    "print_metrics(y_test, y_pred)"
   ],
   "metadata": {
    "collapsed": false,
    "ExecuteTime": {
     "end_time": "2023-11-20T13:52:07.194512409Z",
     "start_time": "2023-11-20T13:52:07.127561815Z"
    }
   },
   "id": "add4c3e77be0f392"
  },
  {
   "cell_type": "code",
   "execution_count": null,
   "outputs": [],
   "source": [],
   "metadata": {
    "collapsed": false
   },
   "id": "5dccd79cdf87ed66"
  }
 ],
 "metadata": {
  "kernelspec": {
   "display_name": "Python 3",
   "language": "python",
   "name": "python3"
  },
  "language_info": {
   "codemirror_mode": {
    "name": "ipython",
    "version": 2
   },
   "file_extension": ".py",
   "mimetype": "text/x-python",
   "name": "python",
   "nbconvert_exporter": "python",
   "pygments_lexer": "ipython2",
   "version": "2.7.6"
  }
 },
 "nbformat": 4,
 "nbformat_minor": 5
}
