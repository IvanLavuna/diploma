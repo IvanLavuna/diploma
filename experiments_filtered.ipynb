{
 "cells": [
  {
   "cell_type": "markdown",
   "source": [
    "<p> Regression experiments on filtered dataset (span_number = 3), where Environment is filtered </p>\n"
   ],
   "metadata": {
    "collapsed": false
   },
   "id": "783489dcf505b623"
  },
  {
   "cell_type": "code",
   "execution_count": null,
   "outputs": [],
   "source": [],
   "metadata": {
    "collapsed": false
   },
   "id": "85d0f0a5e278daed"
  }
 ],
 "metadata": {
  "kernelspec": {
   "display_name": "Python 3",
   "language": "python",
   "name": "python3"
  },
  "language_info": {
   "codemirror_mode": {
    "name": "ipython",
    "version": 2
   },
   "file_extension": ".py",
   "mimetype": "text/x-python",
   "name": "python",
   "nbconvert_exporter": "python",
   "pygments_lexer": "ipython2",
   "version": "2.7.6"
  }
 },
 "nbformat": 4,
 "nbformat_minor": 5
}
