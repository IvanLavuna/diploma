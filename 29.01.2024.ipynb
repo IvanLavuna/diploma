{
 "cells": [
  {
   "cell_type": "code",
   "execution_count": 1,
   "id": "initial_id",
   "metadata": {
    "collapsed": true,
    "ExecuteTime": {
     "end_time": "2024-01-29T13:26:00.813649353Z",
     "start_time": "2024-01-29T13:25:58.994949297Z"
    }
   },
   "outputs": [],
   "source": [
    "import pandas as pd\n",
    "from sklearn.model_selection import train_test_split\n",
    "from sklearn.preprocessing import MaxAbsScaler\n",
    "from pyGRNN import GRNN\n",
    "from sklearn.cluster import KMeans\n",
    "from lazypredict.Supervised import LazyRegressor"
   ]
  },
  {
   "cell_type": "code",
   "outputs": [],
   "source": [
    "from sklearn.metrics import mean_absolute_error\n",
    "from numpy import sqrt\n",
    "from sklearn.metrics import mean_squared_error, r2_score, mean_absolute_percentage_error, max_error, median_absolute_error, mean_absolute_error\n",
    "\n",
    "def print_metrics(y_true, y_pred):\n",
    "    mse = mean_squared_error(y_true, y_pred)\n",
    "    print(f'Mean Squared Error (MSE):              {mse:.10f}')\n",
    "    \n",
    "    rmse = sqrt(mse)\n",
    "    print(f'Root Mean Squared Error (RMSE):        {rmse:.10f}')\n",
    "    \n",
    "    mae = mean_absolute_error(y_true, y_pred)\n",
    "    print(f'Mean Absolute Error (MAE):             {mae:.10f}')\n",
    "    \n",
    "    r2 = r2_score(y_true, y_pred)\n",
    "    print(f'R-squared (R²):                        {r2:.10f}')\n",
    "    \n",
    "    mape = mean_absolute_percentage_error(y_true, y_pred)\n",
    "    print(f'Mean Absolute Percentage Error (MAPE): {mape:.10f}')    \n",
    "    \n",
    "    me = max_error(y_true, y_pred)\n",
    "    print(f'Max Error (ME):                        {me:.10f}')    \n",
    "    \n",
    "    med_ae = median_absolute_error(y_true, y_pred)\n",
    "    print(f'Median Absolute Error (MedAE):         {med_ae:.10f}') "
   ],
   "metadata": {
    "collapsed": false,
    "ExecuteTime": {
     "end_time": "2024-01-29T13:26:04.997357429Z",
     "start_time": "2024-01-29T13:26:04.975000141Z"
    }
   },
   "id": "da8f40a722080a51",
   "execution_count": 2
  },
  {
   "cell_type": "code",
   "outputs": [
    {
     "data": {
      "text/plain": "   max_discharge_sum_r1  max_discharge_sum_r2_1  max_discharge_sum_r2_2  \\\n0                585.67                 1626.36                 1917.92   \n1                577.56                 1643.06                 1887.66   \n2                772.58                 1672.02                 1803.84   \n3                522.08                 1653.12                 3326.49   \n4                614.14                 1644.18                 2485.55   \n5                813.29                 1669.06                 1877.53   \n6                663.21                 1666.04                 2230.32   \n7                501.75                 1726.18                 2023.48   \n8                581.13                 1669.38                 1976.99   \n9                622.46                 1636.29                 2176.80   \n\n   max_discharge_sum_r3  flood_sum_r1  flood_sum_r2_1  flood_sum_r2_2  \\\n0                638.86       8411.14        31506.11        22090.55   \n1                821.35       8428.71        31464.77        21934.20   \n2                494.53       9338.14        31334.39        21498.21   \n3                460.21       8055.62        40539.30        32937.77   \n4                595.06       8529.56        34186.48        28422.80   \n5                680.46       9701.22        31193.17        22297.85   \n6                671.19       8806.26        32504.62        26343.62   \n7                993.98       8031.13        32844.96        22531.50   \n8               1105.23       8297.44        32213.13        22180.60   \n9                457.47       8532.34        32557.58        24402.16   \n\n   flood_sum_r3  HW_inund_uncertainty  bridge_scour_uncertainty  \\\n0      15338.74                  1.03                      1.14   \n1      17058.63                  1.03                      0.91   \n2      13903.41                  1.08                      0.95   \n3      13073.49                  1.05                      1.26   \n4      14950.68                  0.79                      0.70   \n5      15652.70                  0.78                      1.38   \n6      15618.30                  0.88                      0.74   \n7      18555.23                  0.64                      0.35   \n8      19413.06                  0.97                      0.52   \n9      13253.84                  0.86                      1.26   \n\n   travel_demand_uncertainty  restoration_capacity_uncertainty   dir_costs  \\\n0                       0.76                                 6 33407655.48   \n1                       1.14                                 5 26222060.06   \n2                       1.06                                 3 25265321.95   \n3                       0.98                                 3 54860001.97   \n4                       1.23                                 4 39212152.98   \n5                       0.88                                 6 32258229.36   \n6                       0.64                                 6 35019441.00   \n7                       1.19                                 5 28815518.56   \n8                       0.94                                 6 31828474.78   \n9                       1.16                                 4 45656687.89   \n\n   lost_trips_costs_s_r  traffic_costs_s_r  \n0           63906033.49       -13876077.42  \n1           55359791.46         9384497.19  \n2           59332912.51         5139630.61  \n3           94212106.15         2127730.92  \n4           76321454.19        21132083.35  \n5           76162964.60        -6506723.41  \n6           32830011.84       -17554044.81  \n7           71389907.84        17423834.01  \n8           56818034.31        -2533088.91  \n9           61532735.19        14043780.74  ",
      "text/html": "<div>\n<style scoped>\n    .dataframe tbody tr th:only-of-type {\n        vertical-align: middle;\n    }\n\n    .dataframe tbody tr th {\n        vertical-align: top;\n    }\n\n    .dataframe thead th {\n        text-align: right;\n    }\n</style>\n<table border=\"1\" class=\"dataframe\">\n  <thead>\n    <tr style=\"text-align: right;\">\n      <th></th>\n      <th>max_discharge_sum_r1</th>\n      <th>max_discharge_sum_r2_1</th>\n      <th>max_discharge_sum_r2_2</th>\n      <th>max_discharge_sum_r3</th>\n      <th>flood_sum_r1</th>\n      <th>flood_sum_r2_1</th>\n      <th>flood_sum_r2_2</th>\n      <th>flood_sum_r3</th>\n      <th>HW_inund_uncertainty</th>\n      <th>bridge_scour_uncertainty</th>\n      <th>travel_demand_uncertainty</th>\n      <th>restoration_capacity_uncertainty</th>\n      <th>dir_costs</th>\n      <th>lost_trips_costs_s_r</th>\n      <th>traffic_costs_s_r</th>\n    </tr>\n  </thead>\n  <tbody>\n    <tr>\n      <th>0</th>\n      <td>585.67</td>\n      <td>1626.36</td>\n      <td>1917.92</td>\n      <td>638.86</td>\n      <td>8411.14</td>\n      <td>31506.11</td>\n      <td>22090.55</td>\n      <td>15338.74</td>\n      <td>1.03</td>\n      <td>1.14</td>\n      <td>0.76</td>\n      <td>6</td>\n      <td>33407655.48</td>\n      <td>63906033.49</td>\n      <td>-13876077.42</td>\n    </tr>\n    <tr>\n      <th>1</th>\n      <td>577.56</td>\n      <td>1643.06</td>\n      <td>1887.66</td>\n      <td>821.35</td>\n      <td>8428.71</td>\n      <td>31464.77</td>\n      <td>21934.20</td>\n      <td>17058.63</td>\n      <td>1.03</td>\n      <td>0.91</td>\n      <td>1.14</td>\n      <td>5</td>\n      <td>26222060.06</td>\n      <td>55359791.46</td>\n      <td>9384497.19</td>\n    </tr>\n    <tr>\n      <th>2</th>\n      <td>772.58</td>\n      <td>1672.02</td>\n      <td>1803.84</td>\n      <td>494.53</td>\n      <td>9338.14</td>\n      <td>31334.39</td>\n      <td>21498.21</td>\n      <td>13903.41</td>\n      <td>1.08</td>\n      <td>0.95</td>\n      <td>1.06</td>\n      <td>3</td>\n      <td>25265321.95</td>\n      <td>59332912.51</td>\n      <td>5139630.61</td>\n    </tr>\n    <tr>\n      <th>3</th>\n      <td>522.08</td>\n      <td>1653.12</td>\n      <td>3326.49</td>\n      <td>460.21</td>\n      <td>8055.62</td>\n      <td>40539.30</td>\n      <td>32937.77</td>\n      <td>13073.49</td>\n      <td>1.05</td>\n      <td>1.26</td>\n      <td>0.98</td>\n      <td>3</td>\n      <td>54860001.97</td>\n      <td>94212106.15</td>\n      <td>2127730.92</td>\n    </tr>\n    <tr>\n      <th>4</th>\n      <td>614.14</td>\n      <td>1644.18</td>\n      <td>2485.55</td>\n      <td>595.06</td>\n      <td>8529.56</td>\n      <td>34186.48</td>\n      <td>28422.80</td>\n      <td>14950.68</td>\n      <td>0.79</td>\n      <td>0.70</td>\n      <td>1.23</td>\n      <td>4</td>\n      <td>39212152.98</td>\n      <td>76321454.19</td>\n      <td>21132083.35</td>\n    </tr>\n    <tr>\n      <th>5</th>\n      <td>813.29</td>\n      <td>1669.06</td>\n      <td>1877.53</td>\n      <td>680.46</td>\n      <td>9701.22</td>\n      <td>31193.17</td>\n      <td>22297.85</td>\n      <td>15652.70</td>\n      <td>0.78</td>\n      <td>1.38</td>\n      <td>0.88</td>\n      <td>6</td>\n      <td>32258229.36</td>\n      <td>76162964.60</td>\n      <td>-6506723.41</td>\n    </tr>\n    <tr>\n      <th>6</th>\n      <td>663.21</td>\n      <td>1666.04</td>\n      <td>2230.32</td>\n      <td>671.19</td>\n      <td>8806.26</td>\n      <td>32504.62</td>\n      <td>26343.62</td>\n      <td>15618.30</td>\n      <td>0.88</td>\n      <td>0.74</td>\n      <td>0.64</td>\n      <td>6</td>\n      <td>35019441.00</td>\n      <td>32830011.84</td>\n      <td>-17554044.81</td>\n    </tr>\n    <tr>\n      <th>7</th>\n      <td>501.75</td>\n      <td>1726.18</td>\n      <td>2023.48</td>\n      <td>993.98</td>\n      <td>8031.13</td>\n      <td>32844.96</td>\n      <td>22531.50</td>\n      <td>18555.23</td>\n      <td>0.64</td>\n      <td>0.35</td>\n      <td>1.19</td>\n      <td>5</td>\n      <td>28815518.56</td>\n      <td>71389907.84</td>\n      <td>17423834.01</td>\n    </tr>\n    <tr>\n      <th>8</th>\n      <td>581.13</td>\n      <td>1669.38</td>\n      <td>1976.99</td>\n      <td>1105.23</td>\n      <td>8297.44</td>\n      <td>32213.13</td>\n      <td>22180.60</td>\n      <td>19413.06</td>\n      <td>0.97</td>\n      <td>0.52</td>\n      <td>0.94</td>\n      <td>6</td>\n      <td>31828474.78</td>\n      <td>56818034.31</td>\n      <td>-2533088.91</td>\n    </tr>\n    <tr>\n      <th>9</th>\n      <td>622.46</td>\n      <td>1636.29</td>\n      <td>2176.80</td>\n      <td>457.47</td>\n      <td>8532.34</td>\n      <td>32557.58</td>\n      <td>24402.16</td>\n      <td>13253.84</td>\n      <td>0.86</td>\n      <td>1.26</td>\n      <td>1.16</td>\n      <td>4</td>\n      <td>45656687.89</td>\n      <td>61532735.19</td>\n      <td>14043780.74</td>\n    </tr>\n  </tbody>\n</table>\n</div>"
     },
     "execution_count": 3,
     "metadata": {},
     "output_type": "execute_result"
    }
   ],
   "source": [
    "df = pd.read_csv('data/train.csv')\n",
    "df.head(10)"
   ],
   "metadata": {
    "collapsed": false,
    "ExecuteTime": {
     "end_time": "2024-01-29T13:26:12.770140931Z",
     "start_time": "2024-01-29T13:26:12.721280202Z"
    }
   },
   "id": "1215227b088f21ea",
   "execution_count": 3
  },
  {
   "cell_type": "code",
   "outputs": [],
   "source": [
    "y1_name, y2_name, y3_name = \"dir_costs\",\"traffic_costs_s_r\",\"lost_trips_costs_s_r\" \n",
    "y1, y2, y3 = df[y1_name], df[y2_name], df[y3_name]"
   ],
   "metadata": {
    "collapsed": false,
    "ExecuteTime": {
     "end_time": "2024-01-29T13:27:04.781520949Z",
     "start_time": "2024-01-29T13:27:04.768559427Z"
    }
   },
   "id": "9c7a1c365af2fede",
   "execution_count": 4
  },
  {
   "cell_type": "code",
   "outputs": [],
   "source": [
    "X = df.drop(columns=[y1_name, y2_name, y3_name])\n",
    "scaler = MaxAbsScaler()\n",
    "scaler.fit(X)\n",
    "X_scaled = scaler.transform(X)\n",
    "\n",
    "X_scaled_df = pd.DataFrame(X_scaled, columns=X.columns)"
   ],
   "metadata": {
    "collapsed": false,
    "ExecuteTime": {
     "end_time": "2024-01-29T13:27:13.267491665Z",
     "start_time": "2024-01-29T13:27:13.256648997Z"
    }
   },
   "id": "b5aea72f00d7a268",
   "execution_count": 5
  },
  {
   "cell_type": "code",
   "outputs": [
    {
     "name": "stdout",
     "output_type": "stream",
     "text": [
      "Executing warm start...\n",
      "Warm start concluded. The optimum isotropic sigma is [0.07676997]\n",
      "Gradient search concluded. The optimum sigma is [0.05765124 0.0120242  0.00591582 0.58679079 0.05581141 0.01343684\n",
      " 0.04878113 0.24560255 0.44700383 0.69848175 0.51186836 0.35796405]\n",
      "Executing warm start...\n",
      "Warm start concluded. The optimum isotropic sigma is [0.07787263]\n",
      "Gradient search concluded. The optimum sigma is [1.70986544e+01 1.97057467e-02 1.89763591e+01 1.02271079e+01\n",
      " 5.88547391e-02 1.14514359e-02 1.63482222e-02 1.09784170e-01\n",
      " 7.20501549e+00 3.04037023e-01 1.54241057e+01 1.90197041e-01]\n",
      "Executing warm start...\n",
      "Warm start concluded. The optimum isotropic sigma is [0.07971944]\n",
      "Gradient search concluded. The optimum sigma is [nan nan nan nan nan nan nan nan nan nan nan nan]\n",
      "Executing warm start...\n",
      "Warm start concluded. The optimum isotropic sigma is [0.07348695]\n",
      "Gradient search concluded. The optimum sigma is [0.04050668 0.01008986 0.00711998 0.9227825  6.70788552 0.63696555\n",
      " 0.01297986 0.06904873 1.37967401 0.69517275 0.72588466 0.29561202]\n",
      "Executing warm start...\n",
      "Warm start concluded. The optimum isotropic sigma is [0.07215322]\n",
      "Gradient search concluded. The optimum sigma is [nan nan nan nan nan nan nan nan nan nan nan nan]\n",
      "Executing warm start...\n",
      "Warm start concluded. The optimum isotropic sigma is [0.07676997]\n",
      "Gradient search concluded. The optimum sigma is [0.05765124 0.0120242  0.00591582 0.58679079 0.05581141 0.01343684\n",
      " 0.04878113 0.24560255 0.44700383 0.69848175 0.51186836 0.35796405]\n",
      "Executing warm start...\n",
      "Warm start concluded. The optimum isotropic sigma is [0.07787262]\n",
      "Gradient search concluded. The optimum sigma is [1.70986544e+01 1.97057467e-02 1.89763591e+01 1.02271079e+01\n",
      " 5.88547391e-02 1.14514359e-02 1.63482222e-02 1.09784170e-01\n",
      " 7.20501549e+00 3.04037023e-01 1.54241057e+01 1.90197041e-01]\n",
      "Executing warm start...\n",
      "Warm start concluded. The optimum isotropic sigma is [0.07971944]\n",
      "Gradient search concluded. The optimum sigma is [nan nan nan nan nan nan nan nan nan nan nan nan]\n",
      "Executing warm start...\n",
      "Warm start concluded. The optimum isotropic sigma is [0.07348695]\n",
      "Gradient search concluded. The optimum sigma is [0.04050668 0.01008986 0.00711998 0.9227825  6.70788552 0.63696555\n",
      " 0.01297986 0.06904873 1.37967401 0.69517275 0.72588466 0.29561202]\n",
      "Executing warm start...\n",
      "Warm start concluded. The optimum isotropic sigma is [0.07215323]\n",
      "Gradient search concluded. The optimum sigma is [nan nan nan nan nan nan nan nan nan nan nan nan]\n",
      "Executing warm start...\n",
      "Warm start concluded. The optimum isotropic sigma is [0.07676997]\n",
      "Gradient search concluded. The optimum sigma is [0.05765124 0.0120242  0.00591582 0.58679079 0.05581141 0.01343684\n",
      " 0.04878113 0.24560255 0.44700383 0.69848175 0.51186836 0.35796405]\n",
      "Executing warm start...\n",
      "Warm start concluded. The optimum isotropic sigma is [0.07787262]\n",
      "Gradient search concluded. The optimum sigma is [1.70986544e+01 1.97057467e-02 1.89763591e+01 1.02271079e+01\n",
      " 5.88547391e-02 1.14514359e-02 1.63482222e-02 1.09784170e-01\n",
      " 7.20501549e+00 3.04037023e-01 1.54241057e+01 1.90197041e-01]\n",
      "Executing warm start...\n",
      "Warm start concluded. The optimum isotropic sigma is [0.07971944]\n",
      "Gradient search concluded. The optimum sigma is [nan nan nan nan nan nan nan nan nan nan nan nan]\n",
      "Executing warm start...\n",
      "Warm start concluded. The optimum isotropic sigma is [0.07348695]\n",
      "Gradient search concluded. The optimum sigma is [0.04050668 0.01008986 0.00711998 0.9227825  6.70788552 0.63696555\n",
      " 0.01297986 0.06904873 1.37967401 0.69517275 0.72588466 0.29561202]\n",
      "Executing warm start...\n",
      "Warm start concluded. The optimum isotropic sigma is [0.07215323]\n",
      "Gradient search concluded. The optimum sigma is [nan nan nan nan nan nan nan nan nan nan nan nan]\n",
      "Executing warm start...\n",
      "Warm start concluded. The optimum isotropic sigma is [0.07676997]\n",
      "Gradient search concluded. The optimum sigma is [0.05765124 0.0120242  0.00591582 0.58679079 0.05581141 0.01343684\n",
      " 0.04878113 0.24560255 0.44700383 0.69848175 0.51186836 0.35796405]\n",
      "Executing warm start...\n",
      "Warm start concluded. The optimum isotropic sigma is [0.07787262]\n",
      "Gradient search concluded. The optimum sigma is [1.70986544e+01 1.97057467e-02 1.89763591e+01 1.02271079e+01\n",
      " 5.88547391e-02 1.14514359e-02 1.63482222e-02 1.09784170e-01\n",
      " 7.20501549e+00 3.04037023e-01 1.54241057e+01 1.90197041e-01]\n",
      "Executing warm start...\n",
      "Warm start concluded. The optimum isotropic sigma is [0.07971945]\n",
      "Gradient search concluded. The optimum sigma is [nan nan nan nan nan nan nan nan nan nan nan nan]\n",
      "Executing warm start...\n",
      "Warm start concluded. The optimum isotropic sigma is [0.07348695]\n"
     ]
    }
   ],
   "source": [
    "from sklearn.model_selection import GridSearchCV, KFold\n",
    "from pyGRNN import GRNN\n",
    "import numpy as np\n",
    "\n",
    "# Define the GRNN model\n",
    "grnn1 = GRNN()\n",
    "\n",
    "# Define the parameter grid for sigma values\n",
    "param_grid = {'sigma': np.logspace(-2, 1, 10)}  # Adjust range and granularity as needed\n",
    "\n",
    "# Define cross-validation strategy\n",
    "kf = KFold(n_splits=5, shuffle=True, random_state=42)\n",
    "\n",
    "# Define scoring metric (e.g., mean squared error)\n",
    "scoring = 'neg_mean_squared_error'\n",
    "\n",
    "# Perform grid search with cross-validation\n",
    "grid_search = GridSearchCV(estimator=grnn1, param_grid=param_grid, scoring=scoring, cv=kf)\n",
    "grid_search.fit(X_scaled_df, y1)\n",
    "\n",
    "# Print the best sigma value and corresponding mean cross-validated score\n",
    "print(\"Best Sigma:\", grid_search.best_params_['sigma'])\n",
    "print(\"Best Score (Negative MSE):\", -grid_search.best_score_)"
   ],
   "metadata": {
    "collapsed": false,
    "is_executing": true,
    "ExecuteTime": {
     "start_time": "2024-01-29T13:37:36.217571793Z"
    }
   },
   "id": "9166a605f34f72c2",
   "execution_count": null
  },
  {
   "cell_type": "code",
   "outputs": [],
   "source": [],
   "metadata": {
    "collapsed": false
   },
   "id": "cb2e39eb595f04ca"
  }
 ],
 "metadata": {
  "kernelspec": {
   "display_name": "Python 3",
   "language": "python",
   "name": "python3"
  },
  "language_info": {
   "codemirror_mode": {
    "name": "ipython",
    "version": 2
   },
   "file_extension": ".py",
   "mimetype": "text/x-python",
   "name": "python",
   "nbconvert_exporter": "python",
   "pygments_lexer": "ipython2",
   "version": "2.7.6"
  }
 },
 "nbformat": 4,
 "nbformat_minor": 5
}
