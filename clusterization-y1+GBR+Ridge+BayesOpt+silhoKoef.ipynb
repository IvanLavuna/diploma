{
 "cells": [
  {
   "cell_type": "code",
   "execution_count": 75,
   "id": "initial_id",
   "metadata": {
    "collapsed": true,
    "ExecuteTime": {
     "end_time": "2024-03-09T10:34:21.545296Z",
     "start_time": "2024-03-09T10:34:21.522717Z"
    }
   },
   "outputs": [],
   "source": [
    "import pandas as pd\n",
    "from sklearn.preprocessing import MaxAbsScaler\n",
    "import numpy as np\n",
    "\n",
    "# read datasets\n",
    "train_df = pd.read_csv('data/train3.csv')\n",
    "test_df = pd.read_csv('data/test3.csv')\n",
    "val_df = pd.read_csv('data/validate3.csv')\n",
    "\n",
    "y1_name, y2_name, y3_name = \"dir_costs\", \"traffic_costs_s_r\", \"lost_trips_costs_s_r\"\n",
    "train_y1, train_y2, train_y3 = train_df[y1_name], train_df[y2_name], train_df[y3_name]\n",
    "test_y1, test_y2, test_y3 = test_df[y1_name], test_df[y2_name], test_df[y3_name]\n",
    "val_y1, val_y2, val_y3 = val_df[y1_name], val_df[y2_name], val_df[y3_name]\n",
    "\n",
    "\n",
    "# scale features\n",
    "X_train = train_df.drop(columns=[y1_name, y2_name, y3_name])\n",
    "scaler = MaxAbsScaler()\n",
    "scaler.fit(X_train)\n",
    "X_train = scaler.transform(X_train)\n",
    "\n",
    "X_test = test_df.drop(columns=[y1_name, y2_name, y3_name])\n",
    "X_test = scaler.transform(X_test)\n",
    "\n",
    "X_val = val_df.drop(columns=[y1_name, y2_name, y3_name])\n",
    "X_val = scaler.transform(X_val)\n",
    "\n",
    "# prepare dataset from training kmeans\n",
    "X_train_y1 = np.concatenate((X_train, train_df[y1_name].values.reshape(-1, 1)), axis=1)\n",
    "scaler_y1 = MaxAbsScaler()\n",
    "scaler_y1.fit(X_train_y1)\n",
    "X_train_y1 = scaler_y1.transform(X_train_y1)"
   ]
  },
  {
   "cell_type": "markdown",
   "source": [
    "<h1> Pick optimal number of clusters using silhouette score </h1>"
   ],
   "metadata": {
    "collapsed": false
   },
   "id": "26aaeb4ac29770fe"
  },
  {
   "cell_type": "code",
   "outputs": [
    {
     "name": "stdout",
     "output_type": "stream",
     "text": [
      "Optimal number of clusters: 2\n"
     ]
    }
   ],
   "source": [
    "from sklearn.cluster import KMeans\n",
    "from sklearn.metrics import silhouette_score\n",
    "\n",
    "# Assuming 'X' is your dataset\n",
    "\n",
    "# Initialize an empty list to store silhouette scores\n",
    "silhouette_scores = []\n",
    "\n",
    "# Iterate over different numbers of clusters\n",
    "for n_clusters in range(2, 11):\n",
    "    # Initialize KMeans clustering algorithm with 'n_clusters'\n",
    "    kmeans = KMeans(n_clusters=n_clusters, random_state=42, n_init=10)\n",
    "    \n",
    "    # Fit the algorithm to the data\n",
    "    kmeans.fit(X_train_y1)\n",
    "    \n",
    "    # Compute the silhouette score for the current number of clusters\n",
    "    silhouette_avg = silhouette_score(X_train_y1, kmeans.labels_)\n",
    "    \n",
    "    # Append the silhouette score to the list\n",
    "    silhouette_scores.append(silhouette_avg)\n",
    "\n",
    "# Choose the optimal number of clusters based on the maximum silhouette score\n",
    "optimal_n_clusters = silhouette_scores.index(max(silhouette_scores)) + 2\n",
    "print(\"Optimal number of clusters:\", optimal_n_clusters)"
   ],
   "metadata": {
    "collapsed": false,
    "ExecuteTime": {
     "end_time": "2024-03-09T10:34:39.568187Z",
     "start_time": "2024-03-09T10:34:27.067246Z"
    }
   },
   "id": "94737d7eb9d7baa2",
   "execution_count": 76
  },
  {
   "cell_type": "markdown",
   "source": [
    "<h1> Train kmeans with Yi </h1>"
   ],
   "metadata": {
    "collapsed": false
   },
   "id": "972a2e98735574bc"
  },
  {
   "cell_type": "code",
   "outputs": [
    {
     "data": {
      "text/plain": "KMeans(n_clusters=2, n_init=10, random_state=42)",
      "text/html": "<style>#sk-container-id-5 {color: black;}#sk-container-id-5 pre{padding: 0;}#sk-container-id-5 div.sk-toggleable {background-color: white;}#sk-container-id-5 label.sk-toggleable__label {cursor: pointer;display: block;width: 100%;margin-bottom: 0;padding: 0.3em;box-sizing: border-box;text-align: center;}#sk-container-id-5 label.sk-toggleable__label-arrow:before {content: \"▸\";float: left;margin-right: 0.25em;color: #696969;}#sk-container-id-5 label.sk-toggleable__label-arrow:hover:before {color: black;}#sk-container-id-5 div.sk-estimator:hover label.sk-toggleable__label-arrow:before {color: black;}#sk-container-id-5 div.sk-toggleable__content {max-height: 0;max-width: 0;overflow: hidden;text-align: left;background-color: #f0f8ff;}#sk-container-id-5 div.sk-toggleable__content pre {margin: 0.2em;color: black;border-radius: 0.25em;background-color: #f0f8ff;}#sk-container-id-5 input.sk-toggleable__control:checked~div.sk-toggleable__content {max-height: 200px;max-width: 100%;overflow: auto;}#sk-container-id-5 input.sk-toggleable__control:checked~label.sk-toggleable__label-arrow:before {content: \"▾\";}#sk-container-id-5 div.sk-estimator input.sk-toggleable__control:checked~label.sk-toggleable__label {background-color: #d4ebff;}#sk-container-id-5 div.sk-label input.sk-toggleable__control:checked~label.sk-toggleable__label {background-color: #d4ebff;}#sk-container-id-5 input.sk-hidden--visually {border: 0;clip: rect(1px 1px 1px 1px);clip: rect(1px, 1px, 1px, 1px);height: 1px;margin: -1px;overflow: hidden;padding: 0;position: absolute;width: 1px;}#sk-container-id-5 div.sk-estimator {font-family: monospace;background-color: #f0f8ff;border: 1px dotted black;border-radius: 0.25em;box-sizing: border-box;margin-bottom: 0.5em;}#sk-container-id-5 div.sk-estimator:hover {background-color: #d4ebff;}#sk-container-id-5 div.sk-parallel-item::after {content: \"\";width: 100%;border-bottom: 1px solid gray;flex-grow: 1;}#sk-container-id-5 div.sk-label:hover label.sk-toggleable__label {background-color: #d4ebff;}#sk-container-id-5 div.sk-serial::before {content: \"\";position: absolute;border-left: 1px solid gray;box-sizing: border-box;top: 0;bottom: 0;left: 50%;z-index: 0;}#sk-container-id-5 div.sk-serial {display: flex;flex-direction: column;align-items: center;background-color: white;padding-right: 0.2em;padding-left: 0.2em;position: relative;}#sk-container-id-5 div.sk-item {position: relative;z-index: 1;}#sk-container-id-5 div.sk-parallel {display: flex;align-items: stretch;justify-content: center;background-color: white;position: relative;}#sk-container-id-5 div.sk-item::before, #sk-container-id-5 div.sk-parallel-item::before {content: \"\";position: absolute;border-left: 1px solid gray;box-sizing: border-box;top: 0;bottom: 0;left: 50%;z-index: -1;}#sk-container-id-5 div.sk-parallel-item {display: flex;flex-direction: column;z-index: 1;position: relative;background-color: white;}#sk-container-id-5 div.sk-parallel-item:first-child::after {align-self: flex-end;width: 50%;}#sk-container-id-5 div.sk-parallel-item:last-child::after {align-self: flex-start;width: 50%;}#sk-container-id-5 div.sk-parallel-item:only-child::after {width: 0;}#sk-container-id-5 div.sk-dashed-wrapped {border: 1px dashed gray;margin: 0 0.4em 0.5em 0.4em;box-sizing: border-box;padding-bottom: 0.4em;background-color: white;}#sk-container-id-5 div.sk-label label {font-family: monospace;font-weight: bold;display: inline-block;line-height: 1.2em;}#sk-container-id-5 div.sk-label-container {text-align: center;}#sk-container-id-5 div.sk-container {/* jupyter's `normalize.less` sets `[hidden] { display: none; }` but bootstrap.min.css set `[hidden] { display: none !important; }` so we also need the `!important` here to be able to override the default hidden behavior on the sphinx rendered scikit-learn.org. See: https://github.com/scikit-learn/scikit-learn/issues/21755 */display: inline-block !important;position: relative;}#sk-container-id-5 div.sk-text-repr-fallback {display: none;}</style><div id=\"sk-container-id-5\" class=\"sk-top-container\"><div class=\"sk-text-repr-fallback\"><pre>KMeans(n_clusters=2, n_init=10, random_state=42)</pre><b>In a Jupyter environment, please rerun this cell to show the HTML representation or trust the notebook. <br />On GitHub, the HTML representation is unable to render, please try loading this page with nbviewer.org.</b></div><div class=\"sk-container\" hidden><div class=\"sk-item\"><div class=\"sk-estimator sk-toggleable\"><input class=\"sk-toggleable__control sk-hidden--visually\" id=\"sk-estimator-id-5\" type=\"checkbox\" checked><label for=\"sk-estimator-id-5\" class=\"sk-toggleable__label sk-toggleable__label-arrow\">KMeans</label><div class=\"sk-toggleable__content\"><pre>KMeans(n_clusters=2, n_init=10, random_state=42)</pre></div></div></div></div></div>"
     },
     "execution_count": 77,
     "metadata": {},
     "output_type": "execute_result"
    }
   ],
   "source": [
    "from sklearn.cluster import KMeans\n",
    "\n",
    "kmeans = KMeans(n_clusters=optimal_n_clusters, random_state=42, n_init=10)\n",
    "kmeans.fit(X_train_y1)"
   ],
   "metadata": {
    "collapsed": false,
    "ExecuteTime": {
     "end_time": "2024-03-09T10:34:42.829408Z",
     "start_time": "2024-03-09T10:34:41.600444Z"
    }
   },
   "id": "a899e781cb4a7fae",
   "execution_count": 77
  },
  {
   "cell_type": "code",
   "outputs": [],
   "source": [
    "import numpy as np\n",
    "# transforms X into clustered dataset with. k - number of clusters in the range [0, k-1]\n",
    "def transform_to_clustered_dataset_train(X: np.ndarray, Xy: pd.DataFrame, cluster_predictor, k: int):\n",
    "    clusters = cluster_predictor.predict(Xy)\n",
    "    zero_columns = pd.DataFrame(np.zeros((X.shape[0], k)), columns=[f'class_{i}' for i in range(k)])\n",
    "    res = np.concatenate((X, zero_columns), axis=1)\n",
    "    for i in range(res.shape[0]):\n",
    "        cluster = clusters[i]\n",
    "        res[i, X.shape[1] + cluster] = 1.0 \n",
    "    return res\n",
    "\n",
    "def transform_to_clustered_dataset_test(X: np.ndarray, kmeans_model: KMeans, k: int):\n",
    "    centers = kmeans_model.cluster_centers_[:, :-1]\n",
    "    clusters = []\n",
    "    for row in X:\n",
    "        min_dist = np.Infinity\n",
    "        cluster = -1\n",
    "        for i in range(k):\n",
    "            cur_dist = np.linalg.norm(row - centers[i])\n",
    "            if cur_dist < min_dist:\n",
    "                min_dist = cur_dist\n",
    "                cluster = i\n",
    "        if cluster == -1:\n",
    "            raise \"Error\"\n",
    "        clusters.append(cluster)\n",
    "        \n",
    "    zero_columns = pd.DataFrame(np.zeros((X.shape[0], k)), columns=[f'class_{i}' for i in range(k)])\n",
    "    res = np.concatenate((X, zero_columns), axis=1)\n",
    "    for i in range(res.shape[0]):\n",
    "        cluster = clusters[i]\n",
    "        res[i, X.shape[1] + cluster] = 1.0 \n",
    "    return res"
   ],
   "metadata": {
    "collapsed": false,
    "ExecuteTime": {
     "end_time": "2024-03-09T10:34:47.320465Z",
     "start_time": "2024-03-09T10:34:47.309465Z"
    }
   },
   "id": "e0b72d16a4efd7bb",
   "execution_count": 78
  },
  {
   "cell_type": "code",
   "outputs": [],
   "source": [
    "X_train_clustered = transform_to_clustered_dataset_train(X_train, X_train_y1, kmeans, optimal_n_clusters)\n",
    "X_test_clustered = transform_to_clustered_dataset_test(X_test, kmeans, optimal_n_clusters)\n",
    "X_val_clustered = transform_to_clustered_dataset_test(X_val, kmeans, optimal_n_clusters)"
   ],
   "metadata": {
    "collapsed": false,
    "ExecuteTime": {
     "end_time": "2024-03-09T10:34:52.076951Z",
     "start_time": "2024-03-09T10:34:52.063300Z"
    }
   },
   "id": "c406ddd189ee5b61",
   "execution_count": 79
  },
  {
   "cell_type": "markdown",
   "source": [
    "<h1> GBR with arbitrary hyperparameters </h1>"
   ],
   "metadata": {
    "collapsed": false
   },
   "id": "7788cb8c334b7a67"
  },
  {
   "cell_type": "code",
   "outputs": [
    {
     "name": "stdout",
     "output_type": "stream",
     "text": [
      "------ test metrics ------\n",
      "Mean Squared Error (MSE):              25413220988754.0507812500\n",
      "Root Mean Squared Error (RMSE):        5041152.7440411933\n",
      "Mean Absolute Error (MAE):             2907404.9537322405\n",
      "R-squared (R²):                        0.8416290943\n",
      "Mean Absolute Percentage Error (MAPE): 0.0714822692\n",
      "Max Error (ME):                        28277735.2133217528\n",
      "Median Absolute Error (MedAE):         1487218.6317628622\n",
      "------ train metrics ------\n",
      "Mean Squared Error (MSE):              4836709895294.2695312500\n",
      "Root Mean Squared Error (RMSE):        2199252.1218119287\n",
      "Mean Absolute Error (MAE):             1297865.9018217572\n",
      "R-squared (R²):                        0.9726575355\n",
      "Mean Absolute Percentage Error (MAPE): 0.0334095967\n",
      "Max Error (ME):                        14103739.0102937371\n",
      "Median Absolute Error (MedAE):         701405.1215910893\n",
      "------ validate metrics ------\n",
      "Mean Squared Error (MSE):              35855809016862.7109375000\n",
      "Root Mean Squared Error (RMSE):        5987972.0287308218\n",
      "Mean Absolute Error (MAE):             3545937.9788186373\n",
      "R-squared (R²):                        0.8517414775\n",
      "Mean Absolute Percentage Error (MAPE): 0.0820385305\n",
      "Max Error (ME):                        31019833.8951346874\n",
      "Median Absolute Error (MedAE):         1630898.0226266049\n"
     ]
    }
   ],
   "source": [
    "from metrics import print_metrics\n",
    "from sklearn.ensemble import GradientBoostingRegressor\n",
    "\n",
    "# Create an instance of GradientBoostingRegressor\n",
    "gb_regressor = GradientBoostingRegressor(n_estimators=48, learning_rate=0.096952, max_depth=6, random_state=42)\n",
    "\n",
    "# Fit the regressor to the training data\n",
    "gb_regressor.fit(X_train_clustered, train_y1)\n",
    "\n",
    "print(\"------ test metrics ------\")\n",
    "print_metrics(test_y1, gb_regressor.predict(X_test_clustered))\n",
    "\n",
    "print(\"------ train metrics ------\")\n",
    "print_metrics(train_y1, gb_regressor.predict(X_train_clustered))\n",
    "\n",
    "print(\"------ validate metrics ------\")\n",
    "print_metrics(val_y1, gb_regressor.predict(X_val_clustered))\n"
   ],
   "metadata": {
    "collapsed": false,
    "ExecuteTime": {
     "end_time": "2024-03-09T10:35:03.176477Z",
     "start_time": "2024-03-09T10:35:02.871919Z"
    }
   },
   "id": "e5f62069fa50a6bd",
   "execution_count": 80
  },
  {
   "cell_type": "markdown",
   "source": [
    "<h1> Optimize Gradient boost parameters using Differential evolution</h1>"
   ],
   "metadata": {
    "collapsed": false
   },
   "id": "43da1f97a6110dfe"
  },
  {
   "cell_type": "code",
   "outputs": [],
   "source": [
    "from sklearn.metrics import r2_score\n",
    "\n",
    "# define objective function\n",
    "def objective_function(params, train_X, train_y, test_X, test_y):\n",
    "    regressor = GradientBoostingRegressor(n_estimators=int(params[0]), learning_rate=params[1], max_depth=int(params[2]), random_state=42)\n",
    "    regressor.fit(train_X, train_y)\n",
    "    pred_y = regressor.predict(test_X)\n",
    "    r2 = r2_score(test_y, pred_y)\n",
    "    return -r2"
   ],
   "metadata": {
    "collapsed": false,
    "ExecuteTime": {
     "end_time": "2024-03-09T10:35:19.543929Z",
     "start_time": "2024-03-09T10:35:19.540373Z"
    }
   },
   "id": "d9e243cc75502017",
   "execution_count": 81
  },
  {
   "cell_type": "code",
   "outputs": [
    {
     "name": "stdout",
     "output_type": "stream",
     "text": [
      "differential_evolution step 1: f(x)= -0.853056\n",
      "Polishing solution with 'L-BFGS-B'\n",
      " message: Maximum number of iterations has been exceeded.\n",
      " success: False\n",
      "     fun: -0.8530560292325102\n",
      "       x: [ 1.818e+02  2.601e-01  2.763e+00]\n",
      "     nit: 1\n",
      "    nfev: 370\n"
     ]
    }
   ],
   "source": [
    "from scipy.optimize import differential_evolution\n",
    "optimization_res = differential_evolution(func=objective_function, \n",
    "                                          bounds=[(2, 300), (0.0001, 0.5), (2, 10)], \n",
    "                                          updating='deferred',\n",
    "                                          workers=10, \n",
    "                                          disp=True,\n",
    "                                          tol=0.00001,\n",
    "                                          atol=0.00001,\n",
    "                                          maxiter=1,\n",
    "                                          args=(X_train_clustered, train_y1, X_test_clustered, test_y1))\n",
    "print(optimization_res)"
   ],
   "metadata": {
    "collapsed": false,
    "ExecuteTime": {
     "end_time": "2024-03-09T10:37:29.353583Z",
     "start_time": "2024-03-09T10:35:34.593224Z"
    }
   },
   "id": "6ab5de9755146810",
   "execution_count": 82
  },
  {
   "cell_type": "code",
   "outputs": [
    {
     "name": "stdout",
     "output_type": "stream",
     "text": [
      "------ test metrics ------\n",
      "Mean Squared Error (MSE):              23579581024782.3554687500\n",
      "Root Mean Squared Error (RMSE):        4855881.0760543095\n",
      "Mean Absolute Error (MAE):             2752210.1142096259\n",
      "R-squared (R²):                        0.8530560292\n",
      "Mean Absolute Percentage Error (MAPE): 0.0687117293\n",
      "Max Error (ME):                        26806958.1641500369\n",
      "Median Absolute Error (MedAE):         1298936.8345185220\n",
      "------ train metrics ------\n",
      "Mean Squared Error (MSE):              9529922458580.2968750000\n",
      "Root Mean Squared Error (RMSE):        3087057.2489962503\n",
      "Mean Absolute Error (MAE):             1874872.9661853479\n",
      "R-squared (R²):                        0.9461262775\n",
      "Mean Absolute Percentage Error (MAPE): 0.0479801951\n",
      "Max Error (ME):                        18566170.5566621274\n",
      "Median Absolute Error (MedAE):         1056265.2274072915\n",
      "------ validate metrics ------\n",
      "Mean Squared Error (MSE):              40148966175940.3203125000\n",
      "Root Mean Squared Error (RMSE):        6336321.1862989012\n",
      "Mean Absolute Error (MAE):             3886421.2250398868\n",
      "R-squared (R²):                        0.8339899009\n",
      "Mean Absolute Percentage Error (MAPE): 0.0925242218\n",
      "Max Error (ME):                        29591017.3865250349\n",
      "Median Absolute Error (MedAE):         2178397.7080179919\n"
     ]
    }
   ],
   "source": [
    "from metrics import print_metrics\n",
    "from sklearn.ensemble import GradientBoostingRegressor\n",
    "\n",
    "# Create an instance of GradientBoostingRegressor\n",
    "gb_regressor = GradientBoostingRegressor(n_estimators=int(optimization_res.x[0]), learning_rate=optimization_res.x[1], max_depth=int(optimization_res.x[2]), random_state=42)\n",
    "\n",
    "# Fit the regressor to the training data\n",
    "gb_regressor.fit(X_train_clustered, train_y1)\n",
    "\n",
    "print(\"------ test metrics ------\")\n",
    "print_metrics(test_y1, gb_regressor.predict(X_test_clustered))\n",
    "\n",
    "print(\"------ train metrics ------\")\n",
    "print_metrics(train_y1, gb_regressor.predict(X_train_clustered))\n",
    "\n",
    "print(\"------ validate metrics ------\")\n",
    "print_metrics(val_y1, gb_regressor.predict(X_val_clustered))"
   ],
   "metadata": {
    "collapsed": false,
    "ExecuteTime": {
     "end_time": "2024-03-09T10:37:29.733464Z",
     "start_time": "2024-03-09T10:37:29.355104Z"
    }
   },
   "id": "b4a1ff3317b65076",
   "execution_count": 83
  },
  {
   "cell_type": "code",
   "outputs": [],
   "source": [
    "X_train_clustered_GBR = np.concatenate((X_train_clustered, gb_regressor.predict(X_train_clustered).reshape(-1, 1)), axis=1)\n",
    "X_test_clustered_GBR = np.concatenate((X_test_clustered, gb_regressor.predict(X_test_clustered).reshape(-1, 1)), axis=1)\n",
    "X_val_clustered_GBR = np.concatenate((X_val_clustered, gb_regressor.predict(X_val_clustered).reshape(-1, 1)), axis=1)"
   ],
   "metadata": {
    "collapsed": false,
    "ExecuteTime": {
     "end_time": "2024-03-09T10:37:37.407345Z",
     "start_time": "2024-03-09T10:37:37.397047Z"
    }
   },
   "id": "4a604924b942e180",
   "execution_count": 84
  },
  {
   "cell_type": "markdown",
   "source": [
    "<h2> Scale features </h2>"
   ],
   "metadata": {
    "collapsed": false
   },
   "id": "abea5317edb4d984"
  },
  {
   "cell_type": "code",
   "outputs": [],
   "source": [
    "scaler_GBR = MaxAbsScaler()\n",
    "scaler_GBR.fit(X_train_clustered_GBR)\n",
    "X_train_clustered_GBR = scaler_GBR.transform(X_train_clustered_GBR)\n",
    "X_test_clustered_GBR = scaler_GBR.transform(X_test_clustered_GBR)\n",
    "X_val_clustered_GBR = scaler_GBR.transform(X_val_clustered_GBR)"
   ],
   "metadata": {
    "collapsed": false,
    "ExecuteTime": {
     "end_time": "2024-03-09T10:37:39.941981Z",
     "start_time": "2024-03-09T10:37:39.933308Z"
    }
   },
   "id": "6deb9413959f4bc5",
   "execution_count": 85
  },
  {
   "cell_type": "code",
   "outputs": [
    {
     "name": "stdout",
     "output_type": "stream",
     "text": [
      "------ test metrics ------\n",
      "Mean Squared Error (MSE):              25176746254857.2070312500\n",
      "Root Mean Squared Error (RMSE):        5017643.4961899407\n",
      "Mean Absolute Error (MAE):             2887868.8556013079\n",
      "R-squared (R²):                        0.8431027650\n",
      "Mean Absolute Percentage Error (MAPE): 0.0718018654\n",
      "Max Error (ME):                        26975998.7333675176\n",
      "Median Absolute Error (MedAE):         1604044.4333808199\n",
      "------ train metrics ------\n",
      "Mean Squared Error (MSE):              12897229201348.5546875000\n",
      "Root Mean Squared Error (RMSE):        3591271.2514301334\n",
      "Mean Absolute Error (MAE):             2205880.9963348070\n",
      "R-squared (R²):                        0.9270905141\n",
      "Mean Absolute Percentage Error (MAPE): 0.0554408496\n",
      "Max Error (ME):                        19921438.0914819688\n",
      "Median Absolute Error (MedAE):         1386831.1923695318\n",
      "------ val metrics ------\n",
      "Mean Squared Error (MSE):              35702698130993.7968750000\n",
      "Root Mean Squared Error (RMSE):        5975173.4812466986\n",
      "Mean Absolute Error (MAE):             3711804.9427118553\n",
      "R-squared (R²):                        0.8523745686\n",
      "Mean Absolute Percentage Error (MAPE): 0.0867095042\n",
      "Max Error (ME):                        27052123.1489773393\n",
      "Median Absolute Error (MedAE):         2007035.5786062684\n"
     ]
    }
   ],
   "source": [
    "from sklearn.linear_model import Ridge\n",
    "from metrics import print_metrics\n",
    "\n",
    "\n",
    "# Create a Ridge regression model\n",
    "ridge_reg = Ridge(alpha=2.5)  # You can adjust the regularization strength with the alpha parameter\n",
    "\n",
    "# Train the model\n",
    "ridge_reg.fit(X_train_clustered_GBR, train_y1)\n",
    "\n",
    "print(\"------ test metrics ------\")\n",
    "print_metrics(test_y1, ridge_reg.predict(X_test_clustered_GBR))\n",
    "\n",
    "print(\"------ train metrics ------\")\n",
    "print_metrics(train_y1, ridge_reg.predict(X_train_clustered_GBR))\n",
    "\n",
    "print(\"------ val metrics ------\")\n",
    "print_metrics(val_y1, ridge_reg.predict(X_val_clustered_GBR))\n"
   ],
   "metadata": {
    "collapsed": false,
    "ExecuteTime": {
     "end_time": "2024-03-09T10:38:33.727027Z",
     "start_time": "2024-03-09T10:38:33.704998Z"
    }
   },
   "id": "26fcd7fd3f1db56e",
   "execution_count": 93
  },
  {
   "cell_type": "code",
   "outputs": [],
   "source": [],
   "metadata": {
    "collapsed": false
   },
   "id": "d58d9ff8d27cd650"
  }
 ],
 "metadata": {
  "kernelspec": {
   "display_name": "Python 3",
   "language": "python",
   "name": "python3"
  },
  "language_info": {
   "codemirror_mode": {
    "name": "ipython",
    "version": 2
   },
   "file_extension": ".py",
   "mimetype": "text/x-python",
   "name": "python",
   "nbconvert_exporter": "python",
   "pygments_lexer": "ipython2",
   "version": "2.7.6"
  }
 },
 "nbformat": 4,
 "nbformat_minor": 5
}
