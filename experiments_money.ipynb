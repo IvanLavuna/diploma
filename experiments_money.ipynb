{
 "cells": [
  {
   "cell_type": "markdown",
   "source": [
    "<p> Regression experiments on all dataset, where Environment is filtered </p>"
   ],
   "metadata": {
    "collapsed": false
   },
   "id": "66913e3a0c5d152b"
  },
  {
   "cell_type": "code",
   "execution_count": 1,
   "id": "initial_id",
   "metadata": {
    "collapsed": true,
    "ExecuteTime": {
     "end_time": "2023-11-21T07:55:28.492234266Z",
     "start_time": "2023-11-21T07:55:24.607521931Z"
    }
   },
   "outputs": [
    {
     "name": "stderr",
     "output_type": "stream",
     "text": [
      "2023-11-21 09:55:25.124639: I external/local_tsl/tsl/cuda/cudart_stub.cc:31] Could not find cuda drivers on your machine, GPU will not be used.\n",
      "2023-11-21 09:55:25.223798: E external/local_xla/xla/stream_executor/cuda/cuda_dnn.cc:9261] Unable to register cuDNN factory: Attempting to register factory for plugin cuDNN when one has already been registered\n",
      "2023-11-21 09:55:25.223862: E external/local_xla/xla/stream_executor/cuda/cuda_fft.cc:607] Unable to register cuFFT factory: Attempting to register factory for plugin cuFFT when one has already been registered\n",
      "2023-11-21 09:55:25.227383: E external/local_xla/xla/stream_executor/cuda/cuda_blas.cc:1515] Unable to register cuBLAS factory: Attempting to register factory for plugin cuBLAS when one has already been registered\n",
      "2023-11-21 09:55:25.238967: I external/local_tsl/tsl/cuda/cudart_stub.cc:31] Could not find cuda drivers on your machine, GPU will not be used.\n",
      "2023-11-21 09:55:25.239582: I tensorflow/core/platform/cpu_feature_guard.cc:182] This TensorFlow binary is optimized to use available CPU instructions in performance-critical operations.\n",
      "To enable the following instructions: AVX2 FMA, in other operations, rebuild TensorFlow with the appropriate compiler flags.\n",
      "2023-11-21 09:55:26.569072: W tensorflow/compiler/tf2tensorrt/utils/py_utils.cc:38] TF-TRT Warning: Could not find TensorRT\n"
     ]
    }
   ],
   "source": [
    "import keras\n",
    "import pandas as pd\n",
    "import numpy as np\n",
    "from sklearn.model_selection import train_test_split\n",
    "from sklearn.metrics import mean_squared_error, r2_score, mean_absolute_percentage_error, max_error, median_absolute_error, mean_absolute_error\n",
    "from sklearn.metrics import mean_squared_error\n",
    "import time\n"
   ]
  },
  {
   "cell_type": "code",
   "execution_count": 2,
   "outputs": [],
   "source": [
    "df = pd.read_csv('data/dataMoney.csv')"
   ],
   "metadata": {
    "collapsed": false,
    "ExecuteTime": {
     "end_time": "2023-11-21T07:55:32.099536604Z",
     "start_time": "2023-11-21T07:55:32.047762659Z"
    }
   },
   "id": "7cfa4c49dd9d5e57"
  },
  {
   "cell_type": "code",
   "execution_count": 3,
   "outputs": [
    {
     "data": {
      "text/plain": "(2020, 15)"
     },
     "execution_count": 3,
     "metadata": {},
     "output_type": "execute_result"
    }
   ],
   "source": [
    "df.shape"
   ],
   "metadata": {
    "collapsed": false,
    "ExecuteTime": {
     "end_time": "2023-11-21T07:55:32.591370728Z",
     "start_time": "2023-11-21T07:55:32.537368295Z"
    }
   },
   "id": "6e62b45d6968e55a"
  },
  {
   "cell_type": "code",
   "execution_count": 4,
   "outputs": [
    {
     "data": {
      "text/plain": "   max_discharge_sum_r1  max_discharge_sum_r2_1  max_discharge_sum_r2_2  \\\n0            443.457856             1658.236820             1658.442362   \n1            525.178784             1658.659798             1658.659798   \n2            525.178784             1658.659798             1658.659798   \n3            528.794113             1659.966169             1660.085687   \n4            523.393056             1660.295347             1660.307923   \n\n   max_discharge_sum_r3  flood_sum_r1  flood_sum_r2_1  flood_sum_r2_2  \\\n0            924.207396   7704.283023    30959.150563    19494.507734   \n1            376.518772   8042.074336    30948.775455    19495.723976   \n2            376.518772   8042.074336    30948.775455    19495.723976   \n3            376.518762   8056.793807    30980.988568    19504.576908   \n4            379.856164   8055.296723    30984.114890    19505.358354   \n\n   flood_sum_r3  HW_inund_uncertainty  bridge_scour_uncertainty  \\\n0  18060.945333              1.237179                  1.066024   \n1  12105.892278              0.805171                  0.920064   \n2  12105.892278              0.895325                  1.052411   \n3  12106.087505              0.748587                  0.955364   \n4  12140.315910              0.965187                  0.831900   \n\n   travel_demand_uncertainty  restoration_capacity_uncertainty     dir_costs  \\\n0                   1.178643                                 7  2.396527e+07   \n1                   1.189389                                 5  2.156163e+07   \n2                   0.782405                                 5  2.187945e+07   \n3                   1.143878                                 6  2.195877e+07   \n4                   1.344699                                 6  2.236592e+07   \n\n   lost_trips_costs_s_r  traffic_costs_s_r  \n0          3.771578e+07       1.346267e+07  \n1          3.629843e+07       1.427793e+07  \n2          2.450664e+07      -6.527196e+06  \n3          3.199478e+07       1.273019e+07  \n4          3.822993e+07       2.754356e+07  ",
      "text/html": "<div>\n<style scoped>\n    .dataframe tbody tr th:only-of-type {\n        vertical-align: middle;\n    }\n\n    .dataframe tbody tr th {\n        vertical-align: top;\n    }\n\n    .dataframe thead th {\n        text-align: right;\n    }\n</style>\n<table border=\"1\" class=\"dataframe\">\n  <thead>\n    <tr style=\"text-align: right;\">\n      <th></th>\n      <th>max_discharge_sum_r1</th>\n      <th>max_discharge_sum_r2_1</th>\n      <th>max_discharge_sum_r2_2</th>\n      <th>max_discharge_sum_r3</th>\n      <th>flood_sum_r1</th>\n      <th>flood_sum_r2_1</th>\n      <th>flood_sum_r2_2</th>\n      <th>flood_sum_r3</th>\n      <th>HW_inund_uncertainty</th>\n      <th>bridge_scour_uncertainty</th>\n      <th>travel_demand_uncertainty</th>\n      <th>restoration_capacity_uncertainty</th>\n      <th>dir_costs</th>\n      <th>lost_trips_costs_s_r</th>\n      <th>traffic_costs_s_r</th>\n    </tr>\n  </thead>\n  <tbody>\n    <tr>\n      <th>0</th>\n      <td>443.457856</td>\n      <td>1658.236820</td>\n      <td>1658.442362</td>\n      <td>924.207396</td>\n      <td>7704.283023</td>\n      <td>30959.150563</td>\n      <td>19494.507734</td>\n      <td>18060.945333</td>\n      <td>1.237179</td>\n      <td>1.066024</td>\n      <td>1.178643</td>\n      <td>7</td>\n      <td>2.396527e+07</td>\n      <td>3.771578e+07</td>\n      <td>1.346267e+07</td>\n    </tr>\n    <tr>\n      <th>1</th>\n      <td>525.178784</td>\n      <td>1658.659798</td>\n      <td>1658.659798</td>\n      <td>376.518772</td>\n      <td>8042.074336</td>\n      <td>30948.775455</td>\n      <td>19495.723976</td>\n      <td>12105.892278</td>\n      <td>0.805171</td>\n      <td>0.920064</td>\n      <td>1.189389</td>\n      <td>5</td>\n      <td>2.156163e+07</td>\n      <td>3.629843e+07</td>\n      <td>1.427793e+07</td>\n    </tr>\n    <tr>\n      <th>2</th>\n      <td>525.178784</td>\n      <td>1658.659798</td>\n      <td>1658.659798</td>\n      <td>376.518772</td>\n      <td>8042.074336</td>\n      <td>30948.775455</td>\n      <td>19495.723976</td>\n      <td>12105.892278</td>\n      <td>0.895325</td>\n      <td>1.052411</td>\n      <td>0.782405</td>\n      <td>5</td>\n      <td>2.187945e+07</td>\n      <td>2.450664e+07</td>\n      <td>-6.527196e+06</td>\n    </tr>\n    <tr>\n      <th>3</th>\n      <td>528.794113</td>\n      <td>1659.966169</td>\n      <td>1660.085687</td>\n      <td>376.518762</td>\n      <td>8056.793807</td>\n      <td>30980.988568</td>\n      <td>19504.576908</td>\n      <td>12106.087505</td>\n      <td>0.748587</td>\n      <td>0.955364</td>\n      <td>1.143878</td>\n      <td>6</td>\n      <td>2.195877e+07</td>\n      <td>3.199478e+07</td>\n      <td>1.273019e+07</td>\n    </tr>\n    <tr>\n      <th>4</th>\n      <td>523.393056</td>\n      <td>1660.295347</td>\n      <td>1660.307923</td>\n      <td>379.856164</td>\n      <td>8055.296723</td>\n      <td>30984.114890</td>\n      <td>19505.358354</td>\n      <td>12140.315910</td>\n      <td>0.965187</td>\n      <td>0.831900</td>\n      <td>1.344699</td>\n      <td>6</td>\n      <td>2.236592e+07</td>\n      <td>3.822993e+07</td>\n      <td>2.754356e+07</td>\n    </tr>\n  </tbody>\n</table>\n</div>"
     },
     "execution_count": 4,
     "metadata": {},
     "output_type": "execute_result"
    }
   ],
   "source": [
    "df.head()"
   ],
   "metadata": {
    "collapsed": false,
    "ExecuteTime": {
     "end_time": "2023-11-21T07:55:34.020943585Z",
     "start_time": "2023-11-21T07:55:33.991887775Z"
    }
   },
   "id": "8ca2f0cd3fcec329"
  },
  {
   "cell_type": "code",
   "execution_count": 5,
   "outputs": [],
   "source": [
    "X = df.drop(columns=['dir_costs', 'lost_trips_costs_s_r', 'traffic_costs_s_r'], axis=1)\n",
    "y = df['lost_trips_costs_s_r']"
   ],
   "metadata": {
    "collapsed": false,
    "ExecuteTime": {
     "end_time": "2023-11-21T07:56:17.085250541Z",
     "start_time": "2023-11-21T07:56:17.011999633Z"
    }
   },
   "id": "96ec7b53f9dc27d0"
  },
  {
   "cell_type": "code",
   "execution_count": 6,
   "outputs": [],
   "source": [
    "X_train, X_test, y_train, y_test = train_test_split(X, y, test_size=0.2, random_state=42)"
   ],
   "metadata": {
    "collapsed": false,
    "ExecuteTime": {
     "end_time": "2023-11-21T07:56:18.275071351Z",
     "start_time": "2023-11-21T07:56:18.216245042Z"
    }
   },
   "id": "267f21abad240de3"
  },
  {
   "cell_type": "code",
   "execution_count": 7,
   "outputs": [],
   "source": [
    "from sklearn.preprocessing import MaxAbsScaler\n",
    "\n",
    "scaler = MaxAbsScaler()\n",
    "scaler.fit(X_train)\n",
    "X_train = scaler.transform(X_train)\n",
    "X_test = scaler.transform(X_test)"
   ],
   "metadata": {
    "collapsed": false,
    "ExecuteTime": {
     "end_time": "2023-11-21T07:56:20.570232311Z",
     "start_time": "2023-11-21T07:56:20.543278009Z"
    }
   },
   "id": "3006ac5e98f8dcbf"
  },
  {
   "cell_type": "code",
   "execution_count": 8,
   "outputs": [],
   "source": [
    "from sklearn.metrics import mean_absolute_error\n",
    "from numpy import sqrt\n",
    "\n",
    "def print_metrics(y_true, y_pred):\n",
    "    mse = mean_squared_error(y_true, y_pred)\n",
    "    print(f'Mean Squared Error (MSE):              {mse:.10f}')\n",
    "    \n",
    "    rmse = sqrt(mse)\n",
    "    print(f'Root Mean Squared Error (RMSE):        {rmse:.10f}')\n",
    "    \n",
    "    mae = mean_absolute_error(y_true, y_pred)\n",
    "    print(f'Mean Absolute Error (MAE):             {mae:.10f}')\n",
    "    \n",
    "    r2 = r2_score(y_true, y_pred)\n",
    "    print(f'R-squared (R²):                        {r2:.10f}')\n",
    "    \n",
    "    mape = mean_absolute_percentage_error(y_true, y_pred)\n",
    "    print(f'Mean Absolute Percentage Error (MAPE): {mape:.10f}')    \n",
    "    \n",
    "    me = max_error(y_true, y_pred)\n",
    "    print(f'Max Error (ME):                        {me:.10f}')    \n",
    "    \n",
    "    med_ae = median_absolute_error(y_true, y_pred)\n",
    "    print(f'Median Absolute Error (MedAE):         {med_ae:.10f}')    "
   ],
   "metadata": {
    "collapsed": false,
    "ExecuteTime": {
     "end_time": "2023-11-21T07:56:20.906432889Z",
     "start_time": "2023-11-21T07:56:20.849383155Z"
    }
   },
   "id": "290c382df940670a"
  },
  {
   "cell_type": "markdown",
   "source": [
    "<h2> Random Forest </h2>"
   ],
   "metadata": {
    "collapsed": false
   },
   "id": "60142cfffd09597e"
  },
  {
   "cell_type": "code",
   "execution_count": 9,
   "outputs": [
    {
     "name": "stdout",
     "output_type": "stream",
     "text": [
      "Training time: 1.8141 seconds\n"
     ]
    }
   ],
   "source": [
    "from sklearn.ensemble import RandomForestRegressor\n",
    "\n",
    "rf_model = RandomForestRegressor(n_estimators=100, random_state=42)\n",
    "start_time = time.time()\n",
    "rf_model.fit(X_train, y_train)\n",
    "print(f'Training time: {time.time() - start_time:.4f} seconds')"
   ],
   "metadata": {
    "collapsed": false,
    "ExecuteTime": {
     "end_time": "2023-11-21T07:56:24.202772452Z",
     "start_time": "2023-11-21T07:56:22.193084409Z"
    }
   },
   "id": "2aafeabe258e6137"
  },
  {
   "cell_type": "code",
   "execution_count": 10,
   "outputs": [
    {
     "name": "stdout",
     "output_type": "stream",
     "text": [
      "Random Forest: train\n",
      "Mean Squared Error (MSE):              48267769315385.2265625000\n",
      "Root Mean Squared Error (RMSE):        6947500.9402939435\n",
      "Mean Absolute Error (MAE):             4056142.3198926095\n",
      "R-squared (R²):                        0.9535856212\n",
      "Mean Absolute Percentage Error (MAPE): 0.0564752172\n",
      "Max Error (ME):                        61045931.9575816989\n",
      "Median Absolute Error (MedAE):         1993269.4134518150\n",
      "\n",
      "Random Forest: test\n",
      "Mean Squared Error (MSE):              322896779447651.6250000000\n",
      "Root Mean Squared Error (RMSE):        17969328.8535674475\n",
      "Mean Absolute Error (MAE):             11480547.1634653844\n",
      "R-squared (R²):                        0.6314645181\n",
      "Mean Absolute Percentage Error (MAPE): 0.1613646578\n",
      "Max Error (ME):                        91310449.2345153093\n",
      "Median Absolute Error (MedAE):         6193979.4339905977\n"
     ]
    }
   ],
   "source": [
    "print(\"Random Forest: train\")\n",
    "y_pred = rf_model.predict(X_train)\n",
    "print_metrics(y_train, y_pred)\n",
    "print()\n",
    "print(\"Random Forest: test\")\n",
    "y_pred = rf_model.predict(X_test)\n",
    "print_metrics(y_test, y_pred)\n"
   ],
   "metadata": {
    "collapsed": false,
    "ExecuteTime": {
     "end_time": "2023-11-21T07:56:26.331489229Z",
     "start_time": "2023-11-21T07:56:26.254285128Z"
    }
   },
   "id": "686cea723afd8319"
  },
  {
   "cell_type": "markdown",
   "source": [
    "<h2> Support vector regression </h2>"
   ],
   "metadata": {
    "collapsed": false
   },
   "id": "1f9600d2277295b1"
  },
  {
   "cell_type": "code",
   "execution_count": 11,
   "outputs": [
    {
     "name": "stdout",
     "output_type": "stream",
     "text": [
      "Training time: 0.2248 seconds\n"
     ]
    }
   ],
   "source": [
    "from sklearn.svm import SVR\n",
    "svr_model = SVR(kernel='rbf', gamma='auto', coef0=0.0, epsilon=0.001, max_iter=-1)\n",
    "start_time = time.time()\n",
    "svr_model.fit(X_train, y_train)\n",
    "print(f'Training time: {time.time() - start_time:.4f} seconds')"
   ],
   "metadata": {
    "collapsed": false,
    "ExecuteTime": {
     "end_time": "2023-11-21T07:56:29.268196471Z",
     "start_time": "2023-11-21T07:56:29.039142257Z"
    }
   },
   "id": "8d0e661b491435d6"
  },
  {
   "cell_type": "code",
   "execution_count": 12,
   "outputs": [
    {
     "name": "stdout",
     "output_type": "stream",
     "text": [
      "SVR: train\n",
      "Mean Squared Error (MSE):              1112217379770442.1250000000\n",
      "Root Mean Squared Error (RMSE):        33349923.2348508127\n",
      "Mean Absolute Error (MAE):             20894635.8741760962\n",
      "R-squared (R²):                        -0.0695103473\n",
      "Mean Absolute Percentage Error (MAPE): 0.3284625788\n",
      "Max Error (ME):                        281969223.8731108904\n",
      "Median Absolute Error (MedAE):         12850286.6946278363\n",
      "\n",
      "SVR: test\n",
      "Mean Squared Error (MSE):              956379168612562.5000000000\n",
      "Root Mean Squared Error (RMSE):        30925380.6542872228\n",
      "Mean Absolute Error (MAE):             20907983.0897524916\n",
      "R-squared (R²):                        -0.0915551972\n",
      "Mean Absolute Percentage Error (MAPE): 0.3378947282\n",
      "Max Error (ME):                        138197626.8672106266\n",
      "Median Absolute Error (MedAE):         14311533.5073020272\n"
     ]
    }
   ],
   "source": [
    "print(\"SVR: train\")\n",
    "y_pred = svr_model.predict(X_train)\n",
    "print_metrics(y_train, y_pred)\n",
    "print()\n",
    "print(\"SVR: test\")\n",
    "y_pred = svr_model.predict(X_test)\n",
    "print_metrics(y_test, y_pred)"
   ],
   "metadata": {
    "collapsed": false,
    "ExecuteTime": {
     "end_time": "2023-11-21T07:56:30.987278606Z",
     "start_time": "2023-11-21T07:56:30.788907203Z"
    }
   },
   "id": "e15d916b6b99bda1"
  },
  {
   "cell_type": "markdown",
   "source": [
    "<h2> Ridge regression </h2>"
   ],
   "metadata": {
    "collapsed": false
   },
   "id": "4115f162b18ffdaa"
  },
  {
   "cell_type": "code",
   "execution_count": 13,
   "outputs": [
    {
     "name": "stdout",
     "output_type": "stream",
     "text": [
      "Training time: 0.0116 seconds\n"
     ]
    }
   ],
   "source": [
    "from sklearn.linear_model import Ridge, Lasso\n",
    "\n",
    "ridge_model = Ridge(alpha=1.0)  # alpha - regularization strength\n",
    "start_time = time.time()\n",
    "ridge_model.fit(X_train, y_train)\n",
    "print(f'Training time: {time.time() - start_time:.4f} seconds')\n"
   ],
   "metadata": {
    "collapsed": false,
    "ExecuteTime": {
     "end_time": "2023-11-21T07:56:35.279221896Z",
     "start_time": "2023-11-21T07:56:35.225398852Z"
    }
   },
   "id": "dd78d9fcc767349d"
  },
  {
   "cell_type": "code",
   "execution_count": 14,
   "outputs": [
    {
     "name": "stdout",
     "output_type": "stream",
     "text": [
      "Ridge regression: train\n",
      "Mean Squared Error (MSE):              337927999385095.7500000000\n",
      "Root Mean Squared Error (RMSE):        18382818.0479788184\n",
      "Mean Absolute Error (MAE):             11583291.7955560163\n",
      "R-squared (R²):                        0.6750477932\n",
      "Mean Absolute Percentage Error (MAPE): 0.1715434982\n",
      "Max Error (ME):                        143858270.3383001685\n",
      "Median Absolute Error (MedAE):         7754073.0218432695\n",
      "\n",
      "Ridge regression: test\n",
      "Mean Squared Error (MSE):              317445573579869.4375000000\n",
      "Root Mean Squared Error (RMSE):        17817002.3735719770\n",
      "Mean Absolute Error (MAE):             11608629.4857876897\n",
      "R-squared (R²):                        0.6376862054\n",
      "Mean Absolute Percentage Error (MAPE): 0.1751465790\n",
      "Max Error (ME):                        85504989.9734045267\n",
      "Median Absolute Error (MedAE):         7691729.5076978877\n"
     ]
    }
   ],
   "source": [
    "print(\"Ridge regression: train\")\n",
    "y_pred = ridge_model.predict(X_train)\n",
    "print_metrics(y_train, y_pred)\n",
    "print()\n",
    "print(\"Ridge regression: test\")\n",
    "y_pred = ridge_model.predict(X_test)\n",
    "print_metrics(y_test, y_pred)"
   ],
   "metadata": {
    "collapsed": false,
    "ExecuteTime": {
     "end_time": "2023-11-21T07:56:36.442526719Z",
     "start_time": "2023-11-21T07:56:36.375430900Z"
    }
   },
   "id": "1ce27ea9ecf61a0"
  },
  {
   "cell_type": "markdown",
   "source": [
    "<h2> Lasso regression </h2>"
   ],
   "metadata": {
    "collapsed": false
   },
   "id": "6b6e155eb4201f20"
  },
  {
   "cell_type": "code",
   "execution_count": 15,
   "outputs": [
    {
     "name": "stdout",
     "output_type": "stream",
     "text": [
      "Training time: 0.0599 seconds\n"
     ]
    }
   ],
   "source": [
    "# Ridge Regression\n",
    "lasso_model = Lasso(alpha=1.0)  # You can adjust the regularization strength (alpha) as needed\n",
    "start_time = time.time()\n",
    "lasso_model.fit(X_train, y_train)\n",
    "print(f'Training time: {time.time() - start_time:.4f} seconds')"
   ],
   "metadata": {
    "collapsed": false,
    "ExecuteTime": {
     "end_time": "2023-11-21T07:56:40.573958928Z",
     "start_time": "2023-11-21T07:56:40.505139515Z"
    }
   },
   "id": "2154504043fa76a8"
  },
  {
   "cell_type": "code",
   "execution_count": 16,
   "outputs": [
    {
     "name": "stdout",
     "output_type": "stream",
     "text": [
      "Lasso regression: train\n",
      "Mean Squared Error (MSE):              333020975441578.4375000000\n",
      "Root Mean Squared Error (RMSE):        18248862.3054035455\n",
      "Mean Absolute Error (MAE):             11754593.9001194313\n",
      "R-squared (R²):                        0.6797663968\n",
      "Mean Absolute Percentage Error (MAPE): 0.1771191717\n",
      "Max Error (ME):                        132954986.5004786849\n",
      "Median Absolute Error (MedAE):         7958985.5155577157\n",
      "\n",
      "Lasso regression: test\n",
      "Mean Squared Error (MSE):              327697064553661.3125000000\n",
      "Root Mean Squared Error (RMSE):        18102404.9383959286\n",
      "Mean Absolute Error (MAE):             12052146.7977269944\n",
      "R-squared (R²):                        0.6259857537\n",
      "Mean Absolute Percentage Error (MAPE): 0.1845097547\n",
      "Max Error (ME):                        83320830.9655300677\n",
      "Median Absolute Error (MedAE):         8182145.6326460913\n"
     ]
    }
   ],
   "source": [
    "print(\"Lasso regression: train\")\n",
    "y_pred = lasso_model.predict(X_train)\n",
    "print_metrics(y_train, y_pred)\n",
    "print()\n",
    "print(\"Lasso regression: test\")\n",
    "y_pred = lasso_model.predict(X_test)\n",
    "print_metrics(y_test, y_pred)"
   ],
   "metadata": {
    "collapsed": false,
    "ExecuteTime": {
     "end_time": "2023-11-21T07:56:42.771260967Z",
     "start_time": "2023-11-21T07:56:42.650773047Z"
    }
   },
   "id": "6245abcf553868e5"
  },
  {
   "cell_type": "markdown",
   "source": [
    "<h2> GRNN </h2>"
   ],
   "metadata": {
    "collapsed": false
   },
   "id": "ce72d3755b265c62"
  },
  {
   "cell_type": "code",
   "execution_count": 17,
   "outputs": [],
   "source": [
    "import math\n",
    "from sklearn.base import BaseEstimator, ClassifierMixin\n",
    "\n",
    "\n",
    "class GRNN(BaseEstimator, ClassifierMixin):\n",
    "    def __init__(self, name = \"GRNN\", sigma = 0.1):\n",
    "        self.name = name\n",
    "        self.sigma = 2 * np.power(sigma, 2)\n",
    "        \n",
    "    def predict(self, instance_X, train_X, train_y):\n",
    "        gausian_distances = np.exp(-np.power(np.sqrt((np.square(train_X-instance_X).sum(axis=1))),2)\\\n",
    "                                   / self.sigma)\n",
    "        gausian_distances_sum = gausian_distances.sum()\n",
    "        if gausian_distances_sum < math.pow(10, -7): gausian_distances_sum = math.pow(10, -7)\n",
    "        result = np.multiply(gausian_distances, train_y).sum() / gausian_distances_sum\n",
    "        return result"
   ],
   "metadata": {
    "collapsed": false,
    "ExecuteTime": {
     "end_time": "2023-11-21T07:56:46.629259093Z",
     "start_time": "2023-11-21T07:56:46.599797207Z"
    }
   },
   "id": "c07ccfbb0f5064b5"
  },
  {
   "cell_type": "code",
   "execution_count": 18,
   "outputs": [
    {
     "name": "stdout",
     "output_type": "stream",
     "text": [
      "--- 0.1137702465057373 seconds ---\n",
      "Sigma: 0.1\n",
      "Mean Squared Error (MSE):              379473216720944.8125000000\n",
      "Root Mean Squared Error (RMSE):        19480072.2976313606\n",
      "Mean Absolute Error (MAE):             12543969.6781589612\n",
      "R-squared (R²):                        0.5668914846\n",
      "Mean Absolute Percentage Error (MAPE): 0.2053452208\n",
      "Max Error (ME):                        96510157.4595734179\n",
      "Median Absolute Error (MedAE):         8888990.7908037528\n",
      "--- 0.10601329803466797 seconds ---\n",
      "Sigma: 0.101\n",
      "Mean Squared Error (MSE):              379907280518133.6875000000\n",
      "Root Mean Squared Error (RMSE):        19491210.3400002755\n",
      "Mean Absolute Error (MAE):             12571446.3332848549\n",
      "R-squared (R²):                        0.5663960696\n",
      "Mean Absolute Percentage Error (MAPE): 0.2062683310\n",
      "Max Error (ME):                        96608262.3236446083\n",
      "Median Absolute Error (MedAE):         8977918.2734873705\n",
      "--- 0.11072921752929688 seconds ---\n",
      "Sigma: 0.10200000000000001\n",
      "Mean Squared Error (MSE):              380400301353054.5000000000\n",
      "Root Mean Squared Error (RMSE):        19503853.5000920892\n",
      "Mean Absolute Error (MAE):             12601301.0794183929\n",
      "R-squared (R²):                        0.5658333645\n",
      "Mean Absolute Percentage Error (MAPE): 0.2072257920\n",
      "Max Error (ME):                        96710302.9476661086\n",
      "Median Absolute Error (MedAE):         9036450.2533639055\n",
      "--- 0.10338664054870605 seconds ---\n",
      "Sigma: 0.10300000000000001\n",
      "Mean Squared Error (MSE):              380950641624231.0000000000\n",
      "Root Mean Squared Error (RMSE):        19517956.9018950090\n",
      "Mean Absolute Error (MAE):             12632802.4260197021\n",
      "R-squared (R²):                        0.5652052383\n",
      "Mean Absolute Percentage Error (MAPE): 0.2082055242\n",
      "Max Error (ME):                        96815989.4690732956\n",
      "Median Absolute Error (MedAE):         9143095.4029783178\n",
      "--- 0.10442233085632324 seconds ---\n",
      "Sigma: 0.10400000000000001\n",
      "Mean Squared Error (MSE):              381556740574449.5625000000\n",
      "Root Mean Squared Error (RMSE):        19533477.4316927381\n",
      "Mean Absolute Error (MAE):             12665624.9564653002\n",
      "R-squared (R²):                        0.5645134724\n",
      "Mean Absolute Percentage Error (MAPE): 0.2092073659\n",
      "Max Error (ME):                        96925052.1520852745\n",
      "Median Absolute Error (MedAE):         9252462.5621598978\n",
      "--- 0.10451817512512207 seconds ---\n",
      "Sigma: 0.10500000000000001\n",
      "Mean Squared Error (MSE):              382217102830411.0000000000\n",
      "Root Mean Squared Error (RMSE):        19550373.4703562893\n",
      "Mean Absolute Error (MAE):             12698510.0555082783\n",
      "R-squared (R²):                        0.5637597736\n",
      "Mean Absolute Percentage Error (MAPE): 0.2102096088\n",
      "Max Error (ME):                        97037239.8538500518\n",
      "Median Absolute Error (MedAE):         9249847.4377422053\n",
      "--- 0.10427451133728027 seconds ---\n",
      "Sigma: 0.10600000000000001\n",
      "Mean Squared Error (MSE):              382930287834163.5625000000\n",
      "Root Mean Squared Error (RMSE):        19568604.6470913105\n",
      "Mean Absolute Error (MAE):             12731556.3531641904\n",
      "R-squared (R²):                        0.5629457860\n",
      "Mean Absolute Percentage Error (MAPE): 0.2112120144\n",
      "Max Error (ME):                        97152318.5810412914\n",
      "Median Absolute Error (MedAE):         9248892.8108492233\n",
      "--- 0.10721683502197266 seconds ---\n",
      "Sigma: 0.10700000000000001\n",
      "Mean Squared Error (MSE):              383694900218922.9375000000\n",
      "Root Mean Squared Error (RMSE):        19588131.6163365357\n",
      "Mean Absolute Error (MAE):             12765120.6019520033\n",
      "R-squared (R²):                        0.5620731022\n",
      "Mean Absolute Percentage Error (MAPE): 0.2122189955\n",
      "Max Error (ME):                        97270070.1371974498\n",
      "Median Absolute Error (MedAE):         9315992.9114952944\n",
      "--- 0.1068429946899414 seconds ---\n",
      "Sigma: 0.10800000000000001\n",
      "Mean Squared Error (MSE):              384509581170113.5625000000\n",
      "Root Mean Squared Error (RMSE):        19608915.8591216765\n",
      "Mean Absolute Error (MAE):             12799571.8369167894\n",
      "R-squared (R²):                        0.5611432730\n",
      "Mean Absolute Percentage Error (MAPE): 0.2132406189\n",
      "Max Error (ME):                        97449868.2469596863\n",
      "Median Absolute Error (MedAE):         9404613.5242993273\n",
      "--- 0.10812020301818848 seconds ---\n",
      "Sigma: 0.10900000000000001\n",
      "Mean Squared Error (MSE):              385373000799966.8750000000\n",
      "Root Mean Squared Error (RMSE):        19630919.5097928829\n",
      "Mean Absolute Error (MAE):             12835839.0563334208\n",
      "R-squared (R²):                        0.5601578164\n",
      "Mean Absolute Percentage Error (MAPE): 0.2142852327\n",
      "Max Error (ME):                        97687553.8383405060\n",
      "Median Absolute Error (MedAE):         9509908.2615351342\n",
      "--- 0.10605335235595703 seconds ---\n",
      "Sigma: 0.11000000000000001\n",
      "Mean Squared Error (MSE):              386283851550694.8125000000\n",
      "Root Mean Squared Error (RMSE):        19654105.2085994184\n",
      "Mean Absolute Error (MAE):             12872980.2613999043\n",
      "R-squared (R²):                        0.5591182247\n",
      "Mean Absolute Percentage Error (MAPE): 0.2153423664\n",
      "Max Error (ME):                        97927908.3529428244\n",
      "Median Absolute Error (MedAE):         9527587.9170273095\n",
      "--- 0.10590553283691406 seconds ---\n",
      "Sigma: 0.11100000000000002\n",
      "Mean Squared Error (MSE):              387240842627321.3750000000\n",
      "Root Mean Squared Error (RMSE):        19678435.9802124873\n",
      "Mean Absolute Error (MAE):             12910855.0550762285\n",
      "R-squared (R²):                        0.5580259711\n",
      "Mean Absolute Percentage Error (MAPE): 0.2164081620\n",
      "Max Error (ME):                        98170632.5472486764\n",
      "Median Absolute Error (MedAE):         9569640.2896215990\n",
      "--- 0.10485219955444336 seconds ---\n",
      "Sigma: 0.11200000000000002\n",
      "Mean Squared Error (MSE):              388242695446937.1250000000\n",
      "Root Mean Squared Error (RMSE):        19703875.1378234513\n",
      "Mean Absolute Error (MAE):             12949288.1834152285\n",
      "R-squared (R²):                        0.5568825149\n",
      "Mean Absolute Percentage Error (MAPE): 0.2174778567\n",
      "Max Error (ME):                        98415443.6532411128\n",
      "Median Absolute Error (MedAE):         9631824.2363451198\n",
      "--- 0.10452723503112793 seconds ---\n",
      "Sigma: 0.11300000000000002\n",
      "Mean Squared Error (MSE):              389288140076926.5625000000\n",
      "Root Mean Squared Error (RMSE):        19730386.2120569386\n",
      "Mean Absolute Error (MAE):             12987676.6942714658\n",
      "R-squared (R²):                        0.5556893056\n",
      "Mean Absolute Percentage Error (MAPE): 0.2185440637\n",
      "Max Error (ME):                        98662074.8588149101\n",
      "Median Absolute Error (MedAE):         9659453.1985517219\n",
      "--- 0.1053779125213623 seconds ---\n",
      "Sigma: 0.11400000000000002\n",
      "Mean Squared Error (MSE):              390375912621038.8750000000\n",
      "Root Mean Squared Error (RMSE):        19757932.9035463333\n",
      "Mean Absolute Error (MAE):             13026509.9271590263\n",
      "R-squared (R²):                        0.5544477857\n",
      "Mean Absolute Percentage Error (MAPE): 0.2196163459\n",
      "Max Error (ME):                        98910274.7171083838\n",
      "Median Absolute Error (MedAE):         9656897.3999034725\n",
      "--- 0.10460805892944336 seconds ---\n",
      "Sigma: 0.11500000000000002\n",
      "Mean Squared Error (MSE):              391504753499556.0625000000\n",
      "Root Mean Squared Error (RMSE):        19786479.0576685481\n",
      "Mean Absolute Error (MAE):             13066131.2425220534\n",
      "R-squared (R²):                        0.5531593928\n",
      "Mean Absolute Percentage Error (MAPE): 0.2206944462\n",
      "Max Error (ME):                        99159806.5059868246\n",
      "Median Absolute Error (MedAE):         9706701.4199174307\n",
      "--- 0.1040337085723877 seconds ---\n",
      "Sigma: 0.11600000000000002\n",
      "Mean Squared Error (MSE):              392673406558697.8125000000\n",
      "Root Mean Squared Error (RMSE):        19815988.6596328542\n",
      "Mean Absolute Error (MAE):             13106927.9509846475\n",
      "R-squared (R²):                        0.5518255606\n",
      "Mean Absolute Percentage Error (MAPE): 0.2217815368\n",
      "Max Error (ME):                        99410447.5556479990\n",
      "Median Absolute Error (MedAE):         9822930.4660626166\n",
      "--- 0.10410785675048828 seconds ---\n",
      "Sigma: 0.11700000000000002\n",
      "Mean Squared Error (MSE):              393880618935173.6875000000\n",
      "Root Mean Squared Error (RMSE):        19846425.8478743136\n",
      "Mean Absolute Error (MAE):             13147810.9933318794\n",
      "R-squared (R²):                        0.5504477191\n",
      "Mean Absolute Percentage Error (MAPE): 0.2228650308\n",
      "Max Error (ME):                        99661988.5593635440\n",
      "Median Absolute Error (MedAE):         9862600.5293920934\n",
      "--- 0.10536646842956543 seconds ---\n",
      "Sigma: 0.11800000000000002\n",
      "Mean Squared Error (MSE):              395125141594712.8750000000\n",
      "Root Mean Squared Error (RMSE):        19877754.9435219876\n",
      "Mean Absolute Error (MAE):             13190371.4078961723\n",
      "R-squared (R²):                        0.5490272938\n",
      "Mean Absolute Percentage Error (MAPE): 0.2239608217\n",
      "Max Error (ME):                        99914232.8797251135\n",
      "Median Absolute Error (MedAE):         9804412.2004266921\n",
      "--- 0.10892319679260254 seconds ---\n",
      "Sigma: 0.11900000000000002\n",
      "Mean Squared Error (MSE):              396405730458641.5625000000\n",
      "Root Mean Squared Error (RMSE):        19909940.4935987070\n",
      "Mean Absolute Error (MAE):             13232655.8638052605\n",
      "R-squared (R²):                        0.5475657046\n",
      "Mean Absolute Percentage Error (MAPE): 0.2250491691\n",
      "Max Error (ME):                        100166995.8604173362\n",
      "Median Absolute Error (MedAE):         9826415.0564268865\n",
      "--- 0.10657906532287598 seconds ---\n",
      "Sigma: 0.12000000000000002\n",
      "Mean Squared Error (MSE):              397721148030128.0000000000\n",
      "Root Mean Squared Error (RMSE):        19942947.3255616874\n",
      "Mean Absolute Error (MAE):             13274659.6769591030\n",
      "R-squared (R²):                        0.5460643640\n",
      "Mean Absolute Percentage Error (MAPE): 0.2261299411\n",
      "Max Error (ME):                        100420104.1514830589\n",
      "Median Absolute Error (MedAE):         9840626.9619903155\n",
      "--- 0.10743951797485352 seconds ---\n",
      "Sigma: 0.12100000000000002\n",
      "Mean Squared Error (MSE):              399070165431519.0625000000\n",
      "Root Mean Squared Error (RMSE):        19976740.6108083390\n",
      "Mean Absolute Error (MAE):             13316378.4227351900\n",
      "R-squared (R²):                        0.5445246745\n",
      "Mean Absolute Percentage Error (MAPE): 0.2272030172\n",
      "Max Error (ME):                        100673395.0542617440\n",
      "Median Absolute Error (MedAE):         9840393.3204821013\n",
      "--- 0.10605001449584961 seconds ---\n",
      "Sigma: 0.12200000000000003\n",
      "Mean Squared Error (MSE):              400451564766023.0000000000\n",
      "Root Mean Squared Error (RMSE):        20011285.9348424450\n",
      "Mean Absolute Error (MAE):             13358040.4407303426\n",
      "R-squared (R²):                        0.5429480262\n",
      "Mean Absolute Percentage Error (MAPE): 0.2282723937\n",
      "Max Error (ME):                        100926715.8906448931\n",
      "Median Absolute Error (MedAE):         9827183.9094847664\n",
      "--- 0.10733771324157715 seconds ---\n",
      "Sigma: 0.12300000000000003\n",
      "Mean Squared Error (MSE):              401864141720588.6875000000\n",
      "Root Mean Squared Error (RMSE):        20046549.3719140776\n",
      "Mean Absolute Error (MAE):             13399646.7055525240\n",
      "R-squared (R²):                        0.5413357935\n",
      "Mean Absolute Percentage Error (MAPE): 0.2293376832\n",
      "Max Error (ME):                        101179923.3999887258\n",
      "Median Absolute Error (MedAE):         9887336.5406832658\n",
      "--- 0.10520648956298828 seconds ---\n",
      "Sigma: 0.12400000000000003\n",
      "Mean Squared Error (MSE):              403306708331851.7500000000\n",
      "Root Mean Squared Error (RMSE):        20082497.5621024743\n",
      "Mean Absolute Error (MAE):             13440943.6038618460\n",
      "R-squared (R²):                        0.5396893325\n",
      "Mean Absolute Percentage Error (MAPE): 0.2303947743\n",
      "Max Error (ME):                        101432883.1659227610\n",
      "Median Absolute Error (MedAE):         9995518.8327437267\n",
      "--- 0.11950802803039551 seconds ---\n",
      "Sigma: 0.12500000000000003\n",
      "Mean Squared Error (MSE):              404778095843098.0000000000\n",
      "Root Mean Squared Error (RMSE):        20119097.7889938690\n",
      "Mean Absolute Error (MAE):             13481927.8254640084\n",
      "R-squared (R²):                        0.5380099769\n",
      "Mean Absolute Percentage Error (MAPE): 0.2314435894\n",
      "Max Error (ME):                        101685469.0743805319\n",
      "Median Absolute Error (MedAE):         10101494.1518343464\n",
      "--- 0.12206530570983887 seconds ---\n",
      "Sigma: 0.12600000000000003\n",
      "Mean Squared Error (MSE):              406277157586966.1875000000\n",
      "Root Mean Squared Error (RMSE):        20156318.0563059710\n",
      "Mean Absolute Error (MAE):             13522596.2431403529\n",
      "R-squared (R²):                        0.5362990356\n",
      "Mean Absolute Percentage Error (MAPE): 0.2324840598\n",
      "Max Error (ME):                        101937562.8034263998\n",
      "Median Absolute Error (MedAE):         10078775.8151341416\n",
      "--- 0.12227535247802734 seconds ---\n",
      "Sigma: 0.12700000000000003\n",
      "Mean Squared Error (MSE):              407802771835716.6250000000\n",
      "Root Mean Squared Error (RMSE):        20194127.1620170958\n",
      "Mean Absolute Error (MAE):             13562945.9042871967\n",
      "R-squared (R²):                        0.5345577888\n",
      "Mean Absolute Percentage Error (MAPE): 0.2335161248\n",
      "Max Error (ME):                        102189053.3448452950\n",
      "Median Absolute Error (MedAE):         10038775.7525844872\n",
      "--- 0.11173605918884277 seconds ---\n",
      "Sigma: 0.12800000000000003\n",
      "Mean Squared Error (MSE):              409353844568018.5625000000\n",
      "Root Mean Squared Error (RMSE):        20232494.7687629126\n",
      "Mean Absolute Error (MAE):             13602974.0255638063\n",
      "R-squared (R²):                        0.5327874852\n",
      "Mean Absolute Percentage Error (MAPE): 0.2345397318\n",
      "Max Error (ME):                        102439836.5569800287\n",
      "Median Absolute Error (MedAE):         10032356.0654172339\n",
      "--- 0.10541009902954102 seconds ---\n",
      "Sigma: 0.12900000000000003\n",
      "Mean Squared Error (MSE):              410929312108073.3750000000\n",
      "Root Mean Squared Error (RMSE):        20271391.4694594517\n",
      "Mean Absolute Error (MAE):             13642677.9902365319\n",
      "R-squared (R²):                        0.5309893387\n",
      "Mean Absolute Percentage Error (MAPE): 0.2355548356\n",
      "Max Error (ME):                        102689814.7479245961\n",
      "Median Absolute Error (MedAE):         10045282.3498218507\n",
      "--- 0.10508608818054199 seconds ---\n",
      "Sigma: 0.13000000000000003\n",
      "Mean Squared Error (MSE):              412528143599298.0000000000\n",
      "Root Mean Squared Error (RMSE):        20310788.8472924158\n",
      "Mean Absolute Error (MAE):             13682055.3479144387\n",
      "R-squared (R²):                        0.5291645261\n",
      "Mean Absolute Percentage Error (MAPE): 0.2365613983\n",
      "Max Error (ME):                        102938896.2878998369\n",
      "Median Absolute Error (MedAE):         10116662.1402478218\n",
      "--- 0.1058053970336914 seconds ---\n",
      "Sigma: 0.13100000000000003\n",
      "Mean Squared Error (MSE):              414149343280569.5625000000\n",
      "Root Mean Squared Error (RMSE):        20350659.5293756910\n",
      "Mean Absolute Error (MAE):             13721169.0499656834\n",
      "R-squared (R²):                        0.5273141836\n",
      "Mean Absolute Percentage Error (MAPE): 0.2375603214\n",
      "Max Error (ME):                        103186995.2494310439\n",
      "Median Absolute Error (MedAE):         10188553.0794467330\n",
      "--- 0.10664224624633789 seconds ---\n",
      "Sigma: 0.13200000000000003\n",
      "Mean Squared Error (MSE):              415791952538106.1250000000\n",
      "Root Mean Squared Error (RMSE):        20390977.2335242964\n",
      "Mean Absolute Error (MAE):             13760272.4096991047\n",
      "R-squared (R²):                        0.5254394056\n",
      "Mean Absolute Percentage Error (MAPE): 0.2385552319\n",
      "Max Error (ME):                        103434031.0738084912\n",
      "Median Absolute Error (MedAE):         10226420.2043610811\n",
      "--- 0.10800290107727051 seconds ---\n",
      "Sigma: 0.13300000000000003\n",
      "Mean Squared Error (MSE):              417455051710387.1875000000\n",
      "Root Mean Squared Error (RMSE):        20431716.8077082336\n",
      "Mean Absolute Error (MAE):             13799040.2042228635\n",
      "R-squared (R²):                        0.5235412416\n",
      "Mean Absolute Percentage Error (MAPE): 0.2395414899\n",
      "Max Error (ME):                        103679928.2622248083\n",
      "Median Absolute Error (MedAE):         10246989.0578519590\n",
      "--- 0.10679960250854492 seconds ---\n",
      "Sigma: 0.13400000000000004\n",
      "Mean Squared Error (MSE):              419137761627133.0000000000\n",
      "Root Mean Squared Error (RMSE):        20472854.2618544772\n",
      "Mean Absolute Error (MAE):             13838154.0837555025\n",
      "R-squared (R²):                        0.5216206950\n",
      "Mean Absolute Percentage Error (MAPE): 0.2405267850\n",
      "Max Error (ME):                        103924616.0899419338\n",
      "Median Absolute Error (MedAE):         10338238.1435424425\n",
      "--- 0.10783028602600098 seconds ---\n",
      "Sigma: 0.13500000000000004\n",
      "Mean Squared Error (MSE):              420839244866323.8125000000\n",
      "Root Mean Squared Error (RMSE):        20514366.7917467989\n",
      "Mean Absolute Error (MAE):             13877929.5528713092\n",
      "R-squared (R²):                        0.5196787216\n",
      "Mean Absolute Percentage Error (MAPE): 0.2415159663\n",
      "Max Error (ME):                        104168028.3418354690\n",
      "Median Absolute Error (MedAE):         10338180.8611051030\n",
      "--- 0.10770225524902344 seconds ---\n",
      "Sigma: 0.13600000000000004\n",
      "Mean Squared Error (MSE):              422558706715663.1875000000\n",
      "Root Mean Squared Error (RMSE):        20556232.7948401868\n",
      "Mean Absolute Error (MAE):             13917373.7681728546\n",
      "R-squared (R²):                        0.5177162285\n",
      "Mean Absolute Percentage Error (MAPE): 0.2424965531\n",
      "Max Error (ME):                        104410103.0676863343\n",
      "Median Absolute Error (MedAE):         10340830.9261276089\n",
      "--- 0.1084597110748291 seconds ---\n",
      "Sigma: 0.13700000000000004\n",
      "Mean Squared Error (MSE):              424295395826907.5625000000\n",
      "Root Mean Squared Error (RMSE):        20598431.8778616637\n",
      "Mean Absolute Error (MAE):             13957073.9418391809\n",
      "R-squared (R²):                        0.5157340732\n",
      "Mean Absolute Percentage Error (MAPE): 0.2434763399\n",
      "Max Error (ME):                        104650782.3556361347\n",
      "Median Absolute Error (MedAE):         10445873.8872923218\n",
      "--- 0.10467314720153809 seconds ---\n",
      "Sigma: 0.13800000000000004\n",
      "Mean Squared Error (MSE):              426048604553243.7500000000\n",
      "Root Mean Squared Error (RMSE):        20640944.8561165370\n",
      "Mean Absolute Error (MAE):             13996571.2412308771\n",
      "R-squared (R²):                        0.5137330634\n",
      "Mean Absolute Percentage Error (MAPE): 0.2444492780\n",
      "Max Error (ME):                        104890012.1222834140\n",
      "Median Absolute Error (MedAE):         10528647.6434499808\n",
      "--- 0.11089515686035156 seconds ---\n",
      "Sigma: 0.13900000000000004\n",
      "Mean Squared Error (MSE):              427817668961569.8125000000\n",
      "Root Mean Squared Error (RMSE):        20683753.7444625795\n",
      "Mean Absolute Error (MAE):             14035722.9849477261\n",
      "R-squared (R²):                        0.5117139569\n",
      "Mean Absolute Percentage Error (MAPE): 0.2454135056\n",
      "Max Error (ME):                        105127741.9179745466\n",
      "Median Absolute Error (MedAE):         10431893.5733133592\n",
      "--- 0.10395002365112305 seconds ---\n",
      "Sigma: 0.14000000000000004\n",
      "Mean Squared Error (MSE):              429601968513264.1875000000\n",
      "Root Mean Squared Error (RMSE):        20726841.7399579771\n",
      "Mean Absolute Error (MAE):             14077887.7118226755\n",
      "R-squared (R²):                        0.5096774618\n",
      "Mean Absolute Percentage Error (MAPE): 0.2464073842\n",
      "Max Error (ME):                        105363924.7459240109\n",
      "Median Absolute Error (MedAE):         10551774.7372782044\n",
      "--- 0.10520291328430176 seconds ---\n",
      "Sigma: 0.14100000000000004\n",
      "Mean Squared Error (MSE):              431400925408987.0625000000\n",
      "Root Mean Squared Error (RMSE):        20770193.1962364540\n",
      "Mean Absolute Error (MAE):             14120077.1923614964\n",
      "R-squared (R²):                        0.5076242377\n",
      "Mean Absolute Percentage Error (MAPE): 0.2473975405\n",
      "Max Error (ME):                        105598516.8938892335\n",
      "Median Absolute Error (MedAE):         10688064.9974782281\n",
      "--- 0.10549521446228027 seconds ---\n",
      "Sigma: 0.14200000000000004\n",
      "Mean Squared Error (MSE):              433214003595344.3125000000\n",
      "Root Mean Squared Error (RMSE):        20813793.5897169970\n",
      "Mean Absolute Error (MAE):             14162152.9627018496\n",
      "R-squared (R²):                        0.5055548964\n",
      "Mean Absolute Percentage Error (MAPE): 0.2483825817\n",
      "Max Error (ME):                        105831477.7772149146\n",
      "Median Absolute Error (MedAE):         10626901.6996965297\n",
      "--- 0.10487890243530273 seconds ---\n",
      "Sigma: 0.14300000000000004\n",
      "Mean Squared Error (MSE):              435040707433992.2500000000\n",
      "Root Mean Squared Error (RMSE):        20857629.4778191969\n",
      "Mean Absolute Error (MAE):             14204227.3095038347\n",
      "R-squared (R²):                        0.5034700036\n",
      "Mean Absolute Percentage Error (MAPE): 0.2493638370\n",
      "Max Error (ME):                        106062769.7921545804\n",
      "Median Absolute Error (MedAE):         10521631.0837133005\n",
      "--- 0.10470104217529297 seconds ---\n",
      "Sigma: 0.14400000000000004\n",
      "Mean Squared Error (MSE):              436880580037012.3750000000\n",
      "Root Mean Squared Error (RMSE):        20901688.4494294487\n",
      "Mean Absolute Error (MAE):             14245950.7868593708\n",
      "R-squared (R²):                        0.5013700807\n",
      "Mean Absolute Percentage Error (MAPE): 0.2503371145\n",
      "Max Error (ME):                        106292358.1784679443\n",
      "Median Absolute Error (MedAE):         10464555.0089137442\n",
      "--- 0.10619783401489258 seconds ---\n",
      "Sigma: 0.14500000000000005\n",
      "Mean Squared Error (MSE):              438733201276185.3750000000\n",
      "Root Mean Squared Error (RMSE):        20945959.0679487735\n",
      "Mean Absolute Error (MAE):             14287402.4690470081\n",
      "R-squared (R²):                        0.4992556073\n",
      "Mean Absolute Percentage Error (MAPE): 0.2513038175\n",
      "Max Error (ME):                        106520210.8903804868\n",
      "Median Absolute Error (MedAE):         10439489.3160443418\n",
      "--- 0.10932254791259766 seconds ---\n",
      "Sigma: 0.14600000000000005\n",
      "Mean Squared Error (MSE):              440598185478129.8750000000\n",
      "Root Mean Squared Error (RMSE):        20990430.8073495701\n",
      "Mean Absolute Error (MAE):             14328393.6824490111\n",
      "R-squared (R²):                        0.4971270235\n",
      "Mean Absolute Percentage Error (MAPE): 0.2522606548\n",
      "Max Error (ME):                        106746298.4750780612\n",
      "Median Absolute Error (MedAE):         10481598.4767590053\n",
      "--- 0.10621762275695801 seconds ---\n",
      "Sigma: 0.14700000000000005\n",
      "Mean Squared Error (MSE):              442475178822077.8125000000\n",
      "Root Mean Squared Error (RMSE):        21035093.9817743115\n",
      "Mean Absolute Error (MAE):             14368927.8926723171\n",
      "R-squared (R²):                        0.4949847331\n",
      "Mean Absolute Percentage Error (MAPE): 0.2532077018\n",
      "Max Error (ME):                        106970593.9579888433\n",
      "Median Absolute Error (MedAE):         10625626.7150887325\n",
      "--- 0.10551738739013672 seconds ---\n",
      "Sigma: 0.14800000000000005\n",
      "Mean Squared Error (MSE):              444363856462248.6875000000\n",
      "Root Mean Squared Error (RMSE):        21079939.6693218425\n",
      "Mean Absolute Error (MAE):             14409008.8781900462\n",
      "R-squared (R²):                        0.4928291070\n",
      "Mean Absolute Percentage Error (MAPE): 0.2541450376\n",
      "Max Error (ME):                        107193072.7341834158\n",
      "Median Absolute Error (MedAE):         10724514.9370494857\n",
      "--- 0.10548830032348633 seconds ---\n",
      "Sigma: 0.14900000000000005\n",
      "Mean Squared Error (MSE):              446263919402219.8750000000\n",
      "Root Mean Squared Error (RMSE):        21124959.6307832003\n",
      "Mean Absolute Error (MAE):             14448640.7202567011\n",
      "R-squared (R²):                        0.4906604864\n",
      "Mean Absolute Percentage Error (MAPE): 0.2550727454\n",
      "Max Error (ME):                        107413712.4652932435\n",
      "Median Absolute Error (MedAE):         10727065.1883313097\n",
      "--- 0.10959887504577637 seconds ---\n",
      "Sigma: 0.15000000000000005\n",
      "Mean Squared Error (MSE):              448175091154179.5000000000\n",
      "Root Mean Squared Error (RMSE):        21170146.2242040150\n",
      "Mean Absolute Error (MAE):             14488945.8021015693\n",
      "R-squared (R²):                        0.4884791869\n",
      "Mean Absolute Percentage Error (MAPE): 0.2560023046\n",
      "Max Error (ME):                        107632492.9814157337\n",
      "Median Absolute Error (MedAE):         10710018.4616879039\n",
      "--- 0.1060340404510498 seconds ---\n",
      "Sigma: 0.15100000000000005\n",
      "Mean Squared Error (MSE):              450097114221323.2500000000\n",
      "Root Mean Squared Error (RMSE):        21215492.3162608519\n",
      "Mean Absolute Error (MAE):             14529373.0938236732\n",
      "R-squared (R²):                        0.4862855023\n",
      "Mean Absolute Percentage Error (MAPE): 0.2569278966\n",
      "Max Error (ME):                        107849396.1875345409\n",
      "Median Absolute Error (MedAE):         10692918.4965700656\n",
      "--- 0.1074974536895752 seconds ---\n",
      "Sigma: 0.15200000000000005\n",
      "Mean Squared Error (MSE):              452029746446659.5000000000\n",
      "Root Mean Squared Error (RMSE):        21260991.1915380731\n",
      "Mean Absolute Error (MAE):             14574134.4993528854\n",
      "R-squared (R²):                        0.4840797090\n",
      "Mean Absolute Percentage Error (MAPE): 0.2578761651\n",
      "Max Error (ME):                        108064405.9740396589\n",
      "Median Absolute Error (MedAE):         10676838.2529187128\n",
      "--- 0.10807538032531738 seconds ---\n",
      "Sigma: 0.15300000000000005\n",
      "Mean Squared Error (MSE):              453972757275925.2500000000\n",
      "Root Mean Squared Error (RMSE):        21306636.4608758762\n",
      "Mean Absolute Error (MAE):             14618756.4492865484\n",
      "R-squared (R²):                        0.4818620702\n",
      "Mean Absolute Percentage Error (MAPE): 0.2588197456\n",
      "Max Error (ME):                        108277508.1309831887\n",
      "Median Absolute Error (MedAE):         10717221.3058957607\n",
      "--- 0.10500454902648926 seconds ---\n",
      "Sigma: 0.15400000000000005\n",
      "Mean Squared Error (MSE):              455925923985944.3750000000\n",
      "Root Mean Squared Error (RMSE):        21352421.9700235501\n",
      "Mean Absolute Error (MAE):             14663353.3159827627\n",
      "R-squared (R²):                        0.4796328400\n",
      "Mean Absolute Percentage Error (MAPE): 0.2597608895\n",
      "Max Error (ME):                        108488690.2657527626\n",
      "Median Absolute Error (MedAE):         10713714.3297310881\n",
      "--- 0.10978055000305176 seconds ---\n",
      "Sigma: 0.15500000000000005\n",
      "Mean Squared Error (MSE):              457889027932384.0000000000\n",
      "Root Mean Squared Error (RMSE):        21398341.7098705098\n",
      "Mean Absolute Error (MAE):             14707617.6812227666\n",
      "R-squared (R²):                        0.4773922681\n",
      "Mean Absolute Percentage Error (MAPE): 0.2606935708\n",
      "Max Error (ME):                        108697941.7238854319\n",
      "Median Absolute Error (MedAE):         10710161.1714069843\n",
      "--- 0.10437655448913574 seconds ---\n",
      "Sigma: 0.15600000000000006\n",
      "Mean Squared Error (MSE):              459861850872310.3125000000\n",
      "Root Mean Squared Error (RMSE):        21444389.7295378931\n",
      "Mean Absolute Error (MAE):             14751713.1851845253\n",
      "R-squared (R²):                        0.4751406035\n",
      "Mean Absolute Percentage Error (MAPE): 0.2616201977\n",
      "Max Error (ME):                        108905253.5127821565\n",
      "Median Absolute Error (MedAE):         10692107.8880361207\n",
      "--- 0.10368895530700684 seconds ---\n",
      "Sigma: 0.15700000000000006\n",
      "Mean Squared Error (MSE):              461844171417074.6875000000\n",
      "Root Mean Squared Error (RMSE):        21490560.0535927080\n",
      "Mean Absolute Error (MAE):             14795779.3780114148\n",
      "R-squared (R²):                        0.4728780988\n",
      "Mean Absolute Percentage Error (MAPE): 0.2625428347\n",
      "Max Error (ME):                        109110618.2281163335\n",
      "Median Absolute Error (MedAE):         10704785.3937817588\n",
      "--- 0.0992887020111084 seconds ---\n",
      "Sigma: 0.15800000000000006\n",
      "Mean Squared Error (MSE):              463835761669787.0625000000\n",
      "Root Mean Squared Error (RMSE):        21536846.6045934185\n",
      "Mean Absolute Error (MAE):             14839506.2473699432\n",
      "R-squared (R²):                        0.4706050143\n",
      "Mean Absolute Percentage Error (MAPE): 0.2634570989\n",
      "Max Error (ME):                        109314029.9827577621\n",
      "Median Absolute Error (MedAE):         10711989.3705494441\n",
      "--- 0.096435546875 seconds ---\n",
      "Sigma: 0.15900000000000006\n",
      "Mean Squared Error (MSE):              465836384098939.3750000000\n",
      "Root Mean Squared Error (RMSE):        21583243.1320906766\n",
      "Mean Absolute Error (MAE):             14882893.2466670573\n",
      "R-squared (R²):                        0.4683216210\n",
      "Mean Absolute Percentage Error (MAPE): 0.2643630475\n",
      "Max Error (ME):                        109515484.3380598724\n",
      "Median Absolute Error (MedAE):         10719294.1444671005\n",
      "--- 0.0897819995880127 seconds ---\n",
      "Sigma: 0.16000000000000006\n",
      "Mean Squared Error (MSE):              467845788695645.6250000000\n",
      "Root Mean Squared Error (RMSE):        21629743.1490909196\n",
      "Mean Absolute Error (MAE):             14925939.7032484896\n",
      "R-squared (R²):                        0.4660282042\n",
      "Mean Absolute Percentage Error (MAPE): 0.2652607374\n",
      "Max Error (ME):                        109714978.2373795062\n",
      "Median Absolute Error (MedAE):         10767517.0170600191\n",
      "--- 0.08754920959472656 seconds ---\n",
      "Sigma: 0.16100000000000006\n",
      "Mean Squared Error (MSE):              469863710456570.3750000000\n",
      "Root Mean Squared Error (RMSE):        21676339.8768466078\n",
      "Mean Absolute Error (MAE):             14968644.8350207545\n",
      "R-squared (R²):                        0.4637250664\n",
      "Mean Absolute Percentage Error (MAPE): 0.2661502245\n",
      "Max Error (ME):                        109912509.9417181909\n",
      "Median Absolute Error (MedAE):         10825710.0964128785\n",
      "--- 0.08301186561584473 seconds ---\n",
      "Sigma: 0.16200000000000006\n",
      "Mean Squared Error (MSE):              471889867228068.9375000000\n",
      "Root Mean Squared Error (RMSE):        21723026.1986692101\n",
      "Mean Absolute Error (MAE):             15011007.7685813531\n",
      "R-squared (R²):                        0.4614125297\n",
      "Mean Absolute Percentage Error (MAPE): 0.2670315642\n",
      "Max Error (ME):                        110108078.9673900753\n",
      "Median Absolute Error (MedAE):         10984246.2404934093\n",
      "--- 0.07967615127563477 seconds ---\n",
      "Sigma: 0.16300000000000006\n",
      "Mean Squared Error (MSE):              473923957939563.3750000000\n",
      "Root Mean Squared Error (RMSE):        21769794.6232747771\n",
      "Mean Absolute Error (MAE):             15053074.8177761380\n",
      "R-squared (R²):                        0.4590909377\n",
      "Mean Absolute Percentage Error (MAPE): 0.2679055569\n",
      "Max Error (ME):                        110301686.0256359577\n",
      "Median Absolute Error (MedAE):         11085268.5580033436\n",
      "--- 0.07804298400878906 seconds ---\n",
      "Sigma: 0.16400000000000006\n",
      "Mean Squared Error (MSE):              475965661245963.8750000000\n",
      "Root Mean Squared Error (RMSE):        21816637.2579727285\n",
      "Mean Absolute Error (MAE):             15094925.8754519112\n",
      "R-squared (R²):                        0.4567606570\n",
      "Mean Absolute Percentage Error (MAPE): 0.2687736449\n",
      "Max Error (ME):                        110493332.9641142786\n",
      "Median Absolute Error (MedAE):         11119128.6308470741\n",
      "--- 0.07715129852294922 seconds ---\n",
      "Sigma: 0.16500000000000006\n",
      "Mean Squared Error (MSE):              478014634590293.5625000000\n",
      "Root Mean Squared Error (RMSE):        21863545.7918036133\n",
      "Mean Absolute Error (MAE):             15136612.4144215174\n",
      "R-squared (R²):                        0.4544220788\n",
      "Mean Absolute Percentage Error (MAPE): 0.2696372507\n",
      "Max Error (ME):                        110683022.7102107704\n",
      "Median Absolute Error (MedAE):         11150401.5040691942\n",
      "--- 0.07223248481750488 seconds ---\n",
      "Sigma: 0.16600000000000006\n",
      "Mean Squared Error (MSE):              480070513688864.5000000000\n",
      "Root Mean Squared Error (RMSE):        21910511.4885267913\n",
      "Mean Absolute Error (MAE):             15177954.1215837914\n",
      "R-squared (R²):                        0.4520756187\n",
      "Mean Absolute Percentage Error (MAPE): 0.2704929539\n",
      "Max Error (ME):                        110870759.2161154151\n",
      "Median Absolute Error (MedAE):         11181451.8375625722\n",
      "--- 0.07059431076049805 seconds ---\n",
      "Sigma: 0.16700000000000007\n",
      "Mean Squared Error (MSE):              482132912432672.9375000000\n",
      "Root Mean Squared Error (RMSE):        21957525.1891617551\n",
      "Mean Absolute Error (MAE):             15219311.8369963430\n",
      "R-squared (R²):                        0.4497217175\n",
      "Mean Absolute Percentage Error (MAPE): 0.2713463117\n",
      "Max Error (ME):                        111056547.4056235701\n",
      "Median Absolute Error (MedAE):         11212282.2767567374\n",
      "--- 0.06807923316955566 seconds ---\n",
      "Sigma: 0.16800000000000007\n",
      "Mean Squared Error (MSE):              484201423190409.8125000000\n",
      "Root Mean Squared Error (RMSE):        22004577.3236026913\n",
      "Mean Absolute Error (MAE):             15260604.5147350077\n",
      "R-squared (R²):                        0.4473608405\n",
      "Mean Absolute Percentage Error (MAPE): 0.2721962310\n",
      "Max Error (ME):                        111240393.1226222366\n",
      "Median Absolute Error (MedAE):         11242895.3835384138\n",
      "--- 0.06645727157592773 seconds ---\n",
      "Sigma: 0.16900000000000007\n",
      "Mean Squared Error (MSE):              486275617490859.5000000000\n",
      "Root Mean Squared Error (RMSE):        22051657.9306604415\n",
      "Mean Absolute Error (MAE):             15301540.6225933656\n",
      "R-squared (R²):                        0.4449934765\n",
      "Mean Absolute Percentage Error (MAPE): 0.2730382690\n",
      "Max Error (ME):                        111422303.0812274963\n",
      "Median Absolute Error (MedAE):         11273293.6412906721\n",
      "--- 0.06594586372375488 seconds ---\n",
      "Sigma: 0.17000000000000007\n",
      "Mean Squared Error (MSE):              488355047055722.6250000000\n",
      "Root Mean Squared Error (RMSE):        22098756.6857441701\n",
      "Mean Absolute Error (MAE):             15342119.3257387374\n",
      "R-squared (R²):                        0.4426201373\n",
      "Mean Absolute Percentage Error (MAPE): 0.2738724793\n",
      "Max Error (ME):                        111602284.8175422102\n",
      "Median Absolute Error (MedAE):         11303479.4595906101\n",
      "--- 0.0659794807434082 seconds ---\n",
      "Sigma: 0.17100000000000007\n",
      "Mean Squared Error (MSE):              490439245148180.1250000000\n",
      "Root Mean Squared Error (RMSE):        22145862.9352793582\n",
      "Mean Absolute Error (MAE):             15382339.8740331940\n",
      "R-squared (R²):                        0.4402413556\n",
      "Mean Absolute Percentage Error (MAPE): 0.2746989159\n",
      "Max Error (ME):                        111780346.6430056542\n",
      "Median Absolute Error (MedAE):         11208207.4150972404\n",
      "--- 0.06753015518188477 seconds ---\n",
      "Sigma: 0.17200000000000007\n",
      "Mean Squared Error (MSE):              492527728197987.8750000000\n",
      "Root Mean Squared Error (RMSE):        22192965.7368723005\n",
      "Mean Absolute Error (MAE):             15422201.6181244664\n",
      "R-squared (R²):                        0.4378576833\n",
      "Mean Absolute Percentage Error (MAPE): 0.2755176326\n",
      "Max Error (ME):                        111956497.5993080139\n",
      "Median Absolute Error (MedAE):         11220635.5819605067\n",
      "--- 0.0657660961151123 seconds ---\n",
      "Sigma: 0.17300000000000007\n",
      "Mean Squared Error (MSE):              494619997660580.9375000000\n",
      "Root Mean Squared Error (RMSE):        22240053.9041743539\n",
      "Mean Absolute Error (MAE):             15461956.1993963365\n",
      "R-squared (R²):                        0.4354696894\n",
      "Mean Absolute Percentage Error (MAPE): 0.2763306496\n",
      "Max Error (ME):                        112130747.4148449600\n",
      "Median Absolute Error (MedAE):         11303905.6868048422\n",
      "--- 0.06743192672729492 seconds ---\n",
      "Sigma: 0.17400000000000007\n",
      "Mean Squared Error (MSE):              496715542065623.7500000000\n",
      "Root Mean Squared Error (RMSE):        22287116.0553720742\n",
      "Mean Absolute Error (MAE):             15503594.8726857975\n",
      "R-squared (R²):                        0.4330779577\n",
      "Mean Absolute Percentage Error (MAPE): 0.2771535474\n",
      "Max Error (ME):                        112303106.4626867622\n",
      "Median Absolute Error (MedAE):         11316651.8359147012\n",
      "--- 0.0658864974975586 seconds ---\n",
      "Sigma: 0.17500000000000007\n",
      "Mean Squared Error (MSE):              498813839209628.0625000000\n",
      "Root Mean Squared Error (RMSE):        22334140.6642303579\n",
      "Mean Absolute Error (MAE):             15544875.2690515406\n",
      "R-squared (R²):                        0.4306830842\n",
      "Mean Absolute Percentage Error (MAPE): 0.2779689028\n",
      "Max Error (ME):                        112473585.7200381458\n",
      "Median Absolute Error (MedAE):         11311926.4081368148\n",
      "--- 0.06594133377075195 seconds ---\n",
      "Sigma: 0.17600000000000007\n",
      "Mean Squared Error (MSE):              500914358447611.2500000000\n",
      "Root Mean Squared Error (RMSE):        22381116.1126430705\n",
      "Mean Absolute Error (MAE):             15585850.9555757232\n",
      "R-squared (R²):                        0.4282856745\n",
      "Mean Absolute Percentage Error (MAPE): 0.2787776034\n",
      "Max Error (ME):                        112642196.7291638702\n",
      "Median Absolute Error (MedAE):         11327474.9934214540\n",
      "--- 0.06607913970947266 seconds ---\n",
      "Sigma: 0.17700000000000007\n",
      "Mean Squared Error (MSE):              503016563040167.6250000000\n",
      "Root Mean Squared Error (RMSE):        22428030.7436958812\n",
      "Mean Absolute Error (MAE):             15626629.4802671336\n",
      "R-squared (R²):                        0.4258863413\n",
      "Mean Absolute Percentage Error (MAPE): 0.2795813689\n",
      "Max Error (ME):                        112808951.5597556680\n",
      "Median Absolute Error (MedAE):         11355313.5497943684\n",
      "--- 0.06587624549865723 seconds ---\n",
      "Sigma: 0.17800000000000007\n",
      "Mean Squared Error (MSE):              505119912514660.2500000000\n",
      "Root Mean Squared Error (RMSE):        22474872.9143161178\n",
      "Mean Absolute Error (MAE):             15667045.9288325459\n",
      "R-squared (R²):                        0.4234857013\n",
      "Mean Absolute Percentage Error (MAPE): 0.2803777095\n",
      "Max Error (ME):                        112973862.7727150917\n",
      "Median Absolute Error (MedAE):         11336262.2359187268\n",
      "--- 0.06744599342346191 seconds ---\n",
      "Sigma: 0.17900000000000008\n",
      "Mean Squared Error (MSE):              507223865002341.6250000000\n",
      "Root Mean Squared Error (RMSE):        22521631.0466702580\n",
      "Mean Absolute Error (MAE):             15707245.2918304075\n",
      "R-squared (R²):                        0.4210843731\n",
      "Mean Absolute Percentage Error (MAPE): 0.2811689587\n",
      "Max Error (ME):                        113136943.3853268772\n",
      "Median Absolute Error (MedAE):         11362179.6130588911\n",
      "--- 0.0654747486114502 seconds ---\n",
      "Sigma: 0.18000000000000008\n",
      "Mean Squared Error (MSE):              509327879516919.3125000000\n",
      "Root Mean Squared Error (RMSE):        22568293.6775671914\n",
      "Mean Absolute Error (MAE):             15747109.0887082536\n",
      "R-squared (R²):                        0.4186829741\n",
      "Mean Absolute Percentage Error (MAPE): 0.2819533075\n",
      "Max Error (ME):                        113298206.8377961963\n",
      "Median Absolute Error (MedAE):         11399623.2111335583\n",
      "--- 0.06601858139038086 seconds ---\n",
      "Sigma: 0.18100000000000008\n",
      "Mean Squared Error (MSE):              511431418144240.0000000000\n",
      "Root Mean Squared Error (RMSE):        22614849.5052308477\n",
      "Mean Absolute Error (MAE):             15786609.0162363816\n",
      "R-squared (R²):                        0.4162821182\n",
      "Mean Absolute Percentage Error (MAPE): 0.2827303621\n",
      "Max Error (ME):                        113457666.9611227363\n",
      "Median Absolute Error (MedAE):         11444973.7543608546\n",
      "--- 0.06527233123779297 seconds ---\n",
      "Sigma: 0.18200000000000008\n",
      "Mean Squared Error (MSE):              513533948117198.4375000000\n",
      "Root Mean Squared Error (RMSE):        22661287.4329151586\n",
      "Mean Absolute Error (MAE):             15825820.8289094865\n",
      "R-squared (R²):                        0.4138824136\n",
      "Mean Absolute Percentage Error (MAPE): 0.2835013430\n",
      "Max Error (ME):                        113615337.9462842792\n",
      "Median Absolute Error (MedAE):         11502222.9954597466\n",
      "--- 0.06567978858947754 seconds ---\n",
      "Sigma: 0.18300000000000008\n",
      "Mean Squared Error (MSE):              515634943754533.5625000000\n",
      "Root Mean Squared Error (RMSE):        22707596.6089441888\n",
      "Mean Absolute Error (MAE):             15864804.4406989533\n",
      "R-squared (R²):                        0.4114844602\n",
      "Mean Absolute Percentage Error (MAPE): 0.2842672237\n",
      "Max Error (ME):                        113771234.3147005439\n",
      "Median Absolute Error (MedAE):         11569527.4119810648\n",
      "--- 0.06397628784179688 seconds ---\n",
      "Sigma: 0.18400000000000008\n",
      "Mean Squared Error (MSE):              517733888246731.8750000000\n",
      "Root Mean Squared Error (RMSE):        22753766.4628678970\n",
      "Mean Absolute Error (MAE):             15903423.0986244418\n",
      "R-squared (R²):                        0.4090888478\n",
      "Mean Absolute Percentage Error (MAPE): 0.2850259345\n",
      "Max Error (ME):                        113925370.8899492025\n",
      "Median Absolute Error (MedAE):         11636315.1307408474\n",
      "--- 0.0628044605255127 seconds ---\n",
      "Sigma: 0.18500000000000008\n",
      "Mean Squared Error (MSE):              519830275276668.3750000000\n",
      "Root Mean Squared Error (RMSE):        22799786.7375260405\n",
      "Mean Absolute Error (MAE):             15941677.7392311171\n",
      "R-squared (R²):                        0.4066961544\n",
      "Mean Absolute Percentage Error (MAPE): 0.2857775329\n",
      "Max Error (ME):                        114077762.7707033604\n",
      "Median Absolute Error (MedAE):         11702586.9829336777\n",
      "--- 0.0670921802520752 seconds ---\n",
      "Sigma: 0.18600000000000008\n",
      "Mean Squared Error (MSE):              521923610466805.6250000000\n",
      "Root Mean Squared Error (RMSE):        22845647.5169080198\n",
      "Mean Absolute Error (MAE):             15979569.4552076366\n",
      "R-squared (R²):                        0.4043069441\n",
      "Mean Absolute Percentage Error (MAPE): 0.2865220768\n",
      "Max Error (ME):                        114228425.3048610091\n",
      "Median Absolute Error (MedAE):         11768343.8078586794\n",
      "--- 0.06680059432983398 seconds ---\n",
      "Sigma: 0.18700000000000008\n",
      "Mean Squared Error (MSE):              524013412648645.4375000000\n",
      "Root Mean Squared Error (RMSE):        22891339.2497827746\n",
      "Mean Absolute Error (MAE):             16017099.4913589507\n",
      "R-squared (R²):                        0.4019217663\n",
      "Mean Absolute Percentage Error (MAPE): 0.2872596249\n",
      "Max Error (ME):                        114377374.0648351014\n",
      "Median Absolute Error (MedAE):         11762321.0976066142\n",
      "--- 0.06200289726257324 seconds ---\n",
      "Sigma: 0.18800000000000008\n",
      "Mean Squared Error (MSE):              526099214953628.6250000000\n",
      "Root Mean Squared Error (RMSE):        22936852.7691492289\n",
      "Mean Absolute Error (MAE):             16054269.2398688104\n",
      "R-squared (R²):                        0.3995411536\n",
      "Mean Absolute Percentage Error (MAPE): 0.2879902359\n",
      "Max Error (ME):                        114524624.8239735514\n",
      "Median Absolute Error (MedAE):         11786293.9224490821\n",
      "--- 0.061959028244018555 seconds ---\n",
      "Sigma: 0.18900000000000008\n",
      "Mean Squared Error (MSE):              528180565727770.1250000000\n",
      "Root Mean Squared Error (RMSE):        22982179.3076237701\n",
      "Mean Absolute Error (MAE):             16091080.2349659484\n",
      "R-squared (R²):                        0.3971656217\n",
      "Mean Absolute Percentage Error (MAPE): 0.2887139692\n",
      "Max Error (ME):                        114670193.5340775251\n",
      "Median Absolute Error (MedAE):         11783106.4161947519\n",
      "--- 0.06435966491699219 seconds ---\n",
      "Sigma: 0.19000000000000009\n",
      "Mean Squared Error (MSE):              530257029274983.0625000000\n",
      "Root Mean Squared Error (RMSE):        23027310.5089366250\n",
      "Mean Absolute Error (MAE):             16127534.1471026018\n",
      "R-squared (R²):                        0.3947956677\n",
      "Mean Absolute Percentage Error (MAPE): 0.2894308844\n",
      "Max Error (ME):                        114814096.3039860129\n",
      "Median Absolute Error (MedAE):         11823562.2543974631\n",
      "--- 0.06241893768310547 seconds ---\n",
      "Sigma: 0.1910000000000001\n",
      "Mean Squared Error (MSE):              532328186436256.8125000000\n",
      "Root Mean Squared Error (RMSE):        23072238.4357534051\n",
      "Mean Absolute Error (MAE):             16163632.7767474391\n",
      "R-squared (R²):                        0.3924317702\n",
      "Mean Absolute Percentage Error (MAPE): 0.2901410417\n",
      "Max Error (ME):                        114956349.3791953772\n",
      "Median Absolute Error (MedAE):         11850958.6166490428\n",
      "--- 0.06214022636413574 seconds ---\n",
      "Sigma: 0.1920000000000001\n",
      "Mean Squared Error (MSE):              534393635013657.0000000000\n",
      "Root Mean Squared Error (RMSE):        23116955.5740728341\n",
      "Mean Absolute Error (MAE):             16199415.0566784292\n",
      "R-squared (R²):                        0.3900743881\n",
      "Mean Absolute Percentage Error (MAPE): 0.2908452429\n",
      "Max Error (ME):                        115096969.1224812865\n",
      "Median Absolute Error (MedAE):         11878085.7509103082\n",
      "--- 0.0631864070892334 seconds ---\n",
      "Sigma: 0.1930000000000001\n",
      "Mean Squared Error (MSE):              536452990049492.2500000000\n",
      "Root Mean Squared Error (RMSE):        23161454.8344764449\n",
      "Mean Absolute Error (MAE):             16235215.5167993549\n",
      "R-squared (R²):                        0.3877239608\n",
      "Mean Absolute Percentage Error (MAPE): 0.2915502103\n",
      "Max Error (ME):                        115235971.9954917729\n",
      "Median Absolute Error (MedAE):         11925784.3207568228\n",
      "--- 0.06328654289245605 seconds ---\n",
      "Sigma: 0.1940000000000001\n",
      "Mean Squared Error (MSE):              538505883971986.0625000000\n",
      "Root Mean Squared Error (RMSE):        23205729.5505223460\n",
      "Mean Absolute Error (MAE):             16270663.9751780201\n",
      "R-squared (R²):                        0.3853809079\n",
      "Mean Absolute Percentage Error (MAPE): 0.2922485448\n",
      "Max Error (ME):                        115373374.5412789285\n",
      "Median Absolute Error (MedAE):         11950074.3256566115\n",
      "--- 0.06241154670715332 seconds ---\n",
      "Sigma: 0.1950000000000001\n",
      "Mean Squared Error (MSE):              540551966619451.3125000000\n",
      "Root Mean Squared Error (RMSE):        23249773.4745836034\n",
      "Mean Absolute Error (MAE):             16306890.8457214106\n",
      "R-squared (R²):                        0.3830456289\n",
      "Mean Absolute Percentage Error (MAPE): 0.2929504689\n",
      "Max Error (ME):                        115509193.3677379787\n",
      "Median Absolute Error (MedAE):         11943417.1977299675\n",
      "--- 0.061981201171875 seconds ---\n",
      "Sigma: 0.1960000000000001\n",
      "Mean Squared Error (MSE):              542590905155288.5625000000\n",
      "Root Mean Squared Error (RMSE):        23293580.7714333311\n",
      "Mean Absolute Error (MAE):             16344158.3129321299\n",
      "R-squared (R²):                        0.3807185038\n",
      "Mean Absolute Percentage Error (MAPE): 0.2936569630\n",
      "Max Error (ME):                        115643445.1319221705\n",
      "Median Absolute Error (MedAE):         11954650.0808947012\n",
      "--- 0.061937570571899414 seconds ---\n",
      "Sigma: 0.1970000000000001\n",
      "Mean Squared Error (MSE):              544622383886199.6875000000\n",
      "Root Mean Squared Error (RMSE):        23337146.0098744668\n",
      "Mean Absolute Error (MAE):             16381078.2479428705\n",
      "R-squared (R²):                        0.3783998929\n",
      "Mean Absolute Percentage Error (MAPE): 0.2943569694\n",
      "Max Error (ME):                        115776146.5252022445\n",
      "Median Absolute Error (MedAE):         12028543.1280833632\n",
      "--- 0.06256461143493652 seconds ---\n",
      "Sigma: 0.1980000000000001\n",
      "Mean Squared Error (MSE):              546646103995839.3125000000\n",
      "Root Mean Squared Error (RMSE):        23380464.1527031995\n",
      "Mean Absolute Error (MAE):             16417652.9292628225\n",
      "R-squared (R²):                        0.3760901373\n",
      "Mean Absolute Percentage Error (MAPE): 0.2950505474\n",
      "Max Error (ME):                        115907314.2592398673\n",
      "Median Absolute Error (MedAE):         12068867.7142386585\n",
      "--- 0.061990976333618164 seconds ---\n",
      "Sigma: 0.1990000000000001\n",
      "Mean Squared Error (MSE):              548661783205761.5000000000\n",
      "Root Mean Squared Error (RMSE):        23423530.5452820547\n",
      "Mean Absolute Error (MAE):             16453884.6944409180\n",
      "R-squared (R²):                        0.3737895590\n",
      "Mean Absolute Percentage Error (MAPE): 0.2957377564\n",
      "Max Error (ME):                        116036965.0527445972\n",
      "Median Absolute Error (MedAE):         12081514.8975520283\n"
     ]
    }
   ],
   "source": [
    "for s in np.arange(0.1, 0.2, 0.001):\n",
    "    grnn = GRNN(sigma=s)\n",
    "    start_time = time.time()\n",
    "    predictions = np.apply_along_axis(lambda i: grnn.predict(i, X_train, y_train), axis=1, arr=X_test)\n",
    "    print(\"--- %s seconds ---\" % (time.time() - start_time))\n",
    "    print(\"Sigma: \" + str(s))\n",
    "    print_metrics(y_test, predictions)\n"
   ],
   "metadata": {
    "collapsed": false,
    "ExecuteTime": {
     "end_time": "2023-11-21T07:56:58.018466893Z",
     "start_time": "2023-11-21T07:56:48.643055451Z"
    }
   },
   "id": "a09435d09cb850a1"
  },
  {
   "cell_type": "markdown",
   "source": [
    "<h3> Stochastic Gradient Descent Regressor </h3>"
   ],
   "metadata": {
    "collapsed": false
   },
   "id": "3c769544255aad8a"
  },
  {
   "cell_type": "code",
   "execution_count": 19,
   "outputs": [
    {
     "name": "stdout",
     "output_type": "stream",
     "text": [
      "Training time: 0.0245 seconds\n"
     ]
    }
   ],
   "source": [
    "from sklearn.linear_model import SGDRegressor\n",
    "sgd_model = SGDRegressor(loss = 'squared_epsilon_insensitive', alpha=0.0001)\n",
    "\n",
    "start_time = time.time()\n",
    "sgd_model.fit(X_train, y_train)\n",
    "print(f'Training time: {time.time() - start_time:.4f} seconds')"
   ],
   "metadata": {
    "collapsed": false,
    "ExecuteTime": {
     "end_time": "2023-11-21T07:57:03.198323401Z",
     "start_time": "2023-11-21T07:57:03.168161804Z"
    }
   },
   "id": "a05171a70a52063c"
  },
  {
   "cell_type": "code",
   "execution_count": 20,
   "outputs": [
    {
     "name": "stdout",
     "output_type": "stream",
     "text": [
      "SGD Regressor: train\n",
      "Mean Squared Error (MSE):              347574546809830.8750000000\n",
      "Root Mean Squared Error (RMSE):        18643351.2762547843\n",
      "Mean Absolute Error (MAE):             12064391.6081677433\n",
      "R-squared (R²):                        0.6657716549\n",
      "Mean Absolute Percentage Error (MAPE): 0.1830664702\n",
      "Max Error (ME):                        145452818.9827950299\n",
      "Median Absolute Error (MedAE):         8339011.5785366036\n",
      "\n",
      "SGD Regressor: test\n",
      "Mean Squared Error (MSE):              316440323505250.7500000000\n",
      "Root Mean Squared Error (RMSE):        17788769.5894137323\n",
      "Mean Absolute Error (MAE):             11831042.6757712793\n",
      "R-squared (R²):                        0.6388335390\n",
      "Mean Absolute Percentage Error (MAPE): 0.1828673806\n",
      "Max Error (ME):                        86339046.5070112199\n",
      "Median Absolute Error (MedAE):         8305768.6651903018\n"
     ]
    }
   ],
   "source": [
    "print(\"SGD Regressor: train\")\n",
    "y_pred = sgd_model.predict(X_train)\n",
    "print_metrics(y_train, y_pred)\n",
    "print()\n",
    "print(\"SGD Regressor: test\")\n",
    "y_pred = sgd_model.predict(X_test)\n",
    "print_metrics(y_test, y_pred)"
   ],
   "metadata": {
    "collapsed": false,
    "ExecuteTime": {
     "end_time": "2023-11-21T07:57:04.571772111Z",
     "start_time": "2023-11-21T07:57:04.470517910Z"
    }
   },
   "id": "44e24783b6460104"
  },
  {
   "cell_type": "markdown",
   "source": [
    "<h2> ADA Boost regressor </h2>"
   ],
   "metadata": {
    "collapsed": false
   },
   "id": "db5c4f4c65c681f0"
  },
  {
   "cell_type": "code",
   "execution_count": 21,
   "outputs": [
    {
     "name": "stdout",
     "output_type": "stream",
     "text": [
      "Training time: 1.5837 seconds\n"
     ]
    }
   ],
   "source": [
    "from sklearn.tree import DecisionTreeRegressor\n",
    "from sklearn.ensemble import AdaBoostRegressor\n",
    "\n",
    "adaboost_model = AdaBoostRegressor(DecisionTreeRegressor(max_depth=4), n_estimators=300)\n",
    "\n",
    "start_time = time.time()\n",
    "adaboost_model.fit(X_train, y_train)\n",
    "print(f'Training time: {time.time() - start_time:.4f} seconds')"
   ],
   "metadata": {
    "collapsed": false,
    "ExecuteTime": {
     "end_time": "2023-11-21T07:57:09.666895365Z",
     "start_time": "2023-11-21T07:57:08.082889298Z"
    }
   },
   "id": "4d532a1047207c50"
  },
  {
   "cell_type": "code",
   "execution_count": 22,
   "outputs": [
    {
     "name": "stdout",
     "output_type": "stream",
     "text": [
      "ADA boost Regressor: train\n",
      "Mean Squared Error (MSE):              643843013123232.1250000000\n",
      "Root Mean Squared Error (RMSE):        25374061.8175969645\n",
      "Mean Absolute Error (MAE):             24117471.1434448846\n",
      "R-squared (R²):                        0.3808793343\n",
      "Mean Absolute Percentage Error (MAPE): 0.4927792407\n",
      "Max Error (ME):                        41224816.3911699653\n",
      "Median Absolute Error (MedAE):         24789485.3830614649\n",
      "\n",
      "ADA boost Regressor: test\n",
      "Mean Squared Error (MSE):              708385647296607.2500000000\n",
      "Root Mean Squared Error (RMSE):        26615515.1612101495\n",
      "Mean Absolute Error (MAE):             24691319.1150060892\n",
      "R-squared (R²):                        0.1914900907\n",
      "Mean Absolute Percentage Error (MAPE): 0.4926240075\n",
      "Max Error (ME):                        69512914.6366032362\n",
      "Median Absolute Error (MedAE):         24975810.3324383497\n"
     ]
    }
   ],
   "source": [
    "print(\"ADA boost Regressor: train\")\n",
    "y_pred = adaboost_model.predict(X_train)\n",
    "print_metrics(y_train, y_pred)\n",
    "print()\n",
    "print(\"ADA boost Regressor: test\")\n",
    "y_pred = adaboost_model.predict(X_test)\n",
    "print_metrics(y_test, y_pred)"
   ],
   "metadata": {
    "collapsed": false,
    "ExecuteTime": {
     "end_time": "2023-11-21T07:57:11.121665038Z",
     "start_time": "2023-11-21T07:57:10.938822911Z"
    }
   },
   "id": "90da06996e0c4dd4"
  },
  {
   "cell_type": "markdown",
   "source": [
    "<h2> Multi-layer Perceptron regressor </h2>"
   ],
   "metadata": {
    "collapsed": false
   },
   "id": "7a972510760f1397"
  },
  {
   "cell_type": "code",
   "execution_count": 23,
   "outputs": [
    {
     "name": "stdout",
     "output_type": "stream",
     "text": [
      "Training time: 40.9760 seconds\n"
     ]
    }
   ],
   "source": [
    "from sklearn.neural_network import MLPRegressor\n",
    "mlp_model = MLPRegressor(hidden_layer_sizes=(100, 40, 20), activation='relu', solver='adam', alpha=0.0001, batch_size='auto', max_iter=5000)\n",
    "\n",
    "start_time = time.time()\n",
    "mlp_model.fit(X_train, y_train)\n",
    "print(f'Training time: {time.time() - start_time:.4f} seconds')"
   ],
   "metadata": {
    "collapsed": false,
    "ExecuteTime": {
     "end_time": "2023-11-21T07:58:00.296204663Z",
     "start_time": "2023-11-21T07:57:19.227818595Z"
    }
   },
   "id": "b876b0e0276dd7c5"
  },
  {
   "cell_type": "code",
   "execution_count": 24,
   "outputs": [
    {
     "name": "stdout",
     "output_type": "stream",
     "text": [
      "MLP Regressor: train\n",
      "Mean Squared Error (MSE):              349674061318709.7500000000\n",
      "Root Mean Squared Error (RMSE):        18699573.8271948248\n",
      "Mean Absolute Error (MAE):             12120453.0837837476\n",
      "R-squared (R²):                        0.6637527577\n",
      "Mean Absolute Percentage Error (MAPE): 0.1847223796\n",
      "Max Error (ME):                        134486991.6777173579\n",
      "Median Absolute Error (MedAE):         8231825.0095479600\n",
      "\n",
      "MLP Regressor: test\n",
      "Mean Squared Error (MSE):              331489759326637.1250000000\n",
      "Root Mean Squared Error (RMSE):        18206860.2270308286\n",
      "Mean Absolute Error (MAE):             12137855.7792671733\n",
      "R-squared (R²):                        0.6216569939\n",
      "Mean Absolute Percentage Error (MAPE): 0.1868182982\n",
      "Max Error (ME):                        86724272.8301086426\n",
      "Median Absolute Error (MedAE):         8600631.0255973153\n"
     ]
    }
   ],
   "source": [
    "print(\"MLP Regressor: train\")\n",
    "y_pred = mlp_model.predict(X_train)\n",
    "print_metrics(y_train, y_pred)\n",
    "print()\n",
    "print(\"MLP Regressor: test\")\n",
    "y_pred = mlp_model.predict(X_test)\n",
    "print_metrics(y_test, y_pred)"
   ],
   "metadata": {
    "collapsed": false,
    "ExecuteTime": {
     "end_time": "2023-11-21T07:58:02.938708957Z",
     "start_time": "2023-11-21T07:58:02.858860073Z"
    }
   },
   "id": "add4c3e77be0f392"
  },
  {
   "cell_type": "code",
   "execution_count": null,
   "outputs": [],
   "source": [],
   "metadata": {
    "collapsed": false
   },
   "id": "5dccd79cdf87ed66"
  }
 ],
 "metadata": {
  "kernelspec": {
   "display_name": "Python 3",
   "language": "python",
   "name": "python3"
  },
  "language_info": {
   "codemirror_mode": {
    "name": "ipython",
    "version": 2
   },
   "file_extension": ".py",
   "mimetype": "text/x-python",
   "name": "python",
   "nbconvert_exporter": "python",
   "pygments_lexer": "ipython2",
   "version": "2.7.6"
  }
 },
 "nbformat": 4,
 "nbformat_minor": 5
}
