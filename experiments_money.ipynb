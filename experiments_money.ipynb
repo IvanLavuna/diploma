{
 "cells": [
  {
   "cell_type": "markdown",
   "source": [
    "<p> Regression experiments on all dataset, where Environment is filtered </p>"
   ],
   "metadata": {
    "collapsed": false
   },
   "id": "66913e3a0c5d152b"
  },
  {
   "cell_type": "code",
   "execution_count": 1,
   "id": "initial_id",
   "metadata": {
    "collapsed": true,
    "ExecuteTime": {
     "end_time": "2023-11-20T15:02:06.971355823Z",
     "start_time": "2023-11-20T15:02:05.009460916Z"
    }
   },
   "outputs": [
    {
     "name": "stderr",
     "output_type": "stream",
     "text": [
      "2023-11-20 17:02:05.262852: I external/local_tsl/tsl/cuda/cudart_stub.cc:31] Could not find cuda drivers on your machine, GPU will not be used.\n",
      "2023-11-20 17:02:05.296331: E external/local_xla/xla/stream_executor/cuda/cuda_dnn.cc:9261] Unable to register cuDNN factory: Attempting to register factory for plugin cuDNN when one has already been registered\n",
      "2023-11-20 17:02:05.296368: E external/local_xla/xla/stream_executor/cuda/cuda_fft.cc:607] Unable to register cuFFT factory: Attempting to register factory for plugin cuFFT when one has already been registered\n",
      "2023-11-20 17:02:05.297117: E external/local_xla/xla/stream_executor/cuda/cuda_blas.cc:1515] Unable to register cuBLAS factory: Attempting to register factory for plugin cuBLAS when one has already been registered\n",
      "2023-11-20 17:02:05.302343: I external/local_tsl/tsl/cuda/cudart_stub.cc:31] Could not find cuda drivers on your machine, GPU will not be used.\n",
      "2023-11-20 17:02:05.302807: I tensorflow/core/platform/cpu_feature_guard.cc:182] This TensorFlow binary is optimized to use available CPU instructions in performance-critical operations.\n",
      "To enable the following instructions: AVX2 FMA, in other operations, rebuild TensorFlow with the appropriate compiler flags.\n",
      "2023-11-20 17:02:06.008034: W tensorflow/compiler/tf2tensorrt/utils/py_utils.cc:38] TF-TRT Warning: Could not find TensorRT\n"
     ]
    }
   ],
   "source": [
    "import keras\n",
    "import pandas as pd\n",
    "import numpy as np\n",
    "from sklearn.model_selection import train_test_split\n",
    "from sklearn.metrics import mean_squared_error, r2_score, mean_absolute_percentage_error, max_error, median_absolute_error, mean_absolute_error\n",
    "from sklearn.metrics import mean_squared_error\n",
    "import time\n"
   ]
  },
  {
   "cell_type": "code",
   "execution_count": 2,
   "outputs": [],
   "source": [
    "df = pd.read_csv('data/dataMoney.csv')"
   ],
   "metadata": {
    "collapsed": false,
    "ExecuteTime": {
     "end_time": "2023-11-20T15:02:13.159436188Z",
     "start_time": "2023-11-20T15:02:13.140395035Z"
    }
   },
   "id": "7cfa4c49dd9d5e57"
  },
  {
   "cell_type": "code",
   "execution_count": 3,
   "outputs": [
    {
     "data": {
      "text/plain": "(2020, 15)"
     },
     "execution_count": 3,
     "metadata": {},
     "output_type": "execute_result"
    }
   ],
   "source": [
    "df.shape"
   ],
   "metadata": {
    "collapsed": false,
    "ExecuteTime": {
     "end_time": "2023-11-20T15:02:27.823803237Z",
     "start_time": "2023-11-20T15:02:27.789876548Z"
    }
   },
   "id": "6e62b45d6968e55a"
  },
  {
   "cell_type": "code",
   "execution_count": 4,
   "outputs": [
    {
     "data": {
      "text/plain": "   max_discharge_sum_r1  max_discharge_sum_r2_1  max_discharge_sum_r2_2  \\\n0            443.457856             1658.236820             1658.442362   \n1            525.178784             1658.659798             1658.659798   \n2            525.178784             1658.659798             1658.659798   \n3            528.794113             1659.966169             1660.085687   \n4            523.393056             1660.295347             1660.307923   \n\n   max_discharge_sum_r3  flood_sum_r1  flood_sum_r2_1  flood_sum_r2_2  \\\n0            924.207396   7704.283023    30959.150563    19494.507734   \n1            376.518772   8042.074336    30948.775455    19495.723976   \n2            376.518772   8042.074336    30948.775455    19495.723976   \n3            376.518762   8056.793807    30980.988568    19504.576908   \n4            379.856164   8055.296723    30984.114890    19505.358354   \n\n   flood_sum_r3  HW_inund_uncertainty  bridge_scour_uncertainty  \\\n0  18060.945333              1.237179                  1.066024   \n1  12105.892278              0.805171                  0.920064   \n2  12105.892278              0.895325                  1.052411   \n3  12106.087505              0.748587                  0.955364   \n4  12140.315910              0.965187                  0.831900   \n\n   travel_demand_uncertainty  restoration_capacity_uncertainty     dir_costs  \\\n0                   1.178643                                 7  2.396527e+07   \n1                   1.189389                                 5  2.156163e+07   \n2                   0.782405                                 5  2.187945e+07   \n3                   1.143878                                 6  2.195877e+07   \n4                   1.344699                                 6  2.236592e+07   \n\n   lost_trips_costs_s_r  traffic_costs_s_r  \n0          3.771578e+07       1.346267e+07  \n1          3.629843e+07       1.427793e+07  \n2          2.450664e+07      -6.527196e+06  \n3          3.199478e+07       1.273019e+07  \n4          3.822993e+07       2.754356e+07  ",
      "text/html": "<div>\n<style scoped>\n    .dataframe tbody tr th:only-of-type {\n        vertical-align: middle;\n    }\n\n    .dataframe tbody tr th {\n        vertical-align: top;\n    }\n\n    .dataframe thead th {\n        text-align: right;\n    }\n</style>\n<table border=\"1\" class=\"dataframe\">\n  <thead>\n    <tr style=\"text-align: right;\">\n      <th></th>\n      <th>max_discharge_sum_r1</th>\n      <th>max_discharge_sum_r2_1</th>\n      <th>max_discharge_sum_r2_2</th>\n      <th>max_discharge_sum_r3</th>\n      <th>flood_sum_r1</th>\n      <th>flood_sum_r2_1</th>\n      <th>flood_sum_r2_2</th>\n      <th>flood_sum_r3</th>\n      <th>HW_inund_uncertainty</th>\n      <th>bridge_scour_uncertainty</th>\n      <th>travel_demand_uncertainty</th>\n      <th>restoration_capacity_uncertainty</th>\n      <th>dir_costs</th>\n      <th>lost_trips_costs_s_r</th>\n      <th>traffic_costs_s_r</th>\n    </tr>\n  </thead>\n  <tbody>\n    <tr>\n      <th>0</th>\n      <td>443.457856</td>\n      <td>1658.236820</td>\n      <td>1658.442362</td>\n      <td>924.207396</td>\n      <td>7704.283023</td>\n      <td>30959.150563</td>\n      <td>19494.507734</td>\n      <td>18060.945333</td>\n      <td>1.237179</td>\n      <td>1.066024</td>\n      <td>1.178643</td>\n      <td>7</td>\n      <td>2.396527e+07</td>\n      <td>3.771578e+07</td>\n      <td>1.346267e+07</td>\n    </tr>\n    <tr>\n      <th>1</th>\n      <td>525.178784</td>\n      <td>1658.659798</td>\n      <td>1658.659798</td>\n      <td>376.518772</td>\n      <td>8042.074336</td>\n      <td>30948.775455</td>\n      <td>19495.723976</td>\n      <td>12105.892278</td>\n      <td>0.805171</td>\n      <td>0.920064</td>\n      <td>1.189389</td>\n      <td>5</td>\n      <td>2.156163e+07</td>\n      <td>3.629843e+07</td>\n      <td>1.427793e+07</td>\n    </tr>\n    <tr>\n      <th>2</th>\n      <td>525.178784</td>\n      <td>1658.659798</td>\n      <td>1658.659798</td>\n      <td>376.518772</td>\n      <td>8042.074336</td>\n      <td>30948.775455</td>\n      <td>19495.723976</td>\n      <td>12105.892278</td>\n      <td>0.895325</td>\n      <td>1.052411</td>\n      <td>0.782405</td>\n      <td>5</td>\n      <td>2.187945e+07</td>\n      <td>2.450664e+07</td>\n      <td>-6.527196e+06</td>\n    </tr>\n    <tr>\n      <th>3</th>\n      <td>528.794113</td>\n      <td>1659.966169</td>\n      <td>1660.085687</td>\n      <td>376.518762</td>\n      <td>8056.793807</td>\n      <td>30980.988568</td>\n      <td>19504.576908</td>\n      <td>12106.087505</td>\n      <td>0.748587</td>\n      <td>0.955364</td>\n      <td>1.143878</td>\n      <td>6</td>\n      <td>2.195877e+07</td>\n      <td>3.199478e+07</td>\n      <td>1.273019e+07</td>\n    </tr>\n    <tr>\n      <th>4</th>\n      <td>523.393056</td>\n      <td>1660.295347</td>\n      <td>1660.307923</td>\n      <td>379.856164</td>\n      <td>8055.296723</td>\n      <td>30984.114890</td>\n      <td>19505.358354</td>\n      <td>12140.315910</td>\n      <td>0.965187</td>\n      <td>0.831900</td>\n      <td>1.344699</td>\n      <td>6</td>\n      <td>2.236592e+07</td>\n      <td>3.822993e+07</td>\n      <td>2.754356e+07</td>\n    </tr>\n  </tbody>\n</table>\n</div>"
     },
     "execution_count": 4,
     "metadata": {},
     "output_type": "execute_result"
    }
   ],
   "source": [
    "df.head()"
   ],
   "metadata": {
    "collapsed": false,
    "ExecuteTime": {
     "end_time": "2023-11-20T15:02:28.798098961Z",
     "start_time": "2023-11-20T15:02:28.731963046Z"
    }
   },
   "id": "8ca2f0cd3fcec329"
  },
  {
   "cell_type": "code",
   "execution_count": 157,
   "outputs": [
    {
     "data": {
      "text/plain": "        class_Benign  class_Low  class_Severe  class_moderate\n0               True      False         False           False\n1               True      False         False           False\n2               True      False         False           False\n3               True      False         False           False\n4               True      False         False           False\n...              ...        ...           ...             ...\n113095         False      False          True           False\n113096         False      False          True           False\n113097         False      False          True           False\n113098         False      False          True           False\n113099         False      False          True           False\n\n[113100 rows x 4 columns]",
      "text/html": "<div>\n<style scoped>\n    .dataframe tbody tr th:only-of-type {\n        vertical-align: middle;\n    }\n\n    .dataframe tbody tr th {\n        vertical-align: top;\n    }\n\n    .dataframe thead th {\n        text-align: right;\n    }\n</style>\n<table border=\"1\" class=\"dataframe\">\n  <thead>\n    <tr style=\"text-align: right;\">\n      <th></th>\n      <th>class_Benign</th>\n      <th>class_Low</th>\n      <th>class_Severe</th>\n      <th>class_moderate</th>\n    </tr>\n  </thead>\n  <tbody>\n    <tr>\n      <th>0</th>\n      <td>True</td>\n      <td>False</td>\n      <td>False</td>\n      <td>False</td>\n    </tr>\n    <tr>\n      <th>1</th>\n      <td>True</td>\n      <td>False</td>\n      <td>False</td>\n      <td>False</td>\n    </tr>\n    <tr>\n      <th>2</th>\n      <td>True</td>\n      <td>False</td>\n      <td>False</td>\n      <td>False</td>\n    </tr>\n    <tr>\n      <th>3</th>\n      <td>True</td>\n      <td>False</td>\n      <td>False</td>\n      <td>False</td>\n    </tr>\n    <tr>\n      <th>4</th>\n      <td>True</td>\n      <td>False</td>\n      <td>False</td>\n      <td>False</td>\n    </tr>\n    <tr>\n      <th>...</th>\n      <td>...</td>\n      <td>...</td>\n      <td>...</td>\n      <td>...</td>\n    </tr>\n    <tr>\n      <th>113095</th>\n      <td>False</td>\n      <td>False</td>\n      <td>True</td>\n      <td>False</td>\n    </tr>\n    <tr>\n      <th>113096</th>\n      <td>False</td>\n      <td>False</td>\n      <td>True</td>\n      <td>False</td>\n    </tr>\n    <tr>\n      <th>113097</th>\n      <td>False</td>\n      <td>False</td>\n      <td>True</td>\n      <td>False</td>\n    </tr>\n    <tr>\n      <th>113098</th>\n      <td>False</td>\n      <td>False</td>\n      <td>True</td>\n      <td>False</td>\n    </tr>\n    <tr>\n      <th>113099</th>\n      <td>False</td>\n      <td>False</td>\n      <td>True</td>\n      <td>False</td>\n    </tr>\n  </tbody>\n</table>\n<p>113100 rows × 4 columns</p>\n</div>"
     },
     "execution_count": 157,
     "metadata": {},
     "output_type": "execute_result"
    }
   ],
   "source": [
    "dummy_columns = pd.get_dummies(df['Environment'], prefix='class')\n",
    "dummy_columns"
   ],
   "metadata": {
    "collapsed": false,
    "ExecuteTime": {
     "end_time": "2023-11-20T13:46:58.289982307Z",
     "start_time": "2023-11-20T13:46:58.233776718Z"
    }
   },
   "id": "a2565f37aebfd776"
  },
  {
   "cell_type": "code",
   "execution_count": 158,
   "outputs": [
    {
     "data": {
      "text/plain": "   Unnamed: 0  Day   SC  Age Environment  Span_number  h_NoDamage   h_Minor  \\\n0           0    1  0.0   20      Benign            1     0.96478  0.002324   \n1           1    2  0.0   20      Benign            1     0.96478  0.002324   \n2           2    3  0.0   20      Benign            1     0.96478  0.002324   \n3           3    4  0.0   20      Benign            1     0.96478  0.002324   \n4           4    5  0.0   20      Benign            1     0.96478  0.002324   \n\n   h_Moderate  h_Extensive  h_Severe  Res_Minor  Res_moderate  Res_extensive  \\\n0    0.003064     0.003209  0.026623    0.90173        0.7126        0.39687   \n1    0.003064     0.003209  0.026623    0.90173        0.7126        0.39687   \n2    0.003064     0.003209  0.026623    0.90173        0.7126        0.39687   \n3    0.003064     0.003209  0.026623    0.90173        0.7126        0.39687   \n4    0.003064     0.003209  0.026623    0.90173        0.7126        0.39687   \n\n   Res_Severe  Resilience  class_Benign  class_Low  class_Severe  \\\n0     0.11078     0.97344          True      False         False   \n1     0.11078     0.97340          True      False         False   \n2     0.11078     0.97337          True      False         False   \n3     0.11078     0.97334          True      False         False   \n4     0.11078     0.97332          True      False         False   \n\n   class_moderate  \n0           False  \n1           False  \n2           False  \n3           False  \n4           False  ",
      "text/html": "<div>\n<style scoped>\n    .dataframe tbody tr th:only-of-type {\n        vertical-align: middle;\n    }\n\n    .dataframe tbody tr th {\n        vertical-align: top;\n    }\n\n    .dataframe thead th {\n        text-align: right;\n    }\n</style>\n<table border=\"1\" class=\"dataframe\">\n  <thead>\n    <tr style=\"text-align: right;\">\n      <th></th>\n      <th>Unnamed: 0</th>\n      <th>Day</th>\n      <th>SC</th>\n      <th>Age</th>\n      <th>Environment</th>\n      <th>Span_number</th>\n      <th>h_NoDamage</th>\n      <th>h_Minor</th>\n      <th>h_Moderate</th>\n      <th>h_Extensive</th>\n      <th>h_Severe</th>\n      <th>Res_Minor</th>\n      <th>Res_moderate</th>\n      <th>Res_extensive</th>\n      <th>Res_Severe</th>\n      <th>Resilience</th>\n      <th>class_Benign</th>\n      <th>class_Low</th>\n      <th>class_Severe</th>\n      <th>class_moderate</th>\n    </tr>\n  </thead>\n  <tbody>\n    <tr>\n      <th>0</th>\n      <td>0</td>\n      <td>1</td>\n      <td>0.0</td>\n      <td>20</td>\n      <td>Benign</td>\n      <td>1</td>\n      <td>0.96478</td>\n      <td>0.002324</td>\n      <td>0.003064</td>\n      <td>0.003209</td>\n      <td>0.026623</td>\n      <td>0.90173</td>\n      <td>0.7126</td>\n      <td>0.39687</td>\n      <td>0.11078</td>\n      <td>0.97344</td>\n      <td>True</td>\n      <td>False</td>\n      <td>False</td>\n      <td>False</td>\n    </tr>\n    <tr>\n      <th>1</th>\n      <td>1</td>\n      <td>2</td>\n      <td>0.0</td>\n      <td>20</td>\n      <td>Benign</td>\n      <td>1</td>\n      <td>0.96478</td>\n      <td>0.002324</td>\n      <td>0.003064</td>\n      <td>0.003209</td>\n      <td>0.026623</td>\n      <td>0.90173</td>\n      <td>0.7126</td>\n      <td>0.39687</td>\n      <td>0.11078</td>\n      <td>0.97340</td>\n      <td>True</td>\n      <td>False</td>\n      <td>False</td>\n      <td>False</td>\n    </tr>\n    <tr>\n      <th>2</th>\n      <td>2</td>\n      <td>3</td>\n      <td>0.0</td>\n      <td>20</td>\n      <td>Benign</td>\n      <td>1</td>\n      <td>0.96478</td>\n      <td>0.002324</td>\n      <td>0.003064</td>\n      <td>0.003209</td>\n      <td>0.026623</td>\n      <td>0.90173</td>\n      <td>0.7126</td>\n      <td>0.39687</td>\n      <td>0.11078</td>\n      <td>0.97337</td>\n      <td>True</td>\n      <td>False</td>\n      <td>False</td>\n      <td>False</td>\n    </tr>\n    <tr>\n      <th>3</th>\n      <td>3</td>\n      <td>4</td>\n      <td>0.0</td>\n      <td>20</td>\n      <td>Benign</td>\n      <td>1</td>\n      <td>0.96478</td>\n      <td>0.002324</td>\n      <td>0.003064</td>\n      <td>0.003209</td>\n      <td>0.026623</td>\n      <td>0.90173</td>\n      <td>0.7126</td>\n      <td>0.39687</td>\n      <td>0.11078</td>\n      <td>0.97334</td>\n      <td>True</td>\n      <td>False</td>\n      <td>False</td>\n      <td>False</td>\n    </tr>\n    <tr>\n      <th>4</th>\n      <td>4</td>\n      <td>5</td>\n      <td>0.0</td>\n      <td>20</td>\n      <td>Benign</td>\n      <td>1</td>\n      <td>0.96478</td>\n      <td>0.002324</td>\n      <td>0.003064</td>\n      <td>0.003209</td>\n      <td>0.026623</td>\n      <td>0.90173</td>\n      <td>0.7126</td>\n      <td>0.39687</td>\n      <td>0.11078</td>\n      <td>0.97332</td>\n      <td>True</td>\n      <td>False</td>\n      <td>False</td>\n      <td>False</td>\n    </tr>\n  </tbody>\n</table>\n</div>"
     },
     "execution_count": 158,
     "metadata": {},
     "output_type": "execute_result"
    }
   ],
   "source": [
    "df = pd.concat([df, dummy_columns], axis=1)\n",
    "df.head()"
   ],
   "metadata": {
    "collapsed": false,
    "ExecuteTime": {
     "end_time": "2023-11-20T13:47:13.438156986Z",
     "start_time": "2023-11-20T13:47:13.408130330Z"
    }
   },
   "id": "fd4a9c553c61eef4"
  },
  {
   "cell_type": "code",
   "execution_count": 159,
   "outputs": [],
   "source": [
    "df = df.drop(\"Environment\", axis=1)"
   ],
   "metadata": {
    "collapsed": false,
    "ExecuteTime": {
     "end_time": "2023-11-20T13:47:52.339177205Z",
     "start_time": "2023-11-20T13:47:52.305805750Z"
    }
   },
   "id": "d3d84f63807ed7b1"
  },
  {
   "cell_type": "code",
   "execution_count": 160,
   "outputs": [
    {
     "data": {
      "text/plain": "   Unnamed: 0  Day   SC  Age  Span_number  h_NoDamage   h_Minor  h_Moderate  \\\n0           0    1  0.0   20            1     0.96478  0.002324    0.003064   \n1           1    2  0.0   20            1     0.96478  0.002324    0.003064   \n2           2    3  0.0   20            1     0.96478  0.002324    0.003064   \n3           3    4  0.0   20            1     0.96478  0.002324    0.003064   \n4           4    5  0.0   20            1     0.96478  0.002324    0.003064   \n\n   h_Extensive  h_Severe  Res_Minor  Res_moderate  Res_extensive  Res_Severe  \\\n0     0.003209  0.026623    0.90173        0.7126        0.39687     0.11078   \n1     0.003209  0.026623    0.90173        0.7126        0.39687     0.11078   \n2     0.003209  0.026623    0.90173        0.7126        0.39687     0.11078   \n3     0.003209  0.026623    0.90173        0.7126        0.39687     0.11078   \n4     0.003209  0.026623    0.90173        0.7126        0.39687     0.11078   \n\n   Resilience  class_Benign  class_Low  class_Severe  class_moderate  \n0     0.97344          True      False         False           False  \n1     0.97340          True      False         False           False  \n2     0.97337          True      False         False           False  \n3     0.97334          True      False         False           False  \n4     0.97332          True      False         False           False  ",
      "text/html": "<div>\n<style scoped>\n    .dataframe tbody tr th:only-of-type {\n        vertical-align: middle;\n    }\n\n    .dataframe tbody tr th {\n        vertical-align: top;\n    }\n\n    .dataframe thead th {\n        text-align: right;\n    }\n</style>\n<table border=\"1\" class=\"dataframe\">\n  <thead>\n    <tr style=\"text-align: right;\">\n      <th></th>\n      <th>Unnamed: 0</th>\n      <th>Day</th>\n      <th>SC</th>\n      <th>Age</th>\n      <th>Span_number</th>\n      <th>h_NoDamage</th>\n      <th>h_Minor</th>\n      <th>h_Moderate</th>\n      <th>h_Extensive</th>\n      <th>h_Severe</th>\n      <th>Res_Minor</th>\n      <th>Res_moderate</th>\n      <th>Res_extensive</th>\n      <th>Res_Severe</th>\n      <th>Resilience</th>\n      <th>class_Benign</th>\n      <th>class_Low</th>\n      <th>class_Severe</th>\n      <th>class_moderate</th>\n    </tr>\n  </thead>\n  <tbody>\n    <tr>\n      <th>0</th>\n      <td>0</td>\n      <td>1</td>\n      <td>0.0</td>\n      <td>20</td>\n      <td>1</td>\n      <td>0.96478</td>\n      <td>0.002324</td>\n      <td>0.003064</td>\n      <td>0.003209</td>\n      <td>0.026623</td>\n      <td>0.90173</td>\n      <td>0.7126</td>\n      <td>0.39687</td>\n      <td>0.11078</td>\n      <td>0.97344</td>\n      <td>True</td>\n      <td>False</td>\n      <td>False</td>\n      <td>False</td>\n    </tr>\n    <tr>\n      <th>1</th>\n      <td>1</td>\n      <td>2</td>\n      <td>0.0</td>\n      <td>20</td>\n      <td>1</td>\n      <td>0.96478</td>\n      <td>0.002324</td>\n      <td>0.003064</td>\n      <td>0.003209</td>\n      <td>0.026623</td>\n      <td>0.90173</td>\n      <td>0.7126</td>\n      <td>0.39687</td>\n      <td>0.11078</td>\n      <td>0.97340</td>\n      <td>True</td>\n      <td>False</td>\n      <td>False</td>\n      <td>False</td>\n    </tr>\n    <tr>\n      <th>2</th>\n      <td>2</td>\n      <td>3</td>\n      <td>0.0</td>\n      <td>20</td>\n      <td>1</td>\n      <td>0.96478</td>\n      <td>0.002324</td>\n      <td>0.003064</td>\n      <td>0.003209</td>\n      <td>0.026623</td>\n      <td>0.90173</td>\n      <td>0.7126</td>\n      <td>0.39687</td>\n      <td>0.11078</td>\n      <td>0.97337</td>\n      <td>True</td>\n      <td>False</td>\n      <td>False</td>\n      <td>False</td>\n    </tr>\n    <tr>\n      <th>3</th>\n      <td>3</td>\n      <td>4</td>\n      <td>0.0</td>\n      <td>20</td>\n      <td>1</td>\n      <td>0.96478</td>\n      <td>0.002324</td>\n      <td>0.003064</td>\n      <td>0.003209</td>\n      <td>0.026623</td>\n      <td>0.90173</td>\n      <td>0.7126</td>\n      <td>0.39687</td>\n      <td>0.11078</td>\n      <td>0.97334</td>\n      <td>True</td>\n      <td>False</td>\n      <td>False</td>\n      <td>False</td>\n    </tr>\n    <tr>\n      <th>4</th>\n      <td>4</td>\n      <td>5</td>\n      <td>0.0</td>\n      <td>20</td>\n      <td>1</td>\n      <td>0.96478</td>\n      <td>0.002324</td>\n      <td>0.003064</td>\n      <td>0.003209</td>\n      <td>0.026623</td>\n      <td>0.90173</td>\n      <td>0.7126</td>\n      <td>0.39687</td>\n      <td>0.11078</td>\n      <td>0.97332</td>\n      <td>True</td>\n      <td>False</td>\n      <td>False</td>\n      <td>False</td>\n    </tr>\n  </tbody>\n</table>\n</div>"
     },
     "execution_count": 160,
     "metadata": {},
     "output_type": "execute_result"
    }
   ],
   "source": [
    "df.head()"
   ],
   "metadata": {
    "collapsed": false,
    "ExecuteTime": {
     "end_time": "2023-11-20T13:48:01.939421618Z",
     "start_time": "2023-11-20T13:48:01.898458294Z"
    }
   },
   "id": "3134f5aa929e7a99"
  },
  {
   "cell_type": "code",
   "execution_count": 161,
   "outputs": [],
   "source": [
    "X = df.drop('Resilience', axis=1)\n",
    "y = df['Resilience']"
   ],
   "metadata": {
    "collapsed": false,
    "ExecuteTime": {
     "end_time": "2023-11-20T13:48:14.636954398Z",
     "start_time": "2023-11-20T13:48:14.613315872Z"
    }
   },
   "id": "96ec7b53f9dc27d0"
  },
  {
   "cell_type": "code",
   "execution_count": 162,
   "outputs": [],
   "source": [
    "X_train, X_test, y_train, y_test = train_test_split(X, y, test_size=0.2, random_state=42)"
   ],
   "metadata": {
    "collapsed": false,
    "ExecuteTime": {
     "end_time": "2023-11-20T13:48:15.165170128Z",
     "start_time": "2023-11-20T13:48:15.138213372Z"
    }
   },
   "id": "267f21abad240de3"
  },
  {
   "cell_type": "code",
   "execution_count": 163,
   "outputs": [],
   "source": [
    "from sklearn.preprocessing import MaxAbsScaler\n",
    "\n",
    "scaler = MaxAbsScaler()\n",
    "scaler.fit(X_train)\n",
    "X_train = scaler.transform(X_train)\n",
    "X_test = scaler.transform(X_test)"
   ],
   "metadata": {
    "collapsed": false,
    "ExecuteTime": {
     "end_time": "2023-11-20T13:48:15.659720987Z",
     "start_time": "2023-11-20T13:48:15.581169598Z"
    }
   },
   "id": "3006ac5e98f8dcbf"
  },
  {
   "cell_type": "code",
   "execution_count": 164,
   "outputs": [],
   "source": [
    "from sklearn.metrics import mean_absolute_error\n",
    "from numpy import sqrt\n",
    "\n",
    "def print_metrics(y_true, y_pred):\n",
    "    mse = mean_squared_error(y_true, y_pred)\n",
    "    print(f'Mean Squared Error (MSE):              {mse:.10f}')\n",
    "    \n",
    "    rmse = sqrt(mse)\n",
    "    print(f'Root Mean Squared Error (RMSE):        {rmse:.10f}')\n",
    "    \n",
    "    mae = mean_absolute_error(y_true, y_pred)\n",
    "    print(f'Mean Absolute Error (MAE):             {mae:.10f}')\n",
    "    \n",
    "    r2 = r2_score(y_true, y_pred)\n",
    "    print(f'R-squared (R²):                        {r2:.10f}')\n",
    "    \n",
    "    mape = mean_absolute_percentage_error(y_true, y_pred)\n",
    "    print(f'Mean Absolute Percentage Error (MAPE): {mape:.10f}')    \n",
    "    \n",
    "    me = max_error(y_true, y_pred)\n",
    "    print(f'Max Error (ME):                        {me:.10f}')    \n",
    "    \n",
    "    med_ae = median_absolute_error(y_true, y_pred)\n",
    "    print(f'Median Absolute Error (MedAE):         {med_ae:.10f}')    "
   ],
   "metadata": {
    "collapsed": false,
    "ExecuteTime": {
     "end_time": "2023-11-20T13:48:17.337716158Z",
     "start_time": "2023-11-20T13:48:17.299743595Z"
    }
   },
   "id": "290c382df940670a"
  },
  {
   "cell_type": "markdown",
   "source": [
    "<h2> Random Forest </h2>"
   ],
   "metadata": {
    "collapsed": false
   },
   "id": "60142cfffd09597e"
  },
  {
   "cell_type": "code",
   "execution_count": 165,
   "outputs": [
    {
     "name": "stdout",
     "output_type": "stream",
     "text": [
      "Training time: 1.9523 seconds\n"
     ]
    }
   ],
   "source": [
    "from sklearn.ensemble import RandomForestRegressor\n",
    "\n",
    "rf_model = RandomForestRegressor(n_estimators=5, random_state=0)\n",
    "start_time = time.time()\n",
    "rf_model.fit(X_train, y_train)\n",
    "print(f'Training time: {time.time() - start_time:.4f} seconds')"
   ],
   "metadata": {
    "collapsed": false,
    "ExecuteTime": {
     "end_time": "2023-11-20T13:48:20.942665628Z",
     "start_time": "2023-11-20T13:48:18.987618785Z"
    }
   },
   "id": "2aafeabe258e6137"
  },
  {
   "cell_type": "code",
   "execution_count": 166,
   "outputs": [
    {
     "name": "stdout",
     "output_type": "stream",
     "text": [
      "Random Forest: train\n",
      "Mean Squared Error (MSE):              0.0000001644\n",
      "Root Mean Squared Error (RMSE):        0.0004054561\n",
      "Mean Absolute Error (MAE):             0.0001081598\n",
      "R-squared (R²):                        0.9999964703\n",
      "Mean Absolute Percentage Error (MAPE): 0.0003215164\n",
      "Max Error (ME):                        0.0134300000\n",
      "Median Absolute Error (MedAE):         0.0000000000\n",
      "\n",
      "Random Forest: test\n",
      "Mean Squared Error (MSE):              0.0000006667\n",
      "Root Mean Squared Error (RMSE):        0.0008165427\n",
      "Mean Absolute Error (MAE):             0.0002391688\n",
      "R-squared (R²):                        0.9999859015\n",
      "Mean Absolute Percentage Error (MAPE): 0.0007077370\n",
      "Max Error (ME):                        0.0164000000\n",
      "Median Absolute Error (MedAE):         0.0000120000\n"
     ]
    }
   ],
   "source": [
    "print(\"Random Forest: train\")\n",
    "y_pred = rf_model.predict(X_train)\n",
    "print_metrics(y_train, y_pred)\n",
    "print()\n",
    "print(\"Random Forest: test\")\n",
    "y_pred = rf_model.predict(X_test)\n",
    "print_metrics(y_test, y_pred)\n"
   ],
   "metadata": {
    "collapsed": false,
    "ExecuteTime": {
     "end_time": "2023-11-20T13:48:22.290260355Z",
     "start_time": "2023-11-20T13:48:22.157545402Z"
    }
   },
   "id": "686cea723afd8319"
  },
  {
   "cell_type": "markdown",
   "source": [
    "<h2> Support vector regression </h2>"
   ],
   "metadata": {
    "collapsed": false
   },
   "id": "1f9600d2277295b1"
  },
  {
   "cell_type": "code",
   "execution_count": 167,
   "outputs": [
    {
     "name": "stdout",
     "output_type": "stream",
     "text": [
      "Training time: 515.4814 seconds\n"
     ]
    }
   ],
   "source": [
    "from sklearn.svm import SVR\n",
    "svr_model = SVR(kernel='rbf', gamma='auto', coef0=0.0, epsilon=0.001, max_iter=-1)\n",
    "start_time = time.time()\n",
    "svr_model.fit(X_train, y_train)\n",
    "print(f'Training time: {time.time() - start_time:.4f} seconds')"
   ],
   "metadata": {
    "collapsed": false,
    "ExecuteTime": {
     "end_time": "2023-11-20T13:57:02.544170786Z",
     "start_time": "2023-11-20T13:48:26.997157976Z"
    }
   },
   "id": "8d0e661b491435d6"
  },
  {
   "cell_type": "code",
   "execution_count": 168,
   "outputs": [
    {
     "name": "stdout",
     "output_type": "stream",
     "text": [
      "SVR: train\n",
      "Mean Squared Error (MSE):              0.0000030513\n",
      "Root Mean Squared Error (RMSE):        0.0017467999\n",
      "Mean Absolute Error (MAE):             0.0007848737\n",
      "R-squared (R²):                        0.9999344854\n",
      "Mean Absolute Percentage Error (MAPE): 0.0035837985\n",
      "Max Error (ME):                        0.0208464315\n",
      "Median Absolute Error (MedAE):         0.0005822975\n",
      "\n",
      "SVR: test\n",
      "Mean Squared Error (MSE):              0.0000031979\n",
      "Root Mean Squared Error (RMSE):        0.0017882743\n",
      "Mean Absolute Error (MAE):             0.0007917225\n",
      "R-squared (R²):                        0.9999323785\n",
      "Mean Absolute Percentage Error (MAPE): 0.0035885071\n",
      "Max Error (ME):                        0.0202485132\n",
      "Median Absolute Error (MedAE):         0.0005790361\n"
     ]
    }
   ],
   "source": [
    "print(\"SVR: train\")\n",
    "y_pred = svr_model.predict(X_train)\n",
    "print_metrics(y_train, y_pred)\n",
    "print()\n",
    "print(\"SVR: test\")\n",
    "y_pred = svr_model.predict(X_test)\n",
    "print_metrics(y_test, y_pred)"
   ],
   "metadata": {
    "collapsed": false,
    "ExecuteTime": {
     "end_time": "2023-11-20T13:57:50.503086278Z",
     "start_time": "2023-11-20T13:57:02.518754778Z"
    }
   },
   "id": "e15d916b6b99bda1"
  },
  {
   "cell_type": "markdown",
   "source": [
    "<h2> Ridge regression </h2>"
   ],
   "metadata": {
    "collapsed": false
   },
   "id": "4115f162b18ffdaa"
  },
  {
   "cell_type": "code",
   "execution_count": 169,
   "outputs": [
    {
     "name": "stdout",
     "output_type": "stream",
     "text": [
      "Training time: 0.0104 seconds\n"
     ]
    }
   ],
   "source": [
    "from sklearn.linear_model import Ridge, Lasso\n",
    "\n",
    "ridge_model = Ridge(alpha=1.0)  # alpha - regularization strength\n",
    "start_time = time.time()\n",
    "ridge_model.fit(X_train, y_train)\n",
    "print(f'Training time: {time.time() - start_time:.4f} seconds')\n"
   ],
   "metadata": {
    "collapsed": false,
    "ExecuteTime": {
     "end_time": "2023-11-20T13:57:50.512443362Z",
     "start_time": "2023-11-20T13:57:50.498664382Z"
    }
   },
   "id": "dd78d9fcc767349d"
  },
  {
   "cell_type": "code",
   "execution_count": 170,
   "outputs": [
    {
     "name": "stdout",
     "output_type": "stream",
     "text": [
      "Ridge regression: train\n",
      "Mean Squared Error (MSE):              0.0004481467\n",
      "Root Mean Squared Error (RMSE):        0.0211694758\n",
      "Mean Absolute Error (MAE):             0.0100566151\n",
      "R-squared (R²):                        0.9903778526\n",
      "Mean Absolute Percentage Error (MAPE): 0.0331054998\n",
      "Max Error (ME):                        0.2865205758\n",
      "Median Absolute Error (MedAE):         0.0054686971\n",
      "\n",
      "Ridge regression: test\n",
      "Mean Squared Error (MSE):              0.0004642888\n",
      "Root Mean Squared Error (RMSE):        0.0215473622\n",
      "Mean Absolute Error (MAE):             0.0101664057\n",
      "R-squared (R²):                        0.9901824141\n",
      "Mean Absolute Percentage Error (MAPE): 0.0331930709\n",
      "Max Error (ME):                        0.2783343989\n",
      "Median Absolute Error (MedAE):         0.0054746698\n"
     ]
    }
   ],
   "source": [
    "print(\"Ridge regression: train\")\n",
    "y_pred = ridge_model.predict(X_train)\n",
    "print_metrics(y_train, y_pred)\n",
    "print()\n",
    "print(\"Ridge regression: test\")\n",
    "y_pred = ridge_model.predict(X_test)\n",
    "print_metrics(y_test, y_pred)"
   ],
   "metadata": {
    "collapsed": false,
    "ExecuteTime": {
     "end_time": "2023-11-20T13:57:50.574624561Z",
     "start_time": "2023-11-20T13:57:50.514450069Z"
    }
   },
   "id": "1ce27ea9ecf61a0"
  },
  {
   "cell_type": "markdown",
   "source": [
    "<h2> Lasso regression </h2>"
   ],
   "metadata": {
    "collapsed": false
   },
   "id": "6b6e155eb4201f20"
  },
  {
   "cell_type": "code",
   "execution_count": 171,
   "outputs": [
    {
     "name": "stdout",
     "output_type": "stream",
     "text": [
      "Training time: 0.0228 seconds\n"
     ]
    }
   ],
   "source": [
    "# Ridge Regression\n",
    "lasso_model = Lasso(alpha=1.0)  # You can adjust the regularization strength (alpha) as needed\n",
    "start_time = time.time()\n",
    "lasso_model.fit(X_train, y_train)\n",
    "print(f'Training time: {time.time() - start_time:.4f} seconds')"
   ],
   "metadata": {
    "collapsed": false,
    "ExecuteTime": {
     "end_time": "2023-11-20T13:57:50.627466610Z",
     "start_time": "2023-11-20T13:57:50.555577965Z"
    }
   },
   "id": "2154504043fa76a8"
  },
  {
   "cell_type": "code",
   "execution_count": 172,
   "outputs": [
    {
     "name": "stdout",
     "output_type": "stream",
     "text": [
      "Lasso regression: train\n",
      "Mean Squared Error (MSE):              0.0465745003\n",
      "Root Mean Squared Error (RMSE):        0.2158112609\n",
      "Mean Absolute Error (MAE):             0.1727905913\n",
      "R-squared (R²):                        0.0000000000\n",
      "Mean Absolute Percentage Error (MAPE): 0.8063239324\n",
      "Max Error (ME):                        0.7069192772\n",
      "Median Absolute Error (MedAE):         0.1529420178\n",
      "\n",
      "Lasso regression: test\n",
      "Mean Squared Error (MSE):              0.0472922164\n",
      "Root Mean Squared Error (RMSE):        0.2174677364\n",
      "Mean Absolute Error (MAE):             0.1738668237\n",
      "R-squared (R²):                        -0.0000141682\n",
      "Mean Absolute Percentage Error (MAPE): 0.8074512839\n",
      "Max Error (ME):                        0.7058285852\n",
      "Median Absolute Error (MedAE):         0.1527520178\n"
     ]
    }
   ],
   "source": [
    "print(\"Lasso regression: train\")\n",
    "y_pred = lasso_model.predict(X_train)\n",
    "print_metrics(y_train, y_pred)\n",
    "print()\n",
    "print(\"Lasso regression: test\")\n",
    "y_pred = lasso_model.predict(X_test)\n",
    "print_metrics(y_test, y_pred)"
   ],
   "metadata": {
    "collapsed": false,
    "ExecuteTime": {
     "end_time": "2023-11-20T13:57:50.627734718Z",
     "start_time": "2023-11-20T13:57:50.597573802Z"
    }
   },
   "id": "6245abcf553868e5"
  },
  {
   "cell_type": "markdown",
   "source": [
    "<h2> GRNN </h2>"
   ],
   "metadata": {
    "collapsed": false
   },
   "id": "ce72d3755b265c62"
  },
  {
   "cell_type": "code",
   "execution_count": 173,
   "outputs": [],
   "source": [
    "import math\n",
    "from sklearn.base import BaseEstimator, ClassifierMixin\n",
    "\n",
    "\n",
    "class GRNN(BaseEstimator, ClassifierMixin):\n",
    "    def __init__(self, name = \"GRNN\", sigma = 0.1):\n",
    "        self.name = name\n",
    "        self.sigma = 2 * np.power(sigma, 2)\n",
    "        \n",
    "    def predict(self, instance_X, train_X, train_y):\n",
    "        gausian_distances = np.exp(-np.power(np.sqrt((np.square(train_X-instance_X).sum(axis=1))),2)\\\n",
    "                                   / self.sigma)\n",
    "        gausian_distances_sum = gausian_distances.sum()\n",
    "        if gausian_distances_sum < math.pow(10, -7): gausian_distances_sum = math.pow(10, -7)\n",
    "        result = np.multiply(gausian_distances, train_y).sum() / gausian_distances_sum\n",
    "        return result"
   ],
   "metadata": {
    "collapsed": false,
    "ExecuteTime": {
     "end_time": "2023-11-20T13:57:50.640423696Z",
     "start_time": "2023-11-20T13:57:50.607789911Z"
    }
   },
   "id": "c07ccfbb0f5064b5"
  },
  {
   "cell_type": "code",
   "execution_count": 174,
   "outputs": [
    {
     "name": "stdout",
     "output_type": "stream",
     "text": [
      "--- 148.09039282798767 seconds ---\n",
      "Sigma: 0.1\n",
      "Mean Squared Error (MSE):              0.0000441910\n",
      "Root Mean Squared Error (RMSE):        0.0066476275\n",
      "Mean Absolute Error (MAE):             0.0033268987\n",
      "R-squared (R²):                        0.9990655634\n",
      "Mean Absolute Percentage Error (MAPE): 0.0137217325\n",
      "Max Error (ME):                        0.0691675092\n",
      "Median Absolute Error (MedAE):         0.0017165052\n",
      "--- 145.92745304107666 seconds ---\n",
      "Sigma: 0.15000000000000002\n",
      "Mean Squared Error (MSE):              0.0001184921\n",
      "Root Mean Squared Error (RMSE):        0.0108854072\n",
      "Mean Absolute Error (MAE):             0.0065991450\n",
      "R-squared (R²):                        0.9974944340\n",
      "Mean Absolute Percentage Error (MAPE): 0.0248563229\n",
      "Max Error (ME):                        0.0880888281\n",
      "Median Absolute Error (MedAE):         0.0033085863\n",
      "--- 142.58426213264465 seconds ---\n",
      "Sigma: 0.20000000000000004\n",
      "Mean Squared Error (MSE):              0.0003374758\n",
      "Root Mean Squared Error (RMSE):        0.0183705136\n",
      "Mean Absolute Error (MAE):             0.0117530952\n",
      "R-squared (R²):                        0.9928639303\n",
      "Mean Absolute Percentage Error (MAPE): 0.0420160999\n",
      "Max Error (ME):                        0.1185410801\n",
      "Median Absolute Error (MedAE):         0.0055219098\n",
      "--- 140.98981499671936 seconds ---\n",
      "Sigma: 0.25000000000000006\n",
      "Mean Squared Error (MSE):              0.0007172051\n",
      "Root Mean Squared Error (RMSE):        0.0267806851\n",
      "Mean Absolute Error (MAE):             0.0175093400\n",
      "R-squared (R²):                        0.9848343911\n",
      "Mean Absolute Percentage Error (MAPE): 0.0616491833\n",
      "Max Error (ME):                        0.1472005722\n",
      "Median Absolute Error (MedAE):         0.0080274428\n",
      "--- 141.04907131195068 seconds ---\n",
      "Sigma: 0.30000000000000004\n",
      "Mean Squared Error (MSE):              0.0012709984\n",
      "Root Mean Squared Error (RMSE):        0.0356510640\n",
      "Mean Absolute Error (MAE):             0.0238261029\n",
      "R-squared (R²):                        0.9731241953\n",
      "Mean Absolute Percentage Error (MAPE): 0.0827011001\n",
      "Max Error (ME):                        0.1755858663\n",
      "Median Absolute Error (MedAE):         0.0111753059\n",
      "--- 139.98942279815674 seconds ---\n",
      "Sigma: 0.3500000000000001\n",
      "Mean Squared Error (MSE):              0.0020603504\n",
      "Root Mean Squared Error (RMSE):        0.0453910827\n",
      "Mean Absolute Error (MAE):             0.0305165113\n",
      "R-squared (R²):                        0.9564330087\n",
      "Mean Absolute Percentage Error (MAPE): 0.1048734425\n",
      "Max Error (ME):                        0.2026588540\n",
      "Median Absolute Error (MedAE):         0.0141389520\n",
      "--- 139.7232551574707 seconds ---\n",
      "Sigma: 0.40000000000000013\n",
      "Mean Squared Error (MSE):              0.0032593289\n",
      "Root Mean Squared Error (RMSE):        0.0570905329\n",
      "Mean Absolute Error (MAE):             0.0390883365\n",
      "R-squared (R²):                        0.9310800937\n",
      "Mean Absolute Percentage Error (MAPE): 0.1313668093\n",
      "Max Error (ME):                        0.2305602755\n",
      "Median Absolute Error (MedAE):         0.0193804330\n",
      "--- 139.05237650871277 seconds ---\n",
      "Sigma: 0.45000000000000007\n",
      "Mean Squared Error (MSE):              0.0050943050\n",
      "Root Mean Squared Error (RMSE):        0.0713744001\n",
      "Mean Absolute Error (MAE):             0.0492218001\n",
      "R-squared (R²):                        0.8922787392\n",
      "Mean Absolute Percentage Error (MAPE): 0.1626999063\n",
      "Max Error (ME):                        0.2644615313\n",
      "Median Absolute Error (MedAE):         0.0244933613\n"
     ]
    }
   ],
   "source": [
    "for s in np.arange(0.1, 0.5, 0.05):\n",
    "    grnn = GRNN(sigma=s)\n",
    "    start_time = time.time()\n",
    "    predictions = np.apply_along_axis(lambda i: grnn.predict(i, X_train, y_train), axis=1, arr=X_test)\n",
    "    print(\"--- %s seconds ---\" % (time.time() - start_time))\n",
    "    print(\"Sigma: \" + str(s))\n",
    "    print_metrics(y_test, predictions)\n"
   ],
   "metadata": {
    "collapsed": false,
    "ExecuteTime": {
     "end_time": "2023-11-20T14:16:48.066623469Z",
     "start_time": "2023-11-20T13:57:50.624725214Z"
    }
   },
   "id": "a09435d09cb850a1"
  },
  {
   "cell_type": "markdown",
   "source": [
    "<h3> Stochastic Gradient Descent Regressor </h3>"
   ],
   "metadata": {
    "collapsed": false
   },
   "id": "3c769544255aad8a"
  },
  {
   "cell_type": "code",
   "execution_count": 175,
   "outputs": [
    {
     "name": "stdout",
     "output_type": "stream",
     "text": [
      "Training time: 0.0873 seconds\n"
     ]
    }
   ],
   "source": [
    "from sklearn.linear_model import SGDRegressor\n",
    "sgd_model = SGDRegressor(loss = 'squared_epsilon_insensitive', alpha=0.0001)\n",
    "\n",
    "start_time = time.time()\n",
    "sgd_model.fit(X_train, y_train)\n",
    "print(f'Training time: {time.time() - start_time:.4f} seconds')"
   ],
   "metadata": {
    "collapsed": false,
    "ExecuteTime": {
     "end_time": "2023-11-20T14:16:48.154961940Z",
     "start_time": "2023-11-20T14:16:48.066304095Z"
    }
   },
   "id": "a05171a70a52063c"
  },
  {
   "cell_type": "code",
   "execution_count": 176,
   "outputs": [
    {
     "name": "stdout",
     "output_type": "stream",
     "text": [
      "SGD Regressor: train\n",
      "Mean Squared Error (MSE):              0.0034610971\n",
      "Root Mean Squared Error (RMSE):        0.0588310892\n",
      "Mean Absolute Error (MAE):             0.0505815931\n",
      "R-squared (R²):                        0.9256868665\n",
      "Mean Absolute Percentage Error (MAPE): 0.2743351882\n",
      "Max Error (ME):                        0.1679455793\n",
      "Median Absolute Error (MedAE):         0.0485520781\n",
      "\n",
      "SGD Regressor: test\n",
      "Mean Squared Error (MSE):              0.0035156530\n",
      "Root Mean Squared Error (RMSE):        0.0592929425\n",
      "Mean Absolute Error (MAE):             0.0510327721\n",
      "R-squared (R²):                        0.9256600111\n",
      "Mean Absolute Percentage Error (MAPE): 0.2757879899\n",
      "Max Error (ME):                        0.1610374807\n",
      "Median Absolute Error (MedAE):         0.0492618718\n"
     ]
    }
   ],
   "source": [
    "print(\"SGD Regressor: train\")\n",
    "y_pred = sgd_model.predict(X_train)\n",
    "print_metrics(y_train, y_pred)\n",
    "print()\n",
    "print(\"SGD Regressor: test\")\n",
    "y_pred = sgd_model.predict(X_test)\n",
    "print_metrics(y_test, y_pred)"
   ],
   "metadata": {
    "collapsed": false,
    "ExecuteTime": {
     "end_time": "2023-11-20T14:16:48.202014880Z",
     "start_time": "2023-11-20T14:16:48.159034904Z"
    }
   },
   "id": "44e24783b6460104"
  },
  {
   "cell_type": "markdown",
   "source": [
    "<h2> ADA Boost regressor </h2>"
   ],
   "metadata": {
    "collapsed": false
   },
   "id": "db5c4f4c65c681f0"
  },
  {
   "cell_type": "code",
   "execution_count": 177,
   "outputs": [
    {
     "name": "stdout",
     "output_type": "stream",
     "text": [
      "Training time: 48.6902 seconds\n"
     ]
    }
   ],
   "source": [
    "from sklearn.tree import DecisionTreeRegressor\n",
    "from sklearn.ensemble import AdaBoostRegressor\n",
    "\n",
    "adaboost_model = AdaBoostRegressor(DecisionTreeRegressor(max_depth=4), n_estimators=300)\n",
    "\n",
    "start_time = time.time()\n",
    "adaboost_model.fit(X_train, y_train)\n",
    "print(f'Training time: {time.time() - start_time:.4f} seconds')"
   ],
   "metadata": {
    "collapsed": false,
    "ExecuteTime": {
     "end_time": "2023-11-20T14:17:36.878844287Z",
     "start_time": "2023-11-20T14:16:48.200572532Z"
    }
   },
   "id": "4d532a1047207c50"
  },
  {
   "cell_type": "code",
   "execution_count": 178,
   "outputs": [
    {
     "name": "stdout",
     "output_type": "stream",
     "text": [
      "ADA boost Regressor: train\n",
      "Mean Squared Error (MSE):              0.0008641493\n",
      "Root Mean Squared Error (RMSE):        0.0293964161\n",
      "Mean Absolute Error (MAE):             0.0260216374\n",
      "R-squared (R²):                        0.9814458712\n",
      "Mean Absolute Percentage Error (MAPE): 0.1698761424\n",
      "Max Error (ME):                        0.0471583071\n",
      "Median Absolute Error (MedAE):         0.0261933874\n",
      "\n",
      "ADA boost Regressor: test\n",
      "Mean Squared Error (MSE):              0.0008638308\n",
      "Root Mean Squared Error (RMSE):        0.0293909988\n",
      "Mean Absolute Error (MAE):             0.0260340934\n",
      "R-squared (R²):                        0.9817339276\n",
      "Mean Absolute Percentage Error (MAPE): 0.1698212696\n",
      "Max Error (ME):                        0.0471583071\n",
      "Median Absolute Error (MedAE):         0.0261777066\n"
     ]
    }
   ],
   "source": [
    "print(\"ADA boost Regressor: train\")\n",
    "y_pred = adaboost_model.predict(X_train)\n",
    "print_metrics(y_train, y_pred)\n",
    "print()\n",
    "print(\"ADA boost Regressor: test\")\n",
    "y_pred = adaboost_model.predict(X_test)\n",
    "print_metrics(y_test, y_pred)"
   ],
   "metadata": {
    "collapsed": false,
    "ExecuteTime": {
     "end_time": "2023-11-20T14:17:40.014948126Z",
     "start_time": "2023-11-20T14:17:36.879144535Z"
    }
   },
   "id": "90da06996e0c4dd4"
  },
  {
   "cell_type": "markdown",
   "source": [
    "<h2> Multi-layer Perceptron regressor </h2>"
   ],
   "metadata": {
    "collapsed": false
   },
   "id": "7a972510760f1397"
  },
  {
   "cell_type": "code",
   "execution_count": 179,
   "outputs": [
    {
     "name": "stdout",
     "output_type": "stream",
     "text": [
      "Training time: 6.1206 seconds\n"
     ]
    }
   ],
   "source": [
    "from sklearn.neural_network import MLPRegressor\n",
    "mlp_model = MLPRegressor(hidden_layer_sizes=(100, 40, 20), activation='relu', solver='adam', alpha=0.0001, batch_size='auto', max_iter=200)\n",
    "\n",
    "start_time = time.time()\n",
    "mlp_model.fit(X_train, y_train)\n",
    "print(f'Training time: {time.time() - start_time:.4f} seconds')"
   ],
   "metadata": {
    "collapsed": false,
    "ExecuteTime": {
     "end_time": "2023-11-20T14:17:46.212147959Z",
     "start_time": "2023-11-20T14:17:40.017266942Z"
    }
   },
   "id": "b876b0e0276dd7c5"
  },
  {
   "cell_type": "code",
   "execution_count": 180,
   "outputs": [
    {
     "name": "stdout",
     "output_type": "stream",
     "text": [
      "MLP Regressor: train\n",
      "Mean Squared Error (MSE):              0.0000154568\n",
      "Root Mean Squared Error (RMSE):        0.0039315161\n",
      "Mean Absolute Error (MAE):             0.0029502529\n",
      "R-squared (R²):                        0.9996681270\n",
      "Mean Absolute Percentage Error (MAPE): 0.0132747500\n",
      "Max Error (ME):                        0.0337289005\n",
      "Median Absolute Error (MedAE):         0.0023646941\n",
      "\n",
      "MLP Regressor: test\n",
      "Mean Squared Error (MSE):              0.0000156744\n",
      "Root Mean Squared Error (RMSE):        0.0039590857\n",
      "Mean Absolute Error (MAE):             0.0029524289\n",
      "R-squared (R²):                        0.9996685590\n",
      "Mean Absolute Percentage Error (MAPE): 0.0132798880\n",
      "Max Error (ME):                        0.0295596231\n",
      "Median Absolute Error (MedAE):         0.0023501250\n"
     ]
    }
   ],
   "source": [
    "print(\"MLP Regressor: train\")\n",
    "y_pred = mlp_model.predict(X_train)\n",
    "print_metrics(y_train, y_pred)\n",
    "print()\n",
    "print(\"MLP Regressor: test\")\n",
    "y_pred = mlp_model.predict(X_test)\n",
    "print_metrics(y_test, y_pred)"
   ],
   "metadata": {
    "collapsed": false,
    "ExecuteTime": {
     "end_time": "2023-11-20T14:17:46.300663706Z",
     "start_time": "2023-11-20T14:17:46.162197098Z"
    }
   },
   "id": "add4c3e77be0f392"
  },
  {
   "cell_type": "code",
   "execution_count": null,
   "outputs": [],
   "source": [],
   "metadata": {
    "collapsed": false
   },
   "id": "5dccd79cdf87ed66"
  }
 ],
 "metadata": {
  "kernelspec": {
   "display_name": "Python 3",
   "language": "python",
   "name": "python3"
  },
  "language_info": {
   "codemirror_mode": {
    "name": "ipython",
    "version": 2
   },
   "file_extension": ".py",
   "mimetype": "text/x-python",
   "name": "python",
   "nbconvert_exporter": "python",
   "pygments_lexer": "ipython2",
   "version": "2.7.6"
  }
 },
 "nbformat": 4,
 "nbformat_minor": 5
}
