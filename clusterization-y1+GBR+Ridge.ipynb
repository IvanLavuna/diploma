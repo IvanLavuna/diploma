{
 "cells": [
  {
   "cell_type": "markdown",
   "source": [
    "<h1> Clusterization with y1 + GBR </h1>"
   ],
   "metadata": {
    "collapsed": false
   },
   "id": "754fde0b7ab96a9e"
  },
  {
   "cell_type": "code",
   "outputs": [],
   "source": [
    "import pandas as pd\n",
    "from sklearn.preprocessing import MaxAbsScaler\n",
    "import numpy as np\n",
    "\n",
    "# read datasets\n",
    "train_df = pd.read_csv('data/train3.csv')\n",
    "test_df = pd.read_csv('data/test3.csv')\n",
    "\n",
    "y1_name, y2_name, y3_name = \"dir_costs\", \"traffic_costs_s_r\", \"lost_trips_costs_s_r\"\n",
    "train_y1, train_y2, train_y3 = train_df[y1_name], train_df[y2_name], train_df[y3_name]\n",
    "test_y1, test_y2, test_y3 = test_df[y1_name], test_df[y2_name], test_df[y3_name]\n",
    "\n",
    "# scale features\n",
    "X_train = train_df.drop(columns=[y1_name, y2_name, y3_name])\n",
    "scaler = MaxAbsScaler()\n",
    "scaler.fit(X_train)\n",
    "X_train = scaler.transform(X_train)\n",
    "\n",
    "X_test = test_df.drop(columns=[y1_name, y2_name, y3_name])\n",
    "X_test = scaler.transform(X_test)\n",
    "\n",
    "# prepare dataset from training kmeans\n",
    "X_train_y3 = np.concatenate((X_train, train_df[y3_name].values.reshape(-1, 1)), axis=1)\n",
    "scaler_y3 = MaxAbsScaler()\n",
    "scaler_y3.fit(X_train_y3)\n",
    "X_train_y3 = scaler_y3.transform(X_train_y3)"
   ],
   "metadata": {
    "collapsed": false,
    "ExecuteTime": {
     "end_time": "2024-02-28T19:50:48.706084Z",
     "start_time": "2024-02-28T19:50:48.688424Z"
    }
   },
   "id": "9b67d9c6493eca96",
   "execution_count": 60
  },
  {
   "cell_type": "markdown",
   "source": [
    "<h1> Pick optimal number of clusters (Elbow method) </h1>\n"
   ],
   "metadata": {
    "collapsed": false
   },
   "id": "d2a0cd9b5bb524ed"
  },
  {
   "cell_type": "code",
   "outputs": [
    {
     "data": {
      "text/plain": "<Figure size 640x480 with 1 Axes>",
      "image/png": "[encoded data removed]"
     },
     "metadata": {},
     "output_type": "display_data"
    }
   ],
   "source": [
    "from sklearn.cluster import KMeans\n",
    "import matplotlib.pyplot as plt\n",
    "\n",
    "# Define a range of cluster numbers\n",
    "cluster_range = range(1, 30)\n",
    "wcss = []\n",
    "\n",
    "# Calculate WCSS for each cluster number\n",
    "for n_clusters in cluster_range:\n",
    "    kmeans = KMeans(n_clusters=n_clusters, random_state=42, n_init=10)\n",
    "    kmeans.fit(X_train_y3)\n",
    "    wcss.append(kmeans.inertia_)\n",
    "\n",
    "# Plot the elbow method graph\n",
    "plt.plot(cluster_range, wcss, marker='o')\n",
    "plt.xlabel('Number of Clusters')\n",
    "plt.ylabel('WCSS')\n",
    "plt.title('Elbow Method')\n",
    "plt.show()"
   ],
   "metadata": {
    "collapsed": false,
    "ExecuteTime": {
     "end_time": "2024-02-28T19:40:04.235474Z",
     "start_time": "2024-02-28T19:39:25.295066Z"
    }
   },
   "id": "6cacc02187880e18",
   "execution_count": 28
  },
  {
   "cell_type": "markdown",
   "source": [
    "<h1> Train kmeans with y3 </h1>"
   ],
   "metadata": {
    "collapsed": false
   },
   "id": "64d7608b0127b040"
  },
  {
   "cell_type": "code",
   "outputs": [
    {
     "data": {
      "text/plain": "KMeans(n_clusters=4, n_init=10, random_state=42)",
      "text/html": "<style>#sk-container-id-3 {color: black;}#sk-container-id-3 pre{padding: 0;}#sk-container-id-3 div.sk-toggleable {background-color: white;}#sk-container-id-3 label.sk-toggleable__label {cursor: pointer;display: block;width: 100%;margin-bottom: 0;padding: 0.3em;box-sizing: border-box;text-align: center;}#sk-container-id-3 label.sk-toggleable__label-arrow:before {content: \"▸\";float: left;margin-right: 0.25em;color: #696969;}#sk-container-id-3 label.sk-toggleable__label-arrow:hover:before {color: black;}#sk-container-id-3 div.sk-estimator:hover label.sk-toggleable__label-arrow:before {color: black;}#sk-container-id-3 div.sk-toggleable__content {max-height: 0;max-width: 0;overflow: hidden;text-align: left;background-color: #f0f8ff;}#sk-container-id-3 div.sk-toggleable__content pre {margin: 0.2em;color: black;border-radius: 0.25em;background-color: #f0f8ff;}#sk-container-id-3 input.sk-toggleable__control:checked~div.sk-toggleable__content {max-height: 200px;max-width: 100%;overflow: auto;}#sk-container-id-3 input.sk-toggleable__control:checked~label.sk-toggleable__label-arrow:before {content: \"▾\";}#sk-container-id-3 div.sk-estimator input.sk-toggleable__control:checked~label.sk-toggleable__label {background-color: #d4ebff;}#sk-container-id-3 div.sk-label input.sk-toggleable__control:checked~label.sk-toggleable__label {background-color: #d4ebff;}#sk-container-id-3 input.sk-hidden--visually {border: 0;clip: rect(1px 1px 1px 1px);clip: rect(1px, 1px, 1px, 1px);height: 1px;margin: -1px;overflow: hidden;padding: 0;position: absolute;width: 1px;}#sk-container-id-3 div.sk-estimator {font-family: monospace;background-color: #f0f8ff;border: 1px dotted black;border-radius: 0.25em;box-sizing: border-box;margin-bottom: 0.5em;}#sk-container-id-3 div.sk-estimator:hover {background-color: #d4ebff;}#sk-container-id-3 div.sk-parallel-item::after {content: \"\";width: 100%;border-bottom: 1px solid gray;flex-grow: 1;}#sk-container-id-3 div.sk-label:hover label.sk-toggleable__label {background-color: #d4ebff;}#sk-container-id-3 div.sk-serial::before {content: \"\";position: absolute;border-left: 1px solid gray;box-sizing: border-box;top: 0;bottom: 0;left: 50%;z-index: 0;}#sk-container-id-3 div.sk-serial {display: flex;flex-direction: column;align-items: center;background-color: white;padding-right: 0.2em;padding-left: 0.2em;position: relative;}#sk-container-id-3 div.sk-item {position: relative;z-index: 1;}#sk-container-id-3 div.sk-parallel {display: flex;align-items: stretch;justify-content: center;background-color: white;position: relative;}#sk-container-id-3 div.sk-item::before, #sk-container-id-3 div.sk-parallel-item::before {content: \"\";position: absolute;border-left: 1px solid gray;box-sizing: border-box;top: 0;bottom: 0;left: 50%;z-index: -1;}#sk-container-id-3 div.sk-parallel-item {display: flex;flex-direction: column;z-index: 1;position: relative;background-color: white;}#sk-container-id-3 div.sk-parallel-item:first-child::after {align-self: flex-end;width: 50%;}#sk-container-id-3 div.sk-parallel-item:last-child::after {align-self: flex-start;width: 50%;}#sk-container-id-3 div.sk-parallel-item:only-child::after {width: 0;}#sk-container-id-3 div.sk-dashed-wrapped {border: 1px dashed gray;margin: 0 0.4em 0.5em 0.4em;box-sizing: border-box;padding-bottom: 0.4em;background-color: white;}#sk-container-id-3 div.sk-label label {font-family: monospace;font-weight: bold;display: inline-block;line-height: 1.2em;}#sk-container-id-3 div.sk-label-container {text-align: center;}#sk-container-id-3 div.sk-container {/* jupyter's `normalize.less` sets `[hidden] { display: none; }` but bootstrap.min.css set `[hidden] { display: none !important; }` so we also need the `!important` here to be able to override the default hidden behavior on the sphinx rendered scikit-learn.org. See: https://github.com/scikit-learn/scikit-learn/issues/21755 */display: inline-block !important;position: relative;}#sk-container-id-3 div.sk-text-repr-fallback {display: none;}</style><div id=\"sk-container-id-3\" class=\"sk-top-container\"><div class=\"sk-text-repr-fallback\"><pre>KMeans(n_clusters=4, n_init=10, random_state=42)</pre><b>In a Jupyter environment, please rerun this cell to show the HTML representation or trust the notebook. <br />On GitHub, the HTML representation is unable to render, please try loading this page with nbviewer.org.</b></div><div class=\"sk-container\" hidden><div class=\"sk-item\"><div class=\"sk-estimator sk-toggleable\"><input class=\"sk-toggleable__control sk-hidden--visually\" id=\"sk-estimator-id-3\" type=\"checkbox\" checked><label for=\"sk-estimator-id-3\" class=\"sk-toggleable__label sk-toggleable__label-arrow\">KMeans</label><div class=\"sk-toggleable__content\"><pre>KMeans(n_clusters=4, n_init=10, random_state=42)</pre></div></div></div></div></div>"
     },
     "execution_count": 61,
     "metadata": {},
     "output_type": "execute_result"
    }
   ],
   "source": [
    "from sklearn.cluster import KMeans\n",
    "\n",
    "clusters_num = 4\n",
    "kmeans = KMeans(n_clusters=clusters_num, random_state=42, n_init=10)\n",
    "kmeans.fit(X_train_y3)"
   ],
   "metadata": {
    "collapsed": false,
    "ExecuteTime": {
     "end_time": "2024-02-28T19:50:53.593273Z",
     "start_time": "2024-02-28T19:50:51.963551Z"
    }
   },
   "id": "860056968e5c7fee",
   "execution_count": 61
  },
  {
   "cell_type": "code",
   "outputs": [],
   "source": [
    "import numpy as np\n",
    "# transforms X into clustered dataset with. k - number of clusters in the range [0, k-1]\n",
    "def transform_to_clustered_dataset_train(X: np.ndarray, Xy: pd.DataFrame, cluster_predictor, k: int):\n",
    "    clusters = cluster_predictor.predict(Xy)\n",
    "    zero_columns = pd.DataFrame(np.zeros((X.shape[0], k)), columns=[f'class_{i}' for i in range(k)])\n",
    "    res = np.concatenate((X, zero_columns), axis=1)\n",
    "    for i in range(res.shape[0]):\n",
    "        cluster = clusters[i]\n",
    "        res[i, X.shape[1] + cluster] = 1.0 \n",
    "    return res\n",
    "\n",
    "def transform_to_clustered_dataset_test(X: np.ndarray, kmeans_model: KMeans, k: int):\n",
    "    centers = kmeans_model.cluster_centers_[:, :-1]\n",
    "    clusters = []\n",
    "    for row in X:\n",
    "        min_dist = np.Infinity\n",
    "        cluster = -1\n",
    "        for i in range(k):\n",
    "            cur_dist = np.linalg.norm(row - centers[i])\n",
    "            if cur_dist < min_dist:\n",
    "                min_dist = cur_dist\n",
    "                cluster = i\n",
    "        if cluster == -1:\n",
    "            raise \"Error\"\n",
    "        clusters.append(cluster)\n",
    "        \n",
    "    zero_columns = pd.DataFrame(np.zeros((X.shape[0], k)), columns=[f'class_{i}' for i in range(k)])\n",
    "    res = np.concatenate((X, zero_columns), axis=1)\n",
    "    for i in range(res.shape[0]):\n",
    "        cluster = clusters[i]\n",
    "        res[i, X.shape[1] + cluster] = 1.0 \n",
    "    return res\n",
    "            "
   ],
   "metadata": {
    "collapsed": false,
    "ExecuteTime": {
     "end_time": "2024-02-28T19:50:58.131978Z",
     "start_time": "2024-02-28T19:50:58.119170Z"
    }
   },
   "id": "98c5c337e74e465d",
   "execution_count": 62
  },
  {
   "cell_type": "code",
   "outputs": [],
   "source": [
    "X_train_clustered = transform_to_clustered_dataset_train(X_train, X_train_y3, kmeans, clusters_num)\n",
    "X_test_clustered = transform_to_clustered_dataset_test(X_test, kmeans, clusters_num)"
   ],
   "metadata": {
    "collapsed": false,
    "ExecuteTime": {
     "end_time": "2024-02-28T19:51:01.457718Z",
     "start_time": "2024-02-28T19:51:01.441857Z"
    }
   },
   "id": "cde3707b615eed0e",
   "execution_count": 63
  },
  {
   "cell_type": "code",
   "outputs": [
    {
     "data": {
      "text/plain": "array([[0.70547832, 0.65629322, 0.55758513, ..., 0.        , 0.        ,\n        0.        ],\n       [0.6810734 , 0.63313331, 0.43328938, ..., 1.        , 0.        ,\n        0.        ],\n       [0.90403654, 0.62404112, 0.59067268, ..., 0.        , 0.        ,\n        0.        ],\n       ...,\n       [0.71291621, 0.61862066, 0.49205034, ..., 0.        , 1.        ,\n        0.        ],\n       [0.68640678, 0.68628034, 0.65645443, ..., 0.        , 0.        ,\n        0.        ],\n       [0.71849932, 0.63626647, 0.50101859, ..., 0.        , 0.        ,\n        1.        ]])"
     },
     "execution_count": 64,
     "metadata": {},
     "output_type": "execute_result"
    }
   ],
   "source": [
    "X_train_clustered"
   ],
   "metadata": {
    "collapsed": false,
    "ExecuteTime": {
     "end_time": "2024-02-28T19:51:02.868726Z",
     "start_time": "2024-02-28T19:51:02.864288Z"
    }
   },
   "id": "fbe60f36ce855ff8",
   "execution_count": 64
  },
  {
   "cell_type": "code",
   "outputs": [
    {
     "data": {
      "text/plain": "array([[0.70059243, 0.58698389, 0.37431062, ..., 0.        , 0.        ,\n        0.        ],\n       [0.71430125, 0.59126419, 0.38108912, ..., 0.        , 0.        ,\n        1.        ],\n       [0.71721318, 0.59538773, 0.5399463 , ..., 0.        , 0.        ,\n        0.        ],\n       ...,\n       [0.67157635, 0.60460517, 0.3985426 , ..., 0.        , 1.        ,\n        0.        ],\n       [0.75211235, 0.5974011 , 0.49576465, ..., 0.        , 0.        ,\n        1.        ],\n       [0.72167066, 0.6332595 , 0.49694649, ..., 0.        , 0.        ,\n        1.        ]])"
     },
     "execution_count": 65,
     "metadata": {},
     "output_type": "execute_result"
    }
   ],
   "source": [
    "X_test_clustered"
   ],
   "metadata": {
    "collapsed": false,
    "ExecuteTime": {
     "end_time": "2024-02-28T19:51:04.616666Z",
     "start_time": "2024-02-28T19:51:04.611729Z"
    }
   },
   "id": "8667d04c4973d9c2",
   "execution_count": 65
  },
  {
   "cell_type": "markdown",
   "source": [
    "<h1> GBR with arbitrary hyperparameters </h1>"
   ],
   "metadata": {
    "collapsed": false
   },
   "id": "acb2fe3efe101754"
  },
  {
   "cell_type": "code",
   "outputs": [
    {
     "name": "stdout",
     "output_type": "stream",
     "text": [
      "------ test metrics ------\n",
      "Mean Squared Error (MSE):              989374501557831.5000000000\n",
      "Root Mean Squared Error (RMSE):        31454324.0518347733\n",
      "Mean Absolute Error (MAE):             16344252.2442255169\n",
      "R-squared (R²):                        0.6074637346\n",
      "Mean Absolute Percentage Error (MAPE): 0.1729346794\n",
      "Max Error (ME):                        227502026.6070165038\n",
      "Median Absolute Error (MedAE):         6439256.3760030791\n",
      "------ train metrics ------\n",
      "Mean Squared Error (MSE):              59434289977257.9843750000\n",
      "Root Mean Squared Error (RMSE):        7709363.7855051300\n",
      "Mean Absolute Error (MAE):             5189125.3275211481\n",
      "R-squared (R²):                        0.9779540430\n",
      "Mean Absolute Percentage Error (MAPE): 0.0718563822\n",
      "Max Error (ME):                        51963129.0358241796\n",
      "Median Absolute Error (MedAE):         3365017.5084366091\n"
     ]
    }
   ],
   "source": [
    "from metrics import print_metrics\n",
    "from sklearn.ensemble import GradientBoostingRegressor\n",
    "\n",
    "# Create an instance of GradientBoostingRegressor\n",
    "gb_regressor = GradientBoostingRegressor(n_estimators=48, learning_rate=0.096952, max_depth=6, random_state=42)\n",
    "\n",
    "# Fit the regressor to the training data\n",
    "gb_regressor.fit(X_train_clustered, train_y3)\n",
    "\n",
    "print(\"------ test metrics ------\")\n",
    "print_metrics(test_y3, gb_regressor.predict(X_test_clustered))\n",
    "\n",
    "print(\"------ train metrics ------\")\n",
    "print_metrics(train_y3, gb_regressor.predict(X_train_clustered))"
   ],
   "metadata": {
    "collapsed": false,
    "ExecuteTime": {
     "end_time": "2024-02-28T19:40:28.199077Z",
     "start_time": "2024-02-28T19:40:27.923713Z"
    }
   },
   "id": "3c7a26a97ecf7cb6",
   "execution_count": 34
  },
  {
   "cell_type": "markdown",
   "source": [
    "<h1> Optimize Gradient boost parameters using Differential evolution</h1>"
   ],
   "metadata": {
    "collapsed": false
   },
   "id": "a7636a8fd367c4df"
  },
  {
   "cell_type": "code",
   "outputs": [],
   "source": [
    "from sklearn.metrics import r2_score, mean_absolute_percentage_error\n",
    "from scipy.optimize import differential_evolution\n",
    "\n",
    "# define objective function\n",
    "def objective_function(params, train_X, train_y, test_X, test_y):\n",
    "    regressor = GradientBoostingRegressor(n_estimators=int(params[0]), learning_rate=params[1], max_depth=int(params[2]), random_state=42)\n",
    "    regressor.fit(train_X, train_y)\n",
    "    pred_y = regressor.predict(test_X)\n",
    "    r2 = r2_score(test_y, pred_y)\n",
    "    return -r2"
   ],
   "metadata": {
    "collapsed": false,
    "ExecuteTime": {
     "end_time": "2024-02-28T19:40:49.975612Z",
     "start_time": "2024-02-28T19:40:49.971663Z"
    }
   },
   "id": "fb4299650f83919e",
   "execution_count": 35
  },
  {
   "cell_type": "code",
   "outputs": [
    {
     "name": "stdout",
     "output_type": "stream",
     "text": [
      "differential_evolution step 1: f(x)= -0.683602\n",
      "differential_evolution step 2: f(x)= -0.684766\n",
      "differential_evolution step 3: f(x)= -0.684766\n",
      "differential_evolution step 4: f(x)= -0.684804\n",
      "differential_evolution step 5: f(x)= -0.684804\n",
      "differential_evolution step 6: f(x)= -0.686868\n",
      "differential_evolution step 7: f(x)= -0.686868\n",
      "differential_evolution step 8: f(x)= -0.691522\n",
      "differential_evolution step 9: f(x)= -0.691522\n",
      "differential_evolution step 10: f(x)= -0.691522\n",
      "Polishing solution with 'L-BFGS-B'\n",
      " message: Maximum number of iterations has been exceeded.\n",
      " success: False\n",
      "     fun: -0.6915218900878706\n",
      "       x: [ 7.130e+01  3.443e-01  2.585e+00]\n",
      "     nit: 10\n",
      "    nfev: 739\n"
     ]
    }
   ],
   "source": [
    "optimization_res = differential_evolution(func=objective_function, \n",
    "                                          bounds=[(2, 300), (0.0001, 0.5), (2, 10)], \n",
    "                                          updating='deferred',\n",
    "                                          workers=10, \n",
    "                                          disp=True,\n",
    "                                          tol=0.00001,\n",
    "                                          atol=0.00001,\n",
    "                                          maxiter=10,\n",
    "                                          args=(X_train_clustered, train_y3, X_test_clustered, test_y3))\n",
    "print(optimization_res)"
   ],
   "metadata": {
    "collapsed": false,
    "ExecuteTime": {
     "end_time": "2024-02-28T19:42:25.161059Z",
     "start_time": "2024-02-28T19:40:50.194010Z"
    }
   },
   "id": "c20d74c431e55719",
   "execution_count": 36
  },
  {
   "cell_type": "code",
   "outputs": [
    {
     "data": {
      "text/plain": "array([71.29621208,  0.34433561,  2.58503604])"
     },
     "execution_count": 37,
     "metadata": {},
     "output_type": "execute_result"
    }
   ],
   "source": [
    "optimization_res.x"
   ],
   "metadata": {
    "collapsed": false,
    "ExecuteTime": {
     "end_time": "2024-02-28T19:42:28.115048Z",
     "start_time": "2024-02-28T19:42:28.105310Z"
    }
   },
   "id": "456dd64eba68cc4d",
   "execution_count": 37
  },
  {
   "cell_type": "code",
   "outputs": [
    {
     "name": "stdout",
     "output_type": "stream",
     "text": [
      "------ test metrics ------\n",
      "Mean Squared Error (MSE):              777508774245377.7500000000\n",
      "Root Mean Squared Error (RMSE):        27883844.3232883103\n",
      "Mean Absolute Error (MAE):             15605351.4423297662\n",
      "R-squared (R²):                        0.6915218756\n",
      "Mean Absolute Percentage Error (MAPE): 0.1845378868\n",
      "Max Error (ME):                        230562531.4466585517\n",
      "Median Absolute Error (MedAE):         7909892.4563062191\n",
      "------ train metrics ------\n",
      "Mean Squared Error (MSE):              333443169800846.8125000000\n",
      "Root Mean Squared Error (RMSE):        18260426.3313003406\n",
      "Mean Absolute Error (MAE):             11410323.3540402222\n",
      "R-squared (R²):                        0.8763159485\n",
      "Mean Absolute Percentage Error (MAPE): 0.1462820220\n",
      "Max Error (ME):                        187119441.7855732739\n",
      "Median Absolute Error (MedAE):         7580222.9778496101\n"
     ]
    }
   ],
   "source": [
    "from metrics import print_metrics\n",
    "from sklearn.ensemble import GradientBoostingRegressor\n",
    "\n",
    "# Create an instance of GradientBoostingRegressor\n",
    "gb_regressor = GradientBoostingRegressor(n_estimators=int(71), learning_rate=0.344336, max_depth=int(2), random_state=42)\n",
    "\n",
    "# Fit the regressor to the training data\n",
    "gb_regressor.fit(X_train_clustered, train_y3)\n",
    "\n",
    "print(\"------ test metrics ------\")\n",
    "print_metrics(test_y3, gb_regressor.predict(X_test_clustered))\n",
    "\n",
    "print(\"------ train metrics ------\")\n",
    "print_metrics(train_y3, gb_regressor.predict(X_train_clustered))"
   ],
   "metadata": {
    "collapsed": false,
    "ExecuteTime": {
     "end_time": "2024-02-28T19:51:28.001067Z",
     "start_time": "2024-02-28T19:51:27.783578Z"
    }
   },
   "id": "bd57c304bd7cfd7c",
   "execution_count": 66
  },
  {
   "cell_type": "markdown",
   "source": [
    "<h1> Add ridge </h1>"
   ],
   "metadata": {
    "collapsed": false
   },
   "id": "716722d59fd87750"
  },
  {
   "cell_type": "markdown",
   "source": [
    "<h2> Create new dataset </h2>"
   ],
   "metadata": {
    "collapsed": false
   },
   "id": "63ec3752f4bc1668"
  },
  {
   "cell_type": "code",
   "outputs": [],
   "source": [
    "X_train_clustered_GBR = np.concatenate((X_train_clustered, gb_regressor.predict(X_train_clustered).reshape(-1, 1)), axis=1)\n",
    "X_test_clustered_GBR = np.concatenate((X_test_clustered, gb_regressor.predict(X_test_clustered).reshape(-1, 1)), axis=1)"
   ],
   "metadata": {
    "collapsed": false,
    "ExecuteTime": {
     "end_time": "2024-02-28T19:51:33.084661Z",
     "start_time": "2024-02-28T19:51:33.076085Z"
    }
   },
   "id": "465ed47dd62ab98b",
   "execution_count": 67
  },
  {
   "cell_type": "code",
   "outputs": [
    {
     "data": {
      "text/plain": "array([[7.05478325e-01, 6.56293220e-01, 5.57585131e-01, ...,\n        0.00000000e+00, 0.00000000e+00, 6.28881352e+07],\n       [6.81073399e-01, 6.33133310e-01, 4.33289384e-01, ...,\n        0.00000000e+00, 0.00000000e+00, 6.68243193e+07],\n       [9.04036543e-01, 6.24041121e-01, 5.90672680e-01, ...,\n        0.00000000e+00, 0.00000000e+00, 5.96184452e+07],\n       ...,\n       [7.12916214e-01, 6.18620656e-01, 4.92050341e-01, ...,\n        1.00000000e+00, 0.00000000e+00, 5.60780058e+07],\n       [6.86406784e-01, 6.86280345e-01, 6.56454429e-01, ...,\n        0.00000000e+00, 0.00000000e+00, 8.41580989e+07],\n       [7.18499320e-01, 6.36266471e-01, 5.01018591e-01, ...,\n        0.00000000e+00, 1.00000000e+00, 6.35564995e+07]])"
     },
     "execution_count": 68,
     "metadata": {},
     "output_type": "execute_result"
    }
   ],
   "source": [
    "X_train_clustered_GBR"
   ],
   "metadata": {
    "collapsed": false,
    "ExecuteTime": {
     "end_time": "2024-02-28T19:51:34.741743Z",
     "start_time": "2024-02-28T19:51:34.737486Z"
    }
   },
   "id": "2b6cfd0ec6e5fea9",
   "execution_count": 68
  },
  {
   "cell_type": "code",
   "outputs": [
    {
     "data": {
      "text/plain": "array([[7.00592435e-01, 5.86983890e-01, 3.74310622e-01, ...,\n        0.00000000e+00, 0.00000000e+00, 2.38713405e+07],\n       [7.14301245e-01, 5.91264186e-01, 3.81089121e-01, ...,\n        0.00000000e+00, 1.00000000e+00, 8.98018828e+07],\n       [7.17213179e-01, 5.95387731e-01, 5.39946302e-01, ...,\n        0.00000000e+00, 0.00000000e+00, 4.33569070e+07],\n       ...,\n       [6.71576353e-01, 6.04605175e-01, 3.98542605e-01, ...,\n        1.00000000e+00, 0.00000000e+00, 4.15177418e+07],\n       [7.52112348e-01, 5.97401097e-01, 4.95764647e-01, ...,\n        0.00000000e+00, 1.00000000e+00, 4.73062158e+07],\n       [7.21670656e-01, 6.33259498e-01, 4.96946489e-01, ...,\n        0.00000000e+00, 1.00000000e+00, 7.28977691e+07]])"
     },
     "execution_count": 69,
     "metadata": {},
     "output_type": "execute_result"
    }
   ],
   "source": [
    "X_test_clustered_GBR"
   ],
   "metadata": {
    "collapsed": false,
    "ExecuteTime": {
     "end_time": "2024-02-28T19:51:38.021012Z",
     "start_time": "2024-02-28T19:51:38.013076Z"
    }
   },
   "id": "b271f963f3515c4c",
   "execution_count": 69
  },
  {
   "cell_type": "markdown",
   "source": [
    "<h2> Scale features </h2>"
   ],
   "metadata": {
    "collapsed": false
   },
   "id": "98ff7f6b9a8baa4"
  },
  {
   "cell_type": "code",
   "outputs": [],
   "source": [
    "# scale features\n",
    "scaler_GBR = MaxAbsScaler()\n",
    "scaler_GBR.fit(X_train_clustered_GBR)\n",
    "X_train_clustered_GBR = scaler_GBR.transform(X_train_clustered_GBR)\n",
    "X_test_clustered_GBR = scaler_GBR.transform(X_test_clustered_GBR)"
   ],
   "metadata": {
    "collapsed": false,
    "ExecuteTime": {
     "end_time": "2024-02-28T19:51:39.821969Z",
     "start_time": "2024-02-28T19:51:39.815113Z"
    }
   },
   "id": "92268b42c1148214",
   "execution_count": 70
  },
  {
   "cell_type": "code",
   "outputs": [
    {
     "data": {
      "text/plain": "(1290, 13)"
     },
     "execution_count": 71,
     "metadata": {},
     "output_type": "execute_result"
    }
   ],
   "source": [
    "X_train_clustered_GBR.shape"
   ],
   "metadata": {
    "collapsed": false,
    "ExecuteTime": {
     "end_time": "2024-02-28T19:51:41.342486Z",
     "start_time": "2024-02-28T19:51:41.335064Z"
    }
   },
   "id": "ca27957a6c2a0480",
   "execution_count": 71
  },
  {
   "cell_type": "code",
   "outputs": [
    {
     "data": {
      "text/plain": "array([[0.70059243, 0.58698389, 0.37431062, ..., 0.        , 0.        ,\n        0.06047902],\n       [0.71430125, 0.59126419, 0.38108912, ..., 0.        , 1.        ,\n        0.22751675],\n       [0.71721318, 0.59538773, 0.5399463 , ..., 0.        , 0.        ,\n        0.1098465 ],\n       ...,\n       [0.67157635, 0.60460517, 0.3985426 , ..., 1.        , 0.        ,\n        0.1051869 ],\n       [0.75211235, 0.5974011 , 0.49576465, ..., 0.        , 1.        ,\n        0.11985223],\n       [0.72167066, 0.6332595 , 0.49694649, ..., 0.        , 1.        ,\n        0.18468948]])"
     },
     "execution_count": 72,
     "metadata": {},
     "output_type": "execute_result"
    }
   ],
   "source": [
    "X_test_clustered_GBR"
   ],
   "metadata": {
    "collapsed": false,
    "ExecuteTime": {
     "end_time": "2024-02-28T19:51:50.367578Z",
     "start_time": "2024-02-28T19:51:50.360942Z"
    }
   },
   "id": "d6224f63ca0fbd5d",
   "execution_count": 72
  },
  {
   "cell_type": "code",
   "outputs": [
    {
     "name": "stdout",
     "output_type": "stream",
     "text": [
      "105\n",
      "Step: 1\n",
      "Step: 2\n",
      "Step: 3\n",
      "Step: 4\n",
      "Step: 5\n",
      "Step: 6\n",
      "Step: 7\n",
      "Step: 8\n",
      "Step: 9\n",
      "Step: 10\n",
      "Step: 11\n",
      "Step: 12\n",
      "Step: 13\n",
      "Step: 14\n",
      "Step: 15\n",
      "Step: 16\n",
      "Step: 17\n",
      "Step: 18\n",
      "Step: 19\n",
      "Step: 20\n",
      "Step: 21\n",
      "Step: 22\n",
      "Step: 23\n",
      "Step: 24\n",
      "Step: 25\n",
      "Step: 26\n",
      "Step: 27\n",
      "Step: 28\n",
      "Step: 29\n",
      "Step: 30\n",
      "Step: 31\n",
      "Step: 32\n",
      "Step: 33\n",
      "Step: 34\n",
      "Step: 35\n",
      "Step: 36\n",
      "Step: 37\n",
      "Step: 38\n",
      "Step: 39\n",
      "Step: 40\n",
      "Step: 41\n",
      "Step: 42\n",
      "Step: 43\n",
      "Step: 44\n",
      "Step: 45\n",
      "Step: 46\n",
      "Step: 47\n",
      "Step: 48\n",
      "Step: 49\n",
      "Step: 50\n",
      "Step: 51\n",
      "Step: 52\n",
      "Step: 53\n",
      "Step: 54\n",
      "Step: 55\n",
      "Step: 56\n",
      "Step: 57\n",
      "Step: 58\n",
      "Step: 59\n",
      "Step: 60\n",
      "Step: 61\n",
      "Step: 62\n",
      "Step: 63\n",
      "Step: 64\n",
      "Step: 65\n",
      "Step: 66\n",
      "Step: 67\n",
      "Step: 68\n",
      "Step: 69\n",
      "Step: 70\n",
      "Step: 71\n",
      "Step: 72\n",
      "Step: 73\n",
      "Step: 74\n",
      "Step: 75\n",
      "Step: 76\n",
      "Step: 77\n",
      "Break, step = 77\n",
      "--- 1.6012868881225586 seconds ---\n",
      "------ test metrics ------\n",
      "Mean Squared Error (MSE):              808639227875518.6250000000\n",
      "Root Mean Squared Error (RMSE):        28436582.5632321462\n",
      "Mean Absolute Error (MAE):             16116851.5949902143\n",
      "R-squared (R²):                        0.6791708074\n",
      "Mean Absolute Percentage Error (MAPE): 0.1870398602\n",
      "Max Error (ME):                        235128805.8502015471\n",
      "Median Absolute Error (MedAE):         8072923.2320287004\n",
      "------ train metrics ------\n",
      "Mean Squared Error (MSE):              271436286409036.0000000000\n",
      "Root Mean Squared Error (RMSE):        16475323.5600711647\n",
      "Mean Absolute Error (MAE):             10267001.7379531749\n",
      "R-squared (R²):                        0.8993161574\n",
      "Mean Absolute Percentage Error (MAPE): 0.1327915528\n",
      "Max Error (ME):                        188480940.8526188135\n",
      "Median Absolute Error (MedAE):         6899254.0588550493\n"
     ]
    }
   ],
   "source": [
    "# from sklearn.linear_model import Ridge\n",
    "# from metrics import print_metrics\n",
    "# \n",
    "# gtm = GTM(numb_of_steps=77)\n",
    "# Train the model\n",
    "# gtm.fit(X_train_clustered_GBR, train_y3)\n",
    "# \n",
    "# print(\"------ test metrics ------\")\n",
    "# print_metrics(test_y3, gtm.predict(X_test_clustered_GBR))\n",
    "# \n",
    "# print(\"------ train metrics ------\")\n",
    "# print_metrics(train_y3, gtm.predict(X_train_clustered_GBR))"
   ],
   "metadata": {
    "collapsed": false,
    "ExecuteTime": {
     "end_time": "2024-02-28T19:47:05.501431Z",
     "start_time": "2024-02-28T19:47:03.842989Z"
    }
   },
   "id": "7f886d80b5047656",
   "execution_count": 54
  },
  {
   "cell_type": "markdown",
   "source": [
    "<h1> Optimize alpha parameter of Ridge regression <h1>"
   ],
   "metadata": {
    "collapsed": false
   },
   "id": "c97f8a2053f4943e"
  },
  {
   "cell_type": "code",
   "outputs": [],
   "source": [
    "from sklearn.metrics import r2_score\n",
    "from scipy.optimize import differential_evolution\n",
    "\n",
    "# define objective function\n",
    "def objective_function_ridge_regression(params, train_X, train_y, test_X, test_y):\n",
    "    regressor = Ridge(alpha=params[0])\n",
    "    regressor.fit(train_X, train_y)\n",
    "    pred_y = regressor.predict(test_X)\n",
    "    r2 = r2_score(test_y, pred_y)\n",
    "    return -r2"
   ],
   "metadata": {
    "collapsed": false,
    "ExecuteTime": {
     "end_time": "2024-02-28T19:54:12.699929Z",
     "start_time": "2024-02-28T19:54:12.692812Z"
    }
   },
   "id": "27c25c7339fc0288",
   "execution_count": 77
  },
  {
   "cell_type": "code",
   "outputs": [
    {
     "name": "stdout",
     "output_type": "stream",
     "text": [
      "differential_evolution step 1: f(x)= -0.712885\n",
      "differential_evolution step 2: f(x)= -0.71528\n",
      "differential_evolution step 3: f(x)= -0.71528\n",
      "differential_evolution step 4: f(x)= -0.71528\n",
      "differential_evolution step 5: f(x)= -0.71528\n",
      "differential_evolution step 6: f(x)= -0.71528\n",
      "differential_evolution step 7: f(x)= -0.7153\n",
      "differential_evolution step 8: f(x)= -0.7153\n",
      "differential_evolution step 9: f(x)= -0.7153\n",
      "differential_evolution step 10: f(x)= -0.7153\n",
      "differential_evolution step 11: f(x)= -0.7153\n",
      "Polishing solution with 'L-BFGS-B'\n",
      " message: Optimization terminated successfully.\n",
      " success: True\n",
      "     fun: -0.715299716950279\n",
      "       x: [ 1.147e+00]\n",
      "     nit: 11\n",
      "    nfev: 184\n",
      "     jac: [ 1.319e-05]\n"
     ]
    }
   ],
   "source": [
    "optimization_res = differential_evolution(func=objective_function_ridge_regression, \n",
    "                                          bounds=[(0, 50)], \n",
    "                                          updating='deferred',\n",
    "                                          workers=10, \n",
    "                                          disp=True,\n",
    "                                          tol=0.00001,\n",
    "                                          atol=0.00001,\n",
    "                                          maxiter=100,\n",
    "                                          args=(X_train_clustered_GBR, train_y3, X_test_clustered_GBR, test_y3))\n",
    "print(optimization_res)"
   ],
   "metadata": {
    "collapsed": false,
    "ExecuteTime": {
     "end_time": "2024-02-28T12:50:50.879496Z",
     "start_time": "2024-02-28T12:50:49.709711Z"
    }
   },
   "id": "1c32fca08ea314a2",
   "execution_count": 23
  },
  {
   "cell_type": "code",
   "outputs": [
    {
     "data": {
      "text/plain": "array([1.14743042])"
     },
     "execution_count": 24,
     "metadata": {},
     "output_type": "execute_result"
    }
   ],
   "source": [
    "optimization_res.x"
   ],
   "metadata": {
    "collapsed": false,
    "ExecuteTime": {
     "end_time": "2024-02-28T12:50:57.765005Z",
     "start_time": "2024-02-28T12:50:57.754529Z"
    }
   },
   "id": "5b950a9803dcf4e8",
   "execution_count": 24
  },
  {
   "cell_type": "code",
   "outputs": [
    {
     "data": {
      "text/plain": "array([[1.        , 0.70059243, 0.58698389, ..., 0.        , 0.        ,\n        0.00365771],\n       [1.        , 0.71430125, 0.59126419, ..., 1.        , 0.22751675,\n        0.05176387],\n       [1.        , 0.71721318, 0.59538773, ..., 0.        , 0.        ,\n        0.01206625],\n       ...,\n       [1.        , 0.67157635, 0.60460517, ..., 0.        , 0.        ,\n        0.01106428],\n       [1.        , 0.75211235, 0.5974011 , ..., 1.        , 0.11985223,\n        0.01436456],\n       [1.        , 0.72167066, 0.6332595 , ..., 1.        , 0.18468948,\n        0.0341102 ]])"
     },
     "execution_count": 57,
     "metadata": {},
     "output_type": "execute_result"
    }
   ],
   "source": [
    "X_test_clustered_GBR"
   ],
   "metadata": {
    "collapsed": false,
    "ExecuteTime": {
     "end_time": "2024-02-28T19:48:41.518462Z",
     "start_time": "2024-02-28T19:48:41.510198Z"
    }
   },
   "id": "72371b803d7434ca",
   "execution_count": 57
  },
  {
   "cell_type": "code",
   "outputs": [],
   "source": [
    "from sklearn.preprocessing import PolynomialFeatures\n",
    "\n",
    "poly = PolynomialFeatures(2)\n",
    "X_train_clustered_GBR_poly = poly.fit_transform(X_train_clustered_GBR)\n",
    "X_test_clustered_GBR_poly = poly.fit_transform(X_test_clustered_GBR)"
   ],
   "metadata": {
    "collapsed": false,
    "ExecuteTime": {
     "end_time": "2024-02-28T19:53:19.386090Z",
     "start_time": "2024-02-28T19:53:19.380470Z"
    }
   },
   "id": "52b3fb93ef54afb0",
   "execution_count": 73
  },
  {
   "cell_type": "code",
   "outputs": [
    {
     "data": {
      "text/plain": "array([[1.        , 0.70059243, 0.58698389, ..., 0.        , 0.        ,\n        0.00365771],\n       [1.        , 0.71430125, 0.59126419, ..., 1.        , 0.22751675,\n        0.05176387],\n       [1.        , 0.71721318, 0.59538773, ..., 0.        , 0.        ,\n        0.01206625],\n       ...,\n       [1.        , 0.67157635, 0.60460517, ..., 0.        , 0.        ,\n        0.01106428],\n       [1.        , 0.75211235, 0.5974011 , ..., 1.        , 0.11985223,\n        0.01436456],\n       [1.        , 0.72167066, 0.6332595 , ..., 1.        , 0.18468948,\n        0.0341102 ]])"
     },
     "execution_count": 75,
     "metadata": {},
     "output_type": "execute_result"
    }
   ],
   "source": [
    "X_test_clustered_GBR_poly"
   ],
   "metadata": {
    "collapsed": false,
    "ExecuteTime": {
     "end_time": "2024-02-28T19:53:30.060320Z",
     "start_time": "2024-02-28T19:53:30.056511Z"
    }
   },
   "id": "c1dc4ce97fb01790",
   "execution_count": 75
  },
  {
   "cell_type": "code",
   "outputs": [
    {
     "name": "stdout",
     "output_type": "stream",
     "text": [
      "------ test metrics ------\n",
      "Mean Squared Error (MSE):              822097706903843.2500000000\n",
      "Root Mean Squared Error (RMSE):        28672246.2828401923\n",
      "Mean Absolute Error (MAE):             16614777.4388599861\n",
      "R-squared (R²):                        0.6738311295\n",
      "Mean Absolute Percentage Error (MAPE): 0.2025358420\n",
      "Max Error (ME):                        232716827.1800073385\n",
      "Median Absolute Error (MedAE):         9220682.9619744793\n",
      "------ train metrics ------\n",
      "Mean Squared Error (MSE):              495913432362482.8750000000\n",
      "Root Mean Squared Error (RMSE):        22269113.8656768948\n",
      "Mean Absolute Error (MAE):             13637705.5437027477\n",
      "R-squared (R²):                        0.8160508654\n",
      "Mean Absolute Percentage Error (MAPE): 0.1714013543\n",
      "Max Error (ME):                        194579425.2892482877\n",
      "Median Absolute Error (MedAE):         9273054.0894331485\n"
     ]
    }
   ],
   "source": [
    "from sklearn.linear_model import Ridge\n",
    "from metrics import print_metrics\n",
    "\n",
    "\n",
    "# Create a Ridge regression model\n",
    "ridge_reg = Ridge(alpha=5.239971)  # You can adjust the regularization strength with the alpha parameter\n",
    "\n",
    "# Train the model\n",
    "ridge_reg.fit(X_train_clustered_GBR, train_y3)\n",
    "\n",
    "print(\"------ test metrics ------\")\n",
    "print_metrics(test_y3, ridge_reg.predict(X_test_clustered_GBR))\n",
    "\n",
    "print(\"------ train metrics ------\")\n",
    "print_metrics(train_y3, ridge_reg.predict(X_train_clustered_GBR))"
   ],
   "metadata": {
    "collapsed": false,
    "ExecuteTime": {
     "end_time": "2024-02-28T19:58:12.591508Z",
     "start_time": "2024-02-28T19:58:12.572914Z"
    }
   },
   "id": "6d59534461742d5d",
   "execution_count": 81
  },
  {
   "cell_type": "code",
   "outputs": [],
   "source": [
    "import math\n",
    "import time\n",
    "from sklearn.base import BaseEstimator, ClassifierMixin\n",
    "from sklearn.utils.validation import check_X_y, check_array, check_is_fitted\n",
    "from sklearn.utils.multiclass import unique_labels\n",
    "from sklearn.metrics import euclidean_distances\n",
    "class GTM(BaseEstimator, ClassifierMixin):\n",
    "\n",
    "    def __init__(self, name = \"GTM\", numb_of_steps = 1000, n_iter = 50, center_of_mass = False):\n",
    "        self.name = name\n",
    "        self.numb_of_steps = numb_of_steps\n",
    "        self.n_iter = n_iter\n",
    "        self.center_of_mass = center_of_mass\n",
    "        \n",
    "\n",
    "    def fit(self, X, y):\n",
    "        # Check that X and y have correct shape\n",
    "        X, y = check_X_y(X, y)\n",
    "        \n",
    "        start_time = time.time()\n",
    "        \n",
    "        m = X.shape[1]\n",
    "        step = 0\n",
    "        \n",
    "        if self.numb_of_steps > m:\n",
    "            print(\"Number of steps should be lower then features count (\" + str(m) +\")\")\n",
    "        print(m)\n",
    "        \n",
    "        centered_X = X\n",
    "        centered_y = y\n",
    "        \n",
    "        com_x = np.zeros(m)\n",
    "        com_y = 0 #np.zeros(y.shape[1])\n",
    "        \n",
    "        if self.center_of_mass:\n",
    "            com_x = np.mean(X, axis=0)\n",
    "            com_y = np.mean(y)\n",
    "            centered_X = X - com_x\n",
    "            centered_y = y - com_y\n",
    "        \n",
    "        \n",
    "        self.com_x = com_x\n",
    "        self.com_y = com_y\n",
    "           \n",
    "        self.basic_instances = []\n",
    "        self.b_instances_x = []\n",
    "        self.b_instances_y = []\n",
    "        \n",
    "    \n",
    "        while step < m:\n",
    "            iter = 0\n",
    "            \n",
    "            #TODO change\n",
    "            i = np.argmax(np.sum(centered_X**2, axis=1))\n",
    "            \n",
    "            initial_instance = centered_X[i,]\n",
    "            \n",
    "            basic_instance = initial_instance\n",
    "            \n",
    "            while iter < self.n_iter:\n",
    "                vector_relations = np.sum(np.multiply(centered_X, basic_instance), axis=1) \\\n",
    "                / np.sum(basic_instance**2)\n",
    "                basic_instance = np.sum(np.multiply(centered_X, vector_relations[:, np.newaxis]), axis=0) \\\n",
    "                / np.sum(vector_relations**2)\n",
    "                iter = iter + 1\n",
    "                \n",
    "            k1_values = np.sum(np.multiply(centered_X, basic_instance), axis=1) \\\n",
    "            / np.sum(basic_instance**2, axis=0)\n",
    "            \n",
    "            k2_values = np.sum(np.multiply(centered_X, basic_instance), axis=1) \\\n",
    "            / math.sqrt(np.sum(basic_instance**2, axis=0))\n",
    "            \n",
    "            if step == self.numb_of_steps:\n",
    "                self.num_steps = step\n",
    "                print(\"Break, step = \" + str(step))\n",
    "                break\n",
    "                \n",
    "            b_instance_x = np.sum(np.multiply(centered_X, k1_values[:, np.newaxis]), axis=0) \\\n",
    "            / np.sum(k1_values**2, axis=0)\n",
    "            \n",
    "    \n",
    "            b_instance_y = np.sum(np.multiply(centered_y, k1_values), axis=0) \\\n",
    "            / np.sum(k1_values**2, axis=0)\n",
    "            \n",
    "    \n",
    "            centered_X = np.subtract(centered_X, np.multiply(k1_values[:, np.newaxis], b_instance_x))\n",
    "            centered_y = np.subtract(centered_y, np.multiply(k1_values, b_instance_y))\n",
    "\n",
    "            \n",
    "            self.basic_instances.append(basic_instance)\n",
    "            self.b_instances_x.append(b_instance_x)\n",
    "            self.b_instances_y.append(b_instance_y)\n",
    "            \n",
    "            step = step + 1\n",
    "            print(\"Step: \" + str(step))\n",
    "            \n",
    "        self.num_steps = step\n",
    "        print(\"--- %s seconds ---\" % (time.time() - start_time))\n",
    "        \n",
    "        return self\n",
    "\n",
    "    def predict(self, X):\n",
    "\n",
    "        # Check is fit had been called\n",
    "        #check_is_fitted(self, ['X_', 'y_'])\n",
    "\n",
    "        # Input validation\n",
    "        X = check_array(X)\n",
    "        \n",
    "        centered_X = X\n",
    "        \n",
    "        if self.center_of_mass:\n",
    "            com_x = self.com_x\n",
    "            centered_X = X - com_x\n",
    "        \n",
    "        k1_values_a = []\n",
    "        \n",
    "        for step in range(0, self.num_steps):\n",
    "            k1_values = np.sum(np.multiply(centered_X, self.basic_instances[step]), axis=1) \\\n",
    "            / np.sum(self.basic_instances[step]**2, axis=0)\n",
    "            centered_X = np.subtract(centered_X, np.multiply(k1_values[:, np.newaxis], self.b_instances_x[step]))\n",
    "            k1_values_a.append(k1_values)\n",
    "        \n",
    "        y = np.zeros(X.shape[0])\n",
    "        \n",
    "        for step in reversed(range(0, self.num_steps)):\n",
    "            y = np.multiply(k1_values_a[step], self.b_instances_y[step]) + y\n",
    "            \n",
    "        y = y + self.com_y\n",
    "        \n",
    "        return y"
   ],
   "metadata": {
    "collapsed": false,
    "ExecuteTime": {
     "end_time": "2024-02-28T19:50:29.046050Z",
     "start_time": "2024-02-28T19:50:29.018130Z"
    }
   },
   "id": "f55465f3f74bc6ab",
   "execution_count": 59
  },
  {
   "cell_type": "code",
   "outputs": [
    {
     "name": "stdout",
     "output_type": "stream",
     "text": [
      "differential_evolution step 1: f(x)= -0.695663\n",
      "differential_evolution step 2: f(x)= -0.695761\n",
      "differential_evolution step 3: f(x)= -0.695761\n",
      "differential_evolution step 4: f(x)= -0.695761\n",
      "differential_evolution step 5: f(x)= -0.695761\n",
      "differential_evolution step 6: f(x)= -0.695761\n",
      "differential_evolution step 7: f(x)= -0.695761\n",
      "differential_evolution step 8: f(x)= -0.695761\n",
      "Polishing solution with 'L-BFGS-B'\n",
      " message: Optimization terminated successfully.\n",
      " success: True\n",
      "     fun: -0.6957610077223935\n",
      "       x: [ 5.240e+00]\n",
      "     nit: 8\n",
      "    nfev: 139\n",
      "     jac: [-1.008e-05]\n"
     ]
    }
   ],
   "source": [
    "optimization_res = differential_evolution(func=objective_function_ridge_regression, \n",
    "                                          bounds=[(0, 50)], \n",
    "                                          updating='deferred',\n",
    "                                          workers=10, \n",
    "                                          disp=True,\n",
    "                                          tol=0.00001,\n",
    "                                          atol=0.00001,\n",
    "                                          maxiter=100,\n",
    "                                          args=(X_train_clustered_GBR_poly, train_y3, X_test_clustered_GBR_poly, test_y3))\n",
    "print(optimization_res)"
   ],
   "metadata": {
    "collapsed": false,
    "ExecuteTime": {
     "end_time": "2024-02-28T19:55:03.181134Z",
     "start_time": "2024-02-28T19:54:54.515569Z"
    }
   },
   "id": "997f99956b9064dd",
   "execution_count": 78
  },
  {
   "cell_type": "code",
   "outputs": [
    {
     "data": {
      "text/plain": "array([5.23997059])"
     },
     "execution_count": 79,
     "metadata": {},
     "output_type": "execute_result"
    }
   ],
   "source": [
    "optimization_res.x"
   ],
   "metadata": {
    "collapsed": false,
    "ExecuteTime": {
     "end_time": "2024-02-28T19:55:12.907030Z",
     "start_time": "2024-02-28T19:55:12.900899Z"
    }
   },
   "id": "b360e73243cf14e",
   "execution_count": 79
  },
  {
   "cell_type": "code",
   "outputs": [],
   "source": [],
   "metadata": {
    "collapsed": false
   },
   "id": "d336fcc666cafb9e"
  }
 ],
 "metadata": {
  "kernelspec": {
   "display_name": "Python 3",
   "language": "python",
   "name": "python3"
  },
  "language_info": {
   "codemirror_mode": {
    "name": "ipython",
    "version": 2
   },
   "file_extension": ".py",
   "mimetype": "text/x-python",
   "name": "python",
   "nbconvert_exporter": "python",
   "pygments_lexer": "ipython2",
   "version": "2.7.6"
  }
 },
 "nbformat": 4,
 "nbformat_minor": 5
}
