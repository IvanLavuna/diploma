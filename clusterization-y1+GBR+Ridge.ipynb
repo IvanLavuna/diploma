{
 "cells": [
  {
   "cell_type": "markdown",
   "source": [
    "<h1> Clusterization with y1 + GBR </h1>"
   ],
   "metadata": {
    "collapsed": false
   },
   "id": "754fde0b7ab96a9e"
  },
  {
   "cell_type": "code",
   "outputs": [],
   "source": [
    "import pandas as pd\n",
    "from sklearn.preprocessing import MaxAbsScaler\n",
    "import numpy as np\n",
    "\n",
    "# read datasets\n",
    "train_df = pd.read_csv('data/train2.csv')\n",
    "test_df = pd.read_csv('data/test2.csv')\n",
    "\n",
    "y1_name, y2_name, y3_name = \"dir_costs\", \"traffic_costs_s_r\", \"lost_trips_costs_s_r\"\n",
    "train_y1, train_y2, train_y3 = train_df[y1_name], train_df[y2_name], train_df[y3_name]\n",
    "test_y1, test_y2, test_y3 = test_df[y1_name], test_df[y2_name], test_df[y3_name]\n",
    "\n",
    "# scale features\n",
    "X_train = train_df.drop(columns=[y1_name, y2_name, y3_name])\n",
    "scaler = MaxAbsScaler()\n",
    "scaler.fit(X_train)\n",
    "X_train = scaler.transform(X_train)\n",
    "\n",
    "X_test = test_df.drop(columns=[y1_name, y2_name, y3_name])\n",
    "X_test = scaler.transform(X_test)\n",
    "\n",
    "# prepare dataset from training kmeans\n",
    "X_train_y1 = np.concatenate((X_train, train_df[y1_name].values.reshape(-1, 1)), axis=1)\n",
    "scaler_y1 = MaxAbsScaler()\n",
    "scaler_y1.fit(X_train_y1)\n",
    "X_train_y1 = scaler_y1.transform(X_train_y1)"
   ],
   "metadata": {
    "collapsed": false,
    "ExecuteTime": {
     "end_time": "2024-02-23T09:29:59.269150848Z",
     "start_time": "2024-02-23T09:29:58.479829150Z"
    }
   },
   "id": "9b67d9c6493eca96",
   "execution_count": 1
  },
  {
   "cell_type": "markdown",
   "source": [
    "<h1> Pick optimal number of clusters (Elbow method) </h1>\n"
   ],
   "metadata": {
    "collapsed": false
   },
   "id": "d2a0cd9b5bb524ed"
  },
  {
   "cell_type": "code",
   "outputs": [
    {
     "data": {
      "text/plain": "<Figure size 640x480 with 1 Axes>",
      "image/png": "[encoded data removed]"
     },
     "metadata": {},
     "output_type": "display_data"
    }
   ],
   "source": [
    "from sklearn.cluster import KMeans\n",
    "import matplotlib.pyplot as plt\n",
    "\n",
    "# Define a range of cluster numbers\n",
    "cluster_range = range(1, 30)\n",
    "wcss = []\n",
    "\n",
    "# Calculate WCSS for each cluster number\n",
    "for n_clusters in cluster_range:\n",
    "    kmeans = KMeans(n_clusters=n_clusters, random_state=42, n_init=10)\n",
    "    kmeans.fit(X_train_y1)\n",
    "    wcss.append(kmeans.inertia_)\n",
    "\n",
    "# Plot the elbow method graph\n",
    "plt.plot(cluster_range, wcss, marker='o')\n",
    "plt.xlabel('Number of Clusters')\n",
    "plt.ylabel('WCSS')\n",
    "plt.title('Elbow Method')\n",
    "plt.show()"
   ],
   "metadata": {
    "collapsed": false,
    "ExecuteTime": {
     "end_time": "2024-02-23T09:31:05.152456884Z",
     "start_time": "2024-02-23T09:30:28.884003308Z"
    }
   },
   "id": "6cacc02187880e18",
   "execution_count": 2
  },
  {
   "cell_type": "markdown",
   "source": [
    "<h1> Train kmeans with y1 </h1>"
   ],
   "metadata": {
    "collapsed": false
   },
   "id": "64d7608b0127b040"
  },
  {
   "cell_type": "code",
   "outputs": [
    {
     "data": {
      "text/plain": "KMeans(n_clusters=4, n_init=10, random_state=42)",
      "text/html": "<style>#sk-container-id-1 {color: black;}#sk-container-id-1 pre{padding: 0;}#sk-container-id-1 div.sk-toggleable {background-color: white;}#sk-container-id-1 label.sk-toggleable__label {cursor: pointer;display: block;width: 100%;margin-bottom: 0;padding: 0.3em;box-sizing: border-box;text-align: center;}#sk-container-id-1 label.sk-toggleable__label-arrow:before {content: \"▸\";float: left;margin-right: 0.25em;color: #696969;}#sk-container-id-1 label.sk-toggleable__label-arrow:hover:before {color: black;}#sk-container-id-1 div.sk-estimator:hover label.sk-toggleable__label-arrow:before {color: black;}#sk-container-id-1 div.sk-toggleable__content {max-height: 0;max-width: 0;overflow: hidden;text-align: left;background-color: #f0f8ff;}#sk-container-id-1 div.sk-toggleable__content pre {margin: 0.2em;color: black;border-radius: 0.25em;background-color: #f0f8ff;}#sk-container-id-1 input.sk-toggleable__control:checked~div.sk-toggleable__content {max-height: 200px;max-width: 100%;overflow: auto;}#sk-container-id-1 input.sk-toggleable__control:checked~label.sk-toggleable__label-arrow:before {content: \"▾\";}#sk-container-id-1 div.sk-estimator input.sk-toggleable__control:checked~label.sk-toggleable__label {background-color: #d4ebff;}#sk-container-id-1 div.sk-label input.sk-toggleable__control:checked~label.sk-toggleable__label {background-color: #d4ebff;}#sk-container-id-1 input.sk-hidden--visually {border: 0;clip: rect(1px 1px 1px 1px);clip: rect(1px, 1px, 1px, 1px);height: 1px;margin: -1px;overflow: hidden;padding: 0;position: absolute;width: 1px;}#sk-container-id-1 div.sk-estimator {font-family: monospace;background-color: #f0f8ff;border: 1px dotted black;border-radius: 0.25em;box-sizing: border-box;margin-bottom: 0.5em;}#sk-container-id-1 div.sk-estimator:hover {background-color: #d4ebff;}#sk-container-id-1 div.sk-parallel-item::after {content: \"\";width: 100%;border-bottom: 1px solid gray;flex-grow: 1;}#sk-container-id-1 div.sk-label:hover label.sk-toggleable__label {background-color: #d4ebff;}#sk-container-id-1 div.sk-serial::before {content: \"\";position: absolute;border-left: 1px solid gray;box-sizing: border-box;top: 0;bottom: 0;left: 50%;z-index: 0;}#sk-container-id-1 div.sk-serial {display: flex;flex-direction: column;align-items: center;background-color: white;padding-right: 0.2em;padding-left: 0.2em;position: relative;}#sk-container-id-1 div.sk-item {position: relative;z-index: 1;}#sk-container-id-1 div.sk-parallel {display: flex;align-items: stretch;justify-content: center;background-color: white;position: relative;}#sk-container-id-1 div.sk-item::before, #sk-container-id-1 div.sk-parallel-item::before {content: \"\";position: absolute;border-left: 1px solid gray;box-sizing: border-box;top: 0;bottom: 0;left: 50%;z-index: -1;}#sk-container-id-1 div.sk-parallel-item {display: flex;flex-direction: column;z-index: 1;position: relative;background-color: white;}#sk-container-id-1 div.sk-parallel-item:first-child::after {align-self: flex-end;width: 50%;}#sk-container-id-1 div.sk-parallel-item:last-child::after {align-self: flex-start;width: 50%;}#sk-container-id-1 div.sk-parallel-item:only-child::after {width: 0;}#sk-container-id-1 div.sk-dashed-wrapped {border: 1px dashed gray;margin: 0 0.4em 0.5em 0.4em;box-sizing: border-box;padding-bottom: 0.4em;background-color: white;}#sk-container-id-1 div.sk-label label {font-family: monospace;font-weight: bold;display: inline-block;line-height: 1.2em;}#sk-container-id-1 div.sk-label-container {text-align: center;}#sk-container-id-1 div.sk-container {/* jupyter's `normalize.less` sets `[hidden] { display: none; }` but bootstrap.min.css set `[hidden] { display: none !important; }` so we also need the `!important` here to be able to override the default hidden behavior on the sphinx rendered scikit-learn.org. See: https://github.com/scikit-learn/scikit-learn/issues/21755 */display: inline-block !important;position: relative;}#sk-container-id-1 div.sk-text-repr-fallback {display: none;}</style><div id=\"sk-container-id-1\" class=\"sk-top-container\"><div class=\"sk-text-repr-fallback\"><pre>KMeans(n_clusters=4, n_init=10, random_state=42)</pre><b>In a Jupyter environment, please rerun this cell to show the HTML representation or trust the notebook. <br />On GitHub, the HTML representation is unable to render, please try loading this page with nbviewer.org.</b></div><div class=\"sk-container\" hidden><div class=\"sk-item\"><div class=\"sk-estimator sk-toggleable\"><input class=\"sk-toggleable__control sk-hidden--visually\" id=\"sk-estimator-id-1\" type=\"checkbox\" checked><label for=\"sk-estimator-id-1\" class=\"sk-toggleable__label sk-toggleable__label-arrow\">KMeans</label><div class=\"sk-toggleable__content\"><pre>KMeans(n_clusters=4, n_init=10, random_state=42)</pre></div></div></div></div></div>"
     },
     "execution_count": 3,
     "metadata": {},
     "output_type": "execute_result"
    }
   ],
   "source": [
    "from sklearn.cluster import KMeans\n",
    "\n",
    "clusters_num = 4\n",
    "kmeans = KMeans(n_clusters=clusters_num, random_state=42, n_init=10)\n",
    "kmeans.fit(X_train_y1)"
   ],
   "metadata": {
    "collapsed": false,
    "ExecuteTime": {
     "end_time": "2024-02-23T09:31:35.569693728Z",
     "start_time": "2024-02-23T09:31:33.812308996Z"
    }
   },
   "id": "860056968e5c7fee",
   "execution_count": 3
  },
  {
   "cell_type": "code",
   "outputs": [],
   "source": [
    "import numpy as np\n",
    "# transforms X into clustered dataset with. k - number of clusters in the range [0, k-1]\n",
    "def transform_to_clustered_dataset_train(X: np.ndarray, Xy: pd.DataFrame, cluster_predictor, k: int):\n",
    "    clusters = cluster_predictor.predict(Xy)\n",
    "    zero_columns = pd.DataFrame(np.zeros((X.shape[0], k)), columns=[f'class_{i}' for i in range(k)])\n",
    "    res = np.concatenate((X, zero_columns), axis=1)\n",
    "    for i in range(res.shape[0]):\n",
    "        cluster = clusters[i]\n",
    "        res[i, X.shape[1] + cluster] = 1.0 \n",
    "    return res\n",
    "\n",
    "def transform_to_clustered_dataset_test(X: np.ndarray, kmeans_model: KMeans, k: int):\n",
    "    centers = kmeans_model.cluster_centers_[:, :-1]\n",
    "    clusters = []\n",
    "    for row in X:\n",
    "        min_dist = np.Infinity\n",
    "        cluster = -1\n",
    "        for i in range(k):\n",
    "            cur_dist = np.linalg.norm(row - centers[i])\n",
    "            if cur_dist < min_dist:\n",
    "                min_dist = cur_dist\n",
    "                cluster = i\n",
    "        if cluster == -1:\n",
    "            raise \"Error\"\n",
    "        clusters.append(cluster)\n",
    "        \n",
    "    zero_columns = pd.DataFrame(np.zeros((X.shape[0], k)), columns=[f'class_{i}' for i in range(k)])\n",
    "    res = np.concatenate((X, zero_columns), axis=1)\n",
    "    for i in range(res.shape[0]):\n",
    "        cluster = clusters[i]\n",
    "        res[i, X.shape[1] + cluster] = 1.0 \n",
    "    return res\n",
    "            "
   ],
   "metadata": {
    "collapsed": false,
    "ExecuteTime": {
     "end_time": "2024-02-23T09:32:02.591225232Z",
     "start_time": "2024-02-23T09:32:02.550168638Z"
    }
   },
   "id": "98c5c337e74e465d",
   "execution_count": 4
  },
  {
   "cell_type": "code",
   "outputs": [],
   "source": [
    "X_train_clustered = transform_to_clustered_dataset_train(X_train, X_train_y1, kmeans, clusters_num)\n",
    "X_test_clustered = transform_to_clustered_dataset_test(X_test, kmeans, clusters_num)"
   ],
   "metadata": {
    "collapsed": false,
    "ExecuteTime": {
     "end_time": "2024-02-23T09:32:13.569593314Z",
     "start_time": "2024-02-23T09:32:13.538331271Z"
    }
   },
   "id": "cde3707b615eed0e",
   "execution_count": 5
  },
  {
   "cell_type": "code",
   "outputs": [
    {
     "data": {
      "text/plain": "array([[0.47768174, 0.82396772, 0.45846266, ..., 1.        , 0.        ,\n        0.        ],\n       [0.41691199, 0.85767555, 0.35664933, ..., 0.        , 0.        ,\n        1.        ],\n       [0.87532125, 0.83275955, 0.45961423, ..., 1.        , 0.        ,\n        0.        ],\n       ...,\n       [0.48669484, 0.82904474, 0.39619957, ..., 0.        , 1.        ,\n        0.        ],\n       [0.43717206, 0.8248532 , 0.56394459, ..., 1.        , 0.        ,\n        0.        ],\n       [0.49764223, 0.83218448, 0.40092679, ..., 0.        , 0.        ,\n        0.        ]])"
     },
     "execution_count": 6,
     "metadata": {},
     "output_type": "execute_result"
    }
   ],
   "source": [
    "X_train_clustered"
   ],
   "metadata": {
    "collapsed": false,
    "ExecuteTime": {
     "end_time": "2024-02-23T09:32:18.793428158Z",
     "start_time": "2024-02-23T09:32:18.758125289Z"
    }
   },
   "id": "fbe60f36ce855ff8",
   "execution_count": 6
  },
  {
   "cell_type": "code",
   "outputs": [
    {
     "data": {
      "text/plain": "array([[0.44960484, 0.8218743 , 0.29171249, ..., 1.        , 0.        ,\n        0.        ],\n       [0.47736132, 0.83002958, 0.29802562, ..., 0.        , 0.        ,\n        0.        ],\n       [0.49620336, 0.80079327, 0.40616336, ..., 1.        , 0.        ,\n        0.        ],\n       ...,\n       [0.39538033, 0.83965478, 0.32543884, ..., 0.        , 1.        ,\n        0.        ],\n       [0.59300771, 0.8340513 , 0.36733739, ..., 0.        , 0.        ,\n        0.        ],\n       [0.50605131, 0.82906921, 0.39542077, ..., 0.        , 0.        ,\n        0.        ]])"
     },
     "execution_count": 7,
     "metadata": {},
     "output_type": "execute_result"
    }
   ],
   "source": [
    "X_test_clustered"
   ],
   "metadata": {
    "collapsed": false,
    "ExecuteTime": {
     "end_time": "2024-02-23T09:32:21.505057116Z",
     "start_time": "2024-02-23T09:32:21.488778080Z"
    }
   },
   "id": "8667d04c4973d9c2",
   "execution_count": 7
  },
  {
   "cell_type": "markdown",
   "source": [
    "<h1> GBR with arbitrary hyperparameters </h1>"
   ],
   "metadata": {
    "collapsed": false
   },
   "id": "acb2fe3efe101754"
  },
  {
   "cell_type": "code",
   "outputs": [
    {
     "name": "stdout",
     "output_type": "stream",
     "text": [
      "------ test metrics ------\n",
      "Mean Squared Error (MSE):              27753809512648.4140625000\n",
      "Root Mean Squared Error (RMSE):        5268188.4469567351\n",
      "Mean Absolute Error (MAE):             2800066.3715980444\n",
      "R-squared (R²):                        0.8611128593\n",
      "Mean Absolute Percentage Error (MAPE): 0.0685590175\n",
      "Max Error (ME):                        33163147.7484806478\n",
      "Median Absolute Error (MedAE):         1257092.3019746915\n",
      "------ train metrics ------\n",
      "Mean Squared Error (MSE):              3806486355242.0473632812\n",
      "Root Mean Squared Error (RMSE):        1951021.8746190539\n",
      "Mean Absolute Error (MAE):             1183376.9457735554\n",
      "R-squared (R²):                        0.9785849861\n",
      "Mean Absolute Percentage Error (MAPE): 0.0308830504\n",
      "Max Error (ME):                        12426008.2304952815\n",
      "Median Absolute Error (MedAE):         689674.3932546638\n"
     ]
    }
   ],
   "source": [
    "from metrics import print_metrics\n",
    "from sklearn.ensemble import GradientBoostingRegressor\n",
    "\n",
    "# Create an instance of GradientBoostingRegressor\n",
    "gb_regressor = GradientBoostingRegressor(n_estimators=48, learning_rate=0.096952, max_depth=6, random_state=42)\n",
    "\n",
    "# Fit the regressor to the training data\n",
    "gb_regressor.fit(X_train_clustered, train_y1)\n",
    "\n",
    "print(\"------ test metrics ------\")\n",
    "print_metrics(test_y1, gb_regressor.predict(X_test_clustered))\n",
    "\n",
    "print(\"------ train metrics ------\")\n",
    "print_metrics(train_y1, gb_regressor.predict(X_train_clustered))"
   ],
   "metadata": {
    "collapsed": false,
    "ExecuteTime": {
     "end_time": "2024-02-23T09:33:46.237234011Z",
     "start_time": "2024-02-23T09:33:45.507764769Z"
    }
   },
   "id": "3c7a26a97ecf7cb6",
   "execution_count": 8
  },
  {
   "cell_type": "markdown",
   "source": [
    "<h1> Optimize Gradient boost parameters using Differential evolution</h1>"
   ],
   "metadata": {
    "collapsed": false
   },
   "id": "a7636a8fd367c4df"
  },
  {
   "cell_type": "code",
   "outputs": [],
   "source": [
    "from sklearn.metrics import r2_score\n",
    "from scipy.optimize import differential_evolution\n",
    "\n",
    "# define objective function\n",
    "def objective_function(params, train_X, train_y, test_X, test_y):\n",
    "    regressor = GradientBoostingRegressor(n_estimators=int(params[0]), learning_rate=params[1], max_depth=int(params[2]), random_state=42)\n",
    "    regressor.fit(train_X, train_y)\n",
    "    pred_y = regressor.predict(test_X)\n",
    "    r2 = r2_score(test_y, pred_y)\n",
    "    return -r2"
   ],
   "metadata": {
    "collapsed": false,
    "ExecuteTime": {
     "end_time": "2024-02-23T09:34:09.874077278Z",
     "start_time": "2024-02-23T09:34:09.831854241Z"
    }
   },
   "id": "fb4299650f83919e",
   "execution_count": 9
  },
  {
   "cell_type": "code",
   "outputs": [
    {
     "name": "stdout",
     "output_type": "stream",
     "text": [
      "differential_evolution step 1: f(x)= -0.867115\n",
      "differential_evolution step 2: f(x)= -0.869221\n",
      "differential_evolution step 3: f(x)= -0.869221\n",
      "differential_evolution step 4: f(x)= -0.869221\n",
      "differential_evolution step 5: f(x)= -0.873031\n",
      "differential_evolution step 6: f(x)= -0.873031\n",
      "differential_evolution step 7: f(x)= -0.873031\n",
      "differential_evolution step 8: f(x)= -0.873031\n",
      "differential_evolution step 9: f(x)= -0.873031\n",
      "differential_evolution step 10: f(x)= -0.873031\n",
      "differential_evolution step 11: f(x)= -0.873031\n",
      "differential_evolution step 12: f(x)= -0.873031\n",
      "differential_evolution step 13: f(x)= -0.873031\n",
      "differential_evolution step 14: f(x)= -0.873031\n",
      "differential_evolution step 15: f(x)= -0.873031\n",
      "differential_evolution step 16: f(x)= -0.873031\n",
      "differential_evolution step 17: f(x)= -0.873031\n",
      "differential_evolution step 18: f(x)= -0.873031\n",
      "differential_evolution step 19: f(x)= -0.873031\n",
      "differential_evolution step 20: f(x)= -0.873031\n",
      "differential_evolution step 21: f(x)= -0.873031\n",
      "differential_evolution step 22: f(x)= -0.873031\n",
      "differential_evolution step 23: f(x)= -0.874841\n",
      "differential_evolution step 24: f(x)= -0.874841\n",
      "differential_evolution step 25: f(x)= -0.874841\n",
      "differential_evolution step 26: f(x)= -0.874841\n",
      "differential_evolution step 27: f(x)= -0.874841\n",
      "differential_evolution step 28: f(x)= -0.874841\n",
      "differential_evolution step 29: f(x)= -0.874841\n",
      "differential_evolution step 30: f(x)= -0.874841\n",
      "differential_evolution step 31: f(x)= -0.874841\n",
      "differential_evolution step 32: f(x)= -0.874841\n",
      "differential_evolution step 33: f(x)= -0.874841\n",
      "differential_evolution step 34: f(x)= -0.874841\n",
      "differential_evolution step 35: f(x)= -0.874841\n",
      "differential_evolution step 36: f(x)= -0.874841\n",
      "differential_evolution step 37: f(x)= -0.874841\n",
      "differential_evolution step 38: f(x)= -0.874841\n",
      "differential_evolution step 39: f(x)= -0.874841\n",
      "differential_evolution step 40: f(x)= -0.874841\n",
      "differential_evolution step 41: f(x)= -0.874841\n",
      "differential_evolution step 42: f(x)= -0.877275\n",
      "differential_evolution step 43: f(x)= -0.877275\n",
      "differential_evolution step 44: f(x)= -0.877275\n",
      "differential_evolution step 45: f(x)= -0.877275\n",
      "differential_evolution step 46: f(x)= -0.877289\n",
      "differential_evolution step 47: f(x)= -0.877289\n",
      "differential_evolution step 48: f(x)= -0.877289\n",
      "differential_evolution step 49: f(x)= -0.877289\n",
      "differential_evolution step 50: f(x)= -0.877289\n",
      "differential_evolution step 51: f(x)= -0.877289\n",
      "differential_evolution step 52: f(x)= -0.877289\n",
      "differential_evolution step 53: f(x)= -0.877289\n",
      "differential_evolution step 54: f(x)= -0.877289\n",
      "differential_evolution step 55: f(x)= -0.877289\n",
      "differential_evolution step 56: f(x)= -0.877422\n",
      "differential_evolution step 57: f(x)= -0.877422\n",
      "differential_evolution step 58: f(x)= -0.877738\n",
      "differential_evolution step 59: f(x)= -0.878157\n",
      "differential_evolution step 60: f(x)= -0.878157\n",
      "differential_evolution step 61: f(x)= -0.878703\n",
      "differential_evolution step 62: f(x)= -0.878703\n",
      "differential_evolution step 63: f(x)= -0.878703\n",
      "differential_evolution step 64: f(x)= -0.878823\n",
      "differential_evolution step 65: f(x)= -0.878823\n",
      "differential_evolution step 66: f(x)= -0.878823\n",
      "differential_evolution step 67: f(x)= -0.878975\n",
      "differential_evolution step 68: f(x)= -0.878975\n",
      "differential_evolution step 69: f(x)= -0.878975\n",
      "differential_evolution step 70: f(x)= -0.878975\n",
      "differential_evolution step 71: f(x)= -0.878975\n",
      "differential_evolution step 72: f(x)= -0.878975\n",
      "differential_evolution step 73: f(x)= -0.878975\n",
      "differential_evolution step 74: f(x)= -0.878975\n",
      "differential_evolution step 75: f(x)= -0.878975\n",
      "differential_evolution step 76: f(x)= -0.878975\n",
      "differential_evolution step 77: f(x)= -0.878975\n",
      "differential_evolution step 78: f(x)= -0.878975\n",
      "differential_evolution step 79: f(x)= -0.878975\n",
      "differential_evolution step 80: f(x)= -0.878975\n",
      "differential_evolution step 81: f(x)= -0.878975\n",
      "differential_evolution step 82: f(x)= -0.878975\n",
      "differential_evolution step 83: f(x)= -0.878975\n",
      "differential_evolution step 84: f(x)= -0.878975\n",
      "differential_evolution step 85: f(x)= -0.878975\n",
      "differential_evolution step 86: f(x)= -0.878975\n",
      "differential_evolution step 87: f(x)= -0.878975\n",
      "differential_evolution step 88: f(x)= -0.878975\n",
      "differential_evolution step 89: f(x)= -0.879145\n",
      "differential_evolution step 90: f(x)= -0.879145\n",
      "differential_evolution step 91: f(x)= -0.879145\n",
      "differential_evolution step 92: f(x)= -0.879145\n",
      "differential_evolution step 93: f(x)= -0.879145\n",
      "differential_evolution step 94: f(x)= -0.879145\n",
      "differential_evolution step 95: f(x)= -0.879145\n",
      "differential_evolution step 96: f(x)= -0.879145\n",
      "differential_evolution step 97: f(x)= -0.879145\n",
      "differential_evolution step 98: f(x)= -0.879145\n",
      "differential_evolution step 99: f(x)= -0.879145\n",
      "differential_evolution step 100: f(x)= -0.879145\n",
      "Polishing solution with 'L-BFGS-B'\n",
      " message: Maximum number of iterations has been exceeded.\n",
      " success: False\n",
      "     fun: -0.8791446411760575\n",
      "       x: [ 2.542e+01  2.341e-01  5.896e+00]\n",
      "     nit: 100\n",
      "    nfev: 4625\n"
     ]
    }
   ],
   "source": [
    "optimization_res = differential_evolution(func=objective_function, \n",
    "                                          bounds=[(2, 300), (0.0001, 0.5), (2, 10)], \n",
    "                                          updating='deferred',\n",
    "                                          workers=10, \n",
    "                                          disp=True,\n",
    "                                          tol=0.00001,\n",
    "                                          atol=0.00001,\n",
    "                                          maxiter=100,\n",
    "                                          args=(X_train_clustered, train_y1, X_test_clustered, test_y1))\n",
    "print(optimization_res)"
   ],
   "metadata": {
    "collapsed": false,
    "ExecuteTime": {
     "end_time": "2024-02-23T09:39:47.574319922Z",
     "start_time": "2024-02-23T09:34:23.501272499Z"
    }
   },
   "id": "c20d74c431e55719",
   "execution_count": 10
  },
  {
   "cell_type": "code",
   "outputs": [
    {
     "data": {
      "text/plain": "array([25.41849192,  0.23412199,  5.89647944])"
     },
     "execution_count": 11,
     "metadata": {},
     "output_type": "execute_result"
    }
   ],
   "source": [
    "optimization_res.x"
   ],
   "metadata": {
    "collapsed": false,
    "ExecuteTime": {
     "end_time": "2024-02-23T09:39:47.579741168Z",
     "start_time": "2024-02-23T09:39:47.575914015Z"
    }
   },
   "id": "456dd64eba68cc4d",
   "execution_count": 11
  },
  {
   "cell_type": "code",
   "outputs": [
    {
     "name": "stdout",
     "output_type": "stream",
     "text": [
      "------ test metrics ------\n",
      "Mean Squared Error (MSE):              24150519546146.1523437500\n",
      "Root Mean Squared Error (RMSE):        4914317.8108610511\n",
      "Mean Absolute Error (MAE):             2693797.0270802616\n",
      "R-squared (R²):                        0.8791446412\n",
      "Mean Absolute Percentage Error (MAPE): 0.0670708414\n",
      "Max Error (ME):                        26141083.2610476315\n",
      "Median Absolute Error (MedAE):         1223911.5283946395\n",
      "------ train metrics ------\n",
      "Mean Squared Error (MSE):              5963400758092.5068359375\n",
      "Root Mean Squared Error (RMSE):        2442007.5262153693\n",
      "Mean Absolute Error (MAE):             1455520.4139003016\n",
      "R-squared (R²):                        0.9664503433\n",
      "Mean Absolute Percentage Error (MAPE): 0.0375213517\n",
      "Max Error (ME):                        16391553.9229646474\n",
      "Median Absolute Error (MedAE):         851600.9063619673\n"
     ]
    }
   ],
   "source": [
    "from metrics import print_metrics\n",
    "from sklearn.ensemble import GradientBoostingRegressor\n",
    "\n",
    "# Create an instance of GradientBoostingRegressor\n",
    "gb_regressor = GradientBoostingRegressor(n_estimators=int(optimization_res.x[0]), learning_rate=optimization_res.x[1], max_depth=int(optimization_res.x[2]), random_state=42)\n",
    "\n",
    "# Fit the regressor to the training data\n",
    "gb_regressor.fit(X_train_clustered, train_y1)\n",
    "\n",
    "print(\"------ test metrics ------\")\n",
    "print_metrics(test_y1, gb_regressor.predict(X_test_clustered))\n",
    "\n",
    "print(\"------ train metrics ------\")\n",
    "print_metrics(train_y1, gb_regressor.predict(X_train_clustered))"
   ],
   "metadata": {
    "collapsed": false,
    "ExecuteTime": {
     "end_time": "2024-02-23T09:39:54.571643212Z",
     "start_time": "2024-02-23T09:39:54.273145829Z"
    }
   },
   "id": "bd57c304bd7cfd7c",
   "execution_count": 12
  },
  {
   "cell_type": "markdown",
   "source": [
    "<h1> Add ridge </h1>"
   ],
   "metadata": {
    "collapsed": false
   },
   "id": "716722d59fd87750"
  },
  {
   "cell_type": "markdown",
   "source": [
    "<h2> Create new dataset </h2>"
   ],
   "metadata": {
    "collapsed": false
   },
   "id": "63ec3752f4bc1668"
  },
  {
   "cell_type": "code",
   "outputs": [],
   "source": [
    "X_train_clustered_GBR = np.concatenate((X_train_clustered, gb_regressor.predict(X_train_clustered).reshape(-1, 1)), axis=1)\n",
    "X_test_clustered_GBR = np.concatenate((X_test_clustered, gb_regressor.predict(X_test_clustered).reshape(-1, 1)), axis=1)"
   ],
   "metadata": {
    "collapsed": false,
    "ExecuteTime": {
     "end_time": "2024-02-23T09:59:12.494920307Z",
     "start_time": "2024-02-23T09:59:12.451590229Z"
    }
   },
   "id": "465ed47dd62ab98b",
   "execution_count": 26
  },
  {
   "cell_type": "code",
   "outputs": [
    {
     "data": {
      "text/plain": "array([[4.77681738e-01, 8.23967716e-01, 4.58462656e-01, ...,\n        0.00000000e+00, 0.00000000e+00, 4.35286717e+07],\n       [4.16911987e-01, 8.57675549e-01, 3.56649331e-01, ...,\n        0.00000000e+00, 1.00000000e+00, 2.92882614e+07],\n       [8.75321246e-01, 8.32759553e-01, 4.59614227e-01, ...,\n        0.00000000e+00, 0.00000000e+00, 4.06425270e+07],\n       ...,\n       [4.86694838e-01, 8.29044741e-01, 3.96199566e-01, ...,\n        1.00000000e+00, 0.00000000e+00, 3.57244091e+07],\n       [4.37172063e-01, 8.24853197e-01, 5.63944592e-01, ...,\n        0.00000000e+00, 0.00000000e+00, 5.33705438e+07],\n       [4.97642231e-01, 8.32184480e-01, 4.00926791e-01, ...,\n        0.00000000e+00, 0.00000000e+00, 3.86750416e+07]])"
     },
     "execution_count": 27,
     "metadata": {},
     "output_type": "execute_result"
    }
   ],
   "source": [
    "X_train_clustered_GBR"
   ],
   "metadata": {
    "collapsed": false,
    "ExecuteTime": {
     "end_time": "2024-02-23T09:59:15.408653586Z",
     "start_time": "2024-02-23T09:59:15.382113963Z"
    }
   },
   "id": "2b6cfd0ec6e5fea9",
   "execution_count": 27
  },
  {
   "cell_type": "code",
   "outputs": [
    {
     "data": {
      "text/plain": "array([[4.49604835e-01, 8.21874302e-01, 2.91712494e-01, ...,\n        0.00000000e+00, 0.00000000e+00, 2.46981845e+07],\n       [4.77361319e-01, 8.30029582e-01, 2.98025624e-01, ...,\n        0.00000000e+00, 0.00000000e+00, 2.44821575e+07],\n       [4.96203357e-01, 8.00793266e-01, 4.06163358e-01, ...,\n        0.00000000e+00, 0.00000000e+00, 3.64345312e+07],\n       ...,\n       [3.95380331e-01, 8.39654784e-01, 3.25438843e-01, ...,\n        1.00000000e+00, 0.00000000e+00, 2.63503277e+07],\n       [5.93007706e-01, 8.34051296e-01, 3.67337393e-01, ...,\n        0.00000000e+00, 0.00000000e+00, 3.05728005e+07],\n       [5.06051307e-01, 8.29069207e-01, 3.95420767e-01, ...,\n        0.00000000e+00, 0.00000000e+00, 4.04498195e+07]])"
     },
     "execution_count": 28,
     "metadata": {},
     "output_type": "execute_result"
    }
   ],
   "source": [
    "X_test_clustered_GBR"
   ],
   "metadata": {
    "collapsed": false,
    "ExecuteTime": {
     "end_time": "2024-02-23T09:59:19.066418710Z",
     "start_time": "2024-02-23T09:59:19.018931855Z"
    }
   },
   "id": "b271f963f3515c4c",
   "execution_count": 28
  },
  {
   "cell_type": "markdown",
   "source": [
    "<h2> Scale features </h2>"
   ],
   "metadata": {
    "collapsed": false
   },
   "id": "98ff7f6b9a8baa4"
  },
  {
   "cell_type": "code",
   "outputs": [],
   "source": [
    "# scale features\n",
    "scaler_GBR = MaxAbsScaler()\n",
    "scaler_GBR.fit(X_train_clustered_GBR)\n",
    "X_train_clustered_GBR = scaler_GBR.transform(X_train_clustered_GBR)\n",
    "X_test_clustered_GBR = scaler_GBR.transform(X_test_clustered_GBR)"
   ],
   "metadata": {
    "collapsed": false,
    "ExecuteTime": {
     "end_time": "2024-02-23T10:06:47.613118475Z",
     "start_time": "2024-02-23T10:06:47.568544843Z"
    }
   },
   "id": "92268b42c1148214",
   "execution_count": 31
  },
  {
   "cell_type": "markdown",
   "source": [
    "<h1> Use ridge regression with arbitrary alpha parameter </h1>"
   ],
   "metadata": {
    "collapsed": false
   },
   "id": "d06242dc7c727400"
  },
  {
   "cell_type": "code",
   "outputs": [
    {
     "name": "stdout",
     "output_type": "stream",
     "text": [
      "------ test metrics ------\n",
      "Mean Squared Error (MSE):              23823362989346.8593750000\n",
      "Root Mean Squared Error (RMSE):        4880918.2526802123\n",
      "Mean Absolute Error (MAE):             2712960.8603568012\n",
      "R-squared (R²):                        0.8807818160\n",
      "Mean Absolute Percentage Error (MAPE): 0.0672196334\n",
      "Max Error (ME):                        25396913.5107111558\n",
      "Median Absolute Error (MedAE):         1257891.0078820996\n",
      "------ train metrics ------\n",
      "Mean Squared Error (MSE):              7174670091106.0371093750\n",
      "Root Mean Squared Error (RMSE):        2678557.4645891092\n",
      "Mean Absolute Error (MAE):             1603630.8872484153\n",
      "R-squared (R²):                        0.9596358306\n",
      "Mean Absolute Percentage Error (MAPE): 0.0407000736\n",
      "Max Error (ME):                        17175357.1235065088\n",
      "Median Absolute Error (MedAE):         942402.5607749335\n"
     ]
    }
   ],
   "source": [
    "from sklearn.linear_model import Ridge\n",
    "from metrics import print_metrics\n",
    "\n",
    "\n",
    "# Create a Ridge regression model\n",
    "ridge_reg = Ridge(alpha=1.0)  # You can adjust the regularization strength with the alpha parameter\n",
    "\n",
    "# Train the model\n",
    "ridge_reg.fit(X_train_clustered_GBR, train_y1)\n",
    "\n",
    "print(\"------ test metrics ------\")\n",
    "print_metrics(test_y1, ridge_reg.predict(X_test_clustered_GBR))\n",
    "\n",
    "print(\"------ train metrics ------\")\n",
    "print_metrics(train_y1, ridge_reg.predict(X_train_clustered_GBR))"
   ],
   "metadata": {
    "collapsed": false,
    "ExecuteTime": {
     "end_time": "2024-02-23T10:06:54.996778264Z",
     "start_time": "2024-02-23T10:06:54.970037505Z"
    }
   },
   "id": "7f886d80b5047656",
   "execution_count": 32
  },
  {
   "cell_type": "markdown",
   "source": [
    "<h1> Optimize alpha parameter of Ridge regression <h1>"
   ],
   "metadata": {
    "collapsed": false
   },
   "id": "c97f8a2053f4943e"
  },
  {
   "cell_type": "code",
   "outputs": [],
   "source": [
    "from sklearn.metrics import r2_score\n",
    "from scipy.optimize import differential_evolution\n",
    "\n",
    "# define objective function\n",
    "def objective_function_ridge_regression(params, train_X, train_y, test_X, test_y):\n",
    "    regressor = Ridge(alpha=params[0])\n",
    "    regressor.fit(train_X, train_y)\n",
    "    pred_y = regressor.predict(test_X)\n",
    "    r2 = r2_score(test_y, pred_y)\n",
    "    return -r2"
   ],
   "metadata": {
    "collapsed": false,
    "ExecuteTime": {
     "end_time": "2024-02-23T10:09:28.108562533Z",
     "start_time": "2024-02-23T10:09:28.050360735Z"
    }
   },
   "id": "27c25c7339fc0288",
   "execution_count": 33
  },
  {
   "cell_type": "code",
   "outputs": [
    {
     "name": "stdout",
     "output_type": "stream",
     "text": [
      "differential_evolution step 1: f(x)= -0.878609\n",
      "differential_evolution step 2: f(x)= -0.87964\n",
      "differential_evolution step 3: f(x)= -0.87964\n",
      "differential_evolution step 4: f(x)= -0.880794\n",
      "differential_evolution step 5: f(x)= -0.880794\n",
      "differential_evolution step 6: f(x)= -0.880794\n",
      "differential_evolution step 7: f(x)= -0.880794\n",
      "differential_evolution step 8: f(x)= -0.880794\n",
      "differential_evolution step 9: f(x)= -0.880799\n",
      "differential_evolution step 10: f(x)= -0.880801\n",
      "differential_evolution step 11: f(x)= -0.880801\n",
      "differential_evolution step 12: f(x)= -0.880801\n",
      "Polishing solution with 'L-BFGS-B'\n",
      " message: Optimization terminated successfully.\n",
      " success: True\n",
      "     fun: -0.8808007060202567\n",
      "       x: [ 9.281e-01]\n",
      "     nit: 12\n",
      "    nfev: 201\n",
      "     jac: [-7.438e-07]\n"
     ]
    }
   ],
   "source": [
    "optimization_res = differential_evolution(func=objective_function_ridge_regression, \n",
    "                                          bounds=[(0, 50)], \n",
    "                                          updating='deferred',\n",
    "                                          workers=10, \n",
    "                                          disp=True,\n",
    "                                          tol=0.00001,\n",
    "                                          atol=0.00001,\n",
    "                                          maxiter=100,\n",
    "                                          args=(X_train_clustered_GBR, train_y1, X_test_clustered_GBR, test_y1))\n",
    "print(optimization_res)"
   ],
   "metadata": {
    "collapsed": false,
    "ExecuteTime": {
     "end_time": "2024-02-23T10:10:40.142295822Z",
     "start_time": "2024-02-23T10:10:38.473986260Z"
    }
   },
   "id": "1c32fca08ea314a2",
   "execution_count": 35
  },
  {
   "cell_type": "code",
   "outputs": [
    {
     "data": {
      "text/plain": "array([0.92809241])"
     },
     "execution_count": 36,
     "metadata": {},
     "output_type": "execute_result"
    }
   ],
   "source": [
    "optimization_res.x"
   ],
   "metadata": {
    "collapsed": false,
    "ExecuteTime": {
     "end_time": "2024-02-23T10:10:51.615679450Z",
     "start_time": "2024-02-23T10:10:51.577978674Z"
    }
   },
   "id": "5b950a9803dcf4e8",
   "execution_count": 36
  },
  {
   "cell_type": "code",
   "outputs": [
    {
     "name": "stdout",
     "output_type": "stream",
     "text": [
      "------ test metrics ------\n",
      "Mean Squared Error (MSE):              23819588201614.0195312500\n",
      "Root Mean Squared Error (RMSE):        4880531.5490849987\n",
      "Mean Absolute Error (MAE):             2704807.1620888487\n",
      "R-squared (R²):                        0.8808007060\n",
      "Mean Absolute Percentage Error (MAPE): 0.0670710181\n",
      "Max Error (ME):                        25468195.1228327975\n",
      "Median Absolute Error (MedAE):         1221405.5005792752\n",
      "------ train metrics ------\n",
      "Mean Squared Error (MSE):              6980113715021.7617187500\n",
      "Root Mean Squared Error (RMSE):        2641990.4835221800\n",
      "Mean Absolute Error (MAE):             1579727.0835537903\n",
      "R-squared (R²):                        0.9607303906\n",
      "Mean Absolute Percentage Error (MAPE): 0.0401572308\n",
      "Max Error (ME):                        17063101.7947678417\n",
      "Median Absolute Error (MedAE):         940116.9938033447\n"
     ]
    }
   ],
   "source": [
    "from sklearn.linear_model import Ridge\n",
    "from metrics import print_metrics\n",
    "\n",
    "\n",
    "# Create a Ridge regression model\n",
    "ridge_reg = Ridge(alpha=optimization_res.x[0])  # You can adjust the regularization strength with the alpha parameter\n",
    "\n",
    "# Train the model\n",
    "ridge_reg.fit(X_train_clustered_GBR, train_y1)\n",
    "\n",
    "print(\"------ test metrics ------\")\n",
    "print_metrics(test_y1, ridge_reg.predict(X_test_clustered_GBR))\n",
    "\n",
    "print(\"------ train metrics ------\")\n",
    "print_metrics(train_y1, ridge_reg.predict(X_train_clustered_GBR))"
   ],
   "metadata": {
    "collapsed": false,
    "ExecuteTime": {
     "end_time": "2024-02-23T10:11:42.725864450Z",
     "start_time": "2024-02-23T10:11:42.682024036Z"
    }
   },
   "id": "6d59534461742d5d",
   "execution_count": 37
  },
  {
   "cell_type": "code",
   "outputs": [],
   "source": [],
   "metadata": {
    "collapsed": false
   },
   "id": "997f99956b9064dd"
  }
 ],
 "metadata": {
  "kernelspec": {
   "display_name": "Python 3",
   "language": "python",
   "name": "python3"
  },
  "language_info": {
   "codemirror_mode": {
    "name": "ipython",
    "version": 2
   },
   "file_extension": ".py",
   "mimetype": "text/x-python",
   "name": "python",
   "nbconvert_exporter": "python",
   "pygments_lexer": "ipython2",
   "version": "2.7.6"
  }
 },
 "nbformat": 4,
 "nbformat_minor": 5
}
