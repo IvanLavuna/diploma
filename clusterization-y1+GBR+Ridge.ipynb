{
 "cells": [
  {
   "cell_type": "markdown",
   "source": [
    "<h1> Clusterization with y1 + GBR </h1>"
   ],
   "metadata": {
    "collapsed": false
   },
   "id": "754fde0b7ab96a9e"
  },
  {
   "cell_type": "code",
   "outputs": [],
   "source": [
    "import pandas as pd\n",
    "from sklearn.preprocessing import MaxAbsScaler\n",
    "import numpy as np\n",
    "\n",
    "# read datasets\n",
    "train_df = pd.read_csv('data/train2.csv')\n",
    "test_df = pd.read_csv('data/test2.csv')\n",
    "\n",
    "y1_name, y2_name, y3_name = \"dir_costs\", \"traffic_costs_s_r\", \"lost_trips_costs_s_r\"\n",
    "train_y1, train_y2, train_y3 = train_df[y1_name], train_df[y2_name], train_df[y3_name]\n",
    "test_y1, test_y2, test_y3 = test_df[y1_name], test_df[y2_name], test_df[y3_name]\n",
    "\n",
    "# scale features\n",
    "X_train = train_df.drop(columns=[y1_name, y2_name, y3_name])\n",
    "scaler = MaxAbsScaler()\n",
    "scaler.fit(X_train)\n",
    "X_train = scaler.transform(X_train)\n",
    "\n",
    "X_test = test_df.drop(columns=[y1_name, y2_name, y3_name])\n",
    "X_test = scaler.transform(X_test)\n",
    "\n",
    "# prepare dataset from training kmeans\n",
    "X_train_y3 = np.concatenate((X_train, train_df[y3_name].values.reshape(-1, 1)), axis=1)\n",
    "scaler_y3 = MaxAbsScaler()\n",
    "scaler_y3.fit(X_train_y3)\n",
    "X_train_y3 = scaler_y3.transform(X_train_y3)"
   ],
   "metadata": {
    "collapsed": false,
    "ExecuteTime": {
     "end_time": "2024-02-28T12:34:13.523935Z",
     "start_time": "2024-02-28T12:34:12.867787Z"
    }
   },
   "id": "9b67d9c6493eca96",
   "execution_count": 1
  },
  {
   "cell_type": "markdown",
   "source": [
    "<h1> Pick optimal number of clusters (Elbow method) </h1>\n"
   ],
   "metadata": {
    "collapsed": false
   },
   "id": "d2a0cd9b5bb524ed"
  },
  {
   "cell_type": "code",
   "outputs": [
    {
     "data": {
      "text/plain": "<Figure size 640x480 with 1 Axes>",
      "image/png": "[encoded data removed]"
     },
     "metadata": {},
     "output_type": "display_data"
    }
   ],
   "source": [
    "from sklearn.cluster import KMeans\n",
    "import matplotlib.pyplot as plt\n",
    "\n",
    "# Define a range of cluster numbers\n",
    "cluster_range = range(1, 30)\n",
    "wcss = []\n",
    "\n",
    "# Calculate WCSS for each cluster number\n",
    "for n_clusters in cluster_range:\n",
    "    kmeans = KMeans(n_clusters=n_clusters, random_state=42, n_init=10)\n",
    "    kmeans.fit(X_train_y3)\n",
    "    wcss.append(kmeans.inertia_)\n",
    "\n",
    "# Plot the elbow method graph\n",
    "plt.plot(cluster_range, wcss, marker='o')\n",
    "plt.xlabel('Number of Clusters')\n",
    "plt.ylabel('WCSS')\n",
    "plt.title('Elbow Method')\n",
    "plt.show()"
   ],
   "metadata": {
    "collapsed": false,
    "ExecuteTime": {
     "end_time": "2024-02-28T12:34:54.359027Z",
     "start_time": "2024-02-28T12:34:16.787698Z"
    }
   },
   "id": "6cacc02187880e18",
   "execution_count": 2
  },
  {
   "cell_type": "markdown",
   "source": [
    "<h1> Train kmeans with y3 </h1>"
   ],
   "metadata": {
    "collapsed": false
   },
   "id": "64d7608b0127b040"
  },
  {
   "cell_type": "code",
   "outputs": [
    {
     "data": {
      "text/plain": "KMeans(n_clusters=4, n_init=10, random_state=42)",
      "text/html": "<style>#sk-container-id-1 {color: black;}#sk-container-id-1 pre{padding: 0;}#sk-container-id-1 div.sk-toggleable {background-color: white;}#sk-container-id-1 label.sk-toggleable__label {cursor: pointer;display: block;width: 100%;margin-bottom: 0;padding: 0.3em;box-sizing: border-box;text-align: center;}#sk-container-id-1 label.sk-toggleable__label-arrow:before {content: \"▸\";float: left;margin-right: 0.25em;color: #696969;}#sk-container-id-1 label.sk-toggleable__label-arrow:hover:before {color: black;}#sk-container-id-1 div.sk-estimator:hover label.sk-toggleable__label-arrow:before {color: black;}#sk-container-id-1 div.sk-toggleable__content {max-height: 0;max-width: 0;overflow: hidden;text-align: left;background-color: #f0f8ff;}#sk-container-id-1 div.sk-toggleable__content pre {margin: 0.2em;color: black;border-radius: 0.25em;background-color: #f0f8ff;}#sk-container-id-1 input.sk-toggleable__control:checked~div.sk-toggleable__content {max-height: 200px;max-width: 100%;overflow: auto;}#sk-container-id-1 input.sk-toggleable__control:checked~label.sk-toggleable__label-arrow:before {content: \"▾\";}#sk-container-id-1 div.sk-estimator input.sk-toggleable__control:checked~label.sk-toggleable__label {background-color: #d4ebff;}#sk-container-id-1 div.sk-label input.sk-toggleable__control:checked~label.sk-toggleable__label {background-color: #d4ebff;}#sk-container-id-1 input.sk-hidden--visually {border: 0;clip: rect(1px 1px 1px 1px);clip: rect(1px, 1px, 1px, 1px);height: 1px;margin: -1px;overflow: hidden;padding: 0;position: absolute;width: 1px;}#sk-container-id-1 div.sk-estimator {font-family: monospace;background-color: #f0f8ff;border: 1px dotted black;border-radius: 0.25em;box-sizing: border-box;margin-bottom: 0.5em;}#sk-container-id-1 div.sk-estimator:hover {background-color: #d4ebff;}#sk-container-id-1 div.sk-parallel-item::after {content: \"\";width: 100%;border-bottom: 1px solid gray;flex-grow: 1;}#sk-container-id-1 div.sk-label:hover label.sk-toggleable__label {background-color: #d4ebff;}#sk-container-id-1 div.sk-serial::before {content: \"\";position: absolute;border-left: 1px solid gray;box-sizing: border-box;top: 0;bottom: 0;left: 50%;z-index: 0;}#sk-container-id-1 div.sk-serial {display: flex;flex-direction: column;align-items: center;background-color: white;padding-right: 0.2em;padding-left: 0.2em;position: relative;}#sk-container-id-1 div.sk-item {position: relative;z-index: 1;}#sk-container-id-1 div.sk-parallel {display: flex;align-items: stretch;justify-content: center;background-color: white;position: relative;}#sk-container-id-1 div.sk-item::before, #sk-container-id-1 div.sk-parallel-item::before {content: \"\";position: absolute;border-left: 1px solid gray;box-sizing: border-box;top: 0;bottom: 0;left: 50%;z-index: -1;}#sk-container-id-1 div.sk-parallel-item {display: flex;flex-direction: column;z-index: 1;position: relative;background-color: white;}#sk-container-id-1 div.sk-parallel-item:first-child::after {align-self: flex-end;width: 50%;}#sk-container-id-1 div.sk-parallel-item:last-child::after {align-self: flex-start;width: 50%;}#sk-container-id-1 div.sk-parallel-item:only-child::after {width: 0;}#sk-container-id-1 div.sk-dashed-wrapped {border: 1px dashed gray;margin: 0 0.4em 0.5em 0.4em;box-sizing: border-box;padding-bottom: 0.4em;background-color: white;}#sk-container-id-1 div.sk-label label {font-family: monospace;font-weight: bold;display: inline-block;line-height: 1.2em;}#sk-container-id-1 div.sk-label-container {text-align: center;}#sk-container-id-1 div.sk-container {/* jupyter's `normalize.less` sets `[hidden] { display: none; }` but bootstrap.min.css set `[hidden] { display: none !important; }` so we also need the `!important` here to be able to override the default hidden behavior on the sphinx rendered scikit-learn.org. See: https://github.com/scikit-learn/scikit-learn/issues/21755 */display: inline-block !important;position: relative;}#sk-container-id-1 div.sk-text-repr-fallback {display: none;}</style><div id=\"sk-container-id-1\" class=\"sk-top-container\"><div class=\"sk-text-repr-fallback\"><pre>KMeans(n_clusters=4, n_init=10, random_state=42)</pre><b>In a Jupyter environment, please rerun this cell to show the HTML representation or trust the notebook. <br />On GitHub, the HTML representation is unable to render, please try loading this page with nbviewer.org.</b></div><div class=\"sk-container\" hidden><div class=\"sk-item\"><div class=\"sk-estimator sk-toggleable\"><input class=\"sk-toggleable__control sk-hidden--visually\" id=\"sk-estimator-id-1\" type=\"checkbox\" checked><label for=\"sk-estimator-id-1\" class=\"sk-toggleable__label sk-toggleable__label-arrow\">KMeans</label><div class=\"sk-toggleable__content\"><pre>KMeans(n_clusters=4, n_init=10, random_state=42)</pre></div></div></div></div></div>"
     },
     "execution_count": 3,
     "metadata": {},
     "output_type": "execute_result"
    }
   ],
   "source": [
    "from sklearn.cluster import KMeans\n",
    "\n",
    "clusters_num = 4\n",
    "kmeans = KMeans(n_clusters=clusters_num, random_state=42, n_init=10)\n",
    "kmeans.fit(X_train_y3)"
   ],
   "metadata": {
    "collapsed": false,
    "ExecuteTime": {
     "end_time": "2024-02-28T12:35:22.701168Z",
     "start_time": "2024-02-28T12:35:21.392949Z"
    }
   },
   "id": "860056968e5c7fee",
   "execution_count": 3
  },
  {
   "cell_type": "code",
   "outputs": [],
   "source": [
    "import numpy as np\n",
    "# transforms X into clustered dataset with. k - number of clusters in the range [0, k-1]\n",
    "def transform_to_clustered_dataset_train(X: np.ndarray, Xy: pd.DataFrame, cluster_predictor, k: int):\n",
    "    clusters = cluster_predictor.predict(Xy)\n",
    "    zero_columns = pd.DataFrame(np.zeros((X.shape[0], k)), columns=[f'class_{i}' for i in range(k)])\n",
    "    res = np.concatenate((X, zero_columns), axis=1)\n",
    "    for i in range(res.shape[0]):\n",
    "        cluster = clusters[i]\n",
    "        res[i, X.shape[1] + cluster] = 1.0 \n",
    "    return res\n",
    "\n",
    "def transform_to_clustered_dataset_test(X: np.ndarray, kmeans_model: KMeans, k: int):\n",
    "    centers = kmeans_model.cluster_centers_[:, :-1]\n",
    "    clusters = []\n",
    "    for row in X:\n",
    "        min_dist = np.Infinity\n",
    "        cluster = -1\n",
    "        for i in range(k):\n",
    "            cur_dist = np.linalg.norm(row - centers[i])\n",
    "            if cur_dist < min_dist:\n",
    "                min_dist = cur_dist\n",
    "                cluster = i\n",
    "        if cluster == -1:\n",
    "            raise \"Error\"\n",
    "        clusters.append(cluster)\n",
    "        \n",
    "    zero_columns = pd.DataFrame(np.zeros((X.shape[0], k)), columns=[f'class_{i}' for i in range(k)])\n",
    "    res = np.concatenate((X, zero_columns), axis=1)\n",
    "    for i in range(res.shape[0]):\n",
    "        cluster = clusters[i]\n",
    "        res[i, X.shape[1] + cluster] = 1.0 \n",
    "    return res\n",
    "            "
   ],
   "metadata": {
    "collapsed": false,
    "ExecuteTime": {
     "end_time": "2024-02-28T12:35:24.951465Z",
     "start_time": "2024-02-28T12:35:24.941980Z"
    }
   },
   "id": "98c5c337e74e465d",
   "execution_count": 4
  },
  {
   "cell_type": "code",
   "outputs": [],
   "source": [
    "X_train_clustered = transform_to_clustered_dataset_train(X_train, X_train_y3, kmeans, clusters_num)\n",
    "X_test_clustered = transform_to_clustered_dataset_test(X_test, kmeans, clusters_num)"
   ],
   "metadata": {
    "collapsed": false,
    "ExecuteTime": {
     "end_time": "2024-02-28T12:35:36.848844Z",
     "start_time": "2024-02-28T12:35:36.811515Z"
    }
   },
   "id": "cde3707b615eed0e",
   "execution_count": 5
  },
  {
   "cell_type": "code",
   "outputs": [
    {
     "data": {
      "text/plain": "array([[0.47768174, 0.82396772, 0.45846266, ..., 0.        , 0.        ,\n        0.        ],\n       [0.41691199, 0.85767555, 0.35664933, ..., 0.        , 0.        ,\n        1.        ],\n       [0.87532125, 0.83275955, 0.45961423, ..., 0.        , 0.        ,\n        0.        ],\n       ...,\n       [0.48669484, 0.82904474, 0.39619957, ..., 0.        , 1.        ,\n        0.        ],\n       [0.43717206, 0.8248532 , 0.56394459, ..., 0.        , 0.        ,\n        0.        ],\n       [0.49764223, 0.83218448, 0.40092679, ..., 1.        , 0.        ,\n        0.        ]])"
     },
     "execution_count": 6,
     "metadata": {},
     "output_type": "execute_result"
    }
   ],
   "source": [
    "X_train_clustered"
   ],
   "metadata": {
    "collapsed": false,
    "ExecuteTime": {
     "end_time": "2024-02-28T12:35:38.664976Z",
     "start_time": "2024-02-28T12:35:38.656047Z"
    }
   },
   "id": "fbe60f36ce855ff8",
   "execution_count": 6
  },
  {
   "cell_type": "code",
   "outputs": [
    {
     "data": {
      "text/plain": "array([[0.44960484, 0.8218743 , 0.29171249, ..., 0.        , 0.        ,\n        0.        ],\n       [0.47736132, 0.83002958, 0.29802562, ..., 1.        , 0.        ,\n        0.        ],\n       [0.49620336, 0.80079327, 0.40616336, ..., 0.        , 0.        ,\n        0.        ],\n       ...,\n       [0.39538033, 0.83965478, 0.32543884, ..., 0.        , 1.        ,\n        0.        ],\n       [0.59300771, 0.8340513 , 0.36733739, ..., 1.        , 0.        ,\n        0.        ],\n       [0.50605131, 0.82906921, 0.39542077, ..., 1.        , 0.        ,\n        0.        ]])"
     },
     "execution_count": 7,
     "metadata": {},
     "output_type": "execute_result"
    }
   ],
   "source": [
    "X_test_clustered"
   ],
   "metadata": {
    "collapsed": false,
    "ExecuteTime": {
     "end_time": "2024-02-28T12:35:40.248315Z",
     "start_time": "2024-02-28T12:35:40.238858Z"
    }
   },
   "id": "8667d04c4973d9c2",
   "execution_count": 7
  },
  {
   "cell_type": "markdown",
   "source": [
    "<h1> GBR with arbitrary hyperparameters </h1>"
   ],
   "metadata": {
    "collapsed": false
   },
   "id": "acb2fe3efe101754"
  },
  {
   "cell_type": "code",
   "outputs": [
    {
     "name": "stdout",
     "output_type": "stream",
     "text": [
      "------ test metrics ------\n",
      "Mean Squared Error (MSE):              922741340363834.5000000000\n",
      "Root Mean Squared Error (RMSE):        30376657.8208306916\n",
      "Mean Absolute Error (MAE):             15885446.8439574316\n",
      "R-squared (R²):                        0.6339005714\n",
      "Mean Absolute Percentage Error (MAPE): 0.1704542120\n",
      "Max Error (ME):                        235980290.8397647738\n",
      "Median Absolute Error (MedAE):         6407662.0404284671\n",
      "------ train metrics ------\n",
      "Mean Squared Error (MSE):              58945983862572.6015625000\n",
      "Root Mean Squared Error (RMSE):        7677628.7916629966\n",
      "Mean Absolute Error (MAE):             5160503.7678638743\n",
      "R-squared (R²):                        0.9781351704\n",
      "Mean Absolute Percentage Error (MAPE): 0.0717949596\n",
      "Max Error (ME):                        44328712.6522617638\n",
      "Median Absolute Error (MedAE):         3373004.5904340874\n"
     ]
    }
   ],
   "source": [
    "from metrics import print_metrics\n",
    "from sklearn.ensemble import GradientBoostingRegressor\n",
    "\n",
    "# Create an instance of GradientBoostingRegressor\n",
    "gb_regressor = GradientBoostingRegressor(n_estimators=48, learning_rate=0.096952, max_depth=6, random_state=42)\n",
    "\n",
    "# Fit the regressor to the training data\n",
    "gb_regressor.fit(X_train_clustered, train_y3)\n",
    "\n",
    "print(\"------ test metrics ------\")\n",
    "print_metrics(test_y3, gb_regressor.predict(X_test_clustered))\n",
    "\n",
    "print(\"------ train metrics ------\")\n",
    "print_metrics(train_y3, gb_regressor.predict(X_train_clustered))"
   ],
   "metadata": {
    "collapsed": false,
    "ExecuteTime": {
     "end_time": "2024-02-28T12:35:50.737413Z",
     "start_time": "2024-02-28T12:35:50.298587Z"
    }
   },
   "id": "3c7a26a97ecf7cb6",
   "execution_count": 8
  },
  {
   "cell_type": "markdown",
   "source": [
    "<h1> Optimize Gradient boost parameters using Differential evolution</h1>"
   ],
   "metadata": {
    "collapsed": false
   },
   "id": "a7636a8fd367c4df"
  },
  {
   "cell_type": "code",
   "outputs": [],
   "source": [
    "from sklearn.metrics import r2_score, mean_absolute_percentage_error\n",
    "from scipy.optimize import differential_evolution\n",
    "\n",
    "# define objective function\n",
    "def objective_function(params, train_X, train_y, test_X, test_y):\n",
    "    regressor = GradientBoostingRegressor(n_estimators=int(params[0]), learning_rate=params[1], max_depth=int(params[2]), random_state=42)\n",
    "    regressor.fit(train_X, train_y)\n",
    "    pred_y = regressor.predict(test_X)\n",
    "    r2 = r2_score(test_y, pred_y)\n",
    "    return -r2"
   ],
   "metadata": {
    "collapsed": false,
    "ExecuteTime": {
     "end_time": "2024-02-28T12:36:11.672756Z",
     "start_time": "2024-02-28T12:36:11.667850Z"
    }
   },
   "id": "fb4299650f83919e",
   "execution_count": 9
  },
  {
   "cell_type": "code",
   "outputs": [
    {
     "name": "stdout",
     "output_type": "stream",
     "text": [
      "differential_evolution step 1: f(x)= -0.694112\n",
      "differential_evolution step 2: f(x)= -0.695693\n",
      "differential_evolution step 3: f(x)= -0.695693\n",
      "differential_evolution step 4: f(x)= -0.697255\n",
      "differential_evolution step 5: f(x)= -0.697255\n",
      "differential_evolution step 6: f(x)= -0.697255\n",
      "differential_evolution step 7: f(x)= -0.700025\n",
      "differential_evolution step 8: f(x)= -0.700025\n",
      "differential_evolution step 9: f(x)= -0.700025\n",
      "differential_evolution step 10: f(x)= -0.707706\n",
      "differential_evolution step 11: f(x)= -0.707706\n",
      "differential_evolution step 12: f(x)= -0.707706\n",
      "differential_evolution step 13: f(x)= -0.707706\n",
      "differential_evolution step 14: f(x)= -0.707706\n",
      "differential_evolution step 15: f(x)= -0.713327\n",
      "differential_evolution step 16: f(x)= -0.713327\n",
      "differential_evolution step 17: f(x)= -0.713327\n",
      "differential_evolution step 18: f(x)= -0.713327\n",
      "differential_evolution step 19: f(x)= -0.713327\n",
      "differential_evolution step 20: f(x)= -0.713327\n",
      "differential_evolution step 21: f(x)= -0.713327\n",
      "differential_evolution step 22: f(x)= -0.713327\n",
      "differential_evolution step 23: f(x)= -0.713327\n",
      "differential_evolution step 24: f(x)= -0.713327\n",
      "differential_evolution step 25: f(x)= -0.713327\n",
      "differential_evolution step 26: f(x)= -0.713327\n",
      "differential_evolution step 27: f(x)= -0.713327\n",
      "differential_evolution step 28: f(x)= -0.713327\n",
      "differential_evolution step 29: f(x)= -0.713327\n",
      "differential_evolution step 30: f(x)= -0.713327\n",
      "differential_evolution step 31: f(x)= -0.713327\n",
      "differential_evolution step 32: f(x)= -0.713327\n",
      "differential_evolution step 33: f(x)= -0.713327\n",
      "differential_evolution step 34: f(x)= -0.713327\n",
      "differential_evolution step 35: f(x)= -0.713327\n",
      "differential_evolution step 36: f(x)= -0.713327\n",
      "differential_evolution step 37: f(x)= -0.713327\n",
      "differential_evolution step 38: f(x)= -0.713327\n",
      "differential_evolution step 39: f(x)= -0.713327\n",
      "differential_evolution step 40: f(x)= -0.713327\n",
      "differential_evolution step 41: f(x)= -0.713327\n",
      "differential_evolution step 42: f(x)= -0.713327\n",
      "differential_evolution step 43: f(x)= -0.713327\n",
      "differential_evolution step 44: f(x)= -0.713327\n",
      "differential_evolution step 45: f(x)= -0.713327\n",
      "differential_evolution step 46: f(x)= -0.713327\n",
      "differential_evolution step 47: f(x)= -0.713327\n",
      "differential_evolution step 48: f(x)= -0.713327\n",
      "differential_evolution step 49: f(x)= -0.713455\n",
      "differential_evolution step 50: f(x)= -0.713455\n",
      "differential_evolution step 51: f(x)= -0.713455\n",
      "differential_evolution step 52: f(x)= -0.71373\n",
      "differential_evolution step 53: f(x)= -0.713914\n",
      "differential_evolution step 54: f(x)= -0.714122\n",
      "differential_evolution step 55: f(x)= -0.714122\n",
      "differential_evolution step 56: f(x)= -0.714122\n",
      "differential_evolution step 57: f(x)= -0.714122\n",
      "differential_evolution step 58: f(x)= -0.714122\n",
      "differential_evolution step 59: f(x)= -0.714509\n",
      "differential_evolution step 60: f(x)= -0.714509\n",
      "Polishing solution with 'L-BFGS-B'\n",
      " message: Maximum number of iterations has been exceeded.\n",
      " success: False\n",
      "     fun: -0.7145087339466166\n",
      "       x: [ 2.595e+02  1.281e-01  2.872e+00]\n",
      "     nit: 60\n",
      "    nfev: 2909\n"
     ]
    }
   ],
   "source": [
    "optimization_res = differential_evolution(func=objective_function, \n",
    "                                          bounds=[(2, 300), (0.0001, 0.5), (2, 10)], \n",
    "                                          updating='deferred',\n",
    "                                          workers=10, \n",
    "                                          disp=True,\n",
    "                                          tol=0.00001,\n",
    "                                          atol=0.00001,\n",
    "                                          maxiter=60,\n",
    "                                          args=(X_train_clustered, train_y3, X_test_clustered, test_y3))\n",
    "print(optimization_res)"
   ],
   "metadata": {
    "collapsed": false,
    "ExecuteTime": {
     "end_time": "2024-02-28T12:48:29.588909Z",
     "start_time": "2024-02-28T12:39:48.545176Z"
    }
   },
   "id": "c20d74c431e55719",
   "execution_count": 11
  },
  {
   "cell_type": "code",
   "outputs": [
    {
     "data": {
      "text/plain": "array([2.59463865e+02, 1.28134765e-01, 2.87180380e+00])"
     },
     "execution_count": 13,
     "metadata": {},
     "output_type": "execute_result"
    }
   ],
   "source": [
    "optimization_res.x"
   ],
   "metadata": {
    "collapsed": false,
    "ExecuteTime": {
     "end_time": "2024-02-28T12:48:57.463815Z",
     "start_time": "2024-02-28T12:48:57.455653Z"
    }
   },
   "id": "456dd64eba68cc4d",
   "execution_count": 13
  },
  {
   "cell_type": "code",
   "outputs": [
    {
     "name": "stdout",
     "output_type": "stream",
     "text": [
      "------ test metrics ------\n",
      "Mean Squared Error (MSE):              719571168244090.5000000000\n",
      "Root Mean Squared Error (RMSE):        26824823.7318363488\n",
      "Mean Absolute Error (MAE):             14485556.9348319732\n",
      "R-squared (R²):                        0.7145087339\n",
      "Mean Absolute Percentage Error (MAPE): 0.1671947771\n",
      "Max Error (ME):                        234198820.6500890851\n",
      "Median Absolute Error (MedAE):         7657809.8233819008\n",
      "------ train metrics ------\n",
      "Mean Squared Error (MSE):              247261855755556.9062500000\n",
      "Root Mean Squared Error (RMSE):        15724562.1800912768\n",
      "Mean Absolute Error (MAE):             9961093.8111398835\n",
      "R-squared (R²):                        0.9082831772\n",
      "Mean Absolute Percentage Error (MAPE): 0.1272743822\n",
      "Max Error (ME):                        104834101.3865891695\n",
      "Median Absolute Error (MedAE):         6514158.9314731248\n"
     ]
    }
   ],
   "source": [
    "from metrics import print_metrics\n",
    "from sklearn.ensemble import GradientBoostingRegressor\n",
    "\n",
    "# Create an instance of GradientBoostingRegressor\n",
    "gb_regressor = GradientBoostingRegressor(n_estimators=int(optimization_res.x[0]), learning_rate=optimization_res.x[1], max_depth=int(optimization_res.x[2]), random_state=42)\n",
    "\n",
    "# Fit the regressor to the training data\n",
    "gb_regressor.fit(X_train_clustered, train_y3)\n",
    "\n",
    "print(\"------ test metrics ------\")\n",
    "print_metrics(test_y3, gb_regressor.predict(X_test_clustered))\n",
    "\n",
    "print(\"------ train metrics ------\")\n",
    "print_metrics(train_y3, gb_regressor.predict(X_train_clustered))"
   ],
   "metadata": {
    "collapsed": false,
    "ExecuteTime": {
     "end_time": "2024-02-28T12:49:22.625981Z",
     "start_time": "2024-02-28T12:49:21.772247Z"
    }
   },
   "id": "bd57c304bd7cfd7c",
   "execution_count": 16
  },
  {
   "cell_type": "markdown",
   "source": [
    "<h1> Add ridge </h1>"
   ],
   "metadata": {
    "collapsed": false
   },
   "id": "716722d59fd87750"
  },
  {
   "cell_type": "markdown",
   "source": [
    "<h2> Create new dataset </h2>"
   ],
   "metadata": {
    "collapsed": false
   },
   "id": "63ec3752f4bc1668"
  },
  {
   "cell_type": "code",
   "outputs": [],
   "source": [
    "X_train_clustered_GBR = np.concatenate((X_train_clustered, gb_regressor.predict(X_train_clustered).reshape(-1, 1)), axis=1)\n",
    "X_test_clustered_GBR = np.concatenate((X_test_clustered, gb_regressor.predict(X_test_clustered).reshape(-1, 1)), axis=1)"
   ],
   "metadata": {
    "collapsed": false,
    "ExecuteTime": {
     "end_time": "2024-02-28T12:50:16.563607Z",
     "start_time": "2024-02-28T12:50:16.548922Z"
    }
   },
   "id": "465ed47dd62ab98b",
   "execution_count": 17
  },
  {
   "cell_type": "code",
   "outputs": [
    {
     "data": {
      "text/plain": "array([[4.77681738e-01, 8.23967716e-01, 4.58462656e-01, ...,\n        0.00000000e+00, 0.00000000e+00, 7.08745783e+07],\n       [4.16911987e-01, 8.57675549e-01, 3.56649331e-01, ...,\n        0.00000000e+00, 1.00000000e+00, 6.13285759e+07],\n       [8.75321246e-01, 8.32759553e-01, 4.59614227e-01, ...,\n        0.00000000e+00, 0.00000000e+00, 6.33219892e+07],\n       ...,\n       [4.86694838e-01, 8.29044741e-01, 3.96199566e-01, ...,\n        1.00000000e+00, 0.00000000e+00, 5.79765828e+07],\n       [4.37172063e-01, 8.24853197e-01, 5.63944592e-01, ...,\n        0.00000000e+00, 0.00000000e+00, 8.78834884e+07],\n       [4.97642231e-01, 8.32184480e-01, 4.00926791e-01, ...,\n        0.00000000e+00, 0.00000000e+00, 6.55486262e+07]])"
     },
     "execution_count": 18,
     "metadata": {},
     "output_type": "execute_result"
    }
   ],
   "source": [
    "X_train_clustered_GBR"
   ],
   "metadata": {
    "collapsed": false,
    "ExecuteTime": {
     "end_time": "2024-02-28T12:50:18.606511Z",
     "start_time": "2024-02-28T12:50:18.598401Z"
    }
   },
   "id": "2b6cfd0ec6e5fea9",
   "execution_count": 18
  },
  {
   "cell_type": "code",
   "outputs": [
    {
     "data": {
      "text/plain": "array([[4.49604835e-01, 8.21874302e-01, 2.91712494e-01, ...,\n        0.00000000e+00, 0.00000000e+00, 2.93902555e+07],\n       [4.77361319e-01, 8.30029582e-01, 2.98025624e-01, ...,\n        0.00000000e+00, 0.00000000e+00, 8.20759607e+07],\n       [4.96203357e-01, 8.00793266e-01, 4.06163358e-01, ...,\n        0.00000000e+00, 0.00000000e+00, 3.88516508e+07],\n       ...,\n       [3.95380331e-01, 8.39654784e-01, 3.25438843e-01, ...,\n        1.00000000e+00, 0.00000000e+00, 4.30210716e+07],\n       [5.93007706e-01, 8.34051296e-01, 3.67337393e-01, ...,\n        0.00000000e+00, 0.00000000e+00, 4.87777254e+07],\n       [5.06051307e-01, 8.29069207e-01, 3.95420767e-01, ...,\n        0.00000000e+00, 0.00000000e+00, 6.02100075e+07]])"
     },
     "execution_count": 19,
     "metadata": {},
     "output_type": "execute_result"
    }
   ],
   "source": [
    "X_test_clustered_GBR"
   ],
   "metadata": {
    "collapsed": false,
    "ExecuteTime": {
     "end_time": "2024-02-28T12:50:18.916381Z",
     "start_time": "2024-02-28T12:50:18.910811Z"
    }
   },
   "id": "b271f963f3515c4c",
   "execution_count": 19
  },
  {
   "cell_type": "markdown",
   "source": [
    "<h2> Scale features </h2>"
   ],
   "metadata": {
    "collapsed": false
   },
   "id": "98ff7f6b9a8baa4"
  },
  {
   "cell_type": "code",
   "outputs": [],
   "source": [
    "# scale features\n",
    "scaler_GBR = MaxAbsScaler()\n",
    "scaler_GBR.fit(X_train_clustered_GBR)\n",
    "X_train_clustered_GBR = scaler_GBR.transform(X_train_clustered_GBR)\n",
    "X_test_clustered_GBR = scaler_GBR.transform(X_test_clustered_GBR)"
   ],
   "metadata": {
    "collapsed": false,
    "ExecuteTime": {
     "end_time": "2024-02-28T12:50:23.115187Z",
     "start_time": "2024-02-28T12:50:23.105549Z"
    }
   },
   "id": "92268b42c1148214",
   "execution_count": 20
  },
  {
   "cell_type": "markdown",
   "source": [
    "<h1> Use ridge regression with arbitrary alpha parameter </h1>"
   ],
   "metadata": {
    "collapsed": false
   },
   "id": "d06242dc7c727400"
  },
  {
   "cell_type": "code",
   "outputs": [
    {
     "name": "stdout",
     "output_type": "stream",
     "text": [
      "------ test metrics ------\n",
      "Mean Squared Error (MSE):              717777912035317.0000000000\n",
      "Root Mean Squared Error (RMSE):        26791377.5688245818\n",
      "Mean Absolute Error (MAE):             14486673.5863033086\n",
      "R-squared (R²):                        0.7152202118\n",
      "Mean Absolute Percentage Error (MAPE): 0.1677585010\n",
      "Max Error (ME):                        233525582.5135841966\n",
      "Median Absolute Error (MedAE):         7532570.2293713987\n",
      "------ train metrics ------\n",
      "Mean Squared Error (MSE):              239675798281273.5937500000\n",
      "Root Mean Squared Error (RMSE):        15481466.2833102979\n",
      "Mean Absolute Error (MAE):             9890142.2756299451\n",
      "R-squared (R²):                        0.9110970730\n",
      "Mean Absolute Percentage Error (MAPE): 0.1273023533\n",
      "Max Error (ME):                        101403637.0319522619\n",
      "Median Absolute Error (MedAE):         6350608.4594617337\n"
     ]
    }
   ],
   "source": [
    "from sklearn.linear_model import Ridge\n",
    "from metrics import print_metrics\n",
    "\n",
    "\n",
    "# Create a Ridge regression model\n",
    "ridge_reg = Ridge(alpha=1.0)  # You can adjust the regularization strength with the alpha parameter\n",
    "\n",
    "# Train the model\n",
    "ridge_reg.fit(X_train_clustered_GBR, train_y3)\n",
    "\n",
    "print(\"------ test metrics ------\")\n",
    "print_metrics(test_y3, ridge_reg.predict(X_test_clustered_GBR))\n",
    "\n",
    "print(\"------ train metrics ------\")\n",
    "print_metrics(train_y3, ridge_reg.predict(X_train_clustered_GBR))"
   ],
   "metadata": {
    "collapsed": false,
    "ExecuteTime": {
     "end_time": "2024-02-28T12:50:31.533126Z",
     "start_time": "2024-02-28T12:50:31.504087Z"
    }
   },
   "id": "7f886d80b5047656",
   "execution_count": 21
  },
  {
   "cell_type": "markdown",
   "source": [
    "<h1> Optimize alpha parameter of Ridge regression <h1>"
   ],
   "metadata": {
    "collapsed": false
   },
   "id": "c97f8a2053f4943e"
  },
  {
   "cell_type": "code",
   "outputs": [],
   "source": [
    "from sklearn.metrics import r2_score\n",
    "from scipy.optimize import differential_evolution\n",
    "\n",
    "# define objective function\n",
    "def objective_function_ridge_regression(params, train_X, train_y, test_X, test_y):\n",
    "    regressor = Ridge(alpha=params[0])\n",
    "    regressor.fit(train_X, train_y)\n",
    "    pred_y = regressor.predict(test_X)\n",
    "    r2 = r2_score(test_y, pred_y)\n",
    "    return -r2"
   ],
   "metadata": {
    "collapsed": false,
    "ExecuteTime": {
     "end_time": "2024-02-28T12:50:47.208029Z",
     "start_time": "2024-02-28T12:50:47.201364Z"
    }
   },
   "id": "27c25c7339fc0288",
   "execution_count": 22
  },
  {
   "cell_type": "code",
   "outputs": [
    {
     "name": "stdout",
     "output_type": "stream",
     "text": [
      "differential_evolution step 1: f(x)= -0.712885\n",
      "differential_evolution step 2: f(x)= -0.71528\n",
      "differential_evolution step 3: f(x)= -0.71528\n",
      "differential_evolution step 4: f(x)= -0.71528\n",
      "differential_evolution step 5: f(x)= -0.71528\n",
      "differential_evolution step 6: f(x)= -0.71528\n",
      "differential_evolution step 7: f(x)= -0.7153\n",
      "differential_evolution step 8: f(x)= -0.7153\n",
      "differential_evolution step 9: f(x)= -0.7153\n",
      "differential_evolution step 10: f(x)= -0.7153\n",
      "differential_evolution step 11: f(x)= -0.7153\n",
      "Polishing solution with 'L-BFGS-B'\n",
      " message: Optimization terminated successfully.\n",
      " success: True\n",
      "     fun: -0.715299716950279\n",
      "       x: [ 1.147e+00]\n",
      "     nit: 11\n",
      "    nfev: 184\n",
      "     jac: [ 1.319e-05]\n"
     ]
    }
   ],
   "source": [
    "optimization_res = differential_evolution(func=objective_function_ridge_regression, \n",
    "                                          bounds=[(0, 50)], \n",
    "                                          updating='deferred',\n",
    "                                          workers=10, \n",
    "                                          disp=True,\n",
    "                                          tol=0.00001,\n",
    "                                          atol=0.00001,\n",
    "                                          maxiter=100,\n",
    "                                          args=(X_train_clustered_GBR, train_y3, X_test_clustered_GBR, test_y3))\n",
    "print(optimization_res)"
   ],
   "metadata": {
    "collapsed": false,
    "ExecuteTime": {
     "end_time": "2024-02-28T12:50:50.879496Z",
     "start_time": "2024-02-28T12:50:49.709711Z"
    }
   },
   "id": "1c32fca08ea314a2",
   "execution_count": 23
  },
  {
   "cell_type": "code",
   "outputs": [
    {
     "data": {
      "text/plain": "array([1.14743042])"
     },
     "execution_count": 24,
     "metadata": {},
     "output_type": "execute_result"
    }
   ],
   "source": [
    "optimization_res.x"
   ],
   "metadata": {
    "collapsed": false,
    "ExecuteTime": {
     "end_time": "2024-02-28T12:50:57.765005Z",
     "start_time": "2024-02-28T12:50:57.754529Z"
    }
   },
   "id": "5b950a9803dcf4e8",
   "execution_count": 24
  },
  {
   "cell_type": "code",
   "outputs": [
    {
     "name": "stdout",
     "output_type": "stream",
     "text": [
      "------ test metrics ------\n",
      "Mean Squared Error (MSE):              717577522092056.8750000000\n",
      "Root Mean Squared Error (RMSE):        26787637.4861998037\n",
      "Mean Absolute Error (MAE):             14482770.0306219384\n",
      "R-squared (R²):                        0.7152997170\n",
      "Mean Absolute Percentage Error (MAPE): 0.1676464503\n",
      "Max Error (ME):                        233594562.0600165725\n",
      "Median Absolute Error (MedAE):         7594224.9233623222\n",
      "------ train metrics ------\n",
      "Mean Squared Error (MSE):              244591964476512.6875000000\n",
      "Root Mean Squared Error (RMSE):        15639436.1943297908\n",
      "Mean Absolute Error (MAE):             9948653.2345099095\n",
      "R-squared (R²):                        0.9092735198\n",
      "Mean Absolute Percentage Error (MAPE): 0.1276276333\n",
      "Max Error (ME):                        102950236.9221449792\n",
      "Median Absolute Error (MedAE):         6435754.5805778466\n"
     ]
    }
   ],
   "source": [
    "from sklearn.linear_model import Ridge\n",
    "from metrics import print_metrics\n",
    "\n",
    "\n",
    "# Create a Ridge regression model\n",
    "ridge_reg = Ridge(alpha=optimization_res.x[0])  # You can adjust the regularization strength with the alpha parameter\n",
    "\n",
    "# Train the model\n",
    "ridge_reg.fit(X_train_clustered_GBR, train_y3)\n",
    "\n",
    "print(\"------ test metrics ------\")\n",
    "print_metrics(test_y3, ridge_reg.predict(X_test_clustered_GBR))\n",
    "\n",
    "print(\"------ train metrics ------\")\n",
    "print_metrics(train_y3, ridge_reg.predict(X_train_clustered_GBR))"
   ],
   "metadata": {
    "collapsed": false,
    "ExecuteTime": {
     "end_time": "2024-02-28T12:51:04.605084Z",
     "start_time": "2024-02-28T12:51:04.587035Z"
    }
   },
   "id": "6d59534461742d5d",
   "execution_count": 25
  },
  {
   "cell_type": "code",
   "outputs": [],
   "source": [],
   "metadata": {
    "collapsed": false
   },
   "id": "997f99956b9064dd"
  }
 ],
 "metadata": {
  "kernelspec": {
   "display_name": "Python 3",
   "language": "python",
   "name": "python3"
  },
  "language_info": {
   "codemirror_mode": {
    "name": "ipython",
    "version": 2
   },
   "file_extension": ".py",
   "mimetype": "text/x-python",
   "name": "python",
   "nbconvert_exporter": "python",
   "pygments_lexer": "ipython2",
   "version": "2.7.6"
  }
 },
 "nbformat": 4,
 "nbformat_minor": 5
}
