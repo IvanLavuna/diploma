{
 "cells": [
  {
   "cell_type": "code",
   "outputs": [],
   "source": [
    "import pandas as pd\n",
    "from sklearn.model_selection import train_test_split\n",
    "from sklearn.preprocessing import MaxAbsScaler\n",
    "from pyGRNN import GRNN\n",
    "from sklearn.cluster import KMeans\n",
    "from lazypredict.Supervised import LazyRegressor\n"
   ],
   "metadata": {
    "collapsed": false,
    "ExecuteTime": {
     "end_time": "2024-01-20T07:08:45.613639236Z",
     "start_time": "2024-01-20T07:08:45.369052542Z"
    }
   },
   "id": "1dd56e0fee3cf853",
   "execution_count": 6
  },
  {
   "cell_type": "code",
   "outputs": [],
   "source": [
    "from sklearn.metrics import mean_absolute_error\n",
    "from numpy import sqrt\n",
    "from sklearn.metrics import mean_squared_error, r2_score, mean_absolute_percentage_error, max_error, median_absolute_error, mean_absolute_error\n",
    "\n",
    "def print_metrics(y_true, y_pred):\n",
    "    mse = mean_squared_error(y_true, y_pred)\n",
    "    print(f'Mean Squared Error (MSE):              {mse:.10f}')\n",
    "    \n",
    "    rmse = sqrt(mse)\n",
    "    print(f'Root Mean Squared Error (RMSE):        {rmse:.10f}')\n",
    "    \n",
    "    mae = mean_absolute_error(y_true, y_pred)\n",
    "    print(f'Mean Absolute Error (MAE):             {mae:.10f}')\n",
    "    \n",
    "    r2 = r2_score(y_true, y_pred)\n",
    "    print(f'R-squared (R²):                        {r2:.10f}')\n",
    "    \n",
    "    mape = mean_absolute_percentage_error(y_true, y_pred)\n",
    "    print(f'Mean Absolute Percentage Error (MAPE): {mape:.10f}')    \n",
    "    \n",
    "    me = max_error(y_true, y_pred)\n",
    "    print(f'Max Error (ME):                        {me:.10f}')    \n",
    "    \n",
    "    med_ae = median_absolute_error(y_true, y_pred)\n",
    "    print(f'Median Absolute Error (MedAE):         {med_ae:.10f}') "
   ],
   "metadata": {
    "collapsed": false,
    "ExecuteTime": {
     "end_time": "2024-01-20T07:07:24.475713078Z",
     "start_time": "2024-01-20T07:07:24.422983413Z"
    }
   },
   "id": "b1b03b54a6531f06",
   "execution_count": 2
  },
  {
   "cell_type": "code",
   "outputs": [
    {
     "data": {
      "text/plain": "   max_discharge_sum_r1  max_discharge_sum_r2_1  max_discharge_sum_r2_2  \\\n0            585.669565             1626.362646             1917.919430   \n1            577.557845             1643.059879             1887.656759   \n2            772.575113             1672.017477             1803.841771   \n3            522.083261             1653.122228             3326.489392   \n4            614.144564             1644.183921             2485.551499   \n5            813.288970             1669.059934             1877.527825   \n6            663.211125             1666.035202             2230.319808   \n7            501.752017             1726.178830             2023.484977   \n8            581.130243             1669.379831             1976.993224   \n9            622.458211             1636.290754             2176.796189   \n\n   max_discharge_sum_r3  flood_sum_r1  flood_sum_r2_1  flood_sum_r2_2  \\\n0            638.858438   8411.140723    31506.112765    22090.545196   \n1            821.350990   8428.714304    31464.769187    21934.204673   \n2            494.527298   9338.140945    31334.393859    21498.213911   \n3            460.208237   8055.620780    40539.300119    32937.770259   \n4            595.062726   8529.557570    34186.482882    28422.797907   \n5            680.463375   9701.224093    31193.165234    22297.853693   \n6            671.192423   8806.258837    32504.615705    26343.616164   \n7            993.980349   8031.132240    32844.961063    22531.504746   \n8           1105.226828   8297.437471    32213.132745    22180.596511   \n9            457.469364   8532.337554    32557.583545    24402.157344   \n\n   flood_sum_r3  HW_inund_uncertainty  bridge_scour_uncertainty  \\\n0  15338.736641              1.028415                  1.140250   \n1  17058.632353              1.028008                  0.908724   \n2  13903.405134              1.081371                  0.949278   \n3  13073.489518              1.051976                  1.264463   \n4  14950.683896              0.786564                  0.703410   \n5  15652.704965              0.783139                  1.379349   \n6  15618.296388              0.879739                  0.739705   \n7  18555.229803              0.639638                  0.353749   \n8  19413.062434              0.974252                  0.517781   \n9  13253.838280              0.860631                  1.257677   \n\n   travel_demand_uncertainty  restoration_capacity_uncertainty     dir_costs  \\\n0                   0.763417                                 6  3.340766e+07   \n1                   1.138794                                 5  2.622206e+07   \n2                   1.057013                                 3  2.526532e+07   \n3                   0.979334                                 3  5.486000e+07   \n4                   1.233351                                 4  3.921215e+07   \n5                   0.876307                                 6  3.225823e+07   \n6                   0.639232                                 6  3.501944e+07   \n7                   1.191593                                 5  2.881552e+07   \n8                   0.941533                                 6  3.182847e+07   \n9                   1.158570                                 4  4.565669e+07   \n\n   lost_trips_costs_s_r  traffic_costs_s_r  \n0          6.390603e+07      -1.387608e+07  \n1          5.535979e+07       9.384497e+06  \n2          5.933291e+07       5.139631e+06  \n3          9.421211e+07       2.127731e+06  \n4          7.632145e+07       2.113208e+07  \n5          7.616296e+07      -6.506723e+06  \n6          3.283001e+07      -1.755404e+07  \n7          7.138991e+07       1.742383e+07  \n8          5.681803e+07      -2.533089e+06  \n9          6.153274e+07       1.404378e+07  ",
      "text/html": "<div>\n<style scoped>\n    .dataframe tbody tr th:only-of-type {\n        vertical-align: middle;\n    }\n\n    .dataframe tbody tr th {\n        vertical-align: top;\n    }\n\n    .dataframe thead th {\n        text-align: right;\n    }\n</style>\n<table border=\"1\" class=\"dataframe\">\n  <thead>\n    <tr style=\"text-align: right;\">\n      <th></th>\n      <th>max_discharge_sum_r1</th>\n      <th>max_discharge_sum_r2_1</th>\n      <th>max_discharge_sum_r2_2</th>\n      <th>max_discharge_sum_r3</th>\n      <th>flood_sum_r1</th>\n      <th>flood_sum_r2_1</th>\n      <th>flood_sum_r2_2</th>\n      <th>flood_sum_r3</th>\n      <th>HW_inund_uncertainty</th>\n      <th>bridge_scour_uncertainty</th>\n      <th>travel_demand_uncertainty</th>\n      <th>restoration_capacity_uncertainty</th>\n      <th>dir_costs</th>\n      <th>lost_trips_costs_s_r</th>\n      <th>traffic_costs_s_r</th>\n    </tr>\n  </thead>\n  <tbody>\n    <tr>\n      <th>0</th>\n      <td>585.669565</td>\n      <td>1626.362646</td>\n      <td>1917.919430</td>\n      <td>638.858438</td>\n      <td>8411.140723</td>\n      <td>31506.112765</td>\n      <td>22090.545196</td>\n      <td>15338.736641</td>\n      <td>1.028415</td>\n      <td>1.140250</td>\n      <td>0.763417</td>\n      <td>6</td>\n      <td>3.340766e+07</td>\n      <td>6.390603e+07</td>\n      <td>-1.387608e+07</td>\n    </tr>\n    <tr>\n      <th>1</th>\n      <td>577.557845</td>\n      <td>1643.059879</td>\n      <td>1887.656759</td>\n      <td>821.350990</td>\n      <td>8428.714304</td>\n      <td>31464.769187</td>\n      <td>21934.204673</td>\n      <td>17058.632353</td>\n      <td>1.028008</td>\n      <td>0.908724</td>\n      <td>1.138794</td>\n      <td>5</td>\n      <td>2.622206e+07</td>\n      <td>5.535979e+07</td>\n      <td>9.384497e+06</td>\n    </tr>\n    <tr>\n      <th>2</th>\n      <td>772.575113</td>\n      <td>1672.017477</td>\n      <td>1803.841771</td>\n      <td>494.527298</td>\n      <td>9338.140945</td>\n      <td>31334.393859</td>\n      <td>21498.213911</td>\n      <td>13903.405134</td>\n      <td>1.081371</td>\n      <td>0.949278</td>\n      <td>1.057013</td>\n      <td>3</td>\n      <td>2.526532e+07</td>\n      <td>5.933291e+07</td>\n      <td>5.139631e+06</td>\n    </tr>\n    <tr>\n      <th>3</th>\n      <td>522.083261</td>\n      <td>1653.122228</td>\n      <td>3326.489392</td>\n      <td>460.208237</td>\n      <td>8055.620780</td>\n      <td>40539.300119</td>\n      <td>32937.770259</td>\n      <td>13073.489518</td>\n      <td>1.051976</td>\n      <td>1.264463</td>\n      <td>0.979334</td>\n      <td>3</td>\n      <td>5.486000e+07</td>\n      <td>9.421211e+07</td>\n      <td>2.127731e+06</td>\n    </tr>\n    <tr>\n      <th>4</th>\n      <td>614.144564</td>\n      <td>1644.183921</td>\n      <td>2485.551499</td>\n      <td>595.062726</td>\n      <td>8529.557570</td>\n      <td>34186.482882</td>\n      <td>28422.797907</td>\n      <td>14950.683896</td>\n      <td>0.786564</td>\n      <td>0.703410</td>\n      <td>1.233351</td>\n      <td>4</td>\n      <td>3.921215e+07</td>\n      <td>7.632145e+07</td>\n      <td>2.113208e+07</td>\n    </tr>\n    <tr>\n      <th>5</th>\n      <td>813.288970</td>\n      <td>1669.059934</td>\n      <td>1877.527825</td>\n      <td>680.463375</td>\n      <td>9701.224093</td>\n      <td>31193.165234</td>\n      <td>22297.853693</td>\n      <td>15652.704965</td>\n      <td>0.783139</td>\n      <td>1.379349</td>\n      <td>0.876307</td>\n      <td>6</td>\n      <td>3.225823e+07</td>\n      <td>7.616296e+07</td>\n      <td>-6.506723e+06</td>\n    </tr>\n    <tr>\n      <th>6</th>\n      <td>663.211125</td>\n      <td>1666.035202</td>\n      <td>2230.319808</td>\n      <td>671.192423</td>\n      <td>8806.258837</td>\n      <td>32504.615705</td>\n      <td>26343.616164</td>\n      <td>15618.296388</td>\n      <td>0.879739</td>\n      <td>0.739705</td>\n      <td>0.639232</td>\n      <td>6</td>\n      <td>3.501944e+07</td>\n      <td>3.283001e+07</td>\n      <td>-1.755404e+07</td>\n    </tr>\n    <tr>\n      <th>7</th>\n      <td>501.752017</td>\n      <td>1726.178830</td>\n      <td>2023.484977</td>\n      <td>993.980349</td>\n      <td>8031.132240</td>\n      <td>32844.961063</td>\n      <td>22531.504746</td>\n      <td>18555.229803</td>\n      <td>0.639638</td>\n      <td>0.353749</td>\n      <td>1.191593</td>\n      <td>5</td>\n      <td>2.881552e+07</td>\n      <td>7.138991e+07</td>\n      <td>1.742383e+07</td>\n    </tr>\n    <tr>\n      <th>8</th>\n      <td>581.130243</td>\n      <td>1669.379831</td>\n      <td>1976.993224</td>\n      <td>1105.226828</td>\n      <td>8297.437471</td>\n      <td>32213.132745</td>\n      <td>22180.596511</td>\n      <td>19413.062434</td>\n      <td>0.974252</td>\n      <td>0.517781</td>\n      <td>0.941533</td>\n      <td>6</td>\n      <td>3.182847e+07</td>\n      <td>5.681803e+07</td>\n      <td>-2.533089e+06</td>\n    </tr>\n    <tr>\n      <th>9</th>\n      <td>622.458211</td>\n      <td>1636.290754</td>\n      <td>2176.796189</td>\n      <td>457.469364</td>\n      <td>8532.337554</td>\n      <td>32557.583545</td>\n      <td>24402.157344</td>\n      <td>13253.838280</td>\n      <td>0.860631</td>\n      <td>1.257677</td>\n      <td>1.158570</td>\n      <td>4</td>\n      <td>4.565669e+07</td>\n      <td>6.153274e+07</td>\n      <td>1.404378e+07</td>\n    </tr>\n  </tbody>\n</table>\n</div>"
     },
     "execution_count": 3,
     "metadata": {},
     "output_type": "execute_result"
    }
   ],
   "source": [
    "df = pd.read_csv('data/train.csv')\n",
    "df.head(10)"
   ],
   "metadata": {
    "collapsed": false,
    "ExecuteTime": {
     "end_time": "2024-01-20T07:07:29.635271360Z",
     "start_time": "2024-01-20T07:07:29.570977716Z"
    }
   },
   "id": "9b986ffec4791d0b",
   "execution_count": 3
  },
  {
   "cell_type": "code",
   "outputs": [],
   "source": [
    "y1_name, y2_name, y3_name = \"dir_costs\",\"traffic_costs_s_r\",\"lost_trips_costs_s_r\" \n",
    "y1, y2, y3 = df[y1_name], df[y2_name], df[y3_name]"
   ],
   "metadata": {
    "collapsed": false,
    "ExecuteTime": {
     "end_time": "2024-01-20T07:07:34.939471960Z",
     "start_time": "2024-01-20T07:07:34.926569076Z"
    }
   },
   "id": "cf4d3eda86f02f9",
   "execution_count": 4
  },
  {
   "cell_type": "code",
   "outputs": [],
   "source": [
    "# 1. scale features\n",
    "X = df.drop(columns=[y1_name, y2_name, y3_name])\n",
    "scaler = MaxAbsScaler()\n",
    "scaler.fit(X)\n",
    "X_scaled = scaler.transform(X)\n",
    "\n",
    "X_scaled_df = pd.DataFrame(X_scaled, columns=X.columns)"
   ],
   "metadata": {
    "collapsed": false,
    "ExecuteTime": {
     "end_time": "2024-01-20T07:07:35.526521910Z",
     "start_time": "2024-01-20T07:07:35.500818636Z"
    }
   },
   "id": "2978cfd53064e8b6",
   "execution_count": 5
  },
  {
   "cell_type": "code",
   "outputs": [
    {
     "data": {
      "text/plain": "<Figure size 640x480 with 1 Axes>",
      "image/png": "[encoded data removed]"
     },
     "metadata": {},
     "output_type": "display_data"
    }
   ],
   "source": [
    "from sklearn.cluster import KMeans\n",
    "import matplotlib.pyplot as plt\n",
    "\n",
    "# Assume X is your data\n",
    "inertia = []\n",
    "for n_clusters in range(1, 60):\n",
    "    kmeans = KMeans(n_clusters=n_clusters, random_state=42)\n",
    "    kmeans.fit(X_scaled_df)\n",
    "    inertia.append(kmeans.inertia_)\n",
    "\n",
    "# Plot the elbow\n",
    "plt.plot(range(1, 60), inertia, marker='o')\n",
    "plt.title('Elbow Method for Optimal k')\n",
    "plt.xlabel('Number of Clusters (k)')\n",
    "plt.ylabel('Inertia')\n",
    "plt.show()"
   ],
   "metadata": {
    "collapsed": false,
    "ExecuteTime": {
     "end_time": "2024-01-16T11:02:02.854901278Z",
     "start_time": "2024-01-16T11:00:59.030353468Z"
    }
   },
   "id": "d5c13ba0348a5880",
   "execution_count": 315
  },
  {
   "cell_type": "code",
   "outputs": [
    {
     "data": {
      "text/plain": "<Figure size 640x480 with 1 Axes>",
      "image/png": "[encoded data removed]"
     },
     "metadata": {},
     "output_type": "display_data"
    }
   ],
   "source": [
    "from sklearn.cluster import KMeans\n",
    "from sklearn.metrics import silhouette_score\n",
    "\n",
    "# Assume X is your data\n",
    "silhouette_scores = []\n",
    "for n_clusters in range(2, 21):\n",
    "    kmeans = KMeans(n_clusters=n_clusters, random_state=42)\n",
    "    labels = kmeans.fit_predict(X_scaled_df)\n",
    "    silhouette_scores.append(silhouette_score(X_scaled_df, labels))\n",
    "\n",
    "# Plot silhouette scores\n",
    "plt.plot(range(2, 21), silhouette_scores, marker='o')\n",
    "plt.title('Silhouette Score for Optimal k')\n",
    "plt.xlabel('Number of Clusters (k)')\n",
    "plt.ylabel('Silhouette Score')\n",
    "plt.show()"
   ],
   "metadata": {
    "collapsed": false,
    "ExecuteTime": {
     "end_time": "2024-01-16T10:58:19.994563741Z",
     "start_time": "2024-01-16T10:57:55.358021482Z"
    }
   },
   "id": "5b6899967c0db1a2",
   "execution_count": 313
  },
  {
   "cell_type": "code",
   "outputs": [
    {
     "name": "stderr",
     "output_type": "stream",
     "text": [
      "/home/lavuna47/Projects/Diploma/venv/lib64/python3.10/site-packages/sklearn/cluster/_kmeans.py:1416: FutureWarning: The default value of `n_init` will change from 10 to 'auto' in 1.4. Set the value of `n_init` explicitly to suppress the warning\n",
      "  super()._check_params_vs_input(X, default_n_init=10)\n"
     ]
    }
   ],
   "source": [
    "# 2. add clusters\n",
    "k = 10\n",
    "\n",
    "kmeans = KMeans(n_clusters=k, random_state=42)\n",
    "kmeans.fit(X_scaled_df)\n",
    "labels = kmeans.labels_\n",
    "# Add the cluster labels to the DataFrame\n",
    "X_scaled_df['Cluster'] = labels\n",
    "dummy_columns = pd.get_dummies(X_scaled_df['Cluster'], prefix='class')\n",
    "X_scaled_df = pd.concat([X_scaled_df, dummy_columns], axis=1)\n",
    "X_scaled_df = X_scaled_df.drop(\"Cluster\", axis=1)"
   ],
   "metadata": {
    "collapsed": false,
    "ExecuteTime": {
     "end_time": "2024-01-16T09:55:48.327176372Z",
     "start_time": "2024-01-16T09:55:46.869475421Z"
    }
   },
   "id": "1999d971822b0049",
   "execution_count": 282
  },
  {
   "cell_type": "code",
   "outputs": [
    {
     "data": {
      "text/plain": "   max_discharge_sum_r1  max_discharge_sum_r2_1  max_discharge_sum_r2_2  \\\n0              0.484737                0.684661                0.225945   \n1              0.478023                0.691690                0.222379   \n2              0.639432                0.703880                0.212505   \n3              0.432109                0.695926                0.391884   \n4              0.508305                0.692163                0.292816   \n5              0.673129                0.702635                0.221186   \n6              0.548915                0.701362                0.262748   \n7              0.415282                0.726681                0.238381   \n8              0.480980                0.702770                0.232904   \n9              0.515186                0.688840                0.256442   \n\n   max_discharge_sum_r3  flood_sum_r1  flood_sum_r2_1  flood_sum_r2_2  \\\n0              0.520840      0.699666        0.363086        0.362134   \n1              0.669620      0.701128        0.362609        0.359571   \n2              0.403172      0.776777        0.361107        0.352424   \n3              0.375192      0.670093        0.467187        0.539955   \n4              0.485135      0.709517        0.393975        0.465940   \n5              0.554759      0.806980        0.359479        0.365533   \n6              0.547201      0.732534        0.374593        0.431856   \n7              0.810359      0.668056        0.378515        0.369363   \n8              0.901055      0.690208        0.371234        0.363610   \n9              0.372960      0.709748        0.375203        0.400029   \n\n   flood_sum_r3  HW_inund_uncertainty  bridge_scour_uncertainty  ...  class_0  \\\n0      0.758509              0.497242                  0.635596  ...    False   \n1      0.843559              0.497045                  0.506539  ...    False   \n2      0.687531              0.522847                  0.529144  ...    False   \n3      0.646491              0.508634                  0.704834  ...    False   \n4      0.739319              0.380306                  0.392093  ...    False   \n5      0.774035              0.378650                  0.768873  ...    False   \n6      0.772333              0.425357                  0.412325  ...     True   \n7      0.917566              0.309267                  0.197186  ...    False   \n8      0.959987              0.471054                  0.288620  ...    False   \n9      0.655410              0.416118                  0.701051  ...    False   \n\n   class_1  class_2  class_3  class_4  class_5  class_6  class_7  class_8  \\\n0    False    False    False    False    False     True    False    False   \n1    False    False    False    False    False    False    False    False   \n2    False    False    False    False     True    False    False    False   \n3    False    False    False    False    False    False    False     True   \n4    False    False    False    False     True    False    False    False   \n5    False    False    False    False    False     True    False    False   \n6    False    False    False    False    False    False    False    False   \n7    False     True    False    False    False    False    False    False   \n8    False     True    False    False    False    False    False    False   \n9    False    False    False    False    False    False    False     True   \n\n   class_9  \n0    False  \n1     True  \n2    False  \n3    False  \n4    False  \n5    False  \n6    False  \n7    False  \n8    False  \n9    False  \n\n[10 rows x 22 columns]",
      "text/html": "<div>\n<style scoped>\n    .dataframe tbody tr th:only-of-type {\n        vertical-align: middle;\n    }\n\n    .dataframe tbody tr th {\n        vertical-align: top;\n    }\n\n    .dataframe thead th {\n        text-align: right;\n    }\n</style>\n<table border=\"1\" class=\"dataframe\">\n  <thead>\n    <tr style=\"text-align: right;\">\n      <th></th>\n      <th>max_discharge_sum_r1</th>\n      <th>max_discharge_sum_r2_1</th>\n      <th>max_discharge_sum_r2_2</th>\n      <th>max_discharge_sum_r3</th>\n      <th>flood_sum_r1</th>\n      <th>flood_sum_r2_1</th>\n      <th>flood_sum_r2_2</th>\n      <th>flood_sum_r3</th>\n      <th>HW_inund_uncertainty</th>\n      <th>bridge_scour_uncertainty</th>\n      <th>...</th>\n      <th>class_0</th>\n      <th>class_1</th>\n      <th>class_2</th>\n      <th>class_3</th>\n      <th>class_4</th>\n      <th>class_5</th>\n      <th>class_6</th>\n      <th>class_7</th>\n      <th>class_8</th>\n      <th>class_9</th>\n    </tr>\n  </thead>\n  <tbody>\n    <tr>\n      <th>0</th>\n      <td>0.484737</td>\n      <td>0.684661</td>\n      <td>0.225945</td>\n      <td>0.520840</td>\n      <td>0.699666</td>\n      <td>0.363086</td>\n      <td>0.362134</td>\n      <td>0.758509</td>\n      <td>0.497242</td>\n      <td>0.635596</td>\n      <td>...</td>\n      <td>False</td>\n      <td>False</td>\n      <td>False</td>\n      <td>False</td>\n      <td>False</td>\n      <td>False</td>\n      <td>True</td>\n      <td>False</td>\n      <td>False</td>\n      <td>False</td>\n    </tr>\n    <tr>\n      <th>1</th>\n      <td>0.478023</td>\n      <td>0.691690</td>\n      <td>0.222379</td>\n      <td>0.669620</td>\n      <td>0.701128</td>\n      <td>0.362609</td>\n      <td>0.359571</td>\n      <td>0.843559</td>\n      <td>0.497045</td>\n      <td>0.506539</td>\n      <td>...</td>\n      <td>False</td>\n      <td>False</td>\n      <td>False</td>\n      <td>False</td>\n      <td>False</td>\n      <td>False</td>\n      <td>False</td>\n      <td>False</td>\n      <td>False</td>\n      <td>True</td>\n    </tr>\n    <tr>\n      <th>2</th>\n      <td>0.639432</td>\n      <td>0.703880</td>\n      <td>0.212505</td>\n      <td>0.403172</td>\n      <td>0.776777</td>\n      <td>0.361107</td>\n      <td>0.352424</td>\n      <td>0.687531</td>\n      <td>0.522847</td>\n      <td>0.529144</td>\n      <td>...</td>\n      <td>False</td>\n      <td>False</td>\n      <td>False</td>\n      <td>False</td>\n      <td>False</td>\n      <td>True</td>\n      <td>False</td>\n      <td>False</td>\n      <td>False</td>\n      <td>False</td>\n    </tr>\n    <tr>\n      <th>3</th>\n      <td>0.432109</td>\n      <td>0.695926</td>\n      <td>0.391884</td>\n      <td>0.375192</td>\n      <td>0.670093</td>\n      <td>0.467187</td>\n      <td>0.539955</td>\n      <td>0.646491</td>\n      <td>0.508634</td>\n      <td>0.704834</td>\n      <td>...</td>\n      <td>False</td>\n      <td>False</td>\n      <td>False</td>\n      <td>False</td>\n      <td>False</td>\n      <td>False</td>\n      <td>False</td>\n      <td>False</td>\n      <td>True</td>\n      <td>False</td>\n    </tr>\n    <tr>\n      <th>4</th>\n      <td>0.508305</td>\n      <td>0.692163</td>\n      <td>0.292816</td>\n      <td>0.485135</td>\n      <td>0.709517</td>\n      <td>0.393975</td>\n      <td>0.465940</td>\n      <td>0.739319</td>\n      <td>0.380306</td>\n      <td>0.392093</td>\n      <td>...</td>\n      <td>False</td>\n      <td>False</td>\n      <td>False</td>\n      <td>False</td>\n      <td>False</td>\n      <td>True</td>\n      <td>False</td>\n      <td>False</td>\n      <td>False</td>\n      <td>False</td>\n    </tr>\n    <tr>\n      <th>5</th>\n      <td>0.673129</td>\n      <td>0.702635</td>\n      <td>0.221186</td>\n      <td>0.554759</td>\n      <td>0.806980</td>\n      <td>0.359479</td>\n      <td>0.365533</td>\n      <td>0.774035</td>\n      <td>0.378650</td>\n      <td>0.768873</td>\n      <td>...</td>\n      <td>False</td>\n      <td>False</td>\n      <td>False</td>\n      <td>False</td>\n      <td>False</td>\n      <td>False</td>\n      <td>True</td>\n      <td>False</td>\n      <td>False</td>\n      <td>False</td>\n    </tr>\n    <tr>\n      <th>6</th>\n      <td>0.548915</td>\n      <td>0.701362</td>\n      <td>0.262748</td>\n      <td>0.547201</td>\n      <td>0.732534</td>\n      <td>0.374593</td>\n      <td>0.431856</td>\n      <td>0.772333</td>\n      <td>0.425357</td>\n      <td>0.412325</td>\n      <td>...</td>\n      <td>True</td>\n      <td>False</td>\n      <td>False</td>\n      <td>False</td>\n      <td>False</td>\n      <td>False</td>\n      <td>False</td>\n      <td>False</td>\n      <td>False</td>\n      <td>False</td>\n    </tr>\n    <tr>\n      <th>7</th>\n      <td>0.415282</td>\n      <td>0.726681</td>\n      <td>0.238381</td>\n      <td>0.810359</td>\n      <td>0.668056</td>\n      <td>0.378515</td>\n      <td>0.369363</td>\n      <td>0.917566</td>\n      <td>0.309267</td>\n      <td>0.197186</td>\n      <td>...</td>\n      <td>False</td>\n      <td>False</td>\n      <td>True</td>\n      <td>False</td>\n      <td>False</td>\n      <td>False</td>\n      <td>False</td>\n      <td>False</td>\n      <td>False</td>\n      <td>False</td>\n    </tr>\n    <tr>\n      <th>8</th>\n      <td>0.480980</td>\n      <td>0.702770</td>\n      <td>0.232904</td>\n      <td>0.901055</td>\n      <td>0.690208</td>\n      <td>0.371234</td>\n      <td>0.363610</td>\n      <td>0.959987</td>\n      <td>0.471054</td>\n      <td>0.288620</td>\n      <td>...</td>\n      <td>False</td>\n      <td>False</td>\n      <td>True</td>\n      <td>False</td>\n      <td>False</td>\n      <td>False</td>\n      <td>False</td>\n      <td>False</td>\n      <td>False</td>\n      <td>False</td>\n    </tr>\n    <tr>\n      <th>9</th>\n      <td>0.515186</td>\n      <td>0.688840</td>\n      <td>0.256442</td>\n      <td>0.372960</td>\n      <td>0.709748</td>\n      <td>0.375203</td>\n      <td>0.400029</td>\n      <td>0.655410</td>\n      <td>0.416118</td>\n      <td>0.701051</td>\n      <td>...</td>\n      <td>False</td>\n      <td>False</td>\n      <td>False</td>\n      <td>False</td>\n      <td>False</td>\n      <td>False</td>\n      <td>False</td>\n      <td>False</td>\n      <td>True</td>\n      <td>False</td>\n    </tr>\n  </tbody>\n</table>\n<p>10 rows × 22 columns</p>\n</div>"
     },
     "execution_count": 283,
     "metadata": {},
     "output_type": "execute_result"
    }
   ],
   "source": [
    "X_scaled_df.head(10)"
   ],
   "metadata": {
    "collapsed": false,
    "ExecuteTime": {
     "end_time": "2024-01-16T09:57:18.598345435Z",
     "start_time": "2024-01-16T09:57:18.548890944Z"
    }
   },
   "id": "e34668733d582243",
   "execution_count": 283
  },
  {
   "cell_type": "code",
   "outputs": [
    {
     "name": "stdout",
     "output_type": "stream",
     "text": [
      "Executing warm start...\n",
      "Warm start concluded. The optimum isotropic sigma is [0.07759374]\n",
      "Gradient search concluded. The optimum sigma is [0.06431615 0.02068963 0.01609462 0.71081714 5.41707759 1.17477872\n",
      " 0.03846657 1.03158035 0.33788862 0.97183265 0.43128598 0.82558112\n",
      " 0.078      0.078      0.078      0.078      0.078      0.078\n",
      " 0.078      0.078      0.078      0.078     ]\n",
      "Sigma1 =  [0.06431615 0.02068963 0.01609462 0.71081714 5.41707759 1.17477872\n",
      " 0.03846657 1.03158035 0.33788862 0.97183265 0.43128598 0.82558112\n",
      " 0.078      0.078      0.078      0.078      0.078      0.078\n",
      " 0.078      0.078      0.078      0.078     ]\n",
      "Executing warm start...\n",
      "Warm start concluded. The optimum isotropic sigma is [0.06845064]\n",
      "Gradient search concluded. The optimum sigma is [1.56418311e-01 5.03200655e-02 6.08234926e-02 2.86035356e+01\n",
      " 8.94409133e+00 6.19084082e+01 5.89682179e+01 3.74483815e+01\n",
      " 1.07253541e+01 4.18497662e-01 2.27703347e-02 9.64677829e-02\n",
      " 6.80000000e-02 6.80000000e-02 6.80000000e-02 6.80000000e-02\n",
      " 6.80000000e-02 6.80000000e-02 6.80000000e-02 6.80000000e-02\n",
      " 6.80000000e-02 6.80000000e-02]\n",
      "Sigma2 =  [1.56418311e-01 5.03200655e-02 6.08234926e-02 2.86035356e+01\n",
      " 8.94409133e+00 6.19084082e+01 5.89682179e+01 3.74483815e+01\n",
      " 1.07253541e+01 4.18497662e-01 2.27703347e-02 9.64677829e-02\n",
      " 6.80000000e-02 6.80000000e-02 6.80000000e-02 6.80000000e-02\n",
      " 6.80000000e-02 6.80000000e-02 6.80000000e-02 6.80000000e-02\n",
      " 6.80000000e-02 6.80000000e-02]\n",
      "Executing warm start...\n",
      "Warm start concluded. The optimum isotropic sigma is [0.08826448]\n",
      "Gradient search concluded. The optimum sigma is [8.77014330e-02 4.31754017e-02 5.07389412e-02 1.66091319e+01\n",
      " 2.75110001e+00 5.31614473e-02 3.90579312e-02 2.44271175e+01\n",
      " 4.29628537e+01 4.00393748e+01 5.19663949e-02 1.04484040e-01\n",
      " 8.80000000e-02 8.80000000e-02 8.80000000e-02 8.80000000e-02\n",
      " 8.80000000e-02 8.80000000e-02 8.80000000e-02 8.80000000e-02\n",
      " 8.80000000e-02 8.80000000e-02]\n",
      "Sigma3 =  [8.77014330e-02 4.31754017e-02 5.07389412e-02 1.66091319e+01\n",
      " 2.75110001e+00 5.31614473e-02 3.90579312e-02 2.44271175e+01\n",
      " 4.29628537e+01 4.00393748e+01 5.19663949e-02 1.04484040e-01\n",
      " 8.80000000e-02 8.80000000e-02 8.80000000e-02 8.80000000e-02\n",
      " 8.80000000e-02 8.80000000e-02 8.80000000e-02 8.80000000e-02\n",
      " 8.80000000e-02 8.80000000e-02]\n"
     ]
    }
   ],
   "source": [
    "# 4. train GRNN for each dataset\n",
    "grnn1 = GRNN()\n",
    "grnn1.fit(X_scaled_df, y1)\n",
    "y_pred1 = grnn1.predict(X_scaled_df)\n",
    "print(\"Sigma1 = \", grnn1.sigma)\n",
    "\n",
    "grnn2 = GRNN()\n",
    "grnn2.fit(X_scaled_df, y2)\n",
    "y_pred2 = grnn2.predict(X_scaled_df)\n",
    "print(\"Sigma2 = \", grnn2.sigma)\n",
    "\n",
    "grnn3 = GRNN()\n",
    "grnn3.fit(X_scaled_df, y3)\n",
    "y_pred3 = grnn3.predict(X_scaled_df)\n",
    "print(\"Sigma3 = \", grnn3.sigma)\n",
    "\n",
    "X1, X2, X3 = X_scaled_df.copy(deep=True), X_scaled_df.copy(deep=True), X_scaled_df.copy(deep=True)\n",
    "X3[\"GRNN1\"] = X2[\"GRNN1\"] = X1[\"GRNN1\"] = y_pred1\n",
    "X3[\"GRNN2\"] = X2[\"GRNN2\"] = X1[\"GRNN2\"] = y_pred2\n",
    "X3[\"GRNN3\"] = X2[\"GRNN3\"] = X1[\"GRNN3\"] = y_pred3\n"
   ],
   "metadata": {
    "collapsed": false,
    "ExecuteTime": {
     "end_time": "2024-01-16T10:09:54.211762172Z",
     "start_time": "2024-01-16T09:57:20.476381783Z"
    }
   },
   "id": "e98bab485e3d4f96",
   "execution_count": 284
  },
  {
   "cell_type": "code",
   "outputs": [],
   "source": [
    "# 6. final datasets (scaled)\n",
    "# X1\n",
    "X1_scaler = MaxAbsScaler()\n",
    "X1_scaler.fit(X1)\n",
    "X1_scaled = X1_scaler.transform(X1)\n",
    "\n",
    "# X2\n",
    "X2_scaler = MaxAbsScaler()\n",
    "X2_scaler.fit(X2)\n",
    "X2_scaled = X2_scaler.transform(X2)\n",
    " \n",
    "# X3\n",
    "X3_scaler = MaxAbsScaler()\n",
    "X3_scaler.fit(X1)\n",
    "X3_scaled = X3_scaler.transform(X3)\n"
   ],
   "metadata": {
    "collapsed": false,
    "ExecuteTime": {
     "end_time": "2024-01-16T11:04:03.690709169Z",
     "start_time": "2024-01-16T11:04:03.643630355Z"
    }
   },
   "id": "ba6e2952adee7456",
   "execution_count": 322
  },
  {
   "cell_type": "code",
   "outputs": [
    {
     "data": {
      "text/plain": "array([[ 0.4847371 ,  0.68466057,  0.2259446 , ...,  0.19332265,\n        -0.07699007,  0.12991939],\n       [ 0.47802333,  0.69168972,  0.22237944, ...,  0.19883794,\n         0.07107508,  0.20445677],\n       [ 0.63943193,  0.70388019,  0.21250543, ...,  0.16908004,\n         0.05351958,  0.20381517],\n       ...,\n       [ 0.7129998 ,  0.71451293,  0.44078162, ...,  0.37801739,\n         0.11606311,  0.31355699],\n       [ 0.42912264,  0.7114071 ,  0.20328418, ...,  0.15367351,\n         0.05174487,  0.11528528],\n       [ 0.52636049,  0.69327397,  0.239317  , ...,  0.21680497,\n         0.02501931,  0.16393382]])"
     },
     "execution_count": 323,
     "metadata": {},
     "output_type": "execute_result"
    }
   ],
   "source": [
    "X1_scaled"
   ],
   "metadata": {
    "collapsed": false,
    "ExecuteTime": {
     "end_time": "2024-01-16T11:04:04.438072845Z",
     "start_time": "2024-01-16T11:04:04.428544615Z"
    }
   },
   "id": "d9b4980484cb16cf",
   "execution_count": 323
  },
  {
   "cell_type": "code",
   "outputs": [],
   "source": [
    "# Make datasets to be used in ML\n",
    "df1_scaled = pd.concat([pd.DataFrame(X1_scaled, columns=X1.columns), y1], axis=1)\n",
    "df2_scaled = pd.concat([pd.DataFrame(X2_scaled, columns=X2.columns), y2], axis=1)\n",
    "df3_scaled = pd.concat([pd.DataFrame(X3_scaled, columns=X3.columns), y3], axis=1)"
   ],
   "metadata": {
    "collapsed": false,
    "ExecuteTime": {
     "end_time": "2024-01-16T11:04:06.009436798Z",
     "start_time": "2024-01-16T11:04:05.970871194Z"
    }
   },
   "id": "84cf91b4637e6034",
   "execution_count": 324
  },
  {
   "cell_type": "code",
   "outputs": [],
   "source": [
    "# Store those datasets\n",
    "df1_scaled.to_csv(\"data/preprocessed_train_y1.csv\", index=False)\n",
    "df2_scaled.to_csv(\"data/preprocessed_train_y2.csv\", index=False)\n",
    "df3_scaled.to_csv(\"data/preprocessed_train_y3.csv\", index=False)\n"
   ],
   "metadata": {
    "collapsed": false,
    "ExecuteTime": {
     "end_time": "2024-01-16T11:04:07.017396360Z",
     "start_time": "2024-01-16T11:04:06.885406193Z"
    }
   },
   "id": "8bc9e3b648b425a3",
   "execution_count": 325
  },
  {
   "cell_type": "markdown",
   "source": [
    "<h3> Test & print evaluation metrics: dataset1 </h3>"
   ],
   "metadata": {
    "collapsed": false
   },
   "id": "2ebb4cd6cbaf8a25"
  },
  {
   "cell_type": "code",
   "outputs": [],
   "source": [
    "test_df = pd.read_csv('data/test.csv')"
   ],
   "metadata": {
    "collapsed": false,
    "ExecuteTime": {
     "end_time": "2024-01-16T11:04:08.802332630Z",
     "start_time": "2024-01-16T11:04:08.795728127Z"
    }
   },
   "id": "983a649641878b1",
   "execution_count": 326
  },
  {
   "cell_type": "code",
   "outputs": [],
   "source": [
    "test_y1, test_y2, test_y3 = test_df[y1_name], test_df[y2_name], test_df[y3_name]"
   ],
   "metadata": {
    "collapsed": false,
    "ExecuteTime": {
     "end_time": "2024-01-16T11:04:09.222052210Z",
     "start_time": "2024-01-16T11:04:09.213738777Z"
    }
   },
   "id": "9158f70dd50bb623",
   "execution_count": 327
  },
  {
   "cell_type": "code",
   "outputs": [],
   "source": [
    "test_X = test_df.drop(columns=[y1_name, y2_name, y3_name])"
   ],
   "metadata": {
    "collapsed": false,
    "ExecuteTime": {
     "end_time": "2024-01-16T11:04:09.668964757Z",
     "start_time": "2024-01-16T11:04:09.644912907Z"
    }
   },
   "id": "75b5f9305dd3346d",
   "execution_count": 328
  },
  {
   "cell_type": "code",
   "outputs": [
    {
     "data": {
      "text/plain": "(404, 12)"
     },
     "execution_count": 329,
     "metadata": {},
     "output_type": "execute_result"
    }
   ],
   "source": [
    "test_X.shape"
   ],
   "metadata": {
    "collapsed": false,
    "ExecuteTime": {
     "end_time": "2024-01-16T11:04:09.958770505Z",
     "start_time": "2024-01-16T11:04:09.948715439Z"
    }
   },
   "id": "c33a986f8d869c22",
   "execution_count": 329
  },
  {
   "cell_type": "code",
   "outputs": [],
   "source": [
    "# preprocess...\n",
    "X_test_scaled = scaler.transform(test_X)\n",
    "X_test_scaled_df = pd.DataFrame(X_test_scaled, columns=test_X.columns)"
   ],
   "metadata": {
    "collapsed": false,
    "ExecuteTime": {
     "end_time": "2024-01-16T11:04:10.638886524Z",
     "start_time": "2024-01-16T11:04:10.626745296Z"
    }
   },
   "id": "8d9556327579a611",
   "execution_count": 330
  },
  {
   "cell_type": "code",
   "outputs": [
    {
     "ename": "ValueError",
     "evalue": "The feature names should match those that were passed during fit.\nFeature names seen at fit time, yet now missing:\n- class_0\n- class_1\n- class_2\n- class_3\n- class_4\n- ...\n",
     "output_type": "error",
     "traceback": [
      "\u001B[0;31m---------------------------------------------------------------------------\u001B[0m",
      "\u001B[0;31mValueError\u001B[0m                                Traceback (most recent call last)",
      "Cell \u001B[0;32mIn[331], line 1\u001B[0m\n\u001B[0;32m----> 1\u001B[0m test_clusters \u001B[38;5;241m=\u001B[39m \u001B[43mkmeans\u001B[49m\u001B[38;5;241;43m.\u001B[39;49m\u001B[43mpredict\u001B[49m\u001B[43m(\u001B[49m\u001B[43mX_test_scaled_df\u001B[49m\u001B[43m)\u001B[49m\n\u001B[1;32m      2\u001B[0m X_test_scaled_df[\u001B[38;5;124m\"\u001B[39m\u001B[38;5;124mCluster\u001B[39m\u001B[38;5;124m\"\u001B[39m] \u001B[38;5;241m=\u001B[39m test_clusters\n\u001B[1;32m      3\u001B[0m test_dummy_columns \u001B[38;5;241m=\u001B[39m pd\u001B[38;5;241m.\u001B[39mget_dummies(X_test_scaled_df[\u001B[38;5;124m'\u001B[39m\u001B[38;5;124mCluster\u001B[39m\u001B[38;5;124m'\u001B[39m], prefix\u001B[38;5;241m=\u001B[39m\u001B[38;5;124m'\u001B[39m\u001B[38;5;124mclass\u001B[39m\u001B[38;5;124m'\u001B[39m)\n",
      "File \u001B[0;32m~/Projects/Diploma/venv/lib64/python3.10/site-packages/sklearn/cluster/_kmeans.py:1098\u001B[0m, in \u001B[0;36m_BaseKMeans.predict\u001B[0;34m(self, X, sample_weight)\u001B[0m\n\u001B[1;32m   1072\u001B[0m \u001B[38;5;250m\u001B[39m\u001B[38;5;124;03m\"\"\"Predict the closest cluster each sample in X belongs to.\u001B[39;00m\n\u001B[1;32m   1073\u001B[0m \n\u001B[1;32m   1074\u001B[0m \u001B[38;5;124;03mIn the vector quantization literature, `cluster_centers_` is called\u001B[39;00m\n\u001B[0;32m   (...)\u001B[0m\n\u001B[1;32m   1094\u001B[0m \u001B[38;5;124;03m    Index of the cluster each sample belongs to.\u001B[39;00m\n\u001B[1;32m   1095\u001B[0m \u001B[38;5;124;03m\"\"\"\u001B[39;00m\n\u001B[1;32m   1096\u001B[0m check_is_fitted(\u001B[38;5;28mself\u001B[39m)\n\u001B[0;32m-> 1098\u001B[0m X \u001B[38;5;241m=\u001B[39m \u001B[38;5;28;43mself\u001B[39;49m\u001B[38;5;241;43m.\u001B[39;49m\u001B[43m_check_test_data\u001B[49m\u001B[43m(\u001B[49m\u001B[43mX\u001B[49m\u001B[43m)\u001B[49m\n\u001B[1;32m   1099\u001B[0m \u001B[38;5;28;01mif\u001B[39;00m \u001B[38;5;129;01mnot\u001B[39;00m (\u001B[38;5;28misinstance\u001B[39m(sample_weight, \u001B[38;5;28mstr\u001B[39m) \u001B[38;5;129;01mand\u001B[39;00m sample_weight \u001B[38;5;241m==\u001B[39m \u001B[38;5;124m\"\u001B[39m\u001B[38;5;124mdeprecated\u001B[39m\u001B[38;5;124m\"\u001B[39m):\n\u001B[1;32m   1100\u001B[0m     warnings\u001B[38;5;241m.\u001B[39mwarn(\n\u001B[1;32m   1101\u001B[0m         (\n\u001B[1;32m   1102\u001B[0m             \u001B[38;5;124m\"\u001B[39m\u001B[38;5;124m'\u001B[39m\u001B[38;5;124msample_weight\u001B[39m\u001B[38;5;124m'\u001B[39m\u001B[38;5;124m was deprecated in version 1.3 and \u001B[39m\u001B[38;5;124m\"\u001B[39m\n\u001B[0;32m   (...)\u001B[0m\n\u001B[1;32m   1105\u001B[0m         \u001B[38;5;167;01mFutureWarning\u001B[39;00m,\n\u001B[1;32m   1106\u001B[0m     )\n",
      "File \u001B[0;32m~/Projects/Diploma/venv/lib64/python3.10/site-packages/sklearn/cluster/_kmeans.py:950\u001B[0m, in \u001B[0;36m_BaseKMeans._check_test_data\u001B[0;34m(self, X)\u001B[0m\n\u001B[1;32m    949\u001B[0m \u001B[38;5;28;01mdef\u001B[39;00m \u001B[38;5;21m_check_test_data\u001B[39m(\u001B[38;5;28mself\u001B[39m, X):\n\u001B[0;32m--> 950\u001B[0m     X \u001B[38;5;241m=\u001B[39m \u001B[38;5;28;43mself\u001B[39;49m\u001B[38;5;241;43m.\u001B[39;49m\u001B[43m_validate_data\u001B[49m\u001B[43m(\u001B[49m\n\u001B[1;32m    951\u001B[0m \u001B[43m        \u001B[49m\u001B[43mX\u001B[49m\u001B[43m,\u001B[49m\n\u001B[1;32m    952\u001B[0m \u001B[43m        \u001B[49m\u001B[43maccept_sparse\u001B[49m\u001B[38;5;241;43m=\u001B[39;49m\u001B[38;5;124;43m\"\u001B[39;49m\u001B[38;5;124;43mcsr\u001B[39;49m\u001B[38;5;124;43m\"\u001B[39;49m\u001B[43m,\u001B[49m\n\u001B[1;32m    953\u001B[0m \u001B[43m        \u001B[49m\u001B[43mreset\u001B[49m\u001B[38;5;241;43m=\u001B[39;49m\u001B[38;5;28;43;01mFalse\u001B[39;49;00m\u001B[43m,\u001B[49m\n\u001B[1;32m    954\u001B[0m \u001B[43m        \u001B[49m\u001B[43mdtype\u001B[49m\u001B[38;5;241;43m=\u001B[39;49m\u001B[43m[\u001B[49m\u001B[43mnp\u001B[49m\u001B[38;5;241;43m.\u001B[39;49m\u001B[43mfloat64\u001B[49m\u001B[43m,\u001B[49m\u001B[43m \u001B[49m\u001B[43mnp\u001B[49m\u001B[38;5;241;43m.\u001B[39;49m\u001B[43mfloat32\u001B[49m\u001B[43m]\u001B[49m\u001B[43m,\u001B[49m\n\u001B[1;32m    955\u001B[0m \u001B[43m        \u001B[49m\u001B[43morder\u001B[49m\u001B[38;5;241;43m=\u001B[39;49m\u001B[38;5;124;43m\"\u001B[39;49m\u001B[38;5;124;43mC\u001B[39;49m\u001B[38;5;124;43m\"\u001B[39;49m\u001B[43m,\u001B[49m\n\u001B[1;32m    956\u001B[0m \u001B[43m        \u001B[49m\u001B[43maccept_large_sparse\u001B[49m\u001B[38;5;241;43m=\u001B[39;49m\u001B[38;5;28;43;01mFalse\u001B[39;49;00m\u001B[43m,\u001B[49m\n\u001B[1;32m    957\u001B[0m \u001B[43m    \u001B[49m\u001B[43m)\u001B[49m\n\u001B[1;32m    958\u001B[0m     \u001B[38;5;28;01mreturn\u001B[39;00m X\n",
      "File \u001B[0;32m~/Projects/Diploma/venv/lib64/python3.10/site-packages/sklearn/base.py:580\u001B[0m, in \u001B[0;36mBaseEstimator._validate_data\u001B[0;34m(self, X, y, reset, validate_separately, cast_to_ndarray, **check_params)\u001B[0m\n\u001B[1;32m    509\u001B[0m \u001B[38;5;28;01mdef\u001B[39;00m \u001B[38;5;21m_validate_data\u001B[39m(\n\u001B[1;32m    510\u001B[0m     \u001B[38;5;28mself\u001B[39m,\n\u001B[1;32m    511\u001B[0m     X\u001B[38;5;241m=\u001B[39m\u001B[38;5;124m\"\u001B[39m\u001B[38;5;124mno_validation\u001B[39m\u001B[38;5;124m\"\u001B[39m,\n\u001B[0;32m   (...)\u001B[0m\n\u001B[1;32m    516\u001B[0m     \u001B[38;5;241m*\u001B[39m\u001B[38;5;241m*\u001B[39mcheck_params,\n\u001B[1;32m    517\u001B[0m ):\n\u001B[1;32m    518\u001B[0m \u001B[38;5;250m    \u001B[39m\u001B[38;5;124;03m\"\"\"Validate input data and set or check the `n_features_in_` attribute.\u001B[39;00m\n\u001B[1;32m    519\u001B[0m \n\u001B[1;32m    520\u001B[0m \u001B[38;5;124;03m    Parameters\u001B[39;00m\n\u001B[0;32m   (...)\u001B[0m\n\u001B[1;32m    578\u001B[0m \u001B[38;5;124;03m        validated.\u001B[39;00m\n\u001B[1;32m    579\u001B[0m \u001B[38;5;124;03m    \"\"\"\u001B[39;00m\n\u001B[0;32m--> 580\u001B[0m     \u001B[38;5;28;43mself\u001B[39;49m\u001B[38;5;241;43m.\u001B[39;49m\u001B[43m_check_feature_names\u001B[49m\u001B[43m(\u001B[49m\u001B[43mX\u001B[49m\u001B[43m,\u001B[49m\u001B[43m \u001B[49m\u001B[43mreset\u001B[49m\u001B[38;5;241;43m=\u001B[39;49m\u001B[43mreset\u001B[49m\u001B[43m)\u001B[49m\n\u001B[1;32m    582\u001B[0m     \u001B[38;5;28;01mif\u001B[39;00m y \u001B[38;5;129;01mis\u001B[39;00m \u001B[38;5;28;01mNone\u001B[39;00m \u001B[38;5;129;01mand\u001B[39;00m \u001B[38;5;28mself\u001B[39m\u001B[38;5;241m.\u001B[39m_get_tags()[\u001B[38;5;124m\"\u001B[39m\u001B[38;5;124mrequires_y\u001B[39m\u001B[38;5;124m\"\u001B[39m]:\n\u001B[1;32m    583\u001B[0m         \u001B[38;5;28;01mraise\u001B[39;00m \u001B[38;5;167;01mValueError\u001B[39;00m(\n\u001B[1;32m    584\u001B[0m             \u001B[38;5;124mf\u001B[39m\u001B[38;5;124m\"\u001B[39m\u001B[38;5;124mThis \u001B[39m\u001B[38;5;132;01m{\u001B[39;00m\u001B[38;5;28mself\u001B[39m\u001B[38;5;241m.\u001B[39m\u001B[38;5;18m__class__\u001B[39m\u001B[38;5;241m.\u001B[39m\u001B[38;5;18m__name__\u001B[39m\u001B[38;5;132;01m}\u001B[39;00m\u001B[38;5;124m estimator \u001B[39m\u001B[38;5;124m\"\u001B[39m\n\u001B[1;32m    585\u001B[0m             \u001B[38;5;124m\"\u001B[39m\u001B[38;5;124mrequires y to be passed, but the target y is None.\u001B[39m\u001B[38;5;124m\"\u001B[39m\n\u001B[1;32m    586\u001B[0m         )\n",
      "File \u001B[0;32m~/Projects/Diploma/venv/lib64/python3.10/site-packages/sklearn/base.py:507\u001B[0m, in \u001B[0;36mBaseEstimator._check_feature_names\u001B[0;34m(self, X, reset)\u001B[0m\n\u001B[1;32m    502\u001B[0m \u001B[38;5;28;01mif\u001B[39;00m \u001B[38;5;129;01mnot\u001B[39;00m missing_names \u001B[38;5;129;01mand\u001B[39;00m \u001B[38;5;129;01mnot\u001B[39;00m unexpected_names:\n\u001B[1;32m    503\u001B[0m     message \u001B[38;5;241m+\u001B[39m\u001B[38;5;241m=\u001B[39m (\n\u001B[1;32m    504\u001B[0m         \u001B[38;5;124m\"\u001B[39m\u001B[38;5;124mFeature names must be in the same order as they were in fit.\u001B[39m\u001B[38;5;130;01m\\n\u001B[39;00m\u001B[38;5;124m\"\u001B[39m\n\u001B[1;32m    505\u001B[0m     )\n\u001B[0;32m--> 507\u001B[0m \u001B[38;5;28;01mraise\u001B[39;00m \u001B[38;5;167;01mValueError\u001B[39;00m(message)\n",
      "\u001B[0;31mValueError\u001B[0m: The feature names should match those that were passed during fit.\nFeature names seen at fit time, yet now missing:\n- class_0\n- class_1\n- class_2\n- class_3\n- class_4\n- ...\n"
     ]
    }
   ],
   "source": [
    "test_clusters = kmeans.predict(X_test_scaled_df)\n",
    "X_test_scaled_df[\"Cluster\"] = test_clusters\n",
    "test_dummy_columns = pd.get_dummies(X_test_scaled_df['Cluster'], prefix='class')\n",
    "X_test_scaled_df = pd.concat([X_test_scaled_df, test_dummy_columns], axis=1)\n",
    "X_test_scaled_df = X_test_scaled_df.drop(\"Cluster\", axis=1)"
   ],
   "metadata": {
    "collapsed": false,
    "ExecuteTime": {
     "end_time": "2024-01-16T11:04:11.660903116Z",
     "start_time": "2024-01-16T11:04:11.605634141Z"
    }
   },
   "id": "dc7ddfbcb7104342",
   "execution_count": 331
  },
  {
   "cell_type": "code",
   "outputs": [
    {
     "data": {
      "text/plain": "     max_discharge_sum_r1  max_discharge_sum_r2_1  max_discharge_sum_r2_2  \\\n0                    0.86                    0.71                    0.31   \n1                    0.47                    0.71                    0.20   \n2                    0.68                    0.70                    0.20   \n3                    0.44                    0.70                    0.34   \n4                    0.55                    0.69                    0.22   \n..                    ...                     ...                     ...   \n399                  0.55                    0.72                    0.27   \n400                  0.44                    0.71                    0.28   \n401                  0.53                    0.71                    0.25   \n402                  0.52                    0.70                    0.29   \n403                  0.51                    0.68                    0.27   \n\n     max_discharge_sum_r3  flood_sum_r1  flood_sum_r2_1  flood_sum_r2_2  \\\n0                    0.33          0.88            0.38            0.50   \n1                    0.73          0.70            0.36            0.33   \n2                    0.40          0.80            0.36            0.32   \n3                    0.31          0.67            0.37            0.55   \n4                    0.46          0.74            0.36            0.34   \n..                    ...           ...             ...             ...   \n399                  0.51          0.73            0.39            0.41   \n400                  0.66          0.68            0.36            0.46   \n401                  0.54          0.73            0.37            0.39   \n402                  0.47          0.72            0.39            0.46   \n403                  0.42          0.71            0.37            0.43   \n\n     flood_sum_r3  HW_inund_uncertainty  bridge_scour_uncertainty  ...  \\\n0            0.62                  0.38                      0.49  ...   \n1            0.88                  0.58                      0.50  ...   \n2            0.68                  0.34                      0.69  ...   \n3            0.60                  0.50                      0.47  ...   \n4            0.72                  0.47                      0.69  ...   \n..            ...                   ...                       ...  ...   \n399          0.76                  0.55                      0.43  ...   \n400          0.85                  0.32                      0.75  ...   \n401          0.77                  0.36                      0.55  ...   \n402          0.73                  0.49                      0.49  ...   \n403          0.70                  0.34                      0.63  ...   \n\n     class_0  class_1  class_2  class_3  class_4  class_5  class_6  class_7  \\\n0      False    False    False    False    False    False    False     True   \n1      False    False     True    False    False    False    False    False   \n2      False    False    False    False    False    False    False     True   \n3      False    False    False    False    False    False    False    False   \n4      False    False    False    False    False    False     True    False   \n..       ...      ...      ...      ...      ...      ...      ...      ...   \n399     True    False    False    False    False    False    False    False   \n400    False    False    False    False    False    False     True    False   \n401    False    False    False    False    False     True    False    False   \n402    False    False    False    False    False     True    False    False   \n403    False    False    False    False    False    False    False    False   \n\n     class_8  class_9  \n0      False    False  \n1      False    False  \n2      False    False  \n3       True    False  \n4      False    False  \n..       ...      ...  \n399    False    False  \n400    False    False  \n401    False    False  \n402    False    False  \n403     True    False  \n\n[404 rows x 22 columns]",
      "text/html": "<div>\n<style scoped>\n    .dataframe tbody tr th:only-of-type {\n        vertical-align: middle;\n    }\n\n    .dataframe tbody tr th {\n        vertical-align: top;\n    }\n\n    .dataframe thead th {\n        text-align: right;\n    }\n</style>\n<table border=\"1\" class=\"dataframe\">\n  <thead>\n    <tr style=\"text-align: right;\">\n      <th></th>\n      <th>max_discharge_sum_r1</th>\n      <th>max_discharge_sum_r2_1</th>\n      <th>max_discharge_sum_r2_2</th>\n      <th>max_discharge_sum_r3</th>\n      <th>flood_sum_r1</th>\n      <th>flood_sum_r2_1</th>\n      <th>flood_sum_r2_2</th>\n      <th>flood_sum_r3</th>\n      <th>HW_inund_uncertainty</th>\n      <th>bridge_scour_uncertainty</th>\n      <th>...</th>\n      <th>class_0</th>\n      <th>class_1</th>\n      <th>class_2</th>\n      <th>class_3</th>\n      <th>class_4</th>\n      <th>class_5</th>\n      <th>class_6</th>\n      <th>class_7</th>\n      <th>class_8</th>\n      <th>class_9</th>\n    </tr>\n  </thead>\n  <tbody>\n    <tr>\n      <th>0</th>\n      <td>0.86</td>\n      <td>0.71</td>\n      <td>0.31</td>\n      <td>0.33</td>\n      <td>0.88</td>\n      <td>0.38</td>\n      <td>0.50</td>\n      <td>0.62</td>\n      <td>0.38</td>\n      <td>0.49</td>\n      <td>...</td>\n      <td>False</td>\n      <td>False</td>\n      <td>False</td>\n      <td>False</td>\n      <td>False</td>\n      <td>False</td>\n      <td>False</td>\n      <td>True</td>\n      <td>False</td>\n      <td>False</td>\n    </tr>\n    <tr>\n      <th>1</th>\n      <td>0.47</td>\n      <td>0.71</td>\n      <td>0.20</td>\n      <td>0.73</td>\n      <td>0.70</td>\n      <td>0.36</td>\n      <td>0.33</td>\n      <td>0.88</td>\n      <td>0.58</td>\n      <td>0.50</td>\n      <td>...</td>\n      <td>False</td>\n      <td>False</td>\n      <td>True</td>\n      <td>False</td>\n      <td>False</td>\n      <td>False</td>\n      <td>False</td>\n      <td>False</td>\n      <td>False</td>\n      <td>False</td>\n    </tr>\n    <tr>\n      <th>2</th>\n      <td>0.68</td>\n      <td>0.70</td>\n      <td>0.20</td>\n      <td>0.40</td>\n      <td>0.80</td>\n      <td>0.36</td>\n      <td>0.32</td>\n      <td>0.68</td>\n      <td>0.34</td>\n      <td>0.69</td>\n      <td>...</td>\n      <td>False</td>\n      <td>False</td>\n      <td>False</td>\n      <td>False</td>\n      <td>False</td>\n      <td>False</td>\n      <td>False</td>\n      <td>True</td>\n      <td>False</td>\n      <td>False</td>\n    </tr>\n    <tr>\n      <th>3</th>\n      <td>0.44</td>\n      <td>0.70</td>\n      <td>0.34</td>\n      <td>0.31</td>\n      <td>0.67</td>\n      <td>0.37</td>\n      <td>0.55</td>\n      <td>0.60</td>\n      <td>0.50</td>\n      <td>0.47</td>\n      <td>...</td>\n      <td>False</td>\n      <td>False</td>\n      <td>False</td>\n      <td>False</td>\n      <td>False</td>\n      <td>False</td>\n      <td>False</td>\n      <td>False</td>\n      <td>True</td>\n      <td>False</td>\n    </tr>\n    <tr>\n      <th>4</th>\n      <td>0.55</td>\n      <td>0.69</td>\n      <td>0.22</td>\n      <td>0.46</td>\n      <td>0.74</td>\n      <td>0.36</td>\n      <td>0.34</td>\n      <td>0.72</td>\n      <td>0.47</td>\n      <td>0.69</td>\n      <td>...</td>\n      <td>False</td>\n      <td>False</td>\n      <td>False</td>\n      <td>False</td>\n      <td>False</td>\n      <td>False</td>\n      <td>True</td>\n      <td>False</td>\n      <td>False</td>\n      <td>False</td>\n    </tr>\n    <tr>\n      <th>...</th>\n      <td>...</td>\n      <td>...</td>\n      <td>...</td>\n      <td>...</td>\n      <td>...</td>\n      <td>...</td>\n      <td>...</td>\n      <td>...</td>\n      <td>...</td>\n      <td>...</td>\n      <td>...</td>\n      <td>...</td>\n      <td>...</td>\n      <td>...</td>\n      <td>...</td>\n      <td>...</td>\n      <td>...</td>\n      <td>...</td>\n      <td>...</td>\n      <td>...</td>\n      <td>...</td>\n    </tr>\n    <tr>\n      <th>399</th>\n      <td>0.55</td>\n      <td>0.72</td>\n      <td>0.27</td>\n      <td>0.51</td>\n      <td>0.73</td>\n      <td>0.39</td>\n      <td>0.41</td>\n      <td>0.76</td>\n      <td>0.55</td>\n      <td>0.43</td>\n      <td>...</td>\n      <td>True</td>\n      <td>False</td>\n      <td>False</td>\n      <td>False</td>\n      <td>False</td>\n      <td>False</td>\n      <td>False</td>\n      <td>False</td>\n      <td>False</td>\n      <td>False</td>\n    </tr>\n    <tr>\n      <th>400</th>\n      <td>0.44</td>\n      <td>0.71</td>\n      <td>0.28</td>\n      <td>0.66</td>\n      <td>0.68</td>\n      <td>0.36</td>\n      <td>0.46</td>\n      <td>0.85</td>\n      <td>0.32</td>\n      <td>0.75</td>\n      <td>...</td>\n      <td>False</td>\n      <td>False</td>\n      <td>False</td>\n      <td>False</td>\n      <td>False</td>\n      <td>False</td>\n      <td>True</td>\n      <td>False</td>\n      <td>False</td>\n      <td>False</td>\n    </tr>\n    <tr>\n      <th>401</th>\n      <td>0.53</td>\n      <td>0.71</td>\n      <td>0.25</td>\n      <td>0.54</td>\n      <td>0.73</td>\n      <td>0.37</td>\n      <td>0.39</td>\n      <td>0.77</td>\n      <td>0.36</td>\n      <td>0.55</td>\n      <td>...</td>\n      <td>False</td>\n      <td>False</td>\n      <td>False</td>\n      <td>False</td>\n      <td>False</td>\n      <td>True</td>\n      <td>False</td>\n      <td>False</td>\n      <td>False</td>\n      <td>False</td>\n    </tr>\n    <tr>\n      <th>402</th>\n      <td>0.52</td>\n      <td>0.70</td>\n      <td>0.29</td>\n      <td>0.47</td>\n      <td>0.72</td>\n      <td>0.39</td>\n      <td>0.46</td>\n      <td>0.73</td>\n      <td>0.49</td>\n      <td>0.49</td>\n      <td>...</td>\n      <td>False</td>\n      <td>False</td>\n      <td>False</td>\n      <td>False</td>\n      <td>False</td>\n      <td>True</td>\n      <td>False</td>\n      <td>False</td>\n      <td>False</td>\n      <td>False</td>\n    </tr>\n    <tr>\n      <th>403</th>\n      <td>0.51</td>\n      <td>0.68</td>\n      <td>0.27</td>\n      <td>0.42</td>\n      <td>0.71</td>\n      <td>0.37</td>\n      <td>0.43</td>\n      <td>0.70</td>\n      <td>0.34</td>\n      <td>0.63</td>\n      <td>...</td>\n      <td>False</td>\n      <td>False</td>\n      <td>False</td>\n      <td>False</td>\n      <td>False</td>\n      <td>False</td>\n      <td>False</td>\n      <td>False</td>\n      <td>True</td>\n      <td>False</td>\n    </tr>\n  </tbody>\n</table>\n<p>404 rows × 22 columns</p>\n</div>"
     },
     "execution_count": 297,
     "metadata": {},
     "output_type": "execute_result"
    }
   ],
   "source": [
    "X_test_scaled_df"
   ],
   "metadata": {
    "collapsed": false,
    "ExecuteTime": {
     "end_time": "2024-01-16T10:13:53.407664122Z",
     "start_time": "2024-01-16T10:13:53.386960867Z"
    }
   },
   "id": "9552fb2be9d5bfc4",
   "execution_count": 297
  },
  {
   "cell_type": "code",
   "outputs": [],
   "source": [
    "test_y_pred1 = grnn1.predict(X_test_scaled_df)\n",
    "test_y_pred2 = grnn2.predict(X_test_scaled_df)\n",
    "test_y_pred3 = grnn3.predict(X_test_scaled_df)\n",
    "test_X1, test_X2, test_X3 = X_test_scaled_df.copy(deep=True), X_test_scaled_df.copy(deep=True), X_test_scaled_df.copy(deep=True)\n"
   ],
   "metadata": {
    "collapsed": false,
    "ExecuteTime": {
     "end_time": "2024-01-16T10:14:09.150809555Z",
     "start_time": "2024-01-16T10:14:09.058497904Z"
    }
   },
   "id": "93c4119205f6f1b4",
   "execution_count": 298
  },
  {
   "cell_type": "code",
   "outputs": [],
   "source": [
    "test_X3[\"GRNN1\"] = test_X2[\"GRNN1\"] = test_X1[\"GRNN1\"] = test_y_pred1\n",
    "test_X3[\"GRNN2\"] = test_X2[\"GRNN2\"] = test_X1[\"GRNN2\"] = test_y_pred2\n",
    "test_X3[\"GRNN3\"] = test_X2[\"GRNN3\"] = test_X1[\"GRNN3\"] = test_y_pred3"
   ],
   "metadata": {
    "collapsed": false,
    "ExecuteTime": {
     "end_time": "2024-01-16T10:14:09.419813603Z",
     "start_time": "2024-01-16T10:14:09.401253420Z"
    }
   },
   "id": "da4224292f53f093",
   "execution_count": 299
  },
  {
   "cell_type": "code",
   "outputs": [],
   "source": [
    "# test datasets (scaled)\n",
    "test_X1_scaled = X1_scaler.transform(test_X1)\n",
    "test_X2_scaled = X2_scaler.transform(test_X2) \n",
    "test_X3_scaled = X3_scaler.transform(test_X3)"
   ],
   "metadata": {
    "collapsed": false,
    "ExecuteTime": {
     "end_time": "2024-01-16T10:14:15.031565059Z",
     "start_time": "2024-01-16T10:14:15.017744538Z"
    }
   },
   "id": "416284d931d30f9e",
   "execution_count": 300
  },
  {
   "cell_type": "markdown",
   "source": [
    "<h3> Train each model using lazy regression </h3>"
   ],
   "metadata": {
    "collapsed": false
   },
   "id": "d46c97bc2e320170"
  },
  {
   "cell_type": "code",
   "outputs": [],
   "source": [
    "from lazypredict.Supervised import LazyRegressor\n",
    "from sklearn import datasets\n",
    "from sklearn.utils import shuffle\n",
    "import numpy as np\n",
    "import pandas as pd"
   ],
   "metadata": {
    "collapsed": false,
    "ExecuteTime": {
     "end_time": "2024-01-16T10:16:56.248427185Z",
     "start_time": "2024-01-16T10:16:56.206908308Z"
    }
   },
   "id": "8a538644ecf7a29d",
   "execution_count": 301
  },
  {
   "cell_type": "code",
   "outputs": [
    {
     "name": "stderr",
     "output_type": "stream",
     "text": [
      " 76%|███████▌  | 32/42 [00:09<00:05,  1.70it/s]"
     ]
    },
    {
     "name": "stdout",
     "output_type": "stream",
     "text": [
      "QuantileRegressor model failed to execute\n",
      "Solver interior-point is not anymore available in SciPy >= 1.11.0.\n"
     ]
    },
    {
     "name": "stderr",
     "output_type": "stream",
     "text": [
      "100%|██████████| 42/42 [00:12<00:00,  3.48it/s]"
     ]
    },
    {
     "name": "stdout",
     "output_type": "stream",
     "text": [
      "[LightGBM] [Info] Auto-choosing col-wise multi-threading, the overhead of testing was 0.000178 seconds.\n",
      "You can set `force_col_wise=true` to remove the overhead.\n",
      "[LightGBM] [Info] Total Bins 3578\n",
      "[LightGBM] [Info] Number of data points in the train set: 1616, number of used features: 15\n",
      "[LightGBM] [Info] Start training from score 36977500.275990\n",
      "                               Adjusted R-Squared  R-Squared        RMSE  \\\n",
      "Model                                                                      \n",
      "OrthogonalMatchingPursuit                    0.87       0.88  4898245.19   \n",
      "GradientBoostingRegressor                    0.87       0.88  4898532.66   \n",
      "OrthogonalMatchingPursuitCV                  0.87       0.88  4900260.46   \n",
      "LarsCV                                       0.87       0.87  4905724.93   \n",
      "RandomForestRegressor                        0.86       0.87  4938687.08   \n",
      "LassoLarsCV                                  0.86       0.87  4940375.16   \n",
      "ExtraTreesRegressor                          0.86       0.87  4940822.04   \n",
      "LassoCV                                      0.86       0.87  4942384.02   \n",
      "LassoLarsIC                                  0.86       0.87  4956467.56   \n",
      "SGDRegressor                                 0.86       0.87  4962082.16   \n",
      "Ridge                                        0.86       0.87  4963655.68   \n",
      "RidgeCV                                      0.86       0.87  4963655.68   \n",
      "Lasso                                        0.86       0.87  4969920.72   \n",
      "LassoLars                                    0.86       0.87  4969921.12   \n",
      "LinearRegression                             0.86       0.87  4969923.47   \n",
      "TransformedTargetRegressor                   0.86       0.87  4969923.47   \n",
      "Lars                                         0.86       0.87  4982118.60   \n",
      "LGBMRegressor                                0.86       0.86  5105770.72   \n",
      "BaggingRegressor                             0.85       0.86  5180633.63   \n",
      "HistGradientBoostingRegressor                0.85       0.86  5220762.72   \n",
      "ElasticNet                                   0.84       0.85  5320504.65   \n",
      "XGBRegressor                                 0.84       0.85  5354504.34   \n",
      "PoissonRegressor                             0.84       0.85  5388179.65   \n",
      "HuberRegressor                               0.83       0.84  5475004.71   \n",
      "AdaBoostRegressor                            0.82       0.83  5644969.92   \n",
      "RANSACRegressor                              0.82       0.83  5702052.80   \n",
      "TweedieRegressor                             0.82       0.83  5767276.74   \n",
      "KNeighborsRegressor                          0.81       0.83  5801828.61   \n",
      "GammaRegressor                               0.77       0.78  6505173.43   \n",
      "DecisionTreeRegressor                        0.76       0.78  6518126.51   \n",
      "ExtraTreeRegressor                           0.71       0.73  7175265.15   \n",
      "ElasticNetCV                                -0.07      -0.00 13876002.61   \n",
      "BayesianRidge                               -0.07      -0.00 13879526.71   \n",
      "DummyRegressor                              -0.07      -0.00 13879526.71   \n",
      "NuSVR                                       -0.13      -0.06 14295117.76   \n",
      "SVR                                         -0.18      -0.10 14572823.05   \n",
      "GaussianProcessRegressor                    -1.39      -1.24 20757351.73   \n",
      "KernelRidge                                 -6.68      -6.20 37234307.23   \n",
      "PassiveAggressiveRegressor                  -7.18      -6.67 38414856.09   \n",
      "MLPRegressor                                -7.83      -7.28 39924448.75   \n",
      "LinearSVR                                   -7.83      -7.28 39924565.13   \n",
      "\n",
      "                               Time Taken  \n",
      "Model                                      \n",
      "OrthogonalMatchingPursuit            0.01  \n",
      "GradientBoostingRegressor            0.72  \n",
      "OrthogonalMatchingPursuitCV          0.01  \n",
      "LarsCV                               0.07  \n",
      "RandomForestRegressor                1.49  \n",
      "LassoLarsCV                          0.07  \n",
      "ExtraTreesRegressor                  0.73  \n",
      "LassoCV                              0.18  \n",
      "LassoLarsIC                          0.04  \n",
      "SGDRegressor                         0.03  \n",
      "Ridge                                0.01  \n",
      "RidgeCV                              0.04  \n",
      "Lasso                                0.07  \n",
      "LassoLars                            0.03  \n",
      "LinearRegression                     0.03  \n",
      "TransformedTargetRegressor           0.01  \n",
      "Lars                                 0.02  \n",
      "LGBMRegressor                        0.08  \n",
      "BaggingRegressor                     0.17  \n",
      "HistGradientBoostingRegressor        0.22  \n",
      "ElasticNet                           0.01  \n",
      "XGBRegressor                         0.24  \n",
      "PoissonRegressor                     3.37  \n",
      "HuberRegressor                       0.04  \n",
      "AdaBoostRegressor                    0.09  \n",
      "RANSACRegressor                      0.07  \n",
      "TweedieRegressor                     0.75  \n",
      "KNeighborsRegressor                  0.03  \n",
      "GammaRegressor                       0.41  \n",
      "DecisionTreeRegressor                0.10  \n",
      "ExtraTreeRegressor                   0.04  \n",
      "ElasticNetCV                         0.19  \n",
      "BayesianRidge                        0.03  \n",
      "DummyRegressor                       0.01  \n",
      "NuSVR                                0.16  \n",
      "SVR                                  0.17  \n",
      "GaussianProcessRegressor             0.51  \n",
      "KernelRidge                          0.07  \n",
      "PassiveAggressiveRegressor           0.12  \n",
      "MLPRegressor                         1.55  \n",
      "LinearSVR                            0.01  \n"
     ]
    },
    {
     "name": "stderr",
     "output_type": "stream",
     "text": [
      "\n"
     ]
    }
   ],
   "source": [
    "reg1 = LazyRegressor(verbose=0, ignore_warnings=False, custom_metric=None)\n",
    "models1, predictions1 = reg1.fit(X1_scaled, test_X1_scaled, y1, test_y1)\n",
    "predictions1"
   ],
   "metadata": {
    "collapsed": false,
    "ExecuteTime": {
     "end_time": "2024-01-16T11:00:03.118188163Z",
     "start_time": "2024-01-16T10:59:51.037964237Z"
    }
   },
   "id": "a98f39f02cd71009",
   "execution_count": 314
  },
  {
   "cell_type": "code",
   "outputs": [
    {
     "name": "stderr",
     "output_type": "stream",
     "text": [
      " 21%|██▏       | 9/42 [00:01<00:06,  5.39it/s]"
     ]
    },
    {
     "name": "stdout",
     "output_type": "stream",
     "text": [
      "GammaRegressor model failed to execute\n",
      "Some value(s) of y are out of the valid range of the loss 'HalfGammaLoss'.\n"
     ]
    },
    {
     "name": "stderr",
     "output_type": "stream",
     "text": [
      " 71%|███████▏  | 30/42 [00:06<00:02,  4.49it/s]"
     ]
    },
    {
     "name": "stdout",
     "output_type": "stream",
     "text": [
      "PoissonRegressor model failed to execute\n",
      "Some value(s) of y are out of the valid range of the loss 'HalfPoissonLoss'.\n",
      "QuantileRegressor model failed to execute\n",
      "Solver interior-point is not anymore available in SciPy >= 1.11.0.\n"
     ]
    },
    {
     "name": "stderr",
     "output_type": "stream",
     "text": [
      "100%|██████████| 42/42 [00:09<00:00,  4.40it/s]"
     ]
    },
    {
     "name": "stdout",
     "output_type": "stream",
     "text": [
      "[LightGBM] [Info] Auto-choosing col-wise multi-threading, the overhead of testing was 0.000431 seconds.\n",
      "You can set `force_col_wise=true` to remove the overhead.\n",
      "[LightGBM] [Info] Total Bins 3608\n",
      "[LightGBM] [Info] Number of data points in the train set: 1616, number of used features: 25\n",
      "[LightGBM] [Info] Start training from score 2376948.061796\n",
      "                               Adjusted R-Squared  R-Squared        RMSE  \\\n",
      "Model                                                                      \n",
      "DecisionTreeRegressor                        0.81       0.82  6388993.49   \n",
      "BaggingRegressor                             0.81       0.82  6446242.06   \n",
      "RandomForestRegressor                        0.81       0.82  6459960.26   \n",
      "ExtraTreesRegressor                          0.80       0.82  6522479.90   \n",
      "OrthogonalMatchingPursuit                    0.80       0.81  6547122.79   \n",
      "OrthogonalMatchingPursuitCV                  0.80       0.81  6547122.79   \n",
      "LGBMRegressor                                0.80       0.81  6563509.22   \n",
      "SGDRegressor                                 0.80       0.81  6571018.69   \n",
      "LassoCV                                      0.80       0.81  6572890.31   \n",
      "LassoLarsCV                                  0.80       0.81  6573341.29   \n",
      "LassoLarsIC                                  0.80       0.81  6573813.54   \n",
      "LarsCV                                       0.80       0.81  6575546.22   \n",
      "RidgeCV                                      0.80       0.81  6588024.73   \n",
      "Ridge                                        0.80       0.81  6588024.73   \n",
      "Lasso                                        0.80       0.81  6590490.29   \n",
      "LinearRegression                             0.80       0.81  6590492.44   \n",
      "TransformedTargetRegressor                   0.80       0.81  6590492.44   \n",
      "LassoLars                                    0.80       0.81  6590492.85   \n",
      "HistGradientBoostingRegressor                0.80       0.81  6591332.57   \n",
      "RANSACRegressor                              0.80       0.81  6594677.84   \n",
      "AdaBoostRegressor                            0.80       0.81  6622172.35   \n",
      "GradientBoostingRegressor                    0.80       0.81  6634058.53   \n",
      "XGBRegressor                                 0.79       0.81  6687598.53   \n",
      "KernelRidge                                  0.77       0.78  7105424.94   \n",
      "HuberRegressor                               0.76       0.78  7159702.65   \n",
      "ExtraTreeRegressor                           0.76       0.77  7240310.62   \n",
      "ElasticNet                                   0.75       0.77  7303338.73   \n",
      "TweedieRegressor                             0.69       0.71  8165594.25   \n",
      "KNeighborsRegressor                          0.68       0.70  8250714.87   \n",
      "GaussianProcessRegressor                     0.37       0.41 11642137.99   \n",
      "PassiveAggressiveRegressor                   0.20       0.25 13143489.22   \n",
      "ElasticNetCV                                -0.07      -0.00 15186743.54   \n",
      "BayesianRidge                               -0.07      -0.00 15188667.82   \n",
      "DummyRegressor                              -0.07      -0.00 15188667.82   \n",
      "NuSVR                                       -0.08      -0.01 15237758.36   \n",
      "SVR                                         -0.08      -0.01 15278056.80   \n",
      "LinearSVR                                   -0.11      -0.04 15483238.75   \n",
      "MLPRegressor                                -0.11      -0.04 15484542.09   \n",
      "Lars                                        -5.87      -5.44 38505075.78   \n",
      "\n",
      "                               Time Taken  \n",
      "Model                                      \n",
      "DecisionTreeRegressor                0.05  \n",
      "BaggingRegressor                     0.15  \n",
      "RandomForestRegressor                1.83  \n",
      "ExtraTreesRegressor                  0.80  \n",
      "OrthogonalMatchingPursuit            0.01  \n",
      "OrthogonalMatchingPursuitCV          0.02  \n",
      "LGBMRegressor                        0.10  \n",
      "SGDRegressor                         0.05  \n",
      "LassoCV                              0.18  \n",
      "LassoLarsCV                          0.09  \n",
      "LassoLarsIC                          0.04  \n",
      "LarsCV                               0.05  \n",
      "RidgeCV                              0.05  \n",
      "Ridge                                0.01  \n",
      "Lasso                                0.14  \n",
      "LinearRegression                     0.02  \n",
      "TransformedTargetRegressor           0.02  \n",
      "LassoLars                            0.04  \n",
      "HistGradientBoostingRegressor        0.24  \n",
      "RANSACRegressor                      0.05  \n",
      "AdaBoostRegressor                    0.22  \n",
      "GradientBoostingRegressor            0.75  \n",
      "XGBRegressor                         0.26  \n",
      "KernelRidge                          0.15  \n",
      "HuberRegressor                       0.03  \n",
      "ExtraTreeRegressor                   0.04  \n",
      "ElasticNet                           0.01  \n",
      "TweedieRegressor                     0.65  \n",
      "KNeighborsRegressor                  0.13  \n",
      "GaussianProcessRegressor             0.29  \n",
      "PassiveAggressiveRegressor           0.21  \n",
      "ElasticNetCV                         0.18  \n",
      "BayesianRidge                        0.01  \n",
      "DummyRegressor                       0.01  \n",
      "NuSVR                                0.18  \n",
      "SVR                                  0.21  \n",
      "LinearSVR                            0.02  \n",
      "MLPRegressor                         2.20  \n",
      "Lars                                 0.05  \n"
     ]
    },
    {
     "name": "stderr",
     "output_type": "stream",
     "text": [
      "\n"
     ]
    }
   ],
   "source": [
    "reg2 = LazyRegressor(verbose=0, ignore_warnings=False, custom_metric=None)\n",
    "models2, predictions2 = reg2.fit(X2_scaled, test_X2_scaled, y2, test_y2)\n",
    "predictions2"
   ],
   "metadata": {
    "collapsed": false,
    "ExecuteTime": {
     "end_time": "2024-01-16T10:19:03.580401131Z",
     "start_time": "2024-01-16T10:18:54.020156568Z"
    }
   },
   "id": "1bf937c27f6bea1d",
   "execution_count": 303
  },
  {
   "cell_type": "code",
   "outputs": [
    {
     "name": "stderr",
     "output_type": "stream",
     "text": [
      " 76%|███████▌  | 32/42 [00:09<00:05,  1.82it/s]"
     ]
    },
    {
     "name": "stdout",
     "output_type": "stream",
     "text": [
      "QuantileRegressor model failed to execute\n",
      "Solver interior-point is not anymore available in SciPy >= 1.11.0.\n"
     ]
    },
    {
     "name": "stderr",
     "output_type": "stream",
     "text": [
      "100%|██████████| 42/42 [00:12<00:00,  3.37it/s]"
     ]
    },
    {
     "name": "stdout",
     "output_type": "stream",
     "text": [
      "[LightGBM] [Info] Auto-choosing col-wise multi-threading, the overhead of testing was 0.000489 seconds.\n",
      "You can set `force_col_wise=true` to remove the overhead.\n",
      "[LightGBM] [Info] Total Bins 3608\n",
      "[LightGBM] [Info] Number of data points in the train set: 1616, number of used features: 25\n",
      "[LightGBM] [Info] Start training from score 61132553.259901\n",
      "                               Adjusted R-Squared  R-Squared        RMSE  \\\n",
      "Model                                                                      \n",
      "PoissonRegressor                             0.64       0.66 18711702.37   \n",
      "LarsCV                                       0.62       0.64 19194760.74   \n",
      "SGDRegressor                                 0.62       0.64 19243706.49   \n",
      "LassoLarsCV                                  0.61       0.64 19353968.18   \n",
      "LassoCV                                      0.61       0.64 19356102.92   \n",
      "OrthogonalMatchingPursuit                    0.61       0.64 19371544.10   \n",
      "OrthogonalMatchingPursuitCV                  0.61       0.64 19371544.10   \n",
      "RidgeCV                                      0.61       0.63 19450326.92   \n",
      "Ridge                                        0.61       0.63 19450326.92   \n",
      "LassoLarsIC                                  0.61       0.63 19452965.88   \n",
      "LassoLars                                    0.61       0.63 19506479.17   \n",
      "LinearRegression                             0.61       0.63 19506486.45   \n",
      "TransformedTargetRegressor                   0.61       0.63 19506486.45   \n",
      "Lasso                                        0.61       0.63 19506534.03   \n",
      "ElasticNet                                   0.61       0.63 19509130.53   \n",
      "GradientBoostingRegressor                    0.61       0.63 19534294.20   \n",
      "Lars                                         0.60       0.63 19609481.47   \n",
      "GammaRegressor                               0.59       0.62 19857949.32   \n",
      "ExtraTreesRegressor                          0.58       0.60 20225937.65   \n",
      "RandomForestRegressor                        0.57       0.60 20303219.28   \n",
      "TweedieRegressor                             0.57       0.60 20408801.76   \n",
      "BaggingRegressor                             0.56       0.59 20626485.77   \n",
      "LGBMRegressor                                0.56       0.58 20703996.73   \n",
      "HistGradientBoostingRegressor                0.55       0.58 20801480.28   \n",
      "XGBRegressor                                 0.53       0.56 21303503.43   \n",
      "HuberRegressor                               0.50       0.53 21920470.93   \n",
      "KNeighborsRegressor                          0.49       0.52 22140501.13   \n",
      "RANSACRegressor                              0.47       0.50 22741972.02   \n",
      "AdaBoostRegressor                            0.40       0.44 24132609.63   \n",
      "DecisionTreeRegressor                        0.39       0.43 24298076.02   \n",
      "ExtraTreeRegressor                           0.37       0.41 24676797.02   \n",
      "ElasticNetCV                                -0.07      -0.00 32185013.93   \n",
      "BayesianRidge                               -0.07      -0.00 32187934.04   \n",
      "DummyRegressor                              -0.07      -0.00 32187934.04   \n",
      "NuSVR                                       -0.13      -0.06 33086586.75   \n",
      "SVR                                         -0.17      -0.10 33623074.38   \n",
      "GaussianProcessRegressor                    -0.99      -0.87 43914255.76   \n",
      "KernelRidge                                 -3.25      -2.99 64135042.39   \n",
      "PassiveAggressiveRegressor                  -4.01      -3.69 69579913.91   \n",
      "MLPRegressor                                -4.21      -3.89 71015136.03   \n",
      "LinearSVR                                   -4.21      -3.89 71015997.25   \n",
      "\n",
      "                               Time Taken  \n",
      "Model                                      \n",
      "PoissonRegressor                     2.93  \n",
      "LarsCV                               0.07  \n",
      "SGDRegressor                         0.03  \n",
      "LassoLarsCV                          0.07  \n",
      "LassoCV                              0.17  \n",
      "OrthogonalMatchingPursuit            0.01  \n",
      "OrthogonalMatchingPursuitCV          0.02  \n",
      "RidgeCV                              0.04  \n",
      "Ridge                                0.01  \n",
      "LassoLarsIC                          0.03  \n",
      "LassoLars                            0.02  \n",
      "LinearRegression                     0.01  \n",
      "TransformedTargetRegressor           0.03  \n",
      "Lasso                                0.09  \n",
      "ElasticNet                           0.02  \n",
      "GradientBoostingRegressor            0.75  \n",
      "Lars                                 0.03  \n",
      "GammaRegressor                       0.43  \n",
      "ExtraTreesRegressor                  0.88  \n",
      "RandomForestRegressor                1.71  \n",
      "TweedieRegressor                     0.78  \n",
      "BaggingRegressor                     0.17  \n",
      "LGBMRegressor                        0.10  \n",
      "HistGradientBoostingRegressor        0.23  \n",
      "XGBRegressor                         0.26  \n",
      "HuberRegressor                       0.05  \n",
      "KNeighborsRegressor                  0.01  \n",
      "RANSACRegressor                      0.21  \n",
      "AdaBoostRegressor                    0.26  \n",
      "DecisionTreeRegressor                0.11  \n",
      "ExtraTreeRegressor                   0.02  \n",
      "ElasticNetCV                         0.11  \n",
      "BayesianRidge                        0.04  \n",
      "DummyRegressor                       0.01  \n",
      "NuSVR                                0.17  \n",
      "SVR                                  0.22  \n",
      "GaussianProcessRegressor             0.33  \n",
      "KernelRidge                          0.09  \n",
      "PassiveAggressiveRegressor           0.21  \n",
      "MLPRegressor                         1.66  \n",
      "LinearSVR                            0.02  \n"
     ]
    },
    {
     "name": "stderr",
     "output_type": "stream",
     "text": [
      "\n"
     ]
    }
   ],
   "source": [
    "reg3 = LazyRegressor(verbose=0, ignore_warnings=False, custom_metric=None)\n",
    "models3, predictions3 = reg3.fit(X3_scaled, test_X3_scaled, y3, test_y3)\n",
    "predictions3"
   ],
   "metadata": {
    "collapsed": false,
    "ExecuteTime": {
     "end_time": "2024-01-16T10:19:32.793917991Z",
     "start_time": "2024-01-16T10:19:20.309372432Z"
    }
   },
   "id": "de07e3ded5e9806a",
   "execution_count": 304
  }
 ],
 "metadata": {
  "kernelspec": {
   "display_name": "Python 3",
   "language": "python",
   "name": "python3"
  },
  "language_info": {
   "codemirror_mode": {
    "name": "ipython",
    "version": 2
   },
   "file_extension": ".py",
   "mimetype": "text/x-python",
   "name": "python",
   "nbconvert_exporter": "python",
   "pygments_lexer": "ipython2",
   "version": "2.7.6"
  }
 },
 "nbformat": 4,
 "nbformat_minor": 5
}
