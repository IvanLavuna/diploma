{
 "cells": [
  {
   "cell_type": "code",
   "execution_count": 6,
   "id": "initial_id",
   "metadata": {
    "collapsed": true,
    "ExecuteTime": {
     "end_time": "2024-01-19T19:08:37.276664855Z",
     "start_time": "2024-01-19T19:08:37.234985292Z"
    }
   },
   "outputs": [],
   "source": [
    "from lazypredict.Supervised import LazyRegressor\n",
    "from sklearn import datasets\n",
    "from sklearn.utils import shuffle\n",
    "import numpy as np\n",
    "import pandas as pd"
   ]
  },
  {
   "cell_type": "code",
   "outputs": [
    {
     "name": "stderr",
     "output_type": "stream",
     "text": [
      " 29%|██▊       | 12/42 [00:00<00:01, 28.65it/s]"
     ]
    },
    {
     "name": "stdout",
     "output_type": "stream",
     "text": [
      "GammaRegressor model failed to execute\n",
      "Some value(s) of y are out of the valid range of the loss 'HalfGammaLoss'.\n"
     ]
    },
    {
     "name": "stderr",
     "output_type": "stream",
     "text": [
      " 90%|█████████ | 38/42 [00:01<00:00, 38.69it/s]"
     ]
    },
    {
     "name": "stdout",
     "output_type": "stream",
     "text": [
      "PoissonRegressor model failed to execute\n",
      "Some value(s) of y are out of the valid range of the loss 'HalfPoissonLoss'.\n",
      "QuantileRegressor model failed to execute\n",
      "Solver interior-point is not anymore available in SciPy >= 1.11.0.\n"
     ]
    },
    {
     "name": "stderr",
     "output_type": "stream",
     "text": [
      "100%|██████████| 42/42 [00:01<00:00, 31.53it/s]"
     ]
    },
    {
     "name": "stdout",
     "output_type": "stream",
     "text": [
      "[LightGBM] [Info] Auto-choosing col-wise multi-threading, the overhead of testing was 0.000027 seconds.\n",
      "You can set `force_col_wise=true` to remove the overhead.\n",
      "[LightGBM] [Info] Total Bins 67\n",
      "[LightGBM] [Info] Number of data points in the train set: 377, number of used features: 3\n",
      "[LightGBM] [Info] Start training from score 0.005185\n",
      "[LightGBM] [Warning] No further splits with positive gain, best gain: -inf\n",
      "[LightGBM] [Warning] No further splits with positive gain, best gain: -inf\n",
      "[LightGBM] [Warning] No further splits with positive gain, best gain: -inf\n",
      "[LightGBM] [Warning] No further splits with positive gain, best gain: -inf\n",
      "[LightGBM] [Warning] No further splits with positive gain, best gain: -inf\n",
      "[LightGBM] [Warning] No further splits with positive gain, best gain: -inf\n",
      "[LightGBM] [Warning] No further splits with positive gain, best gain: -inf\n",
      "[LightGBM] [Warning] No further splits with positive gain, best gain: -inf\n",
      "[LightGBM] [Warning] No further splits with positive gain, best gain: -inf\n",
      "[LightGBM] [Warning] No further splits with positive gain, best gain: -inf\n",
      "[LightGBM] [Warning] No further splits with positive gain, best gain: -inf\n",
      "[LightGBM] [Warning] No further splits with positive gain, best gain: -inf\n",
      "[LightGBM] [Warning] No further splits with positive gain, best gain: -inf\n",
      "[LightGBM] [Warning] No further splits with positive gain, best gain: -inf\n",
      "[LightGBM] [Warning] No further splits with positive gain, best gain: -inf\n",
      "[LightGBM] [Warning] No further splits with positive gain, best gain: -inf\n",
      "[LightGBM] [Warning] No further splits with positive gain, best gain: -inf\n",
      "[LightGBM] [Warning] No further splits with positive gain, best gain: -inf\n",
      "[LightGBM] [Warning] No further splits with positive gain, best gain: -inf\n",
      "[LightGBM] [Warning] No further splits with positive gain, best gain: -inf\n",
      "[LightGBM] [Warning] No further splits with positive gain, best gain: -inf\n",
      "[LightGBM] [Warning] No further splits with positive gain, best gain: -inf\n",
      "[LightGBM] [Warning] No further splits with positive gain, best gain: -inf\n",
      "[LightGBM] [Warning] No further splits with positive gain, best gain: -inf\n",
      "[LightGBM] [Warning] No further splits with positive gain, best gain: -inf\n",
      "[LightGBM] [Warning] No further splits with positive gain, best gain: -inf\n",
      "[LightGBM] [Warning] No further splits with positive gain, best gain: -inf\n",
      "[LightGBM] [Warning] No further splits with positive gain, best gain: -inf\n",
      "[LightGBM] [Warning] No further splits with positive gain, best gain: -inf\n",
      "[LightGBM] [Warning] No further splits with positive gain, best gain: -inf\n",
      "[LightGBM] [Warning] No further splits with positive gain, best gain: -inf\n",
      "[LightGBM] [Warning] No further splits with positive gain, best gain: -inf\n",
      "[LightGBM] [Warning] No further splits with positive gain, best gain: -inf\n",
      "[LightGBM] [Warning] No further splits with positive gain, best gain: -inf\n",
      "[LightGBM] [Warning] No further splits with positive gain, best gain: -inf\n",
      "[LightGBM] [Warning] No further splits with positive gain, best gain: -inf\n",
      "[LightGBM] [Warning] No further splits with positive gain, best gain: -inf\n",
      "[LightGBM] [Warning] No further splits with positive gain, best gain: -inf\n",
      "[LightGBM] [Warning] No further splits with positive gain, best gain: -inf\n",
      "[LightGBM] [Warning] No further splits with positive gain, best gain: -inf\n",
      "[LightGBM] [Warning] No further splits with positive gain, best gain: -inf\n",
      "[LightGBM] [Warning] No further splits with positive gain, best gain: -inf\n",
      "[LightGBM] [Warning] No further splits with positive gain, best gain: -inf\n",
      "[LightGBM] [Warning] No further splits with positive gain, best gain: -inf\n",
      "[LightGBM] [Warning] No further splits with positive gain, best gain: -inf\n",
      "[LightGBM] [Warning] No further splits with positive gain, best gain: -inf\n",
      "[LightGBM] [Warning] No further splits with positive gain, best gain: -inf\n",
      "[LightGBM] [Warning] No further splits with positive gain, best gain: -inf\n",
      "[LightGBM] [Warning] No further splits with positive gain, best gain: -inf\n",
      "[LightGBM] [Warning] No further splits with positive gain, best gain: -inf\n",
      "[LightGBM] [Warning] No further splits with positive gain, best gain: -inf\n",
      "[LightGBM] [Warning] No further splits with positive gain, best gain: -inf\n",
      "[LightGBM] [Warning] No further splits with positive gain, best gain: -inf\n",
      "[LightGBM] [Warning] No further splits with positive gain, best gain: -inf\n",
      "[LightGBM] [Warning] No further splits with positive gain, best gain: -inf\n",
      "[LightGBM] [Warning] No further splits with positive gain, best gain: -inf\n",
      "[LightGBM] [Warning] No further splits with positive gain, best gain: -inf\n",
      "[LightGBM] [Warning] No further splits with positive gain, best gain: -inf\n",
      "[LightGBM] [Warning] No further splits with positive gain, best gain: -inf\n",
      "[LightGBM] [Warning] No further splits with positive gain, best gain: -inf\n",
      "[LightGBM] [Warning] No further splits with positive gain, best gain: -inf\n",
      "[LightGBM] [Warning] No further splits with positive gain, best gain: -inf\n",
      "[LightGBM] [Warning] No further splits with positive gain, best gain: -inf\n",
      "[LightGBM] [Warning] No further splits with positive gain, best gain: -inf\n",
      "[LightGBM] [Warning] No further splits with positive gain, best gain: -inf\n",
      "[LightGBM] [Warning] No further splits with positive gain, best gain: -inf\n",
      "[LightGBM] [Warning] No further splits with positive gain, best gain: -inf\n",
      "[LightGBM] [Warning] No further splits with positive gain, best gain: -inf\n",
      "[LightGBM] [Warning] No further splits with positive gain, best gain: -inf\n",
      "[LightGBM] [Warning] No further splits with positive gain, best gain: -inf\n",
      "[LightGBM] [Warning] No further splits with positive gain, best gain: -inf\n",
      "[LightGBM] [Warning] No further splits with positive gain, best gain: -inf\n",
      "[LightGBM] [Warning] No further splits with positive gain, best gain: -inf\n",
      "[LightGBM] [Warning] No further splits with positive gain, best gain: -inf\n",
      "[LightGBM] [Warning] No further splits with positive gain, best gain: -inf\n",
      "[LightGBM] [Warning] No further splits with positive gain, best gain: -inf\n",
      "[LightGBM] [Warning] No further splits with positive gain, best gain: -inf\n",
      "[LightGBM] [Warning] No further splits with positive gain, best gain: -inf\n",
      "[LightGBM] [Warning] No further splits with positive gain, best gain: -inf\n",
      "[LightGBM] [Warning] No further splits with positive gain, best gain: -inf\n",
      "[LightGBM] [Warning] No further splits with positive gain, best gain: -inf\n",
      "[LightGBM] [Warning] No further splits with positive gain, best gain: -inf\n",
      "[LightGBM] [Warning] No further splits with positive gain, best gain: -inf\n",
      "[LightGBM] [Warning] No further splits with positive gain, best gain: -inf\n",
      "[LightGBM] [Warning] No further splits with positive gain, best gain: -inf\n",
      "[LightGBM] [Warning] No further splits with positive gain, best gain: -inf\n",
      "[LightGBM] [Warning] No further splits with positive gain, best gain: -inf\n",
      "[LightGBM] [Warning] No further splits with positive gain, best gain: -inf\n",
      "[LightGBM] [Warning] No further splits with positive gain, best gain: -inf\n",
      "[LightGBM] [Warning] No further splits with positive gain, best gain: -inf\n",
      "[LightGBM] [Warning] No further splits with positive gain, best gain: -inf\n",
      "[LightGBM] [Warning] No further splits with positive gain, best gain: -inf\n",
      "[LightGBM] [Warning] No further splits with positive gain, best gain: -inf\n",
      "[LightGBM] [Warning] No further splits with positive gain, best gain: -inf\n",
      "[LightGBM] [Warning] No further splits with positive gain, best gain: -inf\n",
      "[LightGBM] [Warning] No further splits with positive gain, best gain: -inf\n",
      "[LightGBM] [Warning] No further splits with positive gain, best gain: -inf\n",
      "[LightGBM] [Warning] No further splits with positive gain, best gain: -inf\n",
      "[LightGBM] [Warning] No further splits with positive gain, best gain: -inf\n",
      "[LightGBM] [Warning] No further splits with positive gain, best gain: -inf\n"
     ]
    },
    {
     "name": "stderr",
     "output_type": "stream",
     "text": [
      "\n"
     ]
    },
    {
     "data": {
      "text/plain": "                               Adjusted R-Squared  R-Squared  RMSE  Time Taken\nModel                                                                         \nNuSVR                                       -0.03       0.01  0.07        0.05\nRANSACRegressor                             -0.03       0.00  0.07        0.05\nHuberRegressor                              -0.03       0.00  0.07        0.01\nLinearSVR                                   -0.03      -0.00  0.07        0.01\nKernelRidge                                 -0.03      -0.00  0.07        0.03\nLassoLars                                   -0.04      -0.00  0.07        0.01\nElasticNet                                  -0.04      -0.00  0.07        0.01\nLasso                                       -0.04      -0.00  0.07        0.02\nDummyRegressor                              -0.04      -0.00  0.07        0.01\nXGBRegressor                                -0.04      -0.00  0.07        0.22\nLassoLarsIC                                 -0.04      -0.01  0.07        0.01\nLassoLarsCV                                 -0.04      -0.01  0.07        0.01\nLars                                        -0.04      -0.01  0.07        0.01\nLarsCV                                      -0.04      -0.01  0.07        0.03\nLinearRegression                            -0.04      -0.01  0.07        0.01\nTransformedTargetRegressor                  -0.04      -0.01  0.07        0.01\nRidge                                       -0.04      -0.01  0.07        0.01\nLassoCV                                     -0.04      -0.01  0.07        0.09\nElasticNetCV                                -0.04      -0.01  0.07        0.05\nRidgeCV                                     -0.04      -0.01  0.07        0.01\nTweedieRegressor                            -0.04      -0.01  0.08        0.01\nBayesianRidge                               -0.04      -0.01  0.08        0.01\nSGDRegressor                                -0.04      -0.01  0.08        0.01\nOrthogonalMatchingPursuit                   -0.05      -0.02  0.08        0.01\nOrthogonalMatchingPursuitCV                 -0.05      -0.02  0.08        0.01\nDecisionTreeRegressor                       -0.07      -0.03  0.08        0.01\nBaggingRegressor                            -0.10      -0.06  0.08        0.04\nKNeighborsRegressor                         -0.12      -0.08  0.08        0.01\nRandomForestRegressor                       -0.13      -0.09  0.08        0.12\nMLPRegressor                                -0.14      -0.10  0.08        0.06\nExtraTreesRegressor                         -0.14      -0.10  0.08        0.08\nHistGradientBoostingRegressor               -0.21      -0.17  0.08        0.10\nLGBMRegressor                               -0.21      -0.18  0.08        0.03\nAdaBoostRegressor                           -0.22      -0.18  0.08        0.02\nGradientBoostingRegressor                   -0.25      -0.21  0.08        0.12\nSVR                                         -0.60      -0.54  0.09        0.01\nPassiveAggressiveRegressor                  -0.61      -0.56  0.09        0.01\nExtraTreeRegressor                          -0.99      -0.92  0.10        0.01\nGaussianProcessRegressor                   -26.86     -25.97  0.39        0.03",
      "text/html": "<div>\n<style scoped>\n    .dataframe tbody tr th:only-of-type {\n        vertical-align: middle;\n    }\n\n    .dataframe tbody tr th {\n        vertical-align: top;\n    }\n\n    .dataframe thead th {\n        text-align: right;\n    }\n</style>\n<table border=\"1\" class=\"dataframe\">\n  <thead>\n    <tr style=\"text-align: right;\">\n      <th></th>\n      <th>Adjusted R-Squared</th>\n      <th>R-Squared</th>\n      <th>RMSE</th>\n      <th>Time Taken</th>\n    </tr>\n    <tr>\n      <th>Model</th>\n      <th></th>\n      <th></th>\n      <th></th>\n      <th></th>\n    </tr>\n  </thead>\n  <tbody>\n    <tr>\n      <th>NuSVR</th>\n      <td>-0.03</td>\n      <td>0.01</td>\n      <td>0.07</td>\n      <td>0.05</td>\n    </tr>\n    <tr>\n      <th>RANSACRegressor</th>\n      <td>-0.03</td>\n      <td>0.00</td>\n      <td>0.07</td>\n      <td>0.05</td>\n    </tr>\n    <tr>\n      <th>HuberRegressor</th>\n      <td>-0.03</td>\n      <td>0.00</td>\n      <td>0.07</td>\n      <td>0.01</td>\n    </tr>\n    <tr>\n      <th>LinearSVR</th>\n      <td>-0.03</td>\n      <td>-0.00</td>\n      <td>0.07</td>\n      <td>0.01</td>\n    </tr>\n    <tr>\n      <th>KernelRidge</th>\n      <td>-0.03</td>\n      <td>-0.00</td>\n      <td>0.07</td>\n      <td>0.03</td>\n    </tr>\n    <tr>\n      <th>LassoLars</th>\n      <td>-0.04</td>\n      <td>-0.00</td>\n      <td>0.07</td>\n      <td>0.01</td>\n    </tr>\n    <tr>\n      <th>ElasticNet</th>\n      <td>-0.04</td>\n      <td>-0.00</td>\n      <td>0.07</td>\n      <td>0.01</td>\n    </tr>\n    <tr>\n      <th>Lasso</th>\n      <td>-0.04</td>\n      <td>-0.00</td>\n      <td>0.07</td>\n      <td>0.02</td>\n    </tr>\n    <tr>\n      <th>DummyRegressor</th>\n      <td>-0.04</td>\n      <td>-0.00</td>\n      <td>0.07</td>\n      <td>0.01</td>\n    </tr>\n    <tr>\n      <th>XGBRegressor</th>\n      <td>-0.04</td>\n      <td>-0.00</td>\n      <td>0.07</td>\n      <td>0.22</td>\n    </tr>\n    <tr>\n      <th>LassoLarsIC</th>\n      <td>-0.04</td>\n      <td>-0.01</td>\n      <td>0.07</td>\n      <td>0.01</td>\n    </tr>\n    <tr>\n      <th>LassoLarsCV</th>\n      <td>-0.04</td>\n      <td>-0.01</td>\n      <td>0.07</td>\n      <td>0.01</td>\n    </tr>\n    <tr>\n      <th>Lars</th>\n      <td>-0.04</td>\n      <td>-0.01</td>\n      <td>0.07</td>\n      <td>0.01</td>\n    </tr>\n    <tr>\n      <th>LarsCV</th>\n      <td>-0.04</td>\n      <td>-0.01</td>\n      <td>0.07</td>\n      <td>0.03</td>\n    </tr>\n    <tr>\n      <th>LinearRegression</th>\n      <td>-0.04</td>\n      <td>-0.01</td>\n      <td>0.07</td>\n      <td>0.01</td>\n    </tr>\n    <tr>\n      <th>TransformedTargetRegressor</th>\n      <td>-0.04</td>\n      <td>-0.01</td>\n      <td>0.07</td>\n      <td>0.01</td>\n    </tr>\n    <tr>\n      <th>Ridge</th>\n      <td>-0.04</td>\n      <td>-0.01</td>\n      <td>0.07</td>\n      <td>0.01</td>\n    </tr>\n    <tr>\n      <th>LassoCV</th>\n      <td>-0.04</td>\n      <td>-0.01</td>\n      <td>0.07</td>\n      <td>0.09</td>\n    </tr>\n    <tr>\n      <th>ElasticNetCV</th>\n      <td>-0.04</td>\n      <td>-0.01</td>\n      <td>0.07</td>\n      <td>0.05</td>\n    </tr>\n    <tr>\n      <th>RidgeCV</th>\n      <td>-0.04</td>\n      <td>-0.01</td>\n      <td>0.07</td>\n      <td>0.01</td>\n    </tr>\n    <tr>\n      <th>TweedieRegressor</th>\n      <td>-0.04</td>\n      <td>-0.01</td>\n      <td>0.08</td>\n      <td>0.01</td>\n    </tr>\n    <tr>\n      <th>BayesianRidge</th>\n      <td>-0.04</td>\n      <td>-0.01</td>\n      <td>0.08</td>\n      <td>0.01</td>\n    </tr>\n    <tr>\n      <th>SGDRegressor</th>\n      <td>-0.04</td>\n      <td>-0.01</td>\n      <td>0.08</td>\n      <td>0.01</td>\n    </tr>\n    <tr>\n      <th>OrthogonalMatchingPursuit</th>\n      <td>-0.05</td>\n      <td>-0.02</td>\n      <td>0.08</td>\n      <td>0.01</td>\n    </tr>\n    <tr>\n      <th>OrthogonalMatchingPursuitCV</th>\n      <td>-0.05</td>\n      <td>-0.02</td>\n      <td>0.08</td>\n      <td>0.01</td>\n    </tr>\n    <tr>\n      <th>DecisionTreeRegressor</th>\n      <td>-0.07</td>\n      <td>-0.03</td>\n      <td>0.08</td>\n      <td>0.01</td>\n    </tr>\n    <tr>\n      <th>BaggingRegressor</th>\n      <td>-0.10</td>\n      <td>-0.06</td>\n      <td>0.08</td>\n      <td>0.04</td>\n    </tr>\n    <tr>\n      <th>KNeighborsRegressor</th>\n      <td>-0.12</td>\n      <td>-0.08</td>\n      <td>0.08</td>\n      <td>0.01</td>\n    </tr>\n    <tr>\n      <th>RandomForestRegressor</th>\n      <td>-0.13</td>\n      <td>-0.09</td>\n      <td>0.08</td>\n      <td>0.12</td>\n    </tr>\n    <tr>\n      <th>MLPRegressor</th>\n      <td>-0.14</td>\n      <td>-0.10</td>\n      <td>0.08</td>\n      <td>0.06</td>\n    </tr>\n    <tr>\n      <th>ExtraTreesRegressor</th>\n      <td>-0.14</td>\n      <td>-0.10</td>\n      <td>0.08</td>\n      <td>0.08</td>\n    </tr>\n    <tr>\n      <th>HistGradientBoostingRegressor</th>\n      <td>-0.21</td>\n      <td>-0.17</td>\n      <td>0.08</td>\n      <td>0.10</td>\n    </tr>\n    <tr>\n      <th>LGBMRegressor</th>\n      <td>-0.21</td>\n      <td>-0.18</td>\n      <td>0.08</td>\n      <td>0.03</td>\n    </tr>\n    <tr>\n      <th>AdaBoostRegressor</th>\n      <td>-0.22</td>\n      <td>-0.18</td>\n      <td>0.08</td>\n      <td>0.02</td>\n    </tr>\n    <tr>\n      <th>GradientBoostingRegressor</th>\n      <td>-0.25</td>\n      <td>-0.21</td>\n      <td>0.08</td>\n      <td>0.12</td>\n    </tr>\n    <tr>\n      <th>SVR</th>\n      <td>-0.60</td>\n      <td>-0.54</td>\n      <td>0.09</td>\n      <td>0.01</td>\n    </tr>\n    <tr>\n      <th>PassiveAggressiveRegressor</th>\n      <td>-0.61</td>\n      <td>-0.56</td>\n      <td>0.09</td>\n      <td>0.01</td>\n    </tr>\n    <tr>\n      <th>ExtraTreeRegressor</th>\n      <td>-0.99</td>\n      <td>-0.92</td>\n      <td>0.10</td>\n      <td>0.01</td>\n    </tr>\n    <tr>\n      <th>GaussianProcessRegressor</th>\n      <td>-26.86</td>\n      <td>-25.97</td>\n      <td>0.39</td>\n      <td>0.03</td>\n    </tr>\n  </tbody>\n</table>\n</div>"
     },
     "execution_count": 7,
     "metadata": {},
     "output_type": "execute_result"
    }
   ],
   "source": [
    "y_name = 'horizontal'\n",
    "\n",
    "df = pd.read_csv('data/ANN_data_horizontal2.csv')\n",
    "\n",
    "X = df.drop(columns=[y_name], axis=1).values\n",
    "y = df[y_name].values\n",
    "\n",
    "X, y = shuffle(X, y, random_state=13)\n",
    "\n",
    "# Convert X to float32\n",
    "X = X.astype(np.float32)\n",
    "\n",
    "# Split the data into training and testing sets\n",
    "offset = int(X.shape[0] * 0.8)\n",
    "X_train, y_train = X[:offset], y[:offset]\n",
    "X_test, y_test = X[offset:], y[offset:]\n",
    "\n",
    "# LazyRegressor part\n",
    "reg = LazyRegressor(verbose=0, ignore_warnings=False, custom_metric=None)\n",
    "models, predictions = reg.fit(X_train, X_test, y_train, y_test)\n",
    "predictions"
   ],
   "metadata": {
    "collapsed": false,
    "ExecuteTime": {
     "end_time": "2024-01-19T19:08:40.959886090Z",
     "start_time": "2024-01-19T19:08:39.609413352Z"
    }
   },
   "id": "1af85b72133d587",
   "execution_count": 7
  },
  {
   "cell_type": "code",
   "outputs": [
    {
     "data": {
      "text/plain": "pandas.core.frame.DataFrame"
     },
     "execution_count": 4,
     "metadata": {},
     "output_type": "execute_result"
    }
   ],
   "source": [
    "type(predictions)"
   ],
   "metadata": {
    "collapsed": false,
    "ExecuteTime": {
     "end_time": "2024-01-19T19:07:58.311824891Z",
     "start_time": "2024-01-19T19:07:58.256221122Z"
    }
   },
   "id": "e8e0a6630681acf9",
   "execution_count": 4
  },
  {
   "cell_type": "code",
   "outputs": [],
   "source": [
    "predictions.to_csv('horizontal_lazy_regression.csv')"
   ],
   "metadata": {
    "collapsed": false,
    "ExecuteTime": {
     "end_time": "2024-01-19T19:08:50.790763932Z",
     "start_time": "2024-01-19T19:08:50.748417185Z"
    }
   },
   "id": "f5ecf4952db8e50a",
   "execution_count": 8
  },
  {
   "cell_type": "code",
   "outputs": [],
   "source": [],
   "metadata": {
    "collapsed": false
   },
   "id": "85ccf1a1196b43a8"
  }
 ],
 "metadata": {
  "kernelspec": {
   "display_name": "Python 3",
   "language": "python",
   "name": "python3"
  },
  "language_info": {
   "codemirror_mode": {
    "name": "ipython",
    "version": 2
   },
   "file_extension": ".py",
   "mimetype": "text/x-python",
   "name": "python",
   "nbconvert_exporter": "python",
   "pygments_lexer": "ipython2",
   "version": "2.7.6"
  }
 },
 "nbformat": 4,
 "nbformat_minor": 5
}
