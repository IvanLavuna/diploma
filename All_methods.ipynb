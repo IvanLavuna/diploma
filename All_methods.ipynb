{
 "cells": [
  {
   "cell_type": "code",
   "execution_count": 11,
   "metadata": {
    "colab": {
     "autoexec": {
      "startup": false,
      "wait_interval": 0
     }
    },
    "colab_type": "code",
    "id": "zEhnhfbGJGOE",
    "ExecuteTime": {
     "end_time": "2023-11-19T10:11:54.133229159Z",
     "start_time": "2023-11-19T10:11:54.092262178Z"
    }
   },
   "outputs": [],
   "source": [
    "import pandas as pd\n",
    "import numpy as np\n",
    "from sklearn.pipeline import Pipeline\n",
    "from sklearn.preprocessing import MinMaxScaler\n",
    "from sklearn.preprocessing import MaxAbsScaler\n",
    "from sklearn.preprocessing import PolynomialFeatures\n",
    "from sklearn import metrics\n",
    "import math\n",
    "import time\n",
    "from sklearn.metrics import mean_squared_error"
   ]
  },
  {
   "cell_type": "code",
   "execution_count": 1,
   "metadata": {
    "colab": {
     "autoexec": {
      "startup": false,
      "wait_interval": 0
     }
    },
    "colab_type": "code",
    "id": "1_PMl42JJGOR",
    "ExecuteTime": {
     "end_time": "2023-11-20T11:13:58.507432368Z",
     "start_time": "2023-11-20T11:13:58.381727837Z"
    }
   },
   "outputs": [
    {
     "ename": "NameError",
     "evalue": "name 'pd' is not defined",
     "output_type": "error",
     "traceback": [
      "\u001B[0;31m---------------------------------------------------------------------------\u001B[0m",
      "\u001B[0;31mNameError\u001B[0m                                 Traceback (most recent call last)",
      "Cell \u001B[0;32mIn[1], line 1\u001B[0m\n\u001B[0;32m----> 1\u001B[0m df_train \u001B[38;5;241m=\u001B[39m \u001B[43mpd\u001B[49m\u001B[38;5;241m.\u001B[39mread_csv(\u001B[38;5;124m'\u001B[39m\u001B[38;5;124mdata/DRdataTrain.csv\u001B[39m\u001B[38;5;124m'\u001B[39m)\n\u001B[1;32m      2\u001B[0m df_test \u001B[38;5;241m=\u001B[39m pd\u001B[38;5;241m.\u001B[39mread_csv(\u001B[38;5;124m'\u001B[39m\u001B[38;5;124mdata/DRdataTest.csv\u001B[39m\u001B[38;5;124m'\u001B[39m)\n",
      "\u001B[0;31mNameError\u001B[0m: name 'pd' is not defined"
     ]
    }
   ],
   "source": [
    "df_train = pd.read_csv('data/DRdataTrain.csv')\n",
    "df_test = pd.read_csv('data/DRdataTest.csv')"
   ]
  },
  {
   "cell_type": "code",
   "execution_count": 13,
   "outputs": [
    {
     "data": {
      "text/plain": "(22620, 15)"
     },
     "execution_count": 13,
     "metadata": {},
     "output_type": "execute_result"
    }
   ],
   "source": [
    "df_test.shape"
   ],
   "metadata": {
    "collapsed": false,
    "ExecuteTime": {
     "end_time": "2023-11-19T10:11:55.757507052Z",
     "start_time": "2023-11-19T10:11:55.742763838Z"
    }
   }
  },
  {
   "cell_type": "code",
   "execution_count": 14,
   "outputs": [],
   "source": [
    "train_size = len(df_train)\n",
    "\n",
    "train_X = df_train.iloc[:, :-1]\n",
    "train_y = df_train.iloc[:,-1]\n",
    "test_X = df_test.iloc[:, :-1]\n",
    "test_y = df_test.iloc[:,-1]\n"
   ],
   "metadata": {
    "collapsed": false,
    "ExecuteTime": {
     "end_time": "2023-11-19T10:11:56.715205808Z",
     "start_time": "2023-11-19T10:11:56.704905487Z"
    }
   }
  },
  {
   "cell_type": "code",
   "execution_count": 17,
   "outputs": [
    {
     "data": {
      "text/plain": "        0    1   2         3   4         5         6         7         8   \\\n0       54  0.5  80    Benign   9  0.425820  0.052035  0.044126  0.028046   \n1      325  6.0  80    Benign  15  0.000000  0.000000  0.000000  0.000000   \n2        7  6.0  60    Benign   1  0.000000  0.000000  0.000000  0.000000   \n3        4  5.0  20       Low  12  0.000000  0.000000  0.000000  0.000000   \n4       66  2.5  60    Severe   1  0.000000  0.000000  0.000000  0.010694   \n...    ...  ...  ..       ...  ..       ...       ...       ...       ...   \n90475    4  2.5  80    Severe   3  0.000000  0.000000  0.000000  0.010694   \n90476   84  5.0  40    Severe  18  0.000000  0.000000  0.000000  0.000000   \n90477   86  1.0  40  moderate   3  0.092197  0.065878  0.058841  0.038933   \n90478   92  0.0  80       Low   9  0.653970  0.000000  0.000000  0.000000   \n90479   30  5.0  60  moderate   3  0.000000  0.000000  0.000000  0.000000   \n\n            9        10       11       12       13  \n0      0.44997  1.00000  0.79423  0.59194  0.15127  \n1      1.00000  1.00000  1.00000  1.00000  1.00000  \n2      1.00000  0.90047  0.71260  0.39687  0.11078  \n3      1.00000  0.90173  0.71260  0.39687  0.11078  \n4      0.98931  1.00000  0.98567  0.94057  0.41877  \n...        ...      ...      ...      ...      ...  \n90475  0.98931  0.90179  0.71217  0.39687  0.11078  \n90476  1.00000  1.00000  0.86337  0.71133  0.20401  \n90477  0.74415  1.00000  0.96782  0.90208  0.35678  \n90478  0.35019  1.00000  0.92496  0.81562  0.27088  \n90479  1.00000  0.98515  0.74740  0.50053  0.12252  \n\n[90480 rows x 14 columns]",
      "text/html": "<div>\n<style scoped>\n    .dataframe tbody tr th:only-of-type {\n        vertical-align: middle;\n    }\n\n    .dataframe tbody tr th {\n        vertical-align: top;\n    }\n\n    .dataframe thead th {\n        text-align: right;\n    }\n</style>\n<table border=\"1\" class=\"dataframe\">\n  <thead>\n    <tr style=\"text-align: right;\">\n      <th></th>\n      <th>0</th>\n      <th>1</th>\n      <th>2</th>\n      <th>3</th>\n      <th>4</th>\n      <th>5</th>\n      <th>6</th>\n      <th>7</th>\n      <th>8</th>\n      <th>9</th>\n      <th>10</th>\n      <th>11</th>\n      <th>12</th>\n      <th>13</th>\n    </tr>\n  </thead>\n  <tbody>\n    <tr>\n      <th>0</th>\n      <td>54</td>\n      <td>0.5</td>\n      <td>80</td>\n      <td>Benign</td>\n      <td>9</td>\n      <td>0.425820</td>\n      <td>0.052035</td>\n      <td>0.044126</td>\n      <td>0.028046</td>\n      <td>0.44997</td>\n      <td>1.00000</td>\n      <td>0.79423</td>\n      <td>0.59194</td>\n      <td>0.15127</td>\n    </tr>\n    <tr>\n      <th>1</th>\n      <td>325</td>\n      <td>6.0</td>\n      <td>80</td>\n      <td>Benign</td>\n      <td>15</td>\n      <td>0.000000</td>\n      <td>0.000000</td>\n      <td>0.000000</td>\n      <td>0.000000</td>\n      <td>1.00000</td>\n      <td>1.00000</td>\n      <td>1.00000</td>\n      <td>1.00000</td>\n      <td>1.00000</td>\n    </tr>\n    <tr>\n      <th>2</th>\n      <td>7</td>\n      <td>6.0</td>\n      <td>60</td>\n      <td>Benign</td>\n      <td>1</td>\n      <td>0.000000</td>\n      <td>0.000000</td>\n      <td>0.000000</td>\n      <td>0.000000</td>\n      <td>1.00000</td>\n      <td>0.90047</td>\n      <td>0.71260</td>\n      <td>0.39687</td>\n      <td>0.11078</td>\n    </tr>\n    <tr>\n      <th>3</th>\n      <td>4</td>\n      <td>5.0</td>\n      <td>20</td>\n      <td>Low</td>\n      <td>12</td>\n      <td>0.000000</td>\n      <td>0.000000</td>\n      <td>0.000000</td>\n      <td>0.000000</td>\n      <td>1.00000</td>\n      <td>0.90173</td>\n      <td>0.71260</td>\n      <td>0.39687</td>\n      <td>0.11078</td>\n    </tr>\n    <tr>\n      <th>4</th>\n      <td>66</td>\n      <td>2.5</td>\n      <td>60</td>\n      <td>Severe</td>\n      <td>1</td>\n      <td>0.000000</td>\n      <td>0.000000</td>\n      <td>0.000000</td>\n      <td>0.010694</td>\n      <td>0.98931</td>\n      <td>1.00000</td>\n      <td>0.98567</td>\n      <td>0.94057</td>\n      <td>0.41877</td>\n    </tr>\n    <tr>\n      <th>...</th>\n      <td>...</td>\n      <td>...</td>\n      <td>...</td>\n      <td>...</td>\n      <td>...</td>\n      <td>...</td>\n      <td>...</td>\n      <td>...</td>\n      <td>...</td>\n      <td>...</td>\n      <td>...</td>\n      <td>...</td>\n      <td>...</td>\n      <td>...</td>\n    </tr>\n    <tr>\n      <th>90475</th>\n      <td>4</td>\n      <td>2.5</td>\n      <td>80</td>\n      <td>Severe</td>\n      <td>3</td>\n      <td>0.000000</td>\n      <td>0.000000</td>\n      <td>0.000000</td>\n      <td>0.010694</td>\n      <td>0.98931</td>\n      <td>0.90179</td>\n      <td>0.71217</td>\n      <td>0.39687</td>\n      <td>0.11078</td>\n    </tr>\n    <tr>\n      <th>90476</th>\n      <td>84</td>\n      <td>5.0</td>\n      <td>40</td>\n      <td>Severe</td>\n      <td>18</td>\n      <td>0.000000</td>\n      <td>0.000000</td>\n      <td>0.000000</td>\n      <td>0.000000</td>\n      <td>1.00000</td>\n      <td>1.00000</td>\n      <td>0.86337</td>\n      <td>0.71133</td>\n      <td>0.20401</td>\n    </tr>\n    <tr>\n      <th>90477</th>\n      <td>86</td>\n      <td>1.0</td>\n      <td>40</td>\n      <td>moderate</td>\n      <td>3</td>\n      <td>0.092197</td>\n      <td>0.065878</td>\n      <td>0.058841</td>\n      <td>0.038933</td>\n      <td>0.74415</td>\n      <td>1.00000</td>\n      <td>0.96782</td>\n      <td>0.90208</td>\n      <td>0.35678</td>\n    </tr>\n    <tr>\n      <th>90478</th>\n      <td>92</td>\n      <td>0.0</td>\n      <td>80</td>\n      <td>Low</td>\n      <td>9</td>\n      <td>0.653970</td>\n      <td>0.000000</td>\n      <td>0.000000</td>\n      <td>0.000000</td>\n      <td>0.35019</td>\n      <td>1.00000</td>\n      <td>0.92496</td>\n      <td>0.81562</td>\n      <td>0.27088</td>\n    </tr>\n    <tr>\n      <th>90479</th>\n      <td>30</td>\n      <td>5.0</td>\n      <td>60</td>\n      <td>moderate</td>\n      <td>3</td>\n      <td>0.000000</td>\n      <td>0.000000</td>\n      <td>0.000000</td>\n      <td>0.000000</td>\n      <td>1.00000</td>\n      <td>0.98515</td>\n      <td>0.74740</td>\n      <td>0.50053</td>\n      <td>0.12252</td>\n    </tr>\n  </tbody>\n</table>\n<p>90480 rows × 14 columns</p>\n</div>"
     },
     "execution_count": 17,
     "metadata": {},
     "output_type": "execute_result"
    }
   ],
   "source": [
    "train_X"
   ],
   "metadata": {
    "collapsed": false,
    "ExecuteTime": {
     "end_time": "2023-11-19T10:12:20.321262177Z",
     "start_time": "2023-11-19T10:12:20.315974367Z"
    }
   }
  },
  {
   "cell_type": "code",
   "execution_count": 16,
   "metadata": {
    "colab": {
     "autoexec": {
      "startup": false,
      "wait_interval": 0
     }
    },
    "colab_type": "code",
    "id": "dvXR0GhgJGOX",
    "ExecuteTime": {
     "end_time": "2023-11-19T10:12:11.652322807Z",
     "start_time": "2023-11-19T10:12:11.571876277Z"
    }
   },
   "outputs": [
    {
     "ename": "ValueError",
     "evalue": "could not convert string to float: 'Benign'",
     "output_type": "error",
     "traceback": [
      "\u001B[0;31m---------------------------------------------------------------------------\u001B[0m",
      "\u001B[0;31mValueError\u001B[0m                                Traceback (most recent call last)",
      "\u001B[0;32m/tmp/ipykernel_37959/2032033869.py\u001B[0m in \u001B[0;36m?\u001B[0;34m()\u001B[0m\n\u001B[1;32m      1\u001B[0m \u001B[0mscaler\u001B[0m \u001B[0;34m=\u001B[0m \u001B[0mMaxAbsScaler\u001B[0m\u001B[0;34m(\u001B[0m\u001B[0;34m)\u001B[0m\u001B[0;34m\u001B[0m\u001B[0;34m\u001B[0m\u001B[0m\n\u001B[0;32m----> 2\u001B[0;31m \u001B[0mscaler\u001B[0m\u001B[0;34m.\u001B[0m\u001B[0mfit\u001B[0m\u001B[0;34m(\u001B[0m\u001B[0mtrain_X\u001B[0m\u001B[0;34m)\u001B[0m\u001B[0;34m\u001B[0m\u001B[0;34m\u001B[0m\u001B[0m\n\u001B[0m",
      "\u001B[0;32m~/Projects/Diploma/venv/lib64/python3.10/site-packages/sklearn/preprocessing/_data.py\u001B[0m in \u001B[0;36m?\u001B[0;34m(self, X, y)\u001B[0m\n\u001B[1;32m   1179\u001B[0m             \u001B[0mFitted\u001B[0m \u001B[0mscaler\u001B[0m\u001B[0;34m.\u001B[0m\u001B[0;34m\u001B[0m\u001B[0;34m\u001B[0m\u001B[0m\n\u001B[1;32m   1180\u001B[0m         \"\"\"\n\u001B[1;32m   1181\u001B[0m         \u001B[0;31m# Reset internal state before fitting\u001B[0m\u001B[0;34m\u001B[0m\u001B[0;34m\u001B[0m\u001B[0m\n\u001B[1;32m   1182\u001B[0m         \u001B[0mself\u001B[0m\u001B[0;34m.\u001B[0m\u001B[0m_reset\u001B[0m\u001B[0;34m(\u001B[0m\u001B[0;34m)\u001B[0m\u001B[0;34m\u001B[0m\u001B[0;34m\u001B[0m\u001B[0m\n\u001B[0;32m-> 1183\u001B[0;31m         \u001B[0;32mreturn\u001B[0m \u001B[0mself\u001B[0m\u001B[0;34m.\u001B[0m\u001B[0mpartial_fit\u001B[0m\u001B[0;34m(\u001B[0m\u001B[0mX\u001B[0m\u001B[0;34m,\u001B[0m \u001B[0my\u001B[0m\u001B[0;34m)\u001B[0m\u001B[0;34m\u001B[0m\u001B[0;34m\u001B[0m\u001B[0m\n\u001B[0m",
      "\u001B[0;32m~/Projects/Diploma/venv/lib64/python3.10/site-packages/sklearn/base.py\u001B[0m in \u001B[0;36m?\u001B[0;34m(estimator, *args, **kwargs)\u001B[0m\n\u001B[1;32m   1148\u001B[0m                 skip_parameter_validation=(\n\u001B[1;32m   1149\u001B[0m                     \u001B[0mprefer_skip_nested_validation\u001B[0m \u001B[0;32mor\u001B[0m \u001B[0mglobal_skip_validation\u001B[0m\u001B[0;34m\u001B[0m\u001B[0;34m\u001B[0m\u001B[0m\n\u001B[1;32m   1150\u001B[0m                 )\n\u001B[1;32m   1151\u001B[0m             ):\n\u001B[0;32m-> 1152\u001B[0;31m                 \u001B[0;32mreturn\u001B[0m \u001B[0mfit_method\u001B[0m\u001B[0;34m(\u001B[0m\u001B[0mestimator\u001B[0m\u001B[0;34m,\u001B[0m \u001B[0;34m*\u001B[0m\u001B[0margs\u001B[0m\u001B[0;34m,\u001B[0m \u001B[0;34m**\u001B[0m\u001B[0mkwargs\u001B[0m\u001B[0;34m)\u001B[0m\u001B[0;34m\u001B[0m\u001B[0;34m\u001B[0m\u001B[0m\n\u001B[0m",
      "\u001B[0;32m~/Projects/Diploma/venv/lib64/python3.10/site-packages/sklearn/preprocessing/_data.py\u001B[0m in \u001B[0;36m?\u001B[0;34m(self, X, y)\u001B[0m\n\u001B[1;32m   1204\u001B[0m         \u001B[0mself\u001B[0m \u001B[0;34m:\u001B[0m \u001B[0mobject\u001B[0m\u001B[0;34m\u001B[0m\u001B[0;34m\u001B[0m\u001B[0m\n\u001B[1;32m   1205\u001B[0m             \u001B[0mFitted\u001B[0m \u001B[0mscaler\u001B[0m\u001B[0;34m.\u001B[0m\u001B[0;34m\u001B[0m\u001B[0;34m\u001B[0m\u001B[0m\n\u001B[1;32m   1206\u001B[0m         \"\"\"\n\u001B[1;32m   1207\u001B[0m         \u001B[0mfirst_pass\u001B[0m \u001B[0;34m=\u001B[0m \u001B[0;32mnot\u001B[0m \u001B[0mhasattr\u001B[0m\u001B[0;34m(\u001B[0m\u001B[0mself\u001B[0m\u001B[0;34m,\u001B[0m \u001B[0;34m\"n_samples_seen_\"\u001B[0m\u001B[0;34m)\u001B[0m\u001B[0;34m\u001B[0m\u001B[0;34m\u001B[0m\u001B[0m\n\u001B[0;32m-> 1208\u001B[0;31m         X = self._validate_data(\n\u001B[0m\u001B[1;32m   1209\u001B[0m             \u001B[0mX\u001B[0m\u001B[0;34m,\u001B[0m\u001B[0;34m\u001B[0m\u001B[0;34m\u001B[0m\u001B[0m\n\u001B[1;32m   1210\u001B[0m             \u001B[0mreset\u001B[0m\u001B[0;34m=\u001B[0m\u001B[0mfirst_pass\u001B[0m\u001B[0;34m,\u001B[0m\u001B[0;34m\u001B[0m\u001B[0;34m\u001B[0m\u001B[0m\n\u001B[1;32m   1211\u001B[0m             \u001B[0maccept_sparse\u001B[0m\u001B[0;34m=\u001B[0m\u001B[0;34m(\u001B[0m\u001B[0;34m\"csr\"\u001B[0m\u001B[0;34m,\u001B[0m \u001B[0;34m\"csc\"\u001B[0m\u001B[0;34m)\u001B[0m\u001B[0;34m,\u001B[0m\u001B[0;34m\u001B[0m\u001B[0;34m\u001B[0m\u001B[0m\n",
      "\u001B[0;32m~/Projects/Diploma/venv/lib64/python3.10/site-packages/sklearn/base.py\u001B[0m in \u001B[0;36m?\u001B[0;34m(self, X, y, reset, validate_separately, cast_to_ndarray, **check_params)\u001B[0m\n\u001B[1;32m    601\u001B[0m                 \u001B[0mout\u001B[0m \u001B[0;34m=\u001B[0m \u001B[0my\u001B[0m\u001B[0;34m\u001B[0m\u001B[0;34m\u001B[0m\u001B[0m\n\u001B[1;32m    602\u001B[0m             \u001B[0;32melse\u001B[0m\u001B[0;34m:\u001B[0m\u001B[0;34m\u001B[0m\u001B[0;34m\u001B[0m\u001B[0m\n\u001B[1;32m    603\u001B[0m                 \u001B[0mout\u001B[0m \u001B[0;34m=\u001B[0m \u001B[0mX\u001B[0m\u001B[0;34m,\u001B[0m \u001B[0my\u001B[0m\u001B[0;34m\u001B[0m\u001B[0;34m\u001B[0m\u001B[0m\n\u001B[1;32m    604\u001B[0m         \u001B[0;32melif\u001B[0m \u001B[0;32mnot\u001B[0m \u001B[0mno_val_X\u001B[0m \u001B[0;32mand\u001B[0m \u001B[0mno_val_y\u001B[0m\u001B[0;34m:\u001B[0m\u001B[0;34m\u001B[0m\u001B[0;34m\u001B[0m\u001B[0m\n\u001B[0;32m--> 605\u001B[0;31m             \u001B[0mout\u001B[0m \u001B[0;34m=\u001B[0m \u001B[0mcheck_array\u001B[0m\u001B[0;34m(\u001B[0m\u001B[0mX\u001B[0m\u001B[0;34m,\u001B[0m \u001B[0minput_name\u001B[0m\u001B[0;34m=\u001B[0m\u001B[0;34m\"X\"\u001B[0m\u001B[0;34m,\u001B[0m \u001B[0;34m**\u001B[0m\u001B[0mcheck_params\u001B[0m\u001B[0;34m)\u001B[0m\u001B[0;34m\u001B[0m\u001B[0;34m\u001B[0m\u001B[0m\n\u001B[0m\u001B[1;32m    606\u001B[0m         \u001B[0;32melif\u001B[0m \u001B[0mno_val_X\u001B[0m \u001B[0;32mand\u001B[0m \u001B[0;32mnot\u001B[0m \u001B[0mno_val_y\u001B[0m\u001B[0;34m:\u001B[0m\u001B[0;34m\u001B[0m\u001B[0;34m\u001B[0m\u001B[0m\n\u001B[1;32m    607\u001B[0m             \u001B[0mout\u001B[0m \u001B[0;34m=\u001B[0m \u001B[0m_check_y\u001B[0m\u001B[0;34m(\u001B[0m\u001B[0my\u001B[0m\u001B[0;34m,\u001B[0m \u001B[0;34m**\u001B[0m\u001B[0mcheck_params\u001B[0m\u001B[0;34m)\u001B[0m\u001B[0;34m\u001B[0m\u001B[0;34m\u001B[0m\u001B[0m\n\u001B[1;32m    608\u001B[0m         \u001B[0;32melse\u001B[0m\u001B[0;34m:\u001B[0m\u001B[0;34m\u001B[0m\u001B[0;34m\u001B[0m\u001B[0m\n",
      "\u001B[0;32m~/Projects/Diploma/venv/lib64/python3.10/site-packages/sklearn/utils/validation.py\u001B[0m in \u001B[0;36m?\u001B[0;34m(array, accept_sparse, accept_large_sparse, dtype, order, copy, force_all_finite, ensure_2d, allow_nd, ensure_min_samples, ensure_min_features, estimator, input_name)\u001B[0m\n\u001B[1;32m    912\u001B[0m                         )\n\u001B[1;32m    913\u001B[0m                     \u001B[0marray\u001B[0m \u001B[0;34m=\u001B[0m \u001B[0mxp\u001B[0m\u001B[0;34m.\u001B[0m\u001B[0mastype\u001B[0m\u001B[0;34m(\u001B[0m\u001B[0marray\u001B[0m\u001B[0;34m,\u001B[0m \u001B[0mdtype\u001B[0m\u001B[0;34m,\u001B[0m \u001B[0mcopy\u001B[0m\u001B[0;34m=\u001B[0m\u001B[0;32mFalse\u001B[0m\u001B[0;34m)\u001B[0m\u001B[0;34m\u001B[0m\u001B[0;34m\u001B[0m\u001B[0m\n\u001B[1;32m    914\u001B[0m                 \u001B[0;32melse\u001B[0m\u001B[0;34m:\u001B[0m\u001B[0;34m\u001B[0m\u001B[0;34m\u001B[0m\u001B[0m\n\u001B[1;32m    915\u001B[0m                     \u001B[0marray\u001B[0m \u001B[0;34m=\u001B[0m \u001B[0m_asarray_with_order\u001B[0m\u001B[0;34m(\u001B[0m\u001B[0marray\u001B[0m\u001B[0;34m,\u001B[0m \u001B[0morder\u001B[0m\u001B[0;34m=\u001B[0m\u001B[0morder\u001B[0m\u001B[0;34m,\u001B[0m \u001B[0mdtype\u001B[0m\u001B[0;34m=\u001B[0m\u001B[0mdtype\u001B[0m\u001B[0;34m,\u001B[0m \u001B[0mxp\u001B[0m\u001B[0;34m=\u001B[0m\u001B[0mxp\u001B[0m\u001B[0;34m)\u001B[0m\u001B[0;34m\u001B[0m\u001B[0;34m\u001B[0m\u001B[0m\n\u001B[0;32m--> 916\u001B[0;31m             \u001B[0;32mexcept\u001B[0m \u001B[0mComplexWarning\u001B[0m \u001B[0;32mas\u001B[0m \u001B[0mcomplex_warning\u001B[0m\u001B[0;34m:\u001B[0m\u001B[0;34m\u001B[0m\u001B[0;34m\u001B[0m\u001B[0m\n\u001B[0m\u001B[1;32m    917\u001B[0m                 raise ValueError(\n\u001B[1;32m    918\u001B[0m                     \u001B[0;34m\"Complex data not supported\\n{}\\n\"\u001B[0m\u001B[0;34m.\u001B[0m\u001B[0mformat\u001B[0m\u001B[0;34m(\u001B[0m\u001B[0marray\u001B[0m\u001B[0;34m)\u001B[0m\u001B[0;34m\u001B[0m\u001B[0;34m\u001B[0m\u001B[0m\n\u001B[1;32m    919\u001B[0m                 ) from complex_warning\n",
      "\u001B[0;32m~/Projects/Diploma/venv/lib64/python3.10/site-packages/sklearn/utils/_array_api.py\u001B[0m in \u001B[0;36m?\u001B[0;34m(array, dtype, order, copy, xp)\u001B[0m\n\u001B[1;32m    376\u001B[0m         \u001B[0;31m# Use NumPy API to support order\u001B[0m\u001B[0;34m\u001B[0m\u001B[0;34m\u001B[0m\u001B[0m\n\u001B[1;32m    377\u001B[0m         \u001B[0;32mif\u001B[0m \u001B[0mcopy\u001B[0m \u001B[0;32mis\u001B[0m \u001B[0;32mTrue\u001B[0m\u001B[0;34m:\u001B[0m\u001B[0;34m\u001B[0m\u001B[0;34m\u001B[0m\u001B[0m\n\u001B[1;32m    378\u001B[0m             \u001B[0marray\u001B[0m \u001B[0;34m=\u001B[0m \u001B[0mnumpy\u001B[0m\u001B[0;34m.\u001B[0m\u001B[0marray\u001B[0m\u001B[0;34m(\u001B[0m\u001B[0marray\u001B[0m\u001B[0;34m,\u001B[0m \u001B[0morder\u001B[0m\u001B[0;34m=\u001B[0m\u001B[0morder\u001B[0m\u001B[0;34m,\u001B[0m \u001B[0mdtype\u001B[0m\u001B[0;34m=\u001B[0m\u001B[0mdtype\u001B[0m\u001B[0;34m)\u001B[0m\u001B[0;34m\u001B[0m\u001B[0;34m\u001B[0m\u001B[0m\n\u001B[1;32m    379\u001B[0m         \u001B[0;32melse\u001B[0m\u001B[0;34m:\u001B[0m\u001B[0;34m\u001B[0m\u001B[0;34m\u001B[0m\u001B[0m\n\u001B[0;32m--> 380\u001B[0;31m             \u001B[0marray\u001B[0m \u001B[0;34m=\u001B[0m \u001B[0mnumpy\u001B[0m\u001B[0;34m.\u001B[0m\u001B[0masarray\u001B[0m\u001B[0;34m(\u001B[0m\u001B[0marray\u001B[0m\u001B[0;34m,\u001B[0m \u001B[0morder\u001B[0m\u001B[0;34m=\u001B[0m\u001B[0morder\u001B[0m\u001B[0;34m,\u001B[0m \u001B[0mdtype\u001B[0m\u001B[0;34m=\u001B[0m\u001B[0mdtype\u001B[0m\u001B[0;34m)\u001B[0m\u001B[0;34m\u001B[0m\u001B[0;34m\u001B[0m\u001B[0m\n\u001B[0m\u001B[1;32m    381\u001B[0m \u001B[0;34m\u001B[0m\u001B[0m\n\u001B[1;32m    382\u001B[0m         \u001B[0;31m# At this point array is a NumPy ndarray. We convert it to an array\u001B[0m\u001B[0;34m\u001B[0m\u001B[0;34m\u001B[0m\u001B[0m\n\u001B[1;32m    383\u001B[0m         \u001B[0;31m# container that is consistent with the input's namespace.\u001B[0m\u001B[0;34m\u001B[0m\u001B[0;34m\u001B[0m\u001B[0m\n",
      "\u001B[0;32m~/Projects/Diploma/venv/lib64/python3.10/site-packages/pandas/core/generic.py\u001B[0m in \u001B[0;36m?\u001B[0;34m(self, dtype)\u001B[0m\n\u001B[1;32m   2082\u001B[0m     \u001B[0;32mdef\u001B[0m \u001B[0m__array__\u001B[0m\u001B[0;34m(\u001B[0m\u001B[0mself\u001B[0m\u001B[0;34m,\u001B[0m \u001B[0mdtype\u001B[0m\u001B[0;34m:\u001B[0m \u001B[0mnpt\u001B[0m\u001B[0;34m.\u001B[0m\u001B[0mDTypeLike\u001B[0m \u001B[0;34m|\u001B[0m \u001B[0;32mNone\u001B[0m \u001B[0;34m=\u001B[0m \u001B[0;32mNone\u001B[0m\u001B[0;34m)\u001B[0m \u001B[0;34m->\u001B[0m \u001B[0mnp\u001B[0m\u001B[0;34m.\u001B[0m\u001B[0mndarray\u001B[0m\u001B[0;34m:\u001B[0m\u001B[0;34m\u001B[0m\u001B[0;34m\u001B[0m\u001B[0m\n\u001B[1;32m   2083\u001B[0m         \u001B[0mvalues\u001B[0m \u001B[0;34m=\u001B[0m \u001B[0mself\u001B[0m\u001B[0;34m.\u001B[0m\u001B[0m_values\u001B[0m\u001B[0;34m\u001B[0m\u001B[0;34m\u001B[0m\u001B[0m\n\u001B[0;32m-> 2084\u001B[0;31m         \u001B[0marr\u001B[0m \u001B[0;34m=\u001B[0m \u001B[0mnp\u001B[0m\u001B[0;34m.\u001B[0m\u001B[0masarray\u001B[0m\u001B[0;34m(\u001B[0m\u001B[0mvalues\u001B[0m\u001B[0;34m,\u001B[0m \u001B[0mdtype\u001B[0m\u001B[0;34m=\u001B[0m\u001B[0mdtype\u001B[0m\u001B[0;34m)\u001B[0m\u001B[0;34m\u001B[0m\u001B[0;34m\u001B[0m\u001B[0m\n\u001B[0m\u001B[1;32m   2085\u001B[0m         if (\n\u001B[1;32m   2086\u001B[0m             \u001B[0mastype_is_view\u001B[0m\u001B[0;34m(\u001B[0m\u001B[0mvalues\u001B[0m\u001B[0;34m.\u001B[0m\u001B[0mdtype\u001B[0m\u001B[0;34m,\u001B[0m \u001B[0marr\u001B[0m\u001B[0;34m.\u001B[0m\u001B[0mdtype\u001B[0m\u001B[0;34m)\u001B[0m\u001B[0;34m\u001B[0m\u001B[0;34m\u001B[0m\u001B[0m\n\u001B[1;32m   2087\u001B[0m             \u001B[0;32mand\u001B[0m \u001B[0musing_copy_on_write\u001B[0m\u001B[0;34m(\u001B[0m\u001B[0;34m)\u001B[0m\u001B[0;34m\u001B[0m\u001B[0;34m\u001B[0m\u001B[0m\n",
      "\u001B[0;31mValueError\u001B[0m: could not convert string to float: 'Benign'"
     ]
    }
   ],
   "source": [
    "scaler = MaxAbsScaler()\n",
    "scaler.fit(train_X)\n",
    "train_X = scaler.transform(train_X)\n",
    "test_X = scaler.transform(test_X)"
   ]
  },
  {
   "cell_type": "code",
   "execution_count": null,
   "outputs": [],
   "source": [],
   "metadata": {
    "collapsed": false
   }
  },
  {
   "cell_type": "code",
   "execution_count": 32,
   "metadata": {},
   "outputs": [],
   "source": [
    "# poly = PolynomialFeatures(2)\n",
    "# train_X = poly.fit_transform(train_X)\n",
    "# test_X = poly.fit_transform(test_X)"
   ]
  },
  {
   "cell_type": "code",
   "execution_count": 9,
   "metadata": {
    "ExecuteTime": {
     "end_time": "2023-11-19T10:10:16.300078810Z",
     "start_time": "2023-11-19T10:10:16.259011328Z"
    }
   },
   "outputs": [],
   "source": [
    "from sklearn.base import BaseEstimator, ClassifierMixin\n",
    "\n",
    "\n",
    "class GRNN(BaseEstimator, ClassifierMixin):\n",
    "    def __init__(self, name = \"GRNN\", sigma = 0.1):\n",
    "        self.name = name\n",
    "        self.sigma = 2 * np.power(sigma, 2)\n",
    "        \n",
    "    def predict(self, instance_X, train_X, train_y):\n",
    "        gausian_distances = np.exp(-np.power(np.sqrt((np.square(train_X-instance_X).sum(axis=1))),2)\\\n",
    "                                   / self.sigma)\n",
    "        gausian_distances_sum = gausian_distances.sum()\n",
    "        if gausian_distances_sum < math.pow(10, -7): gausian_distances_sum = math.pow(10, -7)\n",
    "        result = np.multiply(gausian_distances, train_y).sum() / gausian_distances_sum\n",
    "        return result"
   ]
  },
  {
   "cell_type": "code",
   "execution_count": 40,
   "metadata": {},
   "outputs": [],
   "source": [
    "#np.savetxt('C:/Users/User/Desktop/gtm/GTM_PR.csv', pred_y, delimiter=',', fmt='%1.5f')"
   ]
  },
  {
   "cell_type": "code",
   "execution_count": 41,
   "metadata": {
    "scrolled": true
   },
   "outputs": [
    {
     "name": "stdout",
     "output_type": "stream",
     "text": [
      "--- 5194.133347272873 seconds ---\n",
      "Sigma: 0.1\n",
      "Testing errors:\n",
      "MAPE: 2.1324410152935016\n",
      "RMSE: 2.159356887182757\n"
     ]
    }
   ],
   "source": [
    "\n",
    "from sklearn.metrics import mean_absolute_percentage_error, max_error, median_absolute_error, r2_score, \\\n",
    "    mean_absolute_error\n",
    "from sklearn.metrics import mean_squared_error\n",
    "\n",
    "for s in np.arange(0.1, 10, 0.1):\n",
    "    grnn = GRNN(sigma=s)\n",
    "    start_time = time.time()\n",
    "    predictions = np.apply_along_axis(lambda i: grnn.predict(i, train_X, train_y), axis=1, arr=test_X)\n",
    "    print(\"--- %s seconds ---\" % (time.time() - start_time))\n",
    "    print(\"Sigma: \" + str(s))\n",
    "    print('Testing errors:')\n",
    "    print(\"MAPE: \" + str(mean_absolute_percentage_error(test_y, predictions)))\n",
    "    print(\"RMSE: \" + str(root_mean_squared_error(test_y, predictions)))\n",
    "    print()\n",
    "    \n",
    "    \n",
    "    print(\"MAPE: \" + str(mean_absolute_percentage_error(test_y, test_y_final_predictions)))\n",
    "    print(\"RMSE: \" + str(root_mean_squared_error(test_y, test_y_final_predictions)))\n",
    "    print(\"MAE: \" + str(mean_absolute_error(test_y, test_y_final_predictions)))\n",
    "    print(\"R2: \" + str(r2_score(test_y, test_y_final_predictions)))\n",
    "    print(\"MSE: \" + str(mean_squared_error(test_y, test_y_final_predictions)))\n",
    "    print(\"ME: \" + str(max_error(test_y, test_y_final_predictions)))\n",
    "    print(\"MedAE: \" + str(median_absolute_error(test_y, test_y_final_predictions)))"
   ]
  },
  {
   "cell_type": "code",
   "execution_count": 42,
   "metadata": {},
   "outputs": [],
   "source": [
    "# np.savetxt('C:/Users/User/Desktop/gtm/GRNN.csv', pred_y, delimiter=',', fmt='%1.5f')"
   ]
  },
  {
   "cell_type": "code",
   "execution_count": 43,
   "metadata": {
    "colab": {
     "autoexec": {
      "startup": false,
      "wait_interval": 0
     },
     "base_uri": "https://localhost:8080/",
     "height": 93,
     "output_extras": [
      {
       "item_id": 1
      },
      {
       "item_id": 2
      }
     ]
    },
    "colab_type": "code",
    "executionInfo": {
     "elapsed": 30116,
     "status": "ok",
     "timestamp": 1519061469371,
     "user": {
      "displayName": "Pavlo Vitynsky",
      "photoUrl": "//lh4.googleusercontent.com/-0gmYQKkdSQA/AAAAAAAAAAI/AAAAAAAAAHs/sPm8IyH3FLQ/s50-c-k-no/photo.jpg",
      "userId": "105745679178520700853"
     },
     "user_tz": -120
    },
    "id": "e0G-XA2CdJsI",
    "outputId": "394a94b1-b1f1-44f1-9537-fd45aa15494f"
   },
   "outputs": [
    {
     "name": "stderr",
     "output_type": "stream",
     "text": [
      "C:\\Users\\ivani\\anaconda3\\lib\\site-packages\\sklearn\\svm\\_base.py:255: ConvergenceWarning: Solver terminated early (max_iter=200).  Consider pre-processing your data with StandardScaler or MinMaxScaler.\n",
      "  warnings.warn('Solver terminated early (max_iter=%i).'\n"
     ]
    },
    {
     "name": "stdout",
     "output_type": "stream",
     "text": [
      "--- 6.470304727554321 seconds ---\n",
      "Training erros:\n",
      "MAPE: 11.258999530561468\n",
      "RMSE: 9.567016806713871\n",
      "\n",
      "Testing errors:\n",
      "MAPE: 11.25495015795211\n",
      "RMSE: 9.578003365045234\n"
     ]
    }
   ],
   "source": [
    "from sklearn.svm import SVR\n",
    "svr = SVR(kernel='rbf', gamma='auto', coef0=0.0, epsilon=0.001, max_iter=-1)\n",
    "start_time = time.time()\n",
    "svr.fit(train_X, train_y)\n",
    "print(\"--- %s seconds ---\" % (time.time() - start_time))\n",
    "train_pred_y = svr.predict(train_X)\n",
    "pred_y = svr.predict(test_X)\n",
    "\n",
    "print('Training erros:')\n",
    "print(\"MAPE: \" + str(mean_absolute_percentage_error(train_y, train_pred_y)))\n",
    "print(\"RMSE: \" + str(root_mean_squared_error(train_y, train_pred_y)))\n",
    "print()\n",
    "print('Testing errors:')\n",
    "print(\"MAPE: \" + str(mean_absolute_percentage_error(test_y, pred_y)))\n",
    "print(\"RMSE: \" + str(root_mean_squared_error(test_y, pred_y)))"
   ]
  },
  {
   "cell_type": "code",
   "execution_count": 44,
   "metadata": {},
   "outputs": [
    {
     "ename": "FileNotFoundError",
     "evalue": "[Errno 2] No such file or directory: 'C:/Users/User/Desktop/gtm/SVM.csv'",
     "output_type": "error",
     "traceback": [
      "\u001B[1;31m---------------------------------------------------------------------------\u001B[0m",
      "\u001B[1;31mFileNotFoundError\u001B[0m                         Traceback (most recent call last)",
      "\u001B[1;32m~\\AppData\\Local\\Temp/ipykernel_17168/1338127818.py\u001B[0m in \u001B[0;36m<module>\u001B[1;34m\u001B[0m\n\u001B[1;32m----> 1\u001B[1;33m \u001B[0mnp\u001B[0m\u001B[1;33m.\u001B[0m\u001B[0msavetxt\u001B[0m\u001B[1;33m(\u001B[0m\u001B[1;34m'C:/Users/User/Desktop/gtm/SVM.csv'\u001B[0m\u001B[1;33m,\u001B[0m \u001B[0mpred_y\u001B[0m\u001B[1;33m,\u001B[0m \u001B[0mdelimiter\u001B[0m\u001B[1;33m=\u001B[0m\u001B[1;34m','\u001B[0m\u001B[1;33m,\u001B[0m \u001B[0mfmt\u001B[0m\u001B[1;33m=\u001B[0m\u001B[1;34m'%1.5f'\u001B[0m\u001B[1;33m)\u001B[0m\u001B[1;33m\u001B[0m\u001B[1;33m\u001B[0m\u001B[0m\n\u001B[0m",
      "\u001B[1;32m<__array_function__ internals>\u001B[0m in \u001B[0;36msavetxt\u001B[1;34m(*args, **kwargs)\u001B[0m\n",
      "\u001B[1;32m~\\anaconda3\\lib\\site-packages\\numpy\\lib\\npyio.py\u001B[0m in \u001B[0;36msavetxt\u001B[1;34m(fname, X, fmt, delimiter, newline, header, footer, comments, encoding)\u001B[0m\n\u001B[0;32m   1364\u001B[0m     \u001B[1;32mif\u001B[0m \u001B[0m_is_string_like\u001B[0m\u001B[1;33m(\u001B[0m\u001B[0mfname\u001B[0m\u001B[1;33m)\u001B[0m\u001B[1;33m:\u001B[0m\u001B[1;33m\u001B[0m\u001B[1;33m\u001B[0m\u001B[0m\n\u001B[0;32m   1365\u001B[0m         \u001B[1;31m# datasource doesn't support creating a new file ...\u001B[0m\u001B[1;33m\u001B[0m\u001B[1;33m\u001B[0m\u001B[0m\n\u001B[1;32m-> 1366\u001B[1;33m         \u001B[0mopen\u001B[0m\u001B[1;33m(\u001B[0m\u001B[0mfname\u001B[0m\u001B[1;33m,\u001B[0m \u001B[1;34m'wt'\u001B[0m\u001B[1;33m)\u001B[0m\u001B[1;33m.\u001B[0m\u001B[0mclose\u001B[0m\u001B[1;33m(\u001B[0m\u001B[1;33m)\u001B[0m\u001B[1;33m\u001B[0m\u001B[1;33m\u001B[0m\u001B[0m\n\u001B[0m\u001B[0;32m   1367\u001B[0m         \u001B[0mfh\u001B[0m \u001B[1;33m=\u001B[0m \u001B[0mnp\u001B[0m\u001B[1;33m.\u001B[0m\u001B[0mlib\u001B[0m\u001B[1;33m.\u001B[0m\u001B[0m_datasource\u001B[0m\u001B[1;33m.\u001B[0m\u001B[0mopen\u001B[0m\u001B[1;33m(\u001B[0m\u001B[0mfname\u001B[0m\u001B[1;33m,\u001B[0m \u001B[1;34m'wt'\u001B[0m\u001B[1;33m,\u001B[0m \u001B[0mencoding\u001B[0m\u001B[1;33m=\u001B[0m\u001B[0mencoding\u001B[0m\u001B[1;33m)\u001B[0m\u001B[1;33m\u001B[0m\u001B[1;33m\u001B[0m\u001B[0m\n\u001B[0;32m   1368\u001B[0m         \u001B[0mown_fh\u001B[0m \u001B[1;33m=\u001B[0m \u001B[1;32mTrue\u001B[0m\u001B[1;33m\u001B[0m\u001B[1;33m\u001B[0m\u001B[0m\n",
      "\u001B[1;31mFileNotFoundError\u001B[0m: [Errno 2] No such file or directory: 'C:/Users/User/Desktop/gtm/SVM.csv'"
     ]
    }
   ],
   "source": [
    "np.savetxt('C:/Users/User/Desktop/gtm/SVM.csv', pred_y, delimiter=',', fmt='%1.5f')"
   ]
  },
  {
   "cell_type": "code",
   "execution_count": null,
   "metadata": {
    "colab": {
     "autoexec": {
      "startup": false,
      "wait_interval": 0
     },
     "base_uri": "https://localhost:8080/",
     "height": 93,
     "output_extras": [
      {
       "item_id": 1
      },
      {
       "item_id": 2
      }
     ]
    },
    "colab_type": "code",
    "executionInfo": {
     "elapsed": 2009,
     "status": "ok",
     "timestamp": 1519061471704,
     "user": {
      "displayName": "Pavlo Vitynsky",
      "photoUrl": "//lh4.googleusercontent.com/-0gmYQKkdSQA/AAAAAAAAAAI/AAAAAAAAAHs/sPm8IyH3FLQ/s50-c-k-no/photo.jpg",
      "userId": "105745679178520700853"
     },
     "user_tz": -120
    },
    "id": "ML6IaOy5Lssd",
    "outputId": "3619a388-527d-4d91-aead-b7311836255d",
    "scrolled": true
   },
   "outputs": [],
   "source": [
    "from sklearn.linear_model import SGDRegressor\n",
    "sgd = SGDRegressor(loss = 'squared_loss', alpha=0.0001)\n",
    "start_time = time.time()\n",
    "sgd.fit(train_X, train_y)\n",
    "print(\"--- %s seconds ---\" % (time.time() - start_time))\n",
    "train_pred_y = sgd.predict(train_X)\n",
    "pred_y = sgd.predict(test_X)\n",
    "\n",
    "print('Training erros:')\n",
    "print(\"MAPE: \" + str(mean_absolute_percentage_error(train_y, train_pred_y)))\n",
    "print(\"RMSE: \" + str(root_mean_squared_error(train_y, train_pred_y)))\n",
    "print()\n",
    "print('Testing errors:')\n",
    "print(\"MAPE: \" + str(mean_absolute_percentage_error(test_y, pred_y)))\n",
    "print(\"RMSE: \" + str(root_mean_squared_error(test_y, pred_y)))"
   ]
  },
  {
   "cell_type": "code",
   "execution_count": null,
   "metadata": {},
   "outputs": [],
   "source": [
    "np.savetxt('C:/Users/User/Desktop/gtm/LR+Grad+PI.csv', pred_y, delimiter=',', fmt='%1.5f')"
   ]
  },
  {
   "cell_type": "code",
   "execution_count": null,
   "metadata": {
    "colab": {
     "autoexec": {
      "startup": false,
      "wait_interval": 0
     },
     "base_uri": "https://localhost:8080/",
     "height": 36,
     "output_extras": [
      {
       "item_id": 1
      }
     ]
    },
    "colab_type": "code",
    "executionInfo": {
     "elapsed": 25787,
     "status": "ok",
     "timestamp": 1519061497786,
     "user": {
      "displayName": "Pavlo Vitynsky",
      "photoUrl": "//lh4.googleusercontent.com/-0gmYQKkdSQA/AAAAAAAAAAI/AAAAAAAAAHs/sPm8IyH3FLQ/s50-c-k-no/photo.jpg",
      "userId": "105745679178520700853"
     },
     "user_tz": -120
    },
    "id": "RuD5LSQY0-2F",
    "outputId": "b22b0ab5-726f-4f06-ece3-cf4a96981a2b"
   },
   "outputs": [],
   "source": [
    "from sklearn.ensemble import AdaBoostRegressor\n",
    "from sklearn.tree import DecisionTreeRegressor\n",
    "\n",
    "adaboost = AdaBoostRegressor(DecisionTreeRegressor(max_depth=4),\n",
    "                          n_estimators=300)\n",
    "start_time = time.time()\n",
    "adaboost.fit(train_X, train_y)\n",
    "print(\"--- %s seconds ---\" % (time.time() - start_time))\n",
    "train_pred_y = adaboost.predict(train_X)\n",
    "pred_y = adaboost.predict(test_X)\n",
    "\n",
    "print('Training erros:')\n",
    "print(\"MAPE: \" + str(mean_absolute_percentage_error(train_y, train_pred_y)))\n",
    "print(\"RMSE: \" + str(root_mean_squared_error(train_y, train_pred_y)))\n",
    "print()\n",
    "print('Testing errors:')\n",
    "print(\"MAPE: \" + str(mean_absolute_percentage_error(test_y, pred_y)))\n",
    "print(\"RMSE: \" + str(root_mean_squared_error(test_y, pred_y)))"
   ]
  },
  {
   "cell_type": "code",
   "execution_count": null,
   "metadata": {},
   "outputs": [],
   "source": [
    "np.savetxt('C:/Users/User/Desktop/gtm/AdaBoost.csv', pred_y, delimiter=',', fmt='%1.5f')"
   ]
  },
  {
   "cell_type": "code",
   "execution_count": null,
   "metadata": {
    "colab": {
     "autoexec": {
      "startup": false,
      "wait_interval": 0
     },
     "base_uri": "https://localhost:8080/",
     "height": 36,
     "output_extras": [
      {
       "item_id": 1
      }
     ]
    },
    "colab_type": "code",
    "executionInfo": {
     "elapsed": 18237,
     "status": "ok",
     "timestamp": 1519061516530,
     "user": {
      "displayName": "Pavlo Vitynsky",
      "photoUrl": "//lh4.googleusercontent.com/-0gmYQKkdSQA/AAAAAAAAAAI/AAAAAAAAAHs/sPm8IyH3FLQ/s50-c-k-no/photo.jpg",
      "userId": "105745679178520700853"
     },
     "user_tz": -120
    },
    "id": "qsIQzqV033bQ",
    "outputId": "7df95ef0-4614-41de-b357-7b98a68fbea8"
   },
   "outputs": [],
   "source": [
    "from sklearn.ensemble import RandomForestRegressor\n",
    "\n",
    "regr = RandomForestRegressor(max_depth=5, random_state=0)\n",
    "start_time = time.time()\n",
    "regr.fit(train_X, train_y)\n",
    "print(\"--- %s seconds ---\" % (time.time() - start_time))\n",
    "train_pred_y = regr.predict(train_X)\n",
    "pred_y = regr.predict(test_X)\n",
    "\n",
    "print('Training erros:')\n",
    "print(\"MAPE: \" + str(mean_absolute_percentage_error(train_y, train_pred_y)))\n",
    "print(\"RMSE: \" + str(root_mean_squared_error(train_y, train_pred_y)))\n",
    "print()\n",
    "print('Testing errors:')\n",
    "print(\"MAPE: \" + str(mean_absolute_percentage_error(test_y, pred_y)))\n",
    "print(\"RMSE: \" + str(root_mean_squared_error(test_y, pred_y)))"
   ]
  },
  {
   "cell_type": "code",
   "execution_count": null,
   "metadata": {},
   "outputs": [],
   "source": [
    "np.savetxt('C:/Users/User/Desktop/gtm/RandomForest.csv', pred_y, delimiter=',', fmt='%1.5f')"
   ]
  },
  {
   "cell_type": "code",
   "execution_count": null,
   "metadata": {
    "colab": {
     "autoexec": {
      "startup": false,
      "wait_interval": 0
     },
     "base_uri": "https://localhost:8080/",
     "height": 36,
     "output_extras": [
      {
       "item_id": 1
      }
     ]
    },
    "colab_type": "code",
    "executionInfo": {
     "elapsed": 1217289,
     "status": "ok",
     "timestamp": 1519062734750,
     "user": {
      "displayName": "Pavlo Vitynsky",
      "photoUrl": "//lh4.googleusercontent.com/-0gmYQKkdSQA/AAAAAAAAAAI/AAAAAAAAAHs/sPm8IyH3FLQ/s50-c-k-no/photo.jpg",
      "userId": "105745679178520700853"
     },
     "user_tz": -120
    },
    "id": "oITM5RgY4daQ",
    "outputId": "b9252ad5-8aa5-4807-a466-0dd176502c81"
   },
   "outputs": [],
   "source": [
    "from sklearn.neural_network import MLPRegressor\n",
    "mlp = MLPRegressor(hidden_layer_sizes=(100, 40, 20), activation='relu',\\\n",
    "             solver='adam', alpha=0.0001, batch_size='auto', max_iter=200)\n",
    "start_time = time.time()\n",
    "mlp.fit(train_X, train_y)\n",
    "print(\"--- %s seconds ---\" % (time.time() - start_time))\n",
    "train_pred_y = mlp.predict(train_X)\n",
    "pred_y = mlp.predict(test_X)\n",
    "\n",
    "print('Training erros:')\n",
    "print(\"MAPE: \" + str(mean_absolute_percentage_error(train_y, train_pred_y)))\n",
    "print(\"RMSE: \" + str(root_mean_squared_error(train_y, train_pred_y)))\n",
    "print()\n",
    "print('Testing errors:')\n",
    "print(\"MAPE: \" + str(mean_absolute_percentage_error(test_y, pred_y)))\n",
    "print(\"RMSE: \" + str(root_mean_squared_error(test_y, pred_y)))"
   ]
  },
  {
   "cell_type": "code",
   "execution_count": null,
   "metadata": {},
   "outputs": [],
   "source": [
    "np.savetxt('C:/Users/User/Desktop/gtm/MPL.csv', pred_y, delimiter=',', fmt='%1.5f')"
   ]
  },
  {
   "cell_type": "code",
   "execution_count": null,
   "metadata": {},
   "outputs": [],
   "source": [
    "+ ridge regression\n",
    "+lasso regression"
   ]
  },
  {
   "cell_type": "code",
   "execution_count": null,
   "metadata": {},
   "outputs": [],
   "source": []
  }
 ],
 "metadata": {
  "accelerator": "GPU",
  "colab": {
   "collapsed_sections": [],
   "default_view": {},
   "name": "prediction.ipynb",
   "provenance": [
    {
     "file_id": "15IF7ZSCRPKqZuS9OrcnRqtwPL5FIfksv",
     "timestamp": 1518962279204
    }
   ],
   "version": "0.3.2",
   "views": {}
  },
  "kernelspec": {
   "display_name": "Python 3 (ipykernel)",
   "language": "python",
   "name": "python3"
  },
  "language_info": {
   "codemirror_mode": {
    "name": "ipython",
    "version": 3
   },
   "file_extension": ".py",
   "mimetype": "text/x-python",
   "name": "python",
   "nbconvert_exporter": "python",
   "pygments_lexer": "ipython3",
   "version": "3.11.3"
  }
 },
 "nbformat": 4,
 "nbformat_minor": 1
}
